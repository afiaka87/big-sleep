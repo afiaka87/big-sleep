{
 "cells": [
  {
   "cell_type": "code",
   "execution_count": 5,
   "metadata": {},
   "outputs": [
    {
     "name": "stdout",
     "output_type": "stream",
     "text": [
      "Creation of the directory /root/big-sleep-pycharm/output failed\n",
      "Successfully changed into directory /root/big-sleep-pycharm/output\n",
      "setting seed of 317930\n"
     ]
    },
    {
     "name": "stderr",
     "output_type": "stream",
     "text": [
      "<>:9: SyntaxWarning: \"is not\" with a literal. Did you mean \"!=\"?\n",
      "<>:9: SyntaxWarning: \"is not\" with a literal. Did you mean \"!=\"?\n",
      "<ipython-input-5-f5f167707c85>:9: SyntaxWarning: \"is not\" with a literal. Did you mean \"!=\"?\n",
      "  texts = [non_empty_phrase for non_empty_phrase in user_provided_phrases if non_empty_phrase is not \"\"]\n",
      "epochs:   0%|          | 0/4 [00:00<?, ?it/s]\n",
      "iteration:   0%|          | 0/300 [00:00<?, ?it/s]\u001b[A\n",
      "loss: tensor([-13.6028], device='cuda:0', grad_fn=<AddBackward0>):   0%|          | 0/300 [00:00<?, ?it/s]\u001b[A\n",
      "loss: tensor([-13.6028], device='cuda:0', grad_fn=<AddBackward0>):   0%|          | 1/300 [00:00<03:40,  1.35it/s]\u001b[A"
     ]
    },
    {
     "name": "stdout",
     "output_type": "stream",
     "text": [
      "image updated at \"./210215-053340-And_blood-black_nothingness_began_to_spin_a_system_of_cells_interlinked.png\"\n"
     ]
    },
    {
     "name": "stderr",
     "output_type": "stream",
     "text": [
      "\n",
      "loss: tensor([-15.6512], device='cuda:0', grad_fn=<AddBackward0>):   0%|          | 1/300 [00:01<03:40,  1.35it/s]\u001b[A\n",
      "loss: tensor([-15.6512], device='cuda:0', grad_fn=<AddBackward0>):   1%|          | 2/300 [00:01<03:32,  1.41it/s]\u001b[A"
     ]
    },
    {
     "name": "stdout",
     "output_type": "stream",
     "text": [
      "image updated at \"./210215-053340-And_blood-black_nothingness_began_to_spin_a_system_of_cells_interlinked.png\"\n"
     ]
    },
    {
     "name": "stderr",
     "output_type": "stream",
     "text": [
      "\n",
      "loss: tensor([-18.4048], device='cuda:0', grad_fn=<AddBackward0>):   1%|          | 2/300 [00:02<03:32,  1.41it/s]\u001b[A\n",
      "loss: tensor([-18.4048], device='cuda:0', grad_fn=<AddBackward0>):   1%|          | 3/300 [00:02<03:30,  1.41it/s]\u001b[A"
     ]
    },
    {
     "name": "stdout",
     "output_type": "stream",
     "text": [
      "image updated at \"./210215-053340-And_blood-black_nothingness_began_to_spin_a_system_of_cells_interlinked.png\"\n"
     ]
    },
    {
     "name": "stderr",
     "output_type": "stream",
     "text": [
      "\n",
      "loss: tensor([-16.6764], device='cuda:0', grad_fn=<AddBackward0>):   1%|          | 3/300 [00:02<03:30,  1.41it/s]\u001b[A\n",
      "loss: tensor([-16.6764], device='cuda:0', grad_fn=<AddBackward0>):   1%|▏         | 4/300 [00:02<03:09,  1.56it/s]\u001b[A"
     ]
    },
    {
     "name": "stdout",
     "output_type": "stream",
     "text": [
      "image updated at \"./210215-053340-And_blood-black_nothingness_began_to_spin_a_system_of_cells_interlinked.png\"\n"
     ]
    },
    {
     "name": "stderr",
     "output_type": "stream",
     "text": [
      "\n",
      "loss: tensor([-17.5431], device='cuda:0', grad_fn=<AddBackward0>):   1%|▏         | 4/300 [00:03<03:09,  1.56it/s]\u001b[A\n",
      "loss: tensor([-17.5431], device='cuda:0', grad_fn=<AddBackward0>):   2%|▏         | 5/300 [00:03<02:57,  1.66it/s]\u001b[A"
     ]
    },
    {
     "name": "stdout",
     "output_type": "stream",
     "text": [
      "image updated at \"./210215-053340-And_blood-black_nothingness_began_to_spin_a_system_of_cells_interlinked.png\"\n"
     ]
    },
    {
     "name": "stderr",
     "output_type": "stream",
     "text": [
      "\n",
      "loss: tensor([-18.0863], device='cuda:0', grad_fn=<AddBackward0>):   2%|▏         | 5/300 [00:03<02:57,  1.66it/s]\u001b[A\n",
      "loss: tensor([-18.0863], device='cuda:0', grad_fn=<AddBackward0>):   2%|▏         | 6/300 [00:03<02:49,  1.73it/s]\u001b[A"
     ]
    },
    {
     "name": "stdout",
     "output_type": "stream",
     "text": [
      "image updated at \"./210215-053340-And_blood-black_nothingness_began_to_spin_a_system_of_cells_interlinked.png\"\n"
     ]
    },
    {
     "name": "stderr",
     "output_type": "stream",
     "text": [
      "\n",
      "loss: tensor([-19.2119], device='cuda:0', grad_fn=<AddBackward0>):   2%|▏         | 6/300 [00:04<02:49,  1.73it/s]\u001b[A\n",
      "loss: tensor([-19.2119], device='cuda:0', grad_fn=<AddBackward0>):   2%|▏         | 7/300 [00:04<02:57,  1.65it/s]\u001b[A"
     ]
    },
    {
     "name": "stdout",
     "output_type": "stream",
     "text": [
      "image updated at \"./210215-053340-And_blood-black_nothingness_began_to_spin_a_system_of_cells_interlinked.png\"\n"
     ]
    },
    {
     "name": "stderr",
     "output_type": "stream",
     "text": [
      "\n",
      "loss: tensor([-20.7490], device='cuda:0', grad_fn=<AddBackward0>):   2%|▏         | 7/300 [00:05<02:57,  1.65it/s]\u001b[A\n",
      "loss: tensor([-20.7490], device='cuda:0', grad_fn=<AddBackward0>):   3%|▎         | 8/300 [00:05<03:01,  1.61it/s]\u001b[A"
     ]
    },
    {
     "name": "stdout",
     "output_type": "stream",
     "text": [
      "image updated at \"./210215-053340-And_blood-black_nothingness_began_to_spin_a_system_of_cells_interlinked.png\"\n"
     ]
    },
    {
     "name": "stderr",
     "output_type": "stream",
     "text": [
      "\n",
      "loss: tensor([-21.4876], device='cuda:0', grad_fn=<AddBackward0>):   3%|▎         | 8/300 [00:05<03:01,  1.61it/s]\u001b[A\n",
      "loss: tensor([-21.4876], device='cuda:0', grad_fn=<AddBackward0>):   3%|▎         | 9/300 [00:05<03:03,  1.59it/s]\u001b[A"
     ]
    },
    {
     "name": "stdout",
     "output_type": "stream",
     "text": [
      "image updated at \"./210215-053340-And_blood-black_nothingness_began_to_spin_a_system_of_cells_interlinked.png\"\n"
     ]
    },
    {
     "name": "stderr",
     "output_type": "stream",
     "text": [
      "\n",
      "loss: tensor([-21.6426], device='cuda:0', grad_fn=<AddBackward0>):   3%|▎         | 9/300 [00:06<03:03,  1.59it/s]\u001b[A\n",
      "loss: tensor([-21.6426], device='cuda:0', grad_fn=<AddBackward0>):   3%|▎         | 10/300 [00:06<03:03,  1.58it/s]\u001b[A"
     ]
    },
    {
     "name": "stdout",
     "output_type": "stream",
     "text": [
      "image updated at \"./210215-053340-And_blood-black_nothingness_began_to_spin_a_system_of_cells_interlinked.png\"\n"
     ]
    },
    {
     "name": "stderr",
     "output_type": "stream",
     "text": [
      "\n",
      "loss: tensor([-22.0319], device='cuda:0', grad_fn=<AddBackward0>):   3%|▎         | 10/300 [00:06<03:03,  1.58it/s]\u001b[A\n",
      "loss: tensor([-22.0319], device='cuda:0', grad_fn=<AddBackward0>):   4%|▎         | 11/300 [00:06<03:01,  1.59it/s]\u001b[A"
     ]
    },
    {
     "name": "stdout",
     "output_type": "stream",
     "text": [
      "image updated at \"./210215-053340-And_blood-black_nothingness_began_to_spin_a_system_of_cells_interlinked.png\"\n"
     ]
    },
    {
     "name": "stderr",
     "output_type": "stream",
     "text": [
      "\n",
      "loss: tensor([-22.2453], device='cuda:0', grad_fn=<AddBackward0>):   4%|▎         | 11/300 [00:07<03:01,  1.59it/s]\u001b[A\n",
      "loss: tensor([-22.2453], device='cuda:0', grad_fn=<AddBackward0>):   4%|▍         | 12/300 [00:07<02:58,  1.61it/s]\u001b[A"
     ]
    },
    {
     "name": "stdout",
     "output_type": "stream",
     "text": [
      "image updated at \"./210215-053340-And_blood-black_nothingness_began_to_spin_a_system_of_cells_interlinked.png\"\n"
     ]
    },
    {
     "name": "stderr",
     "output_type": "stream",
     "text": [
      "\n",
      "loss: tensor([-22.6825], device='cuda:0', grad_fn=<AddBackward0>):   4%|▍         | 12/300 [00:08<02:58,  1.61it/s]\u001b[A\n",
      "loss: tensor([-22.6825], device='cuda:0', grad_fn=<AddBackward0>):   4%|▍         | 13/300 [00:08<02:54,  1.64it/s]\u001b[A"
     ]
    },
    {
     "name": "stdout",
     "output_type": "stream",
     "text": [
      "image updated at \"./210215-053340-And_blood-black_nothingness_began_to_spin_a_system_of_cells_interlinked.png\"\n"
     ]
    },
    {
     "name": "stderr",
     "output_type": "stream",
     "text": [
      "\n",
      "loss: tensor([-23.2542], device='cuda:0', grad_fn=<AddBackward0>):   4%|▍         | 13/300 [00:08<02:54,  1.64it/s]\u001b[A\n",
      "loss: tensor([-23.2542], device='cuda:0', grad_fn=<AddBackward0>):   5%|▍         | 14/300 [00:08<02:49,  1.69it/s]\u001b[A"
     ]
    },
    {
     "name": "stdout",
     "output_type": "stream",
     "text": [
      "image updated at \"./210215-053340-And_blood-black_nothingness_began_to_spin_a_system_of_cells_interlinked.png\"\n"
     ]
    },
    {
     "name": "stderr",
     "output_type": "stream",
     "text": [
      "\n",
      "loss: tensor([-23.6681], device='cuda:0', grad_fn=<AddBackward0>):   5%|▍         | 14/300 [00:09<02:49,  1.69it/s]\u001b[A\n",
      "loss: tensor([-23.6681], device='cuda:0', grad_fn=<AddBackward0>):   5%|▌         | 15/300 [00:09<02:45,  1.72it/s]\u001b[A"
     ]
    },
    {
     "name": "stdout",
     "output_type": "stream",
     "text": [
      "image updated at \"./210215-053340-And_blood-black_nothingness_began_to_spin_a_system_of_cells_interlinked.png\"\n"
     ]
    },
    {
     "name": "stderr",
     "output_type": "stream",
     "text": [
      "\n",
      "loss: tensor([-24.1725], device='cuda:0', grad_fn=<AddBackward0>):   5%|▌         | 15/300 [00:09<02:45,  1.72it/s]\u001b[A\n",
      "loss: tensor([-24.1725], device='cuda:0', grad_fn=<AddBackward0>):   5%|▌         | 16/300 [00:09<02:42,  1.75it/s]\u001b[A"
     ]
    },
    {
     "name": "stdout",
     "output_type": "stream",
     "text": [
      "image updated at \"./210215-053340-And_blood-black_nothingness_began_to_spin_a_system_of_cells_interlinked.png\"\n"
     ]
    },
    {
     "name": "stderr",
     "output_type": "stream",
     "text": [
      "\n",
      "loss: tensor([-24.5110], device='cuda:0', grad_fn=<AddBackward0>):   5%|▌         | 16/300 [00:10<02:42,  1.75it/s]\u001b[A\n",
      "loss: tensor([-24.5110], device='cuda:0', grad_fn=<AddBackward0>):   6%|▌         | 17/300 [00:10<02:39,  1.77it/s]\u001b[A"
     ]
    },
    {
     "name": "stdout",
     "output_type": "stream",
     "text": [
      "image updated at \"./210215-053340-And_blood-black_nothingness_began_to_spin_a_system_of_cells_interlinked.png\"\n"
     ]
    },
    {
     "name": "stderr",
     "output_type": "stream",
     "text": [
      "\n",
      "loss: tensor([-24.3830], device='cuda:0', grad_fn=<AddBackward0>):   6%|▌         | 17/300 [00:10<02:39,  1.77it/s]\u001b[A\n",
      "loss: tensor([-24.3830], device='cuda:0', grad_fn=<AddBackward0>):   6%|▌         | 18/300 [00:10<02:30,  1.87it/s]\u001b[A"
     ]
    },
    {
     "name": "stdout",
     "output_type": "stream",
     "text": [
      "image updated at \"./210215-053340-And_blood-black_nothingness_began_to_spin_a_system_of_cells_interlinked.png\"\n"
     ]
    },
    {
     "name": "stderr",
     "output_type": "stream",
     "text": [
      "\n",
      "loss: tensor([-24.5490], device='cuda:0', grad_fn=<AddBackward0>):   6%|▌         | 18/300 [00:11<02:30,  1.87it/s]\u001b[A\n",
      "loss: tensor([-24.5490], device='cuda:0', grad_fn=<AddBackward0>):   6%|▋         | 19/300 [00:11<02:34,  1.82it/s]\u001b[A"
     ]
    },
    {
     "name": "stdout",
     "output_type": "stream",
     "text": [
      "image updated at \"./210215-053340-And_blood-black_nothingness_began_to_spin_a_system_of_cells_interlinked.png\"\n"
     ]
    },
    {
     "name": "stderr",
     "output_type": "stream",
     "text": [
      "\n",
      "loss: tensor([-24.8477], device='cuda:0', grad_fn=<AddBackward0>):   6%|▋         | 19/300 [00:12<02:34,  1.82it/s]\u001b[A\n",
      "loss: tensor([-24.8477], device='cuda:0', grad_fn=<AddBackward0>):   7%|▋         | 20/300 [00:12<02:43,  1.71it/s]\u001b[A"
     ]
    },
    {
     "name": "stdout",
     "output_type": "stream",
     "text": [
      "image updated at \"./210215-053340-And_blood-black_nothingness_began_to_spin_a_system_of_cells_interlinked.png\"\n"
     ]
    },
    {
     "name": "stderr",
     "output_type": "stream",
     "text": [
      "\n",
      "loss: tensor([-25.1428], device='cuda:0', grad_fn=<AddBackward0>):   7%|▋         | 20/300 [00:12<02:43,  1.71it/s]\u001b[A\n",
      "loss: tensor([-25.1428], device='cuda:0', grad_fn=<AddBackward0>):   7%|▋         | 21/300 [00:12<02:36,  1.79it/s]\u001b[A"
     ]
    },
    {
     "name": "stdout",
     "output_type": "stream",
     "text": [
      "image updated at \"./210215-053340-And_blood-black_nothingness_began_to_spin_a_system_of_cells_interlinked.png\"\n"
     ]
    },
    {
     "name": "stderr",
     "output_type": "stream",
     "text": [
      "\n",
      "loss: tensor([-25.3615], device='cuda:0', grad_fn=<AddBackward0>):   7%|▋         | 21/300 [00:13<02:36,  1.79it/s]\u001b[A\n",
      "loss: tensor([-25.3615], device='cuda:0', grad_fn=<AddBackward0>):   7%|▋         | 22/300 [00:13<02:30,  1.85it/s]\u001b[A"
     ]
    },
    {
     "name": "stdout",
     "output_type": "stream",
     "text": [
      "image updated at \"./210215-053340-And_blood-black_nothingness_began_to_spin_a_system_of_cells_interlinked.png\"\n"
     ]
    },
    {
     "name": "stderr",
     "output_type": "stream",
     "text": [
      "\n",
      "loss: tensor([-25.4328], device='cuda:0', grad_fn=<AddBackward0>):   7%|▋         | 22/300 [00:13<02:30,  1.85it/s]\u001b[A\n",
      "loss: tensor([-25.4328], device='cuda:0', grad_fn=<AddBackward0>):   8%|▊         | 23/300 [00:13<02:25,  1.90it/s]\u001b[A"
     ]
    },
    {
     "name": "stdout",
     "output_type": "stream",
     "text": [
      "image updated at \"./210215-053340-And_blood-black_nothingness_began_to_spin_a_system_of_cells_interlinked.png\"\n"
     ]
    },
    {
     "name": "stderr",
     "output_type": "stream",
     "text": [
      "\n",
      "loss: tensor([-25.6221], device='cuda:0', grad_fn=<AddBackward0>):   8%|▊         | 23/300 [00:14<02:25,  1.90it/s]\u001b[A\n",
      "loss: tensor([-25.6221], device='cuda:0', grad_fn=<AddBackward0>):   8%|▊         | 24/300 [00:14<02:22,  1.94it/s]\u001b[A"
     ]
    },
    {
     "name": "stdout",
     "output_type": "stream",
     "text": [
      "image updated at \"./210215-053340-And_blood-black_nothingness_began_to_spin_a_system_of_cells_interlinked.png\"\n"
     ]
    },
    {
     "name": "stderr",
     "output_type": "stream",
     "text": [
      "\n",
      "loss: tensor([-25.7305], device='cuda:0', grad_fn=<AddBackward0>):   8%|▊         | 24/300 [00:14<02:22,  1.94it/s]\u001b[A\n",
      "loss: tensor([-25.7305], device='cuda:0', grad_fn=<AddBackward0>):   8%|▊         | 25/300 [00:14<02:20,  1.95it/s]\u001b[A"
     ]
    },
    {
     "name": "stdout",
     "output_type": "stream",
     "text": [
      "image updated at \"./210215-053340-And_blood-black_nothingness_began_to_spin_a_system_of_cells_interlinked.png\"\n"
     ]
    },
    {
     "name": "stderr",
     "output_type": "stream",
     "text": [
      "\n",
      "loss: tensor([-25.8661], device='cuda:0', grad_fn=<AddBackward0>):   8%|▊         | 25/300 [00:15<02:20,  1.95it/s]\u001b[A\n",
      "loss: tensor([-25.8661], device='cuda:0', grad_fn=<AddBackward0>):   9%|▊         | 26/300 [00:15<02:21,  1.93it/s]\u001b[A"
     ]
    },
    {
     "name": "stdout",
     "output_type": "stream",
     "text": [
      "image updated at \"./210215-053340-And_blood-black_nothingness_began_to_spin_a_system_of_cells_interlinked.png\"\n"
     ]
    },
    {
     "name": "stderr",
     "output_type": "stream",
     "text": [
      "\n",
      "loss: tensor([-25.9063], device='cuda:0', grad_fn=<AddBackward0>):   9%|▊         | 26/300 [00:15<02:21,  1.93it/s]\u001b[A\n",
      "loss: tensor([-25.9063], device='cuda:0', grad_fn=<AddBackward0>):   9%|▉         | 27/300 [00:15<02:21,  1.93it/s]\u001b[A"
     ]
    },
    {
     "name": "stdout",
     "output_type": "stream",
     "text": [
      "image updated at \"./210215-053340-And_blood-black_nothingness_began_to_spin_a_system_of_cells_interlinked.png\"\n"
     ]
    },
    {
     "name": "stderr",
     "output_type": "stream",
     "text": [
      "\n",
      "loss: tensor([-25.9342], device='cuda:0', grad_fn=<AddBackward0>):   9%|▉         | 27/300 [00:16<02:21,  1.93it/s]\u001b[A\n",
      "loss: tensor([-25.9342], device='cuda:0', grad_fn=<AddBackward0>):   9%|▉         | 28/300 [00:16<02:22,  1.91it/s]\u001b[A"
     ]
    },
    {
     "name": "stdout",
     "output_type": "stream",
     "text": [
      "image updated at \"./210215-053340-And_blood-black_nothingness_began_to_spin_a_system_of_cells_interlinked.png\"\n"
     ]
    },
    {
     "name": "stderr",
     "output_type": "stream",
     "text": [
      "\n",
      "loss: tensor([-25.9025], device='cuda:0', grad_fn=<AddBackward0>):   9%|▉         | 28/300 [00:16<02:22,  1.91it/s]\u001b[A\n",
      "loss: tensor([-25.9025], device='cuda:0', grad_fn=<AddBackward0>):  10%|▉         | 29/300 [00:16<02:16,  1.99it/s]\u001b[A"
     ]
    },
    {
     "name": "stdout",
     "output_type": "stream",
     "text": [
      "image updated at \"./210215-053340-And_blood-black_nothingness_began_to_spin_a_system_of_cells_interlinked.png\"\n"
     ]
    },
    {
     "name": "stderr",
     "output_type": "stream",
     "text": [
      "\n",
      "loss: tensor([-26.1619], device='cuda:0', grad_fn=<AddBackward0>):  10%|▉         | 29/300 [00:17<02:16,  1.99it/s]\u001b[A\n",
      "loss: tensor([-26.1619], device='cuda:0', grad_fn=<AddBackward0>):  10%|█         | 30/300 [00:17<02:16,  1.98it/s]\u001b[A"
     ]
    },
    {
     "name": "stdout",
     "output_type": "stream",
     "text": [
      "image updated at \"./210215-053340-And_blood-black_nothingness_began_to_spin_a_system_of_cells_interlinked.png\"\n"
     ]
    },
    {
     "name": "stderr",
     "output_type": "stream",
     "text": [
      "\n",
      "loss: tensor([-26.2178], device='cuda:0', grad_fn=<AddBackward0>):  10%|█         | 30/300 [00:17<02:16,  1.98it/s]\u001b[A\n",
      "loss: tensor([-26.2178], device='cuda:0', grad_fn=<AddBackward0>):  10%|█         | 31/300 [00:17<02:16,  1.97it/s]\u001b[A"
     ]
    },
    {
     "name": "stdout",
     "output_type": "stream",
     "text": [
      "image updated at \"./210215-053340-And_blood-black_nothingness_began_to_spin_a_system_of_cells_interlinked.png\"\n"
     ]
    },
    {
     "name": "stderr",
     "output_type": "stream",
     "text": [
      "\n",
      "loss: tensor([-26.3477], device='cuda:0', grad_fn=<AddBackward0>):  10%|█         | 31/300 [00:18<02:16,  1.97it/s]\u001b[A\n",
      "loss: tensor([-26.3477], device='cuda:0', grad_fn=<AddBackward0>):  11%|█         | 32/300 [00:18<02:16,  1.97it/s]\u001b[A"
     ]
    },
    {
     "name": "stdout",
     "output_type": "stream",
     "text": [
      "image updated at \"./210215-053340-And_blood-black_nothingness_began_to_spin_a_system_of_cells_interlinked.png\"\n"
     ]
    },
    {
     "name": "stderr",
     "output_type": "stream",
     "text": [
      "\n",
      "loss: tensor([-26.1331], device='cuda:0', grad_fn=<AddBackward0>):  11%|█         | 32/300 [00:18<02:16,  1.97it/s]\u001b[A\n",
      "loss: tensor([-26.1331], device='cuda:0', grad_fn=<AddBackward0>):  11%|█         | 33/300 [00:18<02:14,  1.98it/s]\u001b[A"
     ]
    },
    {
     "name": "stdout",
     "output_type": "stream",
     "text": [
      "image updated at \"./210215-053340-And_blood-black_nothingness_began_to_spin_a_system_of_cells_interlinked.png\"\n"
     ]
    },
    {
     "name": "stderr",
     "output_type": "stream",
     "text": [
      "\n",
      "loss: tensor([-26.3548], device='cuda:0', grad_fn=<AddBackward0>):  11%|█         | 33/300 [00:19<02:14,  1.98it/s]\u001b[A\n",
      "loss: tensor([-26.3548], device='cuda:0', grad_fn=<AddBackward0>):  11%|█▏        | 34/300 [00:19<02:09,  2.06it/s]\u001b[A"
     ]
    },
    {
     "name": "stdout",
     "output_type": "stream",
     "text": [
      "image updated at \"./210215-053340-And_blood-black_nothingness_began_to_spin_a_system_of_cells_interlinked.png\"\n"
     ]
    },
    {
     "name": "stderr",
     "output_type": "stream",
     "text": [
      "\n",
      "loss: tensor([-26.3706], device='cuda:0', grad_fn=<AddBackward0>):  11%|█▏        | 34/300 [00:19<02:09,  2.06it/s]\u001b[A\n",
      "loss: tensor([-26.3706], device='cuda:0', grad_fn=<AddBackward0>):  12%|█▏        | 35/300 [00:19<02:05,  2.11it/s]\u001b[A"
     ]
    },
    {
     "name": "stdout",
     "output_type": "stream",
     "text": [
      "image updated at \"./210215-053340-And_blood-black_nothingness_began_to_spin_a_system_of_cells_interlinked.png\"\n"
     ]
    },
    {
     "name": "stderr",
     "output_type": "stream",
     "text": [
      "\n",
      "loss: tensor([-26.2984], device='cuda:0', grad_fn=<AddBackward0>):  12%|█▏        | 35/300 [00:19<02:05,  2.11it/s]\u001b[A\n",
      "loss: tensor([-26.2984], device='cuda:0', grad_fn=<AddBackward0>):  12%|█▏        | 36/300 [00:19<02:02,  2.15it/s]\u001b[A"
     ]
    },
    {
     "name": "stdout",
     "output_type": "stream",
     "text": [
      "image updated at \"./210215-053340-And_blood-black_nothingness_began_to_spin_a_system_of_cells_interlinked.png\"\n"
     ]
    },
    {
     "name": "stderr",
     "output_type": "stream",
     "text": [
      "\n",
      "loss: tensor([-26.3426], device='cuda:0', grad_fn=<AddBackward0>):  12%|█▏        | 36/300 [00:20<02:02,  2.15it/s]\u001b[A\n",
      "loss: tensor([-26.3426], device='cuda:0', grad_fn=<AddBackward0>):  12%|█▏        | 37/300 [00:20<02:01,  2.16it/s]\u001b[A"
     ]
    },
    {
     "name": "stdout",
     "output_type": "stream",
     "text": [
      "image updated at \"./210215-053340-And_blood-black_nothingness_began_to_spin_a_system_of_cells_interlinked.png\"\n"
     ]
    },
    {
     "name": "stderr",
     "output_type": "stream",
     "text": [
      "\n",
      "loss: tensor([-26.5824], device='cuda:0', grad_fn=<AddBackward0>):  12%|█▏        | 37/300 [00:20<02:01,  2.16it/s]\u001b[A\n",
      "loss: tensor([-26.5824], device='cuda:0', grad_fn=<AddBackward0>):  13%|█▎        | 38/300 [00:20<02:08,  2.04it/s]\u001b[A"
     ]
    },
    {
     "name": "stdout",
     "output_type": "stream",
     "text": [
      "image updated at \"./210215-053340-And_blood-black_nothingness_began_to_spin_a_system_of_cells_interlinked.png\"\n"
     ]
    },
    {
     "name": "stderr",
     "output_type": "stream",
     "text": [
      "\n",
      "loss: tensor([-26.6627], device='cuda:0', grad_fn=<AddBackward0>):  13%|█▎        | 38/300 [00:21<02:08,  2.04it/s]\u001b[A\n",
      "loss: tensor([-26.6627], device='cuda:0', grad_fn=<AddBackward0>):  13%|█▎        | 39/300 [00:21<02:16,  1.92it/s]\u001b[A"
     ]
    },
    {
     "name": "stdout",
     "output_type": "stream",
     "text": [
      "image updated at \"./210215-053340-And_blood-black_nothingness_began_to_spin_a_system_of_cells_interlinked.png\"\n"
     ]
    },
    {
     "name": "stderr",
     "output_type": "stream",
     "text": [
      "\n",
      "loss: tensor([-26.5702], device='cuda:0', grad_fn=<AddBackward0>):  13%|█▎        | 39/300 [00:22<02:16,  1.92it/s]\u001b[A\n",
      "loss: tensor([-26.5702], device='cuda:0', grad_fn=<AddBackward0>):  13%|█▎        | 40/300 [00:22<02:12,  1.97it/s]\u001b[A"
     ]
    },
    {
     "name": "stdout",
     "output_type": "stream",
     "text": [
      "image updated at \"./210215-053340-And_blood-black_nothingness_began_to_spin_a_system_of_cells_interlinked.png\"\n"
     ]
    },
    {
     "name": "stderr",
     "output_type": "stream",
     "text": [
      "\n",
      "loss: tensor([-26.5936], device='cuda:0', grad_fn=<AddBackward0>):  13%|█▎        | 40/300 [00:22<02:12,  1.97it/s]\u001b[A\n",
      "loss: tensor([-26.5936], device='cuda:0', grad_fn=<AddBackward0>):  14%|█▎        | 41/300 [00:22<02:08,  2.01it/s]\u001b[A"
     ]
    },
    {
     "name": "stdout",
     "output_type": "stream",
     "text": [
      "image updated at \"./210215-053340-And_blood-black_nothingness_began_to_spin_a_system_of_cells_interlinked.png\"\n"
     ]
    },
    {
     "name": "stderr",
     "output_type": "stream",
     "text": [
      "\n",
      "loss: tensor([-26.7206], device='cuda:0', grad_fn=<AddBackward0>):  14%|█▎        | 41/300 [00:23<02:08,  2.01it/s]\u001b[A\n",
      "loss: tensor([-26.7206], device='cuda:0', grad_fn=<AddBackward0>):  14%|█▍        | 42/300 [00:23<02:12,  1.95it/s]\u001b[A"
     ]
    },
    {
     "name": "stdout",
     "output_type": "stream",
     "text": [
      "image updated at \"./210215-053340-And_blood-black_nothingness_began_to_spin_a_system_of_cells_interlinked.png\"\n"
     ]
    },
    {
     "name": "stderr",
     "output_type": "stream",
     "text": [
      "\n",
      "loss: tensor([-26.7685], device='cuda:0', grad_fn=<AddBackward0>):  14%|█▍        | 42/300 [00:23<02:12,  1.95it/s]\u001b[A\n",
      "loss: tensor([-26.7685], device='cuda:0', grad_fn=<AddBackward0>):  14%|█▍        | 43/300 [00:23<02:14,  1.90it/s]\u001b[A"
     ]
    },
    {
     "name": "stdout",
     "output_type": "stream",
     "text": [
      "image updated at \"./210215-053340-And_blood-black_nothingness_began_to_spin_a_system_of_cells_interlinked.png\"\n"
     ]
    },
    {
     "name": "stderr",
     "output_type": "stream",
     "text": [
      "\n",
      "loss: tensor([-26.7232], device='cuda:0', grad_fn=<AddBackward0>):  14%|█▍        | 43/300 [00:24<02:14,  1.90it/s]\u001b[A\n",
      "loss: tensor([-26.7232], device='cuda:0', grad_fn=<AddBackward0>):  15%|█▍        | 44/300 [00:24<02:10,  1.95it/s]\u001b[A"
     ]
    },
    {
     "name": "stdout",
     "output_type": "stream",
     "text": [
      "image updated at \"./210215-053340-And_blood-black_nothingness_began_to_spin_a_system_of_cells_interlinked.png\"\n"
     ]
    },
    {
     "name": "stderr",
     "output_type": "stream",
     "text": [
      "\n",
      "loss: tensor([-26.9330], device='cuda:0', grad_fn=<AddBackward0>):  15%|█▍        | 44/300 [00:24<02:10,  1.95it/s]\u001b[A\n",
      "loss: tensor([-26.9330], device='cuda:0', grad_fn=<AddBackward0>):  15%|█▌        | 45/300 [00:24<02:11,  1.93it/s]\u001b[A"
     ]
    },
    {
     "name": "stdout",
     "output_type": "stream",
     "text": [
      "image updated at \"./210215-053340-And_blood-black_nothingness_began_to_spin_a_system_of_cells_interlinked.png\"\n"
     ]
    },
    {
     "name": "stderr",
     "output_type": "stream",
     "text": [
      "\n",
      "loss: tensor([-26.8269], device='cuda:0', grad_fn=<AddBackward0>):  15%|█▌        | 45/300 [00:25<02:11,  1.93it/s]\u001b[A\n",
      "loss: tensor([-26.8269], device='cuda:0', grad_fn=<AddBackward0>):  15%|█▌        | 46/300 [00:25<02:06,  2.00it/s]\u001b[A"
     ]
    },
    {
     "name": "stdout",
     "output_type": "stream",
     "text": [
      "image updated at \"./210215-053340-And_blood-black_nothingness_began_to_spin_a_system_of_cells_interlinked.png\"\n"
     ]
    },
    {
     "name": "stderr",
     "output_type": "stream",
     "text": [
      "\n",
      "loss: tensor([-26.8860], device='cuda:0', grad_fn=<AddBackward0>):  15%|█▌        | 46/300 [00:25<02:06,  2.00it/s]\u001b[A\n",
      "loss: tensor([-26.8860], device='cuda:0', grad_fn=<AddBackward0>):  16%|█▌        | 47/300 [00:25<02:04,  2.03it/s]\u001b[A"
     ]
    },
    {
     "name": "stdout",
     "output_type": "stream",
     "text": [
      "image updated at \"./210215-053340-And_blood-black_nothingness_began_to_spin_a_system_of_cells_interlinked.png\"\n"
     ]
    },
    {
     "name": "stderr",
     "output_type": "stream",
     "text": [
      "\n",
      "loss: tensor([-27.0289], device='cuda:0', grad_fn=<AddBackward0>):  16%|█▌        | 47/300 [00:26<02:04,  2.03it/s]\u001b[A\n",
      "loss: tensor([-27.0289], device='cuda:0', grad_fn=<AddBackward0>):  16%|█▌        | 48/300 [00:26<02:07,  1.97it/s]\u001b[A"
     ]
    },
    {
     "name": "stdout",
     "output_type": "stream",
     "text": [
      "image updated at \"./210215-053340-And_blood-black_nothingness_began_to_spin_a_system_of_cells_interlinked.png\"\n"
     ]
    },
    {
     "name": "stderr",
     "output_type": "stream",
     "text": [
      "\n",
      "loss: tensor([-27.1512], device='cuda:0', grad_fn=<AddBackward0>):  16%|█▌        | 48/300 [00:26<02:07,  1.97it/s]\u001b[A\n",
      "loss: tensor([-27.1512], device='cuda:0', grad_fn=<AddBackward0>):  16%|█▋        | 49/300 [00:26<02:10,  1.93it/s]\u001b[A"
     ]
    },
    {
     "name": "stdout",
     "output_type": "stream",
     "text": [
      "image updated at \"./210215-053340-And_blood-black_nothingness_began_to_spin_a_system_of_cells_interlinked.png\"\n"
     ]
    },
    {
     "name": "stderr",
     "output_type": "stream",
     "text": [
      "\n",
      "loss: tensor([-27.0974], device='cuda:0', grad_fn=<AddBackward0>):  16%|█▋        | 49/300 [00:27<02:10,  1.93it/s]\u001b[A\n",
      "loss: tensor([-27.0974], device='cuda:0', grad_fn=<AddBackward0>):  17%|█▋        | 50/300 [00:27<02:05,  1.99it/s]\u001b[A"
     ]
    },
    {
     "name": "stdout",
     "output_type": "stream",
     "text": [
      "image updated at \"./210215-053340-And_blood-black_nothingness_began_to_spin_a_system_of_cells_interlinked.png\"\n"
     ]
    },
    {
     "name": "stderr",
     "output_type": "stream",
     "text": [
      "\n",
      "loss: tensor([-27.0453], device='cuda:0', grad_fn=<AddBackward0>):  17%|█▋        | 50/300 [00:27<02:05,  1.99it/s]\u001b[A\n",
      "loss: tensor([-27.0453], device='cuda:0', grad_fn=<AddBackward0>):  17%|█▋        | 51/300 [00:27<02:02,  2.04it/s]\u001b[A"
     ]
    },
    {
     "name": "stdout",
     "output_type": "stream",
     "text": [
      "image updated at \"./210215-053340-And_blood-black_nothingness_began_to_spin_a_system_of_cells_interlinked.png\"\n"
     ]
    },
    {
     "name": "stderr",
     "output_type": "stream",
     "text": [
      "\n",
      "loss: tensor([-27.0031], device='cuda:0', grad_fn=<AddBackward0>):  17%|█▋        | 51/300 [00:28<02:02,  2.04it/s]\u001b[A\n",
      "loss: tensor([-27.0031], device='cuda:0', grad_fn=<AddBackward0>):  17%|█▋        | 52/300 [00:28<01:59,  2.07it/s]\u001b[A"
     ]
    },
    {
     "name": "stdout",
     "output_type": "stream",
     "text": [
      "image updated at \"./210215-053340-And_blood-black_nothingness_began_to_spin_a_system_of_cells_interlinked.png\"\n"
     ]
    },
    {
     "name": "stderr",
     "output_type": "stream",
     "text": [
      "\n",
      "loss: tensor([-27.1105], device='cuda:0', grad_fn=<AddBackward0>):  17%|█▋        | 52/300 [00:28<01:59,  2.07it/s]\u001b[A\n",
      "loss: tensor([-27.1105], device='cuda:0', grad_fn=<AddBackward0>):  18%|█▊        | 53/300 [00:28<01:57,  2.11it/s]\u001b[A"
     ]
    },
    {
     "name": "stdout",
     "output_type": "stream",
     "text": [
      "image updated at \"./210215-053340-And_blood-black_nothingness_began_to_spin_a_system_of_cells_interlinked.png\"\n"
     ]
    },
    {
     "name": "stderr",
     "output_type": "stream",
     "text": [
      "\n",
      "loss: tensor([-27.2393], device='cuda:0', grad_fn=<AddBackward0>):  18%|█▊        | 53/300 [00:29<01:57,  2.11it/s]\u001b[A\n",
      "loss: tensor([-27.2393], device='cuda:0', grad_fn=<AddBackward0>):  18%|█▊        | 54/300 [00:29<02:01,  2.03it/s]\u001b[A"
     ]
    },
    {
     "name": "stdout",
     "output_type": "stream",
     "text": [
      "image updated at \"./210215-053340-And_blood-black_nothingness_began_to_spin_a_system_of_cells_interlinked.png\"\n"
     ]
    },
    {
     "name": "stderr",
     "output_type": "stream",
     "text": [
      "\n",
      "loss: tensor([-27.3818], device='cuda:0', grad_fn=<AddBackward0>):  18%|█▊        | 54/300 [00:29<02:01,  2.03it/s]\u001b[A\n",
      "loss: tensor([-27.3818], device='cuda:0', grad_fn=<AddBackward0>):  18%|█▊        | 55/300 [00:29<02:03,  1.98it/s]\u001b[A"
     ]
    },
    {
     "name": "stdout",
     "output_type": "stream",
     "text": [
      "image updated at \"./210215-053340-And_blood-black_nothingness_began_to_spin_a_system_of_cells_interlinked.png\"\n"
     ]
    },
    {
     "name": "stderr",
     "output_type": "stream",
     "text": [
      "\n",
      "loss: tensor([-27.4193], device='cuda:0', grad_fn=<AddBackward0>):  18%|█▊        | 55/300 [00:30<02:03,  1.98it/s]\u001b[A\n",
      "loss: tensor([-27.4193], device='cuda:0', grad_fn=<AddBackward0>):  19%|█▊        | 56/300 [00:30<02:05,  1.94it/s]\u001b[A"
     ]
    },
    {
     "name": "stdout",
     "output_type": "stream",
     "text": [
      "image updated at \"./210215-053340-And_blood-black_nothingness_began_to_spin_a_system_of_cells_interlinked.png\"\n"
     ]
    },
    {
     "name": "stderr",
     "output_type": "stream",
     "text": [
      "\n",
      "loss: tensor([-27.2566], device='cuda:0', grad_fn=<AddBackward0>):  19%|█▊        | 56/300 [00:30<02:05,  1.94it/s]\u001b[A\n",
      "loss: tensor([-27.2566], device='cuda:0', grad_fn=<AddBackward0>):  19%|█▉        | 57/300 [00:30<02:00,  2.01it/s]\u001b[A"
     ]
    },
    {
     "name": "stdout",
     "output_type": "stream",
     "text": [
      "image updated at \"./210215-053340-And_blood-black_nothingness_began_to_spin_a_system_of_cells_interlinked.png\"\n"
     ]
    },
    {
     "name": "stderr",
     "output_type": "stream",
     "text": [
      "\n",
      "loss: tensor([-27.4811], device='cuda:0', grad_fn=<AddBackward0>):  19%|█▉        | 57/300 [00:31<02:00,  2.01it/s]\u001b[A\n",
      "loss: tensor([-27.4811], device='cuda:0', grad_fn=<AddBackward0>):  19%|█▉        | 58/300 [00:31<02:02,  1.97it/s]\u001b[A"
     ]
    },
    {
     "name": "stdout",
     "output_type": "stream",
     "text": [
      "image updated at \"./210215-053340-And_blood-black_nothingness_began_to_spin_a_system_of_cells_interlinked.png\"\n"
     ]
    },
    {
     "name": "stderr",
     "output_type": "stream",
     "text": [
      "\n",
      "loss: tensor([-27.5519], device='cuda:0', grad_fn=<AddBackward0>):  19%|█▉        | 58/300 [00:31<02:02,  1.97it/s]\u001b[A\n",
      "loss: tensor([-27.5519], device='cuda:0', grad_fn=<AddBackward0>):  20%|█▉        | 59/300 [00:31<02:03,  1.94it/s]\u001b[A"
     ]
    },
    {
     "name": "stdout",
     "output_type": "stream",
     "text": [
      "image updated at \"./210215-053340-And_blood-black_nothingness_began_to_spin_a_system_of_cells_interlinked.png\"\n"
     ]
    },
    {
     "name": "stderr",
     "output_type": "stream",
     "text": [
      "\n",
      "loss: tensor([-27.5619], device='cuda:0', grad_fn=<AddBackward0>):  20%|█▉        | 59/300 [00:32<02:03,  1.94it/s]\u001b[A\n",
      "loss: tensor([-27.5619], device='cuda:0', grad_fn=<AddBackward0>):  20%|██        | 60/300 [00:32<01:58,  2.02it/s]\u001b[A"
     ]
    },
    {
     "name": "stdout",
     "output_type": "stream",
     "text": [
      "image updated at \"./210215-053340-And_blood-black_nothingness_began_to_spin_a_system_of_cells_interlinked.png\"\n"
     ]
    },
    {
     "name": "stderr",
     "output_type": "stream",
     "text": [
      "\n",
      "loss: tensor([-27.6693], device='cuda:0', grad_fn=<AddBackward0>):  20%|██        | 60/300 [00:32<01:58,  2.02it/s]\u001b[A\n",
      "loss: tensor([-27.6693], device='cuda:0', grad_fn=<AddBackward0>):  20%|██        | 61/300 [00:32<01:59,  2.00it/s]\u001b[A"
     ]
    },
    {
     "name": "stdout",
     "output_type": "stream",
     "text": [
      "image updated at \"./210215-053340-And_blood-black_nothingness_began_to_spin_a_system_of_cells_interlinked.png\"\n"
     ]
    },
    {
     "name": "stderr",
     "output_type": "stream",
     "text": [
      "\n",
      "loss: tensor([-27.7005], device='cuda:0', grad_fn=<AddBackward0>):  20%|██        | 61/300 [00:33<01:59,  2.00it/s]\u001b[A\n",
      "loss: tensor([-27.7005], device='cuda:0', grad_fn=<AddBackward0>):  21%|██        | 62/300 [00:33<02:00,  1.97it/s]\u001b[A"
     ]
    },
    {
     "name": "stdout",
     "output_type": "stream",
     "text": [
      "image updated at \"./210215-053340-And_blood-black_nothingness_began_to_spin_a_system_of_cells_interlinked.png\"\n"
     ]
    },
    {
     "name": "stderr",
     "output_type": "stream",
     "text": [
      "\n",
      "loss: tensor([-27.7083], device='cuda:0', grad_fn=<AddBackward0>):  21%|██        | 62/300 [00:33<02:00,  1.97it/s]\u001b[A\n",
      "loss: tensor([-27.7083], device='cuda:0', grad_fn=<AddBackward0>):  21%|██        | 63/300 [00:33<01:55,  2.05it/s]\u001b[A"
     ]
    },
    {
     "name": "stdout",
     "output_type": "stream",
     "text": [
      "image updated at \"./210215-053340-And_blood-black_nothingness_began_to_spin_a_system_of_cells_interlinked.png\"\n"
     ]
    },
    {
     "name": "stderr",
     "output_type": "stream",
     "text": [
      "\n",
      "loss: tensor([-27.8280], device='cuda:0', grad_fn=<AddBackward0>):  21%|██        | 63/300 [00:34<01:55,  2.05it/s]\u001b[A\n",
      "loss: tensor([-27.8280], device='cuda:0', grad_fn=<AddBackward0>):  21%|██▏       | 64/300 [00:34<01:56,  2.02it/s]\u001b[A"
     ]
    },
    {
     "name": "stdout",
     "output_type": "stream",
     "text": [
      "image updated at \"./210215-053340-And_blood-black_nothingness_began_to_spin_a_system_of_cells_interlinked.png\"\n"
     ]
    },
    {
     "name": "stderr",
     "output_type": "stream",
     "text": [
      "\n",
      "loss: tensor([-27.6873], device='cuda:0', grad_fn=<AddBackward0>):  21%|██▏       | 64/300 [00:34<01:56,  2.02it/s]\u001b[A\n",
      "loss: tensor([-27.6873], device='cuda:0', grad_fn=<AddBackward0>):  22%|██▏       | 65/300 [00:34<01:52,  2.09it/s]\u001b[A"
     ]
    },
    {
     "name": "stdout",
     "output_type": "stream",
     "text": [
      "image updated at \"./210215-053340-And_blood-black_nothingness_began_to_spin_a_system_of_cells_interlinked.png\"\n"
     ]
    },
    {
     "name": "stderr",
     "output_type": "stream",
     "text": [
      "\n",
      "loss: tensor([-27.6607], device='cuda:0', grad_fn=<AddBackward0>):  22%|██▏       | 65/300 [00:34<01:52,  2.09it/s]\u001b[A\n",
      "loss: tensor([-27.6607], device='cuda:0', grad_fn=<AddBackward0>):  22%|██▏       | 66/300 [00:34<01:49,  2.13it/s]\u001b[A"
     ]
    },
    {
     "name": "stdout",
     "output_type": "stream",
     "text": [
      "image updated at \"./210215-053340-And_blood-black_nothingness_began_to_spin_a_system_of_cells_interlinked.png\"\n"
     ]
    },
    {
     "name": "stderr",
     "output_type": "stream",
     "text": [
      "\n",
      "loss: tensor([-27.7149], device='cuda:0', grad_fn=<AddBackward0>):  22%|██▏       | 66/300 [00:35<01:49,  2.13it/s]\u001b[A\n",
      "loss: tensor([-27.7149], device='cuda:0', grad_fn=<AddBackward0>):  22%|██▏       | 67/300 [00:35<01:49,  2.13it/s]\u001b[A"
     ]
    },
    {
     "name": "stdout",
     "output_type": "stream",
     "text": [
      "image updated at \"./210215-053340-And_blood-black_nothingness_began_to_spin_a_system_of_cells_interlinked.png\"\n"
     ]
    },
    {
     "name": "stderr",
     "output_type": "stream",
     "text": [
      "\n",
      "loss: tensor([-27.7138], device='cuda:0', grad_fn=<AddBackward0>):  22%|██▏       | 67/300 [00:35<01:49,  2.13it/s]\u001b[A\n",
      "loss: tensor([-27.7138], device='cuda:0', grad_fn=<AddBackward0>):  23%|██▎       | 68/300 [00:35<01:49,  2.13it/s]\u001b[A"
     ]
    },
    {
     "name": "stdout",
     "output_type": "stream",
     "text": [
      "image updated at \"./210215-053340-And_blood-black_nothingness_began_to_spin_a_system_of_cells_interlinked.png\"\n"
     ]
    },
    {
     "name": "stderr",
     "output_type": "stream",
     "text": [
      "\n",
      "loss: tensor([-27.8095], device='cuda:0', grad_fn=<AddBackward0>):  23%|██▎       | 68/300 [00:36<01:49,  2.13it/s]\u001b[A\n",
      "loss: tensor([-27.8095], device='cuda:0', grad_fn=<AddBackward0>):  23%|██▎       | 69/300 [00:36<01:48,  2.13it/s]\u001b[A"
     ]
    },
    {
     "name": "stdout",
     "output_type": "stream",
     "text": [
      "image updated at \"./210215-053340-And_blood-black_nothingness_began_to_spin_a_system_of_cells_interlinked.png\"\n"
     ]
    },
    {
     "name": "stderr",
     "output_type": "stream",
     "text": [
      "\n",
      "loss: tensor([-27.8135], device='cuda:0', grad_fn=<AddBackward0>):  23%|██▎       | 69/300 [00:36<01:48,  2.13it/s]\u001b[A\n",
      "loss: tensor([-27.8135], device='cuda:0', grad_fn=<AddBackward0>):  23%|██▎       | 70/300 [00:36<01:48,  2.13it/s]\u001b[A"
     ]
    },
    {
     "name": "stdout",
     "output_type": "stream",
     "text": [
      "image updated at \"./210215-053340-And_blood-black_nothingness_began_to_spin_a_system_of_cells_interlinked.png\"\n"
     ]
    },
    {
     "name": "stderr",
     "output_type": "stream",
     "text": [
      "\n",
      "loss: tensor([-27.8225], device='cuda:0', grad_fn=<AddBackward0>):  23%|██▎       | 70/300 [00:37<01:48,  2.13it/s]\u001b[A\n",
      "loss: tensor([-27.8225], device='cuda:0', grad_fn=<AddBackward0>):  24%|██▎       | 71/300 [00:37<01:47,  2.14it/s]\u001b[A"
     ]
    },
    {
     "name": "stdout",
     "output_type": "stream",
     "text": [
      "image updated at \"./210215-053340-And_blood-black_nothingness_began_to_spin_a_system_of_cells_interlinked.png\"\n"
     ]
    },
    {
     "name": "stderr",
     "output_type": "stream",
     "text": [
      "\n",
      "loss: tensor([-27.9893], device='cuda:0', grad_fn=<AddBackward0>):  24%|██▎       | 71/300 [00:37<01:47,  2.14it/s]\u001b[A\n",
      "loss: tensor([-27.9893], device='cuda:0', grad_fn=<AddBackward0>):  24%|██▍       | 72/300 [00:37<01:52,  2.02it/s]\u001b[A"
     ]
    },
    {
     "name": "stdout",
     "output_type": "stream",
     "text": [
      "image updated at \"./210215-053340-And_blood-black_nothingness_began_to_spin_a_system_of_cells_interlinked.png\"\n"
     ]
    },
    {
     "name": "stderr",
     "output_type": "stream",
     "text": [
      "\n",
      "loss: tensor([-27.7762], device='cuda:0', grad_fn=<AddBackward0>):  24%|██▍       | 72/300 [00:38<01:52,  2.02it/s]\u001b[A\n",
      "loss: tensor([-27.7762], device='cuda:0', grad_fn=<AddBackward0>):  24%|██▍       | 73/300 [00:38<01:50,  2.05it/s]\u001b[A"
     ]
    },
    {
     "name": "stdout",
     "output_type": "stream",
     "text": [
      "image updated at \"./210215-053340-And_blood-black_nothingness_began_to_spin_a_system_of_cells_interlinked.png\"\n"
     ]
    },
    {
     "name": "stderr",
     "output_type": "stream",
     "text": [
      "\n",
      "loss: tensor([-27.9038], device='cuda:0', grad_fn=<AddBackward0>):  24%|██▍       | 73/300 [00:38<01:50,  2.05it/s]\u001b[A\n",
      "loss: tensor([-27.9038], device='cuda:0', grad_fn=<AddBackward0>):  25%|██▍       | 74/300 [00:38<01:48,  2.08it/s]\u001b[A"
     ]
    },
    {
     "name": "stdout",
     "output_type": "stream",
     "text": [
      "image updated at \"./210215-053340-And_blood-black_nothingness_began_to_spin_a_system_of_cells_interlinked.png\"\n"
     ]
    },
    {
     "name": "stderr",
     "output_type": "stream",
     "text": [
      "\n",
      "loss: tensor([-27.8443], device='cuda:0', grad_fn=<AddBackward0>):  25%|██▍       | 74/300 [00:39<01:48,  2.08it/s]\u001b[A\n",
      "loss: tensor([-27.8443], device='cuda:0', grad_fn=<AddBackward0>):  25%|██▌       | 75/300 [00:39<01:46,  2.12it/s]\u001b[A"
     ]
    },
    {
     "name": "stdout",
     "output_type": "stream",
     "text": [
      "image updated at \"./210215-053340-And_blood-black_nothingness_began_to_spin_a_system_of_cells_interlinked.png\"\n"
     ]
    },
    {
     "name": "stderr",
     "output_type": "stream",
     "text": [
      "\n",
      "loss: tensor([-27.8514], device='cuda:0', grad_fn=<AddBackward0>):  25%|██▌       | 75/300 [00:39<01:46,  2.12it/s]\u001b[A\n",
      "loss: tensor([-27.8514], device='cuda:0', grad_fn=<AddBackward0>):  25%|██▌       | 76/300 [00:39<01:43,  2.16it/s]\u001b[A"
     ]
    },
    {
     "name": "stdout",
     "output_type": "stream",
     "text": [
      "image updated at \"./210215-053340-And_blood-black_nothingness_began_to_spin_a_system_of_cells_interlinked.png\"\n"
     ]
    },
    {
     "name": "stderr",
     "output_type": "stream",
     "text": [
      "\n",
      "loss: tensor([-27.7542], device='cuda:0', grad_fn=<AddBackward0>):  25%|██▌       | 76/300 [00:40<01:43,  2.16it/s]\u001b[A\n",
      "loss: tensor([-27.7542], device='cuda:0', grad_fn=<AddBackward0>):  26%|██▌       | 77/300 [00:40<01:42,  2.18it/s]\u001b[A"
     ]
    },
    {
     "name": "stdout",
     "output_type": "stream",
     "text": [
      "image updated at \"./210215-053340-And_blood-black_nothingness_began_to_spin_a_system_of_cells_interlinked.png\"\n"
     ]
    },
    {
     "name": "stderr",
     "output_type": "stream",
     "text": [
      "\n",
      "loss: tensor([-27.8947], device='cuda:0', grad_fn=<AddBackward0>):  26%|██▌       | 77/300 [00:40<01:42,  2.18it/s]\u001b[A\n",
      "loss: tensor([-27.8947], device='cuda:0', grad_fn=<AddBackward0>):  26%|██▌       | 78/300 [00:40<01:41,  2.18it/s]\u001b[A"
     ]
    },
    {
     "name": "stdout",
     "output_type": "stream",
     "text": [
      "image updated at \"./210215-053340-And_blood-black_nothingness_began_to_spin_a_system_of_cells_interlinked.png\"\n"
     ]
    },
    {
     "name": "stderr",
     "output_type": "stream",
     "text": [
      "\n",
      "loss: tensor([-27.7107], device='cuda:0', grad_fn=<AddBackward0>):  26%|██▌       | 78/300 [00:41<01:41,  2.18it/s]\u001b[A\n",
      "loss: tensor([-27.7107], device='cuda:0', grad_fn=<AddBackward0>):  26%|██▋       | 79/300 [00:41<01:40,  2.19it/s]\u001b[A"
     ]
    },
    {
     "name": "stdout",
     "output_type": "stream",
     "text": [
      "image updated at \"./210215-053340-And_blood-black_nothingness_began_to_spin_a_system_of_cells_interlinked.png\"\n"
     ]
    },
    {
     "name": "stderr",
     "output_type": "stream",
     "text": [
      "\n",
      "loss: tensor([-27.6681], device='cuda:0', grad_fn=<AddBackward0>):  26%|██▋       | 79/300 [00:41<01:40,  2.19it/s]\u001b[A\n",
      "loss: tensor([-27.6681], device='cuda:0', grad_fn=<AddBackward0>):  27%|██▋       | 80/300 [00:41<01:42,  2.15it/s]\u001b[A"
     ]
    },
    {
     "name": "stdout",
     "output_type": "stream",
     "text": [
      "image updated at \"./210215-053340-And_blood-black_nothingness_began_to_spin_a_system_of_cells_interlinked.png\"\n"
     ]
    },
    {
     "name": "stderr",
     "output_type": "stream",
     "text": [
      "\n",
      "loss: tensor([-27.6125], device='cuda:0', grad_fn=<AddBackward0>):  27%|██▋       | 80/300 [00:41<01:42,  2.15it/s]\u001b[A\n",
      "loss: tensor([-27.6125], device='cuda:0', grad_fn=<AddBackward0>):  27%|██▋       | 81/300 [00:41<01:42,  2.14it/s]\u001b[A"
     ]
    },
    {
     "name": "stdout",
     "output_type": "stream",
     "text": [
      "image updated at \"./210215-053340-And_blood-black_nothingness_began_to_spin_a_system_of_cells_interlinked.png\"\n"
     ]
    },
    {
     "name": "stderr",
     "output_type": "stream",
     "text": [
      "\n",
      "loss: tensor([-27.6788], device='cuda:0', grad_fn=<AddBackward0>):  27%|██▋       | 81/300 [00:42<01:42,  2.14it/s]\u001b[A\n",
      "loss: tensor([-27.6788], device='cuda:0', grad_fn=<AddBackward0>):  27%|██▋       | 82/300 [00:42<01:41,  2.15it/s]\u001b[A"
     ]
    },
    {
     "name": "stdout",
     "output_type": "stream",
     "text": [
      "image updated at \"./210215-053340-And_blood-black_nothingness_began_to_spin_a_system_of_cells_interlinked.png\"\n"
     ]
    },
    {
     "name": "stderr",
     "output_type": "stream",
     "text": [
      "\n",
      "loss: tensor([-27.8344], device='cuda:0', grad_fn=<AddBackward0>):  27%|██▋       | 82/300 [00:42<01:41,  2.15it/s]\u001b[A\n",
      "loss: tensor([-27.8344], device='cuda:0', grad_fn=<AddBackward0>):  28%|██▊       | 83/300 [00:42<01:40,  2.15it/s]\u001b[A"
     ]
    },
    {
     "name": "stdout",
     "output_type": "stream",
     "text": [
      "image updated at \"./210215-053340-And_blood-black_nothingness_began_to_spin_a_system_of_cells_interlinked.png\"\n"
     ]
    },
    {
     "name": "stderr",
     "output_type": "stream",
     "text": [
      "\n",
      "loss: tensor([-27.9550], device='cuda:0', grad_fn=<AddBackward0>):  28%|██▊       | 83/300 [00:43<01:40,  2.15it/s]\u001b[A\n",
      "loss: tensor([-27.9550], device='cuda:0', grad_fn=<AddBackward0>):  28%|██▊       | 84/300 [00:43<01:41,  2.13it/s]\u001b[A"
     ]
    },
    {
     "name": "stdout",
     "output_type": "stream",
     "text": [
      "image updated at \"./210215-053340-And_blood-black_nothingness_began_to_spin_a_system_of_cells_interlinked.png\"\n"
     ]
    },
    {
     "name": "stderr",
     "output_type": "stream",
     "text": [
      "\n",
      "loss: tensor([-27.9568], device='cuda:0', grad_fn=<AddBackward0>):  28%|██▊       | 84/300 [00:43<01:41,  2.13it/s]\u001b[A\n",
      "loss: tensor([-27.9568], device='cuda:0', grad_fn=<AddBackward0>):  28%|██▊       | 85/300 [00:43<01:41,  2.12it/s]\u001b[A"
     ]
    },
    {
     "name": "stdout",
     "output_type": "stream",
     "text": [
      "image updated at \"./210215-053340-And_blood-black_nothingness_began_to_spin_a_system_of_cells_interlinked.png\"\n"
     ]
    },
    {
     "name": "stderr",
     "output_type": "stream",
     "text": [
      "\n",
      "loss: tensor([-28.0268], device='cuda:0', grad_fn=<AddBackward0>):  28%|██▊       | 85/300 [00:44<01:41,  2.12it/s]\u001b[A\n",
      "loss: tensor([-28.0268], device='cuda:0', grad_fn=<AddBackward0>):  29%|██▊       | 86/300 [00:44<01:43,  2.06it/s]\u001b[A"
     ]
    },
    {
     "name": "stdout",
     "output_type": "stream",
     "text": [
      "image updated at \"./210215-053340-And_blood-black_nothingness_began_to_spin_a_system_of_cells_interlinked.png\"\n"
     ]
    },
    {
     "name": "stderr",
     "output_type": "stream",
     "text": [
      "\n",
      "loss: tensor([-27.9402], device='cuda:0', grad_fn=<AddBackward0>):  29%|██▊       | 86/300 [00:44<01:43,  2.06it/s]\u001b[A\n",
      "loss: tensor([-27.9402], device='cuda:0', grad_fn=<AddBackward0>):  29%|██▉       | 87/300 [00:44<01:41,  2.10it/s]\u001b[A"
     ]
    },
    {
     "name": "stdout",
     "output_type": "stream",
     "text": [
      "image updated at \"./210215-053340-And_blood-black_nothingness_began_to_spin_a_system_of_cells_interlinked.png\"\n"
     ]
    },
    {
     "name": "stderr",
     "output_type": "stream",
     "text": [
      "\n",
      "loss: tensor([-28.0762], device='cuda:0', grad_fn=<AddBackward0>):  29%|██▉       | 87/300 [00:45<01:41,  2.10it/s]\u001b[A\n",
      "loss: tensor([-28.0762], device='cuda:0', grad_fn=<AddBackward0>):  29%|██▉       | 88/300 [00:45<01:44,  2.03it/s]\u001b[A"
     ]
    },
    {
     "name": "stdout",
     "output_type": "stream",
     "text": [
      "image updated at \"./210215-053340-And_blood-black_nothingness_began_to_spin_a_system_of_cells_interlinked.png\"\n"
     ]
    },
    {
     "name": "stderr",
     "output_type": "stream",
     "text": [
      "\n",
      "loss: tensor([-28.1908], device='cuda:0', grad_fn=<AddBackward0>):  29%|██▉       | 88/300 [00:45<01:44,  2.03it/s]\u001b[A\n",
      "loss: tensor([-28.1908], device='cuda:0', grad_fn=<AddBackward0>):  30%|██▉       | 89/300 [00:45<01:46,  1.98it/s]\u001b[A"
     ]
    },
    {
     "name": "stdout",
     "output_type": "stream",
     "text": [
      "image updated at \"./210215-053340-And_blood-black_nothingness_began_to_spin_a_system_of_cells_interlinked.png\"\n"
     ]
    },
    {
     "name": "stderr",
     "output_type": "stream",
     "text": [
      "\n",
      "loss: tensor([-28.2877], device='cuda:0', grad_fn=<AddBackward0>):  30%|██▉       | 89/300 [00:46<01:46,  1.98it/s]\u001b[A\n",
      "loss: tensor([-28.2877], device='cuda:0', grad_fn=<AddBackward0>):  30%|███       | 90/300 [00:46<01:47,  1.96it/s]\u001b[A"
     ]
    },
    {
     "name": "stdout",
     "output_type": "stream",
     "text": [
      "image updated at \"./210215-053340-And_blood-black_nothingness_began_to_spin_a_system_of_cells_interlinked.png\"\n"
     ]
    },
    {
     "name": "stderr",
     "output_type": "stream",
     "text": [
      "\n",
      "loss: tensor([-28.2342], device='cuda:0', grad_fn=<AddBackward0>):  30%|███       | 90/300 [00:46<01:47,  1.96it/s]\u001b[A\n",
      "loss: tensor([-28.2342], device='cuda:0', grad_fn=<AddBackward0>):  30%|███       | 91/300 [00:46<01:42,  2.03it/s]\u001b[A"
     ]
    },
    {
     "name": "stdout",
     "output_type": "stream",
     "text": [
      "image updated at \"./210215-053340-And_blood-black_nothingness_began_to_spin_a_system_of_cells_interlinked.png\"\n"
     ]
    },
    {
     "name": "stderr",
     "output_type": "stream",
     "text": [
      "\n",
      "loss: tensor([-28.2084], device='cuda:0', grad_fn=<AddBackward0>):  30%|███       | 91/300 [00:47<01:42,  2.03it/s]\u001b[A\n",
      "loss: tensor([-28.2084], device='cuda:0', grad_fn=<AddBackward0>):  31%|███       | 92/300 [00:47<01:39,  2.09it/s]\u001b[A"
     ]
    },
    {
     "name": "stdout",
     "output_type": "stream",
     "text": [
      "image updated at \"./210215-053340-And_blood-black_nothingness_began_to_spin_a_system_of_cells_interlinked.png\"\n"
     ]
    },
    {
     "name": "stderr",
     "output_type": "stream",
     "text": [
      "\n",
      "loss: tensor([-28.2759], device='cuda:0', grad_fn=<AddBackward0>):  31%|███       | 92/300 [00:47<01:39,  2.09it/s]\u001b[A\n",
      "loss: tensor([-28.2759], device='cuda:0', grad_fn=<AddBackward0>):  31%|███       | 93/300 [00:47<01:36,  2.14it/s]\u001b[A"
     ]
    },
    {
     "name": "stdout",
     "output_type": "stream",
     "text": [
      "image updated at \"./210215-053340-And_blood-black_nothingness_began_to_spin_a_system_of_cells_interlinked.png\"\n"
     ]
    },
    {
     "name": "stderr",
     "output_type": "stream",
     "text": [
      "\n",
      "loss: tensor([-28.3650], device='cuda:0', grad_fn=<AddBackward0>):  31%|███       | 93/300 [00:48<01:36,  2.14it/s]\u001b[A\n",
      "loss: tensor([-28.3650], device='cuda:0', grad_fn=<AddBackward0>):  31%|███▏      | 94/300 [00:48<01:39,  2.08it/s]\u001b[A"
     ]
    },
    {
     "name": "stdout",
     "output_type": "stream",
     "text": [
      "image updated at \"./210215-053340-And_blood-black_nothingness_began_to_spin_a_system_of_cells_interlinked.png\"\n"
     ]
    },
    {
     "name": "stderr",
     "output_type": "stream",
     "text": [
      "\n",
      "loss: tensor([-28.3963], device='cuda:0', grad_fn=<AddBackward0>):  31%|███▏      | 94/300 [00:48<01:39,  2.08it/s]\u001b[A\n",
      "loss: tensor([-28.3963], device='cuda:0', grad_fn=<AddBackward0>):  32%|███▏      | 95/300 [00:48<01:40,  2.04it/s]\u001b[A"
     ]
    },
    {
     "name": "stdout",
     "output_type": "stream",
     "text": [
      "image updated at \"./210215-053340-And_blood-black_nothingness_began_to_spin_a_system_of_cells_interlinked.png\"\n"
     ]
    },
    {
     "name": "stderr",
     "output_type": "stream",
     "text": [
      "\n",
      "loss: tensor([-28.2743], device='cuda:0', grad_fn=<AddBackward0>):  32%|███▏      | 95/300 [00:49<01:40,  2.04it/s]\u001b[A\n",
      "loss: tensor([-28.2743], device='cuda:0', grad_fn=<AddBackward0>):  32%|███▏      | 96/300 [00:49<01:37,  2.08it/s]\u001b[A"
     ]
    },
    {
     "name": "stdout",
     "output_type": "stream",
     "text": [
      "image updated at \"./210215-053340-And_blood-black_nothingness_began_to_spin_a_system_of_cells_interlinked.png\"\n"
     ]
    },
    {
     "name": "stderr",
     "output_type": "stream",
     "text": [
      "\n",
      "loss: tensor([-28.3984], device='cuda:0', grad_fn=<AddBackward0>):  32%|███▏      | 96/300 [00:49<01:37,  2.08it/s]\u001b[A\n",
      "loss: tensor([-28.3984], device='cuda:0', grad_fn=<AddBackward0>):  32%|███▏      | 97/300 [00:49<01:35,  2.13it/s]\u001b[A"
     ]
    },
    {
     "name": "stdout",
     "output_type": "stream",
     "text": [
      "image updated at \"./210215-053340-And_blood-black_nothingness_began_to_spin_a_system_of_cells_interlinked.png\"\n"
     ]
    },
    {
     "name": "stderr",
     "output_type": "stream",
     "text": [
      "\n",
      "loss: tensor([-28.4288], device='cuda:0', grad_fn=<AddBackward0>):  32%|███▏      | 97/300 [00:50<01:35,  2.13it/s]\u001b[A\n",
      "loss: tensor([-28.4288], device='cuda:0', grad_fn=<AddBackward0>):  33%|███▎      | 98/300 [00:50<01:37,  2.08it/s]\u001b[A"
     ]
    },
    {
     "name": "stdout",
     "output_type": "stream",
     "text": [
      "image updated at \"./210215-053340-And_blood-black_nothingness_began_to_spin_a_system_of_cells_interlinked.png\"\n"
     ]
    },
    {
     "name": "stderr",
     "output_type": "stream",
     "text": [
      "\n",
      "loss: tensor([-28.5529], device='cuda:0', grad_fn=<AddBackward0>):  33%|███▎      | 98/300 [00:50<01:37,  2.08it/s]\u001b[A\n",
      "loss: tensor([-28.5529], device='cuda:0', grad_fn=<AddBackward0>):  33%|███▎      | 99/300 [00:50<01:38,  2.04it/s]\u001b[A"
     ]
    },
    {
     "name": "stdout",
     "output_type": "stream",
     "text": [
      "image updated at \"./210215-053340-And_blood-black_nothingness_began_to_spin_a_system_of_cells_interlinked.png\"\n"
     ]
    },
    {
     "name": "stderr",
     "output_type": "stream",
     "text": [
      "\n",
      "loss: tensor([-28.5868], device='cuda:0', grad_fn=<AddBackward0>):  33%|███▎      | 99/300 [00:51<01:38,  2.04it/s]\u001b[A\n",
      "loss: tensor([-28.5868], device='cuda:0', grad_fn=<AddBackward0>):  33%|███▎      | 100/300 [00:51<01:39,  2.01it/s]\u001b[A"
     ]
    },
    {
     "name": "stdout",
     "output_type": "stream",
     "text": [
      "image updated at \"./210215-053340-And_blood-black_nothingness_began_to_spin_a_system_of_cells_interlinked.png\"\n"
     ]
    },
    {
     "name": "stderr",
     "output_type": "stream",
     "text": [
      "\n",
      "loss: tensor([-28.4296], device='cuda:0', grad_fn=<AddBackward0>):  33%|███▎      | 100/300 [00:51<01:39,  2.01it/s]\u001b[A\n",
      "loss: tensor([-28.4296], device='cuda:0', grad_fn=<AddBackward0>):  34%|███▎      | 101/300 [00:51<01:36,  2.05it/s]\u001b[A"
     ]
    },
    {
     "name": "stdout",
     "output_type": "stream",
     "text": [
      "image updated at \"./210215-053340-And_blood-black_nothingness_began_to_spin_a_system_of_cells_interlinked.png\"\n"
     ]
    },
    {
     "name": "stderr",
     "output_type": "stream",
     "text": [
      "\n",
      "loss: tensor([-28.5292], device='cuda:0', grad_fn=<AddBackward0>):  34%|███▎      | 101/300 [00:52<01:36,  2.05it/s]\u001b[A\n",
      "loss: tensor([-28.5292], device='cuda:0', grad_fn=<AddBackward0>):  34%|███▍      | 102/300 [00:52<01:34,  2.09it/s]\u001b[A"
     ]
    },
    {
     "name": "stdout",
     "output_type": "stream",
     "text": [
      "image updated at \"./210215-053340-And_blood-black_nothingness_began_to_spin_a_system_of_cells_interlinked.png\"\n"
     ]
    },
    {
     "name": "stderr",
     "output_type": "stream",
     "text": [
      "\n",
      "loss: tensor([-28.4333], device='cuda:0', grad_fn=<AddBackward0>):  34%|███▍      | 102/300 [00:52<01:34,  2.09it/s]\u001b[A\n",
      "loss: tensor([-28.4333], device='cuda:0', grad_fn=<AddBackward0>):  34%|███▍      | 103/300 [00:52<01:32,  2.12it/s]\u001b[A"
     ]
    },
    {
     "name": "stdout",
     "output_type": "stream",
     "text": [
      "image updated at \"./210215-053340-And_blood-black_nothingness_began_to_spin_a_system_of_cells_interlinked.png\"\n"
     ]
    },
    {
     "name": "stderr",
     "output_type": "stream",
     "text": [
      "\n",
      "loss: tensor([-28.3486], device='cuda:0', grad_fn=<AddBackward0>):  34%|███▍      | 103/300 [00:53<01:32,  2.12it/s]\u001b[A\n",
      "loss: tensor([-28.3486], device='cuda:0', grad_fn=<AddBackward0>):  35%|███▍      | 104/300 [00:53<01:31,  2.15it/s]\u001b[A"
     ]
    },
    {
     "name": "stdout",
     "output_type": "stream",
     "text": [
      "image updated at \"./210215-053340-And_blood-black_nothingness_began_to_spin_a_system_of_cells_interlinked.png\"\n"
     ]
    },
    {
     "name": "stderr",
     "output_type": "stream",
     "text": [
      "\n",
      "loss: tensor([-28.4468], device='cuda:0', grad_fn=<AddBackward0>):  35%|███▍      | 104/300 [00:53<01:31,  2.15it/s]\u001b[A\n",
      "loss: tensor([-28.4468], device='cuda:0', grad_fn=<AddBackward0>):  35%|███▌      | 105/300 [00:53<01:31,  2.13it/s]\u001b[A"
     ]
    },
    {
     "name": "stdout",
     "output_type": "stream",
     "text": [
      "image updated at \"./210215-053340-And_blood-black_nothingness_began_to_spin_a_system_of_cells_interlinked.png\"\n"
     ]
    },
    {
     "name": "stderr",
     "output_type": "stream",
     "text": [
      "\n",
      "loss: tensor([-28.4435], device='cuda:0', grad_fn=<AddBackward0>):  35%|███▌      | 105/300 [00:54<01:31,  2.13it/s]\u001b[A\n",
      "loss: tensor([-28.4435], device='cuda:0', grad_fn=<AddBackward0>):  35%|███▌      | 106/300 [00:54<01:31,  2.12it/s]\u001b[A"
     ]
    },
    {
     "name": "stdout",
     "output_type": "stream",
     "text": [
      "image updated at \"./210215-053340-And_blood-black_nothingness_began_to_spin_a_system_of_cells_interlinked.png\"\n"
     ]
    },
    {
     "name": "stderr",
     "output_type": "stream",
     "text": [
      "\n",
      "loss: tensor([-28.5606], device='cuda:0', grad_fn=<AddBackward0>):  35%|███▌      | 106/300 [00:54<01:31,  2.12it/s]\u001b[A\n",
      "loss: tensor([-28.5606], device='cuda:0', grad_fn=<AddBackward0>):  36%|███▌      | 107/300 [00:54<01:30,  2.13it/s]\u001b[A"
     ]
    },
    {
     "name": "stdout",
     "output_type": "stream",
     "text": [
      "image updated at \"./210215-053340-And_blood-black_nothingness_began_to_spin_a_system_of_cells_interlinked.png\"\n"
     ]
    },
    {
     "name": "stderr",
     "output_type": "stream",
     "text": [
      "\n",
      "loss: tensor([-28.3400], device='cuda:0', grad_fn=<AddBackward0>):  36%|███▌      | 107/300 [00:54<01:30,  2.13it/s]\u001b[A\n",
      "loss: tensor([-28.3400], device='cuda:0', grad_fn=<AddBackward0>):  36%|███▌      | 108/300 [00:54<01:29,  2.14it/s]\u001b[A"
     ]
    },
    {
     "name": "stdout",
     "output_type": "stream",
     "text": [
      "image updated at \"./210215-053340-And_blood-black_nothingness_began_to_spin_a_system_of_cells_interlinked.png\"\n"
     ]
    },
    {
     "name": "stderr",
     "output_type": "stream",
     "text": [
      "\n",
      "loss: tensor([-28.6006], device='cuda:0', grad_fn=<AddBackward0>):  36%|███▌      | 108/300 [00:55<01:29,  2.14it/s]\u001b[A\n",
      "loss: tensor([-28.6006], device='cuda:0', grad_fn=<AddBackward0>):  36%|███▋      | 109/300 [00:55<01:28,  2.16it/s]\u001b[A"
     ]
    },
    {
     "name": "stdout",
     "output_type": "stream",
     "text": [
      "image updated at \"./210215-053340-And_blood-black_nothingness_began_to_spin_a_system_of_cells_interlinked.png\"\n"
     ]
    },
    {
     "name": "stderr",
     "output_type": "stream",
     "text": [
      "\n",
      "loss: tensor([-28.6315], device='cuda:0', grad_fn=<AddBackward0>):  36%|███▋      | 109/300 [00:55<01:28,  2.16it/s]\u001b[A\n",
      "loss: tensor([-28.6315], device='cuda:0', grad_fn=<AddBackward0>):  37%|███▋      | 110/300 [00:55<01:31,  2.07it/s]\u001b[A"
     ]
    },
    {
     "name": "stdout",
     "output_type": "stream",
     "text": [
      "image updated at \"./210215-053340-And_blood-black_nothingness_began_to_spin_a_system_of_cells_interlinked.png\"\n"
     ]
    },
    {
     "name": "stderr",
     "output_type": "stream",
     "text": [
      "\n",
      "loss: tensor([-28.7543], device='cuda:0', grad_fn=<AddBackward0>):  37%|███▋      | 110/300 [00:56<01:31,  2.07it/s]\u001b[A\n",
      "loss: tensor([-28.7543], device='cuda:0', grad_fn=<AddBackward0>):  37%|███▋      | 111/300 [00:56<01:34,  2.01it/s]\u001b[A"
     ]
    },
    {
     "name": "stdout",
     "output_type": "stream",
     "text": [
      "image updated at \"./210215-053340-And_blood-black_nothingness_began_to_spin_a_system_of_cells_interlinked.png\"\n"
     ]
    },
    {
     "name": "stderr",
     "output_type": "stream",
     "text": [
      "\n",
      "loss: tensor([-28.6849], device='cuda:0', grad_fn=<AddBackward0>):  37%|███▋      | 111/300 [00:56<01:34,  2.01it/s]\u001b[A\n",
      "loss: tensor([-28.6849], device='cuda:0', grad_fn=<AddBackward0>):  37%|███▋      | 112/300 [00:56<01:31,  2.05it/s]\u001b[A"
     ]
    },
    {
     "name": "stdout",
     "output_type": "stream",
     "text": [
      "image updated at \"./210215-053340-And_blood-black_nothingness_began_to_spin_a_system_of_cells_interlinked.png\"\n"
     ]
    },
    {
     "name": "stderr",
     "output_type": "stream",
     "text": [
      "\n",
      "loss: tensor([-28.7184], device='cuda:0', grad_fn=<AddBackward0>):  37%|███▋      | 112/300 [00:57<01:31,  2.05it/s]\u001b[A\n",
      "loss: tensor([-28.7184], device='cuda:0', grad_fn=<AddBackward0>):  38%|███▊      | 113/300 [00:57<01:29,  2.08it/s]\u001b[A"
     ]
    },
    {
     "name": "stdout",
     "output_type": "stream",
     "text": [
      "image updated at \"./210215-053340-And_blood-black_nothingness_began_to_spin_a_system_of_cells_interlinked.png\"\n"
     ]
    },
    {
     "name": "stderr",
     "output_type": "stream",
     "text": [
      "\n",
      "loss: tensor([-28.6035], device='cuda:0', grad_fn=<AddBackward0>):  38%|███▊      | 113/300 [00:57<01:29,  2.08it/s]\u001b[A\n",
      "loss: tensor([-28.6035], device='cuda:0', grad_fn=<AddBackward0>):  38%|███▊      | 114/300 [00:57<01:27,  2.12it/s]\u001b[A"
     ]
    },
    {
     "name": "stdout",
     "output_type": "stream",
     "text": [
      "image updated at \"./210215-053340-And_blood-black_nothingness_began_to_spin_a_system_of_cells_interlinked.png\"\n"
     ]
    },
    {
     "name": "stderr",
     "output_type": "stream",
     "text": [
      "\n",
      "loss: tensor([-28.6203], device='cuda:0', grad_fn=<AddBackward0>):  38%|███▊      | 114/300 [00:58<01:27,  2.12it/s]\u001b[A\n",
      "loss: tensor([-28.6203], device='cuda:0', grad_fn=<AddBackward0>):  38%|███▊      | 115/300 [00:58<01:26,  2.13it/s]\u001b[A"
     ]
    },
    {
     "name": "stdout",
     "output_type": "stream",
     "text": [
      "image updated at \"./210215-053340-And_blood-black_nothingness_began_to_spin_a_system_of_cells_interlinked.png\"\n"
     ]
    },
    {
     "name": "stderr",
     "output_type": "stream",
     "text": [
      "\n",
      "loss: tensor([-28.8466], device='cuda:0', grad_fn=<AddBackward0>):  38%|███▊      | 115/300 [00:58<01:26,  2.13it/s]\u001b[A\n",
      "loss: tensor([-28.8466], device='cuda:0', grad_fn=<AddBackward0>):  39%|███▊      | 116/300 [00:58<01:30,  2.04it/s]\u001b[A"
     ]
    },
    {
     "name": "stdout",
     "output_type": "stream",
     "text": [
      "image updated at \"./210215-053340-And_blood-black_nothingness_began_to_spin_a_system_of_cells_interlinked.png\"\n"
     ]
    },
    {
     "name": "stderr",
     "output_type": "stream",
     "text": [
      "\n",
      "loss: tensor([-28.6638], device='cuda:0', grad_fn=<AddBackward0>):  39%|███▊      | 116/300 [00:59<01:30,  2.04it/s]\u001b[A\n",
      "loss: tensor([-28.6638], device='cuda:0', grad_fn=<AddBackward0>):  39%|███▉      | 117/300 [00:59<01:27,  2.08it/s]\u001b[A"
     ]
    },
    {
     "name": "stdout",
     "output_type": "stream",
     "text": [
      "image updated at \"./210215-053340-And_blood-black_nothingness_began_to_spin_a_system_of_cells_interlinked.png\"\n"
     ]
    },
    {
     "name": "stderr",
     "output_type": "stream",
     "text": [
      "\n",
      "loss: tensor([-28.7969], device='cuda:0', grad_fn=<AddBackward0>):  39%|███▉      | 117/300 [00:59<01:27,  2.08it/s]\u001b[A\n",
      "loss: tensor([-28.7969], device='cuda:0', grad_fn=<AddBackward0>):  39%|███▉      | 118/300 [00:59<01:26,  2.12it/s]\u001b[A"
     ]
    },
    {
     "name": "stdout",
     "output_type": "stream",
     "text": [
      "image updated at \"./210215-053340-And_blood-black_nothingness_began_to_spin_a_system_of_cells_interlinked.png\"\n"
     ]
    },
    {
     "name": "stderr",
     "output_type": "stream",
     "text": [
      "\n",
      "loss: tensor([-28.7326], device='cuda:0', grad_fn=<AddBackward0>):  39%|███▉      | 118/300 [01:00<01:26,  2.12it/s]\u001b[A\n",
      "loss: tensor([-28.7326], device='cuda:0', grad_fn=<AddBackward0>):  40%|███▉      | 119/300 [01:00<01:24,  2.14it/s]\u001b[A"
     ]
    },
    {
     "name": "stdout",
     "output_type": "stream",
     "text": [
      "image updated at \"./210215-053340-And_blood-black_nothingness_began_to_spin_a_system_of_cells_interlinked.png\"\n"
     ]
    },
    {
     "name": "stderr",
     "output_type": "stream",
     "text": [
      "\n",
      "loss: tensor([-28.6376], device='cuda:0', grad_fn=<AddBackward0>):  40%|███▉      | 119/300 [01:00<01:24,  2.14it/s]\u001b[A\n",
      "loss: tensor([-28.6376], device='cuda:0', grad_fn=<AddBackward0>):  40%|████      | 120/300 [01:00<01:23,  2.16it/s]\u001b[A"
     ]
    },
    {
     "name": "stdout",
     "output_type": "stream",
     "text": [
      "image updated at \"./210215-053340-And_blood-black_nothingness_began_to_spin_a_system_of_cells_interlinked.png\"\n"
     ]
    },
    {
     "name": "stderr",
     "output_type": "stream",
     "text": [
      "\n",
      "loss: tensor([-28.8921], device='cuda:0', grad_fn=<AddBackward0>):  40%|████      | 120/300 [01:01<01:23,  2.16it/s]\u001b[A\n",
      "loss: tensor([-28.8921], device='cuda:0', grad_fn=<AddBackward0>):  40%|████      | 121/300 [01:01<01:26,  2.06it/s]\u001b[A"
     ]
    },
    {
     "name": "stdout",
     "output_type": "stream",
     "text": [
      "image updated at \"./210215-053340-And_blood-black_nothingness_began_to_spin_a_system_of_cells_interlinked.png\"\n"
     ]
    },
    {
     "name": "stderr",
     "output_type": "stream",
     "text": [
      "\n",
      "loss: tensor([-28.7800], device='cuda:0', grad_fn=<AddBackward0>):  40%|████      | 121/300 [01:01<01:26,  2.06it/s]\u001b[A\n",
      "loss: tensor([-28.7800], device='cuda:0', grad_fn=<AddBackward0>):  41%|████      | 122/300 [01:01<01:26,  2.06it/s]\u001b[A"
     ]
    },
    {
     "name": "stdout",
     "output_type": "stream",
     "text": [
      "image updated at \"./210215-053340-And_blood-black_nothingness_began_to_spin_a_system_of_cells_interlinked.png\"\n"
     ]
    },
    {
     "name": "stderr",
     "output_type": "stream",
     "text": [
      "\n",
      "loss: tensor([-28.7165], device='cuda:0', grad_fn=<AddBackward0>):  41%|████      | 122/300 [01:02<01:26,  2.06it/s]\u001b[A\n",
      "loss: tensor([-28.7165], device='cuda:0', grad_fn=<AddBackward0>):  41%|████      | 123/300 [01:02<01:24,  2.10it/s]\u001b[A"
     ]
    },
    {
     "name": "stdout",
     "output_type": "stream",
     "text": [
      "image updated at \"./210215-053340-And_blood-black_nothingness_began_to_spin_a_system_of_cells_interlinked.png\"\n"
     ]
    },
    {
     "name": "stderr",
     "output_type": "stream",
     "text": [
      "\n",
      "loss: tensor([-28.7946], device='cuda:0', grad_fn=<AddBackward0>):  41%|████      | 123/300 [01:02<01:24,  2.10it/s]\u001b[A\n",
      "loss: tensor([-28.7946], device='cuda:0', grad_fn=<AddBackward0>):  41%|████▏     | 124/300 [01:02<01:22,  2.13it/s]\u001b[A"
     ]
    },
    {
     "name": "stdout",
     "output_type": "stream",
     "text": [
      "image updated at \"./210215-053340-And_blood-black_nothingness_began_to_spin_a_system_of_cells_interlinked.png\"\n"
     ]
    },
    {
     "name": "stderr",
     "output_type": "stream",
     "text": [
      "\n",
      "loss: tensor([-29.0114], device='cuda:0', grad_fn=<AddBackward0>):  41%|████▏     | 124/300 [01:03<01:22,  2.13it/s]\u001b[A\n",
      "loss: tensor([-29.0114], device='cuda:0', grad_fn=<AddBackward0>):  42%|████▏     | 125/300 [01:03<01:25,  2.05it/s]\u001b[A"
     ]
    },
    {
     "name": "stdout",
     "output_type": "stream",
     "text": [
      "image updated at \"./210215-053340-And_blood-black_nothingness_began_to_spin_a_system_of_cells_interlinked.png\"\n"
     ]
    },
    {
     "name": "stderr",
     "output_type": "stream",
     "text": [
      "\n",
      "loss: tensor([-29.0529], device='cuda:0', grad_fn=<AddBackward0>):  42%|████▏     | 125/300 [01:03<01:25,  2.05it/s]\u001b[A\n",
      "loss: tensor([-29.0529], device='cuda:0', grad_fn=<AddBackward0>):  42%|████▏     | 126/300 [01:03<01:27,  1.99it/s]\u001b[A"
     ]
    },
    {
     "name": "stdout",
     "output_type": "stream",
     "text": [
      "image updated at \"./210215-053340-And_blood-black_nothingness_began_to_spin_a_system_of_cells_interlinked.png\"\n"
     ]
    },
    {
     "name": "stderr",
     "output_type": "stream",
     "text": [
      "\n",
      "loss: tensor([-28.8121], device='cuda:0', grad_fn=<AddBackward0>):  42%|████▏     | 126/300 [01:04<01:27,  1.99it/s]\u001b[A\n",
      "loss: tensor([-28.8121], device='cuda:0', grad_fn=<AddBackward0>):  42%|████▏     | 127/300 [01:04<01:24,  2.05it/s]\u001b[A"
     ]
    },
    {
     "name": "stdout",
     "output_type": "stream",
     "text": [
      "image updated at \"./210215-053340-And_blood-black_nothingness_began_to_spin_a_system_of_cells_interlinked.png\"\n"
     ]
    },
    {
     "name": "stderr",
     "output_type": "stream",
     "text": [
      "\n",
      "loss: tensor([-28.9071], device='cuda:0', grad_fn=<AddBackward0>):  42%|████▏     | 127/300 [01:04<01:24,  2.05it/s]\u001b[A\n",
      "loss: tensor([-28.9071], device='cuda:0', grad_fn=<AddBackward0>):  43%|████▎     | 128/300 [01:04<01:21,  2.10it/s]\u001b[A"
     ]
    },
    {
     "name": "stdout",
     "output_type": "stream",
     "text": [
      "image updated at \"./210215-053340-And_blood-black_nothingness_began_to_spin_a_system_of_cells_interlinked.png\"\n"
     ]
    },
    {
     "name": "stderr",
     "output_type": "stream",
     "text": [
      "\n",
      "loss: tensor([-28.8448], device='cuda:0', grad_fn=<AddBackward0>):  43%|████▎     | 128/300 [01:05<01:21,  2.10it/s]\u001b[A\n",
      "loss: tensor([-28.8448], device='cuda:0', grad_fn=<AddBackward0>):  43%|████▎     | 129/300 [01:05<01:20,  2.13it/s]\u001b[A"
     ]
    },
    {
     "name": "stdout",
     "output_type": "stream",
     "text": [
      "image updated at \"./210215-053340-And_blood-black_nothingness_began_to_spin_a_system_of_cells_interlinked.png\"\n"
     ]
    },
    {
     "name": "stderr",
     "output_type": "stream",
     "text": [
      "\n",
      "loss: tensor([-28.9721], device='cuda:0', grad_fn=<AddBackward0>):  43%|████▎     | 129/300 [01:05<01:20,  2.13it/s]\u001b[A\n",
      "loss: tensor([-28.9721], device='cuda:0', grad_fn=<AddBackward0>):  43%|████▎     | 130/300 [01:05<01:19,  2.15it/s]\u001b[A"
     ]
    },
    {
     "name": "stdout",
     "output_type": "stream",
     "text": [
      "image updated at \"./210215-053340-And_blood-black_nothingness_began_to_spin_a_system_of_cells_interlinked.png\"\n"
     ]
    },
    {
     "name": "stderr",
     "output_type": "stream",
     "text": [
      "\n",
      "loss: tensor([-29.0674], device='cuda:0', grad_fn=<AddBackward0>):  43%|████▎     | 130/300 [01:05<01:19,  2.15it/s]\u001b[A\n",
      "loss: tensor([-29.0674], device='cuda:0', grad_fn=<AddBackward0>):  44%|████▎     | 131/300 [01:05<01:20,  2.09it/s]\u001b[A"
     ]
    },
    {
     "name": "stdout",
     "output_type": "stream",
     "text": [
      "image updated at \"./210215-053340-And_blood-black_nothingness_began_to_spin_a_system_of_cells_interlinked.png\"\n"
     ]
    },
    {
     "name": "stderr",
     "output_type": "stream",
     "text": [
      "\n",
      "loss: tensor([-29.0086], device='cuda:0', grad_fn=<AddBackward0>):  44%|████▎     | 131/300 [01:06<01:20,  2.09it/s]\u001b[A\n",
      "loss: tensor([-29.0086], device='cuda:0', grad_fn=<AddBackward0>):  44%|████▍     | 132/300 [01:06<01:24,  1.98it/s]\u001b[A"
     ]
    },
    {
     "name": "stdout",
     "output_type": "stream",
     "text": [
      "image updated at \"./210215-053340-And_blood-black_nothingness_began_to_spin_a_system_of_cells_interlinked.png\"\n"
     ]
    },
    {
     "name": "stderr",
     "output_type": "stream",
     "text": [
      "\n",
      "loss: tensor([-28.9194], device='cuda:0', grad_fn=<AddBackward0>):  44%|████▍     | 132/300 [01:06<01:24,  1.98it/s]\u001b[A\n",
      "loss: tensor([-28.9194], device='cuda:0', grad_fn=<AddBackward0>):  44%|████▍     | 133/300 [01:06<01:21,  2.04it/s]\u001b[A"
     ]
    },
    {
     "name": "stdout",
     "output_type": "stream",
     "text": [
      "image updated at \"./210215-053340-And_blood-black_nothingness_began_to_spin_a_system_of_cells_interlinked.png\"\n"
     ]
    },
    {
     "name": "stderr",
     "output_type": "stream",
     "text": [
      "\n",
      "loss: tensor([-28.8916], device='cuda:0', grad_fn=<AddBackward0>):  44%|████▍     | 133/300 [01:07<01:21,  2.04it/s]\u001b[A\n",
      "loss: tensor([-28.8916], device='cuda:0', grad_fn=<AddBackward0>):  45%|████▍     | 134/300 [01:07<01:19,  2.08it/s]\u001b[A"
     ]
    },
    {
     "name": "stdout",
     "output_type": "stream",
     "text": [
      "image updated at \"./210215-053340-And_blood-black_nothingness_began_to_spin_a_system_of_cells_interlinked.png\"\n"
     ]
    },
    {
     "name": "stderr",
     "output_type": "stream",
     "text": [
      "\n",
      "loss: tensor([-28.9207], device='cuda:0', grad_fn=<AddBackward0>):  45%|████▍     | 134/300 [01:07<01:19,  2.08it/s]\u001b[A\n",
      "loss: tensor([-28.9207], device='cuda:0', grad_fn=<AddBackward0>):  45%|████▌     | 135/300 [01:07<01:17,  2.12it/s]\u001b[A"
     ]
    },
    {
     "name": "stdout",
     "output_type": "stream",
     "text": [
      "image updated at \"./210215-053340-And_blood-black_nothingness_began_to_spin_a_system_of_cells_interlinked.png\"\n"
     ]
    },
    {
     "name": "stderr",
     "output_type": "stream",
     "text": [
      "\n",
      "loss: tensor([-29.1132], device='cuda:0', grad_fn=<AddBackward0>):  45%|████▌     | 135/300 [01:08<01:17,  2.12it/s]\u001b[A\n",
      "loss: tensor([-29.1132], device='cuda:0', grad_fn=<AddBackward0>):  45%|████▌     | 136/300 [01:08<01:21,  2.01it/s]\u001b[A"
     ]
    },
    {
     "name": "stdout",
     "output_type": "stream",
     "text": [
      "image updated at \"./210215-053340-And_blood-black_nothingness_began_to_spin_a_system_of_cells_interlinked.png\"\n"
     ]
    },
    {
     "name": "stderr",
     "output_type": "stream",
     "text": [
      "\n",
      "loss: tensor([-29.0424], device='cuda:0', grad_fn=<AddBackward0>):  45%|████▌     | 136/300 [01:08<01:21,  2.01it/s]\u001b[A\n",
      "loss: tensor([-29.0424], device='cuda:0', grad_fn=<AddBackward0>):  46%|████▌     | 137/300 [01:08<01:19,  2.06it/s]\u001b[A"
     ]
    },
    {
     "name": "stdout",
     "output_type": "stream",
     "text": [
      "image updated at \"./210215-053340-And_blood-black_nothingness_began_to_spin_a_system_of_cells_interlinked.png\"\n"
     ]
    },
    {
     "name": "stderr",
     "output_type": "stream",
     "text": [
      "\n",
      "loss: tensor([-28.9767], device='cuda:0', grad_fn=<AddBackward0>):  46%|████▌     | 137/300 [01:09<01:19,  2.06it/s]\u001b[A\n",
      "loss: tensor([-28.9767], device='cuda:0', grad_fn=<AddBackward0>):  46%|████▌     | 138/300 [01:09<01:17,  2.10it/s]\u001b[A"
     ]
    },
    {
     "name": "stdout",
     "output_type": "stream",
     "text": [
      "image updated at \"./210215-053340-And_blood-black_nothingness_began_to_spin_a_system_of_cells_interlinked.png\"\n"
     ]
    },
    {
     "name": "stderr",
     "output_type": "stream",
     "text": [
      "\n",
      "loss: tensor([-28.9510], device='cuda:0', grad_fn=<AddBackward0>):  46%|████▌     | 138/300 [01:09<01:17,  2.10it/s]\u001b[A\n",
      "loss: tensor([-28.9510], device='cuda:0', grad_fn=<AddBackward0>):  46%|████▋     | 139/300 [01:09<01:15,  2.14it/s]\u001b[A"
     ]
    },
    {
     "name": "stdout",
     "output_type": "stream",
     "text": [
      "image updated at \"./210215-053340-And_blood-black_nothingness_began_to_spin_a_system_of_cells_interlinked.png\"\n"
     ]
    },
    {
     "name": "stderr",
     "output_type": "stream",
     "text": [
      "\n",
      "loss: tensor([-28.9591], device='cuda:0', grad_fn=<AddBackward0>):  46%|████▋     | 139/300 [01:10<01:15,  2.14it/s]\u001b[A\n",
      "loss: tensor([-28.9591], device='cuda:0', grad_fn=<AddBackward0>):  47%|████▋     | 140/300 [01:10<01:14,  2.13it/s]\u001b[A"
     ]
    },
    {
     "name": "stdout",
     "output_type": "stream",
     "text": [
      "image updated at \"./210215-053340-And_blood-black_nothingness_began_to_spin_a_system_of_cells_interlinked.png\"\n"
     ]
    },
    {
     "name": "stderr",
     "output_type": "stream",
     "text": [
      "\n",
      "loss: tensor([-28.9597], device='cuda:0', grad_fn=<AddBackward0>):  47%|████▋     | 140/300 [01:10<01:14,  2.13it/s]\u001b[A\n",
      "loss: tensor([-28.9597], device='cuda:0', grad_fn=<AddBackward0>):  47%|████▋     | 141/300 [01:10<01:13,  2.16it/s]\u001b[A"
     ]
    },
    {
     "name": "stdout",
     "output_type": "stream",
     "text": [
      "image updated at \"./210215-053340-And_blood-black_nothingness_began_to_spin_a_system_of_cells_interlinked.png\"\n"
     ]
    },
    {
     "name": "stderr",
     "output_type": "stream",
     "text": [
      "\n",
      "loss: tensor([-29.1400], device='cuda:0', grad_fn=<AddBackward0>):  47%|████▋     | 141/300 [01:11<01:13,  2.16it/s]\u001b[A\n",
      "loss: tensor([-29.1400], device='cuda:0', grad_fn=<AddBackward0>):  47%|████▋     | 142/300 [01:11<01:16,  2.08it/s]\u001b[A"
     ]
    },
    {
     "name": "stdout",
     "output_type": "stream",
     "text": [
      "image updated at \"./210215-053340-And_blood-black_nothingness_began_to_spin_a_system_of_cells_interlinked.png\"\n"
     ]
    },
    {
     "name": "stderr",
     "output_type": "stream",
     "text": [
      "\n",
      "loss: tensor([-28.8244], device='cuda:0', grad_fn=<AddBackward0>):  47%|████▋     | 142/300 [01:11<01:16,  2.08it/s]\u001b[A\n",
      "loss: tensor([-28.8244], device='cuda:0', grad_fn=<AddBackward0>):  48%|████▊     | 143/300 [01:11<01:15,  2.09it/s]\u001b[A"
     ]
    },
    {
     "name": "stdout",
     "output_type": "stream",
     "text": [
      "image updated at \"./210215-053340-And_blood-black_nothingness_began_to_spin_a_system_of_cells_interlinked.png\"\n"
     ]
    },
    {
     "name": "stderr",
     "output_type": "stream",
     "text": [
      "\n",
      "loss: tensor([-28.8826], device='cuda:0', grad_fn=<AddBackward0>):  48%|████▊     | 143/300 [01:12<01:15,  2.09it/s]\u001b[A\n",
      "loss: tensor([-28.8826], device='cuda:0', grad_fn=<AddBackward0>):  48%|████▊     | 144/300 [01:12<01:14,  2.10it/s]\u001b[A"
     ]
    },
    {
     "name": "stdout",
     "output_type": "stream",
     "text": [
      "image updated at \"./210215-053340-And_blood-black_nothingness_began_to_spin_a_system_of_cells_interlinked.png\"\n"
     ]
    },
    {
     "name": "stderr",
     "output_type": "stream",
     "text": [
      "\n",
      "loss: tensor([-28.9828], device='cuda:0', grad_fn=<AddBackward0>):  48%|████▊     | 144/300 [01:12<01:14,  2.10it/s]\u001b[A\n",
      "loss: tensor([-28.9828], device='cuda:0', grad_fn=<AddBackward0>):  48%|████▊     | 145/300 [01:12<01:12,  2.13it/s]\u001b[A"
     ]
    },
    {
     "name": "stdout",
     "output_type": "stream",
     "text": [
      "image updated at \"./210215-053340-And_blood-black_nothingness_began_to_spin_a_system_of_cells_interlinked.png\"\n"
     ]
    },
    {
     "name": "stderr",
     "output_type": "stream",
     "text": [
      "\n",
      "loss: tensor([-29.1754], device='cuda:0', grad_fn=<AddBackward0>):  48%|████▊     | 145/300 [01:13<01:12,  2.13it/s]\u001b[A\n",
      "loss: tensor([-29.1754], device='cuda:0', grad_fn=<AddBackward0>):  49%|████▊     | 146/300 [01:13<01:15,  2.05it/s]\u001b[A"
     ]
    },
    {
     "name": "stdout",
     "output_type": "stream",
     "text": [
      "image updated at \"./210215-053340-And_blood-black_nothingness_began_to_spin_a_system_of_cells_interlinked.png\"\n"
     ]
    },
    {
     "name": "stderr",
     "output_type": "stream",
     "text": [
      "\n",
      "loss: tensor([-29.0589], device='cuda:0', grad_fn=<AddBackward0>):  49%|████▊     | 146/300 [01:13<01:15,  2.05it/s]\u001b[A\n",
      "loss: tensor([-29.0589], device='cuda:0', grad_fn=<AddBackward0>):  49%|████▉     | 147/300 [01:13<01:13,  2.09it/s]\u001b[A"
     ]
    },
    {
     "name": "stdout",
     "output_type": "stream",
     "text": [
      "image updated at \"./210215-053340-And_blood-black_nothingness_began_to_spin_a_system_of_cells_interlinked.png\"\n"
     ]
    },
    {
     "name": "stderr",
     "output_type": "stream",
     "text": [
      "\n",
      "loss: tensor([-28.8601], device='cuda:0', grad_fn=<AddBackward0>):  49%|████▉     | 147/300 [01:14<01:13,  2.09it/s]\u001b[A\n",
      "loss: tensor([-28.8601], device='cuda:0', grad_fn=<AddBackward0>):  49%|████▉     | 148/300 [01:14<01:11,  2.12it/s]\u001b[A"
     ]
    },
    {
     "name": "stdout",
     "output_type": "stream",
     "text": [
      "image updated at \"./210215-053340-And_blood-black_nothingness_began_to_spin_a_system_of_cells_interlinked.png\"\n"
     ]
    },
    {
     "name": "stderr",
     "output_type": "stream",
     "text": [
      "\n",
      "loss: tensor([-29.0774], device='cuda:0', grad_fn=<AddBackward0>):  49%|████▉     | 148/300 [01:14<01:11,  2.12it/s]\u001b[A\n",
      "loss: tensor([-29.0774], device='cuda:0', grad_fn=<AddBackward0>):  50%|████▉     | 149/300 [01:14<01:10,  2.14it/s]\u001b[A"
     ]
    },
    {
     "name": "stdout",
     "output_type": "stream",
     "text": [
      "image updated at \"./210215-053340-And_blood-black_nothingness_began_to_spin_a_system_of_cells_interlinked.png\"\n"
     ]
    },
    {
     "name": "stderr",
     "output_type": "stream",
     "text": [
      "\n",
      "loss: tensor([-28.9578], device='cuda:0', grad_fn=<AddBackward0>):  50%|████▉     | 149/300 [01:15<01:10,  2.14it/s]\u001b[A\n",
      "loss: tensor([-28.9578], device='cuda:0', grad_fn=<AddBackward0>):  50%|█████     | 150/300 [01:15<01:09,  2.15it/s]\u001b[A"
     ]
    },
    {
     "name": "stdout",
     "output_type": "stream",
     "text": [
      "image updated at \"./210215-053340-And_blood-black_nothingness_began_to_spin_a_system_of_cells_interlinked.png\"\n"
     ]
    },
    {
     "name": "stderr",
     "output_type": "stream",
     "text": [
      "\n",
      "loss: tensor([-29.0502], device='cuda:0', grad_fn=<AddBackward0>):  50%|█████     | 150/300 [01:15<01:09,  2.15it/s]\u001b[A\n",
      "loss: tensor([-29.0502], device='cuda:0', grad_fn=<AddBackward0>):  50%|█████     | 151/300 [01:15<01:09,  2.15it/s]\u001b[A"
     ]
    },
    {
     "name": "stdout",
     "output_type": "stream",
     "text": [
      "image updated at \"./210215-053340-And_blood-black_nothingness_began_to_spin_a_system_of_cells_interlinked.png\"\n"
     ]
    },
    {
     "name": "stderr",
     "output_type": "stream",
     "text": [
      "\n",
      "loss: tensor([-29.1258], device='cuda:0', grad_fn=<AddBackward0>):  50%|█████     | 151/300 [01:15<01:09,  2.15it/s]\u001b[A\n",
      "loss: tensor([-29.1258], device='cuda:0', grad_fn=<AddBackward0>):  51%|█████     | 152/300 [01:15<01:09,  2.14it/s]\u001b[A"
     ]
    },
    {
     "name": "stdout",
     "output_type": "stream",
     "text": [
      "image updated at \"./210215-053340-And_blood-black_nothingness_began_to_spin_a_system_of_cells_interlinked.png\"\n"
     ]
    },
    {
     "name": "stderr",
     "output_type": "stream",
     "text": [
      "\n",
      "loss: tensor([-28.9694], device='cuda:0', grad_fn=<AddBackward0>):  51%|█████     | 152/300 [01:16<01:09,  2.14it/s]\u001b[A\n",
      "loss: tensor([-28.9694], device='cuda:0', grad_fn=<AddBackward0>):  51%|█████     | 153/300 [01:16<01:10,  2.08it/s]\u001b[A"
     ]
    },
    {
     "name": "stdout",
     "output_type": "stream",
     "text": [
      "image updated at \"./210215-053340-And_blood-black_nothingness_began_to_spin_a_system_of_cells_interlinked.png\"\n"
     ]
    },
    {
     "name": "stderr",
     "output_type": "stream",
     "text": [
      "\n",
      "loss: tensor([-28.8164], device='cuda:0', grad_fn=<AddBackward0>):  51%|█████     | 153/300 [01:17<01:10,  2.08it/s]\u001b[A\n",
      "loss: tensor([-28.8164], device='cuda:0', grad_fn=<AddBackward0>):  51%|█████▏    | 154/300 [01:17<01:20,  1.81it/s]\u001b[A"
     ]
    },
    {
     "name": "stdout",
     "output_type": "stream",
     "text": [
      "image updated at \"./210215-053340-And_blood-black_nothingness_began_to_spin_a_system_of_cells_interlinked.png\"\n"
     ]
    },
    {
     "name": "stderr",
     "output_type": "stream",
     "text": [
      "\n",
      "loss: tensor([-28.9412], device='cuda:0', grad_fn=<AddBackward0>):  51%|█████▏    | 154/300 [01:17<01:20,  1.81it/s]\u001b[A\n",
      "loss: tensor([-28.9412], device='cuda:0', grad_fn=<AddBackward0>):  52%|█████▏    | 155/300 [01:17<01:16,  1.89it/s]\u001b[A"
     ]
    },
    {
     "name": "stdout",
     "output_type": "stream",
     "text": [
      "image updated at \"./210215-053340-And_blood-black_nothingness_began_to_spin_a_system_of_cells_interlinked.png\"\n"
     ]
    },
    {
     "name": "stderr",
     "output_type": "stream",
     "text": [
      "\n",
      "loss: tensor([-29.0372], device='cuda:0', grad_fn=<AddBackward0>):  52%|█████▏    | 155/300 [01:18<01:16,  1.89it/s]\u001b[A\n",
      "loss: tensor([-29.0372], device='cuda:0', grad_fn=<AddBackward0>):  52%|█████▏    | 156/300 [01:18<01:13,  1.95it/s]\u001b[A"
     ]
    },
    {
     "name": "stdout",
     "output_type": "stream",
     "text": [
      "image updated at \"./210215-053340-And_blood-black_nothingness_began_to_spin_a_system_of_cells_interlinked.png\"\n"
     ]
    },
    {
     "name": "stderr",
     "output_type": "stream",
     "text": [
      "\n",
      "loss: tensor([-29.0694], device='cuda:0', grad_fn=<AddBackward0>):  52%|█████▏    | 156/300 [01:18<01:13,  1.95it/s]\u001b[A\n",
      "loss: tensor([-29.0694], device='cuda:0', grad_fn=<AddBackward0>):  52%|█████▏    | 157/300 [01:18<01:10,  2.01it/s]\u001b[A"
     ]
    },
    {
     "name": "stdout",
     "output_type": "stream",
     "text": [
      "image updated at \"./210215-053340-And_blood-black_nothingness_began_to_spin_a_system_of_cells_interlinked.png\"\n"
     ]
    },
    {
     "name": "stderr",
     "output_type": "stream",
     "text": [
      "\n",
      "loss: tensor([-28.9037], device='cuda:0', grad_fn=<AddBackward0>):  52%|█████▏    | 157/300 [01:19<01:10,  2.01it/s]\u001b[A\n",
      "loss: tensor([-28.9037], device='cuda:0', grad_fn=<AddBackward0>):  53%|█████▎    | 158/300 [01:19<01:09,  2.06it/s]\u001b[A"
     ]
    },
    {
     "name": "stdout",
     "output_type": "stream",
     "text": [
      "image updated at \"./210215-053340-And_blood-black_nothingness_began_to_spin_a_system_of_cells_interlinked.png\"\n"
     ]
    },
    {
     "name": "stderr",
     "output_type": "stream",
     "text": [
      "\n",
      "loss: tensor([-29.1549], device='cuda:0', grad_fn=<AddBackward0>):  53%|█████▎    | 158/300 [01:19<01:09,  2.06it/s]\u001b[A\n",
      "loss: tensor([-29.1549], device='cuda:0', grad_fn=<AddBackward0>):  53%|█████▎    | 159/300 [01:19<01:07,  2.08it/s]\u001b[A"
     ]
    },
    {
     "name": "stdout",
     "output_type": "stream",
     "text": [
      "image updated at \"./210215-053340-And_blood-black_nothingness_began_to_spin_a_system_of_cells_interlinked.png\"\n"
     ]
    },
    {
     "name": "stderr",
     "output_type": "stream",
     "text": [
      "\n",
      "loss: tensor([-29.1826], device='cuda:0', grad_fn=<AddBackward0>):  53%|█████▎    | 159/300 [01:19<01:07,  2.08it/s]\u001b[A\n",
      "loss: tensor([-29.1826], device='cuda:0', grad_fn=<AddBackward0>):  53%|█████▎    | 160/300 [01:20<01:06,  2.10it/s]\u001b[A"
     ]
    },
    {
     "name": "stdout",
     "output_type": "stream",
     "text": [
      "image updated at \"./210215-053340-And_blood-black_nothingness_began_to_spin_a_system_of_cells_interlinked.png\"\n"
     ]
    },
    {
     "name": "stderr",
     "output_type": "stream",
     "text": [
      "\n",
      "loss: tensor([-29.1812], device='cuda:0', grad_fn=<AddBackward0>):  53%|█████▎    | 160/300 [01:20<01:06,  2.10it/s]\u001b[A\n",
      "loss: tensor([-29.1812], device='cuda:0', grad_fn=<AddBackward0>):  54%|█████▎    | 161/300 [01:20<01:05,  2.12it/s]\u001b[A"
     ]
    },
    {
     "name": "stdout",
     "output_type": "stream",
     "text": [
      "image updated at \"./210215-053340-And_blood-black_nothingness_began_to_spin_a_system_of_cells_interlinked.png\"\n"
     ]
    },
    {
     "name": "stderr",
     "output_type": "stream",
     "text": [
      "\n",
      "loss: tensor([-29.0911], device='cuda:0', grad_fn=<AddBackward0>):  54%|█████▎    | 161/300 [01:20<01:05,  2.12it/s]\u001b[A\n",
      "loss: tensor([-29.0911], device='cuda:0', grad_fn=<AddBackward0>):  54%|█████▍    | 162/300 [01:20<01:05,  2.11it/s]\u001b[A"
     ]
    },
    {
     "name": "stdout",
     "output_type": "stream",
     "text": [
      "image updated at \"./210215-053340-And_blood-black_nothingness_began_to_spin_a_system_of_cells_interlinked.png\"\n"
     ]
    },
    {
     "name": "stderr",
     "output_type": "stream",
     "text": [
      "\n",
      "loss: tensor([-28.9965], device='cuda:0', grad_fn=<AddBackward0>):  54%|█████▍    | 162/300 [01:21<01:05,  2.11it/s]\u001b[A\n",
      "loss: tensor([-28.9965], device='cuda:0', grad_fn=<AddBackward0>):  54%|█████▍    | 163/300 [01:21<01:04,  2.11it/s]\u001b[A"
     ]
    },
    {
     "name": "stdout",
     "output_type": "stream",
     "text": [
      "image updated at \"./210215-053340-And_blood-black_nothingness_began_to_spin_a_system_of_cells_interlinked.png\"\n"
     ]
    },
    {
     "name": "stderr",
     "output_type": "stream",
     "text": [
      "\n",
      "loss: tensor([-28.9285], device='cuda:0', grad_fn=<AddBackward0>):  54%|█████▍    | 163/300 [01:21<01:04,  2.11it/s]\u001b[A\n",
      "loss: tensor([-28.9285], device='cuda:0', grad_fn=<AddBackward0>):  55%|█████▍    | 164/300 [01:21<01:04,  2.10it/s]\u001b[A"
     ]
    },
    {
     "name": "stdout",
     "output_type": "stream",
     "text": [
      "image updated at \"./210215-053340-And_blood-black_nothingness_began_to_spin_a_system_of_cells_interlinked.png\"\n"
     ]
    },
    {
     "name": "stderr",
     "output_type": "stream",
     "text": [
      "\n",
      "loss: tensor([-29.1748], device='cuda:0', grad_fn=<AddBackward0>):  55%|█████▍    | 164/300 [01:22<01:04,  2.10it/s]\u001b[A\n",
      "loss: tensor([-29.1748], device='cuda:0', grad_fn=<AddBackward0>):  55%|█████▌    | 165/300 [01:22<01:04,  2.11it/s]\u001b[A"
     ]
    },
    {
     "name": "stdout",
     "output_type": "stream",
     "text": [
      "image updated at \"./210215-053340-And_blood-black_nothingness_began_to_spin_a_system_of_cells_interlinked.png\"\n"
     ]
    },
    {
     "name": "stderr",
     "output_type": "stream",
     "text": [
      "\n",
      "loss: tensor([-28.9765], device='cuda:0', grad_fn=<AddBackward0>):  55%|█████▌    | 165/300 [01:22<01:04,  2.11it/s]\u001b[A\n",
      "loss: tensor([-28.9765], device='cuda:0', grad_fn=<AddBackward0>):  55%|█████▌    | 166/300 [01:22<01:03,  2.13it/s]\u001b[A"
     ]
    },
    {
     "name": "stdout",
     "output_type": "stream",
     "text": [
      "image updated at \"./210215-053340-And_blood-black_nothingness_began_to_spin_a_system_of_cells_interlinked.png\"\n"
     ]
    },
    {
     "name": "stderr",
     "output_type": "stream",
     "text": [
      "\n",
      "loss: tensor([-28.7946], device='cuda:0', grad_fn=<AddBackward0>):  55%|█████▌    | 166/300 [01:23<01:03,  2.13it/s]\u001b[A\n",
      "loss: tensor([-28.7946], device='cuda:0', grad_fn=<AddBackward0>):  56%|█████▌    | 167/300 [01:23<01:01,  2.15it/s]\u001b[A"
     ]
    },
    {
     "name": "stdout",
     "output_type": "stream",
     "text": [
      "image updated at \"./210215-053340-And_blood-black_nothingness_began_to_spin_a_system_of_cells_interlinked.png\"\n"
     ]
    },
    {
     "name": "stderr",
     "output_type": "stream",
     "text": [
      "\n",
      "loss: tensor([-28.8670], device='cuda:0', grad_fn=<AddBackward0>):  56%|█████▌    | 167/300 [01:23<01:01,  2.15it/s]\u001b[A\n",
      "loss: tensor([-28.8670], device='cuda:0', grad_fn=<AddBackward0>):  56%|█████▌    | 168/300 [01:23<01:00,  2.17it/s]\u001b[A"
     ]
    },
    {
     "name": "stdout",
     "output_type": "stream",
     "text": [
      "image updated at \"./210215-053340-And_blood-black_nothingness_began_to_spin_a_system_of_cells_interlinked.png\"\n"
     ]
    },
    {
     "name": "stderr",
     "output_type": "stream",
     "text": [
      "\n",
      "loss: tensor([-28.8890], device='cuda:0', grad_fn=<AddBackward0>):  56%|█████▌    | 168/300 [01:24<01:00,  2.17it/s]\u001b[A\n",
      "loss: tensor([-28.8890], device='cuda:0', grad_fn=<AddBackward0>):  56%|█████▋    | 169/300 [01:24<01:00,  2.16it/s]\u001b[A"
     ]
    },
    {
     "name": "stdout",
     "output_type": "stream",
     "text": [
      "image updated at \"./210215-053340-And_blood-black_nothingness_began_to_spin_a_system_of_cells_interlinked.png\"\n"
     ]
    },
    {
     "name": "stderr",
     "output_type": "stream",
     "text": [
      "\n",
      "loss: tensor([-28.9487], device='cuda:0', grad_fn=<AddBackward0>):  56%|█████▋    | 169/300 [01:24<01:00,  2.16it/s]\u001b[A\n",
      "loss: tensor([-28.9487], device='cuda:0', grad_fn=<AddBackward0>):  57%|█████▋    | 170/300 [01:24<00:59,  2.17it/s]\u001b[A"
     ]
    },
    {
     "name": "stdout",
     "output_type": "stream",
     "text": [
      "image updated at \"./210215-053340-And_blood-black_nothingness_began_to_spin_a_system_of_cells_interlinked.png\"\n"
     ]
    },
    {
     "name": "stderr",
     "output_type": "stream",
     "text": [
      "\n",
      "loss: tensor([-29.0169], device='cuda:0', grad_fn=<AddBackward0>):  57%|█████▋    | 170/300 [01:25<00:59,  2.17it/s]\u001b[A\n",
      "loss: tensor([-29.0169], device='cuda:0', grad_fn=<AddBackward0>):  57%|█████▋    | 171/300 [01:25<00:59,  2.18it/s]\u001b[A"
     ]
    },
    {
     "name": "stdout",
     "output_type": "stream",
     "text": [
      "image updated at \"./210215-053340-And_blood-black_nothingness_began_to_spin_a_system_of_cells_interlinked.png\"\n"
     ]
    },
    {
     "name": "stderr",
     "output_type": "stream",
     "text": [
      "\n",
      "loss: tensor([-28.8394], device='cuda:0', grad_fn=<AddBackward0>):  57%|█████▋    | 171/300 [01:25<00:59,  2.18it/s]\u001b[A\n",
      "loss: tensor([-28.8394], device='cuda:0', grad_fn=<AddBackward0>):  57%|█████▋    | 172/300 [01:25<00:58,  2.18it/s]\u001b[A"
     ]
    },
    {
     "name": "stdout",
     "output_type": "stream",
     "text": [
      "image updated at \"./210215-053340-And_blood-black_nothingness_began_to_spin_a_system_of_cells_interlinked.png\"\n"
     ]
    },
    {
     "name": "stderr",
     "output_type": "stream",
     "text": [
      "\n",
      "loss: tensor([-28.7986], device='cuda:0', grad_fn=<AddBackward0>):  57%|█████▋    | 172/300 [01:26<00:58,  2.18it/s]\u001b[A\n",
      "loss: tensor([-28.7986], device='cuda:0', grad_fn=<AddBackward0>):  58%|█████▊    | 173/300 [01:26<00:58,  2.17it/s]\u001b[A"
     ]
    },
    {
     "name": "stdout",
     "output_type": "stream",
     "text": [
      "image updated at \"./210215-053340-And_blood-black_nothingness_began_to_spin_a_system_of_cells_interlinked.png\"\n"
     ]
    },
    {
     "name": "stderr",
     "output_type": "stream",
     "text": [
      "\n",
      "loss: tensor([-28.9549], device='cuda:0', grad_fn=<AddBackward0>):  58%|█████▊    | 173/300 [01:26<00:58,  2.17it/s]\u001b[A\n",
      "loss: tensor([-28.9549], device='cuda:0', grad_fn=<AddBackward0>):  58%|█████▊    | 174/300 [01:26<00:57,  2.18it/s]\u001b[A"
     ]
    },
    {
     "name": "stdout",
     "output_type": "stream",
     "text": [
      "image updated at \"./210215-053340-And_blood-black_nothingness_began_to_spin_a_system_of_cells_interlinked.png\"\n"
     ]
    },
    {
     "name": "stderr",
     "output_type": "stream",
     "text": [
      "\n",
      "loss: tensor([-28.8932], device='cuda:0', grad_fn=<AddBackward0>):  58%|█████▊    | 174/300 [01:26<00:57,  2.18it/s]\u001b[A\n",
      "loss: tensor([-28.8932], device='cuda:0', grad_fn=<AddBackward0>):  58%|█████▊    | 175/300 [01:26<00:57,  2.19it/s]\u001b[A"
     ]
    },
    {
     "name": "stdout",
     "output_type": "stream",
     "text": [
      "image updated at \"./210215-053340-And_blood-black_nothingness_began_to_spin_a_system_of_cells_interlinked.png\"\n"
     ]
    },
    {
     "name": "stderr",
     "output_type": "stream",
     "text": [
      "\n",
      "loss: tensor([-29.0449], device='cuda:0', grad_fn=<AddBackward0>):  58%|█████▊    | 175/300 [01:27<00:57,  2.19it/s]\u001b[A\n",
      "loss: tensor([-29.0449], device='cuda:0', grad_fn=<AddBackward0>):  59%|█████▊    | 176/300 [01:27<00:56,  2.19it/s]\u001b[A"
     ]
    },
    {
     "name": "stdout",
     "output_type": "stream",
     "text": [
      "image updated at \"./210215-053340-And_blood-black_nothingness_began_to_spin_a_system_of_cells_interlinked.png\"\n"
     ]
    },
    {
     "name": "stderr",
     "output_type": "stream",
     "text": [
      "\n",
      "loss: tensor([-29.0124], device='cuda:0', grad_fn=<AddBackward0>):  59%|█████▊    | 176/300 [01:27<00:56,  2.19it/s]\u001b[A\n",
      "loss: tensor([-29.0124], device='cuda:0', grad_fn=<AddBackward0>):  59%|█████▉    | 177/300 [01:27<00:55,  2.20it/s]\u001b[A"
     ]
    },
    {
     "name": "stdout",
     "output_type": "stream",
     "text": [
      "image updated at \"./210215-053340-And_blood-black_nothingness_began_to_spin_a_system_of_cells_interlinked.png\"\n"
     ]
    },
    {
     "name": "stderr",
     "output_type": "stream",
     "text": [
      "\n",
      "loss: tensor([-29.0668], device='cuda:0', grad_fn=<AddBackward0>):  59%|█████▉    | 177/300 [01:28<00:55,  2.20it/s]\u001b[A\n",
      "loss: tensor([-29.0668], device='cuda:0', grad_fn=<AddBackward0>):  59%|█████▉    | 178/300 [01:28<00:55,  2.20it/s]\u001b[A"
     ]
    },
    {
     "name": "stdout",
     "output_type": "stream",
     "text": [
      "image updated at \"./210215-053340-And_blood-black_nothingness_began_to_spin_a_system_of_cells_interlinked.png\"\n"
     ]
    },
    {
     "name": "stderr",
     "output_type": "stream",
     "text": [
      "\n",
      "loss: tensor([-29.1338], device='cuda:0', grad_fn=<AddBackward0>):  59%|█████▉    | 178/300 [01:28<00:55,  2.20it/s]\u001b[A\n",
      "loss: tensor([-29.1338], device='cuda:0', grad_fn=<AddBackward0>):  60%|█████▉    | 179/300 [01:28<00:55,  2.19it/s]\u001b[A"
     ]
    },
    {
     "name": "stdout",
     "output_type": "stream",
     "text": [
      "image updated at \"./210215-053340-And_blood-black_nothingness_began_to_spin_a_system_of_cells_interlinked.png\"\n"
     ]
    },
    {
     "name": "stderr",
     "output_type": "stream",
     "text": [
      "\n",
      "loss: tensor([-29.1607], device='cuda:0', grad_fn=<AddBackward0>):  60%|█████▉    | 179/300 [01:29<00:55,  2.19it/s]\u001b[A\n",
      "loss: tensor([-29.1607], device='cuda:0', grad_fn=<AddBackward0>):  60%|██████    | 180/300 [01:29<00:54,  2.18it/s]\u001b[A"
     ]
    },
    {
     "name": "stdout",
     "output_type": "stream",
     "text": [
      "image updated at \"./210215-053340-And_blood-black_nothingness_began_to_spin_a_system_of_cells_interlinked.png\"\n"
     ]
    },
    {
     "name": "stderr",
     "output_type": "stream",
     "text": [
      "\n",
      "loss: tensor([-29.0445], device='cuda:0', grad_fn=<AddBackward0>):  60%|██████    | 180/300 [01:29<00:54,  2.18it/s]\u001b[A\n",
      "loss: tensor([-29.0445], device='cuda:0', grad_fn=<AddBackward0>):  60%|██████    | 181/300 [01:29<00:54,  2.19it/s]\u001b[A"
     ]
    },
    {
     "name": "stdout",
     "output_type": "stream",
     "text": [
      "image updated at \"./210215-053340-And_blood-black_nothingness_began_to_spin_a_system_of_cells_interlinked.png\"\n"
     ]
    },
    {
     "name": "stderr",
     "output_type": "stream",
     "text": [
      "\n",
      "loss: tensor([-29.0169], device='cuda:0', grad_fn=<AddBackward0>):  60%|██████    | 181/300 [01:30<00:54,  2.19it/s]\u001b[A\n",
      "loss: tensor([-29.0169], device='cuda:0', grad_fn=<AddBackward0>):  61%|██████    | 182/300 [01:30<00:53,  2.20it/s]\u001b[A"
     ]
    },
    {
     "name": "stdout",
     "output_type": "stream",
     "text": [
      "image updated at \"./210215-053340-And_blood-black_nothingness_began_to_spin_a_system_of_cells_interlinked.png\"\n"
     ]
    },
    {
     "name": "stderr",
     "output_type": "stream",
     "text": [
      "\n",
      "loss: tensor([-29.1142], device='cuda:0', grad_fn=<AddBackward0>):  61%|██████    | 182/300 [01:30<00:53,  2.20it/s]\u001b[A\n",
      "loss: tensor([-29.1142], device='cuda:0', grad_fn=<AddBackward0>):  61%|██████    | 183/300 [01:30<00:53,  2.20it/s]\u001b[A"
     ]
    },
    {
     "name": "stdout",
     "output_type": "stream",
     "text": [
      "image updated at \"./210215-053340-And_blood-black_nothingness_began_to_spin_a_system_of_cells_interlinked.png\"\n"
     ]
    },
    {
     "name": "stderr",
     "output_type": "stream",
     "text": [
      "\n",
      "loss: tensor([-29.1395], device='cuda:0', grad_fn=<AddBackward0>):  61%|██████    | 183/300 [01:31<00:53,  2.20it/s]\u001b[A\n",
      "loss: tensor([-29.1395], device='cuda:0', grad_fn=<AddBackward0>):  61%|██████▏   | 184/300 [01:31<00:52,  2.20it/s]\u001b[A"
     ]
    },
    {
     "name": "stdout",
     "output_type": "stream",
     "text": [
      "image updated at \"./210215-053340-And_blood-black_nothingness_began_to_spin_a_system_of_cells_interlinked.png\"\n"
     ]
    },
    {
     "name": "stderr",
     "output_type": "stream",
     "text": [
      "\n",
      "loss: tensor([-29.0486], device='cuda:0', grad_fn=<AddBackward0>):  61%|██████▏   | 184/300 [01:31<00:52,  2.20it/s]\u001b[A\n",
      "loss: tensor([-29.0486], device='cuda:0', grad_fn=<AddBackward0>):  62%|██████▏   | 185/300 [01:31<00:52,  2.18it/s]\u001b[A"
     ]
    },
    {
     "name": "stdout",
     "output_type": "stream",
     "text": [
      "image updated at \"./210215-053340-And_blood-black_nothingness_began_to_spin_a_system_of_cells_interlinked.png\"\n"
     ]
    },
    {
     "name": "stderr",
     "output_type": "stream",
     "text": [
      "\n",
      "loss: tensor([-29.2832], device='cuda:0', grad_fn=<AddBackward0>):  62%|██████▏   | 185/300 [01:32<00:52,  2.18it/s]\u001b[A\n",
      "loss: tensor([-29.2832], device='cuda:0', grad_fn=<AddBackward0>):  62%|██████▏   | 186/300 [01:32<00:55,  2.05it/s]\u001b[A"
     ]
    },
    {
     "name": "stdout",
     "output_type": "stream",
     "text": [
      "image updated at \"./210215-053340-And_blood-black_nothingness_began_to_spin_a_system_of_cells_interlinked.png\"\n"
     ]
    },
    {
     "name": "stderr",
     "output_type": "stream",
     "text": [
      "\n",
      "loss: tensor([-29.1900], device='cuda:0', grad_fn=<AddBackward0>):  62%|██████▏   | 186/300 [01:32<00:55,  2.05it/s]\u001b[A\n",
      "loss: tensor([-29.1900], device='cuda:0', grad_fn=<AddBackward0>):  62%|██████▏   | 187/300 [01:32<00:54,  2.08it/s]\u001b[A"
     ]
    },
    {
     "name": "stdout",
     "output_type": "stream",
     "text": [
      "image updated at \"./210215-053340-And_blood-black_nothingness_began_to_spin_a_system_of_cells_interlinked.png\"\n"
     ]
    },
    {
     "name": "stderr",
     "output_type": "stream",
     "text": [
      "\n",
      "loss: tensor([-29.0586], device='cuda:0', grad_fn=<AddBackward0>):  62%|██████▏   | 187/300 [01:32<00:54,  2.08it/s]\u001b[A\n",
      "loss: tensor([-29.0586], device='cuda:0', grad_fn=<AddBackward0>):  63%|██████▎   | 188/300 [01:32<00:53,  2.11it/s]\u001b[A"
     ]
    },
    {
     "name": "stdout",
     "output_type": "stream",
     "text": [
      "image updated at \"./210215-053340-And_blood-black_nothingness_began_to_spin_a_system_of_cells_interlinked.png\"\n"
     ]
    },
    {
     "name": "stderr",
     "output_type": "stream",
     "text": [
      "\n",
      "loss: tensor([-29.3032], device='cuda:0', grad_fn=<AddBackward0>):  63%|██████▎   | 188/300 [01:33<00:53,  2.11it/s]\u001b[A\n",
      "loss: tensor([-29.3032], device='cuda:0', grad_fn=<AddBackward0>):  63%|██████▎   | 189/300 [01:33<00:54,  2.02it/s]\u001b[A"
     ]
    },
    {
     "name": "stdout",
     "output_type": "stream",
     "text": [
      "image updated at \"./210215-053340-And_blood-black_nothingness_began_to_spin_a_system_of_cells_interlinked.png\"\n"
     ]
    },
    {
     "name": "stderr",
     "output_type": "stream",
     "text": [
      "\n",
      "loss: tensor([-29.4112], device='cuda:0', grad_fn=<AddBackward0>):  63%|██████▎   | 189/300 [01:34<00:54,  2.02it/s]\u001b[A\n",
      "loss: tensor([-29.4112], device='cuda:0', grad_fn=<AddBackward0>):  63%|██████▎   | 190/300 [01:34<00:56,  1.96it/s]\u001b[A"
     ]
    },
    {
     "name": "stdout",
     "output_type": "stream",
     "text": [
      "image updated at \"./210215-053340-And_blood-black_nothingness_began_to_spin_a_system_of_cells_interlinked.png\"\n"
     ]
    },
    {
     "name": "stderr",
     "output_type": "stream",
     "text": [
      "\n",
      "loss: tensor([-28.9800], device='cuda:0', grad_fn=<AddBackward0>):  63%|██████▎   | 190/300 [01:34<00:56,  1.96it/s]\u001b[A\n",
      "loss: tensor([-28.9800], device='cuda:0', grad_fn=<AddBackward0>):  64%|██████▎   | 191/300 [01:34<00:53,  2.02it/s]\u001b[A"
     ]
    },
    {
     "name": "stdout",
     "output_type": "stream",
     "text": [
      "image updated at \"./210215-053340-And_blood-black_nothingness_began_to_spin_a_system_of_cells_interlinked.png\"\n"
     ]
    },
    {
     "name": "stderr",
     "output_type": "stream",
     "text": [
      "\n",
      "loss: tensor([-29.2239], device='cuda:0', grad_fn=<AddBackward0>):  64%|██████▎   | 191/300 [01:34<00:53,  2.02it/s]\u001b[A\n",
      "loss: tensor([-29.2239], device='cuda:0', grad_fn=<AddBackward0>):  64%|██████▍   | 192/300 [01:34<00:52,  2.07it/s]\u001b[A"
     ]
    },
    {
     "name": "stdout",
     "output_type": "stream",
     "text": [
      "image updated at \"./210215-053340-And_blood-black_nothingness_began_to_spin_a_system_of_cells_interlinked.png\"\n"
     ]
    },
    {
     "name": "stderr",
     "output_type": "stream",
     "text": [
      "\n",
      "loss: tensor([-29.1225], device='cuda:0', grad_fn=<AddBackward0>):  64%|██████▍   | 192/300 [01:35<00:52,  2.07it/s]\u001b[A\n",
      "loss: tensor([-29.1225], device='cuda:0', grad_fn=<AddBackward0>):  64%|██████▍   | 193/300 [01:35<00:50,  2.10it/s]\u001b[A"
     ]
    },
    {
     "name": "stdout",
     "output_type": "stream",
     "text": [
      "image updated at \"./210215-053340-And_blood-black_nothingness_began_to_spin_a_system_of_cells_interlinked.png\"\n"
     ]
    },
    {
     "name": "stderr",
     "output_type": "stream",
     "text": [
      "\n",
      "loss: tensor([-29.1253], device='cuda:0', grad_fn=<AddBackward0>):  64%|██████▍   | 193/300 [01:35<00:50,  2.10it/s]\u001b[A\n",
      "loss: tensor([-29.1253], device='cuda:0', grad_fn=<AddBackward0>):  65%|██████▍   | 194/300 [01:35<00:49,  2.13it/s]\u001b[A"
     ]
    },
    {
     "name": "stdout",
     "output_type": "stream",
     "text": [
      "image updated at \"./210215-053340-And_blood-black_nothingness_began_to_spin_a_system_of_cells_interlinked.png\"\n"
     ]
    },
    {
     "name": "stderr",
     "output_type": "stream",
     "text": [
      "\n",
      "loss: tensor([-29.3169], device='cuda:0', grad_fn=<AddBackward0>):  65%|██████▍   | 194/300 [01:36<00:49,  2.13it/s]\u001b[A\n",
      "loss: tensor([-29.3169], device='cuda:0', grad_fn=<AddBackward0>):  65%|██████▌   | 195/300 [01:36<00:48,  2.15it/s]\u001b[A"
     ]
    },
    {
     "name": "stdout",
     "output_type": "stream",
     "text": [
      "image updated at \"./210215-053340-And_blood-black_nothingness_began_to_spin_a_system_of_cells_interlinked.png\"\n"
     ]
    },
    {
     "name": "stderr",
     "output_type": "stream",
     "text": [
      "\n",
      "loss: tensor([-29.3163], device='cuda:0', grad_fn=<AddBackward0>):  65%|██████▌   | 195/300 [01:36<00:48,  2.15it/s]\u001b[A\n",
      "loss: tensor([-29.3163], device='cuda:0', grad_fn=<AddBackward0>):  65%|██████▌   | 196/300 [01:36<00:48,  2.16it/s]\u001b[A"
     ]
    },
    {
     "name": "stdout",
     "output_type": "stream",
     "text": [
      "image updated at \"./210215-053340-And_blood-black_nothingness_began_to_spin_a_system_of_cells_interlinked.png\"\n"
     ]
    },
    {
     "name": "stderr",
     "output_type": "stream",
     "text": [
      "\n",
      "loss: tensor([-29.3109], device='cuda:0', grad_fn=<AddBackward0>):  65%|██████▌   | 196/300 [01:37<00:48,  2.16it/s]\u001b[A\n",
      "loss: tensor([-29.3109], device='cuda:0', grad_fn=<AddBackward0>):  66%|██████▌   | 197/300 [01:37<00:47,  2.17it/s]\u001b[A"
     ]
    },
    {
     "name": "stdout",
     "output_type": "stream",
     "text": [
      "image updated at \"./210215-053340-And_blood-black_nothingness_began_to_spin_a_system_of_cells_interlinked.png\"\n"
     ]
    },
    {
     "name": "stderr",
     "output_type": "stream",
     "text": [
      "\n",
      "loss: tensor([-29.3469], device='cuda:0', grad_fn=<AddBackward0>):  66%|██████▌   | 197/300 [01:37<00:47,  2.17it/s]\u001b[A\n",
      "loss: tensor([-29.3469], device='cuda:0', grad_fn=<AddBackward0>):  66%|██████▌   | 198/300 [01:37<00:46,  2.18it/s]\u001b[A"
     ]
    },
    {
     "name": "stdout",
     "output_type": "stream",
     "text": [
      "image updated at \"./210215-053340-And_blood-black_nothingness_began_to_spin_a_system_of_cells_interlinked.png\"\n"
     ]
    },
    {
     "name": "stderr",
     "output_type": "stream",
     "text": [
      "\n",
      "loss: tensor([-29.3761], device='cuda:0', grad_fn=<AddBackward0>):  66%|██████▌   | 198/300 [01:38<00:46,  2.18it/s]\u001b[A\n",
      "loss: tensor([-29.3761], device='cuda:0', grad_fn=<AddBackward0>):  66%|██████▋   | 199/300 [01:38<00:46,  2.18it/s]\u001b[A"
     ]
    },
    {
     "name": "stdout",
     "output_type": "stream",
     "text": [
      "image updated at \"./210215-053340-And_blood-black_nothingness_began_to_spin_a_system_of_cells_interlinked.png\"\n"
     ]
    },
    {
     "name": "stderr",
     "output_type": "stream",
     "text": [
      "\n",
      "loss: tensor([-29.4992], device='cuda:0', grad_fn=<AddBackward0>):  66%|██████▋   | 199/300 [01:38<00:46,  2.18it/s]\u001b[A\n",
      "loss: tensor([-29.4992], device='cuda:0', grad_fn=<AddBackward0>):  67%|██████▋   | 200/300 [01:38<00:47,  2.09it/s]\u001b[A"
     ]
    },
    {
     "name": "stdout",
     "output_type": "stream",
     "text": [
      "image updated at \"./210215-053340-And_blood-black_nothingness_began_to_spin_a_system_of_cells_interlinked.png\"\n"
     ]
    },
    {
     "name": "stderr",
     "output_type": "stream",
     "text": [
      "\n",
      "loss: tensor([-29.5358], device='cuda:0', grad_fn=<AddBackward0>):  67%|██████▋   | 200/300 [01:39<00:47,  2.09it/s]\u001b[A\n",
      "loss: tensor([-29.5358], device='cuda:0', grad_fn=<AddBackward0>):  67%|██████▋   | 201/300 [01:39<00:48,  2.05it/s]\u001b[A"
     ]
    },
    {
     "name": "stdout",
     "output_type": "stream",
     "text": [
      "image updated at \"./210215-053340-And_blood-black_nothingness_began_to_spin_a_system_of_cells_interlinked.png\"\n"
     ]
    },
    {
     "name": "stderr",
     "output_type": "stream",
     "text": [
      "\n",
      "loss: tensor([-29.5339], device='cuda:0', grad_fn=<AddBackward0>):  67%|██████▋   | 201/300 [01:39<00:48,  2.05it/s]\u001b[A\n",
      "loss: tensor([-29.5339], device='cuda:0', grad_fn=<AddBackward0>):  67%|██████▋   | 202/300 [01:39<00:46,  2.11it/s]\u001b[A"
     ]
    },
    {
     "name": "stdout",
     "output_type": "stream",
     "text": [
      "image updated at \"./210215-053340-And_blood-black_nothingness_began_to_spin_a_system_of_cells_interlinked.png\"\n"
     ]
    },
    {
     "name": "stderr",
     "output_type": "stream",
     "text": [
      "\n",
      "loss: tensor([-29.4128], device='cuda:0', grad_fn=<AddBackward0>):  67%|██████▋   | 202/300 [01:40<00:46,  2.11it/s]\u001b[A\n",
      "loss: tensor([-29.4128], device='cuda:0', grad_fn=<AddBackward0>):  68%|██████▊   | 203/300 [01:40<00:44,  2.16it/s]\u001b[A"
     ]
    },
    {
     "name": "stdout",
     "output_type": "stream",
     "text": [
      "image updated at \"./210215-053340-And_blood-black_nothingness_began_to_spin_a_system_of_cells_interlinked.png\"\n"
     ]
    },
    {
     "name": "stderr",
     "output_type": "stream",
     "text": [
      "\n",
      "loss: tensor([-29.5415], device='cuda:0', grad_fn=<AddBackward0>):  68%|██████▊   | 203/300 [01:40<00:44,  2.16it/s]\u001b[A\n",
      "loss: tensor([-29.5415], device='cuda:0', grad_fn=<AddBackward0>):  68%|██████▊   | 204/300 [01:40<00:43,  2.20it/s]\u001b[A"
     ]
    },
    {
     "name": "stdout",
     "output_type": "stream",
     "text": [
      "image updated at \"./210215-053340-And_blood-black_nothingness_began_to_spin_a_system_of_cells_interlinked.png\"\n"
     ]
    },
    {
     "name": "stderr",
     "output_type": "stream",
     "text": [
      "\n",
      "loss: tensor([-29.7008], device='cuda:0', grad_fn=<AddBackward0>):  68%|██████▊   | 204/300 [01:41<00:43,  2.20it/s]\u001b[A\n",
      "loss: tensor([-29.7008], device='cuda:0', grad_fn=<AddBackward0>):  68%|██████▊   | 205/300 [01:41<00:44,  2.14it/s]\u001b[A"
     ]
    },
    {
     "name": "stdout",
     "output_type": "stream",
     "text": [
      "image updated at \"./210215-053340-And_blood-black_nothingness_began_to_spin_a_system_of_cells_interlinked.png\"\n"
     ]
    },
    {
     "name": "stderr",
     "output_type": "stream",
     "text": [
      "\n",
      "loss: tensor([-29.6654], device='cuda:0', grad_fn=<AddBackward0>):  68%|██████▊   | 205/300 [01:41<00:44,  2.14it/s]\u001b[A\n",
      "loss: tensor([-29.6654], device='cuda:0', grad_fn=<AddBackward0>):  69%|██████▊   | 206/300 [01:41<00:43,  2.17it/s]\u001b[A"
     ]
    },
    {
     "name": "stdout",
     "output_type": "stream",
     "text": [
      "image updated at \"./210215-053340-And_blood-black_nothingness_began_to_spin_a_system_of_cells_interlinked.png\"\n"
     ]
    },
    {
     "name": "stderr",
     "output_type": "stream",
     "text": [
      "\n",
      "loss: tensor([-29.7934], device='cuda:0', grad_fn=<AddBackward0>):  69%|██████▊   | 206/300 [01:41<00:43,  2.17it/s]\u001b[A\n",
      "loss: tensor([-29.7934], device='cuda:0', grad_fn=<AddBackward0>):  69%|██████▉   | 207/300 [01:41<00:44,  2.09it/s]\u001b[A"
     ]
    },
    {
     "name": "stdout",
     "output_type": "stream",
     "text": [
      "image updated at \"./210215-053340-And_blood-black_nothingness_began_to_spin_a_system_of_cells_interlinked.png\"\n"
     ]
    },
    {
     "name": "stderr",
     "output_type": "stream",
     "text": [
      "\n",
      "loss: tensor([-29.8837], device='cuda:0', grad_fn=<AddBackward0>):  69%|██████▉   | 207/300 [01:42<00:44,  2.09it/s]\u001b[A\n",
      "loss: tensor([-29.8837], device='cuda:0', grad_fn=<AddBackward0>):  69%|██████▉   | 208/300 [01:42<00:44,  2.05it/s]\u001b[A"
     ]
    },
    {
     "name": "stdout",
     "output_type": "stream",
     "text": [
      "image updated at \"./210215-053340-And_blood-black_nothingness_began_to_spin_a_system_of_cells_interlinked.png\"\n"
     ]
    },
    {
     "name": "stderr",
     "output_type": "stream",
     "text": [
      "\n",
      "loss: tensor([-29.7930], device='cuda:0', grad_fn=<AddBackward0>):  69%|██████▉   | 208/300 [01:42<00:44,  2.05it/s]\u001b[A\n",
      "loss: tensor([-29.7930], device='cuda:0', grad_fn=<AddBackward0>):  70%|██████▉   | 209/300 [01:42<00:43,  2.10it/s]\u001b[A"
     ]
    },
    {
     "name": "stdout",
     "output_type": "stream",
     "text": [
      "image updated at \"./210215-053340-And_blood-black_nothingness_began_to_spin_a_system_of_cells_interlinked.png\"\n"
     ]
    },
    {
     "name": "stderr",
     "output_type": "stream",
     "text": [
      "\n",
      "loss: tensor([-29.7704], device='cuda:0', grad_fn=<AddBackward0>):  70%|██████▉   | 209/300 [01:43<00:43,  2.10it/s]\u001b[A\n",
      "loss: tensor([-29.7704], device='cuda:0', grad_fn=<AddBackward0>):  70%|███████   | 210/300 [01:43<00:43,  2.07it/s]\u001b[A"
     ]
    },
    {
     "name": "stdout",
     "output_type": "stream",
     "text": [
      "image updated at \"./210215-053340-And_blood-black_nothingness_began_to_spin_a_system_of_cells_interlinked.png\"\n"
     ]
    },
    {
     "name": "stderr",
     "output_type": "stream",
     "text": [
      "\n",
      "loss: tensor([-29.6452], device='cuda:0', grad_fn=<AddBackward0>):  70%|███████   | 210/300 [01:43<00:43,  2.07it/s]\u001b[A\n",
      "loss: tensor([-29.6452], device='cuda:0', grad_fn=<AddBackward0>):  70%|███████   | 211/300 [01:43<00:42,  2.10it/s]\u001b[A"
     ]
    },
    {
     "name": "stdout",
     "output_type": "stream",
     "text": [
      "image updated at \"./210215-053340-And_blood-black_nothingness_began_to_spin_a_system_of_cells_interlinked.png\"\n"
     ]
    },
    {
     "name": "stderr",
     "output_type": "stream",
     "text": [
      "\n",
      "loss: tensor([-29.7577], device='cuda:0', grad_fn=<AddBackward0>):  70%|███████   | 211/300 [01:44<00:42,  2.10it/s]\u001b[A\n",
      "loss: tensor([-29.7577], device='cuda:0', grad_fn=<AddBackward0>):  71%|███████   | 212/300 [01:44<00:41,  2.14it/s]\u001b[A"
     ]
    },
    {
     "name": "stdout",
     "output_type": "stream",
     "text": [
      "image updated at \"./210215-053340-And_blood-black_nothingness_began_to_spin_a_system_of_cells_interlinked.png\"\n"
     ]
    },
    {
     "name": "stderr",
     "output_type": "stream",
     "text": [
      "\n",
      "loss: tensor([-29.7769], device='cuda:0', grad_fn=<AddBackward0>):  71%|███████   | 212/300 [01:44<00:41,  2.14it/s]\u001b[A\n",
      "loss: tensor([-29.7769], device='cuda:0', grad_fn=<AddBackward0>):  71%|███████   | 213/300 [01:44<00:39,  2.18it/s]\u001b[A"
     ]
    },
    {
     "name": "stdout",
     "output_type": "stream",
     "text": [
      "image updated at \"./210215-053340-And_blood-black_nothingness_began_to_spin_a_system_of_cells_interlinked.png\"\n"
     ]
    },
    {
     "name": "stderr",
     "output_type": "stream",
     "text": [
      "\n",
      "loss: tensor([-29.6791], device='cuda:0', grad_fn=<AddBackward0>):  71%|███████   | 213/300 [01:45<00:39,  2.18it/s]\u001b[A\n",
      "loss: tensor([-29.6791], device='cuda:0', grad_fn=<AddBackward0>):  71%|███████▏  | 214/300 [01:45<00:39,  2.20it/s]\u001b[A"
     ]
    },
    {
     "name": "stdout",
     "output_type": "stream",
     "text": [
      "image updated at \"./210215-053340-And_blood-black_nothingness_began_to_spin_a_system_of_cells_interlinked.png\"\n"
     ]
    },
    {
     "name": "stderr",
     "output_type": "stream",
     "text": [
      "\n",
      "loss: tensor([-29.8000], device='cuda:0', grad_fn=<AddBackward0>):  71%|███████▏  | 214/300 [01:45<00:39,  2.20it/s]\u001b[A\n",
      "loss: tensor([-29.8000], device='cuda:0', grad_fn=<AddBackward0>):  72%|███████▏  | 215/300 [01:45<00:38,  2.20it/s]\u001b[A"
     ]
    },
    {
     "name": "stdout",
     "output_type": "stream",
     "text": [
      "image updated at \"./210215-053340-And_blood-black_nothingness_began_to_spin_a_system_of_cells_interlinked.png\"\n"
     ]
    },
    {
     "name": "stderr",
     "output_type": "stream",
     "text": [
      "\n",
      "loss: tensor([-29.7684], device='cuda:0', grad_fn=<AddBackward0>):  72%|███████▏  | 215/300 [01:46<00:38,  2.20it/s]\u001b[A\n",
      "loss: tensor([-29.7684], device='cuda:0', grad_fn=<AddBackward0>):  72%|███████▏  | 216/300 [01:46<00:38,  2.20it/s]\u001b[A"
     ]
    },
    {
     "name": "stdout",
     "output_type": "stream",
     "text": [
      "image updated at \"./210215-053340-And_blood-black_nothingness_began_to_spin_a_system_of_cells_interlinked.png\"\n"
     ]
    },
    {
     "name": "stderr",
     "output_type": "stream",
     "text": [
      "\n",
      "loss: tensor([-29.8396], device='cuda:0', grad_fn=<AddBackward0>):  72%|███████▏  | 216/300 [01:46<00:38,  2.20it/s]\u001b[A\n",
      "loss: tensor([-29.8396], device='cuda:0', grad_fn=<AddBackward0>):  72%|███████▏  | 217/300 [01:46<00:37,  2.20it/s]\u001b[A"
     ]
    },
    {
     "name": "stdout",
     "output_type": "stream",
     "text": [
      "image updated at \"./210215-053340-And_blood-black_nothingness_began_to_spin_a_system_of_cells_interlinked.png\"\n"
     ]
    },
    {
     "name": "stderr",
     "output_type": "stream",
     "text": [
      "\n",
      "loss: tensor([-29.7030], device='cuda:0', grad_fn=<AddBackward0>):  72%|███████▏  | 217/300 [01:47<00:37,  2.20it/s]\u001b[A\n",
      "loss: tensor([-29.7030], device='cuda:0', grad_fn=<AddBackward0>):  73%|███████▎  | 218/300 [01:47<00:36,  2.22it/s]\u001b[A"
     ]
    },
    {
     "name": "stdout",
     "output_type": "stream",
     "text": [
      "image updated at \"./210215-053340-And_blood-black_nothingness_began_to_spin_a_system_of_cells_interlinked.png\"\n"
     ]
    },
    {
     "name": "stderr",
     "output_type": "stream",
     "text": [
      "\n",
      "loss: tensor([-29.7335], device='cuda:0', grad_fn=<AddBackward0>):  73%|███████▎  | 218/300 [01:47<00:36,  2.22it/s]\u001b[A\n",
      "loss: tensor([-29.7335], device='cuda:0', grad_fn=<AddBackward0>):  73%|███████▎  | 219/300 [01:47<00:36,  2.24it/s]\u001b[A"
     ]
    },
    {
     "name": "stdout",
     "output_type": "stream",
     "text": [
      "image updated at \"./210215-053340-And_blood-black_nothingness_began_to_spin_a_system_of_cells_interlinked.png\"\n"
     ]
    },
    {
     "name": "stderr",
     "output_type": "stream",
     "text": [
      "\n",
      "loss: tensor([-29.7759], device='cuda:0', grad_fn=<AddBackward0>):  73%|███████▎  | 219/300 [01:47<00:36,  2.24it/s]\u001b[A\n",
      "loss: tensor([-29.7759], device='cuda:0', grad_fn=<AddBackward0>):  73%|███████▎  | 220/300 [01:47<00:35,  2.25it/s]\u001b[A"
     ]
    },
    {
     "name": "stdout",
     "output_type": "stream",
     "text": [
      "image updated at \"./210215-053340-And_blood-black_nothingness_began_to_spin_a_system_of_cells_interlinked.png\"\n"
     ]
    },
    {
     "name": "stderr",
     "output_type": "stream",
     "text": [
      "\n",
      "loss: tensor([-29.8068], device='cuda:0', grad_fn=<AddBackward0>):  73%|███████▎  | 220/300 [01:48<00:35,  2.25it/s]\u001b[A\n",
      "loss: tensor([-29.8068], device='cuda:0', grad_fn=<AddBackward0>):  74%|███████▎  | 221/300 [01:48<00:34,  2.26it/s]\u001b[A"
     ]
    },
    {
     "name": "stdout",
     "output_type": "stream",
     "text": [
      "image updated at \"./210215-053340-And_blood-black_nothingness_began_to_spin_a_system_of_cells_interlinked.png\"\n"
     ]
    },
    {
     "name": "stderr",
     "output_type": "stream",
     "text": [
      "\n",
      "loss: tensor([-29.9317], device='cuda:0', grad_fn=<AddBackward0>):  74%|███████▎  | 221/300 [01:48<00:34,  2.26it/s]\u001b[A\n",
      "loss: tensor([-29.9317], device='cuda:0', grad_fn=<AddBackward0>):  74%|███████▍  | 222/300 [01:48<00:35,  2.18it/s]\u001b[A"
     ]
    },
    {
     "name": "stdout",
     "output_type": "stream",
     "text": [
      "image updated at \"./210215-053340-And_blood-black_nothingness_began_to_spin_a_system_of_cells_interlinked.png\"\n"
     ]
    },
    {
     "name": "stderr",
     "output_type": "stream",
     "text": [
      "\n",
      "loss: tensor([-29.7983], device='cuda:0', grad_fn=<AddBackward0>):  74%|███████▍  | 222/300 [01:49<00:35,  2.18it/s]\u001b[A\n",
      "loss: tensor([-29.7983], device='cuda:0', grad_fn=<AddBackward0>):  74%|███████▍  | 223/300 [01:49<00:35,  2.19it/s]\u001b[A"
     ]
    },
    {
     "name": "stdout",
     "output_type": "stream",
     "text": [
      "image updated at \"./210215-053340-And_blood-black_nothingness_began_to_spin_a_system_of_cells_interlinked.png\"\n"
     ]
    },
    {
     "name": "stderr",
     "output_type": "stream",
     "text": [
      "\n",
      "loss: tensor([-29.7044], device='cuda:0', grad_fn=<AddBackward0>):  74%|███████▍  | 223/300 [01:49<00:35,  2.19it/s]\u001b[A\n",
      "loss: tensor([-29.7044], device='cuda:0', grad_fn=<AddBackward0>):  75%|███████▍  | 224/300 [01:49<00:34,  2.21it/s]\u001b[A"
     ]
    },
    {
     "name": "stdout",
     "output_type": "stream",
     "text": [
      "image updated at \"./210215-053340-And_blood-black_nothingness_began_to_spin_a_system_of_cells_interlinked.png\"\n"
     ]
    },
    {
     "name": "stderr",
     "output_type": "stream",
     "text": [
      "\n",
      "loss: tensor([-29.8037], device='cuda:0', grad_fn=<AddBackward0>):  75%|███████▍  | 224/300 [01:50<00:34,  2.21it/s]\u001b[A\n",
      "loss: tensor([-29.8037], device='cuda:0', grad_fn=<AddBackward0>):  75%|███████▌  | 225/300 [01:50<00:33,  2.22it/s]\u001b[A"
     ]
    },
    {
     "name": "stdout",
     "output_type": "stream",
     "text": [
      "image updated at \"./210215-053340-And_blood-black_nothingness_began_to_spin_a_system_of_cells_interlinked.png\"\n"
     ]
    },
    {
     "name": "stderr",
     "output_type": "stream",
     "text": [
      "\n",
      "loss: tensor([-29.8050], device='cuda:0', grad_fn=<AddBackward0>):  75%|███████▌  | 225/300 [01:50<00:33,  2.22it/s]\u001b[A\n",
      "loss: tensor([-29.8050], device='cuda:0', grad_fn=<AddBackward0>):  75%|███████▌  | 226/300 [01:50<00:33,  2.22it/s]\u001b[A"
     ]
    },
    {
     "name": "stdout",
     "output_type": "stream",
     "text": [
      "image updated at \"./210215-053340-And_blood-black_nothingness_began_to_spin_a_system_of_cells_interlinked.png\"\n"
     ]
    },
    {
     "name": "stderr",
     "output_type": "stream",
     "text": [
      "\n",
      "loss: tensor([-29.9033], device='cuda:0', grad_fn=<AddBackward0>):  75%|███████▌  | 226/300 [01:51<00:33,  2.22it/s]\u001b[A\n",
      "loss: tensor([-29.9033], device='cuda:0', grad_fn=<AddBackward0>):  76%|███████▌  | 227/300 [01:51<00:32,  2.22it/s]\u001b[A"
     ]
    },
    {
     "name": "stdout",
     "output_type": "stream",
     "text": [
      "image updated at \"./210215-053340-And_blood-black_nothingness_began_to_spin_a_system_of_cells_interlinked.png\"\n"
     ]
    },
    {
     "name": "stderr",
     "output_type": "stream",
     "text": [
      "\n",
      "loss: tensor([-29.6846], device='cuda:0', grad_fn=<AddBackward0>):  76%|███████▌  | 227/300 [01:51<00:32,  2.22it/s]\u001b[A\n",
      "loss: tensor([-29.6846], device='cuda:0', grad_fn=<AddBackward0>):  76%|███████▌  | 228/300 [01:51<00:32,  2.21it/s]\u001b[A"
     ]
    },
    {
     "name": "stdout",
     "output_type": "stream",
     "text": [
      "image updated at \"./210215-053340-And_blood-black_nothingness_began_to_spin_a_system_of_cells_interlinked.png\"\n"
     ]
    },
    {
     "name": "stderr",
     "output_type": "stream",
     "text": [
      "\n",
      "loss: tensor([-29.8156], device='cuda:0', grad_fn=<AddBackward0>):  76%|███████▌  | 228/300 [01:52<00:32,  2.21it/s]\u001b[A\n",
      "loss: tensor([-29.8156], device='cuda:0', grad_fn=<AddBackward0>):  76%|███████▋  | 229/300 [01:52<00:32,  2.16it/s]\u001b[A"
     ]
    },
    {
     "name": "stdout",
     "output_type": "stream",
     "text": [
      "image updated at \"./210215-053340-And_blood-black_nothingness_began_to_spin_a_system_of_cells_interlinked.png\"\n"
     ]
    },
    {
     "name": "stderr",
     "output_type": "stream",
     "text": [
      "\n",
      "loss: tensor([-29.7601], device='cuda:0', grad_fn=<AddBackward0>):  76%|███████▋  | 229/300 [01:52<00:32,  2.16it/s]\u001b[A\n",
      "loss: tensor([-29.7601], device='cuda:0', grad_fn=<AddBackward0>):  77%|███████▋  | 230/300 [01:52<00:32,  2.14it/s]\u001b[A"
     ]
    },
    {
     "name": "stdout",
     "output_type": "stream",
     "text": [
      "image updated at \"./210215-053340-And_blood-black_nothingness_began_to_spin_a_system_of_cells_interlinked.png\"\n"
     ]
    },
    {
     "name": "stderr",
     "output_type": "stream",
     "text": [
      "\n",
      "loss: tensor([-29.8193], device='cuda:0', grad_fn=<AddBackward0>):  77%|███████▋  | 230/300 [01:52<00:32,  2.14it/s]\u001b[A\n",
      "loss: tensor([-29.8193], device='cuda:0', grad_fn=<AddBackward0>):  77%|███████▋  | 231/300 [01:52<00:32,  2.15it/s]\u001b[A"
     ]
    },
    {
     "name": "stdout",
     "output_type": "stream",
     "text": [
      "image updated at \"./210215-053340-And_blood-black_nothingness_began_to_spin_a_system_of_cells_interlinked.png\"\n"
     ]
    },
    {
     "name": "stderr",
     "output_type": "stream",
     "text": [
      "\n",
      "loss: tensor([-29.8697], device='cuda:0', grad_fn=<AddBackward0>):  77%|███████▋  | 231/300 [01:53<00:32,  2.15it/s]\u001b[A\n",
      "loss: tensor([-29.8697], device='cuda:0', grad_fn=<AddBackward0>):  77%|███████▋  | 232/300 [01:53<00:31,  2.17it/s]\u001b[A"
     ]
    },
    {
     "name": "stdout",
     "output_type": "stream",
     "text": [
      "image updated at \"./210215-053340-And_blood-black_nothingness_began_to_spin_a_system_of_cells_interlinked.png\"\n"
     ]
    },
    {
     "name": "stderr",
     "output_type": "stream",
     "text": [
      "\n",
      "loss: tensor([-29.9018], device='cuda:0', grad_fn=<AddBackward0>):  77%|███████▋  | 232/300 [01:53<00:31,  2.17it/s]\u001b[A\n",
      "loss: tensor([-29.9018], device='cuda:0', grad_fn=<AddBackward0>):  78%|███████▊  | 233/300 [01:53<00:30,  2.17it/s]\u001b[A"
     ]
    },
    {
     "name": "stdout",
     "output_type": "stream",
     "text": [
      "image updated at \"./210215-053340-And_blood-black_nothingness_began_to_spin_a_system_of_cells_interlinked.png\"\n"
     ]
    },
    {
     "name": "stderr",
     "output_type": "stream",
     "text": [
      "\n",
      "loss: tensor([-29.7874], device='cuda:0', grad_fn=<AddBackward0>):  78%|███████▊  | 233/300 [01:54<00:30,  2.17it/s]\u001b[A\n",
      "loss: tensor([-29.7874], device='cuda:0', grad_fn=<AddBackward0>):  78%|███████▊  | 234/300 [01:54<00:30,  2.17it/s]\u001b[A"
     ]
    },
    {
     "name": "stdout",
     "output_type": "stream",
     "text": [
      "image updated at \"./210215-053340-And_blood-black_nothingness_began_to_spin_a_system_of_cells_interlinked.png\"\n"
     ]
    },
    {
     "name": "stderr",
     "output_type": "stream",
     "text": [
      "\n",
      "loss: tensor([-29.7359], device='cuda:0', grad_fn=<AddBackward0>):  78%|███████▊  | 234/300 [01:54<00:30,  2.17it/s]\u001b[A\n",
      "loss: tensor([-29.7359], device='cuda:0', grad_fn=<AddBackward0>):  78%|███████▊  | 235/300 [01:54<00:29,  2.19it/s]\u001b[A"
     ]
    },
    {
     "name": "stdout",
     "output_type": "stream",
     "text": [
      "image updated at \"./210215-053340-And_blood-black_nothingness_began_to_spin_a_system_of_cells_interlinked.png\"\n"
     ]
    },
    {
     "name": "stderr",
     "output_type": "stream",
     "text": [
      "\n",
      "loss: tensor([-29.8901], device='cuda:0', grad_fn=<AddBackward0>):  78%|███████▊  | 235/300 [01:55<00:29,  2.19it/s]\u001b[A\n",
      "loss: tensor([-29.8901], device='cuda:0', grad_fn=<AddBackward0>):  79%|███████▊  | 236/300 [01:55<00:29,  2.19it/s]\u001b[A"
     ]
    },
    {
     "name": "stdout",
     "output_type": "stream",
     "text": [
      "image updated at \"./210215-053340-And_blood-black_nothingness_began_to_spin_a_system_of_cells_interlinked.png\"\n"
     ]
    },
    {
     "name": "stderr",
     "output_type": "stream",
     "text": [
      "\n",
      "loss: tensor([-29.8833], device='cuda:0', grad_fn=<AddBackward0>):  79%|███████▊  | 236/300 [01:55<00:29,  2.19it/s]\u001b[A\n",
      "loss: tensor([-29.8833], device='cuda:0', grad_fn=<AddBackward0>):  79%|███████▉  | 237/300 [01:55<00:28,  2.20it/s]\u001b[A"
     ]
    },
    {
     "name": "stdout",
     "output_type": "stream",
     "text": [
      "image updated at \"./210215-053340-And_blood-black_nothingness_began_to_spin_a_system_of_cells_interlinked.png\"\n"
     ]
    },
    {
     "name": "stderr",
     "output_type": "stream",
     "text": [
      "\n",
      "loss: tensor([-29.7296], device='cuda:0', grad_fn=<AddBackward0>):  79%|███████▉  | 237/300 [01:56<00:28,  2.20it/s]\u001b[A\n",
      "loss: tensor([-29.7296], device='cuda:0', grad_fn=<AddBackward0>):  79%|███████▉  | 238/300 [01:56<00:28,  2.21it/s]\u001b[A"
     ]
    },
    {
     "name": "stdout",
     "output_type": "stream",
     "text": [
      "image updated at \"./210215-053340-And_blood-black_nothingness_began_to_spin_a_system_of_cells_interlinked.png\"\n"
     ]
    },
    {
     "name": "stderr",
     "output_type": "stream",
     "text": [
      "\n",
      "loss: tensor([-29.4497], device='cuda:0', grad_fn=<AddBackward0>):  79%|███████▉  | 238/300 [01:56<00:28,  2.21it/s]\u001b[A\n",
      "loss: tensor([-29.4497], device='cuda:0', grad_fn=<AddBackward0>):  80%|███████▉  | 239/300 [01:56<00:27,  2.21it/s]\u001b[A"
     ]
    },
    {
     "name": "stdout",
     "output_type": "stream",
     "text": [
      "image updated at \"./210215-053340-And_blood-black_nothingness_began_to_spin_a_system_of_cells_interlinked.png\"\n"
     ]
    },
    {
     "name": "stderr",
     "output_type": "stream",
     "text": [
      "\n",
      "loss: tensor([-29.3861], device='cuda:0', grad_fn=<AddBackward0>):  80%|███████▉  | 239/300 [01:57<00:27,  2.21it/s]\u001b[A\n",
      "loss: tensor([-29.3861], device='cuda:0', grad_fn=<AddBackward0>):  80%|████████  | 240/300 [01:57<00:27,  2.21it/s]\u001b[A"
     ]
    },
    {
     "name": "stdout",
     "output_type": "stream",
     "text": [
      "image updated at \"./210215-053340-And_blood-black_nothingness_began_to_spin_a_system_of_cells_interlinked.png\"\n"
     ]
    },
    {
     "name": "stderr",
     "output_type": "stream",
     "text": [
      "\n",
      "loss: tensor([-29.4184], device='cuda:0', grad_fn=<AddBackward0>):  80%|████████  | 240/300 [01:57<00:27,  2.21it/s]\u001b[A\n",
      "loss: tensor([-29.4184], device='cuda:0', grad_fn=<AddBackward0>):  80%|████████  | 241/300 [01:57<00:26,  2.20it/s]\u001b[A"
     ]
    },
    {
     "name": "stdout",
     "output_type": "stream",
     "text": [
      "image updated at \"./210215-053340-And_blood-black_nothingness_began_to_spin_a_system_of_cells_interlinked.png\"\n"
     ]
    },
    {
     "name": "stderr",
     "output_type": "stream",
     "text": [
      "\n",
      "loss: tensor([-29.6674], device='cuda:0', grad_fn=<AddBackward0>):  80%|████████  | 241/300 [01:57<00:26,  2.20it/s]\u001b[A\n",
      "loss: tensor([-29.6674], device='cuda:0', grad_fn=<AddBackward0>):  81%|████████  | 242/300 [01:57<00:26,  2.21it/s]\u001b[A"
     ]
    },
    {
     "name": "stdout",
     "output_type": "stream",
     "text": [
      "image updated at \"./210215-053340-And_blood-black_nothingness_began_to_spin_a_system_of_cells_interlinked.png\"\n"
     ]
    },
    {
     "name": "stderr",
     "output_type": "stream",
     "text": [
      "\n",
      "loss: tensor([-29.5751], device='cuda:0', grad_fn=<AddBackward0>):  81%|████████  | 242/300 [01:58<00:26,  2.21it/s]\u001b[A\n",
      "loss: tensor([-29.5751], device='cuda:0', grad_fn=<AddBackward0>):  81%|████████  | 243/300 [01:58<00:26,  2.18it/s]\u001b[A"
     ]
    },
    {
     "name": "stdout",
     "output_type": "stream",
     "text": [
      "image updated at \"./210215-053340-And_blood-black_nothingness_began_to_spin_a_system_of_cells_interlinked.png\"\n"
     ]
    },
    {
     "name": "stderr",
     "output_type": "stream",
     "text": [
      "\n",
      "loss: tensor([-29.4607], device='cuda:0', grad_fn=<AddBackward0>):  81%|████████  | 243/300 [01:58<00:26,  2.18it/s]\u001b[A\n",
      "loss: tensor([-29.4607], device='cuda:0', grad_fn=<AddBackward0>):  81%|████████▏ | 244/300 [01:58<00:26,  2.14it/s]\u001b[A"
     ]
    },
    {
     "name": "stdout",
     "output_type": "stream",
     "text": [
      "image updated at \"./210215-053340-And_blood-black_nothingness_began_to_spin_a_system_of_cells_interlinked.png\"\n"
     ]
    },
    {
     "name": "stderr",
     "output_type": "stream",
     "text": [
      "\n",
      "loss: tensor([-29.3668], device='cuda:0', grad_fn=<AddBackward0>):  81%|████████▏ | 244/300 [01:59<00:26,  2.14it/s]\u001b[A\n",
      "loss: tensor([-29.3668], device='cuda:0', grad_fn=<AddBackward0>):  82%|████████▏ | 245/300 [01:59<00:25,  2.15it/s]\u001b[A"
     ]
    },
    {
     "name": "stdout",
     "output_type": "stream",
     "text": [
      "image updated at \"./210215-053340-And_blood-black_nothingness_began_to_spin_a_system_of_cells_interlinked.png\"\n"
     ]
    },
    {
     "name": "stderr",
     "output_type": "stream",
     "text": [
      "\n",
      "loss: tensor([-29.3849], device='cuda:0', grad_fn=<AddBackward0>):  82%|████████▏ | 245/300 [01:59<00:25,  2.15it/s]\u001b[A\n",
      "loss: tensor([-29.3849], device='cuda:0', grad_fn=<AddBackward0>):  82%|████████▏ | 246/300 [01:59<00:25,  2.16it/s]\u001b[A"
     ]
    },
    {
     "name": "stdout",
     "output_type": "stream",
     "text": [
      "image updated at \"./210215-053340-And_blood-black_nothingness_began_to_spin_a_system_of_cells_interlinked.png\"\n"
     ]
    },
    {
     "name": "stderr",
     "output_type": "stream",
     "text": [
      "\n",
      "loss: tensor([-29.5348], device='cuda:0', grad_fn=<AddBackward0>):  82%|████████▏ | 246/300 [02:00<00:25,  2.16it/s]\u001b[A\n",
      "loss: tensor([-29.5348], device='cuda:0', grad_fn=<AddBackward0>):  82%|████████▏ | 247/300 [02:00<00:24,  2.18it/s]\u001b[A"
     ]
    },
    {
     "name": "stdout",
     "output_type": "stream",
     "text": [
      "image updated at \"./210215-053340-And_blood-black_nothingness_began_to_spin_a_system_of_cells_interlinked.png\"\n"
     ]
    },
    {
     "name": "stderr",
     "output_type": "stream",
     "text": [
      "\n",
      "loss: tensor([-29.6711], device='cuda:0', grad_fn=<AddBackward0>):  82%|████████▏ | 247/300 [02:00<00:24,  2.18it/s]\u001b[A\n",
      "loss: tensor([-29.6711], device='cuda:0', grad_fn=<AddBackward0>):  83%|████████▎ | 248/300 [02:00<00:23,  2.19it/s]\u001b[A"
     ]
    },
    {
     "name": "stdout",
     "output_type": "stream",
     "text": [
      "image updated at \"./210215-053340-And_blood-black_nothingness_began_to_spin_a_system_of_cells_interlinked.png\"\n"
     ]
    },
    {
     "name": "stderr",
     "output_type": "stream",
     "text": [
      "\n",
      "loss: tensor([-29.4726], device='cuda:0', grad_fn=<AddBackward0>):  83%|████████▎ | 248/300 [02:01<00:23,  2.19it/s]\u001b[A\n",
      "loss: tensor([-29.4726], device='cuda:0', grad_fn=<AddBackward0>):  83%|████████▎ | 249/300 [02:01<00:23,  2.19it/s]\u001b[A"
     ]
    },
    {
     "name": "stdout",
     "output_type": "stream",
     "text": [
      "image updated at \"./210215-053340-And_blood-black_nothingness_began_to_spin_a_system_of_cells_interlinked.png\"\n"
     ]
    },
    {
     "name": "stderr",
     "output_type": "stream",
     "text": [
      "\n",
      "loss: tensor([-29.6594], device='cuda:0', grad_fn=<AddBackward0>):  83%|████████▎ | 249/300 [02:01<00:23,  2.19it/s]\u001b[A\n",
      "loss: tensor([-29.6594], device='cuda:0', grad_fn=<AddBackward0>):  83%|████████▎ | 250/300 [02:01<00:22,  2.20it/s]\u001b[A"
     ]
    },
    {
     "name": "stdout",
     "output_type": "stream",
     "text": [
      "image updated at \"./210215-053340-And_blood-black_nothingness_began_to_spin_a_system_of_cells_interlinked.png\"\n"
     ]
    },
    {
     "name": "stderr",
     "output_type": "stream",
     "text": [
      "\n",
      "loss: tensor([-29.7618], device='cuda:0', grad_fn=<AddBackward0>):  83%|████████▎ | 250/300 [02:02<00:22,  2.20it/s]\u001b[A\n",
      "loss: tensor([-29.7618], device='cuda:0', grad_fn=<AddBackward0>):  84%|████████▎ | 251/300 [02:02<00:22,  2.18it/s]\u001b[A"
     ]
    },
    {
     "name": "stdout",
     "output_type": "stream",
     "text": [
      "image updated at \"./210215-053340-And_blood-black_nothingness_began_to_spin_a_system_of_cells_interlinked.png\"\n"
     ]
    },
    {
     "name": "stderr",
     "output_type": "stream",
     "text": [
      "\n",
      "loss: tensor([-29.5659], device='cuda:0', grad_fn=<AddBackward0>):  84%|████████▎ | 251/300 [02:02<00:22,  2.18it/s]\u001b[A\n",
      "loss: tensor([-29.5659], device='cuda:0', grad_fn=<AddBackward0>):  84%|████████▍ | 252/300 [02:02<00:22,  2.17it/s]\u001b[A"
     ]
    },
    {
     "name": "stdout",
     "output_type": "stream",
     "text": [
      "image updated at \"./210215-053340-And_blood-black_nothingness_began_to_spin_a_system_of_cells_interlinked.png\"\n"
     ]
    },
    {
     "name": "stderr",
     "output_type": "stream",
     "text": [
      "\n",
      "loss: tensor([-29.6239], device='cuda:0', grad_fn=<AddBackward0>):  84%|████████▍ | 252/300 [02:03<00:22,  2.17it/s]\u001b[A\n",
      "loss: tensor([-29.6239], device='cuda:0', grad_fn=<AddBackward0>):  84%|████████▍ | 253/300 [02:03<00:21,  2.17it/s]\u001b[A"
     ]
    },
    {
     "name": "stdout",
     "output_type": "stream",
     "text": [
      "image updated at \"./210215-053340-And_blood-black_nothingness_began_to_spin_a_system_of_cells_interlinked.png\"\n"
     ]
    },
    {
     "name": "stderr",
     "output_type": "stream",
     "text": [
      "\n",
      "loss: tensor([-29.7542], device='cuda:0', grad_fn=<AddBackward0>):  84%|████████▍ | 253/300 [02:03<00:21,  2.17it/s]\u001b[A\n",
      "loss: tensor([-29.7542], device='cuda:0', grad_fn=<AddBackward0>):  85%|████████▍ | 254/300 [02:03<00:21,  2.17it/s]\u001b[A"
     ]
    },
    {
     "name": "stdout",
     "output_type": "stream",
     "text": [
      "image updated at \"./210215-053340-And_blood-black_nothingness_began_to_spin_a_system_of_cells_interlinked.png\"\n"
     ]
    },
    {
     "name": "stderr",
     "output_type": "stream",
     "text": [
      "\n",
      "loss: tensor([-29.7948], device='cuda:0', grad_fn=<AddBackward0>):  85%|████████▍ | 254/300 [02:03<00:21,  2.17it/s]\u001b[A\n",
      "loss: tensor([-29.7948], device='cuda:0', grad_fn=<AddBackward0>):  85%|████████▌ | 255/300 [02:03<00:20,  2.19it/s]\u001b[A"
     ]
    },
    {
     "name": "stdout",
     "output_type": "stream",
     "text": [
      "image updated at \"./210215-053340-And_blood-black_nothingness_began_to_spin_a_system_of_cells_interlinked.png\"\n"
     ]
    },
    {
     "name": "stderr",
     "output_type": "stream",
     "text": [
      "\n",
      "loss: tensor([-29.7015], device='cuda:0', grad_fn=<AddBackward0>):  85%|████████▌ | 255/300 [02:04<00:20,  2.19it/s]\u001b[A\n",
      "loss: tensor([-29.7015], device='cuda:0', grad_fn=<AddBackward0>):  85%|████████▌ | 256/300 [02:04<00:20,  2.19it/s]\u001b[A"
     ]
    },
    {
     "name": "stdout",
     "output_type": "stream",
     "text": [
      "image updated at \"./210215-053340-And_blood-black_nothingness_began_to_spin_a_system_of_cells_interlinked.png\"\n"
     ]
    },
    {
     "name": "stderr",
     "output_type": "stream",
     "text": [
      "\n",
      "loss: tensor([-29.4130], device='cuda:0', grad_fn=<AddBackward0>):  85%|████████▌ | 256/300 [02:04<00:20,  2.19it/s]\u001b[A\n",
      "loss: tensor([-29.4130], device='cuda:0', grad_fn=<AddBackward0>):  86%|████████▌ | 257/300 [02:04<00:19,  2.19it/s]\u001b[A"
     ]
    },
    {
     "name": "stdout",
     "output_type": "stream",
     "text": [
      "image updated at \"./210215-053340-And_blood-black_nothingness_began_to_spin_a_system_of_cells_interlinked.png\"\n"
     ]
    },
    {
     "name": "stderr",
     "output_type": "stream",
     "text": [
      "\n",
      "loss: tensor([-29.6657], device='cuda:0', grad_fn=<AddBackward0>):  86%|████████▌ | 257/300 [02:05<00:19,  2.19it/s]\u001b[A\n",
      "loss: tensor([-29.6657], device='cuda:0', grad_fn=<AddBackward0>):  86%|████████▌ | 258/300 [02:05<00:19,  2.20it/s]\u001b[A"
     ]
    },
    {
     "name": "stdout",
     "output_type": "stream",
     "text": [
      "image updated at \"./210215-053340-And_blood-black_nothingness_began_to_spin_a_system_of_cells_interlinked.png\"\n"
     ]
    },
    {
     "name": "stderr",
     "output_type": "stream",
     "text": [
      "\n",
      "loss: tensor([-29.5257], device='cuda:0', grad_fn=<AddBackward0>):  86%|████████▌ | 258/300 [02:05<00:19,  2.20it/s]\u001b[A\n",
      "loss: tensor([-29.5257], device='cuda:0', grad_fn=<AddBackward0>):  86%|████████▋ | 259/300 [02:05<00:18,  2.22it/s]\u001b[A"
     ]
    },
    {
     "name": "stdout",
     "output_type": "stream",
     "text": [
      "image updated at \"./210215-053340-And_blood-black_nothingness_began_to_spin_a_system_of_cells_interlinked.png\"\n"
     ]
    },
    {
     "name": "stderr",
     "output_type": "stream",
     "text": [
      "\n",
      "loss: tensor([-29.6522], device='cuda:0', grad_fn=<AddBackward0>):  86%|████████▋ | 259/300 [02:06<00:18,  2.22it/s]\u001b[A\n",
      "loss: tensor([-29.6522], device='cuda:0', grad_fn=<AddBackward0>):  87%|████████▋ | 260/300 [02:06<00:17,  2.22it/s]\u001b[A"
     ]
    },
    {
     "name": "stdout",
     "output_type": "stream",
     "text": [
      "image updated at \"./210215-053340-And_blood-black_nothingness_began_to_spin_a_system_of_cells_interlinked.png\"\n"
     ]
    },
    {
     "name": "stderr",
     "output_type": "stream",
     "text": [
      "\n",
      "loss: tensor([-29.7069], device='cuda:0', grad_fn=<AddBackward0>):  87%|████████▋ | 260/300 [02:06<00:17,  2.22it/s]\u001b[A\n",
      "loss: tensor([-29.7069], device='cuda:0', grad_fn=<AddBackward0>):  87%|████████▋ | 261/300 [02:06<00:17,  2.23it/s]\u001b[A"
     ]
    },
    {
     "name": "stdout",
     "output_type": "stream",
     "text": [
      "image updated at \"./210215-053340-And_blood-black_nothingness_began_to_spin_a_system_of_cells_interlinked.png\"\n"
     ]
    },
    {
     "name": "stderr",
     "output_type": "stream",
     "text": [
      "\n",
      "loss: tensor([-29.6818], device='cuda:0', grad_fn=<AddBackward0>):  87%|████████▋ | 261/300 [02:07<00:17,  2.23it/s]\u001b[A\n",
      "loss: tensor([-29.6818], device='cuda:0', grad_fn=<AddBackward0>):  87%|████████▋ | 262/300 [02:07<00:17,  2.23it/s]\u001b[A"
     ]
    },
    {
     "name": "stdout",
     "output_type": "stream",
     "text": [
      "image updated at \"./210215-053340-And_blood-black_nothingness_began_to_spin_a_system_of_cells_interlinked.png\"\n"
     ]
    },
    {
     "name": "stderr",
     "output_type": "stream",
     "text": [
      "\n",
      "loss: tensor([-29.8976], device='cuda:0', grad_fn=<AddBackward0>):  87%|████████▋ | 262/300 [02:07<00:17,  2.23it/s]\u001b[A\n",
      "loss: tensor([-29.8976], device='cuda:0', grad_fn=<AddBackward0>):  88%|████████▊ | 263/300 [02:07<00:16,  2.21it/s]\u001b[A"
     ]
    },
    {
     "name": "stdout",
     "output_type": "stream",
     "text": [
      "image updated at \"./210215-053340-And_blood-black_nothingness_began_to_spin_a_system_of_cells_interlinked.png\"\n"
     ]
    },
    {
     "name": "stderr",
     "output_type": "stream",
     "text": [
      "\n",
      "loss: tensor([-29.7692], device='cuda:0', grad_fn=<AddBackward0>):  88%|████████▊ | 263/300 [02:08<00:16,  2.21it/s]\u001b[A\n",
      "loss: tensor([-29.7692], device='cuda:0', grad_fn=<AddBackward0>):  88%|████████▊ | 264/300 [02:08<00:16,  2.22it/s]\u001b[A"
     ]
    },
    {
     "name": "stdout",
     "output_type": "stream",
     "text": [
      "image updated at \"./210215-053340-And_blood-black_nothingness_began_to_spin_a_system_of_cells_interlinked.png\"\n"
     ]
    },
    {
     "name": "stderr",
     "output_type": "stream",
     "text": [
      "\n",
      "loss: tensor([-29.7872], device='cuda:0', grad_fn=<AddBackward0>):  88%|████████▊ | 264/300 [02:08<00:16,  2.22it/s]\u001b[A\n",
      "loss: tensor([-29.7872], device='cuda:0', grad_fn=<AddBackward0>):  88%|████████▊ | 265/300 [02:08<00:15,  2.22it/s]\u001b[A"
     ]
    },
    {
     "name": "stdout",
     "output_type": "stream",
     "text": [
      "image updated at \"./210215-053340-And_blood-black_nothingness_began_to_spin_a_system_of_cells_interlinked.png\"\n"
     ]
    },
    {
     "name": "stderr",
     "output_type": "stream",
     "text": [
      "\n",
      "loss: tensor([-29.9137], device='cuda:0', grad_fn=<AddBackward0>):  88%|████████▊ | 265/300 [02:08<00:15,  2.22it/s]\u001b[A\n",
      "loss: tensor([-29.9137], device='cuda:0', grad_fn=<AddBackward0>):  89%|████████▊ | 266/300 [02:08<00:15,  2.22it/s]\u001b[A"
     ]
    },
    {
     "name": "stdout",
     "output_type": "stream",
     "text": [
      "image updated at \"./210215-053340-And_blood-black_nothingness_began_to_spin_a_system_of_cells_interlinked.png\"\n"
     ]
    },
    {
     "name": "stderr",
     "output_type": "stream",
     "text": [
      "\n",
      "loss: tensor([-29.7022], device='cuda:0', grad_fn=<AddBackward0>):  89%|████████▊ | 266/300 [02:09<00:15,  2.22it/s]\u001b[A\n",
      "loss: tensor([-29.7022], device='cuda:0', grad_fn=<AddBackward0>):  89%|████████▉ | 267/300 [02:09<00:14,  2.22it/s]\u001b[A"
     ]
    },
    {
     "name": "stdout",
     "output_type": "stream",
     "text": [
      "image updated at \"./210215-053340-And_blood-black_nothingness_began_to_spin_a_system_of_cells_interlinked.png\"\n"
     ]
    },
    {
     "name": "stderr",
     "output_type": "stream",
     "text": [
      "\n",
      "loss: tensor([-29.7976], device='cuda:0', grad_fn=<AddBackward0>):  89%|████████▉ | 267/300 [02:09<00:14,  2.22it/s]\u001b[A\n",
      "loss: tensor([-29.7976], device='cuda:0', grad_fn=<AddBackward0>):  89%|████████▉ | 268/300 [02:09<00:14,  2.20it/s]\u001b[A"
     ]
    },
    {
     "name": "stdout",
     "output_type": "stream",
     "text": [
      "image updated at \"./210215-053340-And_blood-black_nothingness_began_to_spin_a_system_of_cells_interlinked.png\"\n"
     ]
    },
    {
     "name": "stderr",
     "output_type": "stream",
     "text": [
      "\n",
      "loss: tensor([-29.8661], device='cuda:0', grad_fn=<AddBackward0>):  89%|████████▉ | 268/300 [02:10<00:14,  2.20it/s]\u001b[A\n",
      "loss: tensor([-29.8661], device='cuda:0', grad_fn=<AddBackward0>):  90%|████████▉ | 269/300 [02:10<00:14,  2.21it/s]\u001b[A"
     ]
    },
    {
     "name": "stdout",
     "output_type": "stream",
     "text": [
      "image updated at \"./210215-053340-And_blood-black_nothingness_began_to_spin_a_system_of_cells_interlinked.png\"\n"
     ]
    },
    {
     "name": "stderr",
     "output_type": "stream",
     "text": [
      "\n",
      "loss: tensor([-29.8952], device='cuda:0', grad_fn=<AddBackward0>):  90%|████████▉ | 269/300 [02:10<00:14,  2.21it/s]\u001b[A\n",
      "loss: tensor([-29.8952], device='cuda:0', grad_fn=<AddBackward0>):  90%|█████████ | 270/300 [02:10<00:13,  2.21it/s]\u001b[A"
     ]
    },
    {
     "name": "stdout",
     "output_type": "stream",
     "text": [
      "image updated at \"./210215-053340-And_blood-black_nothingness_began_to_spin_a_system_of_cells_interlinked.png\"\n"
     ]
    },
    {
     "name": "stderr",
     "output_type": "stream",
     "text": [
      "\n",
      "loss: tensor([-29.7637], device='cuda:0', grad_fn=<AddBackward0>):  90%|█████████ | 270/300 [02:11<00:13,  2.21it/s]\u001b[A\n",
      "loss: tensor([-29.7637], device='cuda:0', grad_fn=<AddBackward0>):  90%|█████████ | 271/300 [02:11<00:13,  2.21it/s]\u001b[A"
     ]
    },
    {
     "name": "stdout",
     "output_type": "stream",
     "text": [
      "image updated at \"./210215-053340-And_blood-black_nothingness_began_to_spin_a_system_of_cells_interlinked.png\"\n"
     ]
    },
    {
     "name": "stderr",
     "output_type": "stream",
     "text": [
      "\n",
      "loss: tensor([-29.7943], device='cuda:0', grad_fn=<AddBackward0>):  90%|█████████ | 271/300 [02:11<00:13,  2.21it/s]\u001b[A\n",
      "loss: tensor([-29.7943], device='cuda:0', grad_fn=<AddBackward0>):  91%|█████████ | 272/300 [02:11<00:12,  2.21it/s]\u001b[A"
     ]
    },
    {
     "name": "stdout",
     "output_type": "stream",
     "text": [
      "image updated at \"./210215-053340-And_blood-black_nothingness_began_to_spin_a_system_of_cells_interlinked.png\"\n"
     ]
    },
    {
     "name": "stderr",
     "output_type": "stream",
     "text": [
      "\n",
      "loss: tensor([-29.8952], device='cuda:0', grad_fn=<AddBackward0>):  91%|█████████ | 272/300 [02:12<00:12,  2.21it/s]\u001b[A\n",
      "loss: tensor([-29.8952], device='cuda:0', grad_fn=<AddBackward0>):  91%|█████████ | 273/300 [02:12<00:12,  2.18it/s]\u001b[A"
     ]
    },
    {
     "name": "stdout",
     "output_type": "stream",
     "text": [
      "image updated at \"./210215-053340-And_blood-black_nothingness_began_to_spin_a_system_of_cells_interlinked.png\"\n"
     ]
    },
    {
     "name": "stderr",
     "output_type": "stream",
     "text": [
      "\n",
      "loss: tensor([-29.9391], device='cuda:0', grad_fn=<AddBackward0>):  91%|█████████ | 273/300 [02:12<00:12,  2.18it/s]\u001b[A\n",
      "loss: tensor([-29.9391], device='cuda:0', grad_fn=<AddBackward0>):  91%|█████████▏| 274/300 [02:12<00:12,  2.11it/s]\u001b[A"
     ]
    },
    {
     "name": "stdout",
     "output_type": "stream",
     "text": [
      "image updated at \"./210215-053340-And_blood-black_nothingness_began_to_spin_a_system_of_cells_interlinked.png\"\n"
     ]
    },
    {
     "name": "stderr",
     "output_type": "stream",
     "text": [
      "\n",
      "loss: tensor([-30.0400], device='cuda:0', grad_fn=<AddBackward0>):  91%|█████████▏| 274/300 [02:13<00:12,  2.11it/s]\u001b[A\n",
      "loss: tensor([-30.0400], device='cuda:0', grad_fn=<AddBackward0>):  92%|█████████▏| 275/300 [02:13<00:13,  1.91it/s]\u001b[A"
     ]
    },
    {
     "name": "stdout",
     "output_type": "stream",
     "text": [
      "image updated at \"./210215-053340-And_blood-black_nothingness_began_to_spin_a_system_of_cells_interlinked.png\"\n"
     ]
    },
    {
     "name": "stderr",
     "output_type": "stream",
     "text": [
      "\n",
      "loss: tensor([-29.9725], device='cuda:0', grad_fn=<AddBackward0>):  92%|█████████▏| 275/300 [02:13<00:13,  1.91it/s]\u001b[A\n",
      "loss: tensor([-29.9725], device='cuda:0', grad_fn=<AddBackward0>):  92%|█████████▏| 276/300 [02:13<00:12,  1.99it/s]\u001b[A"
     ]
    },
    {
     "name": "stdout",
     "output_type": "stream",
     "text": [
      "image updated at \"./210215-053340-And_blood-black_nothingness_began_to_spin_a_system_of_cells_interlinked.png\"\n"
     ]
    },
    {
     "name": "stderr",
     "output_type": "stream",
     "text": [
      "\n",
      "loss: tensor([-30.0998], device='cuda:0', grad_fn=<AddBackward0>):  92%|█████████▏| 276/300 [02:14<00:12,  1.99it/s]\u001b[A\n",
      "loss: tensor([-30.0998], device='cuda:0', grad_fn=<AddBackward0>):  92%|█████████▏| 277/300 [02:14<00:11,  1.95it/s]\u001b[A"
     ]
    },
    {
     "name": "stdout",
     "output_type": "stream",
     "text": [
      "image updated at \"./210215-053340-And_blood-black_nothingness_began_to_spin_a_system_of_cells_interlinked.png\"\n"
     ]
    },
    {
     "name": "stderr",
     "output_type": "stream",
     "text": [
      "\n",
      "loss: tensor([-30.0651], device='cuda:0', grad_fn=<AddBackward0>):  92%|█████████▏| 277/300 [02:14<00:11,  1.95it/s]\u001b[A\n",
      "loss: tensor([-30.0651], device='cuda:0', grad_fn=<AddBackward0>):  93%|█████████▎| 278/300 [02:14<00:10,  2.01it/s]\u001b[A"
     ]
    },
    {
     "name": "stdout",
     "output_type": "stream",
     "text": [
      "image updated at \"./210215-053340-And_blood-black_nothingness_began_to_spin_a_system_of_cells_interlinked.png\"\n"
     ]
    },
    {
     "name": "stderr",
     "output_type": "stream",
     "text": [
      "\n",
      "loss: tensor([-30.2173], device='cuda:0', grad_fn=<AddBackward0>):  93%|█████████▎| 278/300 [02:15<00:10,  2.01it/s]\u001b[A\n",
      "loss: tensor([-30.2173], device='cuda:0', grad_fn=<AddBackward0>):  93%|█████████▎| 279/300 [02:15<00:10,  1.97it/s]\u001b[A"
     ]
    },
    {
     "name": "stdout",
     "output_type": "stream",
     "text": [
      "image updated at \"./210215-053340-And_blood-black_nothingness_began_to_spin_a_system_of_cells_interlinked.png\"\n"
     ]
    },
    {
     "name": "stderr",
     "output_type": "stream",
     "text": [
      "\n",
      "loss: tensor([-30.0019], device='cuda:0', grad_fn=<AddBackward0>):  93%|█████████▎| 279/300 [02:15<00:10,  1.97it/s]\u001b[A\n",
      "loss: tensor([-30.0019], device='cuda:0', grad_fn=<AddBackward0>):  93%|█████████▎| 280/300 [02:15<00:09,  2.04it/s]\u001b[A"
     ]
    },
    {
     "name": "stdout",
     "output_type": "stream",
     "text": [
      "image updated at \"./210215-053340-And_blood-black_nothingness_began_to_spin_a_system_of_cells_interlinked.png\"\n"
     ]
    },
    {
     "name": "stderr",
     "output_type": "stream",
     "text": [
      "\n",
      "loss: tensor([-30.2261], device='cuda:0', grad_fn=<AddBackward0>):  93%|█████████▎| 280/300 [02:16<00:09,  2.04it/s]\u001b[A\n",
      "loss: tensor([-30.2261], device='cuda:0', grad_fn=<AddBackward0>):  94%|█████████▎| 281/300 [02:16<00:09,  2.06it/s]\u001b[A"
     ]
    },
    {
     "name": "stdout",
     "output_type": "stream",
     "text": [
      "image updated at \"./210215-053340-And_blood-black_nothingness_began_to_spin_a_system_of_cells_interlinked.png\"\n"
     ]
    },
    {
     "name": "stderr",
     "output_type": "stream",
     "text": [
      "\n",
      "loss: tensor([-30.1063], device='cuda:0', grad_fn=<AddBackward0>):  94%|█████████▎| 281/300 [02:16<00:09,  2.06it/s]\u001b[A\n",
      "loss: tensor([-30.1063], device='cuda:0', grad_fn=<AddBackward0>):  94%|█████████▍| 282/300 [02:16<00:08,  2.01it/s]\u001b[A"
     ]
    },
    {
     "name": "stdout",
     "output_type": "stream",
     "text": [
      "image updated at \"./210215-053340-And_blood-black_nothingness_began_to_spin_a_system_of_cells_interlinked.png\"\n"
     ]
    },
    {
     "name": "stderr",
     "output_type": "stream",
     "text": [
      "\n",
      "loss: tensor([-30.1072], device='cuda:0', grad_fn=<AddBackward0>):  94%|█████████▍| 282/300 [02:17<00:08,  2.01it/s]\u001b[A\n",
      "loss: tensor([-30.1072], device='cuda:0', grad_fn=<AddBackward0>):  94%|█████████▍| 283/300 [02:17<00:08,  2.06it/s]\u001b[A"
     ]
    },
    {
     "name": "stdout",
     "output_type": "stream",
     "text": [
      "image updated at \"./210215-053340-And_blood-black_nothingness_began_to_spin_a_system_of_cells_interlinked.png\"\n"
     ]
    },
    {
     "name": "stderr",
     "output_type": "stream",
     "text": [
      "\n",
      "loss: tensor([-30.0967], device='cuda:0', grad_fn=<AddBackward0>):  94%|█████████▍| 283/300 [02:17<00:08,  2.06it/s]\u001b[A\n",
      "loss: tensor([-30.0967], device='cuda:0', grad_fn=<AddBackward0>):  95%|█████████▍| 284/300 [02:17<00:07,  2.09it/s]\u001b[A"
     ]
    },
    {
     "name": "stdout",
     "output_type": "stream",
     "text": [
      "image updated at \"./210215-053340-And_blood-black_nothingness_began_to_spin_a_system_of_cells_interlinked.png\"\n"
     ]
    },
    {
     "name": "stderr",
     "output_type": "stream",
     "text": [
      "\n",
      "loss: tensor([-30.1560], device='cuda:0', grad_fn=<AddBackward0>):  95%|█████████▍| 284/300 [02:18<00:07,  2.09it/s]\u001b[A\n",
      "loss: tensor([-30.1560], device='cuda:0', grad_fn=<AddBackward0>):  95%|█████████▌| 285/300 [02:18<00:07,  2.11it/s]\u001b[A"
     ]
    },
    {
     "name": "stdout",
     "output_type": "stream",
     "text": [
      "image updated at \"./210215-053340-And_blood-black_nothingness_began_to_spin_a_system_of_cells_interlinked.png\"\n"
     ]
    },
    {
     "name": "stderr",
     "output_type": "stream",
     "text": [
      "\n",
      "loss: tensor([-30.3136], device='cuda:0', grad_fn=<AddBackward0>):  95%|█████████▌| 285/300 [02:18<00:07,  2.11it/s]\u001b[A\n",
      "loss: tensor([-30.3136], device='cuda:0', grad_fn=<AddBackward0>):  95%|█████████▌| 286/300 [02:18<00:06,  2.03it/s]\u001b[A"
     ]
    },
    {
     "name": "stdout",
     "output_type": "stream",
     "text": [
      "image updated at \"./210215-053340-And_blood-black_nothingness_began_to_spin_a_system_of_cells_interlinked.png\"\n"
     ]
    },
    {
     "name": "stderr",
     "output_type": "stream",
     "text": [
      "\n",
      "loss: tensor([-30.1020], device='cuda:0', grad_fn=<AddBackward0>):  95%|█████████▌| 286/300 [02:19<00:06,  2.03it/s]\u001b[A\n",
      "loss: tensor([-30.1020], device='cuda:0', grad_fn=<AddBackward0>):  96%|█████████▌| 287/300 [02:19<00:06,  2.08it/s]\u001b[A"
     ]
    },
    {
     "name": "stdout",
     "output_type": "stream",
     "text": [
      "image updated at \"./210215-053340-And_blood-black_nothingness_began_to_spin_a_system_of_cells_interlinked.png\"\n"
     ]
    },
    {
     "name": "stderr",
     "output_type": "stream",
     "text": [
      "\n",
      "loss: tensor([-30.3539], device='cuda:0', grad_fn=<AddBackward0>):  96%|█████████▌| 287/300 [02:19<00:06,  2.08it/s]\u001b[A\n",
      "loss: tensor([-30.3539], device='cuda:0', grad_fn=<AddBackward0>):  96%|█████████▌| 288/300 [02:19<00:05,  2.00it/s]\u001b[A"
     ]
    },
    {
     "name": "stdout",
     "output_type": "stream",
     "text": [
      "image updated at \"./210215-053340-And_blood-black_nothingness_began_to_spin_a_system_of_cells_interlinked.png\"\n"
     ]
    },
    {
     "name": "stderr",
     "output_type": "stream",
     "text": [
      "\n",
      "loss: tensor([-30.1955], device='cuda:0', grad_fn=<AddBackward0>):  96%|█████████▌| 288/300 [02:20<00:05,  2.00it/s]\u001b[A\n",
      "loss: tensor([-30.1955], device='cuda:0', grad_fn=<AddBackward0>):  96%|█████████▋| 289/300 [02:20<00:05,  2.05it/s]\u001b[A"
     ]
    },
    {
     "name": "stdout",
     "output_type": "stream",
     "text": [
      "image updated at \"./210215-053340-And_blood-black_nothingness_began_to_spin_a_system_of_cells_interlinked.png\"\n"
     ]
    },
    {
     "name": "stderr",
     "output_type": "stream",
     "text": [
      "\n",
      "loss: tensor([-30.1300], device='cuda:0', grad_fn=<AddBackward0>):  96%|█████████▋| 289/300 [02:20<00:05,  2.05it/s]\u001b[A\n",
      "loss: tensor([-30.1300], device='cuda:0', grad_fn=<AddBackward0>):  97%|█████████▋| 290/300 [02:20<00:04,  2.09it/s]\u001b[A"
     ]
    },
    {
     "name": "stdout",
     "output_type": "stream",
     "text": [
      "image updated at \"./210215-053340-And_blood-black_nothingness_began_to_spin_a_system_of_cells_interlinked.png\"\n"
     ]
    },
    {
     "name": "stderr",
     "output_type": "stream",
     "text": [
      "\n",
      "loss: tensor([-30.3454], device='cuda:0', grad_fn=<AddBackward0>):  97%|█████████▋| 290/300 [02:20<00:04,  2.09it/s]\u001b[A\n",
      "loss: tensor([-30.3454], device='cuda:0', grad_fn=<AddBackward0>):  97%|█████████▋| 291/300 [02:20<00:04,  2.10it/s]\u001b[A"
     ]
    },
    {
     "name": "stdout",
     "output_type": "stream",
     "text": [
      "image updated at \"./210215-053340-And_blood-black_nothingness_began_to_spin_a_system_of_cells_interlinked.png\"\n"
     ]
    },
    {
     "name": "stderr",
     "output_type": "stream",
     "text": [
      "\n",
      "loss: tensor([-30.2873], device='cuda:0', grad_fn=<AddBackward0>):  97%|█████████▋| 291/300 [02:21<00:04,  2.10it/s]\u001b[A\n",
      "loss: tensor([-30.2873], device='cuda:0', grad_fn=<AddBackward0>):  97%|█████████▋| 292/300 [02:21<00:03,  2.12it/s]\u001b[A"
     ]
    },
    {
     "name": "stdout",
     "output_type": "stream",
     "text": [
      "image updated at \"./210215-053340-And_blood-black_nothingness_began_to_spin_a_system_of_cells_interlinked.png\"\n"
     ]
    },
    {
     "name": "stderr",
     "output_type": "stream",
     "text": [
      "\n",
      "loss: tensor([-30.3205], device='cuda:0', grad_fn=<AddBackward0>):  97%|█████████▋| 292/300 [02:21<00:03,  2.12it/s]\u001b[A\n",
      "loss: tensor([-30.3205], device='cuda:0', grad_fn=<AddBackward0>):  98%|█████████▊| 293/300 [02:21<00:03,  2.14it/s]\u001b[A"
     ]
    },
    {
     "name": "stdout",
     "output_type": "stream",
     "text": [
      "image updated at \"./210215-053340-And_blood-black_nothingness_began_to_spin_a_system_of_cells_interlinked.png\"\n"
     ]
    },
    {
     "name": "stderr",
     "output_type": "stream",
     "text": [
      "\n",
      "loss: tensor([-30.3567], device='cuda:0', grad_fn=<AddBackward0>):  98%|█████████▊| 293/300 [02:22<00:03,  2.14it/s]\u001b[A\n",
      "loss: tensor([-30.3567], device='cuda:0', grad_fn=<AddBackward0>):  98%|█████████▊| 294/300 [02:22<00:02,  2.13it/s]\u001b[A"
     ]
    },
    {
     "name": "stdout",
     "output_type": "stream",
     "text": [
      "image updated at \"./210215-053340-And_blood-black_nothingness_began_to_spin_a_system_of_cells_interlinked.png\"\n"
     ]
    },
    {
     "name": "stderr",
     "output_type": "stream",
     "text": [
      "\n",
      "loss: tensor([-30.3277], device='cuda:0', grad_fn=<AddBackward0>):  98%|█████████▊| 294/300 [02:22<00:02,  2.13it/s]\u001b[A\n",
      "loss: tensor([-30.3277], device='cuda:0', grad_fn=<AddBackward0>):  98%|█████████▊| 295/300 [02:22<00:02,  2.13it/s]\u001b[A"
     ]
    },
    {
     "name": "stdout",
     "output_type": "stream",
     "text": [
      "image updated at \"./210215-053340-And_blood-black_nothingness_began_to_spin_a_system_of_cells_interlinked.png\"\n"
     ]
    },
    {
     "name": "stderr",
     "output_type": "stream",
     "text": [
      "\n",
      "loss: tensor([-30.4460], device='cuda:0', grad_fn=<AddBackward0>):  98%|█████████▊| 295/300 [02:23<00:02,  2.13it/s]\u001b[A\n",
      "loss: tensor([-30.4460], device='cuda:0', grad_fn=<AddBackward0>):  99%|█████████▊| 296/300 [02:23<00:01,  2.00it/s]\u001b[A"
     ]
    },
    {
     "name": "stdout",
     "output_type": "stream",
     "text": [
      "image updated at \"./210215-053340-And_blood-black_nothingness_began_to_spin_a_system_of_cells_interlinked.png\"\n"
     ]
    },
    {
     "name": "stderr",
     "output_type": "stream",
     "text": [
      "\n",
      "loss: tensor([-30.1713], device='cuda:0', grad_fn=<AddBackward0>):  99%|█████████▊| 296/300 [02:23<00:01,  2.00it/s]\u001b[A\n",
      "loss: tensor([-30.1713], device='cuda:0', grad_fn=<AddBackward0>):  99%|█████████▉| 297/300 [02:23<00:01,  2.03it/s]\u001b[A"
     ]
    },
    {
     "name": "stdout",
     "output_type": "stream",
     "text": [
      "image updated at \"./210215-053340-And_blood-black_nothingness_began_to_spin_a_system_of_cells_interlinked.png\"\n"
     ]
    },
    {
     "name": "stderr",
     "output_type": "stream",
     "text": [
      "\n",
      "loss: tensor([-30.3611], device='cuda:0', grad_fn=<AddBackward0>):  99%|█████████▉| 297/300 [02:24<00:01,  2.03it/s]\u001b[A\n",
      "loss: tensor([-30.3611], device='cuda:0', grad_fn=<AddBackward0>):  99%|█████████▉| 298/300 [02:24<00:00,  2.07it/s]\u001b[A"
     ]
    },
    {
     "name": "stdout",
     "output_type": "stream",
     "text": [
      "image updated at \"./210215-053340-And_blood-black_nothingness_began_to_spin_a_system_of_cells_interlinked.png\"\n"
     ]
    },
    {
     "name": "stderr",
     "output_type": "stream",
     "text": [
      "\n",
      "loss: tensor([-30.2370], device='cuda:0', grad_fn=<AddBackward0>):  99%|█████████▉| 298/300 [02:24<00:00,  2.07it/s]\u001b[A\n",
      "loss: tensor([-30.2370], device='cuda:0', grad_fn=<AddBackward0>): 100%|█████████▉| 299/300 [02:24<00:00,  2.10it/s]\u001b[A"
     ]
    },
    {
     "name": "stdout",
     "output_type": "stream",
     "text": [
      "image updated at \"./210215-053340-And_blood-black_nothingness_began_to_spin_a_system_of_cells_interlinked.png\"\n"
     ]
    },
    {
     "name": "stderr",
     "output_type": "stream",
     "text": [
      "\n",
      "loss: tensor([-30.2720], device='cuda:0', grad_fn=<AddBackward0>): 100%|█████████▉| 299/300 [02:25<00:00,  2.10it/s]\u001b[A\n",
      "loss: tensor([-30.2720], device='cuda:0', grad_fn=<AddBackward0>): 100%|██████████| 300/300 [02:25<00:00,  2.07it/s]\u001b[A\n",
      "epochs:  25%|██▌       | 1/4 [02:25<07:15, 145.28s/it]\n",
      "iteration:   0%|          | 0/300 [00:00<?, ?it/s]\u001b[A"
     ]
    },
    {
     "name": "stdout",
     "output_type": "stream",
     "text": [
      "image updated at \"./210215-053340-And_blood-black_nothingness_began_to_spin_a_system_of_cells_interlinked.png\"\n"
     ]
    },
    {
     "name": "stderr",
     "output_type": "stream",
     "text": [
      "\n",
      "loss: tensor([-24.0802], device='cuda:0', grad_fn=<AddBackward0>):   0%|          | 0/300 [00:00<?, ?it/s]\u001b[A\n",
      "loss: tensor([-24.0802], device='cuda:0', grad_fn=<AddBackward0>):   0%|          | 1/300 [00:00<02:22,  2.09it/s]\u001b[A"
     ]
    },
    {
     "name": "stdout",
     "output_type": "stream",
     "text": [
      "image updated at \"./210215-053606-A_system_of_cells_interlinked_within_cells_interlinked_within_cells_interlinked_within_one_stem.png\"\n"
     ]
    },
    {
     "name": "stderr",
     "output_type": "stream",
     "text": [
      "\n",
      "loss: tensor([-24.1900], device='cuda:0', grad_fn=<AddBackward0>):   0%|          | 1/300 [00:00<02:22,  2.09it/s]\u001b[A\n",
      "loss: tensor([-24.1900], device='cuda:0', grad_fn=<AddBackward0>):   1%|          | 2/300 [00:00<02:20,  2.11it/s]\u001b[A"
     ]
    },
    {
     "name": "stdout",
     "output_type": "stream",
     "text": [
      "image updated at \"./210215-053606-A_system_of_cells_interlinked_within_cells_interlinked_within_cells_interlinked_within_one_stem.png\"\n"
     ]
    },
    {
     "name": "stderr",
     "output_type": "stream",
     "text": [
      "\n",
      "loss: tensor([-24.3705], device='cuda:0', grad_fn=<AddBackward0>):   1%|          | 2/300 [00:01<02:20,  2.11it/s]\u001b[A\n",
      "loss: tensor([-24.3705], device='cuda:0', grad_fn=<AddBackward0>):   1%|          | 3/300 [00:01<02:20,  2.12it/s]\u001b[A"
     ]
    },
    {
     "name": "stdout",
     "output_type": "stream",
     "text": [
      "image updated at \"./210215-053606-A_system_of_cells_interlinked_within_cells_interlinked_within_cells_interlinked_within_one_stem.png\"\n"
     ]
    },
    {
     "name": "stderr",
     "output_type": "stream",
     "text": [
      "\n",
      "loss: tensor([-24.6739], device='cuda:0', grad_fn=<AddBackward0>):   1%|          | 3/300 [00:01<02:20,  2.12it/s]\u001b[A\n",
      "loss: tensor([-24.6739], device='cuda:0', grad_fn=<AddBackward0>):   1%|▏         | 4/300 [00:01<02:18,  2.13it/s]\u001b[A"
     ]
    },
    {
     "name": "stdout",
     "output_type": "stream",
     "text": [
      "image updated at \"./210215-053606-A_system_of_cells_interlinked_within_cells_interlinked_within_cells_interlinked_within_one_stem.png\"\n"
     ]
    },
    {
     "name": "stderr",
     "output_type": "stream",
     "text": [
      "\n",
      "loss: tensor([-24.6293], device='cuda:0', grad_fn=<AddBackward0>):   1%|▏         | 4/300 [00:02<02:18,  2.13it/s]\u001b[A\n",
      "loss: tensor([-24.6293], device='cuda:0', grad_fn=<AddBackward0>):   2%|▏         | 5/300 [00:02<02:18,  2.13it/s]\u001b[A"
     ]
    },
    {
     "name": "stdout",
     "output_type": "stream",
     "text": [
      "image updated at \"./210215-053606-A_system_of_cells_interlinked_within_cells_interlinked_within_cells_interlinked_within_one_stem.png\"\n"
     ]
    },
    {
     "name": "stderr",
     "output_type": "stream",
     "text": [
      "\n",
      "loss: tensor([-24.5985], device='cuda:0', grad_fn=<AddBackward0>):   2%|▏         | 5/300 [00:02<02:18,  2.13it/s]\u001b[A\n",
      "loss: tensor([-24.5985], device='cuda:0', grad_fn=<AddBackward0>):   2%|▏         | 6/300 [00:02<02:16,  2.15it/s]\u001b[A"
     ]
    },
    {
     "name": "stdout",
     "output_type": "stream",
     "text": [
      "image updated at \"./210215-053606-A_system_of_cells_interlinked_within_cells_interlinked_within_cells_interlinked_within_one_stem.png\"\n"
     ]
    },
    {
     "name": "stderr",
     "output_type": "stream",
     "text": [
      "\n",
      "loss: tensor([-24.7123], device='cuda:0', grad_fn=<AddBackward0>):   2%|▏         | 6/300 [00:03<02:16,  2.15it/s]\u001b[A\n",
      "loss: tensor([-24.7123], device='cuda:0', grad_fn=<AddBackward0>):   2%|▏         | 7/300 [00:03<02:17,  2.13it/s]\u001b[A"
     ]
    },
    {
     "name": "stdout",
     "output_type": "stream",
     "text": [
      "image updated at \"./210215-053606-A_system_of_cells_interlinked_within_cells_interlinked_within_cells_interlinked_within_one_stem.png\"\n"
     ]
    },
    {
     "name": "stderr",
     "output_type": "stream",
     "text": [
      "\n",
      "loss: tensor([-24.6026], device='cuda:0', grad_fn=<AddBackward0>):   2%|▏         | 7/300 [00:03<02:17,  2.13it/s]\u001b[A\n",
      "loss: tensor([-24.6026], device='cuda:0', grad_fn=<AddBackward0>):   3%|▎         | 8/300 [00:03<02:17,  2.12it/s]\u001b[A"
     ]
    },
    {
     "name": "stdout",
     "output_type": "stream",
     "text": [
      "image updated at \"./210215-053606-A_system_of_cells_interlinked_within_cells_interlinked_within_cells_interlinked_within_one_stem.png\"\n"
     ]
    },
    {
     "name": "stderr",
     "output_type": "stream",
     "text": [
      "\n",
      "loss: tensor([-24.5910], device='cuda:0', grad_fn=<AddBackward0>):   3%|▎         | 8/300 [00:04<02:17,  2.12it/s]\u001b[A\n",
      "loss: tensor([-24.5910], device='cuda:0', grad_fn=<AddBackward0>):   3%|▎         | 9/300 [00:04<02:17,  2.11it/s]\u001b[A"
     ]
    },
    {
     "name": "stdout",
     "output_type": "stream",
     "text": [
      "image updated at \"./210215-053606-A_system_of_cells_interlinked_within_cells_interlinked_within_cells_interlinked_within_one_stem.png\"\n"
     ]
    },
    {
     "name": "stderr",
     "output_type": "stream",
     "text": [
      "\n",
      "loss: tensor([-24.7457], device='cuda:0', grad_fn=<AddBackward0>):   3%|▎         | 9/300 [00:04<02:17,  2.11it/s]\u001b[A\n",
      "loss: tensor([-24.7457], device='cuda:0', grad_fn=<AddBackward0>):   3%|▎         | 10/300 [00:04<02:17,  2.10it/s]\u001b[A"
     ]
    },
    {
     "name": "stdout",
     "output_type": "stream",
     "text": [
      "image updated at \"./210215-053606-A_system_of_cells_interlinked_within_cells_interlinked_within_cells_interlinked_within_one_stem.png\"\n"
     ]
    },
    {
     "name": "stderr",
     "output_type": "stream",
     "text": [
      "\n",
      "loss: tensor([-24.9848], device='cuda:0', grad_fn=<AddBackward0>):   3%|▎         | 10/300 [00:05<02:17,  2.10it/s]\u001b[A\n",
      "loss: tensor([-24.9848], device='cuda:0', grad_fn=<AddBackward0>):   4%|▎         | 11/300 [00:05<02:17,  2.10it/s]\u001b[A"
     ]
    },
    {
     "name": "stdout",
     "output_type": "stream",
     "text": [
      "image updated at \"./210215-053606-A_system_of_cells_interlinked_within_cells_interlinked_within_cells_interlinked_within_one_stem.png\"\n"
     ]
    },
    {
     "name": "stderr",
     "output_type": "stream",
     "text": [
      "\n",
      "loss: tensor([-25.4463], device='cuda:0', grad_fn=<AddBackward0>):   4%|▎         | 11/300 [00:05<02:17,  2.10it/s]\u001b[A\n",
      "loss: tensor([-25.4463], device='cuda:0', grad_fn=<AddBackward0>):   4%|▍         | 12/300 [00:05<02:17,  2.10it/s]\u001b[A"
     ]
    },
    {
     "name": "stdout",
     "output_type": "stream",
     "text": [
      "image updated at \"./210215-053606-A_system_of_cells_interlinked_within_cells_interlinked_within_cells_interlinked_within_one_stem.png\"\n"
     ]
    },
    {
     "name": "stderr",
     "output_type": "stream",
     "text": [
      "\n",
      "loss: tensor([-25.3095], device='cuda:0', grad_fn=<AddBackward0>):   4%|▍         | 12/300 [00:06<02:17,  2.10it/s]\u001b[A\n",
      "loss: tensor([-25.3095], device='cuda:0', grad_fn=<AddBackward0>):   4%|▍         | 13/300 [00:06<02:16,  2.10it/s]\u001b[A"
     ]
    },
    {
     "name": "stdout",
     "output_type": "stream",
     "text": [
      "image updated at \"./210215-053606-A_system_of_cells_interlinked_within_cells_interlinked_within_cells_interlinked_within_one_stem.png\"\n"
     ]
    },
    {
     "name": "stderr",
     "output_type": "stream",
     "text": [
      "\n",
      "loss: tensor([-25.1777], device='cuda:0', grad_fn=<AddBackward0>):   4%|▍         | 13/300 [00:06<02:16,  2.10it/s]\u001b[A\n",
      "loss: tensor([-25.1777], device='cuda:0', grad_fn=<AddBackward0>):   5%|▍         | 14/300 [00:06<02:17,  2.09it/s]\u001b[A"
     ]
    },
    {
     "name": "stdout",
     "output_type": "stream",
     "text": [
      "image updated at \"./210215-053606-A_system_of_cells_interlinked_within_cells_interlinked_within_cells_interlinked_within_one_stem.png\"\n"
     ]
    },
    {
     "name": "stderr",
     "output_type": "stream",
     "text": [
      "\n",
      "loss: tensor([-25.1732], device='cuda:0', grad_fn=<AddBackward0>):   5%|▍         | 14/300 [00:07<02:17,  2.09it/s]\u001b[A\n",
      "loss: tensor([-25.1732], device='cuda:0', grad_fn=<AddBackward0>):   5%|▌         | 15/300 [00:07<02:18,  2.06it/s]\u001b[A"
     ]
    },
    {
     "name": "stdout",
     "output_type": "stream",
     "text": [
      "image updated at \"./210215-053606-A_system_of_cells_interlinked_within_cells_interlinked_within_cells_interlinked_within_one_stem.png\"\n"
     ]
    },
    {
     "name": "stderr",
     "output_type": "stream",
     "text": [
      "\n",
      "loss: tensor([-25.4008], device='cuda:0', grad_fn=<AddBackward0>):   5%|▌         | 15/300 [00:07<02:18,  2.06it/s]\u001b[A\n",
      "loss: tensor([-25.4008], device='cuda:0', grad_fn=<AddBackward0>):   5%|▌         | 16/300 [00:07<02:18,  2.06it/s]\u001b[A"
     ]
    },
    {
     "name": "stdout",
     "output_type": "stream",
     "text": [
      "image updated at \"./210215-053606-A_system_of_cells_interlinked_within_cells_interlinked_within_cells_interlinked_within_one_stem.png\"\n"
     ]
    },
    {
     "name": "stderr",
     "output_type": "stream",
     "text": [
      "\n",
      "loss: tensor([-25.4698], device='cuda:0', grad_fn=<AddBackward0>):   5%|▌         | 16/300 [00:08<02:18,  2.06it/s]\u001b[A\n",
      "loss: tensor([-25.4698], device='cuda:0', grad_fn=<AddBackward0>):   6%|▌         | 17/300 [00:08<02:17,  2.06it/s]\u001b[A"
     ]
    },
    {
     "name": "stdout",
     "output_type": "stream",
     "text": [
      "image updated at \"./210215-053606-A_system_of_cells_interlinked_within_cells_interlinked_within_cells_interlinked_within_one_stem.png\"\n"
     ]
    },
    {
     "name": "stderr",
     "output_type": "stream",
     "text": [
      "\n",
      "loss: tensor([-25.3387], device='cuda:0', grad_fn=<AddBackward0>):   6%|▌         | 17/300 [00:08<02:17,  2.06it/s]\u001b[A\n",
      "loss: tensor([-25.3387], device='cuda:0', grad_fn=<AddBackward0>):   6%|▌         | 18/300 [00:08<02:16,  2.06it/s]\u001b[A"
     ]
    },
    {
     "name": "stdout",
     "output_type": "stream",
     "text": [
      "image updated at \"./210215-053606-A_system_of_cells_interlinked_within_cells_interlinked_within_cells_interlinked_within_one_stem.png\"\n"
     ]
    },
    {
     "name": "stderr",
     "output_type": "stream",
     "text": [
      "\n",
      "loss: tensor([-25.3335], device='cuda:0', grad_fn=<AddBackward0>):   6%|▌         | 18/300 [00:09<02:16,  2.06it/s]\u001b[A\n",
      "loss: tensor([-25.3335], device='cuda:0', grad_fn=<AddBackward0>):   6%|▋         | 19/300 [00:09<02:16,  2.07it/s]\u001b[A"
     ]
    },
    {
     "name": "stdout",
     "output_type": "stream",
     "text": [
      "image updated at \"./210215-053606-A_system_of_cells_interlinked_within_cells_interlinked_within_cells_interlinked_within_one_stem.png\"\n"
     ]
    },
    {
     "name": "stderr",
     "output_type": "stream",
     "text": [
      "\n",
      "loss: tensor([-25.5194], device='cuda:0', grad_fn=<AddBackward0>):   6%|▋         | 19/300 [00:09<02:16,  2.07it/s]\u001b[A\n",
      "loss: tensor([-25.5194], device='cuda:0', grad_fn=<AddBackward0>):   7%|▋         | 20/300 [00:09<02:15,  2.06it/s]\u001b[A"
     ]
    },
    {
     "name": "stdout",
     "output_type": "stream",
     "text": [
      "image updated at \"./210215-053606-A_system_of_cells_interlinked_within_cells_interlinked_within_cells_interlinked_within_one_stem.png\"\n"
     ]
    },
    {
     "name": "stderr",
     "output_type": "stream",
     "text": [
      "\n",
      "loss: tensor([-25.5826], device='cuda:0', grad_fn=<AddBackward0>):   7%|▋         | 20/300 [00:10<02:15,  2.06it/s]\u001b[A\n",
      "loss: tensor([-25.5826], device='cuda:0', grad_fn=<AddBackward0>):   7%|▋         | 21/300 [00:10<02:16,  2.05it/s]\u001b[A"
     ]
    },
    {
     "name": "stdout",
     "output_type": "stream",
     "text": [
      "image updated at \"./210215-053606-A_system_of_cells_interlinked_within_cells_interlinked_within_cells_interlinked_within_one_stem.png\"\n"
     ]
    },
    {
     "name": "stderr",
     "output_type": "stream",
     "text": [
      "\n",
      "loss: tensor([-25.6650], device='cuda:0', grad_fn=<AddBackward0>):   7%|▋         | 21/300 [00:10<02:16,  2.05it/s]\u001b[A\n",
      "loss: tensor([-25.6650], device='cuda:0', grad_fn=<AddBackward0>):   7%|▋         | 22/300 [00:10<02:15,  2.05it/s]\u001b[A"
     ]
    },
    {
     "name": "stdout",
     "output_type": "stream",
     "text": [
      "image updated at \"./210215-053606-A_system_of_cells_interlinked_within_cells_interlinked_within_cells_interlinked_within_one_stem.png\"\n"
     ]
    },
    {
     "name": "stderr",
     "output_type": "stream",
     "text": [
      "\n",
      "loss: tensor([-25.7237], device='cuda:0', grad_fn=<AddBackward0>):   7%|▋         | 22/300 [00:11<02:15,  2.05it/s]\u001b[A\n",
      "loss: tensor([-25.7237], device='cuda:0', grad_fn=<AddBackward0>):   8%|▊         | 23/300 [00:11<02:14,  2.05it/s]\u001b[A"
     ]
    },
    {
     "name": "stdout",
     "output_type": "stream",
     "text": [
      "image updated at \"./210215-053606-A_system_of_cells_interlinked_within_cells_interlinked_within_cells_interlinked_within_one_stem.png\"\n"
     ]
    },
    {
     "name": "stderr",
     "output_type": "stream",
     "text": [
      "\n",
      "loss: tensor([-25.7841], device='cuda:0', grad_fn=<AddBackward0>):   8%|▊         | 23/300 [00:11<02:14,  2.05it/s]\u001b[A\n",
      "loss: tensor([-25.7841], device='cuda:0', grad_fn=<AddBackward0>):   8%|▊         | 24/300 [00:11<02:14,  2.05it/s]\u001b[A"
     ]
    },
    {
     "name": "stdout",
     "output_type": "stream",
     "text": [
      "image updated at \"./210215-053606-A_system_of_cells_interlinked_within_cells_interlinked_within_cells_interlinked_within_one_stem.png\"\n"
     ]
    },
    {
     "name": "stderr",
     "output_type": "stream",
     "text": [
      "\n",
      "loss: tensor([-25.9852], device='cuda:0', grad_fn=<AddBackward0>):   8%|▊         | 24/300 [00:12<02:14,  2.05it/s]\u001b[A\n",
      "loss: tensor([-25.9852], device='cuda:0', grad_fn=<AddBackward0>):   8%|▊         | 25/300 [00:12<02:15,  2.03it/s]\u001b[A"
     ]
    },
    {
     "name": "stdout",
     "output_type": "stream",
     "text": [
      "image updated at \"./210215-053606-A_system_of_cells_interlinked_within_cells_interlinked_within_cells_interlinked_within_one_stem.png\"\n"
     ]
    },
    {
     "name": "stderr",
     "output_type": "stream",
     "text": [
      "\n",
      "loss: tensor([-25.9075], device='cuda:0', grad_fn=<AddBackward0>):   8%|▊         | 25/300 [00:12<02:15,  2.03it/s]\u001b[A\n",
      "loss: tensor([-25.9075], device='cuda:0', grad_fn=<AddBackward0>):   9%|▊         | 26/300 [00:12<02:14,  2.04it/s]\u001b[A"
     ]
    },
    {
     "name": "stdout",
     "output_type": "stream",
     "text": [
      "image updated at \"./210215-053606-A_system_of_cells_interlinked_within_cells_interlinked_within_cells_interlinked_within_one_stem.png\"\n"
     ]
    },
    {
     "name": "stderr",
     "output_type": "stream",
     "text": [
      "\n",
      "loss: tensor([-25.8644], device='cuda:0', grad_fn=<AddBackward0>):   9%|▊         | 26/300 [00:13<02:14,  2.04it/s]\u001b[A\n",
      "loss: tensor([-25.8644], device='cuda:0', grad_fn=<AddBackward0>):   9%|▉         | 27/300 [00:13<02:14,  2.03it/s]\u001b[A"
     ]
    },
    {
     "name": "stdout",
     "output_type": "stream",
     "text": [
      "image updated at \"./210215-053606-A_system_of_cells_interlinked_within_cells_interlinked_within_cells_interlinked_within_one_stem.png\"\n"
     ]
    },
    {
     "name": "stderr",
     "output_type": "stream",
     "text": [
      "\n",
      "loss: tensor([-25.8416], device='cuda:0', grad_fn=<AddBackward0>):   9%|▉         | 27/300 [00:13<02:14,  2.03it/s]\u001b[A\n",
      "loss: tensor([-25.8416], device='cuda:0', grad_fn=<AddBackward0>):   9%|▉         | 28/300 [00:13<02:15,  2.01it/s]\u001b[A"
     ]
    },
    {
     "name": "stdout",
     "output_type": "stream",
     "text": [
      "image updated at \"./210215-053606-A_system_of_cells_interlinked_within_cells_interlinked_within_cells_interlinked_within_one_stem.png\"\n"
     ]
    },
    {
     "name": "stderr",
     "output_type": "stream",
     "text": [
      "\n",
      "loss: tensor([-25.8596], device='cuda:0', grad_fn=<AddBackward0>):   9%|▉         | 28/300 [00:14<02:15,  2.01it/s]\u001b[A\n",
      "loss: tensor([-25.8596], device='cuda:0', grad_fn=<AddBackward0>):  10%|▉         | 29/300 [00:14<02:35,  1.75it/s]\u001b[A"
     ]
    },
    {
     "name": "stdout",
     "output_type": "stream",
     "text": [
      "image updated at \"./210215-053606-A_system_of_cells_interlinked_within_cells_interlinked_within_cells_interlinked_within_one_stem.png\"\n"
     ]
    },
    {
     "name": "stderr",
     "output_type": "stream",
     "text": [
      "\n",
      "loss: tensor([-26.0410], device='cuda:0', grad_fn=<AddBackward0>):  10%|▉         | 29/300 [00:15<02:35,  1.75it/s]\u001b[A\n",
      "loss: tensor([-26.0410], device='cuda:0', grad_fn=<AddBackward0>):  10%|█         | 30/300 [00:15<02:49,  1.59it/s]\u001b[A"
     ]
    },
    {
     "name": "stdout",
     "output_type": "stream",
     "text": [
      "image updated at \"./210215-053606-A_system_of_cells_interlinked_within_cells_interlinked_within_cells_interlinked_within_one_stem.png\"\n"
     ]
    },
    {
     "name": "stderr",
     "output_type": "stream",
     "text": [
      "\n",
      "loss: tensor([-26.0739], device='cuda:0', grad_fn=<AddBackward0>):  10%|█         | 30/300 [00:15<02:49,  1.59it/s]\u001b[A\n",
      "loss: tensor([-26.0739], device='cuda:0', grad_fn=<AddBackward0>):  10%|█         | 31/300 [00:15<02:58,  1.51it/s]\u001b[A"
     ]
    },
    {
     "name": "stdout",
     "output_type": "stream",
     "text": [
      "image updated at \"./210215-053606-A_system_of_cells_interlinked_within_cells_interlinked_within_cells_interlinked_within_one_stem.png\"\n"
     ]
    },
    {
     "name": "stderr",
     "output_type": "stream",
     "text": [
      "\n",
      "loss: tensor([-26.2611], device='cuda:0', grad_fn=<AddBackward0>):  10%|█         | 31/300 [00:16<02:58,  1.51it/s]\u001b[A\n",
      "loss: tensor([-26.2611], device='cuda:0', grad_fn=<AddBackward0>):  11%|█         | 32/300 [00:16<03:02,  1.47it/s]\u001b[A"
     ]
    },
    {
     "name": "stdout",
     "output_type": "stream",
     "text": [
      "image updated at \"./210215-053606-A_system_of_cells_interlinked_within_cells_interlinked_within_cells_interlinked_within_one_stem.png\"\n"
     ]
    },
    {
     "name": "stderr",
     "output_type": "stream",
     "text": [
      "\n",
      "loss: tensor([-26.1538], device='cuda:0', grad_fn=<AddBackward0>):  11%|█         | 32/300 [00:16<03:02,  1.47it/s]\u001b[A\n",
      "loss: tensor([-26.1538], device='cuda:0', grad_fn=<AddBackward0>):  11%|█         | 33/300 [00:17<02:48,  1.59it/s]\u001b[A"
     ]
    },
    {
     "name": "stdout",
     "output_type": "stream",
     "text": [
      "image updated at \"./210215-053606-A_system_of_cells_interlinked_within_cells_interlinked_within_cells_interlinked_within_one_stem.png\"\n"
     ]
    },
    {
     "name": "stderr",
     "output_type": "stream",
     "text": [
      "\n",
      "loss: tensor([-26.3874], device='cuda:0', grad_fn=<AddBackward0>):  11%|█         | 33/300 [00:17<02:48,  1.59it/s]\u001b[A\n",
      "loss: tensor([-26.3874], device='cuda:0', grad_fn=<AddBackward0>):  11%|█▏        | 34/300 [00:17<02:36,  1.70it/s]\u001b[A"
     ]
    },
    {
     "name": "stdout",
     "output_type": "stream",
     "text": [
      "image updated at \"./210215-053606-A_system_of_cells_interlinked_within_cells_interlinked_within_cells_interlinked_within_one_stem.png\"\n"
     ]
    },
    {
     "name": "stderr",
     "output_type": "stream",
     "text": [
      "\n",
      "loss: tensor([-26.3581], device='cuda:0', grad_fn=<AddBackward0>):  11%|█▏        | 34/300 [00:18<02:36,  1.70it/s]\u001b[A\n",
      "loss: tensor([-26.3581], device='cuda:0', grad_fn=<AddBackward0>):  12%|█▏        | 35/300 [00:18<02:32,  1.74it/s]\u001b[A"
     ]
    },
    {
     "name": "stdout",
     "output_type": "stream",
     "text": [
      "image updated at \"./210215-053606-A_system_of_cells_interlinked_within_cells_interlinked_within_cells_interlinked_within_one_stem.png\"\n"
     ]
    },
    {
     "name": "stderr",
     "output_type": "stream",
     "text": [
      "\n",
      "loss: tensor([-26.4283], device='cuda:0', grad_fn=<AddBackward0>):  12%|█▏        | 35/300 [00:18<02:32,  1.74it/s]\u001b[A\n",
      "loss: tensor([-26.4283], device='cuda:0', grad_fn=<AddBackward0>):  12%|█▏        | 36/300 [00:18<02:25,  1.81it/s]\u001b[A"
     ]
    },
    {
     "name": "stdout",
     "output_type": "stream",
     "text": [
      "image updated at \"./210215-053606-A_system_of_cells_interlinked_within_cells_interlinked_within_cells_interlinked_within_one_stem.png\"\n"
     ]
    },
    {
     "name": "stderr",
     "output_type": "stream",
     "text": [
      "\n",
      "loss: tensor([-26.4457], device='cuda:0', grad_fn=<AddBackward0>):  12%|█▏        | 36/300 [00:19<02:25,  1.81it/s]\u001b[A\n",
      "loss: tensor([-26.4457], device='cuda:0', grad_fn=<AddBackward0>):  12%|█▏        | 37/300 [00:19<02:21,  1.86it/s]\u001b[A"
     ]
    },
    {
     "name": "stdout",
     "output_type": "stream",
     "text": [
      "image updated at \"./210215-053606-A_system_of_cells_interlinked_within_cells_interlinked_within_cells_interlinked_within_one_stem.png\"\n"
     ]
    },
    {
     "name": "stderr",
     "output_type": "stream",
     "text": [
      "\n",
      "loss: tensor([-26.6744], device='cuda:0', grad_fn=<AddBackward0>):  12%|█▏        | 37/300 [00:19<02:21,  1.86it/s]\u001b[A\n",
      "loss: tensor([-26.6744], device='cuda:0', grad_fn=<AddBackward0>):  13%|█▎        | 38/300 [00:19<02:17,  1.91it/s]\u001b[A"
     ]
    },
    {
     "name": "stdout",
     "output_type": "stream",
     "text": [
      "image updated at \"./210215-053606-A_system_of_cells_interlinked_within_cells_interlinked_within_cells_interlinked_within_one_stem.png\"\n"
     ]
    },
    {
     "name": "stderr",
     "output_type": "stream",
     "text": [
      "\n",
      "loss: tensor([-26.5095], device='cuda:0', grad_fn=<AddBackward0>):  13%|█▎        | 38/300 [00:20<02:17,  1.91it/s]\u001b[A\n",
      "loss: tensor([-26.5095], device='cuda:0', grad_fn=<AddBackward0>):  13%|█▎        | 39/300 [00:20<02:14,  1.94it/s]\u001b[A"
     ]
    },
    {
     "name": "stdout",
     "output_type": "stream",
     "text": [
      "image updated at \"./210215-053606-A_system_of_cells_interlinked_within_cells_interlinked_within_cells_interlinked_within_one_stem.png\"\n"
     ]
    },
    {
     "name": "stderr",
     "output_type": "stream",
     "text": [
      "\n",
      "loss: tensor([-26.5821], device='cuda:0', grad_fn=<AddBackward0>):  13%|█▎        | 39/300 [00:20<02:14,  1.94it/s]\u001b[A\n",
      "loss: tensor([-26.5821], device='cuda:0', grad_fn=<AddBackward0>):  13%|█▎        | 40/300 [00:20<02:13,  1.95it/s]\u001b[A"
     ]
    },
    {
     "name": "stdout",
     "output_type": "stream",
     "text": [
      "image updated at \"./210215-053606-A_system_of_cells_interlinked_within_cells_interlinked_within_cells_interlinked_within_one_stem.png\"\n"
     ]
    },
    {
     "name": "stderr",
     "output_type": "stream",
     "text": [
      "\n",
      "loss: tensor([-26.7228], device='cuda:0', grad_fn=<AddBackward0>):  13%|█▎        | 40/300 [00:21<02:13,  1.95it/s]\u001b[A\n",
      "loss: tensor([-26.7228], device='cuda:0', grad_fn=<AddBackward0>):  14%|█▎        | 41/300 [00:21<02:11,  1.97it/s]\u001b[A"
     ]
    },
    {
     "name": "stdout",
     "output_type": "stream",
     "text": [
      "image updated at \"./210215-053606-A_system_of_cells_interlinked_within_cells_interlinked_within_cells_interlinked_within_one_stem.png\"\n"
     ]
    },
    {
     "name": "stderr",
     "output_type": "stream",
     "text": [
      "\n",
      "loss: tensor([-26.7133], device='cuda:0', grad_fn=<AddBackward0>):  14%|█▎        | 41/300 [00:21<02:11,  1.97it/s]\u001b[A\n",
      "loss: tensor([-26.7133], device='cuda:0', grad_fn=<AddBackward0>):  14%|█▍        | 42/300 [00:21<02:10,  1.98it/s]\u001b[A"
     ]
    },
    {
     "name": "stdout",
     "output_type": "stream",
     "text": [
      "image updated at \"./210215-053606-A_system_of_cells_interlinked_within_cells_interlinked_within_cells_interlinked_within_one_stem.png\"\n"
     ]
    },
    {
     "name": "stderr",
     "output_type": "stream",
     "text": [
      "\n",
      "loss: tensor([-26.7590], device='cuda:0', grad_fn=<AddBackward0>):  14%|█▍        | 42/300 [00:22<02:10,  1.98it/s]\u001b[A\n",
      "loss: tensor([-26.7590], device='cuda:0', grad_fn=<AddBackward0>):  14%|█▍        | 43/300 [00:22<02:09,  1.98it/s]\u001b[A"
     ]
    },
    {
     "name": "stdout",
     "output_type": "stream",
     "text": [
      "image updated at \"./210215-053606-A_system_of_cells_interlinked_within_cells_interlinked_within_cells_interlinked_within_one_stem.png\"\n"
     ]
    },
    {
     "name": "stderr",
     "output_type": "stream",
     "text": [
      "\n",
      "loss: tensor([-26.6186], device='cuda:0', grad_fn=<AddBackward0>):  14%|█▍        | 43/300 [00:22<02:09,  1.98it/s]\u001b[A\n",
      "loss: tensor([-26.6186], device='cuda:0', grad_fn=<AddBackward0>):  15%|█▍        | 44/300 [00:22<02:08,  1.99it/s]\u001b[A"
     ]
    },
    {
     "name": "stdout",
     "output_type": "stream",
     "text": [
      "image updated at \"./210215-053606-A_system_of_cells_interlinked_within_cells_interlinked_within_cells_interlinked_within_one_stem.png\"\n"
     ]
    },
    {
     "name": "stderr",
     "output_type": "stream",
     "text": [
      "\n",
      "loss: tensor([-26.7636], device='cuda:0', grad_fn=<AddBackward0>):  15%|█▍        | 44/300 [00:23<02:08,  1.99it/s]\u001b[A\n",
      "loss: tensor([-26.7636], device='cuda:0', grad_fn=<AddBackward0>):  15%|█▌        | 45/300 [00:23<02:09,  1.97it/s]\u001b[A"
     ]
    },
    {
     "name": "stdout",
     "output_type": "stream",
     "text": [
      "image updated at \"./210215-053606-A_system_of_cells_interlinked_within_cells_interlinked_within_cells_interlinked_within_one_stem.png\"\n"
     ]
    },
    {
     "name": "stderr",
     "output_type": "stream",
     "text": [
      "\n",
      "loss: tensor([-26.4980], device='cuda:0', grad_fn=<AddBackward0>):  15%|█▌        | 45/300 [00:23<02:09,  1.97it/s]\u001b[A\n",
      "loss: tensor([-26.4980], device='cuda:0', grad_fn=<AddBackward0>):  15%|█▌        | 46/300 [00:23<02:09,  1.97it/s]\u001b[A"
     ]
    },
    {
     "name": "stdout",
     "output_type": "stream",
     "text": [
      "image updated at \"./210215-053606-A_system_of_cells_interlinked_within_cells_interlinked_within_cells_interlinked_within_one_stem.png\"\n"
     ]
    },
    {
     "name": "stderr",
     "output_type": "stream",
     "text": [
      "\n",
      "loss: tensor([-26.7633], device='cuda:0', grad_fn=<AddBackward0>):  15%|█▌        | 46/300 [00:24<02:09,  1.97it/s]\u001b[A\n",
      "loss: tensor([-26.7633], device='cuda:0', grad_fn=<AddBackward0>):  16%|█▌        | 47/300 [00:24<02:09,  1.96it/s]\u001b[A"
     ]
    },
    {
     "name": "stdout",
     "output_type": "stream",
     "text": [
      "image updated at \"./210215-053606-A_system_of_cells_interlinked_within_cells_interlinked_within_cells_interlinked_within_one_stem.png\"\n"
     ]
    },
    {
     "name": "stderr",
     "output_type": "stream",
     "text": [
      "\n",
      "loss: tensor([-26.8076], device='cuda:0', grad_fn=<AddBackward0>):  16%|█▌        | 47/300 [00:24<02:09,  1.96it/s]\u001b[A\n",
      "loss: tensor([-26.8076], device='cuda:0', grad_fn=<AddBackward0>):  16%|█▌        | 48/300 [00:24<02:09,  1.95it/s]\u001b[A"
     ]
    },
    {
     "name": "stdout",
     "output_type": "stream",
     "text": [
      "image updated at \"./210215-053606-A_system_of_cells_interlinked_within_cells_interlinked_within_cells_interlinked_within_one_stem.png\"\n"
     ]
    },
    {
     "name": "stderr",
     "output_type": "stream",
     "text": [
      "\n",
      "loss: tensor([-26.7609], device='cuda:0', grad_fn=<AddBackward0>):  16%|█▌        | 48/300 [00:25<02:09,  1.95it/s]\u001b[A\n",
      "loss: tensor([-26.7609], device='cuda:0', grad_fn=<AddBackward0>):  16%|█▋        | 49/300 [00:25<02:08,  1.95it/s]\u001b[A"
     ]
    },
    {
     "name": "stdout",
     "output_type": "stream",
     "text": [
      "image updated at \"./210215-053606-A_system_of_cells_interlinked_within_cells_interlinked_within_cells_interlinked_within_one_stem.png\"\n"
     ]
    },
    {
     "name": "stderr",
     "output_type": "stream",
     "text": [
      "\n",
      "loss: tensor([-26.6789], device='cuda:0', grad_fn=<AddBackward0>):  16%|█▋        | 49/300 [00:25<02:08,  1.95it/s]\u001b[A\n",
      "loss: tensor([-26.6789], device='cuda:0', grad_fn=<AddBackward0>):  17%|█▋        | 50/300 [00:25<02:07,  1.96it/s]\u001b[A"
     ]
    },
    {
     "name": "stdout",
     "output_type": "stream",
     "text": [
      "image updated at \"./210215-053606-A_system_of_cells_interlinked_within_cells_interlinked_within_cells_interlinked_within_one_stem.png\"\n"
     ]
    },
    {
     "name": "stderr",
     "output_type": "stream",
     "text": [
      "\n",
      "loss: tensor([-26.7033], device='cuda:0', grad_fn=<AddBackward0>):  17%|█▋        | 50/300 [00:26<02:07,  1.96it/s]\u001b[A\n",
      "loss: tensor([-26.7033], device='cuda:0', grad_fn=<AddBackward0>):  17%|█▋        | 51/300 [00:26<02:06,  1.96it/s]\u001b[A"
     ]
    },
    {
     "name": "stdout",
     "output_type": "stream",
     "text": [
      "image updated at \"./210215-053606-A_system_of_cells_interlinked_within_cells_interlinked_within_cells_interlinked_within_one_stem.png\"\n"
     ]
    },
    {
     "name": "stderr",
     "output_type": "stream",
     "text": [
      "\n",
      "loss: tensor([-26.7971], device='cuda:0', grad_fn=<AddBackward0>):  17%|█▋        | 51/300 [00:26<02:06,  1.96it/s]\u001b[A\n",
      "loss: tensor([-26.7971], device='cuda:0', grad_fn=<AddBackward0>):  17%|█▋        | 52/300 [00:26<02:05,  1.98it/s]\u001b[A"
     ]
    },
    {
     "name": "stdout",
     "output_type": "stream",
     "text": [
      "image updated at \"./210215-053606-A_system_of_cells_interlinked_within_cells_interlinked_within_cells_interlinked_within_one_stem.png\"\n"
     ]
    },
    {
     "name": "stderr",
     "output_type": "stream",
     "text": [
      "\n",
      "loss: tensor([-26.9225], device='cuda:0', grad_fn=<AddBackward0>):  17%|█▋        | 52/300 [00:27<02:05,  1.98it/s]\u001b[A\n",
      "loss: tensor([-26.9225], device='cuda:0', grad_fn=<AddBackward0>):  18%|█▊        | 53/300 [00:27<02:05,  1.96it/s]\u001b[A"
     ]
    },
    {
     "name": "stdout",
     "output_type": "stream",
     "text": [
      "image updated at \"./210215-053606-A_system_of_cells_interlinked_within_cells_interlinked_within_cells_interlinked_within_one_stem.png\"\n"
     ]
    },
    {
     "name": "stderr",
     "output_type": "stream",
     "text": [
      "\n",
      "loss: tensor([-26.8432], device='cuda:0', grad_fn=<AddBackward0>):  18%|█▊        | 53/300 [00:27<02:05,  1.96it/s]\u001b[A\n",
      "loss: tensor([-26.8432], device='cuda:0', grad_fn=<AddBackward0>):  18%|█▊        | 54/300 [00:27<02:09,  1.90it/s]\u001b[A"
     ]
    },
    {
     "name": "stdout",
     "output_type": "stream",
     "text": [
      "image updated at \"./210215-053606-A_system_of_cells_interlinked_within_cells_interlinked_within_cells_interlinked_within_one_stem.png\"\n"
     ]
    },
    {
     "name": "stderr",
     "output_type": "stream",
     "text": [
      "\n",
      "loss: tensor([-27.0644], device='cuda:0', grad_fn=<AddBackward0>):  18%|█▊        | 54/300 [00:28<02:09,  1.90it/s]\u001b[A\n",
      "loss: tensor([-27.0644], device='cuda:0', grad_fn=<AddBackward0>):  18%|█▊        | 55/300 [00:28<02:08,  1.91it/s]\u001b[A"
     ]
    },
    {
     "name": "stdout",
     "output_type": "stream",
     "text": [
      "image updated at \"./210215-053606-A_system_of_cells_interlinked_within_cells_interlinked_within_cells_interlinked_within_one_stem.png\"\n"
     ]
    },
    {
     "name": "stderr",
     "output_type": "stream",
     "text": [
      "\n",
      "loss: tensor([-27.1286], device='cuda:0', grad_fn=<AddBackward0>):  18%|█▊        | 55/300 [00:28<02:08,  1.91it/s]\u001b[A\n",
      "loss: tensor([-27.1286], device='cuda:0', grad_fn=<AddBackward0>):  19%|█▊        | 56/300 [00:28<02:05,  1.94it/s]\u001b[A"
     ]
    },
    {
     "name": "stdout",
     "output_type": "stream",
     "text": [
      "image updated at \"./210215-053606-A_system_of_cells_interlinked_within_cells_interlinked_within_cells_interlinked_within_one_stem.png\"\n"
     ]
    },
    {
     "name": "stderr",
     "output_type": "stream",
     "text": [
      "\n",
      "loss: tensor([-27.0541], device='cuda:0', grad_fn=<AddBackward0>):  19%|█▊        | 56/300 [00:29<02:05,  1.94it/s]\u001b[A\n",
      "loss: tensor([-27.0541], device='cuda:0', grad_fn=<AddBackward0>):  19%|█▉        | 57/300 [00:29<02:04,  1.95it/s]\u001b[A"
     ]
    },
    {
     "name": "stdout",
     "output_type": "stream",
     "text": [
      "image updated at \"./210215-053606-A_system_of_cells_interlinked_within_cells_interlinked_within_cells_interlinked_within_one_stem.png\"\n"
     ]
    },
    {
     "name": "stderr",
     "output_type": "stream",
     "text": [
      "\n",
      "loss: tensor([-27.2754], device='cuda:0', grad_fn=<AddBackward0>):  19%|█▉        | 57/300 [00:29<02:04,  1.95it/s]\u001b[A\n",
      "loss: tensor([-27.2754], device='cuda:0', grad_fn=<AddBackward0>):  19%|█▉        | 58/300 [00:29<02:04,  1.95it/s]\u001b[A"
     ]
    },
    {
     "name": "stdout",
     "output_type": "stream",
     "text": [
      "image updated at \"./210215-053606-A_system_of_cells_interlinked_within_cells_interlinked_within_cells_interlinked_within_one_stem.png\"\n"
     ]
    },
    {
     "name": "stderr",
     "output_type": "stream",
     "text": [
      "\n",
      "loss: tensor([-27.2158], device='cuda:0', grad_fn=<AddBackward0>):  19%|█▉        | 58/300 [00:30<02:04,  1.95it/s]\u001b[A\n",
      "loss: tensor([-27.2158], device='cuda:0', grad_fn=<AddBackward0>):  20%|█▉        | 59/300 [00:30<02:03,  1.95it/s]\u001b[A"
     ]
    },
    {
     "name": "stdout",
     "output_type": "stream",
     "text": [
      "image updated at \"./210215-053606-A_system_of_cells_interlinked_within_cells_interlinked_within_cells_interlinked_within_one_stem.png\"\n"
     ]
    },
    {
     "name": "stderr",
     "output_type": "stream",
     "text": [
      "\n",
      "loss: tensor([-27.2636], device='cuda:0', grad_fn=<AddBackward0>):  20%|█▉        | 59/300 [00:30<02:03,  1.95it/s]\u001b[A\n",
      "loss: tensor([-27.2636], device='cuda:0', grad_fn=<AddBackward0>):  20%|██        | 60/300 [00:30<02:03,  1.95it/s]\u001b[A"
     ]
    },
    {
     "name": "stdout",
     "output_type": "stream",
     "text": [
      "image updated at \"./210215-053606-A_system_of_cells_interlinked_within_cells_interlinked_within_cells_interlinked_within_one_stem.png\"\n"
     ]
    },
    {
     "name": "stderr",
     "output_type": "stream",
     "text": [
      "\n",
      "loss: tensor([-27.3327], device='cuda:0', grad_fn=<AddBackward0>):  20%|██        | 60/300 [00:31<02:03,  1.95it/s]\u001b[A\n",
      "loss: tensor([-27.3327], device='cuda:0', grad_fn=<AddBackward0>):  20%|██        | 61/300 [00:31<02:02,  1.95it/s]\u001b[A"
     ]
    },
    {
     "name": "stdout",
     "output_type": "stream",
     "text": [
      "image updated at \"./210215-053606-A_system_of_cells_interlinked_within_cells_interlinked_within_cells_interlinked_within_one_stem.png\"\n"
     ]
    },
    {
     "name": "stderr",
     "output_type": "stream",
     "text": [
      "\n",
      "loss: tensor([-27.3626], device='cuda:0', grad_fn=<AddBackward0>):  20%|██        | 61/300 [00:31<02:02,  1.95it/s]\u001b[A\n",
      "loss: tensor([-27.3626], device='cuda:0', grad_fn=<AddBackward0>):  21%|██        | 62/300 [00:31<02:01,  1.95it/s]\u001b[A"
     ]
    },
    {
     "name": "stdout",
     "output_type": "stream",
     "text": [
      "image updated at \"./210215-053606-A_system_of_cells_interlinked_within_cells_interlinked_within_cells_interlinked_within_one_stem.png\"\n"
     ]
    },
    {
     "name": "stderr",
     "output_type": "stream",
     "text": [
      "\n",
      "loss: tensor([-27.4586], device='cuda:0', grad_fn=<AddBackward0>):  21%|██        | 62/300 [00:32<02:01,  1.95it/s]\u001b[A\n",
      "loss: tensor([-27.4586], device='cuda:0', grad_fn=<AddBackward0>):  21%|██        | 63/300 [00:32<02:01,  1.96it/s]\u001b[A"
     ]
    },
    {
     "name": "stdout",
     "output_type": "stream",
     "text": [
      "image updated at \"./210215-053606-A_system_of_cells_interlinked_within_cells_interlinked_within_cells_interlinked_within_one_stem.png\"\n"
     ]
    },
    {
     "name": "stderr",
     "output_type": "stream",
     "text": [
      "\n",
      "loss: tensor([-27.4948], device='cuda:0', grad_fn=<AddBackward0>):  21%|██        | 63/300 [00:32<02:01,  1.96it/s]\u001b[A\n",
      "loss: tensor([-27.4948], device='cuda:0', grad_fn=<AddBackward0>):  21%|██▏       | 64/300 [00:32<02:00,  1.95it/s]\u001b[A"
     ]
    },
    {
     "name": "stdout",
     "output_type": "stream",
     "text": [
      "image updated at \"./210215-053606-A_system_of_cells_interlinked_within_cells_interlinked_within_cells_interlinked_within_one_stem.png\"\n"
     ]
    },
    {
     "name": "stderr",
     "output_type": "stream",
     "text": [
      "\n",
      "loss: tensor([-27.5049], device='cuda:0', grad_fn=<AddBackward0>):  21%|██▏       | 64/300 [00:33<02:00,  1.95it/s]\u001b[A\n",
      "loss: tensor([-27.5049], device='cuda:0', grad_fn=<AddBackward0>):  22%|██▏       | 65/300 [00:33<02:00,  1.95it/s]\u001b[A"
     ]
    },
    {
     "name": "stdout",
     "output_type": "stream",
     "text": [
      "image updated at \"./210215-053606-A_system_of_cells_interlinked_within_cells_interlinked_within_cells_interlinked_within_one_stem.png\"\n"
     ]
    },
    {
     "name": "stderr",
     "output_type": "stream",
     "text": [
      "\n",
      "loss: tensor([-27.2775], device='cuda:0', grad_fn=<AddBackward0>):  22%|██▏       | 65/300 [00:33<02:00,  1.95it/s]\u001b[A\n",
      "loss: tensor([-27.2775], device='cuda:0', grad_fn=<AddBackward0>):  22%|██▏       | 66/300 [00:33<02:00,  1.95it/s]\u001b[A"
     ]
    },
    {
     "name": "stdout",
     "output_type": "stream",
     "text": [
      "image updated at \"./210215-053606-A_system_of_cells_interlinked_within_cells_interlinked_within_cells_interlinked_within_one_stem.png\"\n"
     ]
    },
    {
     "name": "stderr",
     "output_type": "stream",
     "text": [
      "\n",
      "loss: tensor([-27.5964], device='cuda:0', grad_fn=<AddBackward0>):  22%|██▏       | 66/300 [00:34<02:00,  1.95it/s]\u001b[A\n",
      "loss: tensor([-27.5964], device='cuda:0', grad_fn=<AddBackward0>):  22%|██▏       | 67/300 [00:34<02:00,  1.93it/s]\u001b[A"
     ]
    },
    {
     "name": "stdout",
     "output_type": "stream",
     "text": [
      "image updated at \"./210215-053606-A_system_of_cells_interlinked_within_cells_interlinked_within_cells_interlinked_within_one_stem.png\"\n"
     ]
    },
    {
     "name": "stderr",
     "output_type": "stream",
     "text": [
      "\n",
      "loss: tensor([-27.7073], device='cuda:0', grad_fn=<AddBackward0>):  22%|██▏       | 67/300 [00:34<02:00,  1.93it/s]\u001b[A\n",
      "loss: tensor([-27.7073], device='cuda:0', grad_fn=<AddBackward0>):  23%|██▎       | 68/300 [00:34<01:59,  1.94it/s]\u001b[A"
     ]
    },
    {
     "name": "stdout",
     "output_type": "stream",
     "text": [
      "image updated at \"./210215-053606-A_system_of_cells_interlinked_within_cells_interlinked_within_cells_interlinked_within_one_stem.png\"\n"
     ]
    },
    {
     "name": "stderr",
     "output_type": "stream",
     "text": [
      "\n",
      "loss: tensor([-27.7013], device='cuda:0', grad_fn=<AddBackward0>):  23%|██▎       | 68/300 [00:35<01:59,  1.94it/s]\u001b[A\n",
      "loss: tensor([-27.7013], device='cuda:0', grad_fn=<AddBackward0>):  23%|██▎       | 69/300 [00:35<01:59,  1.94it/s]\u001b[A"
     ]
    },
    {
     "name": "stdout",
     "output_type": "stream",
     "text": [
      "image updated at \"./210215-053606-A_system_of_cells_interlinked_within_cells_interlinked_within_cells_interlinked_within_one_stem.png\"\n"
     ]
    },
    {
     "name": "stderr",
     "output_type": "stream",
     "text": [
      "\n",
      "loss: tensor([-27.7574], device='cuda:0', grad_fn=<AddBackward0>):  23%|██▎       | 69/300 [00:35<01:59,  1.94it/s]\u001b[A\n",
      "loss: tensor([-27.7574], device='cuda:0', grad_fn=<AddBackward0>):  23%|██▎       | 70/300 [00:35<01:58,  1.95it/s]\u001b[A"
     ]
    },
    {
     "name": "stdout",
     "output_type": "stream",
     "text": [
      "image updated at \"./210215-053606-A_system_of_cells_interlinked_within_cells_interlinked_within_cells_interlinked_within_one_stem.png\"\n"
     ]
    },
    {
     "name": "stderr",
     "output_type": "stream",
     "text": [
      "\n",
      "loss: tensor([-27.6944], device='cuda:0', grad_fn=<AddBackward0>):  23%|██▎       | 70/300 [00:36<01:58,  1.95it/s]\u001b[A\n",
      "loss: tensor([-27.6944], device='cuda:0', grad_fn=<AddBackward0>):  24%|██▎       | 71/300 [00:36<01:57,  1.95it/s]\u001b[A"
     ]
    },
    {
     "name": "stdout",
     "output_type": "stream",
     "text": [
      "image updated at \"./210215-053606-A_system_of_cells_interlinked_within_cells_interlinked_within_cells_interlinked_within_one_stem.png\"\n"
     ]
    },
    {
     "name": "stderr",
     "output_type": "stream",
     "text": [
      "\n",
      "loss: tensor([-27.6014], device='cuda:0', grad_fn=<AddBackward0>):  24%|██▎       | 71/300 [00:36<01:57,  1.95it/s]\u001b[A\n",
      "loss: tensor([-27.6014], device='cuda:0', grad_fn=<AddBackward0>):  24%|██▍       | 72/300 [00:36<01:57,  1.95it/s]\u001b[A"
     ]
    },
    {
     "name": "stdout",
     "output_type": "stream",
     "text": [
      "image updated at \"./210215-053606-A_system_of_cells_interlinked_within_cells_interlinked_within_cells_interlinked_within_one_stem.png\"\n"
     ]
    },
    {
     "name": "stderr",
     "output_type": "stream",
     "text": [
      "\n",
      "loss: tensor([-27.7022], device='cuda:0', grad_fn=<AddBackward0>):  24%|██▍       | 72/300 [00:37<01:57,  1.95it/s]\u001b[A\n",
      "loss: tensor([-27.7022], device='cuda:0', grad_fn=<AddBackward0>):  24%|██▍       | 73/300 [00:37<01:57,  1.93it/s]\u001b[A"
     ]
    },
    {
     "name": "stdout",
     "output_type": "stream",
     "text": [
      "image updated at \"./210215-053606-A_system_of_cells_interlinked_within_cells_interlinked_within_cells_interlinked_within_one_stem.png\"\n"
     ]
    },
    {
     "name": "stderr",
     "output_type": "stream",
     "text": [
      "\n",
      "loss: tensor([-27.7582], device='cuda:0', grad_fn=<AddBackward0>):  24%|██▍       | 73/300 [00:37<01:57,  1.93it/s]\u001b[A\n",
      "loss: tensor([-27.7582], device='cuda:0', grad_fn=<AddBackward0>):  25%|██▍       | 74/300 [00:37<01:57,  1.93it/s]\u001b[A"
     ]
    },
    {
     "name": "stdout",
     "output_type": "stream",
     "text": [
      "image updated at \"./210215-053606-A_system_of_cells_interlinked_within_cells_interlinked_within_cells_interlinked_within_one_stem.png\"\n"
     ]
    },
    {
     "name": "stderr",
     "output_type": "stream",
     "text": [
      "\n",
      "loss: tensor([-27.7829], device='cuda:0', grad_fn=<AddBackward0>):  25%|██▍       | 74/300 [00:38<01:57,  1.93it/s]\u001b[A\n",
      "loss: tensor([-27.7829], device='cuda:0', grad_fn=<AddBackward0>):  25%|██▌       | 75/300 [00:38<01:56,  1.92it/s]\u001b[A"
     ]
    },
    {
     "name": "stdout",
     "output_type": "stream",
     "text": [
      "image updated at \"./210215-053606-A_system_of_cells_interlinked_within_cells_interlinked_within_cells_interlinked_within_one_stem.png\"\n"
     ]
    },
    {
     "name": "stderr",
     "output_type": "stream",
     "text": [
      "\n",
      "loss: tensor([-27.7966], device='cuda:0', grad_fn=<AddBackward0>):  25%|██▌       | 75/300 [00:39<01:56,  1.92it/s]\u001b[A\n",
      "loss: tensor([-27.7966], device='cuda:0', grad_fn=<AddBackward0>):  25%|██▌       | 76/300 [00:39<01:56,  1.92it/s]\u001b[A"
     ]
    },
    {
     "name": "stdout",
     "output_type": "stream",
     "text": [
      "image updated at \"./210215-053606-A_system_of_cells_interlinked_within_cells_interlinked_within_cells_interlinked_within_one_stem.png\"\n"
     ]
    },
    {
     "name": "stderr",
     "output_type": "stream",
     "text": [
      "\n",
      "loss: tensor([-27.7981], device='cuda:0', grad_fn=<AddBackward0>):  25%|██▌       | 76/300 [00:39<01:56,  1.92it/s]\u001b[A\n",
      "loss: tensor([-27.7981], device='cuda:0', grad_fn=<AddBackward0>):  26%|██▌       | 77/300 [00:39<01:55,  1.93it/s]\u001b[A"
     ]
    },
    {
     "name": "stdout",
     "output_type": "stream",
     "text": [
      "image updated at \"./210215-053606-A_system_of_cells_interlinked_within_cells_interlinked_within_cells_interlinked_within_one_stem.png\"\n"
     ]
    },
    {
     "name": "stderr",
     "output_type": "stream",
     "text": [
      "\n",
      "loss: tensor([-27.7955], device='cuda:0', grad_fn=<AddBackward0>):  26%|██▌       | 77/300 [00:40<01:55,  1.93it/s]\u001b[A\n",
      "loss: tensor([-27.7955], device='cuda:0', grad_fn=<AddBackward0>):  26%|██▌       | 78/300 [00:40<01:55,  1.93it/s]\u001b[A"
     ]
    },
    {
     "name": "stdout",
     "output_type": "stream",
     "text": [
      "image updated at \"./210215-053606-A_system_of_cells_interlinked_within_cells_interlinked_within_cells_interlinked_within_one_stem.png\"\n"
     ]
    },
    {
     "name": "stderr",
     "output_type": "stream",
     "text": [
      "\n",
      "loss: tensor([-28.0182], device='cuda:0', grad_fn=<AddBackward0>):  26%|██▌       | 78/300 [00:40<01:55,  1.93it/s]\u001b[A\n",
      "loss: tensor([-28.0182], device='cuda:0', grad_fn=<AddBackward0>):  26%|██▋       | 79/300 [00:40<01:54,  1.92it/s]\u001b[A"
     ]
    },
    {
     "name": "stdout",
     "output_type": "stream",
     "text": [
      "image updated at \"./210215-053606-A_system_of_cells_interlinked_within_cells_interlinked_within_cells_interlinked_within_one_stem.png\"\n"
     ]
    },
    {
     "name": "stderr",
     "output_type": "stream",
     "text": [
      "\n",
      "loss: tensor([-27.9270], device='cuda:0', grad_fn=<AddBackward0>):  26%|██▋       | 79/300 [00:41<01:54,  1.92it/s]\u001b[A\n",
      "loss: tensor([-27.9270], device='cuda:0', grad_fn=<AddBackward0>):  27%|██▋       | 80/300 [00:41<01:55,  1.91it/s]\u001b[A"
     ]
    },
    {
     "name": "stdout",
     "output_type": "stream",
     "text": [
      "image updated at \"./210215-053606-A_system_of_cells_interlinked_within_cells_interlinked_within_cells_interlinked_within_one_stem.png\"\n"
     ]
    },
    {
     "name": "stderr",
     "output_type": "stream",
     "text": [
      "\n",
      "loss: tensor([-27.9166], device='cuda:0', grad_fn=<AddBackward0>):  27%|██▋       | 80/300 [00:41<01:55,  1.91it/s]\u001b[A\n",
      "loss: tensor([-27.9166], device='cuda:0', grad_fn=<AddBackward0>):  27%|██▋       | 81/300 [00:41<01:54,  1.91it/s]\u001b[A"
     ]
    },
    {
     "name": "stdout",
     "output_type": "stream",
     "text": [
      "image updated at \"./210215-053606-A_system_of_cells_interlinked_within_cells_interlinked_within_cells_interlinked_within_one_stem.png\"\n"
     ]
    },
    {
     "name": "stderr",
     "output_type": "stream",
     "text": [
      "\n",
      "loss: tensor([-27.9258], device='cuda:0', grad_fn=<AddBackward0>):  27%|██▋       | 81/300 [00:42<01:54,  1.91it/s]\u001b[A\n",
      "loss: tensor([-27.9258], device='cuda:0', grad_fn=<AddBackward0>):  27%|██▋       | 82/300 [00:42<01:53,  1.92it/s]\u001b[A"
     ]
    },
    {
     "name": "stdout",
     "output_type": "stream",
     "text": [
      "image updated at \"./210215-053606-A_system_of_cells_interlinked_within_cells_interlinked_within_cells_interlinked_within_one_stem.png\"\n"
     ]
    },
    {
     "name": "stderr",
     "output_type": "stream",
     "text": [
      "\n",
      "loss: tensor([-27.9253], device='cuda:0', grad_fn=<AddBackward0>):  27%|██▋       | 82/300 [00:42<01:53,  1.92it/s]\u001b[A\n",
      "loss: tensor([-27.9253], device='cuda:0', grad_fn=<AddBackward0>):  28%|██▊       | 83/300 [00:42<01:52,  1.94it/s]\u001b[A"
     ]
    },
    {
     "name": "stdout",
     "output_type": "stream",
     "text": [
      "image updated at \"./210215-053606-A_system_of_cells_interlinked_within_cells_interlinked_within_cells_interlinked_within_one_stem.png\"\n"
     ]
    },
    {
     "name": "stderr",
     "output_type": "stream",
     "text": [
      "\n",
      "loss: tensor([-27.9003], device='cuda:0', grad_fn=<AddBackward0>):  28%|██▊       | 83/300 [00:43<01:52,  1.94it/s]\u001b[A\n",
      "loss: tensor([-27.9003], device='cuda:0', grad_fn=<AddBackward0>):  28%|██▊       | 84/300 [00:43<01:50,  1.95it/s]\u001b[A"
     ]
    },
    {
     "name": "stdout",
     "output_type": "stream",
     "text": [
      "image updated at \"./210215-053606-A_system_of_cells_interlinked_within_cells_interlinked_within_cells_interlinked_within_one_stem.png\"\n"
     ]
    },
    {
     "name": "stderr",
     "output_type": "stream",
     "text": [
      "\n",
      "loss: tensor([-27.7098], device='cuda:0', grad_fn=<AddBackward0>):  28%|██▊       | 84/300 [00:43<01:50,  1.95it/s]\u001b[A\n",
      "loss: tensor([-27.7098], device='cuda:0', grad_fn=<AddBackward0>):  28%|██▊       | 85/300 [00:43<01:49,  1.96it/s]\u001b[A"
     ]
    },
    {
     "name": "stdout",
     "output_type": "stream",
     "text": [
      "image updated at \"./210215-053606-A_system_of_cells_interlinked_within_cells_interlinked_within_cells_interlinked_within_one_stem.png\"\n"
     ]
    },
    {
     "name": "stderr",
     "output_type": "stream",
     "text": [
      "\n",
      "loss: tensor([-27.9250], device='cuda:0', grad_fn=<AddBackward0>):  28%|██▊       | 85/300 [00:44<01:49,  1.96it/s]\u001b[A\n",
      "loss: tensor([-27.9250], device='cuda:0', grad_fn=<AddBackward0>):  29%|██▊       | 86/300 [00:44<01:49,  1.96it/s]\u001b[A"
     ]
    },
    {
     "name": "stdout",
     "output_type": "stream",
     "text": [
      "image updated at \"./210215-053606-A_system_of_cells_interlinked_within_cells_interlinked_within_cells_interlinked_within_one_stem.png\"\n"
     ]
    },
    {
     "name": "stderr",
     "output_type": "stream",
     "text": [
      "\n",
      "loss: tensor([-27.9862], device='cuda:0', grad_fn=<AddBackward0>):  29%|██▊       | 86/300 [00:44<01:49,  1.96it/s]\u001b[A\n",
      "loss: tensor([-27.9862], device='cuda:0', grad_fn=<AddBackward0>):  29%|██▉       | 87/300 [00:44<01:49,  1.95it/s]\u001b[A"
     ]
    },
    {
     "name": "stdout",
     "output_type": "stream",
     "text": [
      "image updated at \"./210215-053606-A_system_of_cells_interlinked_within_cells_interlinked_within_cells_interlinked_within_one_stem.png\"\n"
     ]
    },
    {
     "name": "stderr",
     "output_type": "stream",
     "text": [
      "\n",
      "loss: tensor([-28.1475], device='cuda:0', grad_fn=<AddBackward0>):  29%|██▉       | 87/300 [00:45<01:49,  1.95it/s]\u001b[A\n",
      "loss: tensor([-28.1475], device='cuda:0', grad_fn=<AddBackward0>):  29%|██▉       | 88/300 [00:45<01:48,  1.95it/s]\u001b[A"
     ]
    },
    {
     "name": "stdout",
     "output_type": "stream",
     "text": [
      "image updated at \"./210215-053606-A_system_of_cells_interlinked_within_cells_interlinked_within_cells_interlinked_within_one_stem.png\"\n"
     ]
    },
    {
     "name": "stderr",
     "output_type": "stream",
     "text": [
      "\n",
      "loss: tensor([-28.1552], device='cuda:0', grad_fn=<AddBackward0>):  29%|██▉       | 88/300 [00:45<01:48,  1.95it/s]\u001b[A\n",
      "loss: tensor([-28.1552], device='cuda:0', grad_fn=<AddBackward0>):  30%|██▉       | 89/300 [00:45<01:47,  1.96it/s]\u001b[A"
     ]
    },
    {
     "name": "stdout",
     "output_type": "stream",
     "text": [
      "image updated at \"./210215-053606-A_system_of_cells_interlinked_within_cells_interlinked_within_cells_interlinked_within_one_stem.png\"\n"
     ]
    },
    {
     "name": "stderr",
     "output_type": "stream",
     "text": [
      "\n",
      "loss: tensor([-28.0382], device='cuda:0', grad_fn=<AddBackward0>):  30%|██▉       | 89/300 [00:46<01:47,  1.96it/s]\u001b[A\n",
      "loss: tensor([-28.0382], device='cuda:0', grad_fn=<AddBackward0>):  30%|███       | 90/300 [00:46<01:47,  1.96it/s]\u001b[A"
     ]
    },
    {
     "name": "stdout",
     "output_type": "stream",
     "text": [
      "image updated at \"./210215-053606-A_system_of_cells_interlinked_within_cells_interlinked_within_cells_interlinked_within_one_stem.png\"\n"
     ]
    },
    {
     "name": "stderr",
     "output_type": "stream",
     "text": [
      "\n",
      "loss: tensor([-28.1552], device='cuda:0', grad_fn=<AddBackward0>):  30%|███       | 90/300 [00:46<01:47,  1.96it/s]\u001b[A\n",
      "loss: tensor([-28.1552], device='cuda:0', grad_fn=<AddBackward0>):  30%|███       | 91/300 [00:46<01:47,  1.95it/s]\u001b[A"
     ]
    },
    {
     "name": "stdout",
     "output_type": "stream",
     "text": [
      "image updated at \"./210215-053606-A_system_of_cells_interlinked_within_cells_interlinked_within_cells_interlinked_within_one_stem.png\"\n"
     ]
    },
    {
     "name": "stderr",
     "output_type": "stream",
     "text": [
      "\n",
      "loss: tensor([-28.0332], device='cuda:0', grad_fn=<AddBackward0>):  30%|███       | 91/300 [00:47<01:47,  1.95it/s]\u001b[A\n",
      "loss: tensor([-28.0332], device='cuda:0', grad_fn=<AddBackward0>):  31%|███       | 92/300 [00:47<01:46,  1.96it/s]\u001b[A"
     ]
    },
    {
     "name": "stdout",
     "output_type": "stream",
     "text": [
      "image updated at \"./210215-053606-A_system_of_cells_interlinked_within_cells_interlinked_within_cells_interlinked_within_one_stem.png\"\n"
     ]
    },
    {
     "name": "stderr",
     "output_type": "stream",
     "text": [
      "\n",
      "loss: tensor([-27.9416], device='cuda:0', grad_fn=<AddBackward0>):  31%|███       | 92/300 [00:47<01:46,  1.96it/s]\u001b[A\n",
      "loss: tensor([-27.9416], device='cuda:0', grad_fn=<AddBackward0>):  31%|███       | 93/300 [00:47<01:47,  1.93it/s]\u001b[A"
     ]
    },
    {
     "name": "stdout",
     "output_type": "stream",
     "text": [
      "image updated at \"./210215-053606-A_system_of_cells_interlinked_within_cells_interlinked_within_cells_interlinked_within_one_stem.png\"\n"
     ]
    },
    {
     "name": "stderr",
     "output_type": "stream",
     "text": [
      "\n",
      "loss: tensor([-28.1651], device='cuda:0', grad_fn=<AddBackward0>):  31%|███       | 93/300 [00:48<01:47,  1.93it/s]\u001b[A\n",
      "loss: tensor([-28.1651], device='cuda:0', grad_fn=<AddBackward0>):  31%|███▏      | 94/300 [00:48<01:47,  1.92it/s]\u001b[A"
     ]
    },
    {
     "name": "stdout",
     "output_type": "stream",
     "text": [
      "image updated at \"./210215-053606-A_system_of_cells_interlinked_within_cells_interlinked_within_cells_interlinked_within_one_stem.png\"\n"
     ]
    },
    {
     "name": "stderr",
     "output_type": "stream",
     "text": [
      "\n",
      "loss: tensor([-28.1681], device='cuda:0', grad_fn=<AddBackward0>):  31%|███▏      | 94/300 [00:48<01:47,  1.92it/s]\u001b[A\n",
      "loss: tensor([-28.1681], device='cuda:0', grad_fn=<AddBackward0>):  32%|███▏      | 95/300 [00:48<01:47,  1.91it/s]\u001b[A"
     ]
    },
    {
     "name": "stdout",
     "output_type": "stream",
     "text": [
      "image updated at \"./210215-053606-A_system_of_cells_interlinked_within_cells_interlinked_within_cells_interlinked_within_one_stem.png\"\n"
     ]
    },
    {
     "name": "stderr",
     "output_type": "stream",
     "text": [
      "\n",
      "loss: tensor([-28.1914], device='cuda:0', grad_fn=<AddBackward0>):  32%|███▏      | 95/300 [00:49<01:47,  1.91it/s]\u001b[A\n",
      "loss: tensor([-28.1914], device='cuda:0', grad_fn=<AddBackward0>):  32%|███▏      | 96/300 [00:49<01:46,  1.92it/s]\u001b[A"
     ]
    },
    {
     "name": "stdout",
     "output_type": "stream",
     "text": [
      "image updated at \"./210215-053606-A_system_of_cells_interlinked_within_cells_interlinked_within_cells_interlinked_within_one_stem.png\"\n"
     ]
    },
    {
     "name": "stderr",
     "output_type": "stream",
     "text": [
      "\n",
      "loss: tensor([-28.3460], device='cuda:0', grad_fn=<AddBackward0>):  32%|███▏      | 96/300 [00:49<01:46,  1.92it/s]\u001b[A\n",
      "loss: tensor([-28.3460], device='cuda:0', grad_fn=<AddBackward0>):  32%|███▏      | 97/300 [00:49<01:44,  1.94it/s]\u001b[A"
     ]
    },
    {
     "name": "stdout",
     "output_type": "stream",
     "text": [
      "image updated at \"./210215-053606-A_system_of_cells_interlinked_within_cells_interlinked_within_cells_interlinked_within_one_stem.png\"\n"
     ]
    },
    {
     "name": "stderr",
     "output_type": "stream",
     "text": [
      "\n",
      "loss: tensor([-28.1872], device='cuda:0', grad_fn=<AddBackward0>):  32%|███▏      | 97/300 [00:50<01:44,  1.94it/s]\u001b[A\n",
      "loss: tensor([-28.1872], device='cuda:0', grad_fn=<AddBackward0>):  33%|███▎      | 98/300 [00:50<01:44,  1.93it/s]\u001b[A"
     ]
    },
    {
     "name": "stdout",
     "output_type": "stream",
     "text": [
      "image updated at \"./210215-053606-A_system_of_cells_interlinked_within_cells_interlinked_within_cells_interlinked_within_one_stem.png\"\n"
     ]
    },
    {
     "name": "stderr",
     "output_type": "stream",
     "text": [
      "\n",
      "loss: tensor([-28.3991], device='cuda:0', grad_fn=<AddBackward0>):  33%|███▎      | 98/300 [00:50<01:44,  1.93it/s]\u001b[A\n",
      "loss: tensor([-28.3991], device='cuda:0', grad_fn=<AddBackward0>):  33%|███▎      | 99/300 [00:50<01:44,  1.92it/s]\u001b[A"
     ]
    },
    {
     "name": "stdout",
     "output_type": "stream",
     "text": [
      "image updated at \"./210215-053606-A_system_of_cells_interlinked_within_cells_interlinked_within_cells_interlinked_within_one_stem.png\"\n"
     ]
    },
    {
     "name": "stderr",
     "output_type": "stream",
     "text": [
      "\n",
      "loss: tensor([-28.3051], device='cuda:0', grad_fn=<AddBackward0>):  33%|███▎      | 99/300 [00:51<01:44,  1.92it/s]\u001b[A\n",
      "loss: tensor([-28.3051], device='cuda:0', grad_fn=<AddBackward0>):  33%|███▎      | 100/300 [00:51<01:45,  1.90it/s]\u001b[A"
     ]
    },
    {
     "name": "stdout",
     "output_type": "stream",
     "text": [
      "image updated at \"./210215-053606-A_system_of_cells_interlinked_within_cells_interlinked_within_cells_interlinked_within_one_stem.png\"\n"
     ]
    },
    {
     "name": "stderr",
     "output_type": "stream",
     "text": [
      "\n",
      "loss: tensor([-28.3577], device='cuda:0', grad_fn=<AddBackward0>):  33%|███▎      | 100/300 [00:52<01:45,  1.90it/s]\u001b[A\n",
      "loss: tensor([-28.3577], device='cuda:0', grad_fn=<AddBackward0>):  34%|███▎      | 101/300 [00:52<01:47,  1.84it/s]\u001b[A"
     ]
    },
    {
     "name": "stdout",
     "output_type": "stream",
     "text": [
      "image updated at \"./210215-053606-A_system_of_cells_interlinked_within_cells_interlinked_within_cells_interlinked_within_one_stem.png\"\n"
     ]
    },
    {
     "name": "stderr",
     "output_type": "stream",
     "text": [
      "\n",
      "loss: tensor([-28.3856], device='cuda:0', grad_fn=<AddBackward0>):  34%|███▎      | 101/300 [00:52<01:47,  1.84it/s]\u001b[A\n",
      "loss: tensor([-28.3856], device='cuda:0', grad_fn=<AddBackward0>):  34%|███▍      | 102/300 [00:52<01:53,  1.75it/s]\u001b[A"
     ]
    },
    {
     "name": "stdout",
     "output_type": "stream",
     "text": [
      "image updated at \"./210215-053606-A_system_of_cells_interlinked_within_cells_interlinked_within_cells_interlinked_within_one_stem.png\"\n"
     ]
    },
    {
     "name": "stderr",
     "output_type": "stream",
     "text": [
      "\n",
      "loss: tensor([-28.3958], device='cuda:0', grad_fn=<AddBackward0>):  34%|███▍      | 102/300 [00:53<01:53,  1.75it/s]\u001b[A\n",
      "loss: tensor([-28.3958], device='cuda:0', grad_fn=<AddBackward0>):  34%|███▍      | 103/300 [00:53<01:48,  1.81it/s]\u001b[A"
     ]
    },
    {
     "name": "stdout",
     "output_type": "stream",
     "text": [
      "image updated at \"./210215-053606-A_system_of_cells_interlinked_within_cells_interlinked_within_cells_interlinked_within_one_stem.png\"\n"
     ]
    },
    {
     "name": "stderr",
     "output_type": "stream",
     "text": [
      "\n",
      "loss: tensor([-28.3702], device='cuda:0', grad_fn=<AddBackward0>):  34%|███▍      | 103/300 [00:53<01:48,  1.81it/s]\u001b[A\n",
      "loss: tensor([-28.3702], device='cuda:0', grad_fn=<AddBackward0>):  35%|███▍      | 104/300 [00:53<01:46,  1.85it/s]\u001b[A"
     ]
    },
    {
     "name": "stdout",
     "output_type": "stream",
     "text": [
      "image updated at \"./210215-053606-A_system_of_cells_interlinked_within_cells_interlinked_within_cells_interlinked_within_one_stem.png\"\n"
     ]
    },
    {
     "name": "stderr",
     "output_type": "stream",
     "text": [
      "\n",
      "loss: tensor([-28.4598], device='cuda:0', grad_fn=<AddBackward0>):  35%|███▍      | 104/300 [00:54<01:46,  1.85it/s]\u001b[A\n",
      "loss: tensor([-28.4598], device='cuda:0', grad_fn=<AddBackward0>):  35%|███▌      | 105/300 [00:54<01:44,  1.87it/s]\u001b[A"
     ]
    },
    {
     "name": "stdout",
     "output_type": "stream",
     "text": [
      "image updated at \"./210215-053606-A_system_of_cells_interlinked_within_cells_interlinked_within_cells_interlinked_within_one_stem.png\"\n"
     ]
    },
    {
     "name": "stderr",
     "output_type": "stream",
     "text": [
      "\n",
      "loss: tensor([-28.5779], device='cuda:0', grad_fn=<AddBackward0>):  35%|███▌      | 105/300 [00:54<01:44,  1.87it/s]\u001b[A\n",
      "loss: tensor([-28.5779], device='cuda:0', grad_fn=<AddBackward0>):  35%|███▌      | 106/300 [00:54<01:42,  1.89it/s]\u001b[A"
     ]
    },
    {
     "name": "stdout",
     "output_type": "stream",
     "text": [
      "image updated at \"./210215-053606-A_system_of_cells_interlinked_within_cells_interlinked_within_cells_interlinked_within_one_stem.png\"\n"
     ]
    },
    {
     "name": "stderr",
     "output_type": "stream",
     "text": [
      "\n",
      "loss: tensor([-28.5129], device='cuda:0', grad_fn=<AddBackward0>):  35%|███▌      | 106/300 [00:55<01:42,  1.89it/s]\u001b[A\n",
      "loss: tensor([-28.5129], device='cuda:0', grad_fn=<AddBackward0>):  36%|███▌      | 107/300 [00:55<01:41,  1.91it/s]\u001b[A"
     ]
    },
    {
     "name": "stdout",
     "output_type": "stream",
     "text": [
      "image updated at \"./210215-053606-A_system_of_cells_interlinked_within_cells_interlinked_within_cells_interlinked_within_one_stem.png\"\n"
     ]
    },
    {
     "name": "stderr",
     "output_type": "stream",
     "text": [
      "\n",
      "loss: tensor([-28.7111], device='cuda:0', grad_fn=<AddBackward0>):  36%|███▌      | 107/300 [00:55<01:41,  1.91it/s]\u001b[A\n",
      "loss: tensor([-28.7111], device='cuda:0', grad_fn=<AddBackward0>):  36%|███▌      | 108/300 [00:55<01:40,  1.90it/s]\u001b[A"
     ]
    },
    {
     "name": "stdout",
     "output_type": "stream",
     "text": [
      "image updated at \"./210215-053606-A_system_of_cells_interlinked_within_cells_interlinked_within_cells_interlinked_within_one_stem.png\"\n"
     ]
    },
    {
     "name": "stderr",
     "output_type": "stream",
     "text": [
      "\n",
      "loss: tensor([-28.5926], device='cuda:0', grad_fn=<AddBackward0>):  36%|███▌      | 108/300 [00:56<01:40,  1.90it/s]\u001b[A\n",
      "loss: tensor([-28.5926], device='cuda:0', grad_fn=<AddBackward0>):  36%|███▋      | 109/300 [00:56<01:40,  1.90it/s]\u001b[A"
     ]
    },
    {
     "name": "stdout",
     "output_type": "stream",
     "text": [
      "image updated at \"./210215-053606-A_system_of_cells_interlinked_within_cells_interlinked_within_cells_interlinked_within_one_stem.png\"\n"
     ]
    },
    {
     "name": "stderr",
     "output_type": "stream",
     "text": [
      "\n",
      "loss: tensor([-28.6913], device='cuda:0', grad_fn=<AddBackward0>):  36%|███▋      | 109/300 [00:56<01:40,  1.90it/s]\u001b[A\n",
      "loss: tensor([-28.6913], device='cuda:0', grad_fn=<AddBackward0>):  37%|███▋      | 110/300 [00:56<01:39,  1.92it/s]\u001b[A"
     ]
    },
    {
     "name": "stdout",
     "output_type": "stream",
     "text": [
      "image updated at \"./210215-053606-A_system_of_cells_interlinked_within_cells_interlinked_within_cells_interlinked_within_one_stem.png\"\n"
     ]
    },
    {
     "name": "stderr",
     "output_type": "stream",
     "text": [
      "\n",
      "loss: tensor([-28.4842], device='cuda:0', grad_fn=<AddBackward0>):  37%|███▋      | 110/300 [00:57<01:39,  1.92it/s]\u001b[A\n",
      "loss: tensor([-28.4842], device='cuda:0', grad_fn=<AddBackward0>):  37%|███▋      | 111/300 [00:57<01:38,  1.91it/s]\u001b[A"
     ]
    },
    {
     "name": "stdout",
     "output_type": "stream",
     "text": [
      "image updated at \"./210215-053606-A_system_of_cells_interlinked_within_cells_interlinked_within_cells_interlinked_within_one_stem.png\"\n"
     ]
    },
    {
     "name": "stderr",
     "output_type": "stream",
     "text": [
      "\n",
      "loss: tensor([-28.3534], device='cuda:0', grad_fn=<AddBackward0>):  37%|███▋      | 111/300 [00:57<01:38,  1.91it/s]\u001b[A\n",
      "loss: tensor([-28.3534], device='cuda:0', grad_fn=<AddBackward0>):  37%|███▋      | 112/300 [00:57<01:40,  1.87it/s]\u001b[A"
     ]
    },
    {
     "name": "stdout",
     "output_type": "stream",
     "text": [
      "image updated at \"./210215-053606-A_system_of_cells_interlinked_within_cells_interlinked_within_cells_interlinked_within_one_stem.png\"\n"
     ]
    },
    {
     "name": "stderr",
     "output_type": "stream",
     "text": [
      "\n",
      "loss: tensor([-28.6235], device='cuda:0', grad_fn=<AddBackward0>):  37%|███▋      | 112/300 [00:58<01:40,  1.87it/s]\u001b[A\n",
      "loss: tensor([-28.6235], device='cuda:0', grad_fn=<AddBackward0>):  38%|███▊      | 113/300 [00:58<01:41,  1.83it/s]\u001b[A"
     ]
    },
    {
     "name": "stdout",
     "output_type": "stream",
     "text": [
      "image updated at \"./210215-053606-A_system_of_cells_interlinked_within_cells_interlinked_within_cells_interlinked_within_one_stem.png\"\n"
     ]
    },
    {
     "name": "stderr",
     "output_type": "stream",
     "text": [
      "\n",
      "loss: tensor([-28.5992], device='cuda:0', grad_fn=<AddBackward0>):  38%|███▊      | 113/300 [00:59<01:41,  1.83it/s]\u001b[A\n",
      "loss: tensor([-28.5992], device='cuda:0', grad_fn=<AddBackward0>):  38%|███▊      | 114/300 [00:59<01:41,  1.83it/s]\u001b[A"
     ]
    },
    {
     "name": "stdout",
     "output_type": "stream",
     "text": [
      "image updated at \"./210215-053606-A_system_of_cells_interlinked_within_cells_interlinked_within_cells_interlinked_within_one_stem.png\"\n"
     ]
    },
    {
     "name": "stderr",
     "output_type": "stream",
     "text": [
      "\n",
      "loss: tensor([-28.4832], device='cuda:0', grad_fn=<AddBackward0>):  38%|███▊      | 114/300 [00:59<01:41,  1.83it/s]\u001b[A\n",
      "loss: tensor([-28.4832], device='cuda:0', grad_fn=<AddBackward0>):  38%|███▊      | 115/300 [00:59<01:44,  1.78it/s]\u001b[A"
     ]
    },
    {
     "name": "stdout",
     "output_type": "stream",
     "text": [
      "image updated at \"./210215-053606-A_system_of_cells_interlinked_within_cells_interlinked_within_cells_interlinked_within_one_stem.png\"\n"
     ]
    },
    {
     "name": "stderr",
     "output_type": "stream",
     "text": [
      "\n",
      "loss: tensor([-28.5718], device='cuda:0', grad_fn=<AddBackward0>):  38%|███▊      | 115/300 [01:00<01:44,  1.78it/s]\u001b[A\n",
      "loss: tensor([-28.5718], device='cuda:0', grad_fn=<AddBackward0>):  39%|███▊      | 116/300 [01:00<01:42,  1.79it/s]\u001b[A"
     ]
    },
    {
     "name": "stdout",
     "output_type": "stream",
     "text": [
      "image updated at \"./210215-053606-A_system_of_cells_interlinked_within_cells_interlinked_within_cells_interlinked_within_one_stem.png\"\n"
     ]
    },
    {
     "name": "stderr",
     "output_type": "stream",
     "text": [
      "\n",
      "loss: tensor([-28.7250], device='cuda:0', grad_fn=<AddBackward0>):  39%|███▊      | 116/300 [01:00<01:42,  1.79it/s]\u001b[A\n",
      "loss: tensor([-28.7250], device='cuda:0', grad_fn=<AddBackward0>):  39%|███▉      | 117/300 [01:00<01:40,  1.83it/s]\u001b[A"
     ]
    },
    {
     "name": "stdout",
     "output_type": "stream",
     "text": [
      "image updated at \"./210215-053606-A_system_of_cells_interlinked_within_cells_interlinked_within_cells_interlinked_within_one_stem.png\"\n"
     ]
    },
    {
     "name": "stderr",
     "output_type": "stream",
     "text": [
      "\n",
      "loss: tensor([-28.5351], device='cuda:0', grad_fn=<AddBackward0>):  39%|███▉      | 117/300 [01:01<01:40,  1.83it/s]\u001b[A\n",
      "loss: tensor([-28.5351], device='cuda:0', grad_fn=<AddBackward0>):  39%|███▉      | 118/300 [01:01<01:37,  1.86it/s]\u001b[A"
     ]
    },
    {
     "name": "stdout",
     "output_type": "stream",
     "text": [
      "image updated at \"./210215-053606-A_system_of_cells_interlinked_within_cells_interlinked_within_cells_interlinked_within_one_stem.png\"\n"
     ]
    },
    {
     "name": "stderr",
     "output_type": "stream",
     "text": [
      "\n",
      "loss: tensor([-28.4119], device='cuda:0', grad_fn=<AddBackward0>):  39%|███▉      | 118/300 [01:01<01:37,  1.86it/s]\u001b[A\n",
      "loss: tensor([-28.4119], device='cuda:0', grad_fn=<AddBackward0>):  40%|███▉      | 119/300 [01:01<01:35,  1.89it/s]\u001b[A"
     ]
    },
    {
     "name": "stdout",
     "output_type": "stream",
     "text": [
      "image updated at \"./210215-053606-A_system_of_cells_interlinked_within_cells_interlinked_within_cells_interlinked_within_one_stem.png\"\n"
     ]
    },
    {
     "name": "stderr",
     "output_type": "stream",
     "text": [
      "\n",
      "loss: tensor([-28.6067], device='cuda:0', grad_fn=<AddBackward0>):  40%|███▉      | 119/300 [01:02<01:35,  1.89it/s]\u001b[A\n",
      "loss: tensor([-28.6067], device='cuda:0', grad_fn=<AddBackward0>):  40%|████      | 120/300 [01:02<01:34,  1.91it/s]\u001b[A"
     ]
    },
    {
     "name": "stdout",
     "output_type": "stream",
     "text": [
      "image updated at \"./210215-053606-A_system_of_cells_interlinked_within_cells_interlinked_within_cells_interlinked_within_one_stem.png\"\n"
     ]
    },
    {
     "name": "stderr",
     "output_type": "stream",
     "text": [
      "\n",
      "loss: tensor([-28.5100], device='cuda:0', grad_fn=<AddBackward0>):  40%|████      | 120/300 [01:02<01:34,  1.91it/s]\u001b[A\n",
      "loss: tensor([-28.5100], device='cuda:0', grad_fn=<AddBackward0>):  40%|████      | 121/300 [01:02<01:33,  1.92it/s]\u001b[A"
     ]
    },
    {
     "name": "stdout",
     "output_type": "stream",
     "text": [
      "image updated at \"./210215-053606-A_system_of_cells_interlinked_within_cells_interlinked_within_cells_interlinked_within_one_stem.png\"\n"
     ]
    },
    {
     "name": "stderr",
     "output_type": "stream",
     "text": [
      "\n",
      "loss: tensor([-28.8073], device='cuda:0', grad_fn=<AddBackward0>):  40%|████      | 121/300 [01:03<01:33,  1.92it/s]\u001b[A\n",
      "loss: tensor([-28.8073], device='cuda:0', grad_fn=<AddBackward0>):  41%|████      | 122/300 [01:03<01:32,  1.93it/s]\u001b[A"
     ]
    },
    {
     "name": "stdout",
     "output_type": "stream",
     "text": [
      "image updated at \"./210215-053606-A_system_of_cells_interlinked_within_cells_interlinked_within_cells_interlinked_within_one_stem.png\"\n"
     ]
    },
    {
     "name": "stderr",
     "output_type": "stream",
     "text": [
      "\n",
      "loss: tensor([-28.9900], device='cuda:0', grad_fn=<AddBackward0>):  41%|████      | 122/300 [01:03<01:32,  1.93it/s]\u001b[A\n",
      "loss: tensor([-28.9900], device='cuda:0', grad_fn=<AddBackward0>):  41%|████      | 123/300 [01:03<01:31,  1.93it/s]\u001b[A"
     ]
    },
    {
     "name": "stdout",
     "output_type": "stream",
     "text": [
      "image updated at \"./210215-053606-A_system_of_cells_interlinked_within_cells_interlinked_within_cells_interlinked_within_one_stem.png\"\n"
     ]
    },
    {
     "name": "stderr",
     "output_type": "stream",
     "text": [
      "\n",
      "loss: tensor([-28.9216], device='cuda:0', grad_fn=<AddBackward0>):  41%|████      | 123/300 [01:04<01:31,  1.93it/s]\u001b[A\n",
      "loss: tensor([-28.9216], device='cuda:0', grad_fn=<AddBackward0>):  41%|████▏     | 124/300 [01:04<01:30,  1.94it/s]\u001b[A"
     ]
    },
    {
     "name": "stdout",
     "output_type": "stream",
     "text": [
      "image updated at \"./210215-053606-A_system_of_cells_interlinked_within_cells_interlinked_within_cells_interlinked_within_one_stem.png\"\n"
     ]
    },
    {
     "name": "stderr",
     "output_type": "stream",
     "text": [
      "\n",
      "loss: tensor([-28.7265], device='cuda:0', grad_fn=<AddBackward0>):  41%|████▏     | 124/300 [01:04<01:30,  1.94it/s]\u001b[A\n",
      "loss: tensor([-28.7265], device='cuda:0', grad_fn=<AddBackward0>):  42%|████▏     | 125/300 [01:04<01:30,  1.94it/s]\u001b[A"
     ]
    },
    {
     "name": "stdout",
     "output_type": "stream",
     "text": [
      "image updated at \"./210215-053606-A_system_of_cells_interlinked_within_cells_interlinked_within_cells_interlinked_within_one_stem.png\"\n"
     ]
    },
    {
     "name": "stderr",
     "output_type": "stream",
     "text": [
      "\n",
      "loss: tensor([-28.7204], device='cuda:0', grad_fn=<AddBackward0>):  42%|████▏     | 125/300 [01:05<01:30,  1.94it/s]\u001b[A\n",
      "loss: tensor([-28.7204], device='cuda:0', grad_fn=<AddBackward0>):  42%|████▏     | 126/300 [01:05<01:29,  1.94it/s]\u001b[A"
     ]
    },
    {
     "name": "stdout",
     "output_type": "stream",
     "text": [
      "image updated at \"./210215-053606-A_system_of_cells_interlinked_within_cells_interlinked_within_cells_interlinked_within_one_stem.png\"\n"
     ]
    },
    {
     "name": "stderr",
     "output_type": "stream",
     "text": [
      "\n",
      "loss: tensor([-28.8220], device='cuda:0', grad_fn=<AddBackward0>):  42%|████▏     | 126/300 [01:05<01:29,  1.94it/s]\u001b[A\n",
      "loss: tensor([-28.8220], device='cuda:0', grad_fn=<AddBackward0>):  42%|████▏     | 127/300 [01:05<01:29,  1.94it/s]\u001b[A"
     ]
    },
    {
     "name": "stdout",
     "output_type": "stream",
     "text": [
      "image updated at \"./210215-053606-A_system_of_cells_interlinked_within_cells_interlinked_within_cells_interlinked_within_one_stem.png\"\n"
     ]
    },
    {
     "name": "stderr",
     "output_type": "stream",
     "text": [
      "\n",
      "loss: tensor([-28.7564], device='cuda:0', grad_fn=<AddBackward0>):  42%|████▏     | 127/300 [01:06<01:29,  1.94it/s]\u001b[A\n",
      "loss: tensor([-28.7564], device='cuda:0', grad_fn=<AddBackward0>):  43%|████▎     | 128/300 [01:06<01:28,  1.94it/s]\u001b[A"
     ]
    },
    {
     "name": "stdout",
     "output_type": "stream",
     "text": [
      "image updated at \"./210215-053606-A_system_of_cells_interlinked_within_cells_interlinked_within_cells_interlinked_within_one_stem.png\"\n"
     ]
    },
    {
     "name": "stderr",
     "output_type": "stream",
     "text": [
      "\n",
      "loss: tensor([-28.9100], device='cuda:0', grad_fn=<AddBackward0>):  43%|████▎     | 128/300 [01:06<01:28,  1.94it/s]\u001b[A\n",
      "loss: tensor([-28.9100], device='cuda:0', grad_fn=<AddBackward0>):  43%|████▎     | 129/300 [01:06<01:27,  1.95it/s]\u001b[A"
     ]
    },
    {
     "name": "stdout",
     "output_type": "stream",
     "text": [
      "image updated at \"./210215-053606-A_system_of_cells_interlinked_within_cells_interlinked_within_cells_interlinked_within_one_stem.png\"\n"
     ]
    },
    {
     "name": "stderr",
     "output_type": "stream",
     "text": [
      "\n",
      "loss: tensor([-28.7601], device='cuda:0', grad_fn=<AddBackward0>):  43%|████▎     | 129/300 [01:07<01:27,  1.95it/s]\u001b[A\n",
      "loss: tensor([-28.7601], device='cuda:0', grad_fn=<AddBackward0>):  43%|████▎     | 130/300 [01:07<01:27,  1.95it/s]\u001b[A"
     ]
    },
    {
     "name": "stdout",
     "output_type": "stream",
     "text": [
      "image updated at \"./210215-053606-A_system_of_cells_interlinked_within_cells_interlinked_within_cells_interlinked_within_one_stem.png\"\n"
     ]
    },
    {
     "name": "stderr",
     "output_type": "stream",
     "text": [
      "\n",
      "loss: tensor([-28.8784], device='cuda:0', grad_fn=<AddBackward0>):  43%|████▎     | 130/300 [01:07<01:27,  1.95it/s]\u001b[A\n",
      "loss: tensor([-28.8784], device='cuda:0', grad_fn=<AddBackward0>):  44%|████▎     | 131/300 [01:07<01:30,  1.87it/s]\u001b[A"
     ]
    },
    {
     "name": "stdout",
     "output_type": "stream",
     "text": [
      "image updated at \"./210215-053606-A_system_of_cells_interlinked_within_cells_interlinked_within_cells_interlinked_within_one_stem.png\"\n"
     ]
    },
    {
     "name": "stderr",
     "output_type": "stream",
     "text": [
      "\n",
      "loss: tensor([-28.9142], device='cuda:0', grad_fn=<AddBackward0>):  44%|████▎     | 131/300 [01:08<01:30,  1.87it/s]\u001b[A\n",
      "loss: tensor([-28.9142], device='cuda:0', grad_fn=<AddBackward0>):  44%|████▍     | 132/300 [01:08<01:30,  1.86it/s]\u001b[A"
     ]
    },
    {
     "name": "stdout",
     "output_type": "stream",
     "text": [
      "image updated at \"./210215-053606-A_system_of_cells_interlinked_within_cells_interlinked_within_cells_interlinked_within_one_stem.png\"\n"
     ]
    },
    {
     "name": "stderr",
     "output_type": "stream",
     "text": [
      "\n",
      "loss: tensor([-28.9517], device='cuda:0', grad_fn=<AddBackward0>):  44%|████▍     | 132/300 [01:08<01:30,  1.86it/s]\u001b[A\n",
      "loss: tensor([-28.9517], device='cuda:0', grad_fn=<AddBackward0>):  44%|████▍     | 133/300 [01:08<01:29,  1.87it/s]\u001b[A"
     ]
    },
    {
     "name": "stdout",
     "output_type": "stream",
     "text": [
      "image updated at \"./210215-053606-A_system_of_cells_interlinked_within_cells_interlinked_within_cells_interlinked_within_one_stem.png\"\n"
     ]
    },
    {
     "name": "stderr",
     "output_type": "stream",
     "text": [
      "\n",
      "loss: tensor([-29.1077], device='cuda:0', grad_fn=<AddBackward0>):  44%|████▍     | 133/300 [01:09<01:29,  1.87it/s]\u001b[A\n",
      "loss: tensor([-29.1077], device='cuda:0', grad_fn=<AddBackward0>):  45%|████▍     | 134/300 [01:09<01:27,  1.89it/s]\u001b[A"
     ]
    },
    {
     "name": "stdout",
     "output_type": "stream",
     "text": [
      "image updated at \"./210215-053606-A_system_of_cells_interlinked_within_cells_interlinked_within_cells_interlinked_within_one_stem.png\"\n"
     ]
    },
    {
     "name": "stderr",
     "output_type": "stream",
     "text": [
      "\n",
      "loss: tensor([-28.9146], device='cuda:0', grad_fn=<AddBackward0>):  45%|████▍     | 134/300 [01:10<01:27,  1.89it/s]\u001b[A\n",
      "loss: tensor([-28.9146], device='cuda:0', grad_fn=<AddBackward0>):  45%|████▌     | 135/300 [01:10<01:26,  1.91it/s]\u001b[A"
     ]
    },
    {
     "name": "stdout",
     "output_type": "stream",
     "text": [
      "image updated at \"./210215-053606-A_system_of_cells_interlinked_within_cells_interlinked_within_cells_interlinked_within_one_stem.png\"\n"
     ]
    },
    {
     "name": "stderr",
     "output_type": "stream",
     "text": [
      "\n",
      "loss: tensor([-28.8599], device='cuda:0', grad_fn=<AddBackward0>):  45%|████▌     | 135/300 [01:10<01:26,  1.91it/s]\u001b[A\n",
      "loss: tensor([-28.8599], device='cuda:0', grad_fn=<AddBackward0>):  45%|████▌     | 136/300 [01:10<01:25,  1.92it/s]\u001b[A"
     ]
    },
    {
     "name": "stdout",
     "output_type": "stream",
     "text": [
      "image updated at \"./210215-053606-A_system_of_cells_interlinked_within_cells_interlinked_within_cells_interlinked_within_one_stem.png\"\n"
     ]
    },
    {
     "name": "stderr",
     "output_type": "stream",
     "text": [
      "\n",
      "loss: tensor([-28.9522], device='cuda:0', grad_fn=<AddBackward0>):  45%|████▌     | 136/300 [01:11<01:25,  1.92it/s]\u001b[A\n",
      "loss: tensor([-28.9522], device='cuda:0', grad_fn=<AddBackward0>):  46%|████▌     | 137/300 [01:11<01:24,  1.93it/s]\u001b[A"
     ]
    },
    {
     "name": "stdout",
     "output_type": "stream",
     "text": [
      "image updated at \"./210215-053606-A_system_of_cells_interlinked_within_cells_interlinked_within_cells_interlinked_within_one_stem.png\"\n"
     ]
    },
    {
     "name": "stderr",
     "output_type": "stream",
     "text": [
      "\n",
      "loss: tensor([-28.9829], device='cuda:0', grad_fn=<AddBackward0>):  46%|████▌     | 137/300 [01:11<01:24,  1.93it/s]\u001b[A\n",
      "loss: tensor([-28.9829], device='cuda:0', grad_fn=<AddBackward0>):  46%|████▌     | 138/300 [01:11<01:23,  1.94it/s]\u001b[A"
     ]
    },
    {
     "name": "stdout",
     "output_type": "stream",
     "text": [
      "image updated at \"./210215-053606-A_system_of_cells_interlinked_within_cells_interlinked_within_cells_interlinked_within_one_stem.png\"\n"
     ]
    },
    {
     "name": "stderr",
     "output_type": "stream",
     "text": [
      "\n",
      "loss: tensor([-29.2345], device='cuda:0', grad_fn=<AddBackward0>):  46%|████▌     | 138/300 [01:12<01:23,  1.94it/s]\u001b[A\n",
      "loss: tensor([-29.2345], device='cuda:0', grad_fn=<AddBackward0>):  46%|████▋     | 139/300 [01:12<01:22,  1.95it/s]\u001b[A"
     ]
    },
    {
     "name": "stdout",
     "output_type": "stream",
     "text": [
      "image updated at \"./210215-053606-A_system_of_cells_interlinked_within_cells_interlinked_within_cells_interlinked_within_one_stem.png\"\n"
     ]
    },
    {
     "name": "stderr",
     "output_type": "stream",
     "text": [
      "\n",
      "loss: tensor([-28.9894], device='cuda:0', grad_fn=<AddBackward0>):  46%|████▋     | 139/300 [01:12<01:22,  1.95it/s]\u001b[A\n",
      "loss: tensor([-28.9894], device='cuda:0', grad_fn=<AddBackward0>):  47%|████▋     | 140/300 [01:12<01:23,  1.92it/s]\u001b[A"
     ]
    },
    {
     "name": "stdout",
     "output_type": "stream",
     "text": [
      "image updated at \"./210215-053606-A_system_of_cells_interlinked_within_cells_interlinked_within_cells_interlinked_within_one_stem.png\"\n"
     ]
    },
    {
     "name": "stderr",
     "output_type": "stream",
     "text": [
      "\n",
      "loss: tensor([-29.1460], device='cuda:0', grad_fn=<AddBackward0>):  47%|████▋     | 140/300 [01:13<01:23,  1.92it/s]\u001b[A\n",
      "loss: tensor([-29.1460], device='cuda:0', grad_fn=<AddBackward0>):  47%|████▋     | 141/300 [01:13<01:25,  1.85it/s]\u001b[A"
     ]
    },
    {
     "name": "stdout",
     "output_type": "stream",
     "text": [
      "image updated at \"./210215-053606-A_system_of_cells_interlinked_within_cells_interlinked_within_cells_interlinked_within_one_stem.png\"\n"
     ]
    },
    {
     "name": "stderr",
     "output_type": "stream",
     "text": [
      "\n",
      "loss: tensor([-29.2082], device='cuda:0', grad_fn=<AddBackward0>):  47%|████▋     | 141/300 [01:13<01:25,  1.85it/s]\u001b[A\n",
      "loss: tensor([-29.2082], device='cuda:0', grad_fn=<AddBackward0>):  47%|████▋     | 142/300 [01:13<01:31,  1.73it/s]\u001b[A"
     ]
    },
    {
     "name": "stdout",
     "output_type": "stream",
     "text": [
      "image updated at \"./210215-053606-A_system_of_cells_interlinked_within_cells_interlinked_within_cells_interlinked_within_one_stem.png\"\n"
     ]
    },
    {
     "name": "stderr",
     "output_type": "stream",
     "text": [
      "\n",
      "loss: tensor([-29.2979], device='cuda:0', grad_fn=<AddBackward0>):  47%|████▋     | 142/300 [01:14<01:31,  1.73it/s]\u001b[A\n",
      "loss: tensor([-29.2979], device='cuda:0', grad_fn=<AddBackward0>):  48%|████▊     | 143/300 [01:14<01:33,  1.68it/s]\u001b[A"
     ]
    },
    {
     "name": "stdout",
     "output_type": "stream",
     "text": [
      "image updated at \"./210215-053606-A_system_of_cells_interlinked_within_cells_interlinked_within_cells_interlinked_within_one_stem.png\"\n"
     ]
    },
    {
     "name": "stderr",
     "output_type": "stream",
     "text": [
      "\n",
      "loss: tensor([-29.2405], device='cuda:0', grad_fn=<AddBackward0>):  48%|████▊     | 143/300 [01:15<01:33,  1.68it/s]\u001b[A\n",
      "loss: tensor([-29.2405], device='cuda:0', grad_fn=<AddBackward0>):  48%|████▊     | 144/300 [01:15<01:29,  1.75it/s]\u001b[A"
     ]
    },
    {
     "name": "stdout",
     "output_type": "stream",
     "text": [
      "image updated at \"./210215-053606-A_system_of_cells_interlinked_within_cells_interlinked_within_cells_interlinked_within_one_stem.png\"\n"
     ]
    },
    {
     "name": "stderr",
     "output_type": "stream",
     "text": [
      "\n",
      "loss: tensor([-29.1122], device='cuda:0', grad_fn=<AddBackward0>):  48%|████▊     | 144/300 [01:15<01:29,  1.75it/s]\u001b[A\n",
      "loss: tensor([-29.1122], device='cuda:0', grad_fn=<AddBackward0>):  48%|████▊     | 145/300 [01:15<01:26,  1.79it/s]\u001b[A"
     ]
    },
    {
     "name": "stdout",
     "output_type": "stream",
     "text": [
      "image updated at \"./210215-053606-A_system_of_cells_interlinked_within_cells_interlinked_within_cells_interlinked_within_one_stem.png\"\n"
     ]
    },
    {
     "name": "stderr",
     "output_type": "stream",
     "text": [
      "\n",
      "loss: tensor([-29.0880], device='cuda:0', grad_fn=<AddBackward0>):  48%|████▊     | 145/300 [01:16<01:26,  1.79it/s]\u001b[A\n",
      "loss: tensor([-29.0880], device='cuda:0', grad_fn=<AddBackward0>):  49%|████▊     | 146/300 [01:16<01:24,  1.83it/s]\u001b[A"
     ]
    },
    {
     "name": "stdout",
     "output_type": "stream",
     "text": [
      "image updated at \"./210215-053606-A_system_of_cells_interlinked_within_cells_interlinked_within_cells_interlinked_within_one_stem.png\"\n"
     ]
    },
    {
     "name": "stderr",
     "output_type": "stream",
     "text": [
      "\n",
      "loss: tensor([-29.1231], device='cuda:0', grad_fn=<AddBackward0>):  49%|████▊     | 146/300 [01:16<01:24,  1.83it/s]\u001b[A\n",
      "loss: tensor([-29.1231], device='cuda:0', grad_fn=<AddBackward0>):  49%|████▉     | 147/300 [01:16<01:22,  1.86it/s]\u001b[A"
     ]
    },
    {
     "name": "stdout",
     "output_type": "stream",
     "text": [
      "image updated at \"./210215-053606-A_system_of_cells_interlinked_within_cells_interlinked_within_cells_interlinked_within_one_stem.png\"\n"
     ]
    },
    {
     "name": "stderr",
     "output_type": "stream",
     "text": [
      "\n",
      "loss: tensor([-29.3859], device='cuda:0', grad_fn=<AddBackward0>):  49%|████▉     | 147/300 [01:17<01:22,  1.86it/s]\u001b[A\n",
      "loss: tensor([-29.3859], device='cuda:0', grad_fn=<AddBackward0>):  49%|████▉     | 148/300 [01:17<01:20,  1.88it/s]\u001b[A"
     ]
    },
    {
     "name": "stdout",
     "output_type": "stream",
     "text": [
      "image updated at \"./210215-053606-A_system_of_cells_interlinked_within_cells_interlinked_within_cells_interlinked_within_one_stem.png\"\n"
     ]
    },
    {
     "name": "stderr",
     "output_type": "stream",
     "text": [
      "\n",
      "loss: tensor([-29.4410], device='cuda:0', grad_fn=<AddBackward0>):  49%|████▉     | 148/300 [01:17<01:20,  1.88it/s]\u001b[A\n",
      "loss: tensor([-29.4410], device='cuda:0', grad_fn=<AddBackward0>):  50%|████▉     | 149/300 [01:17<01:19,  1.89it/s]\u001b[A"
     ]
    },
    {
     "name": "stdout",
     "output_type": "stream",
     "text": [
      "image updated at \"./210215-053606-A_system_of_cells_interlinked_within_cells_interlinked_within_cells_interlinked_within_one_stem.png\"\n"
     ]
    },
    {
     "name": "stderr",
     "output_type": "stream",
     "text": [
      "\n",
      "loss: tensor([-29.3471], device='cuda:0', grad_fn=<AddBackward0>):  50%|████▉     | 149/300 [01:18<01:19,  1.89it/s]\u001b[A\n",
      "loss: tensor([-29.3471], device='cuda:0', grad_fn=<AddBackward0>):  50%|█████     | 150/300 [01:18<01:19,  1.89it/s]\u001b[A"
     ]
    },
    {
     "name": "stdout",
     "output_type": "stream",
     "text": [
      "image updated at \"./210215-053606-A_system_of_cells_interlinked_within_cells_interlinked_within_cells_interlinked_within_one_stem.png\"\n"
     ]
    },
    {
     "name": "stderr",
     "output_type": "stream",
     "text": [
      "\n",
      "loss: tensor([-29.4104], device='cuda:0', grad_fn=<AddBackward0>):  50%|█████     | 150/300 [01:18<01:19,  1.89it/s]\u001b[A\n",
      "loss: tensor([-29.4104], device='cuda:0', grad_fn=<AddBackward0>):  50%|█████     | 151/300 [01:18<01:18,  1.90it/s]\u001b[A"
     ]
    },
    {
     "name": "stdout",
     "output_type": "stream",
     "text": [
      "image updated at \"./210215-053606-A_system_of_cells_interlinked_within_cells_interlinked_within_cells_interlinked_within_one_stem.png\"\n"
     ]
    },
    {
     "name": "stderr",
     "output_type": "stream",
     "text": [
      "\n",
      "loss: tensor([-29.4179], device='cuda:0', grad_fn=<AddBackward0>):  50%|█████     | 151/300 [01:19<01:18,  1.90it/s]\u001b[A\n",
      "loss: tensor([-29.4179], device='cuda:0', grad_fn=<AddBackward0>):  51%|█████     | 152/300 [01:19<01:17,  1.91it/s]\u001b[A"
     ]
    },
    {
     "name": "stdout",
     "output_type": "stream",
     "text": [
      "image updated at \"./210215-053606-A_system_of_cells_interlinked_within_cells_interlinked_within_cells_interlinked_within_one_stem.png\"\n"
     ]
    },
    {
     "name": "stderr",
     "output_type": "stream",
     "text": [
      "\n",
      "loss: tensor([-29.5478], device='cuda:0', grad_fn=<AddBackward0>):  51%|█████     | 152/300 [01:19<01:17,  1.91it/s]\u001b[A\n",
      "loss: tensor([-29.5478], device='cuda:0', grad_fn=<AddBackward0>):  51%|█████     | 153/300 [01:19<01:16,  1.93it/s]\u001b[A"
     ]
    },
    {
     "name": "stdout",
     "output_type": "stream",
     "text": [
      "image updated at \"./210215-053606-A_system_of_cells_interlinked_within_cells_interlinked_within_cells_interlinked_within_one_stem.png\"\n"
     ]
    },
    {
     "name": "stderr",
     "output_type": "stream",
     "text": [
      "\n",
      "loss: tensor([-29.6101], device='cuda:0', grad_fn=<AddBackward0>):  51%|█████     | 153/300 [01:20<01:16,  1.93it/s]\u001b[A\n",
      "loss: tensor([-29.6101], device='cuda:0', grad_fn=<AddBackward0>):  51%|█████▏    | 154/300 [01:20<01:15,  1.93it/s]\u001b[A"
     ]
    },
    {
     "name": "stdout",
     "output_type": "stream",
     "text": [
      "image updated at \"./210215-053606-A_system_of_cells_interlinked_within_cells_interlinked_within_cells_interlinked_within_one_stem.png\"\n"
     ]
    },
    {
     "name": "stderr",
     "output_type": "stream",
     "text": [
      "\n",
      "loss: tensor([-29.6065], device='cuda:0', grad_fn=<AddBackward0>):  51%|█████▏    | 154/300 [01:20<01:15,  1.93it/s]\u001b[A\n",
      "loss: tensor([-29.6065], device='cuda:0', grad_fn=<AddBackward0>):  52%|█████▏    | 155/300 [01:20<01:15,  1.91it/s]\u001b[A"
     ]
    },
    {
     "name": "stdout",
     "output_type": "stream",
     "text": [
      "image updated at \"./210215-053606-A_system_of_cells_interlinked_within_cells_interlinked_within_cells_interlinked_within_one_stem.png\"\n"
     ]
    },
    {
     "name": "stderr",
     "output_type": "stream",
     "text": [
      "\n",
      "loss: tensor([-29.6115], device='cuda:0', grad_fn=<AddBackward0>):  52%|█████▏    | 155/300 [01:21<01:15,  1.91it/s]\u001b[A\n",
      "loss: tensor([-29.6115], device='cuda:0', grad_fn=<AddBackward0>):  52%|█████▏    | 156/300 [01:21<01:15,  1.90it/s]\u001b[A"
     ]
    },
    {
     "name": "stdout",
     "output_type": "stream",
     "text": [
      "image updated at \"./210215-053606-A_system_of_cells_interlinked_within_cells_interlinked_within_cells_interlinked_within_one_stem.png\"\n"
     ]
    },
    {
     "name": "stderr",
     "output_type": "stream",
     "text": [
      "\n",
      "loss: tensor([-29.4612], device='cuda:0', grad_fn=<AddBackward0>):  52%|█████▏    | 156/300 [01:21<01:15,  1.90it/s]\u001b[A\n",
      "loss: tensor([-29.4612], device='cuda:0', grad_fn=<AddBackward0>):  52%|█████▏    | 157/300 [01:21<01:15,  1.89it/s]\u001b[A"
     ]
    },
    {
     "name": "stdout",
     "output_type": "stream",
     "text": [
      "image updated at \"./210215-053606-A_system_of_cells_interlinked_within_cells_interlinked_within_cells_interlinked_within_one_stem.png\"\n"
     ]
    },
    {
     "name": "stderr",
     "output_type": "stream",
     "text": [
      "\n",
      "loss: tensor([-29.4780], device='cuda:0', grad_fn=<AddBackward0>):  52%|█████▏    | 157/300 [01:22<01:15,  1.89it/s]\u001b[A\n",
      "loss: tensor([-29.4780], device='cuda:0', grad_fn=<AddBackward0>):  53%|█████▎    | 158/300 [01:22<01:14,  1.90it/s]\u001b[A"
     ]
    },
    {
     "name": "stdout",
     "output_type": "stream",
     "text": [
      "image updated at \"./210215-053606-A_system_of_cells_interlinked_within_cells_interlinked_within_cells_interlinked_within_one_stem.png\"\n"
     ]
    },
    {
     "name": "stderr",
     "output_type": "stream",
     "text": [
      "\n",
      "loss: tensor([-29.6017], device='cuda:0', grad_fn=<AddBackward0>):  53%|█████▎    | 158/300 [01:22<01:14,  1.90it/s]\u001b[A\n",
      "loss: tensor([-29.6017], device='cuda:0', grad_fn=<AddBackward0>):  53%|█████▎    | 159/300 [01:22<01:15,  1.86it/s]\u001b[A"
     ]
    },
    {
     "name": "stdout",
     "output_type": "stream",
     "text": [
      "image updated at \"./210215-053606-A_system_of_cells_interlinked_within_cells_interlinked_within_cells_interlinked_within_one_stem.png\"\n"
     ]
    },
    {
     "name": "stderr",
     "output_type": "stream",
     "text": [
      "\n",
      "loss: tensor([-29.5169], device='cuda:0', grad_fn=<AddBackward0>):  53%|█████▎    | 159/300 [01:23<01:15,  1.86it/s]\u001b[A\n",
      "loss: tensor([-29.5169], device='cuda:0', grad_fn=<AddBackward0>):  53%|█████▎    | 160/300 [01:23<01:14,  1.88it/s]\u001b[A"
     ]
    },
    {
     "name": "stdout",
     "output_type": "stream",
     "text": [
      "image updated at \"./210215-053606-A_system_of_cells_interlinked_within_cells_interlinked_within_cells_interlinked_within_one_stem.png\"\n"
     ]
    },
    {
     "name": "stderr",
     "output_type": "stream",
     "text": [
      "\n",
      "loss: tensor([-29.4859], device='cuda:0', grad_fn=<AddBackward0>):  53%|█████▎    | 160/300 [01:23<01:14,  1.88it/s]\u001b[A\n",
      "loss: tensor([-29.4859], device='cuda:0', grad_fn=<AddBackward0>):  54%|█████▎    | 161/300 [01:23<01:13,  1.90it/s]\u001b[A"
     ]
    },
    {
     "name": "stdout",
     "output_type": "stream",
     "text": [
      "image updated at \"./210215-053606-A_system_of_cells_interlinked_within_cells_interlinked_within_cells_interlinked_within_one_stem.png\"\n"
     ]
    },
    {
     "name": "stderr",
     "output_type": "stream",
     "text": [
      "\n",
      "loss: tensor([-29.5107], device='cuda:0', grad_fn=<AddBackward0>):  54%|█████▎    | 161/300 [01:24<01:13,  1.90it/s]\u001b[A\n",
      "loss: tensor([-29.5107], device='cuda:0', grad_fn=<AddBackward0>):  54%|█████▍    | 162/300 [01:24<01:12,  1.90it/s]\u001b[A"
     ]
    },
    {
     "name": "stdout",
     "output_type": "stream",
     "text": [
      "image updated at \"./210215-053606-A_system_of_cells_interlinked_within_cells_interlinked_within_cells_interlinked_within_one_stem.png\"\n"
     ]
    },
    {
     "name": "stderr",
     "output_type": "stream",
     "text": [
      "\n",
      "loss: tensor([-29.6361], device='cuda:0', grad_fn=<AddBackward0>):  54%|█████▍    | 162/300 [01:24<01:12,  1.90it/s]\u001b[A\n",
      "loss: tensor([-29.6361], device='cuda:0', grad_fn=<AddBackward0>):  54%|█████▍    | 163/300 [01:24<01:12,  1.90it/s]\u001b[A"
     ]
    },
    {
     "name": "stdout",
     "output_type": "stream",
     "text": [
      "image updated at \"./210215-053606-A_system_of_cells_interlinked_within_cells_interlinked_within_cells_interlinked_within_one_stem.png\"\n"
     ]
    },
    {
     "name": "stderr",
     "output_type": "stream",
     "text": [
      "\n",
      "loss: tensor([-29.6074], device='cuda:0', grad_fn=<AddBackward0>):  54%|█████▍    | 163/300 [01:25<01:12,  1.90it/s]\u001b[A\n",
      "loss: tensor([-29.6074], device='cuda:0', grad_fn=<AddBackward0>):  55%|█████▍    | 164/300 [01:25<01:11,  1.90it/s]\u001b[A"
     ]
    },
    {
     "name": "stdout",
     "output_type": "stream",
     "text": [
      "image updated at \"./210215-053606-A_system_of_cells_interlinked_within_cells_interlinked_within_cells_interlinked_within_one_stem.png\"\n"
     ]
    },
    {
     "name": "stderr",
     "output_type": "stream",
     "text": [
      "\n",
      "loss: tensor([-29.6371], device='cuda:0', grad_fn=<AddBackward0>):  55%|█████▍    | 164/300 [01:26<01:11,  1.90it/s]\u001b[A\n",
      "loss: tensor([-29.6371], device='cuda:0', grad_fn=<AddBackward0>):  55%|█████▌    | 165/300 [01:26<01:10,  1.92it/s]\u001b[A"
     ]
    },
    {
     "name": "stdout",
     "output_type": "stream",
     "text": [
      "image updated at \"./210215-053606-A_system_of_cells_interlinked_within_cells_interlinked_within_cells_interlinked_within_one_stem.png\"\n"
     ]
    },
    {
     "name": "stderr",
     "output_type": "stream",
     "text": [
      "\n",
      "loss: tensor([-29.6939], device='cuda:0', grad_fn=<AddBackward0>):  55%|█████▌    | 165/300 [01:26<01:10,  1.92it/s]\u001b[A\n",
      "loss: tensor([-29.6939], device='cuda:0', grad_fn=<AddBackward0>):  55%|█████▌    | 166/300 [01:26<01:09,  1.93it/s]\u001b[A"
     ]
    },
    {
     "name": "stdout",
     "output_type": "stream",
     "text": [
      "image updated at \"./210215-053606-A_system_of_cells_interlinked_within_cells_interlinked_within_cells_interlinked_within_one_stem.png\"\n"
     ]
    },
    {
     "name": "stderr",
     "output_type": "stream",
     "text": [
      "\n",
      "loss: tensor([-29.5684], device='cuda:0', grad_fn=<AddBackward0>):  55%|█████▌    | 166/300 [01:27<01:09,  1.93it/s]\u001b[A\n",
      "loss: tensor([-29.5684], device='cuda:0', grad_fn=<AddBackward0>):  56%|█████▌    | 167/300 [01:27<01:08,  1.93it/s]\u001b[A"
     ]
    },
    {
     "name": "stdout",
     "output_type": "stream",
     "text": [
      "image updated at \"./210215-053606-A_system_of_cells_interlinked_within_cells_interlinked_within_cells_interlinked_within_one_stem.png\"\n"
     ]
    },
    {
     "name": "stderr",
     "output_type": "stream",
     "text": [
      "\n",
      "loss: tensor([-29.5133], device='cuda:0', grad_fn=<AddBackward0>):  56%|█████▌    | 167/300 [01:27<01:08,  1.93it/s]\u001b[A\n",
      "loss: tensor([-29.5133], device='cuda:0', grad_fn=<AddBackward0>):  56%|█████▌    | 168/300 [01:27<01:08,  1.93it/s]\u001b[A"
     ]
    },
    {
     "name": "stdout",
     "output_type": "stream",
     "text": [
      "image updated at \"./210215-053606-A_system_of_cells_interlinked_within_cells_interlinked_within_cells_interlinked_within_one_stem.png\"\n"
     ]
    },
    {
     "name": "stderr",
     "output_type": "stream",
     "text": [
      "\n",
      "loss: tensor([-29.6647], device='cuda:0', grad_fn=<AddBackward0>):  56%|█████▌    | 168/300 [01:28<01:08,  1.93it/s]\u001b[A\n",
      "loss: tensor([-29.6647], device='cuda:0', grad_fn=<AddBackward0>):  56%|█████▋    | 169/300 [01:28<01:08,  1.92it/s]\u001b[A"
     ]
    },
    {
     "name": "stdout",
     "output_type": "stream",
     "text": [
      "image updated at \"./210215-053606-A_system_of_cells_interlinked_within_cells_interlinked_within_cells_interlinked_within_one_stem.png\"\n"
     ]
    },
    {
     "name": "stderr",
     "output_type": "stream",
     "text": [
      "\n",
      "loss: tensor([-29.5460], device='cuda:0', grad_fn=<AddBackward0>):  56%|█████▋    | 169/300 [01:28<01:08,  1.92it/s]\u001b[A\n",
      "loss: tensor([-29.5460], device='cuda:0', grad_fn=<AddBackward0>):  57%|█████▋    | 170/300 [01:28<01:07,  1.92it/s]\u001b[A"
     ]
    },
    {
     "name": "stdout",
     "output_type": "stream",
     "text": [
      "image updated at \"./210215-053606-A_system_of_cells_interlinked_within_cells_interlinked_within_cells_interlinked_within_one_stem.png\"\n"
     ]
    },
    {
     "name": "stderr",
     "output_type": "stream",
     "text": [
      "\n",
      "loss: tensor([-29.7310], device='cuda:0', grad_fn=<AddBackward0>):  57%|█████▋    | 170/300 [01:29<01:07,  1.92it/s]\u001b[A\n",
      "loss: tensor([-29.7310], device='cuda:0', grad_fn=<AddBackward0>):  57%|█████▋    | 171/300 [01:29<01:07,  1.92it/s]\u001b[A"
     ]
    },
    {
     "name": "stdout",
     "output_type": "stream",
     "text": [
      "image updated at \"./210215-053606-A_system_of_cells_interlinked_within_cells_interlinked_within_cells_interlinked_within_one_stem.png\"\n"
     ]
    },
    {
     "name": "stderr",
     "output_type": "stream",
     "text": [
      "\n",
      "loss: tensor([-29.8149], device='cuda:0', grad_fn=<AddBackward0>):  57%|█████▋    | 171/300 [01:29<01:07,  1.92it/s]\u001b[A\n",
      "loss: tensor([-29.8149], device='cuda:0', grad_fn=<AddBackward0>):  57%|█████▋    | 172/300 [01:29<01:06,  1.92it/s]\u001b[A"
     ]
    },
    {
     "name": "stdout",
     "output_type": "stream",
     "text": [
      "image updated at \"./210215-053606-A_system_of_cells_interlinked_within_cells_interlinked_within_cells_interlinked_within_one_stem.png\"\n"
     ]
    },
    {
     "name": "stderr",
     "output_type": "stream",
     "text": [
      "\n",
      "loss: tensor([-29.5996], device='cuda:0', grad_fn=<AddBackward0>):  57%|█████▋    | 172/300 [01:30<01:06,  1.92it/s]\u001b[A\n",
      "loss: tensor([-29.5996], device='cuda:0', grad_fn=<AddBackward0>):  58%|█████▊    | 173/300 [01:30<01:05,  1.93it/s]\u001b[A"
     ]
    },
    {
     "name": "stdout",
     "output_type": "stream",
     "text": [
      "image updated at \"./210215-053606-A_system_of_cells_interlinked_within_cells_interlinked_within_cells_interlinked_within_one_stem.png\"\n"
     ]
    },
    {
     "name": "stderr",
     "output_type": "stream",
     "text": [
      "\n",
      "loss: tensor([-29.4174], device='cuda:0', grad_fn=<AddBackward0>):  58%|█████▊    | 173/300 [01:30<01:05,  1.93it/s]\u001b[A\n",
      "loss: tensor([-29.4174], device='cuda:0', grad_fn=<AddBackward0>):  58%|█████▊    | 174/300 [01:30<01:05,  1.93it/s]\u001b[A"
     ]
    },
    {
     "name": "stdout",
     "output_type": "stream",
     "text": [
      "image updated at \"./210215-053606-A_system_of_cells_interlinked_within_cells_interlinked_within_cells_interlinked_within_one_stem.png\"\n"
     ]
    },
    {
     "name": "stderr",
     "output_type": "stream",
     "text": [
      "\n",
      "loss: tensor([-29.6412], device='cuda:0', grad_fn=<AddBackward0>):  58%|█████▊    | 174/300 [01:31<01:05,  1.93it/s]\u001b[A\n",
      "loss: tensor([-29.6412], device='cuda:0', grad_fn=<AddBackward0>):  58%|█████▊    | 175/300 [01:31<01:04,  1.93it/s]\u001b[A"
     ]
    },
    {
     "name": "stdout",
     "output_type": "stream",
     "text": [
      "image updated at \"./210215-053606-A_system_of_cells_interlinked_within_cells_interlinked_within_cells_interlinked_within_one_stem.png\"\n"
     ]
    },
    {
     "name": "stderr",
     "output_type": "stream",
     "text": [
      "\n",
      "loss: tensor([-29.7040], device='cuda:0', grad_fn=<AddBackward0>):  58%|█████▊    | 175/300 [01:31<01:04,  1.93it/s]\u001b[A\n",
      "loss: tensor([-29.7040], device='cuda:0', grad_fn=<AddBackward0>):  59%|█████▊    | 176/300 [01:31<01:04,  1.93it/s]\u001b[A"
     ]
    },
    {
     "name": "stdout",
     "output_type": "stream",
     "text": [
      "image updated at \"./210215-053606-A_system_of_cells_interlinked_within_cells_interlinked_within_cells_interlinked_within_one_stem.png\"\n"
     ]
    },
    {
     "name": "stderr",
     "output_type": "stream",
     "text": [
      "\n",
      "loss: tensor([-29.3897], device='cuda:0', grad_fn=<AddBackward0>):  59%|█████▊    | 176/300 [01:32<01:04,  1.93it/s]\u001b[A\n",
      "loss: tensor([-29.3897], device='cuda:0', grad_fn=<AddBackward0>):  59%|█████▉    | 177/300 [01:32<01:03,  1.93it/s]\u001b[A"
     ]
    },
    {
     "name": "stdout",
     "output_type": "stream",
     "text": [
      "image updated at \"./210215-053606-A_system_of_cells_interlinked_within_cells_interlinked_within_cells_interlinked_within_one_stem.png\"\n"
     ]
    },
    {
     "name": "stderr",
     "output_type": "stream",
     "text": [
      "\n",
      "loss: tensor([-29.7266], device='cuda:0', grad_fn=<AddBackward0>):  59%|█████▉    | 177/300 [01:32<01:03,  1.93it/s]\u001b[A\n",
      "loss: tensor([-29.7266], device='cuda:0', grad_fn=<AddBackward0>):  59%|█████▉    | 178/300 [01:32<01:02,  1.94it/s]\u001b[A"
     ]
    },
    {
     "name": "stdout",
     "output_type": "stream",
     "text": [
      "image updated at \"./210215-053606-A_system_of_cells_interlinked_within_cells_interlinked_within_cells_interlinked_within_one_stem.png\"\n"
     ]
    },
    {
     "name": "stderr",
     "output_type": "stream",
     "text": [
      "\n",
      "loss: tensor([-29.6095], device='cuda:0', grad_fn=<AddBackward0>):  59%|█████▉    | 178/300 [01:33<01:02,  1.94it/s]\u001b[A\n",
      "loss: tensor([-29.6095], device='cuda:0', grad_fn=<AddBackward0>):  60%|█████▉    | 179/300 [01:33<01:02,  1.94it/s]\u001b[A"
     ]
    },
    {
     "name": "stdout",
     "output_type": "stream",
     "text": [
      "image updated at \"./210215-053606-A_system_of_cells_interlinked_within_cells_interlinked_within_cells_interlinked_within_one_stem.png\"\n"
     ]
    },
    {
     "name": "stderr",
     "output_type": "stream",
     "text": [
      "\n",
      "loss: tensor([-29.3902], device='cuda:0', grad_fn=<AddBackward0>):  60%|█████▉    | 179/300 [01:33<01:02,  1.94it/s]\u001b[A\n",
      "loss: tensor([-29.3902], device='cuda:0', grad_fn=<AddBackward0>):  60%|██████    | 180/300 [01:33<01:02,  1.93it/s]\u001b[A"
     ]
    },
    {
     "name": "stdout",
     "output_type": "stream",
     "text": [
      "image updated at \"./210215-053606-A_system_of_cells_interlinked_within_cells_interlinked_within_cells_interlinked_within_one_stem.png\"\n"
     ]
    },
    {
     "name": "stderr",
     "output_type": "stream",
     "text": [
      "\n",
      "loss: tensor([-29.6390], device='cuda:0', grad_fn=<AddBackward0>):  60%|██████    | 180/300 [01:34<01:02,  1.93it/s]\u001b[A\n",
      "loss: tensor([-29.6390], device='cuda:0', grad_fn=<AddBackward0>):  60%|██████    | 181/300 [01:34<01:01,  1.94it/s]\u001b[A"
     ]
    },
    {
     "name": "stdout",
     "output_type": "stream",
     "text": [
      "image updated at \"./210215-053606-A_system_of_cells_interlinked_within_cells_interlinked_within_cells_interlinked_within_one_stem.png\"\n"
     ]
    },
    {
     "name": "stderr",
     "output_type": "stream",
     "text": [
      "\n",
      "loss: tensor([-29.6969], device='cuda:0', grad_fn=<AddBackward0>):  60%|██████    | 181/300 [01:34<01:01,  1.94it/s]\u001b[A\n",
      "loss: tensor([-29.6969], device='cuda:0', grad_fn=<AddBackward0>):  61%|██████    | 182/300 [01:34<01:00,  1.94it/s]\u001b[A"
     ]
    },
    {
     "name": "stdout",
     "output_type": "stream",
     "text": [
      "image updated at \"./210215-053606-A_system_of_cells_interlinked_within_cells_interlinked_within_cells_interlinked_within_one_stem.png\"\n"
     ]
    },
    {
     "name": "stderr",
     "output_type": "stream",
     "text": [
      "\n",
      "loss: tensor([-29.5035], device='cuda:0', grad_fn=<AddBackward0>):  61%|██████    | 182/300 [01:35<01:00,  1.94it/s]\u001b[A\n",
      "loss: tensor([-29.5035], device='cuda:0', grad_fn=<AddBackward0>):  61%|██████    | 183/300 [01:35<01:00,  1.93it/s]\u001b[A"
     ]
    },
    {
     "name": "stdout",
     "output_type": "stream",
     "text": [
      "image updated at \"./210215-053606-A_system_of_cells_interlinked_within_cells_interlinked_within_cells_interlinked_within_one_stem.png\"\n"
     ]
    },
    {
     "name": "stderr",
     "output_type": "stream",
     "text": [
      "\n",
      "loss: tensor([-29.5261], device='cuda:0', grad_fn=<AddBackward0>):  61%|██████    | 183/300 [01:35<01:00,  1.93it/s]\u001b[A\n",
      "loss: tensor([-29.5261], device='cuda:0', grad_fn=<AddBackward0>):  61%|██████▏   | 184/300 [01:35<00:59,  1.94it/s]\u001b[A"
     ]
    },
    {
     "name": "stdout",
     "output_type": "stream",
     "text": [
      "image updated at \"./210215-053606-A_system_of_cells_interlinked_within_cells_interlinked_within_cells_interlinked_within_one_stem.png\"\n"
     ]
    },
    {
     "name": "stderr",
     "output_type": "stream",
     "text": [
      "\n",
      "loss: tensor([-29.4206], device='cuda:0', grad_fn=<AddBackward0>):  61%|██████▏   | 184/300 [01:36<00:59,  1.94it/s]\u001b[A\n",
      "loss: tensor([-29.4206], device='cuda:0', grad_fn=<AddBackward0>):  62%|██████▏   | 185/300 [01:36<00:58,  1.95it/s]\u001b[A"
     ]
    },
    {
     "name": "stdout",
     "output_type": "stream",
     "text": [
      "image updated at \"./210215-053606-A_system_of_cells_interlinked_within_cells_interlinked_within_cells_interlinked_within_one_stem.png\"\n"
     ]
    },
    {
     "name": "stderr",
     "output_type": "stream",
     "text": [
      "\n",
      "loss: tensor([-29.3928], device='cuda:0', grad_fn=<AddBackward0>):  62%|██████▏   | 185/300 [01:36<00:58,  1.95it/s]\u001b[A\n",
      "loss: tensor([-29.3928], device='cuda:0', grad_fn=<AddBackward0>):  62%|██████▏   | 186/300 [01:36<00:58,  1.96it/s]\u001b[A"
     ]
    },
    {
     "name": "stdout",
     "output_type": "stream",
     "text": [
      "image updated at \"./210215-053606-A_system_of_cells_interlinked_within_cells_interlinked_within_cells_interlinked_within_one_stem.png\"\n"
     ]
    },
    {
     "name": "stderr",
     "output_type": "stream",
     "text": [
      "\n",
      "loss: tensor([-29.4951], device='cuda:0', grad_fn=<AddBackward0>):  62%|██████▏   | 186/300 [01:37<00:58,  1.96it/s]\u001b[A\n",
      "loss: tensor([-29.4951], device='cuda:0', grad_fn=<AddBackward0>):  62%|██████▏   | 187/300 [01:37<00:57,  1.97it/s]\u001b[A"
     ]
    },
    {
     "name": "stdout",
     "output_type": "stream",
     "text": [
      "image updated at \"./210215-053606-A_system_of_cells_interlinked_within_cells_interlinked_within_cells_interlinked_within_one_stem.png\"\n"
     ]
    },
    {
     "name": "stderr",
     "output_type": "stream",
     "text": [
      "\n",
      "loss: tensor([-29.6422], device='cuda:0', grad_fn=<AddBackward0>):  62%|██████▏   | 187/300 [01:37<00:57,  1.97it/s]\u001b[A\n",
      "loss: tensor([-29.6422], device='cuda:0', grad_fn=<AddBackward0>):  63%|██████▎   | 188/300 [01:37<00:57,  1.94it/s]\u001b[A"
     ]
    },
    {
     "name": "stdout",
     "output_type": "stream",
     "text": [
      "image updated at \"./210215-053606-A_system_of_cells_interlinked_within_cells_interlinked_within_cells_interlinked_within_one_stem.png\"\n"
     ]
    },
    {
     "name": "stderr",
     "output_type": "stream",
     "text": [
      "\n",
      "loss: tensor([-29.4793], device='cuda:0', grad_fn=<AddBackward0>):  63%|██████▎   | 188/300 [01:38<00:57,  1.94it/s]\u001b[A\n",
      "loss: tensor([-29.4793], device='cuda:0', grad_fn=<AddBackward0>):  63%|██████▎   | 189/300 [01:38<00:59,  1.87it/s]\u001b[A"
     ]
    },
    {
     "name": "stdout",
     "output_type": "stream",
     "text": [
      "image updated at \"./210215-053606-A_system_of_cells_interlinked_within_cells_interlinked_within_cells_interlinked_within_one_stem.png\"\n"
     ]
    },
    {
     "name": "stderr",
     "output_type": "stream",
     "text": [
      "\n",
      "loss: tensor([-29.3632], device='cuda:0', grad_fn=<AddBackward0>):  63%|██████▎   | 189/300 [01:39<00:59,  1.87it/s]\u001b[A\n",
      "loss: tensor([-29.3632], device='cuda:0', grad_fn=<AddBackward0>):  63%|██████▎   | 190/300 [01:39<01:02,  1.76it/s]\u001b[A"
     ]
    },
    {
     "name": "stdout",
     "output_type": "stream",
     "text": [
      "image updated at \"./210215-053606-A_system_of_cells_interlinked_within_cells_interlinked_within_cells_interlinked_within_one_stem.png\"\n"
     ]
    },
    {
     "name": "stderr",
     "output_type": "stream",
     "text": [
      "\n",
      "loss: tensor([-29.6447], device='cuda:0', grad_fn=<AddBackward0>):  63%|██████▎   | 190/300 [01:39<01:02,  1.76it/s]\u001b[A\n",
      "loss: tensor([-29.6447], device='cuda:0', grad_fn=<AddBackward0>):  64%|██████▎   | 191/300 [01:39<01:00,  1.80it/s]\u001b[A"
     ]
    },
    {
     "name": "stdout",
     "output_type": "stream",
     "text": [
      "image updated at \"./210215-053606-A_system_of_cells_interlinked_within_cells_interlinked_within_cells_interlinked_within_one_stem.png\"\n"
     ]
    },
    {
     "name": "stderr",
     "output_type": "stream",
     "text": [
      "\n",
      "loss: tensor([-29.7025], device='cuda:0', grad_fn=<AddBackward0>):  64%|██████▎   | 191/300 [01:40<01:00,  1.80it/s]\u001b[A\n",
      "loss: tensor([-29.7025], device='cuda:0', grad_fn=<AddBackward0>):  64%|██████▍   | 192/300 [01:40<00:58,  1.83it/s]\u001b[A"
     ]
    },
    {
     "name": "stdout",
     "output_type": "stream",
     "text": [
      "image updated at \"./210215-053606-A_system_of_cells_interlinked_within_cells_interlinked_within_cells_interlinked_within_one_stem.png\"\n"
     ]
    },
    {
     "name": "stderr",
     "output_type": "stream",
     "text": [
      "\n",
      "loss: tensor([-29.7648], device='cuda:0', grad_fn=<AddBackward0>):  64%|██████▍   | 192/300 [01:40<00:58,  1.83it/s]\u001b[A\n",
      "loss: tensor([-29.7648], device='cuda:0', grad_fn=<AddBackward0>):  64%|██████▍   | 193/300 [01:40<00:57,  1.85it/s]\u001b[A"
     ]
    },
    {
     "name": "stdout",
     "output_type": "stream",
     "text": [
      "image updated at \"./210215-053606-A_system_of_cells_interlinked_within_cells_interlinked_within_cells_interlinked_within_one_stem.png\"\n"
     ]
    },
    {
     "name": "stderr",
     "output_type": "stream",
     "text": [
      "\n",
      "loss: tensor([-29.3062], device='cuda:0', grad_fn=<AddBackward0>):  64%|██████▍   | 193/300 [01:41<00:57,  1.85it/s]\u001b[A\n",
      "loss: tensor([-29.3062], device='cuda:0', grad_fn=<AddBackward0>):  65%|██████▍   | 194/300 [01:41<00:56,  1.87it/s]\u001b[A"
     ]
    },
    {
     "name": "stdout",
     "output_type": "stream",
     "text": [
      "image updated at \"./210215-053606-A_system_of_cells_interlinked_within_cells_interlinked_within_cells_interlinked_within_one_stem.png\"\n"
     ]
    },
    {
     "name": "stderr",
     "output_type": "stream",
     "text": [
      "\n",
      "loss: tensor([-29.4916], device='cuda:0', grad_fn=<AddBackward0>):  65%|██████▍   | 194/300 [01:41<00:56,  1.87it/s]\u001b[A\n",
      "loss: tensor([-29.4916], device='cuda:0', grad_fn=<AddBackward0>):  65%|██████▌   | 195/300 [01:41<00:55,  1.89it/s]\u001b[A"
     ]
    },
    {
     "name": "stdout",
     "output_type": "stream",
     "text": [
      "image updated at \"./210215-053606-A_system_of_cells_interlinked_within_cells_interlinked_within_cells_interlinked_within_one_stem.png\"\n"
     ]
    },
    {
     "name": "stderr",
     "output_type": "stream",
     "text": [
      "\n",
      "loss: tensor([-29.7986], device='cuda:0', grad_fn=<AddBackward0>):  65%|██████▌   | 195/300 [01:42<00:55,  1.89it/s]\u001b[A\n",
      "loss: tensor([-29.7986], device='cuda:0', grad_fn=<AddBackward0>):  65%|██████▌   | 196/300 [01:42<00:54,  1.91it/s]\u001b[A"
     ]
    },
    {
     "name": "stdout",
     "output_type": "stream",
     "text": [
      "image updated at \"./210215-053606-A_system_of_cells_interlinked_within_cells_interlinked_within_cells_interlinked_within_one_stem.png\"\n"
     ]
    },
    {
     "name": "stderr",
     "output_type": "stream",
     "text": [
      "\n",
      "loss: tensor([-29.7379], device='cuda:0', grad_fn=<AddBackward0>):  65%|██████▌   | 196/300 [01:42<00:54,  1.91it/s]\u001b[A\n",
      "loss: tensor([-29.7379], device='cuda:0', grad_fn=<AddBackward0>):  66%|██████▌   | 197/300 [01:42<00:53,  1.91it/s]\u001b[A"
     ]
    },
    {
     "name": "stdout",
     "output_type": "stream",
     "text": [
      "image updated at \"./210215-053606-A_system_of_cells_interlinked_within_cells_interlinked_within_cells_interlinked_within_one_stem.png\"\n"
     ]
    },
    {
     "name": "stderr",
     "output_type": "stream",
     "text": [
      "\n",
      "loss: tensor([-29.9281], device='cuda:0', grad_fn=<AddBackward0>):  66%|██████▌   | 197/300 [01:43<00:53,  1.91it/s]\u001b[A\n",
      "loss: tensor([-29.9281], device='cuda:0', grad_fn=<AddBackward0>):  66%|██████▌   | 198/300 [01:43<00:53,  1.92it/s]\u001b[A"
     ]
    },
    {
     "name": "stdout",
     "output_type": "stream",
     "text": [
      "image updated at \"./210215-053606-A_system_of_cells_interlinked_within_cells_interlinked_within_cells_interlinked_within_one_stem.png\"\n"
     ]
    },
    {
     "name": "stderr",
     "output_type": "stream",
     "text": [
      "\n",
      "loss: tensor([-29.7110], device='cuda:0', grad_fn=<AddBackward0>):  66%|██████▌   | 198/300 [01:43<00:53,  1.92it/s]\u001b[A\n",
      "loss: tensor([-29.7110], device='cuda:0', grad_fn=<AddBackward0>):  66%|██████▋   | 199/300 [01:43<00:52,  1.93it/s]\u001b[A"
     ]
    },
    {
     "name": "stdout",
     "output_type": "stream",
     "text": [
      "image updated at \"./210215-053606-A_system_of_cells_interlinked_within_cells_interlinked_within_cells_interlinked_within_one_stem.png\"\n"
     ]
    },
    {
     "name": "stderr",
     "output_type": "stream",
     "text": [
      "\n",
      "loss: tensor([-29.8074], device='cuda:0', grad_fn=<AddBackward0>):  66%|██████▋   | 199/300 [01:44<00:52,  1.93it/s]\u001b[A\n",
      "loss: tensor([-29.8074], device='cuda:0', grad_fn=<AddBackward0>):  67%|██████▋   | 200/300 [01:44<00:51,  1.93it/s]\u001b[A"
     ]
    },
    {
     "name": "stdout",
     "output_type": "stream",
     "text": [
      "image updated at \"./210215-053606-A_system_of_cells_interlinked_within_cells_interlinked_within_cells_interlinked_within_one_stem.png\"\n"
     ]
    },
    {
     "name": "stderr",
     "output_type": "stream",
     "text": [
      "\n",
      "loss: tensor([-29.9344], device='cuda:0', grad_fn=<AddBackward0>):  67%|██████▋   | 200/300 [01:44<00:51,  1.93it/s]\u001b[A\n",
      "loss: tensor([-29.9344], device='cuda:0', grad_fn=<AddBackward0>):  67%|██████▋   | 201/300 [01:44<00:51,  1.93it/s]\u001b[A"
     ]
    },
    {
     "name": "stdout",
     "output_type": "stream",
     "text": [
      "image updated at \"./210215-053606-A_system_of_cells_interlinked_within_cells_interlinked_within_cells_interlinked_within_one_stem.png\"\n"
     ]
    },
    {
     "name": "stderr",
     "output_type": "stream",
     "text": [
      "\n",
      "loss: tensor([-29.8649], device='cuda:0', grad_fn=<AddBackward0>):  67%|██████▋   | 201/300 [01:45<00:51,  1.93it/s]\u001b[A\n",
      "loss: tensor([-29.8649], device='cuda:0', grad_fn=<AddBackward0>):  67%|██████▋   | 202/300 [01:45<00:50,  1.94it/s]\u001b[A"
     ]
    },
    {
     "name": "stdout",
     "output_type": "stream",
     "text": [
      "image updated at \"./210215-053606-A_system_of_cells_interlinked_within_cells_interlinked_within_cells_interlinked_within_one_stem.png\"\n"
     ]
    },
    {
     "name": "stderr",
     "output_type": "stream",
     "text": [
      "\n",
      "loss: tensor([-29.8112], device='cuda:0', grad_fn=<AddBackward0>):  67%|██████▋   | 202/300 [01:45<00:50,  1.94it/s]\u001b[A\n",
      "loss: tensor([-29.8112], device='cuda:0', grad_fn=<AddBackward0>):  68%|██████▊   | 203/300 [01:45<00:49,  1.95it/s]\u001b[A"
     ]
    },
    {
     "name": "stdout",
     "output_type": "stream",
     "text": [
      "image updated at \"./210215-053606-A_system_of_cells_interlinked_within_cells_interlinked_within_cells_interlinked_within_one_stem.png\"\n"
     ]
    },
    {
     "name": "stderr",
     "output_type": "stream",
     "text": [
      "\n",
      "loss: tensor([-29.9357], device='cuda:0', grad_fn=<AddBackward0>):  68%|██████▊   | 203/300 [01:46<00:49,  1.95it/s]\u001b[A\n",
      "loss: tensor([-29.9357], device='cuda:0', grad_fn=<AddBackward0>):  68%|██████▊   | 204/300 [01:46<00:49,  1.95it/s]\u001b[A"
     ]
    },
    {
     "name": "stdout",
     "output_type": "stream",
     "text": [
      "image updated at \"./210215-053606-A_system_of_cells_interlinked_within_cells_interlinked_within_cells_interlinked_within_one_stem.png\"\n"
     ]
    },
    {
     "name": "stderr",
     "output_type": "stream",
     "text": [
      "\n",
      "loss: tensor([-29.9981], device='cuda:0', grad_fn=<AddBackward0>):  68%|██████▊   | 204/300 [01:46<00:49,  1.95it/s]\u001b[A\n",
      "loss: tensor([-29.9981], device='cuda:0', grad_fn=<AddBackward0>):  68%|██████▊   | 205/300 [01:46<00:48,  1.95it/s]\u001b[A"
     ]
    },
    {
     "name": "stdout",
     "output_type": "stream",
     "text": [
      "image updated at \"./210215-053606-A_system_of_cells_interlinked_within_cells_interlinked_within_cells_interlinked_within_one_stem.png\"\n"
     ]
    },
    {
     "name": "stderr",
     "output_type": "stream",
     "text": [
      "\n",
      "loss: tensor([-30.0667], device='cuda:0', grad_fn=<AddBackward0>):  68%|██████▊   | 205/300 [01:47<00:48,  1.95it/s]\u001b[A\n",
      "loss: tensor([-30.0667], device='cuda:0', grad_fn=<AddBackward0>):  69%|██████▊   | 206/300 [01:47<00:48,  1.95it/s]\u001b[A"
     ]
    },
    {
     "name": "stdout",
     "output_type": "stream",
     "text": [
      "image updated at \"./210215-053606-A_system_of_cells_interlinked_within_cells_interlinked_within_cells_interlinked_within_one_stem.png\"\n"
     ]
    },
    {
     "name": "stderr",
     "output_type": "stream",
     "text": [
      "\n",
      "loss: tensor([-29.8516], device='cuda:0', grad_fn=<AddBackward0>):  69%|██████▊   | 206/300 [01:47<00:48,  1.95it/s]\u001b[A\n",
      "loss: tensor([-29.8516], device='cuda:0', grad_fn=<AddBackward0>):  69%|██████▉   | 207/300 [01:47<00:47,  1.96it/s]\u001b[A"
     ]
    },
    {
     "name": "stdout",
     "output_type": "stream",
     "text": [
      "image updated at \"./210215-053606-A_system_of_cells_interlinked_within_cells_interlinked_within_cells_interlinked_within_one_stem.png\"\n"
     ]
    },
    {
     "name": "stderr",
     "output_type": "stream",
     "text": [
      "\n",
      "loss: tensor([-29.9500], device='cuda:0', grad_fn=<AddBackward0>):  69%|██████▉   | 207/300 [01:48<00:47,  1.96it/s]\u001b[A\n",
      "loss: tensor([-29.9500], device='cuda:0', grad_fn=<AddBackward0>):  69%|██████▉   | 208/300 [01:48<00:47,  1.95it/s]\u001b[A"
     ]
    },
    {
     "name": "stdout",
     "output_type": "stream",
     "text": [
      "image updated at \"./210215-053606-A_system_of_cells_interlinked_within_cells_interlinked_within_cells_interlinked_within_one_stem.png\"\n"
     ]
    },
    {
     "name": "stderr",
     "output_type": "stream",
     "text": [
      "\n",
      "loss: tensor([-29.8872], device='cuda:0', grad_fn=<AddBackward0>):  69%|██████▉   | 208/300 [01:48<00:47,  1.95it/s]\u001b[A\n",
      "loss: tensor([-29.8872], device='cuda:0', grad_fn=<AddBackward0>):  70%|██████▉   | 209/300 [01:48<00:46,  1.95it/s]\u001b[A"
     ]
    },
    {
     "name": "stdout",
     "output_type": "stream",
     "text": [
      "image updated at \"./210215-053606-A_system_of_cells_interlinked_within_cells_interlinked_within_cells_interlinked_within_one_stem.png\"\n"
     ]
    },
    {
     "name": "stderr",
     "output_type": "stream",
     "text": [
      "\n",
      "loss: tensor([-29.9801], device='cuda:0', grad_fn=<AddBackward0>):  70%|██████▉   | 209/300 [01:49<00:46,  1.95it/s]\u001b[A\n",
      "loss: tensor([-29.9801], device='cuda:0', grad_fn=<AddBackward0>):  70%|███████   | 210/300 [01:49<00:46,  1.93it/s]\u001b[A"
     ]
    },
    {
     "name": "stdout",
     "output_type": "stream",
     "text": [
      "image updated at \"./210215-053606-A_system_of_cells_interlinked_within_cells_interlinked_within_cells_interlinked_within_one_stem.png\"\n"
     ]
    },
    {
     "name": "stderr",
     "output_type": "stream",
     "text": [
      "\n",
      "loss: tensor([-30.0056], device='cuda:0', grad_fn=<AddBackward0>):  70%|███████   | 210/300 [01:49<00:46,  1.93it/s]\u001b[A\n",
      "loss: tensor([-30.0056], device='cuda:0', grad_fn=<AddBackward0>):  70%|███████   | 211/300 [01:49<00:46,  1.92it/s]\u001b[A"
     ]
    },
    {
     "name": "stdout",
     "output_type": "stream",
     "text": [
      "image updated at \"./210215-053606-A_system_of_cells_interlinked_within_cells_interlinked_within_cells_interlinked_within_one_stem.png\"\n"
     ]
    },
    {
     "name": "stderr",
     "output_type": "stream",
     "text": [
      "\n",
      "loss: tensor([-29.7531], device='cuda:0', grad_fn=<AddBackward0>):  70%|███████   | 211/300 [01:50<00:46,  1.92it/s]\u001b[A\n",
      "loss: tensor([-29.7531], device='cuda:0', grad_fn=<AddBackward0>):  71%|███████   | 212/300 [01:50<00:45,  1.92it/s]\u001b[A"
     ]
    },
    {
     "name": "stdout",
     "output_type": "stream",
     "text": [
      "image updated at \"./210215-053606-A_system_of_cells_interlinked_within_cells_interlinked_within_cells_interlinked_within_one_stem.png\"\n"
     ]
    },
    {
     "name": "stderr",
     "output_type": "stream",
     "text": [
      "\n",
      "loss: tensor([-29.7244], device='cuda:0', grad_fn=<AddBackward0>):  71%|███████   | 212/300 [01:51<00:45,  1.92it/s]\u001b[A\n",
      "loss: tensor([-29.7244], device='cuda:0', grad_fn=<AddBackward0>):  71%|███████   | 213/300 [01:51<00:45,  1.90it/s]\u001b[A"
     ]
    },
    {
     "name": "stdout",
     "output_type": "stream",
     "text": [
      "image updated at \"./210215-053606-A_system_of_cells_interlinked_within_cells_interlinked_within_cells_interlinked_within_one_stem.png\"\n"
     ]
    },
    {
     "name": "stderr",
     "output_type": "stream",
     "text": [
      "\n",
      "loss: tensor([-29.7311], device='cuda:0', grad_fn=<AddBackward0>):  71%|███████   | 213/300 [01:51<00:45,  1.90it/s]\u001b[A\n",
      "loss: tensor([-29.7311], device='cuda:0', grad_fn=<AddBackward0>):  71%|███████▏  | 214/300 [01:51<00:45,  1.90it/s]\u001b[A"
     ]
    },
    {
     "name": "stdout",
     "output_type": "stream",
     "text": [
      "image updated at \"./210215-053606-A_system_of_cells_interlinked_within_cells_interlinked_within_cells_interlinked_within_one_stem.png\"\n"
     ]
    },
    {
     "name": "stderr",
     "output_type": "stream",
     "text": [
      "\n",
      "loss: tensor([-29.9231], device='cuda:0', grad_fn=<AddBackward0>):  71%|███████▏  | 214/300 [01:52<00:45,  1.90it/s]\u001b[A\n",
      "loss: tensor([-29.9231], device='cuda:0', grad_fn=<AddBackward0>):  72%|███████▏  | 215/300 [01:52<00:45,  1.88it/s]\u001b[A"
     ]
    },
    {
     "name": "stdout",
     "output_type": "stream",
     "text": [
      "image updated at \"./210215-053606-A_system_of_cells_interlinked_within_cells_interlinked_within_cells_interlinked_within_one_stem.png\"\n"
     ]
    },
    {
     "name": "stderr",
     "output_type": "stream",
     "text": [
      "\n",
      "loss: tensor([-29.8257], device='cuda:0', grad_fn=<AddBackward0>):  72%|███████▏  | 215/300 [01:52<00:45,  1.88it/s]\u001b[A\n",
      "loss: tensor([-29.8257], device='cuda:0', grad_fn=<AddBackward0>):  72%|███████▏  | 216/300 [01:52<00:44,  1.87it/s]\u001b[A"
     ]
    },
    {
     "name": "stdout",
     "output_type": "stream",
     "text": [
      "image updated at \"./210215-053606-A_system_of_cells_interlinked_within_cells_interlinked_within_cells_interlinked_within_one_stem.png\"\n"
     ]
    },
    {
     "name": "stderr",
     "output_type": "stream",
     "text": [
      "\n",
      "loss: tensor([-30.0037], device='cuda:0', grad_fn=<AddBackward0>):  72%|███████▏  | 216/300 [01:53<00:44,  1.87it/s]\u001b[A\n",
      "loss: tensor([-30.0037], device='cuda:0', grad_fn=<AddBackward0>):  72%|███████▏  | 217/300 [01:53<00:44,  1.87it/s]\u001b[A"
     ]
    },
    {
     "name": "stdout",
     "output_type": "stream",
     "text": [
      "image updated at \"./210215-053606-A_system_of_cells_interlinked_within_cells_interlinked_within_cells_interlinked_within_one_stem.png\"\n"
     ]
    },
    {
     "name": "stderr",
     "output_type": "stream",
     "text": [
      "\n",
      "loss: tensor([-30.0090], device='cuda:0', grad_fn=<AddBackward0>):  72%|███████▏  | 217/300 [01:53<00:44,  1.87it/s]\u001b[A\n",
      "loss: tensor([-30.0090], device='cuda:0', grad_fn=<AddBackward0>):  73%|███████▎  | 218/300 [01:53<00:43,  1.87it/s]\u001b[A"
     ]
    },
    {
     "name": "stdout",
     "output_type": "stream",
     "text": [
      "image updated at \"./210215-053606-A_system_of_cells_interlinked_within_cells_interlinked_within_cells_interlinked_within_one_stem.png\"\n"
     ]
    },
    {
     "name": "stderr",
     "output_type": "stream",
     "text": [
      "\n",
      "loss: tensor([-30.2889], device='cuda:0', grad_fn=<AddBackward0>):  73%|███████▎  | 218/300 [01:54<00:43,  1.87it/s]\u001b[A\n",
      "loss: tensor([-30.2889], device='cuda:0', grad_fn=<AddBackward0>):  73%|███████▎  | 219/300 [01:54<00:42,  1.89it/s]\u001b[A"
     ]
    },
    {
     "name": "stdout",
     "output_type": "stream",
     "text": [
      "image updated at \"./210215-053606-A_system_of_cells_interlinked_within_cells_interlinked_within_cells_interlinked_within_one_stem.png\"\n"
     ]
    },
    {
     "name": "stderr",
     "output_type": "stream",
     "text": [
      "\n",
      "loss: tensor([-29.8163], device='cuda:0', grad_fn=<AddBackward0>):  73%|███████▎  | 219/300 [01:54<00:42,  1.89it/s]\u001b[A\n",
      "loss: tensor([-29.8163], device='cuda:0', grad_fn=<AddBackward0>):  73%|███████▎  | 220/300 [01:54<00:41,  1.91it/s]\u001b[A"
     ]
    },
    {
     "name": "stdout",
     "output_type": "stream",
     "text": [
      "image updated at \"./210215-053606-A_system_of_cells_interlinked_within_cells_interlinked_within_cells_interlinked_within_one_stem.png\"\n"
     ]
    },
    {
     "name": "stderr",
     "output_type": "stream",
     "text": [
      "\n",
      "loss: tensor([-30.1483], device='cuda:0', grad_fn=<AddBackward0>):  73%|███████▎  | 220/300 [01:55<00:41,  1.91it/s]\u001b[A\n",
      "loss: tensor([-30.1483], device='cuda:0', grad_fn=<AddBackward0>):  74%|███████▎  | 221/300 [01:55<00:41,  1.91it/s]\u001b[A"
     ]
    },
    {
     "name": "stdout",
     "output_type": "stream",
     "text": [
      "image updated at \"./210215-053606-A_system_of_cells_interlinked_within_cells_interlinked_within_cells_interlinked_within_one_stem.png\"\n"
     ]
    },
    {
     "name": "stderr",
     "output_type": "stream",
     "text": [
      "\n",
      "loss: tensor([-30.1911], device='cuda:0', grad_fn=<AddBackward0>):  74%|███████▎  | 221/300 [01:55<00:41,  1.91it/s]\u001b[A\n",
      "loss: tensor([-30.1911], device='cuda:0', grad_fn=<AddBackward0>):  74%|███████▍  | 222/300 [01:55<00:41,  1.90it/s]\u001b[A"
     ]
    },
    {
     "name": "stdout",
     "output_type": "stream",
     "text": [
      "image updated at \"./210215-053606-A_system_of_cells_interlinked_within_cells_interlinked_within_cells_interlinked_within_one_stem.png\"\n"
     ]
    },
    {
     "name": "stderr",
     "output_type": "stream",
     "text": [
      "\n",
      "loss: tensor([-29.9775], device='cuda:0', grad_fn=<AddBackward0>):  74%|███████▍  | 222/300 [01:56<00:41,  1.90it/s]\u001b[A\n",
      "loss: tensor([-29.9775], device='cuda:0', grad_fn=<AddBackward0>):  74%|███████▍  | 223/300 [01:56<00:40,  1.91it/s]\u001b[A"
     ]
    },
    {
     "name": "stdout",
     "output_type": "stream",
     "text": [
      "image updated at \"./210215-053606-A_system_of_cells_interlinked_within_cells_interlinked_within_cells_interlinked_within_one_stem.png\"\n"
     ]
    },
    {
     "name": "stderr",
     "output_type": "stream",
     "text": [
      "\n",
      "loss: tensor([-30.0681], device='cuda:0', grad_fn=<AddBackward0>):  74%|███████▍  | 223/300 [01:56<00:40,  1.91it/s]\u001b[A\n",
      "loss: tensor([-30.0681], device='cuda:0', grad_fn=<AddBackward0>):  75%|███████▍  | 224/300 [01:56<00:39,  1.91it/s]\u001b[A"
     ]
    },
    {
     "name": "stdout",
     "output_type": "stream",
     "text": [
      "image updated at \"./210215-053606-A_system_of_cells_interlinked_within_cells_interlinked_within_cells_interlinked_within_one_stem.png\"\n"
     ]
    },
    {
     "name": "stderr",
     "output_type": "stream",
     "text": [
      "\n",
      "loss: tensor([-30.3512], device='cuda:0', grad_fn=<AddBackward0>):  75%|███████▍  | 224/300 [01:57<00:39,  1.91it/s]\u001b[A\n",
      "loss: tensor([-30.3512], device='cuda:0', grad_fn=<AddBackward0>):  75%|███████▌  | 225/300 [01:57<00:39,  1.92it/s]\u001b[A"
     ]
    },
    {
     "name": "stdout",
     "output_type": "stream",
     "text": [
      "image updated at \"./210215-053606-A_system_of_cells_interlinked_within_cells_interlinked_within_cells_interlinked_within_one_stem.png\"\n"
     ]
    },
    {
     "name": "stderr",
     "output_type": "stream",
     "text": [
      "\n",
      "loss: tensor([-30.0777], device='cuda:0', grad_fn=<AddBackward0>):  75%|███████▌  | 225/300 [01:57<00:39,  1.92it/s]\u001b[A\n",
      "loss: tensor([-30.0777], device='cuda:0', grad_fn=<AddBackward0>):  75%|███████▌  | 226/300 [01:57<00:38,  1.93it/s]\u001b[A"
     ]
    },
    {
     "name": "stdout",
     "output_type": "stream",
     "text": [
      "image updated at \"./210215-053606-A_system_of_cells_interlinked_within_cells_interlinked_within_cells_interlinked_within_one_stem.png\"\n"
     ]
    },
    {
     "name": "stderr",
     "output_type": "stream",
     "text": [
      "\n",
      "loss: tensor([-30.3054], device='cuda:0', grad_fn=<AddBackward0>):  75%|███████▌  | 226/300 [01:58<00:38,  1.93it/s]\u001b[A\n",
      "loss: tensor([-30.3054], device='cuda:0', grad_fn=<AddBackward0>):  76%|███████▌  | 227/300 [01:58<00:37,  1.94it/s]\u001b[A"
     ]
    },
    {
     "name": "stdout",
     "output_type": "stream",
     "text": [
      "image updated at \"./210215-053606-A_system_of_cells_interlinked_within_cells_interlinked_within_cells_interlinked_within_one_stem.png\"\n"
     ]
    },
    {
     "name": "stderr",
     "output_type": "stream",
     "text": [
      "\n",
      "loss: tensor([-30.2672], device='cuda:0', grad_fn=<AddBackward0>):  76%|███████▌  | 227/300 [01:58<00:37,  1.94it/s]\u001b[A\n",
      "loss: tensor([-30.2672], device='cuda:0', grad_fn=<AddBackward0>):  76%|███████▌  | 228/300 [01:58<00:37,  1.94it/s]\u001b[A"
     ]
    },
    {
     "name": "stdout",
     "output_type": "stream",
     "text": [
      "image updated at \"./210215-053606-A_system_of_cells_interlinked_within_cells_interlinked_within_cells_interlinked_within_one_stem.png\"\n"
     ]
    },
    {
     "name": "stderr",
     "output_type": "stream",
     "text": [
      "\n",
      "loss: tensor([-29.8217], device='cuda:0', grad_fn=<AddBackward0>):  76%|███████▌  | 228/300 [01:59<00:37,  1.94it/s]\u001b[A\n",
      "loss: tensor([-29.8217], device='cuda:0', grad_fn=<AddBackward0>):  76%|███████▋  | 229/300 [01:59<00:36,  1.92it/s]\u001b[A"
     ]
    },
    {
     "name": "stdout",
     "output_type": "stream",
     "text": [
      "image updated at \"./210215-053606-A_system_of_cells_interlinked_within_cells_interlinked_within_cells_interlinked_within_one_stem.png\"\n"
     ]
    },
    {
     "name": "stderr",
     "output_type": "stream",
     "text": [
      "\n",
      "loss: tensor([-30.5201], device='cuda:0', grad_fn=<AddBackward0>):  76%|███████▋  | 229/300 [02:00<00:36,  1.92it/s]\u001b[A\n",
      "loss: tensor([-30.5201], device='cuda:0', grad_fn=<AddBackward0>):  77%|███████▋  | 230/300 [02:00<00:39,  1.78it/s]\u001b[A"
     ]
    },
    {
     "name": "stdout",
     "output_type": "stream",
     "text": [
      "image updated at \"./210215-053606-A_system_of_cells_interlinked_within_cells_interlinked_within_cells_interlinked_within_one_stem.png\"\n"
     ]
    },
    {
     "name": "stderr",
     "output_type": "stream",
     "text": [
      "\n",
      "loss: tensor([-30.2410], device='cuda:0', grad_fn=<AddBackward0>):  77%|███████▋  | 230/300 [02:00<00:39,  1.78it/s]\u001b[A\n",
      "loss: tensor([-30.2410], device='cuda:0', grad_fn=<AddBackward0>):  77%|███████▋  | 231/300 [02:00<00:38,  1.78it/s]\u001b[A"
     ]
    },
    {
     "name": "stdout",
     "output_type": "stream",
     "text": [
      "image updated at \"./210215-053606-A_system_of_cells_interlinked_within_cells_interlinked_within_cells_interlinked_within_one_stem.png\"\n"
     ]
    },
    {
     "name": "stderr",
     "output_type": "stream",
     "text": [
      "\n",
      "loss: tensor([-30.2442], device='cuda:0', grad_fn=<AddBackward0>):  77%|███████▋  | 231/300 [02:01<00:38,  1.78it/s]\u001b[A\n",
      "loss: tensor([-30.2442], device='cuda:0', grad_fn=<AddBackward0>):  77%|███████▋  | 232/300 [02:01<00:37,  1.80it/s]\u001b[A"
     ]
    },
    {
     "name": "stdout",
     "output_type": "stream",
     "text": [
      "image updated at \"./210215-053606-A_system_of_cells_interlinked_within_cells_interlinked_within_cells_interlinked_within_one_stem.png\"\n"
     ]
    },
    {
     "name": "stderr",
     "output_type": "stream",
     "text": [
      "\n",
      "loss: tensor([-30.2446], device='cuda:0', grad_fn=<AddBackward0>):  77%|███████▋  | 232/300 [02:01<00:37,  1.80it/s]\u001b[A\n",
      "loss: tensor([-30.2446], device='cuda:0', grad_fn=<AddBackward0>):  78%|███████▊  | 233/300 [02:01<00:40,  1.66it/s]\u001b[A"
     ]
    },
    {
     "name": "stdout",
     "output_type": "stream",
     "text": [
      "image updated at \"./210215-053606-A_system_of_cells_interlinked_within_cells_interlinked_within_cells_interlinked_within_one_stem.png\"\n"
     ]
    },
    {
     "name": "stderr",
     "output_type": "stream",
     "text": [
      "\n",
      "loss: tensor([-30.4617], device='cuda:0', grad_fn=<AddBackward0>):  78%|███████▊  | 233/300 [02:02<00:40,  1.66it/s]\u001b[A\n",
      "loss: tensor([-30.4617], device='cuda:0', grad_fn=<AddBackward0>):  78%|███████▊  | 234/300 [02:02<00:38,  1.73it/s]\u001b[A"
     ]
    },
    {
     "name": "stdout",
     "output_type": "stream",
     "text": [
      "image updated at \"./210215-053606-A_system_of_cells_interlinked_within_cells_interlinked_within_cells_interlinked_within_one_stem.png\"\n"
     ]
    },
    {
     "name": "stderr",
     "output_type": "stream",
     "text": [
      "\n",
      "loss: tensor([-30.4301], device='cuda:0', grad_fn=<AddBackward0>):  78%|███████▊  | 234/300 [02:02<00:38,  1.73it/s]\u001b[A\n",
      "loss: tensor([-30.4301], device='cuda:0', grad_fn=<AddBackward0>):  78%|███████▊  | 235/300 [02:02<00:36,  1.78it/s]\u001b[A"
     ]
    },
    {
     "name": "stdout",
     "output_type": "stream",
     "text": [
      "image updated at \"./210215-053606-A_system_of_cells_interlinked_within_cells_interlinked_within_cells_interlinked_within_one_stem.png\"\n"
     ]
    },
    {
     "name": "stderr",
     "output_type": "stream",
     "text": [
      "\n",
      "loss: tensor([-30.3381], device='cuda:0', grad_fn=<AddBackward0>):  78%|███████▊  | 235/300 [02:03<00:36,  1.78it/s]\u001b[A\n",
      "loss: tensor([-30.3381], device='cuda:0', grad_fn=<AddBackward0>):  79%|███████▊  | 236/300 [02:03<00:35,  1.81it/s]\u001b[A"
     ]
    },
    {
     "name": "stdout",
     "output_type": "stream",
     "text": [
      "image updated at \"./210215-053606-A_system_of_cells_interlinked_within_cells_interlinked_within_cells_interlinked_within_one_stem.png\"\n"
     ]
    },
    {
     "name": "stderr",
     "output_type": "stream",
     "text": [
      "\n",
      "loss: tensor([-30.3956], device='cuda:0', grad_fn=<AddBackward0>):  79%|███████▊  | 236/300 [02:03<00:35,  1.81it/s]\u001b[A\n",
      "loss: tensor([-30.3956], device='cuda:0', grad_fn=<AddBackward0>):  79%|███████▉  | 237/300 [02:03<00:34,  1.84it/s]\u001b[A"
     ]
    },
    {
     "name": "stdout",
     "output_type": "stream",
     "text": [
      "image updated at \"./210215-053606-A_system_of_cells_interlinked_within_cells_interlinked_within_cells_interlinked_within_one_stem.png\"\n"
     ]
    },
    {
     "name": "stderr",
     "output_type": "stream",
     "text": [
      "\n",
      "loss: tensor([-30.5507], device='cuda:0', grad_fn=<AddBackward0>):  79%|███████▉  | 237/300 [02:04<00:34,  1.84it/s]\u001b[A\n",
      "loss: tensor([-30.5507], device='cuda:0', grad_fn=<AddBackward0>):  79%|███████▉  | 238/300 [02:04<00:35,  1.75it/s]\u001b[A"
     ]
    },
    {
     "name": "stdout",
     "output_type": "stream",
     "text": [
      "image updated at \"./210215-053606-A_system_of_cells_interlinked_within_cells_interlinked_within_cells_interlinked_within_one_stem.png\"\n"
     ]
    },
    {
     "name": "stderr",
     "output_type": "stream",
     "text": [
      "\n",
      "loss: tensor([-30.5219], device='cuda:0', grad_fn=<AddBackward0>):  79%|███████▉  | 238/300 [02:05<00:35,  1.75it/s]\u001b[A\n",
      "loss: tensor([-30.5219], device='cuda:0', grad_fn=<AddBackward0>):  80%|███████▉  | 239/300 [02:05<00:33,  1.80it/s]\u001b[A"
     ]
    },
    {
     "name": "stdout",
     "output_type": "stream",
     "text": [
      "image updated at \"./210215-053606-A_system_of_cells_interlinked_within_cells_interlinked_within_cells_interlinked_within_one_stem.png\"\n"
     ]
    },
    {
     "name": "stderr",
     "output_type": "stream",
     "text": [
      "\n",
      "loss: tensor([-30.6064], device='cuda:0', grad_fn=<AddBackward0>):  80%|███████▉  | 239/300 [02:05<00:33,  1.80it/s]\u001b[A\n",
      "loss: tensor([-30.6064], device='cuda:0', grad_fn=<AddBackward0>):  80%|████████  | 240/300 [02:05<00:35,  1.71it/s]\u001b[A"
     ]
    },
    {
     "name": "stdout",
     "output_type": "stream",
     "text": [
      "image updated at \"./210215-053606-A_system_of_cells_interlinked_within_cells_interlinked_within_cells_interlinked_within_one_stem.png\"\n"
     ]
    },
    {
     "name": "stderr",
     "output_type": "stream",
     "text": [
      "\n",
      "loss: tensor([-30.3903], device='cuda:0', grad_fn=<AddBackward0>):  80%|████████  | 240/300 [02:06<00:35,  1.71it/s]\u001b[A\n",
      "loss: tensor([-30.3903], device='cuda:0', grad_fn=<AddBackward0>):  80%|████████  | 241/300 [02:06<00:33,  1.77it/s]\u001b[A"
     ]
    },
    {
     "name": "stdout",
     "output_type": "stream",
     "text": [
      "image updated at \"./210215-053606-A_system_of_cells_interlinked_within_cells_interlinked_within_cells_interlinked_within_one_stem.png\"\n"
     ]
    },
    {
     "name": "stderr",
     "output_type": "stream",
     "text": [
      "\n",
      "loss: tensor([-30.5266], device='cuda:0', grad_fn=<AddBackward0>):  80%|████████  | 241/300 [02:06<00:33,  1.77it/s]\u001b[A\n",
      "loss: tensor([-30.5266], device='cuda:0', grad_fn=<AddBackward0>):  81%|████████  | 242/300 [02:06<00:31,  1.83it/s]\u001b[A"
     ]
    },
    {
     "name": "stdout",
     "output_type": "stream",
     "text": [
      "image updated at \"./210215-053606-A_system_of_cells_interlinked_within_cells_interlinked_within_cells_interlinked_within_one_stem.png\"\n"
     ]
    },
    {
     "name": "stderr",
     "output_type": "stream",
     "text": [
      "\n",
      "loss: tensor([-30.5877], device='cuda:0', grad_fn=<AddBackward0>):  81%|████████  | 242/300 [02:07<00:31,  1.83it/s]\u001b[A\n",
      "loss: tensor([-30.5877], device='cuda:0', grad_fn=<AddBackward0>):  81%|████████  | 243/300 [02:07<00:30,  1.86it/s]\u001b[A"
     ]
    },
    {
     "name": "stdout",
     "output_type": "stream",
     "text": [
      "image updated at \"./210215-053606-A_system_of_cells_interlinked_within_cells_interlinked_within_cells_interlinked_within_one_stem.png\"\n"
     ]
    },
    {
     "name": "stderr",
     "output_type": "stream",
     "text": [
      "\n",
      "loss: tensor([-30.6221], device='cuda:0', grad_fn=<AddBackward0>):  81%|████████  | 243/300 [02:07<00:30,  1.86it/s]\u001b[A\n",
      "loss: tensor([-30.6221], device='cuda:0', grad_fn=<AddBackward0>):  81%|████████▏ | 244/300 [02:07<00:29,  1.89it/s]\u001b[A"
     ]
    },
    {
     "name": "stdout",
     "output_type": "stream",
     "text": [
      "image updated at \"./210215-053606-A_system_of_cells_interlinked_within_cells_interlinked_within_cells_interlinked_within_one_stem.png\"\n"
     ]
    },
    {
     "name": "stderr",
     "output_type": "stream",
     "text": [
      "\n",
      "loss: tensor([-30.5349], device='cuda:0', grad_fn=<AddBackward0>):  81%|████████▏ | 244/300 [02:08<00:29,  1.89it/s]\u001b[A\n",
      "loss: tensor([-30.5349], device='cuda:0', grad_fn=<AddBackward0>):  82%|████████▏ | 245/300 [02:08<00:28,  1.91it/s]\u001b[A"
     ]
    },
    {
     "name": "stdout",
     "output_type": "stream",
     "text": [
      "image updated at \"./210215-053606-A_system_of_cells_interlinked_within_cells_interlinked_within_cells_interlinked_within_one_stem.png\"\n"
     ]
    },
    {
     "name": "stderr",
     "output_type": "stream",
     "text": [
      "\n",
      "loss: tensor([-30.4772], device='cuda:0', grad_fn=<AddBackward0>):  82%|████████▏ | 245/300 [02:08<00:28,  1.91it/s]\u001b[A\n",
      "loss: tensor([-30.4772], device='cuda:0', grad_fn=<AddBackward0>):  82%|████████▏ | 246/300 [02:08<00:28,  1.91it/s]\u001b[A"
     ]
    },
    {
     "name": "stdout",
     "output_type": "stream",
     "text": [
      "image updated at \"./210215-053606-A_system_of_cells_interlinked_within_cells_interlinked_within_cells_interlinked_within_one_stem.png\"\n"
     ]
    },
    {
     "name": "stderr",
     "output_type": "stream",
     "text": [
      "\n",
      "loss: tensor([-30.4082], device='cuda:0', grad_fn=<AddBackward0>):  82%|████████▏ | 246/300 [02:09<00:28,  1.91it/s]\u001b[A\n",
      "loss: tensor([-30.4082], device='cuda:0', grad_fn=<AddBackward0>):  82%|████████▏ | 247/300 [02:09<00:27,  1.89it/s]\u001b[A"
     ]
    },
    {
     "name": "stdout",
     "output_type": "stream",
     "text": [
      "image updated at \"./210215-053606-A_system_of_cells_interlinked_within_cells_interlinked_within_cells_interlinked_within_one_stem.png\"\n"
     ]
    },
    {
     "name": "stderr",
     "output_type": "stream",
     "text": [
      "\n",
      "loss: tensor([-30.5038], device='cuda:0', grad_fn=<AddBackward0>):  82%|████████▏ | 247/300 [02:09<00:27,  1.89it/s]\u001b[A\n",
      "loss: tensor([-30.5038], device='cuda:0', grad_fn=<AddBackward0>):  83%|████████▎ | 248/300 [02:09<00:27,  1.90it/s]\u001b[A"
     ]
    },
    {
     "name": "stdout",
     "output_type": "stream",
     "text": [
      "image updated at \"./210215-053606-A_system_of_cells_interlinked_within_cells_interlinked_within_cells_interlinked_within_one_stem.png\"\n"
     ]
    },
    {
     "name": "stderr",
     "output_type": "stream",
     "text": [
      "\n",
      "loss: tensor([-30.5670], device='cuda:0', grad_fn=<AddBackward0>):  83%|████████▎ | 248/300 [02:10<00:27,  1.90it/s]\u001b[A\n",
      "loss: tensor([-30.5670], device='cuda:0', grad_fn=<AddBackward0>):  83%|████████▎ | 249/300 [02:10<00:26,  1.91it/s]\u001b[A"
     ]
    },
    {
     "name": "stdout",
     "output_type": "stream",
     "text": [
      "image updated at \"./210215-053606-A_system_of_cells_interlinked_within_cells_interlinked_within_cells_interlinked_within_one_stem.png\"\n"
     ]
    },
    {
     "name": "stderr",
     "output_type": "stream",
     "text": [
      "\n",
      "loss: tensor([-30.4211], device='cuda:0', grad_fn=<AddBackward0>):  83%|████████▎ | 249/300 [02:10<00:26,  1.91it/s]\u001b[A\n",
      "loss: tensor([-30.4211], device='cuda:0', grad_fn=<AddBackward0>):  83%|████████▎ | 250/300 [02:10<00:26,  1.92it/s]\u001b[A"
     ]
    },
    {
     "name": "stdout",
     "output_type": "stream",
     "text": [
      "image updated at \"./210215-053606-A_system_of_cells_interlinked_within_cells_interlinked_within_cells_interlinked_within_one_stem.png\"\n"
     ]
    },
    {
     "name": "stderr",
     "output_type": "stream",
     "text": [
      "\n",
      "loss: tensor([-30.7604], device='cuda:0', grad_fn=<AddBackward0>):  83%|████████▎ | 250/300 [02:11<00:26,  1.92it/s]\u001b[A\n",
      "loss: tensor([-30.7604], device='cuda:0', grad_fn=<AddBackward0>):  84%|████████▎ | 251/300 [02:11<00:27,  1.78it/s]\u001b[A"
     ]
    },
    {
     "name": "stdout",
     "output_type": "stream",
     "text": [
      "image updated at \"./210215-053606-A_system_of_cells_interlinked_within_cells_interlinked_within_cells_interlinked_within_one_stem.png\"\n"
     ]
    },
    {
     "name": "stderr",
     "output_type": "stream",
     "text": [
      "\n",
      "loss: tensor([-30.5704], device='cuda:0', grad_fn=<AddBackward0>):  84%|████████▎ | 251/300 [02:12<00:27,  1.78it/s]\u001b[A\n",
      "loss: tensor([-30.5704], device='cuda:0', grad_fn=<AddBackward0>):  84%|████████▍ | 252/300 [02:12<00:26,  1.82it/s]\u001b[A"
     ]
    },
    {
     "name": "stdout",
     "output_type": "stream",
     "text": [
      "image updated at \"./210215-053606-A_system_of_cells_interlinked_within_cells_interlinked_within_cells_interlinked_within_one_stem.png\"\n"
     ]
    },
    {
     "name": "stderr",
     "output_type": "stream",
     "text": [
      "\n",
      "loss: tensor([-30.4476], device='cuda:0', grad_fn=<AddBackward0>):  84%|████████▍ | 252/300 [02:12<00:26,  1.82it/s]\u001b[A\n",
      "loss: tensor([-30.4476], device='cuda:0', grad_fn=<AddBackward0>):  84%|████████▍ | 253/300 [02:12<00:25,  1.83it/s]\u001b[A"
     ]
    },
    {
     "name": "stdout",
     "output_type": "stream",
     "text": [
      "image updated at \"./210215-053606-A_system_of_cells_interlinked_within_cells_interlinked_within_cells_interlinked_within_one_stem.png\"\n"
     ]
    },
    {
     "name": "stderr",
     "output_type": "stream",
     "text": [
      "\n",
      "loss: tensor([-30.6458], device='cuda:0', grad_fn=<AddBackward0>):  84%|████████▍ | 253/300 [02:13<00:25,  1.83it/s]\u001b[A\n",
      "loss: tensor([-30.6458], device='cuda:0', grad_fn=<AddBackward0>):  85%|████████▍ | 254/300 [02:13<00:24,  1.86it/s]\u001b[A"
     ]
    },
    {
     "name": "stdout",
     "output_type": "stream",
     "text": [
      "image updated at \"./210215-053606-A_system_of_cells_interlinked_within_cells_interlinked_within_cells_interlinked_within_one_stem.png\"\n"
     ]
    },
    {
     "name": "stderr",
     "output_type": "stream",
     "text": [
      "\n",
      "loss: tensor([-30.6433], device='cuda:0', grad_fn=<AddBackward0>):  85%|████████▍ | 254/300 [02:13<00:24,  1.86it/s]\u001b[A\n",
      "loss: tensor([-30.6433], device='cuda:0', grad_fn=<AddBackward0>):  85%|████████▌ | 255/300 [02:13<00:23,  1.88it/s]\u001b[A"
     ]
    },
    {
     "name": "stdout",
     "output_type": "stream",
     "text": [
      "image updated at \"./210215-053606-A_system_of_cells_interlinked_within_cells_interlinked_within_cells_interlinked_within_one_stem.png\"\n"
     ]
    },
    {
     "name": "stderr",
     "output_type": "stream",
     "text": [
      "\n",
      "loss: tensor([-30.6722], device='cuda:0', grad_fn=<AddBackward0>):  85%|████████▌ | 255/300 [02:14<00:23,  1.88it/s]\u001b[A\n",
      "loss: tensor([-30.6722], device='cuda:0', grad_fn=<AddBackward0>):  85%|████████▌ | 256/300 [02:14<00:23,  1.90it/s]\u001b[A"
     ]
    },
    {
     "name": "stdout",
     "output_type": "stream",
     "text": [
      "image updated at \"./210215-053606-A_system_of_cells_interlinked_within_cells_interlinked_within_cells_interlinked_within_one_stem.png\"\n"
     ]
    },
    {
     "name": "stderr",
     "output_type": "stream",
     "text": [
      "\n",
      "loss: tensor([-30.4813], device='cuda:0', grad_fn=<AddBackward0>):  85%|████████▌ | 256/300 [02:14<00:23,  1.90it/s]\u001b[A\n",
      "loss: tensor([-30.4813], device='cuda:0', grad_fn=<AddBackward0>):  86%|████████▌ | 257/300 [02:14<00:22,  1.92it/s]\u001b[A"
     ]
    },
    {
     "name": "stdout",
     "output_type": "stream",
     "text": [
      "image updated at \"./210215-053606-A_system_of_cells_interlinked_within_cells_interlinked_within_cells_interlinked_within_one_stem.png\"\n"
     ]
    },
    {
     "name": "stderr",
     "output_type": "stream",
     "text": [
      "\n",
      "loss: tensor([-30.2609], device='cuda:0', grad_fn=<AddBackward0>):  86%|████████▌ | 257/300 [02:15<00:22,  1.92it/s]\u001b[A\n",
      "loss: tensor([-30.2609], device='cuda:0', grad_fn=<AddBackward0>):  86%|████████▌ | 258/300 [02:15<00:21,  1.93it/s]\u001b[A"
     ]
    },
    {
     "name": "stdout",
     "output_type": "stream",
     "text": [
      "image updated at \"./210215-053606-A_system_of_cells_interlinked_within_cells_interlinked_within_cells_interlinked_within_one_stem.png\"\n"
     ]
    },
    {
     "name": "stderr",
     "output_type": "stream",
     "text": [
      "\n",
      "loss: tensor([-30.7924], device='cuda:0', grad_fn=<AddBackward0>):  86%|████████▌ | 258/300 [02:15<00:21,  1.93it/s]\u001b[A\n",
      "loss: tensor([-30.7924], device='cuda:0', grad_fn=<AddBackward0>):  86%|████████▋ | 259/300 [02:15<00:22,  1.79it/s]\u001b[A"
     ]
    },
    {
     "name": "stdout",
     "output_type": "stream",
     "text": [
      "image updated at \"./210215-053606-A_system_of_cells_interlinked_within_cells_interlinked_within_cells_interlinked_within_one_stem.png\"\n"
     ]
    },
    {
     "name": "stderr",
     "output_type": "stream",
     "text": [
      "\n",
      "loss: tensor([-30.5745], device='cuda:0', grad_fn=<AddBackward0>):  86%|████████▋ | 259/300 [02:16<00:22,  1.79it/s]\u001b[A\n",
      "loss: tensor([-30.5745], device='cuda:0', grad_fn=<AddBackward0>):  87%|████████▋ | 260/300 [02:16<00:21,  1.84it/s]\u001b[A"
     ]
    },
    {
     "name": "stdout",
     "output_type": "stream",
     "text": [
      "image updated at \"./210215-053606-A_system_of_cells_interlinked_within_cells_interlinked_within_cells_interlinked_within_one_stem.png\"\n"
     ]
    },
    {
     "name": "stderr",
     "output_type": "stream",
     "text": [
      "\n",
      "loss: tensor([-30.6405], device='cuda:0', grad_fn=<AddBackward0>):  87%|████████▋ | 260/300 [02:16<00:21,  1.84it/s]\u001b[A\n",
      "loss: tensor([-30.6405], device='cuda:0', grad_fn=<AddBackward0>):  87%|████████▋ | 261/300 [02:16<00:20,  1.87it/s]\u001b[A"
     ]
    },
    {
     "name": "stdout",
     "output_type": "stream",
     "text": [
      "image updated at \"./210215-053606-A_system_of_cells_interlinked_within_cells_interlinked_within_cells_interlinked_within_one_stem.png\"\n"
     ]
    },
    {
     "name": "stderr",
     "output_type": "stream",
     "text": [
      "\n",
      "loss: tensor([-30.4261], device='cuda:0', grad_fn=<AddBackward0>):  87%|████████▋ | 261/300 [02:17<00:20,  1.87it/s]\u001b[A\n",
      "loss: tensor([-30.4261], device='cuda:0', grad_fn=<AddBackward0>):  87%|████████▋ | 262/300 [02:17<00:20,  1.89it/s]\u001b[A"
     ]
    },
    {
     "name": "stdout",
     "output_type": "stream",
     "text": [
      "image updated at \"./210215-053606-A_system_of_cells_interlinked_within_cells_interlinked_within_cells_interlinked_within_one_stem.png\"\n"
     ]
    },
    {
     "name": "stderr",
     "output_type": "stream",
     "text": [
      "\n",
      "loss: tensor([-30.4355], device='cuda:0', grad_fn=<AddBackward0>):  87%|████████▋ | 262/300 [02:17<00:20,  1.89it/s]\u001b[A\n",
      "loss: tensor([-30.4355], device='cuda:0', grad_fn=<AddBackward0>):  88%|████████▊ | 263/300 [02:17<00:19,  1.90it/s]\u001b[A"
     ]
    },
    {
     "name": "stdout",
     "output_type": "stream",
     "text": [
      "image updated at \"./210215-053606-A_system_of_cells_interlinked_within_cells_interlinked_within_cells_interlinked_within_one_stem.png\"\n"
     ]
    },
    {
     "name": "stderr",
     "output_type": "stream",
     "text": [
      "\n",
      "loss: tensor([-30.7833], device='cuda:0', grad_fn=<AddBackward0>):  88%|████████▊ | 263/300 [02:18<00:19,  1.90it/s]\u001b[A\n",
      "loss: tensor([-30.7833], device='cuda:0', grad_fn=<AddBackward0>):  88%|████████▊ | 264/300 [02:18<00:18,  1.92it/s]\u001b[A"
     ]
    },
    {
     "name": "stdout",
     "output_type": "stream",
     "text": [
      "image updated at \"./210215-053606-A_system_of_cells_interlinked_within_cells_interlinked_within_cells_interlinked_within_one_stem.png\"\n"
     ]
    },
    {
     "name": "stderr",
     "output_type": "stream",
     "text": [
      "\n",
      "loss: tensor([-30.6436], device='cuda:0', grad_fn=<AddBackward0>):  88%|████████▊ | 264/300 [02:18<00:18,  1.92it/s]\u001b[A\n",
      "loss: tensor([-30.6436], device='cuda:0', grad_fn=<AddBackward0>):  88%|████████▊ | 265/300 [02:18<00:18,  1.93it/s]\u001b[A"
     ]
    },
    {
     "name": "stdout",
     "output_type": "stream",
     "text": [
      "image updated at \"./210215-053606-A_system_of_cells_interlinked_within_cells_interlinked_within_cells_interlinked_within_one_stem.png\"\n"
     ]
    },
    {
     "name": "stderr",
     "output_type": "stream",
     "text": [
      "\n",
      "loss: tensor([-30.4529], device='cuda:0', grad_fn=<AddBackward0>):  88%|████████▊ | 265/300 [02:19<00:18,  1.93it/s]\u001b[A\n",
      "loss: tensor([-30.4529], device='cuda:0', grad_fn=<AddBackward0>):  89%|████████▊ | 266/300 [02:19<00:17,  1.92it/s]\u001b[A"
     ]
    },
    {
     "name": "stdout",
     "output_type": "stream",
     "text": [
      "image updated at \"./210215-053606-A_system_of_cells_interlinked_within_cells_interlinked_within_cells_interlinked_within_one_stem.png\"\n"
     ]
    },
    {
     "name": "stderr",
     "output_type": "stream",
     "text": [
      "\n",
      "loss: tensor([-30.7059], device='cuda:0', grad_fn=<AddBackward0>):  89%|████████▊ | 266/300 [02:20<00:17,  1.92it/s]\u001b[A\n",
      "loss: tensor([-30.7059], device='cuda:0', grad_fn=<AddBackward0>):  89%|████████▉ | 267/300 [02:20<00:17,  1.92it/s]\u001b[A"
     ]
    },
    {
     "name": "stdout",
     "output_type": "stream",
     "text": [
      "image updated at \"./210215-053606-A_system_of_cells_interlinked_within_cells_interlinked_within_cells_interlinked_within_one_stem.png\"\n"
     ]
    },
    {
     "name": "stderr",
     "output_type": "stream",
     "text": [
      "\n",
      "loss: tensor([-30.5548], device='cuda:0', grad_fn=<AddBackward0>):  89%|████████▉ | 267/300 [02:20<00:17,  1.92it/s]\u001b[A\n",
      "loss: tensor([-30.5548], device='cuda:0', grad_fn=<AddBackward0>):  89%|████████▉ | 268/300 [02:20<00:16,  1.94it/s]\u001b[A"
     ]
    },
    {
     "name": "stdout",
     "output_type": "stream",
     "text": [
      "image updated at \"./210215-053606-A_system_of_cells_interlinked_within_cells_interlinked_within_cells_interlinked_within_one_stem.png\"\n"
     ]
    },
    {
     "name": "stderr",
     "output_type": "stream",
     "text": [
      "\n",
      "loss: tensor([-30.6772], device='cuda:0', grad_fn=<AddBackward0>):  89%|████████▉ | 268/300 [02:21<00:16,  1.94it/s]\u001b[A\n",
      "loss: tensor([-30.6772], device='cuda:0', grad_fn=<AddBackward0>):  90%|████████▉ | 269/300 [02:21<00:15,  1.95it/s]\u001b[A"
     ]
    },
    {
     "name": "stdout",
     "output_type": "stream",
     "text": [
      "image updated at \"./210215-053606-A_system_of_cells_interlinked_within_cells_interlinked_within_cells_interlinked_within_one_stem.png\"\n"
     ]
    },
    {
     "name": "stderr",
     "output_type": "stream",
     "text": [
      "\n",
      "loss: tensor([-30.5220], device='cuda:0', grad_fn=<AddBackward0>):  90%|████████▉ | 269/300 [02:21<00:15,  1.95it/s]\u001b[A\n",
      "loss: tensor([-30.5220], device='cuda:0', grad_fn=<AddBackward0>):  90%|█████████ | 270/300 [02:21<00:15,  1.95it/s]\u001b[A"
     ]
    },
    {
     "name": "stdout",
     "output_type": "stream",
     "text": [
      "image updated at \"./210215-053606-A_system_of_cells_interlinked_within_cells_interlinked_within_cells_interlinked_within_one_stem.png\"\n"
     ]
    },
    {
     "name": "stderr",
     "output_type": "stream",
     "text": [
      "\n",
      "loss: tensor([-30.5237], device='cuda:0', grad_fn=<AddBackward0>):  90%|█████████ | 270/300 [02:22<00:15,  1.95it/s]\u001b[A\n",
      "loss: tensor([-30.5237], device='cuda:0', grad_fn=<AddBackward0>):  90%|█████████ | 271/300 [02:22<00:14,  1.94it/s]\u001b[A"
     ]
    },
    {
     "name": "stdout",
     "output_type": "stream",
     "text": [
      "image updated at \"./210215-053606-A_system_of_cells_interlinked_within_cells_interlinked_within_cells_interlinked_within_one_stem.png\"\n"
     ]
    },
    {
     "name": "stderr",
     "output_type": "stream",
     "text": [
      "\n",
      "loss: tensor([-30.6463], device='cuda:0', grad_fn=<AddBackward0>):  90%|█████████ | 271/300 [02:22<00:14,  1.94it/s]\u001b[A\n",
      "loss: tensor([-30.6463], device='cuda:0', grad_fn=<AddBackward0>):  91%|█████████ | 272/300 [02:22<00:14,  1.95it/s]\u001b[A"
     ]
    },
    {
     "name": "stdout",
     "output_type": "stream",
     "text": [
      "image updated at \"./210215-053606-A_system_of_cells_interlinked_within_cells_interlinked_within_cells_interlinked_within_one_stem.png\"\n"
     ]
    },
    {
     "name": "stderr",
     "output_type": "stream",
     "text": [
      "\n",
      "loss: tensor([-30.6494], device='cuda:0', grad_fn=<AddBackward0>):  91%|█████████ | 272/300 [02:23<00:14,  1.95it/s]\u001b[A\n",
      "loss: tensor([-30.6494], device='cuda:0', grad_fn=<AddBackward0>):  91%|█████████ | 273/300 [02:23<00:13,  1.95it/s]\u001b[A"
     ]
    },
    {
     "name": "stdout",
     "output_type": "stream",
     "text": [
      "image updated at \"./210215-053606-A_system_of_cells_interlinked_within_cells_interlinked_within_cells_interlinked_within_one_stem.png\"\n"
     ]
    },
    {
     "name": "stderr",
     "output_type": "stream",
     "text": [
      "\n",
      "loss: tensor([-30.3372], device='cuda:0', grad_fn=<AddBackward0>):  91%|█████████ | 273/300 [02:23<00:13,  1.95it/s]\u001b[A\n",
      "loss: tensor([-30.3372], device='cuda:0', grad_fn=<AddBackward0>):  91%|█████████▏| 274/300 [02:23<00:13,  1.95it/s]\u001b[A"
     ]
    },
    {
     "name": "stdout",
     "output_type": "stream",
     "text": [
      "image updated at \"./210215-053606-A_system_of_cells_interlinked_within_cells_interlinked_within_cells_interlinked_within_one_stem.png\"\n"
     ]
    },
    {
     "name": "stderr",
     "output_type": "stream",
     "text": [
      "\n",
      "loss: tensor([-30.6116], device='cuda:0', grad_fn=<AddBackward0>):  91%|█████████▏| 274/300 [02:24<00:13,  1.95it/s]\u001b[A\n",
      "loss: tensor([-30.6116], device='cuda:0', grad_fn=<AddBackward0>):  92%|█████████▏| 275/300 [02:24<00:12,  1.95it/s]\u001b[A"
     ]
    },
    {
     "name": "stdout",
     "output_type": "stream",
     "text": [
      "image updated at \"./210215-053606-A_system_of_cells_interlinked_within_cells_interlinked_within_cells_interlinked_within_one_stem.png\"\n"
     ]
    },
    {
     "name": "stderr",
     "output_type": "stream",
     "text": [
      "\n",
      "loss: tensor([-30.7366], device='cuda:0', grad_fn=<AddBackward0>):  92%|█████████▏| 275/300 [02:24<00:12,  1.95it/s]\u001b[A\n",
      "loss: tensor([-30.7366], device='cuda:0', grad_fn=<AddBackward0>):  92%|█████████▏| 276/300 [02:24<00:12,  1.95it/s]\u001b[A"
     ]
    },
    {
     "name": "stdout",
     "output_type": "stream",
     "text": [
      "image updated at \"./210215-053606-A_system_of_cells_interlinked_within_cells_interlinked_within_cells_interlinked_within_one_stem.png\"\n"
     ]
    },
    {
     "name": "stderr",
     "output_type": "stream",
     "text": [
      "\n",
      "loss: tensor([-30.7441], device='cuda:0', grad_fn=<AddBackward0>):  92%|█████████▏| 276/300 [02:25<00:12,  1.95it/s]\u001b[A\n",
      "loss: tensor([-30.7441], device='cuda:0', grad_fn=<AddBackward0>):  92%|█████████▏| 277/300 [02:25<00:11,  1.95it/s]\u001b[A"
     ]
    },
    {
     "name": "stdout",
     "output_type": "stream",
     "text": [
      "image updated at \"./210215-053606-A_system_of_cells_interlinked_within_cells_interlinked_within_cells_interlinked_within_one_stem.png\"\n"
     ]
    },
    {
     "name": "stderr",
     "output_type": "stream",
     "text": [
      "\n",
      "loss: tensor([-30.8033], device='cuda:0', grad_fn=<AddBackward0>):  92%|█████████▏| 277/300 [02:25<00:11,  1.95it/s]\u001b[A\n",
      "loss: tensor([-30.8033], device='cuda:0', grad_fn=<AddBackward0>):  93%|█████████▎| 278/300 [02:25<00:11,  1.95it/s]\u001b[A"
     ]
    },
    {
     "name": "stdout",
     "output_type": "stream",
     "text": [
      "image updated at \"./210215-053606-A_system_of_cells_interlinked_within_cells_interlinked_within_cells_interlinked_within_one_stem.png\"\n"
     ]
    },
    {
     "name": "stderr",
     "output_type": "stream",
     "text": [
      "\n",
      "loss: tensor([-30.6770], device='cuda:0', grad_fn=<AddBackward0>):  93%|█████████▎| 278/300 [02:26<00:11,  1.95it/s]\u001b[A\n",
      "loss: tensor([-30.6770], device='cuda:0', grad_fn=<AddBackward0>):  93%|█████████▎| 279/300 [02:26<00:10,  1.95it/s]\u001b[A"
     ]
    },
    {
     "name": "stdout",
     "output_type": "stream",
     "text": [
      "image updated at \"./210215-053606-A_system_of_cells_interlinked_within_cells_interlinked_within_cells_interlinked_within_one_stem.png\"\n"
     ]
    },
    {
     "name": "stderr",
     "output_type": "stream",
     "text": [
      "\n",
      "loss: tensor([-30.7783], device='cuda:0', grad_fn=<AddBackward0>):  93%|█████████▎| 279/300 [02:26<00:10,  1.95it/s]\u001b[A\n",
      "loss: tensor([-30.7783], device='cuda:0', grad_fn=<AddBackward0>):  93%|█████████▎| 280/300 [02:26<00:10,  1.95it/s]\u001b[A"
     ]
    },
    {
     "name": "stdout",
     "output_type": "stream",
     "text": [
      "image updated at \"./210215-053606-A_system_of_cells_interlinked_within_cells_interlinked_within_cells_interlinked_within_one_stem.png\"\n"
     ]
    },
    {
     "name": "stderr",
     "output_type": "stream",
     "text": [
      "\n",
      "loss: tensor([-30.8626], device='cuda:0', grad_fn=<AddBackward0>):  93%|█████████▎| 280/300 [02:27<00:10,  1.95it/s]\u001b[A\n",
      "loss: tensor([-30.8626], device='cuda:0', grad_fn=<AddBackward0>):  94%|█████████▎| 281/300 [02:27<00:10,  1.82it/s]\u001b[A"
     ]
    },
    {
     "name": "stdout",
     "output_type": "stream",
     "text": [
      "image updated at \"./210215-053606-A_system_of_cells_interlinked_within_cells_interlinked_within_cells_interlinked_within_one_stem.png\"\n"
     ]
    },
    {
     "name": "stderr",
     "output_type": "stream",
     "text": [
      "\n",
      "loss: tensor([-30.7043], device='cuda:0', grad_fn=<AddBackward0>):  94%|█████████▎| 281/300 [02:27<00:10,  1.82it/s]\u001b[A\n",
      "loss: tensor([-30.7043], device='cuda:0', grad_fn=<AddBackward0>):  94%|█████████▍| 282/300 [02:27<00:09,  1.87it/s]\u001b[A"
     ]
    },
    {
     "name": "stdout",
     "output_type": "stream",
     "text": [
      "image updated at \"./210215-053606-A_system_of_cells_interlinked_within_cells_interlinked_within_cells_interlinked_within_one_stem.png\"\n"
     ]
    },
    {
     "name": "stderr",
     "output_type": "stream",
     "text": [
      "\n",
      "loss: tensor([-30.8965], device='cuda:0', grad_fn=<AddBackward0>):  94%|█████████▍| 282/300 [02:28<00:09,  1.87it/s]\u001b[A\n",
      "loss: tensor([-30.8965], device='cuda:0', grad_fn=<AddBackward0>):  94%|█████████▍| 283/300 [02:28<00:09,  1.77it/s]\u001b[A"
     ]
    },
    {
     "name": "stdout",
     "output_type": "stream",
     "text": [
      "image updated at \"./210215-053606-A_system_of_cells_interlinked_within_cells_interlinked_within_cells_interlinked_within_one_stem.png\"\n"
     ]
    },
    {
     "name": "stderr",
     "output_type": "stream",
     "text": [
      "\n",
      "loss: tensor([-30.8953], device='cuda:0', grad_fn=<AddBackward0>):  94%|█████████▍| 283/300 [02:29<00:09,  1.77it/s]\u001b[A\n",
      "loss: tensor([-30.8953], device='cuda:0', grad_fn=<AddBackward0>):  95%|█████████▍| 284/300 [02:29<00:08,  1.80it/s]\u001b[A"
     ]
    },
    {
     "name": "stdout",
     "output_type": "stream",
     "text": [
      "image updated at \"./210215-053606-A_system_of_cells_interlinked_within_cells_interlinked_within_cells_interlinked_within_one_stem.png\"\n"
     ]
    },
    {
     "name": "stderr",
     "output_type": "stream",
     "text": [
      "\n",
      "loss: tensor([-31.1193], device='cuda:0', grad_fn=<AddBackward0>):  95%|█████████▍| 284/300 [02:29<00:08,  1.80it/s]\u001b[A\n",
      "loss: tensor([-31.1193], device='cuda:0', grad_fn=<AddBackward0>):  95%|█████████▌| 285/300 [02:29<00:08,  1.72it/s]\u001b[A"
     ]
    },
    {
     "name": "stdout",
     "output_type": "stream",
     "text": [
      "image updated at \"./210215-053606-A_system_of_cells_interlinked_within_cells_interlinked_within_cells_interlinked_within_one_stem.png\"\n"
     ]
    },
    {
     "name": "stderr",
     "output_type": "stream",
     "text": [
      "\n",
      "loss: tensor([-31.0201], device='cuda:0', grad_fn=<AddBackward0>):  95%|█████████▌| 285/300 [02:30<00:08,  1.72it/s]\u001b[A\n",
      "loss: tensor([-31.0201], device='cuda:0', grad_fn=<AddBackward0>):  95%|█████████▌| 286/300 [02:30<00:07,  1.80it/s]\u001b[A"
     ]
    },
    {
     "name": "stdout",
     "output_type": "stream",
     "text": [
      "image updated at \"./210215-053606-A_system_of_cells_interlinked_within_cells_interlinked_within_cells_interlinked_within_one_stem.png\"\n"
     ]
    },
    {
     "name": "stderr",
     "output_type": "stream",
     "text": [
      "\n",
      "loss: tensor([-30.5761], device='cuda:0', grad_fn=<AddBackward0>):  95%|█████████▌| 286/300 [02:30<00:07,  1.80it/s]\u001b[A\n",
      "loss: tensor([-30.5761], device='cuda:0', grad_fn=<AddBackward0>):  96%|█████████▌| 287/300 [02:30<00:07,  1.86it/s]\u001b[A"
     ]
    },
    {
     "name": "stdout",
     "output_type": "stream",
     "text": [
      "image updated at \"./210215-053606-A_system_of_cells_interlinked_within_cells_interlinked_within_cells_interlinked_within_one_stem.png\"\n"
     ]
    },
    {
     "name": "stderr",
     "output_type": "stream",
     "text": [
      "\n",
      "loss: tensor([-30.7304], device='cuda:0', grad_fn=<AddBackward0>):  96%|█████████▌| 287/300 [02:31<00:07,  1.86it/s]\u001b[A\n",
      "loss: tensor([-30.7304], device='cuda:0', grad_fn=<AddBackward0>):  96%|█████████▌| 288/300 [02:31<00:06,  1.90it/s]\u001b[A"
     ]
    },
    {
     "name": "stdout",
     "output_type": "stream",
     "text": [
      "image updated at \"./210215-053606-A_system_of_cells_interlinked_within_cells_interlinked_within_cells_interlinked_within_one_stem.png\"\n"
     ]
    },
    {
     "name": "stderr",
     "output_type": "stream",
     "text": [
      "\n",
      "loss: tensor([-30.7379], device='cuda:0', grad_fn=<AddBackward0>):  96%|█████████▌| 288/300 [02:31<00:06,  1.90it/s]\u001b[A\n",
      "loss: tensor([-30.7379], device='cuda:0', grad_fn=<AddBackward0>):  96%|█████████▋| 289/300 [02:31<00:05,  1.93it/s]\u001b[A"
     ]
    },
    {
     "name": "stdout",
     "output_type": "stream",
     "text": [
      "image updated at \"./210215-053606-A_system_of_cells_interlinked_within_cells_interlinked_within_cells_interlinked_within_one_stem.png\"\n"
     ]
    },
    {
     "name": "stderr",
     "output_type": "stream",
     "text": [
      "\n",
      "loss: tensor([-30.9911], device='cuda:0', grad_fn=<AddBackward0>):  96%|█████████▋| 289/300 [02:32<00:05,  1.93it/s]\u001b[A\n",
      "loss: tensor([-30.9911], device='cuda:0', grad_fn=<AddBackward0>):  97%|█████████▋| 290/300 [02:32<00:05,  1.95it/s]\u001b[A"
     ]
    },
    {
     "name": "stdout",
     "output_type": "stream",
     "text": [
      "image updated at \"./210215-053606-A_system_of_cells_interlinked_within_cells_interlinked_within_cells_interlinked_within_one_stem.png\"\n"
     ]
    },
    {
     "name": "stderr",
     "output_type": "stream",
     "text": [
      "\n",
      "loss: tensor([-30.8603], device='cuda:0', grad_fn=<AddBackward0>):  97%|█████████▋| 290/300 [02:32<00:05,  1.95it/s]\u001b[A\n",
      "loss: tensor([-30.8603], device='cuda:0', grad_fn=<AddBackward0>):  97%|█████████▋| 291/300 [02:32<00:04,  1.97it/s]\u001b[A"
     ]
    },
    {
     "name": "stdout",
     "output_type": "stream",
     "text": [
      "image updated at \"./210215-053606-A_system_of_cells_interlinked_within_cells_interlinked_within_cells_interlinked_within_one_stem.png\"\n"
     ]
    },
    {
     "name": "stderr",
     "output_type": "stream",
     "text": [
      "\n",
      "loss: tensor([-30.6420], device='cuda:0', grad_fn=<AddBackward0>):  97%|█████████▋| 291/300 [02:33<00:04,  1.97it/s]\u001b[A\n",
      "loss: tensor([-30.6420], device='cuda:0', grad_fn=<AddBackward0>):  97%|█████████▋| 292/300 [02:33<00:04,  1.99it/s]\u001b[A"
     ]
    },
    {
     "name": "stdout",
     "output_type": "stream",
     "text": [
      "image updated at \"./210215-053606-A_system_of_cells_interlinked_within_cells_interlinked_within_cells_interlinked_within_one_stem.png\"\n"
     ]
    },
    {
     "name": "stderr",
     "output_type": "stream",
     "text": [
      "\n",
      "loss: tensor([-30.8916], device='cuda:0', grad_fn=<AddBackward0>):  97%|█████████▋| 292/300 [02:33<00:04,  1.99it/s]\u001b[A\n",
      "loss: tensor([-30.8916], device='cuda:0', grad_fn=<AddBackward0>):  98%|█████████▊| 293/300 [02:33<00:03,  2.00it/s]\u001b[A"
     ]
    },
    {
     "name": "stdout",
     "output_type": "stream",
     "text": [
      "image updated at \"./210215-053606-A_system_of_cells_interlinked_within_cells_interlinked_within_cells_interlinked_within_one_stem.png\"\n"
     ]
    },
    {
     "name": "stderr",
     "output_type": "stream",
     "text": [
      "\n",
      "loss: tensor([-30.7455], device='cuda:0', grad_fn=<AddBackward0>):  98%|█████████▊| 293/300 [02:34<00:03,  2.00it/s]\u001b[A\n",
      "loss: tensor([-30.7455], device='cuda:0', grad_fn=<AddBackward0>):  98%|█████████▊| 294/300 [02:34<00:03,  2.00it/s]\u001b[A"
     ]
    },
    {
     "name": "stdout",
     "output_type": "stream",
     "text": [
      "image updated at \"./210215-053606-A_system_of_cells_interlinked_within_cells_interlinked_within_cells_interlinked_within_one_stem.png\"\n"
     ]
    },
    {
     "name": "stderr",
     "output_type": "stream",
     "text": [
      "\n",
      "loss: tensor([-30.9010], device='cuda:0', grad_fn=<AddBackward0>):  98%|█████████▊| 294/300 [02:34<00:03,  2.00it/s]\u001b[A\n",
      "loss: tensor([-30.9010], device='cuda:0', grad_fn=<AddBackward0>):  98%|█████████▊| 295/300 [02:34<00:02,  2.00it/s]\u001b[A"
     ]
    },
    {
     "name": "stdout",
     "output_type": "stream",
     "text": [
      "image updated at \"./210215-053606-A_system_of_cells_interlinked_within_cells_interlinked_within_cells_interlinked_within_one_stem.png\"\n"
     ]
    },
    {
     "name": "stderr",
     "output_type": "stream",
     "text": [
      "\n",
      "loss: tensor([-30.9675], device='cuda:0', grad_fn=<AddBackward0>):  98%|█████████▊| 295/300 [02:35<00:02,  2.00it/s]\u001b[A\n",
      "loss: tensor([-30.9675], device='cuda:0', grad_fn=<AddBackward0>):  99%|█████████▊| 296/300 [02:35<00:01,  2.01it/s]\u001b[A"
     ]
    },
    {
     "name": "stdout",
     "output_type": "stream",
     "text": [
      "image updated at \"./210215-053606-A_system_of_cells_interlinked_within_cells_interlinked_within_cells_interlinked_within_one_stem.png\"\n"
     ]
    },
    {
     "name": "stderr",
     "output_type": "stream",
     "text": [
      "\n",
      "loss: tensor([-31.0540], device='cuda:0', grad_fn=<AddBackward0>):  99%|█████████▊| 296/300 [02:35<00:01,  2.01it/s]\u001b[A\n",
      "loss: tensor([-31.0540], device='cuda:0', grad_fn=<AddBackward0>):  99%|█████████▉| 297/300 [02:35<00:01,  2.01it/s]\u001b[A"
     ]
    },
    {
     "name": "stdout",
     "output_type": "stream",
     "text": [
      "image updated at \"./210215-053606-A_system_of_cells_interlinked_within_cells_interlinked_within_cells_interlinked_within_one_stem.png\"\n"
     ]
    },
    {
     "name": "stderr",
     "output_type": "stream",
     "text": [
      "\n",
      "loss: tensor([-30.8960], device='cuda:0', grad_fn=<AddBackward0>):  99%|█████████▉| 297/300 [02:36<00:01,  2.01it/s]\u001b[A\n",
      "loss: tensor([-30.8960], device='cuda:0', grad_fn=<AddBackward0>):  99%|█████████▉| 298/300 [02:36<00:00,  2.01it/s]\u001b[A"
     ]
    },
    {
     "name": "stdout",
     "output_type": "stream",
     "text": [
      "image updated at \"./210215-053606-A_system_of_cells_interlinked_within_cells_interlinked_within_cells_interlinked_within_one_stem.png\"\n"
     ]
    },
    {
     "name": "stderr",
     "output_type": "stream",
     "text": [
      "\n",
      "loss: tensor([-30.7743], device='cuda:0', grad_fn=<AddBackward0>):  99%|█████████▉| 298/300 [02:36<00:00,  2.01it/s]\u001b[A\n",
      "loss: tensor([-30.7743], device='cuda:0', grad_fn=<AddBackward0>): 100%|█████████▉| 299/300 [02:36<00:00,  2.01it/s]\u001b[A"
     ]
    },
    {
     "name": "stdout",
     "output_type": "stream",
     "text": [
      "image updated at \"./210215-053606-A_system_of_cells_interlinked_within_cells_interlinked_within_cells_interlinked_within_one_stem.png\"\n"
     ]
    },
    {
     "name": "stderr",
     "output_type": "stream",
     "text": [
      "\n",
      "loss: tensor([-30.8721], device='cuda:0', grad_fn=<AddBackward0>): 100%|█████████▉| 299/300 [02:37<00:00,  2.01it/s]\u001b[A\n",
      "loss: tensor([-30.8721], device='cuda:0', grad_fn=<AddBackward0>): 100%|██████████| 300/300 [02:37<00:00,  1.91it/s]\u001b[A\n",
      "epochs:  50%|█████     | 2/4 [05:02<05:04, 152.23s/it]\n",
      "iteration:   0%|          | 0/300 [00:00<?, ?it/s]\u001b[A"
     ]
    },
    {
     "name": "stdout",
     "output_type": "stream",
     "text": [
      "image updated at \"./210215-053606-A_system_of_cells_interlinked_within_cells_interlinked_within_cells_interlinked_within_one_stem.png\"\n"
     ]
    },
    {
     "name": "stderr",
     "output_type": "stream",
     "text": [
      "\n",
      "loss: tensor([-15.3842], device='cuda:0', grad_fn=<AddBackward0>):   0%|          | 0/300 [00:00<?, ?it/s]\u001b[A\n",
      "loss: tensor([-15.3842], device='cuda:0', grad_fn=<AddBackward0>):   0%|          | 1/300 [00:00<02:31,  1.98it/s]\u001b[A"
     ]
    },
    {
     "name": "stdout",
     "output_type": "stream",
     "text": [
      "image updated at \"./210215-053843-And_dreadfully_distinct_against_the_dark_a_tall_white_fountain_played.png\"\n"
     ]
    },
    {
     "name": "stderr",
     "output_type": "stream",
     "text": [
      "\n",
      "loss: tensor([-15.7245], device='cuda:0', grad_fn=<AddBackward0>):   0%|          | 1/300 [00:00<02:31,  1.98it/s]\u001b[A\n",
      "loss: tensor([-15.7245], device='cuda:0', grad_fn=<AddBackward0>):   1%|          | 2/300 [00:01<02:28,  2.00it/s]\u001b[A"
     ]
    },
    {
     "name": "stdout",
     "output_type": "stream",
     "text": [
      "image updated at \"./210215-053843-And_dreadfully_distinct_against_the_dark_a_tall_white_fountain_played.png\"\n"
     ]
    },
    {
     "name": "stderr",
     "output_type": "stream",
     "text": [
      "\n",
      "loss: tensor([-16.6771], device='cuda:0', grad_fn=<AddBackward0>):   1%|          | 2/300 [00:01<02:28,  2.00it/s]\u001b[A\n",
      "loss: tensor([-16.6771], device='cuda:0', grad_fn=<AddBackward0>):   1%|          | 3/300 [00:01<02:27,  2.01it/s]\u001b[A"
     ]
    },
    {
     "name": "stdout",
     "output_type": "stream",
     "text": [
      "image updated at \"./210215-053843-And_dreadfully_distinct_against_the_dark_a_tall_white_fountain_played.png\"\n"
     ]
    },
    {
     "name": "stderr",
     "output_type": "stream",
     "text": [
      "\n",
      "loss: tensor([-17.4061], device='cuda:0', grad_fn=<AddBackward0>):   1%|          | 3/300 [00:01<02:27,  2.01it/s]\u001b[A\n",
      "loss: tensor([-17.4061], device='cuda:0', grad_fn=<AddBackward0>):   1%|▏         | 4/300 [00:01<02:26,  2.02it/s]\u001b[A"
     ]
    },
    {
     "name": "stdout",
     "output_type": "stream",
     "text": [
      "image updated at \"./210215-053843-And_dreadfully_distinct_against_the_dark_a_tall_white_fountain_played.png\"\n"
     ]
    },
    {
     "name": "stderr",
     "output_type": "stream",
     "text": [
      "\n",
      "loss: tensor([-18.6174], device='cuda:0', grad_fn=<AddBackward0>):   1%|▏         | 4/300 [00:02<02:26,  2.02it/s]\u001b[A\n",
      "loss: tensor([-18.6174], device='cuda:0', grad_fn=<AddBackward0>):   2%|▏         | 5/300 [00:02<02:27,  2.00it/s]\u001b[A"
     ]
    },
    {
     "name": "stdout",
     "output_type": "stream",
     "text": [
      "image updated at \"./210215-053843-And_dreadfully_distinct_against_the_dark_a_tall_white_fountain_played.png\"\n"
     ]
    },
    {
     "name": "stderr",
     "output_type": "stream",
     "text": [
      "\n",
      "loss: tensor([-19.5482], device='cuda:0', grad_fn=<AddBackward0>):   2%|▏         | 5/300 [00:03<02:27,  2.00it/s]\u001b[A\n",
      "loss: tensor([-19.5482], device='cuda:0', grad_fn=<AddBackward0>):   2%|▏         | 6/300 [00:03<02:27,  1.99it/s]\u001b[A"
     ]
    },
    {
     "name": "stdout",
     "output_type": "stream",
     "text": [
      "image updated at \"./210215-053843-And_dreadfully_distinct_against_the_dark_a_tall_white_fountain_played.png\"\n"
     ]
    },
    {
     "name": "stderr",
     "output_type": "stream",
     "text": [
      "\n",
      "loss: tensor([-20.3002], device='cuda:0', grad_fn=<AddBackward0>):   2%|▏         | 6/300 [00:03<02:27,  1.99it/s]\u001b[A\n",
      "loss: tensor([-20.3002], device='cuda:0', grad_fn=<AddBackward0>):   2%|▏         | 7/300 [00:03<02:27,  1.99it/s]\u001b[A"
     ]
    },
    {
     "name": "stdout",
     "output_type": "stream",
     "text": [
      "image updated at \"./210215-053843-And_dreadfully_distinct_against_the_dark_a_tall_white_fountain_played.png\"\n"
     ]
    },
    {
     "name": "stderr",
     "output_type": "stream",
     "text": [
      "\n",
      "loss: tensor([-21.1449], device='cuda:0', grad_fn=<AddBackward0>):   2%|▏         | 7/300 [00:04<02:27,  1.99it/s]\u001b[A\n",
      "loss: tensor([-21.1449], device='cuda:0', grad_fn=<AddBackward0>):   3%|▎         | 8/300 [00:04<02:28,  1.97it/s]\u001b[A"
     ]
    },
    {
     "name": "stdout",
     "output_type": "stream",
     "text": [
      "image updated at \"./210215-053843-And_dreadfully_distinct_against_the_dark_a_tall_white_fountain_played.png\"\n"
     ]
    },
    {
     "name": "stderr",
     "output_type": "stream",
     "text": [
      "\n",
      "loss: tensor([-21.7015], device='cuda:0', grad_fn=<AddBackward0>):   3%|▎         | 8/300 [00:04<02:28,  1.97it/s]\u001b[A\n",
      "loss: tensor([-21.7015], device='cuda:0', grad_fn=<AddBackward0>):   3%|▎         | 9/300 [00:04<02:27,  1.98it/s]\u001b[A"
     ]
    },
    {
     "name": "stdout",
     "output_type": "stream",
     "text": [
      "image updated at \"./210215-053843-And_dreadfully_distinct_against_the_dark_a_tall_white_fountain_played.png\"\n"
     ]
    },
    {
     "name": "stderr",
     "output_type": "stream",
     "text": [
      "\n",
      "loss: tensor([-21.9766], device='cuda:0', grad_fn=<AddBackward0>):   3%|▎         | 9/300 [00:05<02:27,  1.98it/s]\u001b[A\n",
      "loss: tensor([-21.9766], device='cuda:0', grad_fn=<AddBackward0>):   3%|▎         | 10/300 [00:05<02:26,  1.98it/s]\u001b[A"
     ]
    },
    {
     "name": "stdout",
     "output_type": "stream",
     "text": [
      "image updated at \"./210215-053843-And_dreadfully_distinct_against_the_dark_a_tall_white_fountain_played.png\"\n"
     ]
    },
    {
     "name": "stderr",
     "output_type": "stream",
     "text": [
      "\n",
      "loss: tensor([-22.6253], device='cuda:0', grad_fn=<AddBackward0>):   3%|▎         | 10/300 [00:05<02:26,  1.98it/s]\u001b[A\n",
      "loss: tensor([-22.6253], device='cuda:0', grad_fn=<AddBackward0>):   4%|▎         | 11/300 [00:05<02:26,  1.97it/s]\u001b[A"
     ]
    },
    {
     "name": "stdout",
     "output_type": "stream",
     "text": [
      "image updated at \"./210215-053843-And_dreadfully_distinct_against_the_dark_a_tall_white_fountain_played.png\"\n"
     ]
    },
    {
     "name": "stderr",
     "output_type": "stream",
     "text": [
      "\n",
      "loss: tensor([-22.9261], device='cuda:0', grad_fn=<AddBackward0>):   4%|▎         | 11/300 [00:06<02:26,  1.97it/s]\u001b[A\n",
      "loss: tensor([-22.9261], device='cuda:0', grad_fn=<AddBackward0>):   4%|▍         | 12/300 [00:06<02:26,  1.96it/s]\u001b[A"
     ]
    },
    {
     "name": "stdout",
     "output_type": "stream",
     "text": [
      "image updated at \"./210215-053843-And_dreadfully_distinct_against_the_dark_a_tall_white_fountain_played.png\"\n"
     ]
    },
    {
     "name": "stderr",
     "output_type": "stream",
     "text": [
      "\n",
      "loss: tensor([-23.1029], device='cuda:0', grad_fn=<AddBackward0>):   4%|▍         | 12/300 [00:06<02:26,  1.96it/s]\u001b[A\n",
      "loss: tensor([-23.1029], device='cuda:0', grad_fn=<AddBackward0>):   4%|▍         | 13/300 [00:06<02:25,  1.97it/s]\u001b[A"
     ]
    },
    {
     "name": "stdout",
     "output_type": "stream",
     "text": [
      "image updated at \"./210215-053843-And_dreadfully_distinct_against_the_dark_a_tall_white_fountain_played.png\"\n"
     ]
    },
    {
     "name": "stderr",
     "output_type": "stream",
     "text": [
      "\n",
      "loss: tensor([-23.6940], device='cuda:0', grad_fn=<AddBackward0>):   4%|▍         | 13/300 [00:07<02:25,  1.97it/s]\u001b[A\n",
      "loss: tensor([-23.6940], device='cuda:0', grad_fn=<AddBackward0>):   5%|▍         | 14/300 [00:07<02:22,  2.01it/s]\u001b[A"
     ]
    },
    {
     "name": "stdout",
     "output_type": "stream",
     "text": [
      "image updated at \"./210215-053843-And_dreadfully_distinct_against_the_dark_a_tall_white_fountain_played.png\"\n"
     ]
    },
    {
     "name": "stderr",
     "output_type": "stream",
     "text": [
      "\n",
      "loss: tensor([-23.5395], device='cuda:0', grad_fn=<AddBackward0>):   5%|▍         | 14/300 [00:07<02:22,  2.01it/s]\u001b[A\n",
      "loss: tensor([-23.5395], device='cuda:0', grad_fn=<AddBackward0>):   5%|▌         | 15/300 [00:07<02:19,  2.04it/s]\u001b[A"
     ]
    },
    {
     "name": "stdout",
     "output_type": "stream",
     "text": [
      "image updated at \"./210215-053843-And_dreadfully_distinct_against_the_dark_a_tall_white_fountain_played.png\"\n"
     ]
    },
    {
     "name": "stderr",
     "output_type": "stream",
     "text": [
      "\n",
      "loss: tensor([-24.1858], device='cuda:0', grad_fn=<AddBackward0>):   5%|▌         | 15/300 [00:07<02:19,  2.04it/s]\u001b[A\n",
      "loss: tensor([-24.1858], device='cuda:0', grad_fn=<AddBackward0>):   5%|▌         | 16/300 [00:07<02:18,  2.05it/s]\u001b[A"
     ]
    },
    {
     "name": "stdout",
     "output_type": "stream",
     "text": [
      "image updated at \"./210215-053843-And_dreadfully_distinct_against_the_dark_a_tall_white_fountain_played.png\"\n"
     ]
    },
    {
     "name": "stderr",
     "output_type": "stream",
     "text": [
      "\n",
      "loss: tensor([-24.8694], device='cuda:0', grad_fn=<AddBackward0>):   5%|▌         | 16/300 [00:08<02:18,  2.05it/s]\u001b[A\n",
      "loss: tensor([-24.8694], device='cuda:0', grad_fn=<AddBackward0>):   6%|▌         | 17/300 [00:08<02:18,  2.05it/s]\u001b[A"
     ]
    },
    {
     "name": "stdout",
     "output_type": "stream",
     "text": [
      "image updated at \"./210215-053843-And_dreadfully_distinct_against_the_dark_a_tall_white_fountain_played.png\"\n"
     ]
    },
    {
     "name": "stderr",
     "output_type": "stream",
     "text": [
      "\n",
      "loss: tensor([-24.8586], device='cuda:0', grad_fn=<AddBackward0>):   6%|▌         | 17/300 [00:08<02:18,  2.05it/s]\u001b[A\n",
      "loss: tensor([-24.8586], device='cuda:0', grad_fn=<AddBackward0>):   6%|▌         | 18/300 [00:08<02:17,  2.06it/s]\u001b[A"
     ]
    },
    {
     "name": "stdout",
     "output_type": "stream",
     "text": [
      "image updated at \"./210215-053843-And_dreadfully_distinct_against_the_dark_a_tall_white_fountain_played.png\"\n"
     ]
    },
    {
     "name": "stderr",
     "output_type": "stream",
     "text": [
      "\n",
      "loss: tensor([-23.2484], device='cuda:0', grad_fn=<AddBackward0>):   6%|▌         | 18/300 [00:09<02:17,  2.06it/s]\u001b[A\n",
      "loss: tensor([-23.2484], device='cuda:0', grad_fn=<AddBackward0>):   6%|▋         | 19/300 [00:09<02:17,  2.05it/s]\u001b[A"
     ]
    },
    {
     "name": "stdout",
     "output_type": "stream",
     "text": [
      "image updated at \"./210215-053843-And_dreadfully_distinct_against_the_dark_a_tall_white_fountain_played.png\"\n"
     ]
    },
    {
     "name": "stderr",
     "output_type": "stream",
     "text": [
      "\n",
      "loss: tensor([-23.6253], device='cuda:0', grad_fn=<AddBackward0>):   6%|▋         | 19/300 [00:09<02:17,  2.05it/s]\u001b[A\n",
      "loss: tensor([-23.6253], device='cuda:0', grad_fn=<AddBackward0>):   7%|▋         | 20/300 [00:09<02:15,  2.06it/s]\u001b[A"
     ]
    },
    {
     "name": "stdout",
     "output_type": "stream",
     "text": [
      "image updated at \"./210215-053843-And_dreadfully_distinct_against_the_dark_a_tall_white_fountain_played.png\"\n"
     ]
    },
    {
     "name": "stderr",
     "output_type": "stream",
     "text": [
      "\n",
      "loss: tensor([-23.6188], device='cuda:0', grad_fn=<AddBackward0>):   7%|▋         | 20/300 [00:10<02:15,  2.06it/s]\u001b[A\n",
      "loss: tensor([-23.6188], device='cuda:0', grad_fn=<AddBackward0>):   7%|▋         | 21/300 [00:10<02:14,  2.08it/s]\u001b[A"
     ]
    },
    {
     "name": "stdout",
     "output_type": "stream",
     "text": [
      "image updated at \"./210215-053843-And_dreadfully_distinct_against_the_dark_a_tall_white_fountain_played.png\"\n"
     ]
    },
    {
     "name": "stderr",
     "output_type": "stream",
     "text": [
      "\n",
      "loss: tensor([-24.3518], device='cuda:0', grad_fn=<AddBackward0>):   7%|▋         | 21/300 [00:10<02:14,  2.08it/s]\u001b[A\n",
      "loss: tensor([-24.3518], device='cuda:0', grad_fn=<AddBackward0>):   7%|▋         | 22/300 [00:10<02:11,  2.11it/s]\u001b[A"
     ]
    },
    {
     "name": "stdout",
     "output_type": "stream",
     "text": [
      "image updated at \"./210215-053843-And_dreadfully_distinct_against_the_dark_a_tall_white_fountain_played.png\"\n"
     ]
    },
    {
     "name": "stderr",
     "output_type": "stream",
     "text": [
      "\n",
      "loss: tensor([-24.0553], device='cuda:0', grad_fn=<AddBackward0>):   7%|▋         | 22/300 [00:11<02:11,  2.11it/s]\u001b[A\n",
      "loss: tensor([-24.0553], device='cuda:0', grad_fn=<AddBackward0>):   8%|▊         | 23/300 [00:11<02:09,  2.14it/s]\u001b[A"
     ]
    },
    {
     "name": "stdout",
     "output_type": "stream",
     "text": [
      "image updated at \"./210215-053843-And_dreadfully_distinct_against_the_dark_a_tall_white_fountain_played.png\"\n"
     ]
    },
    {
     "name": "stderr",
     "output_type": "stream",
     "text": [
      "\n",
      "loss: tensor([-23.5003], device='cuda:0', grad_fn=<AddBackward0>):   8%|▊         | 23/300 [00:11<02:09,  2.14it/s]\u001b[A\n",
      "loss: tensor([-23.5003], device='cuda:0', grad_fn=<AddBackward0>):   8%|▊         | 24/300 [00:11<02:06,  2.18it/s]\u001b[A"
     ]
    },
    {
     "name": "stdout",
     "output_type": "stream",
     "text": [
      "image updated at \"./210215-053843-And_dreadfully_distinct_against_the_dark_a_tall_white_fountain_played.png\"\n"
     ]
    },
    {
     "name": "stderr",
     "output_type": "stream",
     "text": [
      "\n",
      "loss: tensor([-23.7198], device='cuda:0', grad_fn=<AddBackward0>):   8%|▊         | 24/300 [00:12<02:06,  2.18it/s]\u001b[A\n",
      "loss: tensor([-23.7198], device='cuda:0', grad_fn=<AddBackward0>):   8%|▊         | 25/300 [00:12<02:05,  2.19it/s]\u001b[A"
     ]
    },
    {
     "name": "stdout",
     "output_type": "stream",
     "text": [
      "image updated at \"./210215-053843-And_dreadfully_distinct_against_the_dark_a_tall_white_fountain_played.png\"\n"
     ]
    },
    {
     "name": "stderr",
     "output_type": "stream",
     "text": [
      "\n",
      "loss: tensor([-24.2978], device='cuda:0', grad_fn=<AddBackward0>):   8%|▊         | 25/300 [00:12<02:05,  2.19it/s]\u001b[A\n",
      "loss: tensor([-24.2978], device='cuda:0', grad_fn=<AddBackward0>):   9%|▊         | 26/300 [00:12<02:07,  2.14it/s]\u001b[A"
     ]
    },
    {
     "name": "stdout",
     "output_type": "stream",
     "text": [
      "image updated at \"./210215-053843-And_dreadfully_distinct_against_the_dark_a_tall_white_fountain_played.png\"\n"
     ]
    },
    {
     "name": "stderr",
     "output_type": "stream",
     "text": [
      "\n",
      "loss: tensor([-24.5668], device='cuda:0', grad_fn=<AddBackward0>):   9%|▊         | 26/300 [00:13<02:07,  2.14it/s]\u001b[A\n",
      "loss: tensor([-24.5668], device='cuda:0', grad_fn=<AddBackward0>):   9%|▉         | 27/300 [00:13<02:18,  1.98it/s]\u001b[A"
     ]
    },
    {
     "name": "stdout",
     "output_type": "stream",
     "text": [
      "image updated at \"./210215-053843-And_dreadfully_distinct_against_the_dark_a_tall_white_fountain_played.png\"\n"
     ]
    },
    {
     "name": "stderr",
     "output_type": "stream",
     "text": [
      "\n",
      "loss: tensor([-25.1754], device='cuda:0', grad_fn=<AddBackward0>):   9%|▉         | 27/300 [00:13<02:18,  1.98it/s]\u001b[A\n",
      "loss: tensor([-25.1754], device='cuda:0', grad_fn=<AddBackward0>):   9%|▉         | 28/300 [00:13<02:14,  2.03it/s]\u001b[A"
     ]
    },
    {
     "name": "stdout",
     "output_type": "stream",
     "text": [
      "image updated at \"./210215-053843-And_dreadfully_distinct_against_the_dark_a_tall_white_fountain_played.png\"\n"
     ]
    },
    {
     "name": "stderr",
     "output_type": "stream",
     "text": [
      "\n",
      "loss: tensor([-25.2060], device='cuda:0', grad_fn=<AddBackward0>):   9%|▉         | 28/300 [00:14<02:14,  2.03it/s]\u001b[A\n",
      "loss: tensor([-25.2060], device='cuda:0', grad_fn=<AddBackward0>):  10%|▉         | 29/300 [00:14<02:13,  2.04it/s]\u001b[A"
     ]
    },
    {
     "name": "stdout",
     "output_type": "stream",
     "text": [
      "image updated at \"./210215-053843-And_dreadfully_distinct_against_the_dark_a_tall_white_fountain_played.png\"\n"
     ]
    },
    {
     "name": "stderr",
     "output_type": "stream",
     "text": [
      "\n",
      "loss: tensor([-25.4843], device='cuda:0', grad_fn=<AddBackward0>):  10%|▉         | 29/300 [00:14<02:13,  2.04it/s]\u001b[A\n",
      "loss: tensor([-25.4843], device='cuda:0', grad_fn=<AddBackward0>):  10%|█         | 30/300 [00:14<02:12,  2.05it/s]\u001b[A"
     ]
    },
    {
     "name": "stdout",
     "output_type": "stream",
     "text": [
      "image updated at \"./210215-053843-And_dreadfully_distinct_against_the_dark_a_tall_white_fountain_played.png\"\n"
     ]
    },
    {
     "name": "stderr",
     "output_type": "stream",
     "text": [
      "\n",
      "loss: tensor([-25.6591], device='cuda:0', grad_fn=<AddBackward0>):  10%|█         | 30/300 [00:15<02:12,  2.05it/s]\u001b[A\n",
      "loss: tensor([-25.6591], device='cuda:0', grad_fn=<AddBackward0>):  10%|█         | 31/300 [00:15<02:11,  2.05it/s]\u001b[A"
     ]
    },
    {
     "name": "stdout",
     "output_type": "stream",
     "text": [
      "image updated at \"./210215-053843-And_dreadfully_distinct_against_the_dark_a_tall_white_fountain_played.png\"\n"
     ]
    },
    {
     "name": "stderr",
     "output_type": "stream",
     "text": [
      "\n",
      "loss: tensor([-25.9022], device='cuda:0', grad_fn=<AddBackward0>):  10%|█         | 31/300 [00:15<02:11,  2.05it/s]\u001b[A\n",
      "loss: tensor([-25.9022], device='cuda:0', grad_fn=<AddBackward0>):  11%|█         | 32/300 [00:15<02:11,  2.04it/s]\u001b[A"
     ]
    },
    {
     "name": "stdout",
     "output_type": "stream",
     "text": [
      "image updated at \"./210215-053843-And_dreadfully_distinct_against_the_dark_a_tall_white_fountain_played.png\"\n"
     ]
    },
    {
     "name": "stderr",
     "output_type": "stream",
     "text": [
      "\n",
      "loss: tensor([-26.2115], device='cuda:0', grad_fn=<AddBackward0>):  11%|█         | 32/300 [00:16<02:11,  2.04it/s]\u001b[A\n",
      "loss: tensor([-26.2115], device='cuda:0', grad_fn=<AddBackward0>):  11%|█         | 33/300 [00:16<02:12,  2.02it/s]\u001b[A"
     ]
    },
    {
     "name": "stdout",
     "output_type": "stream",
     "text": [
      "image updated at \"./210215-053843-And_dreadfully_distinct_against_the_dark_a_tall_white_fountain_played.png\"\n"
     ]
    },
    {
     "name": "stderr",
     "output_type": "stream",
     "text": [
      "\n",
      "loss: tensor([-26.5939], device='cuda:0', grad_fn=<AddBackward0>):  11%|█         | 33/300 [00:16<02:12,  2.02it/s]\u001b[A\n",
      "loss: tensor([-26.5939], device='cuda:0', grad_fn=<AddBackward0>):  11%|█▏        | 34/300 [00:16<02:11,  2.03it/s]\u001b[A"
     ]
    },
    {
     "name": "stdout",
     "output_type": "stream",
     "text": [
      "image updated at \"./210215-053843-And_dreadfully_distinct_against_the_dark_a_tall_white_fountain_played.png\"\n"
     ]
    },
    {
     "name": "stderr",
     "output_type": "stream",
     "text": [
      "\n",
      "loss: tensor([-27.0182], device='cuda:0', grad_fn=<AddBackward0>):  11%|█▏        | 34/300 [00:17<02:11,  2.03it/s]\u001b[A\n",
      "loss: tensor([-27.0182], device='cuda:0', grad_fn=<AddBackward0>):  12%|█▏        | 35/300 [00:17<02:09,  2.05it/s]\u001b[A"
     ]
    },
    {
     "name": "stdout",
     "output_type": "stream",
     "text": [
      "image updated at \"./210215-053843-And_dreadfully_distinct_against_the_dark_a_tall_white_fountain_played.png\"\n"
     ]
    },
    {
     "name": "stderr",
     "output_type": "stream",
     "text": [
      "\n",
      "loss: tensor([-27.0315], device='cuda:0', grad_fn=<AddBackward0>):  12%|█▏        | 35/300 [00:17<02:09,  2.05it/s]\u001b[A\n",
      "loss: tensor([-27.0315], device='cuda:0', grad_fn=<AddBackward0>):  12%|█▏        | 36/300 [00:17<02:08,  2.05it/s]\u001b[A"
     ]
    },
    {
     "name": "stdout",
     "output_type": "stream",
     "text": [
      "image updated at \"./210215-053843-And_dreadfully_distinct_against_the_dark_a_tall_white_fountain_played.png\"\n"
     ]
    },
    {
     "name": "stderr",
     "output_type": "stream",
     "text": [
      "\n",
      "loss: tensor([-27.1213], device='cuda:0', grad_fn=<AddBackward0>):  12%|█▏        | 36/300 [00:18<02:08,  2.05it/s]\u001b[A\n",
      "loss: tensor([-27.1213], device='cuda:0', grad_fn=<AddBackward0>):  12%|█▏        | 37/300 [00:18<02:08,  2.04it/s]\u001b[A"
     ]
    },
    {
     "name": "stdout",
     "output_type": "stream",
     "text": [
      "image updated at \"./210215-053843-And_dreadfully_distinct_against_the_dark_a_tall_white_fountain_played.png\"\n"
     ]
    },
    {
     "name": "stderr",
     "output_type": "stream",
     "text": [
      "\n",
      "loss: tensor([-27.4023], device='cuda:0', grad_fn=<AddBackward0>):  12%|█▏        | 37/300 [00:18<02:08,  2.04it/s]\u001b[A\n",
      "loss: tensor([-27.4023], device='cuda:0', grad_fn=<AddBackward0>):  13%|█▎        | 38/300 [00:18<02:08,  2.04it/s]\u001b[A"
     ]
    },
    {
     "name": "stdout",
     "output_type": "stream",
     "text": [
      "image updated at \"./210215-053843-And_dreadfully_distinct_against_the_dark_a_tall_white_fountain_played.png\"\n"
     ]
    },
    {
     "name": "stderr",
     "output_type": "stream",
     "text": [
      "\n",
      "loss: tensor([-27.4803], device='cuda:0', grad_fn=<AddBackward0>):  13%|█▎        | 38/300 [00:19<02:08,  2.04it/s]\u001b[A\n",
      "loss: tensor([-27.4803], device='cuda:0', grad_fn=<AddBackward0>):  13%|█▎        | 39/300 [00:19<02:08,  2.04it/s]\u001b[A"
     ]
    },
    {
     "name": "stdout",
     "output_type": "stream",
     "text": [
      "image updated at \"./210215-053843-And_dreadfully_distinct_against_the_dark_a_tall_white_fountain_played.png\"\n"
     ]
    },
    {
     "name": "stderr",
     "output_type": "stream",
     "text": [
      "\n",
      "loss: tensor([-27.6353], device='cuda:0', grad_fn=<AddBackward0>):  13%|█▎        | 39/300 [00:19<02:08,  2.04it/s]\u001b[A\n",
      "loss: tensor([-27.6353], device='cuda:0', grad_fn=<AddBackward0>):  13%|█▎        | 40/300 [00:19<02:08,  2.03it/s]\u001b[A"
     ]
    },
    {
     "name": "stdout",
     "output_type": "stream",
     "text": [
      "image updated at \"./210215-053843-And_dreadfully_distinct_against_the_dark_a_tall_white_fountain_played.png\"\n"
     ]
    },
    {
     "name": "stderr",
     "output_type": "stream",
     "text": [
      "\n",
      "loss: tensor([-27.5626], device='cuda:0', grad_fn=<AddBackward0>):  13%|█▎        | 40/300 [00:20<02:08,  2.03it/s]\u001b[A\n",
      "loss: tensor([-27.5626], device='cuda:0', grad_fn=<AddBackward0>):  14%|█▎        | 41/300 [00:20<02:06,  2.05it/s]\u001b[A"
     ]
    },
    {
     "name": "stdout",
     "output_type": "stream",
     "text": [
      "image updated at \"./210215-053843-And_dreadfully_distinct_against_the_dark_a_tall_white_fountain_played.png\"\n"
     ]
    },
    {
     "name": "stderr",
     "output_type": "stream",
     "text": [
      "\n",
      "loss: tensor([-27.7956], device='cuda:0', grad_fn=<AddBackward0>):  14%|█▎        | 41/300 [00:20<02:06,  2.05it/s]\u001b[A\n",
      "loss: tensor([-27.7956], device='cuda:0', grad_fn=<AddBackward0>):  14%|█▍        | 42/300 [00:20<02:05,  2.06it/s]\u001b[A"
     ]
    },
    {
     "name": "stdout",
     "output_type": "stream",
     "text": [
      "image updated at \"./210215-053843-And_dreadfully_distinct_against_the_dark_a_tall_white_fountain_played.png\"\n"
     ]
    },
    {
     "name": "stderr",
     "output_type": "stream",
     "text": [
      "\n",
      "loss: tensor([-27.8049], device='cuda:0', grad_fn=<AddBackward0>):  14%|█▍        | 42/300 [00:21<02:05,  2.06it/s]\u001b[A\n",
      "loss: tensor([-27.8049], device='cuda:0', grad_fn=<AddBackward0>):  14%|█▍        | 43/300 [00:21<02:04,  2.06it/s]\u001b[A"
     ]
    },
    {
     "name": "stdout",
     "output_type": "stream",
     "text": [
      "image updated at \"./210215-053843-And_dreadfully_distinct_against_the_dark_a_tall_white_fountain_played.png\"\n"
     ]
    },
    {
     "name": "stderr",
     "output_type": "stream",
     "text": [
      "\n",
      "loss: tensor([-28.0651], device='cuda:0', grad_fn=<AddBackward0>):  14%|█▍        | 43/300 [00:21<02:04,  2.06it/s]\u001b[A\n",
      "loss: tensor([-28.0651], device='cuda:0', grad_fn=<AddBackward0>):  15%|█▍        | 44/300 [00:21<02:03,  2.07it/s]\u001b[A"
     ]
    },
    {
     "name": "stdout",
     "output_type": "stream",
     "text": [
      "image updated at \"./210215-053843-And_dreadfully_distinct_against_the_dark_a_tall_white_fountain_played.png\"\n"
     ]
    },
    {
     "name": "stderr",
     "output_type": "stream",
     "text": [
      "\n",
      "loss: tensor([-27.9233], device='cuda:0', grad_fn=<AddBackward0>):  15%|█▍        | 44/300 [00:22<02:03,  2.07it/s]\u001b[A\n",
      "loss: tensor([-27.9233], device='cuda:0', grad_fn=<AddBackward0>):  15%|█▌        | 45/300 [00:22<02:03,  2.07it/s]\u001b[A"
     ]
    },
    {
     "name": "stdout",
     "output_type": "stream",
     "text": [
      "image updated at \"./210215-053843-And_dreadfully_distinct_against_the_dark_a_tall_white_fountain_played.png\"\n"
     ]
    },
    {
     "name": "stderr",
     "output_type": "stream",
     "text": [
      "\n",
      "loss: tensor([-27.8735], device='cuda:0', grad_fn=<AddBackward0>):  15%|█▌        | 45/300 [00:22<02:03,  2.07it/s]\u001b[A\n",
      "loss: tensor([-27.8735], device='cuda:0', grad_fn=<AddBackward0>):  15%|█▌        | 46/300 [00:22<02:03,  2.06it/s]\u001b[A"
     ]
    },
    {
     "name": "stdout",
     "output_type": "stream",
     "text": [
      "image updated at \"./210215-053843-And_dreadfully_distinct_against_the_dark_a_tall_white_fountain_played.png\"\n"
     ]
    },
    {
     "name": "stderr",
     "output_type": "stream",
     "text": [
      "\n",
      "loss: tensor([-27.9254], device='cuda:0', grad_fn=<AddBackward0>):  15%|█▌        | 46/300 [00:23<02:03,  2.06it/s]\u001b[A\n",
      "loss: tensor([-27.9254], device='cuda:0', grad_fn=<AddBackward0>):  16%|█▌        | 47/300 [00:23<02:06,  1.99it/s]\u001b[A"
     ]
    },
    {
     "name": "stdout",
     "output_type": "stream",
     "text": [
      "image updated at \"./210215-053843-And_dreadfully_distinct_against_the_dark_a_tall_white_fountain_played.png\"\n"
     ]
    },
    {
     "name": "stderr",
     "output_type": "stream",
     "text": [
      "\n",
      "loss: tensor([-28.1431], device='cuda:0', grad_fn=<AddBackward0>):  16%|█▌        | 47/300 [00:23<02:06,  1.99it/s]\u001b[A\n",
      "loss: tensor([-28.1431], device='cuda:0', grad_fn=<AddBackward0>):  16%|█▌        | 48/300 [00:23<02:06,  1.99it/s]\u001b[A"
     ]
    },
    {
     "name": "stdout",
     "output_type": "stream",
     "text": [
      "image updated at \"./210215-053843-And_dreadfully_distinct_against_the_dark_a_tall_white_fountain_played.png\"\n"
     ]
    },
    {
     "name": "stderr",
     "output_type": "stream",
     "text": [
      "\n",
      "loss: tensor([-28.1658], device='cuda:0', grad_fn=<AddBackward0>):  16%|█▌        | 48/300 [00:24<02:06,  1.99it/s]\u001b[A\n",
      "loss: tensor([-28.1658], device='cuda:0', grad_fn=<AddBackward0>):  16%|█▋        | 49/300 [00:24<02:05,  2.01it/s]\u001b[A"
     ]
    },
    {
     "name": "stdout",
     "output_type": "stream",
     "text": [
      "image updated at \"./210215-053843-And_dreadfully_distinct_against_the_dark_a_tall_white_fountain_played.png\"\n"
     ]
    },
    {
     "name": "stderr",
     "output_type": "stream",
     "text": [
      "\n",
      "loss: tensor([-28.4132], device='cuda:0', grad_fn=<AddBackward0>):  16%|█▋        | 49/300 [00:24<02:05,  2.01it/s]\u001b[A\n",
      "loss: tensor([-28.4132], device='cuda:0', grad_fn=<AddBackward0>):  17%|█▋        | 50/300 [00:24<02:03,  2.03it/s]\u001b[A"
     ]
    },
    {
     "name": "stdout",
     "output_type": "stream",
     "text": [
      "image updated at \"./210215-053843-And_dreadfully_distinct_against_the_dark_a_tall_white_fountain_played.png\"\n"
     ]
    },
    {
     "name": "stderr",
     "output_type": "stream",
     "text": [
      "\n",
      "loss: tensor([-28.4353], device='cuda:0', grad_fn=<AddBackward0>):  17%|█▋        | 50/300 [00:25<02:03,  2.03it/s]\u001b[A\n",
      "loss: tensor([-28.4353], device='cuda:0', grad_fn=<AddBackward0>):  17%|█▋        | 51/300 [00:25<02:01,  2.04it/s]\u001b[A"
     ]
    },
    {
     "name": "stdout",
     "output_type": "stream",
     "text": [
      "image updated at \"./210215-053843-And_dreadfully_distinct_against_the_dark_a_tall_white_fountain_played.png\"\n"
     ]
    },
    {
     "name": "stderr",
     "output_type": "stream",
     "text": [
      "\n",
      "loss: tensor([-28.6414], device='cuda:0', grad_fn=<AddBackward0>):  17%|█▋        | 51/300 [00:25<02:01,  2.04it/s]\u001b[A\n",
      "loss: tensor([-28.6414], device='cuda:0', grad_fn=<AddBackward0>):  17%|█▋        | 52/300 [00:25<02:00,  2.05it/s]\u001b[A"
     ]
    },
    {
     "name": "stdout",
     "output_type": "stream",
     "text": [
      "image updated at \"./210215-053843-And_dreadfully_distinct_against_the_dark_a_tall_white_fountain_played.png\"\n"
     ]
    },
    {
     "name": "stderr",
     "output_type": "stream",
     "text": [
      "\n",
      "loss: tensor([-28.5724], device='cuda:0', grad_fn=<AddBackward0>):  17%|█▋        | 52/300 [00:25<02:00,  2.05it/s]\u001b[A\n",
      "loss: tensor([-28.5724], device='cuda:0', grad_fn=<AddBackward0>):  18%|█▊        | 53/300 [00:25<02:00,  2.06it/s]\u001b[A"
     ]
    },
    {
     "name": "stdout",
     "output_type": "stream",
     "text": [
      "image updated at \"./210215-053843-And_dreadfully_distinct_against_the_dark_a_tall_white_fountain_played.png\"\n"
     ]
    },
    {
     "name": "stderr",
     "output_type": "stream",
     "text": [
      "\n",
      "loss: tensor([-28.6892], device='cuda:0', grad_fn=<AddBackward0>):  18%|█▊        | 53/300 [00:26<02:00,  2.06it/s]\u001b[A\n",
      "loss: tensor([-28.6892], device='cuda:0', grad_fn=<AddBackward0>):  18%|█▊        | 54/300 [00:26<01:59,  2.06it/s]\u001b[A"
     ]
    },
    {
     "name": "stdout",
     "output_type": "stream",
     "text": [
      "image updated at \"./210215-053843-And_dreadfully_distinct_against_the_dark_a_tall_white_fountain_played.png\"\n"
     ]
    },
    {
     "name": "stderr",
     "output_type": "stream",
     "text": [
      "\n",
      "loss: tensor([-28.7994], device='cuda:0', grad_fn=<AddBackward0>):  18%|█▊        | 54/300 [00:26<01:59,  2.06it/s]\u001b[A\n",
      "loss: tensor([-28.7994], device='cuda:0', grad_fn=<AddBackward0>):  18%|█▊        | 55/300 [00:26<01:58,  2.06it/s]\u001b[A"
     ]
    },
    {
     "name": "stdout",
     "output_type": "stream",
     "text": [
      "image updated at \"./210215-053843-And_dreadfully_distinct_against_the_dark_a_tall_white_fountain_played.png\"\n"
     ]
    },
    {
     "name": "stderr",
     "output_type": "stream",
     "text": [
      "\n",
      "loss: tensor([-28.7263], device='cuda:0', grad_fn=<AddBackward0>):  18%|█▊        | 55/300 [00:27<01:58,  2.06it/s]\u001b[A\n",
      "loss: tensor([-28.7263], device='cuda:0', grad_fn=<AddBackward0>):  19%|█▊        | 56/300 [00:27<01:58,  2.07it/s]\u001b[A"
     ]
    },
    {
     "name": "stdout",
     "output_type": "stream",
     "text": [
      "image updated at \"./210215-053843-And_dreadfully_distinct_against_the_dark_a_tall_white_fountain_played.png\"\n"
     ]
    },
    {
     "name": "stderr",
     "output_type": "stream",
     "text": [
      "\n",
      "loss: tensor([-28.9653], device='cuda:0', grad_fn=<AddBackward0>):  19%|█▊        | 56/300 [00:27<01:58,  2.07it/s]\u001b[A\n",
      "loss: tensor([-28.9653], device='cuda:0', grad_fn=<AddBackward0>):  19%|█▉        | 57/300 [00:27<01:57,  2.08it/s]\u001b[A"
     ]
    },
    {
     "name": "stdout",
     "output_type": "stream",
     "text": [
      "image updated at \"./210215-053843-And_dreadfully_distinct_against_the_dark_a_tall_white_fountain_played.png\"\n"
     ]
    },
    {
     "name": "stderr",
     "output_type": "stream",
     "text": [
      "\n",
      "loss: tensor([-28.8108], device='cuda:0', grad_fn=<AddBackward0>):  19%|█▉        | 57/300 [00:28<01:57,  2.08it/s]\u001b[A\n",
      "loss: tensor([-28.8108], device='cuda:0', grad_fn=<AddBackward0>):  19%|█▉        | 58/300 [00:28<01:56,  2.08it/s]\u001b[A"
     ]
    },
    {
     "name": "stdout",
     "output_type": "stream",
     "text": [
      "image updated at \"./210215-053843-And_dreadfully_distinct_against_the_dark_a_tall_white_fountain_played.png\"\n"
     ]
    },
    {
     "name": "stderr",
     "output_type": "stream",
     "text": [
      "\n",
      "loss: tensor([-28.9377], device='cuda:0', grad_fn=<AddBackward0>):  19%|█▉        | 58/300 [00:28<01:56,  2.08it/s]\u001b[A\n",
      "loss: tensor([-28.9377], device='cuda:0', grad_fn=<AddBackward0>):  20%|█▉        | 59/300 [00:28<01:55,  2.08it/s]\u001b[A"
     ]
    },
    {
     "name": "stdout",
     "output_type": "stream",
     "text": [
      "image updated at \"./210215-053843-And_dreadfully_distinct_against_the_dark_a_tall_white_fountain_played.png\"\n"
     ]
    },
    {
     "name": "stderr",
     "output_type": "stream",
     "text": [
      "\n",
      "loss: tensor([-28.5995], device='cuda:0', grad_fn=<AddBackward0>):  20%|█▉        | 59/300 [00:29<01:55,  2.08it/s]\u001b[A\n",
      "loss: tensor([-28.5995], device='cuda:0', grad_fn=<AddBackward0>):  20%|██        | 60/300 [00:29<01:55,  2.08it/s]\u001b[A"
     ]
    },
    {
     "name": "stdout",
     "output_type": "stream",
     "text": [
      "image updated at \"./210215-053843-And_dreadfully_distinct_against_the_dark_a_tall_white_fountain_played.png\"\n"
     ]
    },
    {
     "name": "stderr",
     "output_type": "stream",
     "text": [
      "\n",
      "loss: tensor([-28.7168], device='cuda:0', grad_fn=<AddBackward0>):  20%|██        | 60/300 [00:29<01:55,  2.08it/s]\u001b[A\n",
      "loss: tensor([-28.7168], device='cuda:0', grad_fn=<AddBackward0>):  20%|██        | 61/300 [00:29<01:54,  2.09it/s]\u001b[A"
     ]
    },
    {
     "name": "stdout",
     "output_type": "stream",
     "text": [
      "image updated at \"./210215-053843-And_dreadfully_distinct_against_the_dark_a_tall_white_fountain_played.png\"\n"
     ]
    },
    {
     "name": "stderr",
     "output_type": "stream",
     "text": [
      "\n",
      "loss: tensor([-28.8347], device='cuda:0', grad_fn=<AddBackward0>):  20%|██        | 61/300 [00:30<01:54,  2.09it/s]\u001b[A\n",
      "loss: tensor([-28.8347], device='cuda:0', grad_fn=<AddBackward0>):  21%|██        | 62/300 [00:30<01:54,  2.09it/s]\u001b[A"
     ]
    },
    {
     "name": "stdout",
     "output_type": "stream",
     "text": [
      "image updated at \"./210215-053843-And_dreadfully_distinct_against_the_dark_a_tall_white_fountain_played.png\"\n"
     ]
    },
    {
     "name": "stderr",
     "output_type": "stream",
     "text": [
      "\n",
      "loss: tensor([-28.9086], device='cuda:0', grad_fn=<AddBackward0>):  21%|██        | 62/300 [00:30<01:54,  2.09it/s]\u001b[A\n",
      "loss: tensor([-28.9086], device='cuda:0', grad_fn=<AddBackward0>):  21%|██        | 63/300 [00:30<01:53,  2.08it/s]\u001b[A"
     ]
    },
    {
     "name": "stdout",
     "output_type": "stream",
     "text": [
      "image updated at \"./210215-053843-And_dreadfully_distinct_against_the_dark_a_tall_white_fountain_played.png\"\n"
     ]
    },
    {
     "name": "stderr",
     "output_type": "stream",
     "text": [
      "\n",
      "loss: tensor([-29.0886], device='cuda:0', grad_fn=<AddBackward0>):  21%|██        | 63/300 [00:31<01:53,  2.08it/s]\u001b[A\n",
      "loss: tensor([-29.0886], device='cuda:0', grad_fn=<AddBackward0>):  21%|██▏       | 64/300 [00:31<01:53,  2.08it/s]\u001b[A"
     ]
    },
    {
     "name": "stdout",
     "output_type": "stream",
     "text": [
      "image updated at \"./210215-053843-And_dreadfully_distinct_against_the_dark_a_tall_white_fountain_played.png\"\n"
     ]
    },
    {
     "name": "stderr",
     "output_type": "stream",
     "text": [
      "\n",
      "loss: tensor([-29.1149], device='cuda:0', grad_fn=<AddBackward0>):  21%|██▏       | 64/300 [00:31<01:53,  2.08it/s]\u001b[A\n",
      "loss: tensor([-29.1149], device='cuda:0', grad_fn=<AddBackward0>):  22%|██▏       | 65/300 [00:31<01:52,  2.09it/s]\u001b[A"
     ]
    },
    {
     "name": "stdout",
     "output_type": "stream",
     "text": [
      "image updated at \"./210215-053843-And_dreadfully_distinct_against_the_dark_a_tall_white_fountain_played.png\"\n"
     ]
    },
    {
     "name": "stderr",
     "output_type": "stream",
     "text": [
      "\n",
      "loss: tensor([-29.1284], device='cuda:0', grad_fn=<AddBackward0>):  22%|██▏       | 65/300 [00:32<01:52,  2.09it/s]\u001b[A\n",
      "loss: tensor([-29.1284], device='cuda:0', grad_fn=<AddBackward0>):  22%|██▏       | 66/300 [00:32<01:52,  2.09it/s]\u001b[A"
     ]
    },
    {
     "name": "stdout",
     "output_type": "stream",
     "text": [
      "image updated at \"./210215-053843-And_dreadfully_distinct_against_the_dark_a_tall_white_fountain_played.png\"\n"
     ]
    },
    {
     "name": "stderr",
     "output_type": "stream",
     "text": [
      "\n",
      "loss: tensor([-29.1954], device='cuda:0', grad_fn=<AddBackward0>):  22%|██▏       | 66/300 [00:32<01:52,  2.09it/s]\u001b[A\n",
      "loss: tensor([-29.1954], device='cuda:0', grad_fn=<AddBackward0>):  22%|██▏       | 67/300 [00:32<01:52,  2.07it/s]\u001b[A"
     ]
    },
    {
     "name": "stdout",
     "output_type": "stream",
     "text": [
      "image updated at \"./210215-053843-And_dreadfully_distinct_against_the_dark_a_tall_white_fountain_played.png\"\n"
     ]
    },
    {
     "name": "stderr",
     "output_type": "stream",
     "text": [
      "\n",
      "loss: tensor([-29.3924], device='cuda:0', grad_fn=<AddBackward0>):  22%|██▏       | 67/300 [00:33<01:52,  2.07it/s]\u001b[A\n",
      "loss: tensor([-29.3924], device='cuda:0', grad_fn=<AddBackward0>):  23%|██▎       | 68/300 [00:33<01:52,  2.07it/s]\u001b[A"
     ]
    },
    {
     "name": "stdout",
     "output_type": "stream",
     "text": [
      "image updated at \"./210215-053843-And_dreadfully_distinct_against_the_dark_a_tall_white_fountain_played.png\"\n"
     ]
    },
    {
     "name": "stderr",
     "output_type": "stream",
     "text": [
      "\n",
      "loss: tensor([-29.3700], device='cuda:0', grad_fn=<AddBackward0>):  23%|██▎       | 68/300 [00:33<01:52,  2.07it/s]\u001b[A\n",
      "loss: tensor([-29.3700], device='cuda:0', grad_fn=<AddBackward0>):  23%|██▎       | 69/300 [00:33<01:52,  2.05it/s]\u001b[A"
     ]
    },
    {
     "name": "stdout",
     "output_type": "stream",
     "text": [
      "image updated at \"./210215-053843-And_dreadfully_distinct_against_the_dark_a_tall_white_fountain_played.png\"\n"
     ]
    },
    {
     "name": "stderr",
     "output_type": "stream",
     "text": [
      "\n",
      "loss: tensor([-29.2541], device='cuda:0', grad_fn=<AddBackward0>):  23%|██▎       | 69/300 [00:34<01:52,  2.05it/s]\u001b[A\n",
      "loss: tensor([-29.2541], device='cuda:0', grad_fn=<AddBackward0>):  23%|██▎       | 70/300 [00:34<01:54,  2.02it/s]\u001b[A"
     ]
    },
    {
     "name": "stdout",
     "output_type": "stream",
     "text": [
      "image updated at \"./210215-053843-And_dreadfully_distinct_against_the_dark_a_tall_white_fountain_played.png\"\n"
     ]
    },
    {
     "name": "stderr",
     "output_type": "stream",
     "text": [
      "\n",
      "loss: tensor([-29.3958], device='cuda:0', grad_fn=<AddBackward0>):  23%|██▎       | 70/300 [00:34<01:54,  2.02it/s]\u001b[A\n",
      "loss: tensor([-29.3958], device='cuda:0', grad_fn=<AddBackward0>):  24%|██▎       | 71/300 [00:34<01:54,  2.01it/s]\u001b[A"
     ]
    },
    {
     "name": "stdout",
     "output_type": "stream",
     "text": [
      "image updated at \"./210215-053843-And_dreadfully_distinct_against_the_dark_a_tall_white_fountain_played.png\"\n"
     ]
    },
    {
     "name": "stderr",
     "output_type": "stream",
     "text": [
      "\n",
      "loss: tensor([-29.1256], device='cuda:0', grad_fn=<AddBackward0>):  24%|██▎       | 71/300 [00:35<01:54,  2.01it/s]\u001b[A\n",
      "loss: tensor([-29.1256], device='cuda:0', grad_fn=<AddBackward0>):  24%|██▍       | 72/300 [00:35<01:53,  2.01it/s]\u001b[A"
     ]
    },
    {
     "name": "stdout",
     "output_type": "stream",
     "text": [
      "image updated at \"./210215-053843-And_dreadfully_distinct_against_the_dark_a_tall_white_fountain_played.png\"\n"
     ]
    },
    {
     "name": "stderr",
     "output_type": "stream",
     "text": [
      "\n",
      "loss: tensor([-29.2260], device='cuda:0', grad_fn=<AddBackward0>):  24%|██▍       | 72/300 [00:35<01:53,  2.01it/s]\u001b[A\n",
      "loss: tensor([-29.2260], device='cuda:0', grad_fn=<AddBackward0>):  24%|██▍       | 73/300 [00:35<01:52,  2.01it/s]\u001b[A"
     ]
    },
    {
     "name": "stdout",
     "output_type": "stream",
     "text": [
      "image updated at \"./210215-053843-And_dreadfully_distinct_against_the_dark_a_tall_white_fountain_played.png\"\n"
     ]
    },
    {
     "name": "stderr",
     "output_type": "stream",
     "text": [
      "\n",
      "loss: tensor([-29.5036], device='cuda:0', grad_fn=<AddBackward0>):  24%|██▍       | 73/300 [00:36<01:52,  2.01it/s]\u001b[A\n",
      "loss: tensor([-29.5036], device='cuda:0', grad_fn=<AddBackward0>):  25%|██▍       | 74/300 [00:36<01:52,  2.00it/s]\u001b[A"
     ]
    },
    {
     "name": "stdout",
     "output_type": "stream",
     "text": [
      "image updated at \"./210215-053843-And_dreadfully_distinct_against_the_dark_a_tall_white_fountain_played.png\"\n"
     ]
    },
    {
     "name": "stderr",
     "output_type": "stream",
     "text": [
      "\n",
      "loss: tensor([-29.4964], device='cuda:0', grad_fn=<AddBackward0>):  25%|██▍       | 74/300 [00:36<01:52,  2.00it/s]\u001b[A\n",
      "loss: tensor([-29.4964], device='cuda:0', grad_fn=<AddBackward0>):  25%|██▌       | 75/300 [00:36<01:52,  1.99it/s]\u001b[A"
     ]
    },
    {
     "name": "stdout",
     "output_type": "stream",
     "text": [
      "image updated at \"./210215-053843-And_dreadfully_distinct_against_the_dark_a_tall_white_fountain_played.png\"\n"
     ]
    },
    {
     "name": "stderr",
     "output_type": "stream",
     "text": [
      "\n",
      "loss: tensor([-29.4741], device='cuda:0', grad_fn=<AddBackward0>):  25%|██▌       | 75/300 [00:37<01:52,  1.99it/s]\u001b[A\n",
      "loss: tensor([-29.4741], device='cuda:0', grad_fn=<AddBackward0>):  25%|██▌       | 76/300 [00:37<01:52,  1.98it/s]\u001b[A"
     ]
    },
    {
     "name": "stdout",
     "output_type": "stream",
     "text": [
      "image updated at \"./210215-053843-And_dreadfully_distinct_against_the_dark_a_tall_white_fountain_played.png\"\n"
     ]
    },
    {
     "name": "stderr",
     "output_type": "stream",
     "text": [
      "\n",
      "loss: tensor([-29.4298], device='cuda:0', grad_fn=<AddBackward0>):  25%|██▌       | 76/300 [00:37<01:52,  1.98it/s]\u001b[A\n",
      "loss: tensor([-29.4298], device='cuda:0', grad_fn=<AddBackward0>):  26%|██▌       | 77/300 [00:37<01:52,  1.98it/s]\u001b[A"
     ]
    },
    {
     "name": "stdout",
     "output_type": "stream",
     "text": [
      "image updated at \"./210215-053843-And_dreadfully_distinct_against_the_dark_a_tall_white_fountain_played.png\"\n"
     ]
    },
    {
     "name": "stderr",
     "output_type": "stream",
     "text": [
      "\n",
      "loss: tensor([-29.5223], device='cuda:0', grad_fn=<AddBackward0>):  26%|██▌       | 77/300 [00:38<01:52,  1.98it/s]\u001b[A\n",
      "loss: tensor([-29.5223], device='cuda:0', grad_fn=<AddBackward0>):  26%|██▌       | 78/300 [00:38<01:51,  1.98it/s]\u001b[A"
     ]
    },
    {
     "name": "stdout",
     "output_type": "stream",
     "text": [
      "image updated at \"./210215-053843-And_dreadfully_distinct_against_the_dark_a_tall_white_fountain_played.png\"\n"
     ]
    },
    {
     "name": "stderr",
     "output_type": "stream",
     "text": [
      "\n",
      "loss: tensor([-29.5334], device='cuda:0', grad_fn=<AddBackward0>):  26%|██▌       | 78/300 [00:38<01:51,  1.98it/s]\u001b[A\n",
      "loss: tensor([-29.5334], device='cuda:0', grad_fn=<AddBackward0>):  26%|██▋       | 79/300 [00:38<01:51,  1.98it/s]\u001b[A"
     ]
    },
    {
     "name": "stdout",
     "output_type": "stream",
     "text": [
      "image updated at \"./210215-053843-And_dreadfully_distinct_against_the_dark_a_tall_white_fountain_played.png\"\n"
     ]
    },
    {
     "name": "stderr",
     "output_type": "stream",
     "text": [
      "\n",
      "loss: tensor([-29.7119], device='cuda:0', grad_fn=<AddBackward0>):  26%|██▋       | 79/300 [00:39<01:51,  1.98it/s]\u001b[A\n",
      "loss: tensor([-29.7119], device='cuda:0', grad_fn=<AddBackward0>):  27%|██▋       | 80/300 [00:39<01:51,  1.97it/s]\u001b[A"
     ]
    },
    {
     "name": "stdout",
     "output_type": "stream",
     "text": [
      "image updated at \"./210215-053843-And_dreadfully_distinct_against_the_dark_a_tall_white_fountain_played.png\"\n"
     ]
    },
    {
     "name": "stderr",
     "output_type": "stream",
     "text": [
      "\n",
      "loss: tensor([-29.6212], device='cuda:0', grad_fn=<AddBackward0>):  27%|██▋       | 80/300 [00:39<01:51,  1.97it/s]\u001b[A\n",
      "loss: tensor([-29.6212], device='cuda:0', grad_fn=<AddBackward0>):  27%|██▋       | 81/300 [00:39<01:51,  1.97it/s]\u001b[A"
     ]
    },
    {
     "name": "stdout",
     "output_type": "stream",
     "text": [
      "image updated at \"./210215-053843-And_dreadfully_distinct_against_the_dark_a_tall_white_fountain_played.png\"\n"
     ]
    },
    {
     "name": "stderr",
     "output_type": "stream",
     "text": [
      "\n",
      "loss: tensor([-29.6485], device='cuda:0', grad_fn=<AddBackward0>):  27%|██▋       | 81/300 [00:40<01:51,  1.97it/s]\u001b[A\n",
      "loss: tensor([-29.6485], device='cuda:0', grad_fn=<AddBackward0>):  27%|██▋       | 82/300 [00:40<01:49,  1.98it/s]\u001b[A"
     ]
    },
    {
     "name": "stdout",
     "output_type": "stream",
     "text": [
      "image updated at \"./210215-053843-And_dreadfully_distinct_against_the_dark_a_tall_white_fountain_played.png\"\n"
     ]
    },
    {
     "name": "stderr",
     "output_type": "stream",
     "text": [
      "\n",
      "loss: tensor([-29.5936], device='cuda:0', grad_fn=<AddBackward0>):  27%|██▋       | 82/300 [00:40<01:49,  1.98it/s]\u001b[A\n",
      "loss: tensor([-29.5936], device='cuda:0', grad_fn=<AddBackward0>):  28%|██▊       | 83/300 [00:40<01:48,  1.99it/s]\u001b[A"
     ]
    },
    {
     "name": "stdout",
     "output_type": "stream",
     "text": [
      "image updated at \"./210215-053843-And_dreadfully_distinct_against_the_dark_a_tall_white_fountain_played.png\"\n"
     ]
    },
    {
     "name": "stderr",
     "output_type": "stream",
     "text": [
      "\n",
      "loss: tensor([-29.9375], device='cuda:0', grad_fn=<AddBackward0>):  28%|██▊       | 83/300 [00:41<01:48,  1.99it/s]\u001b[A\n",
      "loss: tensor([-29.9375], device='cuda:0', grad_fn=<AddBackward0>):  28%|██▊       | 84/300 [00:41<01:48,  1.99it/s]\u001b[A"
     ]
    },
    {
     "name": "stdout",
     "output_type": "stream",
     "text": [
      "image updated at \"./210215-053843-And_dreadfully_distinct_against_the_dark_a_tall_white_fountain_played.png\"\n"
     ]
    },
    {
     "name": "stderr",
     "output_type": "stream",
     "text": [
      "\n",
      "loss: tensor([-29.9048], device='cuda:0', grad_fn=<AddBackward0>):  28%|██▊       | 84/300 [00:41<01:48,  1.99it/s]\u001b[A\n",
      "loss: tensor([-29.9048], device='cuda:0', grad_fn=<AddBackward0>):  28%|██▊       | 85/300 [00:41<01:48,  1.98it/s]\u001b[A"
     ]
    },
    {
     "name": "stdout",
     "output_type": "stream",
     "text": [
      "image updated at \"./210215-053843-And_dreadfully_distinct_against_the_dark_a_tall_white_fountain_played.png\"\n"
     ]
    },
    {
     "name": "stderr",
     "output_type": "stream",
     "text": [
      "\n",
      "loss: tensor([-29.8282], device='cuda:0', grad_fn=<AddBackward0>):  28%|██▊       | 85/300 [00:42<01:48,  1.98it/s]\u001b[A\n",
      "loss: tensor([-29.8282], device='cuda:0', grad_fn=<AddBackward0>):  29%|██▊       | 86/300 [00:42<01:46,  2.01it/s]\u001b[A"
     ]
    },
    {
     "name": "stdout",
     "output_type": "stream",
     "text": [
      "image updated at \"./210215-053843-And_dreadfully_distinct_against_the_dark_a_tall_white_fountain_played.png\"\n"
     ]
    },
    {
     "name": "stderr",
     "output_type": "stream",
     "text": [
      "\n",
      "loss: tensor([-30.0558], device='cuda:0', grad_fn=<AddBackward0>):  29%|██▊       | 86/300 [00:42<01:46,  2.01it/s]\u001b[A\n",
      "loss: tensor([-30.0558], device='cuda:0', grad_fn=<AddBackward0>):  29%|██▉       | 87/300 [00:42<01:46,  2.00it/s]\u001b[A"
     ]
    },
    {
     "name": "stdout",
     "output_type": "stream",
     "text": [
      "image updated at \"./210215-053843-And_dreadfully_distinct_against_the_dark_a_tall_white_fountain_played.png\"\n"
     ]
    },
    {
     "name": "stderr",
     "output_type": "stream",
     "text": [
      "\n",
      "loss: tensor([-30.0581], device='cuda:0', grad_fn=<AddBackward0>):  29%|██▉       | 87/300 [00:43<01:46,  2.00it/s]\u001b[A\n",
      "loss: tensor([-30.0581], device='cuda:0', grad_fn=<AddBackward0>):  29%|██▉       | 88/300 [00:43<01:46,  2.00it/s]\u001b[A"
     ]
    },
    {
     "name": "stdout",
     "output_type": "stream",
     "text": [
      "image updated at \"./210215-053843-And_dreadfully_distinct_against_the_dark_a_tall_white_fountain_played.png\"\n"
     ]
    },
    {
     "name": "stderr",
     "output_type": "stream",
     "text": [
      "\n",
      "loss: tensor([-30.0623], device='cuda:0', grad_fn=<AddBackward0>):  29%|██▉       | 88/300 [00:43<01:46,  2.00it/s]\u001b[A\n",
      "loss: tensor([-30.0623], device='cuda:0', grad_fn=<AddBackward0>):  30%|██▉       | 89/300 [00:43<01:46,  1.98it/s]\u001b[A"
     ]
    },
    {
     "name": "stdout",
     "output_type": "stream",
     "text": [
      "image updated at \"./210215-053843-And_dreadfully_distinct_against_the_dark_a_tall_white_fountain_played.png\"\n"
     ]
    },
    {
     "name": "stderr",
     "output_type": "stream",
     "text": [
      "\n",
      "loss: tensor([-30.3489], device='cuda:0', grad_fn=<AddBackward0>):  30%|██▉       | 89/300 [00:44<01:46,  1.98it/s]\u001b[A\n",
      "loss: tensor([-30.3489], device='cuda:0', grad_fn=<AddBackward0>):  30%|███       | 90/300 [00:44<01:46,  1.98it/s]\u001b[A"
     ]
    },
    {
     "name": "stdout",
     "output_type": "stream",
     "text": [
      "image updated at \"./210215-053843-And_dreadfully_distinct_against_the_dark_a_tall_white_fountain_played.png\"\n"
     ]
    },
    {
     "name": "stderr",
     "output_type": "stream",
     "text": [
      "\n",
      "loss: tensor([-29.8330], device='cuda:0', grad_fn=<AddBackward0>):  30%|███       | 90/300 [00:44<01:46,  1.98it/s]\u001b[A\n",
      "loss: tensor([-29.8330], device='cuda:0', grad_fn=<AddBackward0>):  30%|███       | 91/300 [00:44<01:46,  1.96it/s]\u001b[A"
     ]
    },
    {
     "name": "stdout",
     "output_type": "stream",
     "text": [
      "image updated at \"./210215-053843-And_dreadfully_distinct_against_the_dark_a_tall_white_fountain_played.png\"\n"
     ]
    },
    {
     "name": "stderr",
     "output_type": "stream",
     "text": [
      "\n",
      "loss: tensor([-30.0911], device='cuda:0', grad_fn=<AddBackward0>):  30%|███       | 91/300 [00:45<01:46,  1.96it/s]\u001b[A\n",
      "loss: tensor([-30.0911], device='cuda:0', grad_fn=<AddBackward0>):  31%|███       | 92/300 [00:45<01:48,  1.92it/s]\u001b[A"
     ]
    },
    {
     "name": "stdout",
     "output_type": "stream",
     "text": [
      "image updated at \"./210215-053843-And_dreadfully_distinct_against_the_dark_a_tall_white_fountain_played.png\"\n"
     ]
    },
    {
     "name": "stderr",
     "output_type": "stream",
     "text": [
      "\n",
      "loss: tensor([-30.1794], device='cuda:0', grad_fn=<AddBackward0>):  31%|███       | 92/300 [00:45<01:48,  1.92it/s]\u001b[A\n",
      "loss: tensor([-30.1794], device='cuda:0', grad_fn=<AddBackward0>):  31%|███       | 93/300 [00:45<01:51,  1.85it/s]\u001b[A"
     ]
    },
    {
     "name": "stdout",
     "output_type": "stream",
     "text": [
      "image updated at \"./210215-053843-And_dreadfully_distinct_against_the_dark_a_tall_white_fountain_played.png\"\n"
     ]
    },
    {
     "name": "stderr",
     "output_type": "stream",
     "text": [
      "\n",
      "loss: tensor([-30.1781], device='cuda:0', grad_fn=<AddBackward0>):  31%|███       | 93/300 [00:46<01:51,  1.85it/s]\u001b[A\n",
      "loss: tensor([-30.1781], device='cuda:0', grad_fn=<AddBackward0>):  31%|███▏      | 94/300 [00:46<01:48,  1.89it/s]\u001b[A"
     ]
    },
    {
     "name": "stdout",
     "output_type": "stream",
     "text": [
      "image updated at \"./210215-053843-And_dreadfully_distinct_against_the_dark_a_tall_white_fountain_played.png\"\n"
     ]
    },
    {
     "name": "stderr",
     "output_type": "stream",
     "text": [
      "\n",
      "loss: tensor([-30.1281], device='cuda:0', grad_fn=<AddBackward0>):  31%|███▏      | 94/300 [00:46<01:48,  1.89it/s]\u001b[A\n",
      "loss: tensor([-30.1281], device='cuda:0', grad_fn=<AddBackward0>):  32%|███▏      | 95/300 [00:46<01:47,  1.91it/s]\u001b[A"
     ]
    },
    {
     "name": "stdout",
     "output_type": "stream",
     "text": [
      "image updated at \"./210215-053843-And_dreadfully_distinct_against_the_dark_a_tall_white_fountain_played.png\"\n"
     ]
    },
    {
     "name": "stderr",
     "output_type": "stream",
     "text": [
      "\n",
      "loss: tensor([-30.1073], device='cuda:0', grad_fn=<AddBackward0>):  32%|███▏      | 95/300 [00:47<01:47,  1.91it/s]\u001b[A\n",
      "loss: tensor([-30.1073], device='cuda:0', grad_fn=<AddBackward0>):  32%|███▏      | 96/300 [00:47<01:45,  1.93it/s]\u001b[A"
     ]
    },
    {
     "name": "stdout",
     "output_type": "stream",
     "text": [
      "image updated at \"./210215-053843-And_dreadfully_distinct_against_the_dark_a_tall_white_fountain_played.png\"\n"
     ]
    },
    {
     "name": "stderr",
     "output_type": "stream",
     "text": [
      "\n",
      "loss: tensor([-30.2717], device='cuda:0', grad_fn=<AddBackward0>):  32%|███▏      | 96/300 [00:47<01:45,  1.93it/s]\u001b[A\n",
      "loss: tensor([-30.2717], device='cuda:0', grad_fn=<AddBackward0>):  32%|███▏      | 97/300 [00:47<01:44,  1.94it/s]\u001b[A"
     ]
    },
    {
     "name": "stdout",
     "output_type": "stream",
     "text": [
      "image updated at \"./210215-053843-And_dreadfully_distinct_against_the_dark_a_tall_white_fountain_played.png\"\n"
     ]
    },
    {
     "name": "stderr",
     "output_type": "stream",
     "text": [
      "\n",
      "loss: tensor([-30.1881], device='cuda:0', grad_fn=<AddBackward0>):  32%|███▏      | 97/300 [00:48<01:44,  1.94it/s]\u001b[A\n",
      "loss: tensor([-30.1881], device='cuda:0', grad_fn=<AddBackward0>):  33%|███▎      | 98/300 [00:48<01:43,  1.95it/s]\u001b[A"
     ]
    },
    {
     "name": "stdout",
     "output_type": "stream",
     "text": [
      "image updated at \"./210215-053843-And_dreadfully_distinct_against_the_dark_a_tall_white_fountain_played.png\"\n"
     ]
    },
    {
     "name": "stderr",
     "output_type": "stream",
     "text": [
      "\n",
      "loss: tensor([-30.3604], device='cuda:0', grad_fn=<AddBackward0>):  33%|███▎      | 98/300 [00:48<01:43,  1.95it/s]\u001b[A\n",
      "loss: tensor([-30.3604], device='cuda:0', grad_fn=<AddBackward0>):  33%|███▎      | 99/300 [00:48<01:42,  1.96it/s]\u001b[A"
     ]
    },
    {
     "name": "stdout",
     "output_type": "stream",
     "text": [
      "image updated at \"./210215-053843-And_dreadfully_distinct_against_the_dark_a_tall_white_fountain_played.png\"\n"
     ]
    },
    {
     "name": "stderr",
     "output_type": "stream",
     "text": [
      "\n",
      "loss: tensor([-30.3228], device='cuda:0', grad_fn=<AddBackward0>):  33%|███▎      | 99/300 [00:49<01:42,  1.96it/s]\u001b[A\n",
      "loss: tensor([-30.3228], device='cuda:0', grad_fn=<AddBackward0>):  33%|███▎      | 100/300 [00:49<01:48,  1.85it/s]\u001b[A"
     ]
    },
    {
     "name": "stdout",
     "output_type": "stream",
     "text": [
      "image updated at \"./210215-053843-And_dreadfully_distinct_against_the_dark_a_tall_white_fountain_played.png\"\n"
     ]
    },
    {
     "name": "stderr",
     "output_type": "stream",
     "text": [
      "\n",
      "loss: tensor([-30.1848], device='cuda:0', grad_fn=<AddBackward0>):  33%|███▎      | 100/300 [00:50<01:48,  1.85it/s]\u001b[A\n",
      "loss: tensor([-30.1848], device='cuda:0', grad_fn=<AddBackward0>):  34%|███▎      | 101/300 [00:50<01:49,  1.81it/s]\u001b[A"
     ]
    },
    {
     "name": "stdout",
     "output_type": "stream",
     "text": [
      "image updated at \"./210215-053843-And_dreadfully_distinct_against_the_dark_a_tall_white_fountain_played.png\"\n"
     ]
    },
    {
     "name": "stderr",
     "output_type": "stream",
     "text": [
      "\n",
      "loss: tensor([-30.1346], device='cuda:0', grad_fn=<AddBackward0>):  34%|███▎      | 101/300 [00:50<01:49,  1.81it/s]\u001b[A\n",
      "loss: tensor([-30.1346], device='cuda:0', grad_fn=<AddBackward0>):  34%|███▍      | 102/300 [00:50<01:46,  1.87it/s]\u001b[A"
     ]
    },
    {
     "name": "stdout",
     "output_type": "stream",
     "text": [
      "image updated at \"./210215-053843-And_dreadfully_distinct_against_the_dark_a_tall_white_fountain_played.png\"\n"
     ]
    },
    {
     "name": "stderr",
     "output_type": "stream",
     "text": [
      "\n",
      "loss: tensor([-30.3442], device='cuda:0', grad_fn=<AddBackward0>):  34%|███▍      | 102/300 [00:51<01:46,  1.87it/s]\u001b[A\n",
      "loss: tensor([-30.3442], device='cuda:0', grad_fn=<AddBackward0>):  34%|███▍      | 103/300 [00:51<01:43,  1.90it/s]\u001b[A"
     ]
    },
    {
     "name": "stdout",
     "output_type": "stream",
     "text": [
      "image updated at \"./210215-053843-And_dreadfully_distinct_against_the_dark_a_tall_white_fountain_played.png\"\n"
     ]
    },
    {
     "name": "stderr",
     "output_type": "stream",
     "text": [
      "\n",
      "loss: tensor([-30.4384], device='cuda:0', grad_fn=<AddBackward0>):  34%|███▍      | 103/300 [00:51<01:43,  1.90it/s]\u001b[A\n",
      "loss: tensor([-30.4384], device='cuda:0', grad_fn=<AddBackward0>):  35%|███▍      | 104/300 [00:51<01:42,  1.91it/s]\u001b[A"
     ]
    },
    {
     "name": "stdout",
     "output_type": "stream",
     "text": [
      "image updated at \"./210215-053843-And_dreadfully_distinct_against_the_dark_a_tall_white_fountain_played.png\"\n"
     ]
    },
    {
     "name": "stderr",
     "output_type": "stream",
     "text": [
      "\n",
      "loss: tensor([-30.1461], device='cuda:0', grad_fn=<AddBackward0>):  35%|███▍      | 104/300 [00:52<01:42,  1.91it/s]\u001b[A\n",
      "loss: tensor([-30.1461], device='cuda:0', grad_fn=<AddBackward0>):  35%|███▌      | 105/300 [00:52<01:41,  1.92it/s]\u001b[A"
     ]
    },
    {
     "name": "stdout",
     "output_type": "stream",
     "text": [
      "image updated at \"./210215-053843-And_dreadfully_distinct_against_the_dark_a_tall_white_fountain_played.png\"\n"
     ]
    },
    {
     "name": "stderr",
     "output_type": "stream",
     "text": [
      "\n",
      "loss: tensor([-30.4574], device='cuda:0', grad_fn=<AddBackward0>):  35%|███▌      | 105/300 [00:52<01:41,  1.92it/s]\u001b[A\n",
      "loss: tensor([-30.4574], device='cuda:0', grad_fn=<AddBackward0>):  35%|███▌      | 106/300 [00:52<01:40,  1.94it/s]\u001b[A"
     ]
    },
    {
     "name": "stdout",
     "output_type": "stream",
     "text": [
      "image updated at \"./210215-053843-And_dreadfully_distinct_against_the_dark_a_tall_white_fountain_played.png\"\n"
     ]
    },
    {
     "name": "stderr",
     "output_type": "stream",
     "text": [
      "\n",
      "loss: tensor([-30.4388], device='cuda:0', grad_fn=<AddBackward0>):  35%|███▌      | 106/300 [00:53<01:40,  1.94it/s]\u001b[A\n",
      "loss: tensor([-30.4388], device='cuda:0', grad_fn=<AddBackward0>):  36%|███▌      | 107/300 [00:53<01:39,  1.93it/s]\u001b[A"
     ]
    },
    {
     "name": "stdout",
     "output_type": "stream",
     "text": [
      "image updated at \"./210215-053843-And_dreadfully_distinct_against_the_dark_a_tall_white_fountain_played.png\"\n"
     ]
    },
    {
     "name": "stderr",
     "output_type": "stream",
     "text": [
      "\n",
      "loss: tensor([-30.5340], device='cuda:0', grad_fn=<AddBackward0>):  36%|███▌      | 107/300 [00:53<01:39,  1.93it/s]\u001b[A\n",
      "loss: tensor([-30.5340], device='cuda:0', grad_fn=<AddBackward0>):  36%|███▌      | 108/300 [00:53<01:44,  1.84it/s]\u001b[A"
     ]
    },
    {
     "name": "stdout",
     "output_type": "stream",
     "text": [
      "image updated at \"./210215-053843-And_dreadfully_distinct_against_the_dark_a_tall_white_fountain_played.png\"\n"
     ]
    },
    {
     "name": "stderr",
     "output_type": "stream",
     "text": [
      "\n",
      "loss: tensor([-30.4163], device='cuda:0', grad_fn=<AddBackward0>):  36%|███▌      | 108/300 [00:54<01:44,  1.84it/s]\u001b[A\n",
      "loss: tensor([-30.4163], device='cuda:0', grad_fn=<AddBackward0>):  36%|███▋      | 109/300 [00:54<01:50,  1.73it/s]\u001b[A"
     ]
    },
    {
     "name": "stdout",
     "output_type": "stream",
     "text": [
      "image updated at \"./210215-053843-And_dreadfully_distinct_against_the_dark_a_tall_white_fountain_played.png\"\n"
     ]
    },
    {
     "name": "stderr",
     "output_type": "stream",
     "text": [
      "\n",
      "loss: tensor([-30.3629], device='cuda:0', grad_fn=<AddBackward0>):  36%|███▋      | 109/300 [00:55<01:50,  1.73it/s]\u001b[A\n",
      "loss: tensor([-30.3629], device='cuda:0', grad_fn=<AddBackward0>):  37%|███▋      | 110/300 [00:55<01:54,  1.66it/s]\u001b[A"
     ]
    },
    {
     "name": "stdout",
     "output_type": "stream",
     "text": [
      "image updated at \"./210215-053843-And_dreadfully_distinct_against_the_dark_a_tall_white_fountain_played.png\"\n"
     ]
    },
    {
     "name": "stderr",
     "output_type": "stream",
     "text": [
      "\n",
      "loss: tensor([-30.3744], device='cuda:0', grad_fn=<AddBackward0>):  37%|███▋      | 110/300 [00:55<01:54,  1.66it/s]\u001b[A\n",
      "loss: tensor([-30.3744], device='cuda:0', grad_fn=<AddBackward0>):  37%|███▋      | 111/300 [00:55<01:52,  1.68it/s]\u001b[A"
     ]
    },
    {
     "name": "stdout",
     "output_type": "stream",
     "text": [
      "image updated at \"./210215-053843-And_dreadfully_distinct_against_the_dark_a_tall_white_fountain_played.png\"\n"
     ]
    },
    {
     "name": "stderr",
     "output_type": "stream",
     "text": [
      "\n",
      "loss: tensor([-30.3778], device='cuda:0', grad_fn=<AddBackward0>):  37%|███▋      | 111/300 [00:56<01:52,  1.68it/s]\u001b[A\n",
      "loss: tensor([-30.3778], device='cuda:0', grad_fn=<AddBackward0>):  37%|███▋      | 112/300 [00:56<01:47,  1.75it/s]\u001b[A"
     ]
    },
    {
     "name": "stdout",
     "output_type": "stream",
     "text": [
      "image updated at \"./210215-053843-And_dreadfully_distinct_against_the_dark_a_tall_white_fountain_played.png\"\n"
     ]
    },
    {
     "name": "stderr",
     "output_type": "stream",
     "text": [
      "\n",
      "loss: tensor([-30.2270], device='cuda:0', grad_fn=<AddBackward0>):  37%|███▋      | 112/300 [00:56<01:47,  1.75it/s]\u001b[A\n",
      "loss: tensor([-30.2270], device='cuda:0', grad_fn=<AddBackward0>):  38%|███▊      | 113/300 [00:56<01:46,  1.76it/s]\u001b[A"
     ]
    },
    {
     "name": "stdout",
     "output_type": "stream",
     "text": [
      "image updated at \"./210215-053843-And_dreadfully_distinct_against_the_dark_a_tall_white_fountain_played.png\"\n"
     ]
    },
    {
     "name": "stderr",
     "output_type": "stream",
     "text": [
      "\n",
      "loss: tensor([-30.6557], device='cuda:0', grad_fn=<AddBackward0>):  38%|███▊      | 113/300 [00:57<01:46,  1.76it/s]\u001b[A\n",
      "loss: tensor([-30.6557], device='cuda:0', grad_fn=<AddBackward0>):  38%|███▊      | 114/300 [00:57<01:44,  1.79it/s]\u001b[A"
     ]
    },
    {
     "name": "stdout",
     "output_type": "stream",
     "text": [
      "image updated at \"./210215-053843-And_dreadfully_distinct_against_the_dark_a_tall_white_fountain_played.png\"\n"
     ]
    },
    {
     "name": "stderr",
     "output_type": "stream",
     "text": [
      "\n",
      "loss: tensor([-30.5225], device='cuda:0', grad_fn=<AddBackward0>):  38%|███▊      | 114/300 [00:57<01:44,  1.79it/s]\u001b[A\n",
      "loss: tensor([-30.5225], device='cuda:0', grad_fn=<AddBackward0>):  38%|███▊      | 115/300 [00:57<01:47,  1.72it/s]\u001b[A"
     ]
    },
    {
     "name": "stdout",
     "output_type": "stream",
     "text": [
      "image updated at \"./210215-053843-And_dreadfully_distinct_against_the_dark_a_tall_white_fountain_played.png\"\n"
     ]
    },
    {
     "name": "stderr",
     "output_type": "stream",
     "text": [
      "\n",
      "loss: tensor([-30.5413], device='cuda:0', grad_fn=<AddBackward0>):  38%|███▊      | 115/300 [00:58<01:47,  1.72it/s]\u001b[A\n",
      "loss: tensor([-30.5413], device='cuda:0', grad_fn=<AddBackward0>):  39%|███▊      | 116/300 [00:58<01:51,  1.64it/s]\u001b[A"
     ]
    },
    {
     "name": "stdout",
     "output_type": "stream",
     "text": [
      "image updated at \"./210215-053843-And_dreadfully_distinct_against_the_dark_a_tall_white_fountain_played.png\"\n"
     ]
    },
    {
     "name": "stderr",
     "output_type": "stream",
     "text": [
      "\n",
      "loss: tensor([-30.7043], device='cuda:0', grad_fn=<AddBackward0>):  39%|███▊      | 116/300 [00:59<01:51,  1.64it/s]\u001b[A\n",
      "loss: tensor([-30.7043], device='cuda:0', grad_fn=<AddBackward0>):  39%|███▉      | 117/300 [00:59<01:53,  1.61it/s]\u001b[A"
     ]
    },
    {
     "name": "stdout",
     "output_type": "stream",
     "text": [
      "image updated at \"./210215-053843-And_dreadfully_distinct_against_the_dark_a_tall_white_fountain_played.png\"\n"
     ]
    },
    {
     "name": "stderr",
     "output_type": "stream",
     "text": [
      "\n",
      "loss: tensor([-30.5857], device='cuda:0', grad_fn=<AddBackward0>):  39%|███▉      | 117/300 [00:59<01:53,  1.61it/s]\u001b[A\n",
      "loss: tensor([-30.5857], device='cuda:0', grad_fn=<AddBackward0>):  39%|███▉      | 118/300 [00:59<01:51,  1.64it/s]\u001b[A"
     ]
    },
    {
     "name": "stdout",
     "output_type": "stream",
     "text": [
      "image updated at \"./210215-053843-And_dreadfully_distinct_against_the_dark_a_tall_white_fountain_played.png\"\n"
     ]
    },
    {
     "name": "stderr",
     "output_type": "stream",
     "text": [
      "\n",
      "loss: tensor([-30.6548], device='cuda:0', grad_fn=<AddBackward0>):  39%|███▉      | 118/300 [01:00<01:51,  1.64it/s]\u001b[A\n",
      "loss: tensor([-30.6548], device='cuda:0', grad_fn=<AddBackward0>):  40%|███▉      | 119/300 [01:00<01:45,  1.72it/s]\u001b[A"
     ]
    },
    {
     "name": "stdout",
     "output_type": "stream",
     "text": [
      "image updated at \"./210215-053843-And_dreadfully_distinct_against_the_dark_a_tall_white_fountain_played.png\"\n"
     ]
    },
    {
     "name": "stderr",
     "output_type": "stream",
     "text": [
      "\n",
      "loss: tensor([-30.8174], device='cuda:0', grad_fn=<AddBackward0>):  40%|███▉      | 119/300 [01:00<01:45,  1.72it/s]\u001b[A\n",
      "loss: tensor([-30.8174], device='cuda:0', grad_fn=<AddBackward0>):  40%|████      | 120/300 [01:00<01:42,  1.75it/s]\u001b[A"
     ]
    },
    {
     "name": "stdout",
     "output_type": "stream",
     "text": [
      "image updated at \"./210215-053843-And_dreadfully_distinct_against_the_dark_a_tall_white_fountain_played.png\"\n"
     ]
    },
    {
     "name": "stderr",
     "output_type": "stream",
     "text": [
      "\n",
      "loss: tensor([-30.4927], device='cuda:0', grad_fn=<AddBackward0>):  40%|████      | 120/300 [01:01<01:42,  1.75it/s]\u001b[A\n",
      "loss: tensor([-30.4927], device='cuda:0', grad_fn=<AddBackward0>):  40%|████      | 121/300 [01:01<01:43,  1.72it/s]\u001b[A"
     ]
    },
    {
     "name": "stdout",
     "output_type": "stream",
     "text": [
      "image updated at \"./210215-053843-And_dreadfully_distinct_against_the_dark_a_tall_white_fountain_played.png\"\n"
     ]
    },
    {
     "name": "stderr",
     "output_type": "stream",
     "text": [
      "\n",
      "loss: tensor([-30.8294], device='cuda:0', grad_fn=<AddBackward0>):  40%|████      | 121/300 [01:02<01:43,  1.72it/s]\u001b[A\n",
      "loss: tensor([-30.8294], device='cuda:0', grad_fn=<AddBackward0>):  41%|████      | 122/300 [01:02<01:47,  1.66it/s]\u001b[A"
     ]
    },
    {
     "name": "stdout",
     "output_type": "stream",
     "text": [
      "image updated at \"./210215-053843-And_dreadfully_distinct_against_the_dark_a_tall_white_fountain_played.png\"\n"
     ]
    },
    {
     "name": "stderr",
     "output_type": "stream",
     "text": [
      "\n",
      "loss: tensor([-30.5528], device='cuda:0', grad_fn=<AddBackward0>):  41%|████      | 122/300 [01:02<01:47,  1.66it/s]\u001b[A\n",
      "loss: tensor([-30.5528], device='cuda:0', grad_fn=<AddBackward0>):  41%|████      | 123/300 [01:02<01:46,  1.66it/s]\u001b[A"
     ]
    },
    {
     "name": "stdout",
     "output_type": "stream",
     "text": [
      "image updated at \"./210215-053843-And_dreadfully_distinct_against_the_dark_a_tall_white_fountain_played.png\"\n"
     ]
    },
    {
     "name": "stderr",
     "output_type": "stream",
     "text": [
      "\n",
      "loss: tensor([-30.6155], device='cuda:0', grad_fn=<AddBackward0>):  41%|████      | 123/300 [01:03<01:46,  1.66it/s]\u001b[A\n",
      "loss: tensor([-30.6155], device='cuda:0', grad_fn=<AddBackward0>):  41%|████▏     | 124/300 [01:03<01:41,  1.74it/s]\u001b[A"
     ]
    },
    {
     "name": "stdout",
     "output_type": "stream",
     "text": [
      "image updated at \"./210215-053843-And_dreadfully_distinct_against_the_dark_a_tall_white_fountain_played.png\"\n"
     ]
    },
    {
     "name": "stderr",
     "output_type": "stream",
     "text": [
      "\n",
      "loss: tensor([-30.7106], device='cuda:0', grad_fn=<AddBackward0>):  41%|████▏     | 124/300 [01:03<01:41,  1.74it/s]\u001b[A\n",
      "loss: tensor([-30.7106], device='cuda:0', grad_fn=<AddBackward0>):  42%|████▏     | 125/300 [01:03<01:39,  1.77it/s]\u001b[A"
     ]
    },
    {
     "name": "stdout",
     "output_type": "stream",
     "text": [
      "image updated at \"./210215-053843-And_dreadfully_distinct_against_the_dark_a_tall_white_fountain_played.png\"\n"
     ]
    },
    {
     "name": "stderr",
     "output_type": "stream",
     "text": [
      "\n",
      "loss: tensor([-30.8533], device='cuda:0', grad_fn=<AddBackward0>):  42%|████▏     | 125/300 [01:04<01:39,  1.77it/s]\u001b[A\n",
      "loss: tensor([-30.8533], device='cuda:0', grad_fn=<AddBackward0>):  42%|████▏     | 126/300 [01:04<01:40,  1.73it/s]\u001b[A"
     ]
    },
    {
     "name": "stdout",
     "output_type": "stream",
     "text": [
      "image updated at \"./210215-053843-And_dreadfully_distinct_against_the_dark_a_tall_white_fountain_played.png\"\n"
     ]
    },
    {
     "name": "stderr",
     "output_type": "stream",
     "text": [
      "\n",
      "loss: tensor([-30.6286], device='cuda:0', grad_fn=<AddBackward0>):  42%|████▏     | 126/300 [01:05<01:40,  1.73it/s]\u001b[A\n",
      "loss: tensor([-30.6286], device='cuda:0', grad_fn=<AddBackward0>):  42%|████▏     | 127/300 [01:05<01:43,  1.67it/s]\u001b[A"
     ]
    },
    {
     "name": "stdout",
     "output_type": "stream",
     "text": [
      "image updated at \"./210215-053843-And_dreadfully_distinct_against_the_dark_a_tall_white_fountain_played.png\"\n"
     ]
    },
    {
     "name": "stderr",
     "output_type": "stream",
     "text": [
      "\n",
      "loss: tensor([-30.7036], device='cuda:0', grad_fn=<AddBackward0>):  42%|████▏     | 127/300 [01:05<01:43,  1.67it/s]\u001b[A\n",
      "loss: tensor([-30.7036], device='cuda:0', grad_fn=<AddBackward0>):  43%|████▎     | 128/300 [01:05<01:45,  1.62it/s]\u001b[A"
     ]
    },
    {
     "name": "stdout",
     "output_type": "stream",
     "text": [
      "image updated at \"./210215-053843-And_dreadfully_distinct_against_the_dark_a_tall_white_fountain_played.png\"\n"
     ]
    },
    {
     "name": "stderr",
     "output_type": "stream",
     "text": [
      "\n",
      "loss: tensor([-30.9697], device='cuda:0', grad_fn=<AddBackward0>):  43%|████▎     | 128/300 [01:06<01:45,  1.62it/s]\u001b[A\n",
      "loss: tensor([-30.9697], device='cuda:0', grad_fn=<AddBackward0>):  43%|████▎     | 129/300 [01:06<01:49,  1.56it/s]\u001b[A"
     ]
    },
    {
     "name": "stdout",
     "output_type": "stream",
     "text": [
      "image updated at \"./210215-053843-And_dreadfully_distinct_against_the_dark_a_tall_white_fountain_played.png\"\n"
     ]
    },
    {
     "name": "stderr",
     "output_type": "stream",
     "text": [
      "\n",
      "loss: tensor([-30.8110], device='cuda:0', grad_fn=<AddBackward0>):  43%|████▎     | 129/300 [01:07<01:49,  1.56it/s]\u001b[A\n",
      "loss: tensor([-30.8110], device='cuda:0', grad_fn=<AddBackward0>):  43%|████▎     | 130/300 [01:07<01:45,  1.60it/s]\u001b[A"
     ]
    },
    {
     "name": "stdout",
     "output_type": "stream",
     "text": [
      "image updated at \"./210215-053843-And_dreadfully_distinct_against_the_dark_a_tall_white_fountain_played.png\"\n"
     ]
    },
    {
     "name": "stderr",
     "output_type": "stream",
     "text": [
      "\n",
      "loss: tensor([-30.9291], device='cuda:0', grad_fn=<AddBackward0>):  43%|████▎     | 130/300 [01:07<01:45,  1.60it/s]\u001b[A\n",
      "loss: tensor([-30.9291], device='cuda:0', grad_fn=<AddBackward0>):  44%|████▎     | 131/300 [01:07<01:39,  1.70it/s]\u001b[A"
     ]
    },
    {
     "name": "stdout",
     "output_type": "stream",
     "text": [
      "image updated at \"./210215-053843-And_dreadfully_distinct_against_the_dark_a_tall_white_fountain_played.png\"\n"
     ]
    },
    {
     "name": "stderr",
     "output_type": "stream",
     "text": [
      "\n",
      "loss: tensor([-30.9330], device='cuda:0', grad_fn=<AddBackward0>):  44%|████▎     | 131/300 [01:08<01:39,  1.70it/s]\u001b[A\n",
      "loss: tensor([-30.9330], device='cuda:0', grad_fn=<AddBackward0>):  44%|████▍     | 132/300 [01:08<01:36,  1.74it/s]\u001b[A"
     ]
    },
    {
     "name": "stdout",
     "output_type": "stream",
     "text": [
      "image updated at \"./210215-053843-And_dreadfully_distinct_against_the_dark_a_tall_white_fountain_played.png\"\n"
     ]
    },
    {
     "name": "stderr",
     "output_type": "stream",
     "text": [
      "\n",
      "loss: tensor([-30.9059], device='cuda:0', grad_fn=<AddBackward0>):  44%|████▍     | 132/300 [01:08<01:36,  1.74it/s]\u001b[A\n",
      "loss: tensor([-30.9059], device='cuda:0', grad_fn=<AddBackward0>):  44%|████▍     | 133/300 [01:08<01:37,  1.72it/s]\u001b[A"
     ]
    },
    {
     "name": "stdout",
     "output_type": "stream",
     "text": [
      "image updated at \"./210215-053843-And_dreadfully_distinct_against_the_dark_a_tall_white_fountain_played.png\"\n"
     ]
    },
    {
     "name": "stderr",
     "output_type": "stream",
     "text": [
      "\n",
      "loss: tensor([-30.8187], device='cuda:0', grad_fn=<AddBackward0>):  44%|████▍     | 133/300 [01:09<01:37,  1.72it/s]\u001b[A\n",
      "loss: tensor([-30.8187], device='cuda:0', grad_fn=<AddBackward0>):  45%|████▍     | 134/300 [01:09<01:36,  1.73it/s]\u001b[A"
     ]
    },
    {
     "name": "stdout",
     "output_type": "stream",
     "text": [
      "image updated at \"./210215-053843-And_dreadfully_distinct_against_the_dark_a_tall_white_fountain_played.png\"\n"
     ]
    },
    {
     "name": "stderr",
     "output_type": "stream",
     "text": [
      "\n",
      "loss: tensor([-30.8405], device='cuda:0', grad_fn=<AddBackward0>):  45%|████▍     | 134/300 [01:09<01:36,  1.73it/s]\u001b[A\n",
      "loss: tensor([-30.8405], device='cuda:0', grad_fn=<AddBackward0>):  45%|████▌     | 135/300 [01:09<01:38,  1.68it/s]\u001b[A"
     ]
    },
    {
     "name": "stdout",
     "output_type": "stream",
     "text": [
      "image updated at \"./210215-053843-And_dreadfully_distinct_against_the_dark_a_tall_white_fountain_played.png\"\n"
     ]
    },
    {
     "name": "stderr",
     "output_type": "stream",
     "text": [
      "\n",
      "loss: tensor([-30.8468], device='cuda:0', grad_fn=<AddBackward0>):  45%|████▌     | 135/300 [01:10<01:38,  1.68it/s]\u001b[A\n",
      "loss: tensor([-30.8468], device='cuda:0', grad_fn=<AddBackward0>):  45%|████▌     | 136/300 [01:10<01:37,  1.68it/s]\u001b[A"
     ]
    },
    {
     "name": "stdout",
     "output_type": "stream",
     "text": [
      "image updated at \"./210215-053843-And_dreadfully_distinct_against_the_dark_a_tall_white_fountain_played.png\"\n"
     ]
    },
    {
     "name": "stderr",
     "output_type": "stream",
     "text": [
      "\n",
      "loss: tensor([-31.0066], device='cuda:0', grad_fn=<AddBackward0>):  45%|████▌     | 136/300 [01:11<01:37,  1.68it/s]\u001b[A\n",
      "loss: tensor([-31.0066], device='cuda:0', grad_fn=<AddBackward0>):  46%|████▌     | 137/300 [01:11<01:44,  1.57it/s]\u001b[A"
     ]
    },
    {
     "name": "stdout",
     "output_type": "stream",
     "text": [
      "image updated at \"./210215-053843-And_dreadfully_distinct_against_the_dark_a_tall_white_fountain_played.png\"\n"
     ]
    },
    {
     "name": "stderr",
     "output_type": "stream",
     "text": [
      "\n",
      "loss: tensor([-31.0354], device='cuda:0', grad_fn=<AddBackward0>):  46%|████▌     | 137/300 [01:11<01:44,  1.57it/s]\u001b[A\n",
      "loss: tensor([-31.0354], device='cuda:0', grad_fn=<AddBackward0>):  46%|████▌     | 138/300 [01:11<01:45,  1.54it/s]\u001b[A"
     ]
    },
    {
     "name": "stdout",
     "output_type": "stream",
     "text": [
      "image updated at \"./210215-053843-And_dreadfully_distinct_against_the_dark_a_tall_white_fountain_played.png\"\n"
     ]
    },
    {
     "name": "stderr",
     "output_type": "stream",
     "text": [
      "\n",
      "loss: tensor([-31.1055], device='cuda:0', grad_fn=<AddBackward0>):  46%|████▌     | 138/300 [01:12<01:45,  1.54it/s]\u001b[A\n",
      "loss: tensor([-31.1055], device='cuda:0', grad_fn=<AddBackward0>):  46%|████▋     | 139/300 [01:12<01:42,  1.57it/s]\u001b[A"
     ]
    },
    {
     "name": "stdout",
     "output_type": "stream",
     "text": [
      "image updated at \"./210215-053843-And_dreadfully_distinct_against_the_dark_a_tall_white_fountain_played.png\"\n"
     ]
    },
    {
     "name": "stderr",
     "output_type": "stream",
     "text": [
      "\n",
      "loss: tensor([-30.8254], device='cuda:0', grad_fn=<AddBackward0>):  46%|████▋     | 139/300 [01:13<01:42,  1.57it/s]\u001b[A\n",
      "loss: tensor([-30.8254], device='cuda:0', grad_fn=<AddBackward0>):  47%|████▋     | 140/300 [01:13<01:37,  1.65it/s]\u001b[A"
     ]
    },
    {
     "name": "stdout",
     "output_type": "stream",
     "text": [
      "image updated at \"./210215-053843-And_dreadfully_distinct_against_the_dark_a_tall_white_fountain_played.png\"\n"
     ]
    },
    {
     "name": "stderr",
     "output_type": "stream",
     "text": [
      "\n",
      "loss: tensor([-30.6206], device='cuda:0', grad_fn=<AddBackward0>):  47%|████▋     | 140/300 [01:13<01:37,  1.65it/s]\u001b[A\n",
      "loss: tensor([-30.6206], device='cuda:0', grad_fn=<AddBackward0>):  47%|████▋     | 141/300 [01:13<01:32,  1.72it/s]\u001b[A"
     ]
    },
    {
     "name": "stdout",
     "output_type": "stream",
     "text": [
      "image updated at \"./210215-053843-And_dreadfully_distinct_against_the_dark_a_tall_white_fountain_played.png\"\n"
     ]
    },
    {
     "name": "stderr",
     "output_type": "stream",
     "text": [
      "\n",
      "loss: tensor([-30.9648], device='cuda:0', grad_fn=<AddBackward0>):  47%|████▋     | 141/300 [01:14<01:32,  1.72it/s]\u001b[A\n",
      "loss: tensor([-30.9648], device='cuda:0', grad_fn=<AddBackward0>):  47%|████▋     | 142/300 [01:14<01:31,  1.73it/s]\u001b[A"
     ]
    },
    {
     "name": "stdout",
     "output_type": "stream",
     "text": [
      "image updated at \"./210215-053843-And_dreadfully_distinct_against_the_dark_a_tall_white_fountain_played.png\"\n"
     ]
    },
    {
     "name": "stderr",
     "output_type": "stream",
     "text": [
      "\n",
      "loss: tensor([-31.2440], device='cuda:0', grad_fn=<AddBackward0>):  47%|████▋     | 142/300 [01:14<01:31,  1.73it/s]\u001b[A\n",
      "loss: tensor([-31.2440], device='cuda:0', grad_fn=<AddBackward0>):  48%|████▊     | 143/300 [01:14<01:39,  1.58it/s]\u001b[A"
     ]
    },
    {
     "name": "stdout",
     "output_type": "stream",
     "text": [
      "image updated at \"./210215-053843-And_dreadfully_distinct_against_the_dark_a_tall_white_fountain_played.png\"\n"
     ]
    },
    {
     "name": "stderr",
     "output_type": "stream",
     "text": [
      "\n",
      "loss: tensor([-31.0479], device='cuda:0', grad_fn=<AddBackward0>):  48%|████▊     | 143/300 [01:15<01:39,  1.58it/s]\u001b[A\n",
      "loss: tensor([-31.0479], device='cuda:0', grad_fn=<AddBackward0>):  48%|████▊     | 144/300 [01:15<01:32,  1.68it/s]\u001b[A"
     ]
    },
    {
     "name": "stdout",
     "output_type": "stream",
     "text": [
      "image updated at \"./210215-053843-And_dreadfully_distinct_against_the_dark_a_tall_white_fountain_played.png\"\n"
     ]
    },
    {
     "name": "stderr",
     "output_type": "stream",
     "text": [
      "\n",
      "loss: tensor([-31.2310], device='cuda:0', grad_fn=<AddBackward0>):  48%|████▊     | 144/300 [01:16<01:32,  1.68it/s]\u001b[A\n",
      "loss: tensor([-31.2310], device='cuda:0', grad_fn=<AddBackward0>):  48%|████▊     | 145/300 [01:16<01:34,  1.63it/s]\u001b[A"
     ]
    },
    {
     "name": "stdout",
     "output_type": "stream",
     "text": [
      "image updated at \"./210215-053843-And_dreadfully_distinct_against_the_dark_a_tall_white_fountain_played.png\"\n"
     ]
    },
    {
     "name": "stderr",
     "output_type": "stream",
     "text": [
      "\n",
      "loss: tensor([-31.2402], device='cuda:0', grad_fn=<AddBackward0>):  48%|████▊     | 145/300 [01:16<01:34,  1.63it/s]\u001b[A\n",
      "loss: tensor([-31.2402], device='cuda:0', grad_fn=<AddBackward0>):  49%|████▊     | 146/300 [01:16<01:31,  1.69it/s]\u001b[A"
     ]
    },
    {
     "name": "stdout",
     "output_type": "stream",
     "text": [
      "image updated at \"./210215-053843-And_dreadfully_distinct_against_the_dark_a_tall_white_fountain_played.png\"\n"
     ]
    },
    {
     "name": "stderr",
     "output_type": "stream",
     "text": [
      "\n",
      "loss: tensor([-31.1023], device='cuda:0', grad_fn=<AddBackward0>):  49%|████▊     | 146/300 [01:17<01:31,  1.69it/s]\u001b[A\n",
      "loss: tensor([-31.1023], device='cuda:0', grad_fn=<AddBackward0>):  49%|████▉     | 147/300 [01:17<01:27,  1.74it/s]\u001b[A"
     ]
    },
    {
     "name": "stdout",
     "output_type": "stream",
     "text": [
      "image updated at \"./210215-053843-And_dreadfully_distinct_against_the_dark_a_tall_white_fountain_played.png\"\n"
     ]
    },
    {
     "name": "stderr",
     "output_type": "stream",
     "text": [
      "\n",
      "loss: tensor([-31.2567], device='cuda:0', grad_fn=<AddBackward0>):  49%|████▉     | 147/300 [01:17<01:27,  1.74it/s]\u001b[A\n",
      "loss: tensor([-31.2567], device='cuda:0', grad_fn=<AddBackward0>):  49%|████▉     | 148/300 [01:17<01:25,  1.78it/s]\u001b[A"
     ]
    },
    {
     "name": "stdout",
     "output_type": "stream",
     "text": [
      "image updated at \"./210215-053843-And_dreadfully_distinct_against_the_dark_a_tall_white_fountain_played.png\"\n"
     ]
    },
    {
     "name": "stderr",
     "output_type": "stream",
     "text": [
      "\n",
      "loss: tensor([-31.2156], device='cuda:0', grad_fn=<AddBackward0>):  49%|████▉     | 148/300 [01:18<01:25,  1.78it/s]\u001b[A\n",
      "loss: tensor([-31.2156], device='cuda:0', grad_fn=<AddBackward0>):  50%|████▉     | 149/300 [01:18<01:23,  1.81it/s]\u001b[A"
     ]
    },
    {
     "name": "stdout",
     "output_type": "stream",
     "text": [
      "image updated at \"./210215-053843-And_dreadfully_distinct_against_the_dark_a_tall_white_fountain_played.png\"\n"
     ]
    },
    {
     "name": "stderr",
     "output_type": "stream",
     "text": [
      "\n",
      "loss: tensor([-31.0670], device='cuda:0', grad_fn=<AddBackward0>):  50%|████▉     | 149/300 [01:18<01:23,  1.81it/s]\u001b[A\n",
      "loss: tensor([-31.0670], device='cuda:0', grad_fn=<AddBackward0>):  50%|█████     | 150/300 [01:18<01:22,  1.81it/s]\u001b[A"
     ]
    },
    {
     "name": "stdout",
     "output_type": "stream",
     "text": [
      "image updated at \"./210215-053843-And_dreadfully_distinct_against_the_dark_a_tall_white_fountain_played.png\"\n"
     ]
    },
    {
     "name": "stderr",
     "output_type": "stream",
     "text": [
      "\n",
      "loss: tensor([-31.3526], device='cuda:0', grad_fn=<AddBackward0>):  50%|█████     | 150/300 [01:19<01:22,  1.81it/s]\u001b[A\n",
      "loss: tensor([-31.3526], device='cuda:0', grad_fn=<AddBackward0>):  50%|█████     | 151/300 [01:19<01:25,  1.73it/s]\u001b[A"
     ]
    },
    {
     "name": "stdout",
     "output_type": "stream",
     "text": [
      "image updated at \"./210215-053843-And_dreadfully_distinct_against_the_dark_a_tall_white_fountain_played.png\"\n"
     ]
    },
    {
     "name": "stderr",
     "output_type": "stream",
     "text": [
      "\n",
      "loss: tensor([-31.0721], device='cuda:0', grad_fn=<AddBackward0>):  50%|█████     | 151/300 [01:19<01:25,  1.73it/s]\u001b[A\n",
      "loss: tensor([-31.0721], device='cuda:0', grad_fn=<AddBackward0>):  51%|█████     | 152/300 [01:19<01:24,  1.75it/s]\u001b[A"
     ]
    },
    {
     "name": "stdout",
     "output_type": "stream",
     "text": [
      "image updated at \"./210215-053843-And_dreadfully_distinct_against_the_dark_a_tall_white_fountain_played.png\"\n"
     ]
    },
    {
     "name": "stderr",
     "output_type": "stream",
     "text": [
      "\n",
      "loss: tensor([-31.0645], device='cuda:0', grad_fn=<AddBackward0>):  51%|█████     | 152/300 [01:20<01:24,  1.75it/s]\u001b[A\n",
      "loss: tensor([-31.0645], device='cuda:0', grad_fn=<AddBackward0>):  51%|█████     | 153/300 [01:20<01:22,  1.79it/s]\u001b[A"
     ]
    },
    {
     "name": "stdout",
     "output_type": "stream",
     "text": [
      "image updated at \"./210215-053843-And_dreadfully_distinct_against_the_dark_a_tall_white_fountain_played.png\"\n"
     ]
    },
    {
     "name": "stderr",
     "output_type": "stream",
     "text": [
      "\n",
      "loss: tensor([-31.3778], device='cuda:0', grad_fn=<AddBackward0>):  51%|█████     | 153/300 [01:21<01:22,  1.79it/s]\u001b[A\n",
      "loss: tensor([-31.3778], device='cuda:0', grad_fn=<AddBackward0>):  51%|█████▏    | 154/300 [01:21<01:24,  1.73it/s]\u001b[A"
     ]
    },
    {
     "name": "stdout",
     "output_type": "stream",
     "text": [
      "image updated at \"./210215-053843-And_dreadfully_distinct_against_the_dark_a_tall_white_fountain_played.png\"\n"
     ]
    },
    {
     "name": "stderr",
     "output_type": "stream",
     "text": [
      "\n",
      "loss: tensor([-31.1085], device='cuda:0', grad_fn=<AddBackward0>):  51%|█████▏    | 154/300 [01:21<01:24,  1.73it/s]\u001b[A\n",
      "loss: tensor([-31.1085], device='cuda:0', grad_fn=<AddBackward0>):  52%|█████▏    | 155/300 [01:21<01:22,  1.76it/s]\u001b[A"
     ]
    },
    {
     "name": "stdout",
     "output_type": "stream",
     "text": [
      "image updated at \"./210215-053843-And_dreadfully_distinct_against_the_dark_a_tall_white_fountain_played.png\"\n"
     ]
    },
    {
     "name": "stderr",
     "output_type": "stream",
     "text": [
      "\n",
      "loss: tensor([-31.3248], device='cuda:0', grad_fn=<AddBackward0>):  52%|█████▏    | 155/300 [01:22<01:22,  1.76it/s]\u001b[A\n",
      "loss: tensor([-31.3248], device='cuda:0', grad_fn=<AddBackward0>):  52%|█████▏    | 156/300 [01:22<01:20,  1.79it/s]\u001b[A"
     ]
    },
    {
     "name": "stdout",
     "output_type": "stream",
     "text": [
      "image updated at \"./210215-053843-And_dreadfully_distinct_against_the_dark_a_tall_white_fountain_played.png\"\n"
     ]
    },
    {
     "name": "stderr",
     "output_type": "stream",
     "text": [
      "\n",
      "loss: tensor([-31.5493], device='cuda:0', grad_fn=<AddBackward0>):  52%|█████▏    | 156/300 [01:22<01:20,  1.79it/s]\u001b[A\n",
      "loss: tensor([-31.5493], device='cuda:0', grad_fn=<AddBackward0>):  52%|█████▏    | 157/300 [01:22<01:22,  1.72it/s]\u001b[A"
     ]
    },
    {
     "name": "stdout",
     "output_type": "stream",
     "text": [
      "image updated at \"./210215-053843-And_dreadfully_distinct_against_the_dark_a_tall_white_fountain_played.png\"\n"
     ]
    },
    {
     "name": "stderr",
     "output_type": "stream",
     "text": [
      "\n",
      "loss: tensor([-31.6407], device='cuda:0', grad_fn=<AddBackward0>):  52%|█████▏    | 157/300 [01:23<01:22,  1.72it/s]\u001b[A\n",
      "loss: tensor([-31.6407], device='cuda:0', grad_fn=<AddBackward0>):  53%|█████▎    | 158/300 [01:23<01:27,  1.63it/s]\u001b[A"
     ]
    },
    {
     "name": "stdout",
     "output_type": "stream",
     "text": [
      "image updated at \"./210215-053843-And_dreadfully_distinct_against_the_dark_a_tall_white_fountain_played.png\"\n"
     ]
    },
    {
     "name": "stderr",
     "output_type": "stream",
     "text": [
      "\n",
      "loss: tensor([-31.2710], device='cuda:0', grad_fn=<AddBackward0>):  53%|█████▎    | 158/300 [01:24<01:27,  1.63it/s]\u001b[A\n",
      "loss: tensor([-31.2710], device='cuda:0', grad_fn=<AddBackward0>):  53%|█████▎    | 159/300 [01:24<01:29,  1.58it/s]\u001b[A"
     ]
    },
    {
     "name": "stdout",
     "output_type": "stream",
     "text": [
      "image updated at \"./210215-053843-And_dreadfully_distinct_against_the_dark_a_tall_white_fountain_played.png\"\n"
     ]
    },
    {
     "name": "stderr",
     "output_type": "stream",
     "text": [
      "\n",
      "loss: tensor([-31.4953], device='cuda:0', grad_fn=<AddBackward0>):  53%|█████▎    | 159/300 [01:24<01:29,  1.58it/s]\u001b[A\n",
      "loss: tensor([-31.4953], device='cuda:0', grad_fn=<AddBackward0>):  53%|█████▎    | 160/300 [01:24<01:29,  1.56it/s]\u001b[A"
     ]
    },
    {
     "name": "stdout",
     "output_type": "stream",
     "text": [
      "image updated at \"./210215-053843-And_dreadfully_distinct_against_the_dark_a_tall_white_fountain_played.png\"\n"
     ]
    },
    {
     "name": "stderr",
     "output_type": "stream",
     "text": [
      "\n",
      "loss: tensor([-31.4678], device='cuda:0', grad_fn=<AddBackward0>):  53%|█████▎    | 160/300 [01:25<01:29,  1.56it/s]\u001b[A\n",
      "loss: tensor([-31.4678], device='cuda:0', grad_fn=<AddBackward0>):  54%|█████▎    | 161/300 [01:25<01:31,  1.52it/s]\u001b[A"
     ]
    },
    {
     "name": "stdout",
     "output_type": "stream",
     "text": [
      "image updated at \"./210215-053843-And_dreadfully_distinct_against_the_dark_a_tall_white_fountain_played.png\"\n"
     ]
    },
    {
     "name": "stderr",
     "output_type": "stream",
     "text": [
      "\n",
      "loss: tensor([-31.5372], device='cuda:0', grad_fn=<AddBackward0>):  54%|█████▎    | 161/300 [01:26<01:31,  1.52it/s]\u001b[A\n",
      "loss: tensor([-31.5372], device='cuda:0', grad_fn=<AddBackward0>):  54%|█████▍    | 162/300 [01:26<01:31,  1.51it/s]\u001b[A"
     ]
    },
    {
     "name": "stdout",
     "output_type": "stream",
     "text": [
      "image updated at \"./210215-053843-And_dreadfully_distinct_against_the_dark_a_tall_white_fountain_played.png\"\n"
     ]
    },
    {
     "name": "stderr",
     "output_type": "stream",
     "text": [
      "\n",
      "loss: tensor([-31.6482], device='cuda:0', grad_fn=<AddBackward0>):  54%|█████▍    | 162/300 [01:26<01:31,  1.51it/s]\u001b[A\n",
      "loss: tensor([-31.6482], device='cuda:0', grad_fn=<AddBackward0>):  54%|█████▍    | 163/300 [01:26<01:31,  1.50it/s]\u001b[A"
     ]
    },
    {
     "name": "stdout",
     "output_type": "stream",
     "text": [
      "image updated at \"./210215-053843-And_dreadfully_distinct_against_the_dark_a_tall_white_fountain_played.png\"\n"
     ]
    },
    {
     "name": "stderr",
     "output_type": "stream",
     "text": [
      "\n",
      "loss: tensor([-31.4896], device='cuda:0', grad_fn=<AddBackward0>):  54%|█████▍    | 163/300 [01:27<01:31,  1.50it/s]\u001b[A\n",
      "loss: tensor([-31.4896], device='cuda:0', grad_fn=<AddBackward0>):  55%|█████▍    | 164/300 [01:27<01:29,  1.53it/s]\u001b[A"
     ]
    },
    {
     "name": "stdout",
     "output_type": "stream",
     "text": [
      "image updated at \"./210215-053843-And_dreadfully_distinct_against_the_dark_a_tall_white_fountain_played.png\"\n"
     ]
    },
    {
     "name": "stderr",
     "output_type": "stream",
     "text": [
      "\n",
      "loss: tensor([-31.5473], device='cuda:0', grad_fn=<AddBackward0>):  55%|█████▍    | 164/300 [01:28<01:29,  1.53it/s]\u001b[A\n",
      "loss: tensor([-31.5473], device='cuda:0', grad_fn=<AddBackward0>):  55%|█████▌    | 165/300 [01:28<01:24,  1.59it/s]\u001b[A"
     ]
    },
    {
     "name": "stdout",
     "output_type": "stream",
     "text": [
      "image updated at \"./210215-053843-And_dreadfully_distinct_against_the_dark_a_tall_white_fountain_played.png\"\n"
     ]
    },
    {
     "name": "stderr",
     "output_type": "stream",
     "text": [
      "\n",
      "loss: tensor([-31.5530], device='cuda:0', grad_fn=<AddBackward0>):  55%|█████▌    | 165/300 [01:28<01:24,  1.59it/s]\u001b[A\n",
      "loss: tensor([-31.5530], device='cuda:0', grad_fn=<AddBackward0>):  55%|█████▌    | 166/300 [01:28<01:21,  1.65it/s]\u001b[A"
     ]
    },
    {
     "name": "stdout",
     "output_type": "stream",
     "text": [
      "image updated at \"./210215-053843-And_dreadfully_distinct_against_the_dark_a_tall_white_fountain_played.png\"\n"
     ]
    },
    {
     "name": "stderr",
     "output_type": "stream",
     "text": [
      "\n",
      "loss: tensor([-31.4385], device='cuda:0', grad_fn=<AddBackward0>):  55%|█████▌    | 166/300 [01:29<01:21,  1.65it/s]\u001b[A\n",
      "loss: tensor([-31.4385], device='cuda:0', grad_fn=<AddBackward0>):  56%|█████▌    | 167/300 [01:29<01:18,  1.69it/s]\u001b[A"
     ]
    },
    {
     "name": "stdout",
     "output_type": "stream",
     "text": [
      "image updated at \"./210215-053843-And_dreadfully_distinct_against_the_dark_a_tall_white_fountain_played.png\"\n"
     ]
    },
    {
     "name": "stderr",
     "output_type": "stream",
     "text": [
      "\n",
      "loss: tensor([-31.8161], device='cuda:0', grad_fn=<AddBackward0>):  56%|█████▌    | 167/300 [01:29<01:18,  1.69it/s]\u001b[A\n",
      "loss: tensor([-31.8161], device='cuda:0', grad_fn=<AddBackward0>):  56%|█████▌    | 168/300 [01:29<01:20,  1.63it/s]\u001b[A"
     ]
    },
    {
     "name": "stdout",
     "output_type": "stream",
     "text": [
      "image updated at \"./210215-053843-And_dreadfully_distinct_against_the_dark_a_tall_white_fountain_played.png\"\n"
     ]
    },
    {
     "name": "stderr",
     "output_type": "stream",
     "text": [
      "\n",
      "loss: tensor([-31.3374], device='cuda:0', grad_fn=<AddBackward0>):  56%|█████▌    | 168/300 [01:30<01:20,  1.63it/s]\u001b[A\n",
      "loss: tensor([-31.3374], device='cuda:0', grad_fn=<AddBackward0>):  56%|█████▋    | 169/300 [01:30<01:21,  1.61it/s]\u001b[A"
     ]
    },
    {
     "name": "stdout",
     "output_type": "stream",
     "text": [
      "image updated at \"./210215-053843-And_dreadfully_distinct_against_the_dark_a_tall_white_fountain_played.png\"\n"
     ]
    },
    {
     "name": "stderr",
     "output_type": "stream",
     "text": [
      "\n",
      "loss: tensor([-31.6425], device='cuda:0', grad_fn=<AddBackward0>):  56%|█████▋    | 169/300 [01:31<01:21,  1.61it/s]\u001b[A\n",
      "loss: tensor([-31.6425], device='cuda:0', grad_fn=<AddBackward0>):  57%|█████▋    | 170/300 [01:31<01:22,  1.58it/s]\u001b[A"
     ]
    },
    {
     "name": "stdout",
     "output_type": "stream",
     "text": [
      "image updated at \"./210215-053843-And_dreadfully_distinct_against_the_dark_a_tall_white_fountain_played.png\"\n"
     ]
    },
    {
     "name": "stderr",
     "output_type": "stream",
     "text": [
      "\n",
      "loss: tensor([-31.7430], device='cuda:0', grad_fn=<AddBackward0>):  57%|█████▋    | 170/300 [01:31<01:22,  1.58it/s]\u001b[A\n",
      "loss: tensor([-31.7430], device='cuda:0', grad_fn=<AddBackward0>):  57%|█████▋    | 171/300 [01:31<01:22,  1.56it/s]\u001b[A"
     ]
    },
    {
     "name": "stdout",
     "output_type": "stream",
     "text": [
      "image updated at \"./210215-053843-And_dreadfully_distinct_against_the_dark_a_tall_white_fountain_played.png\"\n"
     ]
    },
    {
     "name": "stderr",
     "output_type": "stream",
     "text": [
      "\n",
      "loss: tensor([-31.4700], device='cuda:0', grad_fn=<AddBackward0>):  57%|█████▋    | 171/300 [01:32<01:22,  1.56it/s]\u001b[A\n",
      "loss: tensor([-31.4700], device='cuda:0', grad_fn=<AddBackward0>):  57%|█████▋    | 172/300 [01:32<01:23,  1.54it/s]\u001b[A"
     ]
    },
    {
     "name": "stdout",
     "output_type": "stream",
     "text": [
      "image updated at \"./210215-053843-And_dreadfully_distinct_against_the_dark_a_tall_white_fountain_played.png\"\n"
     ]
    },
    {
     "name": "stderr",
     "output_type": "stream",
     "text": [
      "\n",
      "loss: tensor([-31.7819], device='cuda:0', grad_fn=<AddBackward0>):  57%|█████▋    | 172/300 [01:33<01:23,  1.54it/s]\u001b[A\n",
      "loss: tensor([-31.7819], device='cuda:0', grad_fn=<AddBackward0>):  58%|█████▊    | 173/300 [01:33<01:22,  1.55it/s]\u001b[A"
     ]
    },
    {
     "name": "stdout",
     "output_type": "stream",
     "text": [
      "image updated at \"./210215-053843-And_dreadfully_distinct_against_the_dark_a_tall_white_fountain_played.png\"\n"
     ]
    },
    {
     "name": "stderr",
     "output_type": "stream",
     "text": [
      "\n",
      "loss: tensor([-31.7850], device='cuda:0', grad_fn=<AddBackward0>):  58%|█████▊    | 173/300 [01:33<01:22,  1.55it/s]\u001b[A\n",
      "loss: tensor([-31.7850], device='cuda:0', grad_fn=<AddBackward0>):  58%|█████▊    | 174/300 [01:33<01:21,  1.55it/s]\u001b[A"
     ]
    },
    {
     "name": "stdout",
     "output_type": "stream",
     "text": [
      "image updated at \"./210215-053843-And_dreadfully_distinct_against_the_dark_a_tall_white_fountain_played.png\"\n"
     ]
    },
    {
     "name": "stderr",
     "output_type": "stream",
     "text": [
      "\n",
      "loss: tensor([-31.6352], device='cuda:0', grad_fn=<AddBackward0>):  58%|█████▊    | 174/300 [01:34<01:21,  1.55it/s]\u001b[A\n",
      "loss: tensor([-31.6352], device='cuda:0', grad_fn=<AddBackward0>):  58%|█████▊    | 175/300 [01:34<01:20,  1.55it/s]\u001b[A"
     ]
    },
    {
     "name": "stdout",
     "output_type": "stream",
     "text": [
      "image updated at \"./210215-053843-And_dreadfully_distinct_against_the_dark_a_tall_white_fountain_played.png\"\n"
     ]
    },
    {
     "name": "stderr",
     "output_type": "stream",
     "text": [
      "\n",
      "loss: tensor([-31.7232], device='cuda:0', grad_fn=<AddBackward0>):  58%|█████▊    | 175/300 [01:35<01:20,  1.55it/s]\u001b[A\n",
      "loss: tensor([-31.7232], device='cuda:0', grad_fn=<AddBackward0>):  59%|█████▊    | 176/300 [01:35<01:20,  1.54it/s]\u001b[A"
     ]
    },
    {
     "name": "stdout",
     "output_type": "stream",
     "text": [
      "image updated at \"./210215-053843-And_dreadfully_distinct_against_the_dark_a_tall_white_fountain_played.png\"\n"
     ]
    },
    {
     "name": "stderr",
     "output_type": "stream",
     "text": [
      "\n",
      "loss: tensor([-31.6683], device='cuda:0', grad_fn=<AddBackward0>):  59%|█████▊    | 176/300 [01:35<01:20,  1.54it/s]\u001b[A\n",
      "loss: tensor([-31.6683], device='cuda:0', grad_fn=<AddBackward0>):  59%|█████▉    | 177/300 [01:35<01:18,  1.57it/s]\u001b[A"
     ]
    },
    {
     "name": "stdout",
     "output_type": "stream",
     "text": [
      "image updated at \"./210215-053843-And_dreadfully_distinct_against_the_dark_a_tall_white_fountain_played.png\"\n"
     ]
    },
    {
     "name": "stderr",
     "output_type": "stream",
     "text": [
      "\n",
      "loss: tensor([-32.0109], device='cuda:0', grad_fn=<AddBackward0>):  59%|█████▉    | 177/300 [01:36<01:18,  1.57it/s]\u001b[A\n",
      "loss: tensor([-32.0109], device='cuda:0', grad_fn=<AddBackward0>):  59%|█████▉    | 178/300 [01:36<01:17,  1.56it/s]\u001b[A"
     ]
    },
    {
     "name": "stdout",
     "output_type": "stream",
     "text": [
      "image updated at \"./210215-053843-And_dreadfully_distinct_against_the_dark_a_tall_white_fountain_played.png\"\n"
     ]
    },
    {
     "name": "stderr",
     "output_type": "stream",
     "text": [
      "\n",
      "loss: tensor([-31.7453], device='cuda:0', grad_fn=<AddBackward0>):  59%|█████▉    | 178/300 [01:36<01:17,  1.56it/s]\u001b[A\n",
      "loss: tensor([-31.7453], device='cuda:0', grad_fn=<AddBackward0>):  60%|█████▉    | 179/300 [01:36<01:14,  1.62it/s]\u001b[A"
     ]
    },
    {
     "name": "stdout",
     "output_type": "stream",
     "text": [
      "image updated at \"./210215-053843-And_dreadfully_distinct_against_the_dark_a_tall_white_fountain_played.png\"\n"
     ]
    },
    {
     "name": "stderr",
     "output_type": "stream",
     "text": [
      "\n",
      "loss: tensor([-31.6850], device='cuda:0', grad_fn=<AddBackward0>):  60%|█████▉    | 179/300 [01:37<01:14,  1.62it/s]\u001b[A\n",
      "loss: tensor([-31.6850], device='cuda:0', grad_fn=<AddBackward0>):  60%|██████    | 180/300 [01:37<01:17,  1.55it/s]\u001b[A"
     ]
    },
    {
     "name": "stdout",
     "output_type": "stream",
     "text": [
      "image updated at \"./210215-053843-And_dreadfully_distinct_against_the_dark_a_tall_white_fountain_played.png\"\n"
     ]
    },
    {
     "name": "stderr",
     "output_type": "stream",
     "text": [
      "\n",
      "loss: tensor([-31.6201], device='cuda:0', grad_fn=<AddBackward0>):  60%|██████    | 180/300 [01:38<01:17,  1.55it/s]\u001b[A\n",
      "loss: tensor([-31.6201], device='cuda:0', grad_fn=<AddBackward0>):  60%|██████    | 181/300 [01:38<01:22,  1.44it/s]\u001b[A"
     ]
    },
    {
     "name": "stdout",
     "output_type": "stream",
     "text": [
      "image updated at \"./210215-053843-And_dreadfully_distinct_against_the_dark_a_tall_white_fountain_played.png\"\n"
     ]
    },
    {
     "name": "stderr",
     "output_type": "stream",
     "text": [
      "\n",
      "loss: tensor([-31.5915], device='cuda:0', grad_fn=<AddBackward0>):  60%|██████    | 181/300 [01:39<01:22,  1.44it/s]\u001b[A\n",
      "loss: tensor([-31.5915], device='cuda:0', grad_fn=<AddBackward0>):  61%|██████    | 182/300 [01:39<01:27,  1.36it/s]\u001b[A"
     ]
    },
    {
     "name": "stdout",
     "output_type": "stream",
     "text": [
      "image updated at \"./210215-053843-And_dreadfully_distinct_against_the_dark_a_tall_white_fountain_played.png\"\n"
     ]
    },
    {
     "name": "stderr",
     "output_type": "stream",
     "text": [
      "\n",
      "loss: tensor([-31.7513], device='cuda:0', grad_fn=<AddBackward0>):  61%|██████    | 182/300 [01:40<01:27,  1.36it/s]\u001b[A\n",
      "loss: tensor([-31.7513], device='cuda:0', grad_fn=<AddBackward0>):  61%|██████    | 183/300 [01:40<01:29,  1.31it/s]\u001b[A"
     ]
    },
    {
     "name": "stdout",
     "output_type": "stream",
     "text": [
      "image updated at \"./210215-053843-And_dreadfully_distinct_against_the_dark_a_tall_white_fountain_played.png\"\n"
     ]
    },
    {
     "name": "stderr",
     "output_type": "stream",
     "text": [
      "\n",
      "loss: tensor([-31.7215], device='cuda:0', grad_fn=<AddBackward0>):  61%|██████    | 183/300 [01:40<01:29,  1.31it/s]\u001b[A\n",
      "loss: tensor([-31.7215], device='cuda:0', grad_fn=<AddBackward0>):  61%|██████▏   | 184/300 [01:40<01:26,  1.34it/s]\u001b[A"
     ]
    },
    {
     "name": "stdout",
     "output_type": "stream",
     "text": [
      "image updated at \"./210215-053843-And_dreadfully_distinct_against_the_dark_a_tall_white_fountain_played.png\"\n"
     ]
    },
    {
     "name": "stderr",
     "output_type": "stream",
     "text": [
      "\n",
      "loss: tensor([-31.7584], device='cuda:0', grad_fn=<AddBackward0>):  61%|██████▏   | 184/300 [01:41<01:26,  1.34it/s]\u001b[A\n",
      "loss: tensor([-31.7584], device='cuda:0', grad_fn=<AddBackward0>):  62%|██████▏   | 185/300 [01:41<01:20,  1.43it/s]\u001b[A"
     ]
    },
    {
     "name": "stdout",
     "output_type": "stream",
     "text": [
      "image updated at \"./210215-053843-And_dreadfully_distinct_against_the_dark_a_tall_white_fountain_played.png\"\n"
     ]
    },
    {
     "name": "stderr",
     "output_type": "stream",
     "text": [
      "\n",
      "loss: tensor([-31.7506], device='cuda:0', grad_fn=<AddBackward0>):  62%|██████▏   | 185/300 [01:41<01:20,  1.43it/s]\u001b[A\n",
      "loss: tensor([-31.7506], device='cuda:0', grad_fn=<AddBackward0>):  62%|██████▏   | 186/300 [01:41<01:15,  1.51it/s]\u001b[A"
     ]
    },
    {
     "name": "stdout",
     "output_type": "stream",
     "text": [
      "image updated at \"./210215-053843-And_dreadfully_distinct_against_the_dark_a_tall_white_fountain_played.png\"\n"
     ]
    },
    {
     "name": "stderr",
     "output_type": "stream",
     "text": [
      "\n",
      "loss: tensor([-31.7800], device='cuda:0', grad_fn=<AddBackward0>):  62%|██████▏   | 186/300 [01:42<01:15,  1.51it/s]\u001b[A\n",
      "loss: tensor([-31.7800], device='cuda:0', grad_fn=<AddBackward0>):  62%|██████▏   | 187/300 [01:42<01:12,  1.57it/s]\u001b[A"
     ]
    },
    {
     "name": "stdout",
     "output_type": "stream",
     "text": [
      "image updated at \"./210215-053843-And_dreadfully_distinct_against_the_dark_a_tall_white_fountain_played.png\"\n"
     ]
    },
    {
     "name": "stderr",
     "output_type": "stream",
     "text": [
      "\n",
      "loss: tensor([-31.7197], device='cuda:0', grad_fn=<AddBackward0>):  62%|██████▏   | 187/300 [01:43<01:12,  1.57it/s]\u001b[A\n",
      "loss: tensor([-31.7197], device='cuda:0', grad_fn=<AddBackward0>):  63%|██████▎   | 188/300 [01:43<01:09,  1.62it/s]\u001b[A"
     ]
    },
    {
     "name": "stdout",
     "output_type": "stream",
     "text": [
      "image updated at \"./210215-053843-And_dreadfully_distinct_against_the_dark_a_tall_white_fountain_played.png\"\n"
     ]
    },
    {
     "name": "stderr",
     "output_type": "stream",
     "text": [
      "\n",
      "loss: tensor([-31.8087], device='cuda:0', grad_fn=<AddBackward0>):  63%|██████▎   | 188/300 [01:43<01:09,  1.62it/s]\u001b[A\n",
      "loss: tensor([-31.8087], device='cuda:0', grad_fn=<AddBackward0>):  63%|██████▎   | 189/300 [01:43<01:06,  1.67it/s]\u001b[A"
     ]
    },
    {
     "name": "stdout",
     "output_type": "stream",
     "text": [
      "image updated at \"./210215-053843-And_dreadfully_distinct_against_the_dark_a_tall_white_fountain_played.png\"\n"
     ]
    },
    {
     "name": "stderr",
     "output_type": "stream",
     "text": [
      "\n",
      "loss: tensor([-31.8225], device='cuda:0', grad_fn=<AddBackward0>):  63%|██████▎   | 189/300 [01:44<01:06,  1.67it/s]\u001b[A\n",
      "loss: tensor([-31.8225], device='cuda:0', grad_fn=<AddBackward0>):  63%|██████▎   | 190/300 [01:44<01:03,  1.73it/s]\u001b[A"
     ]
    },
    {
     "name": "stdout",
     "output_type": "stream",
     "text": [
      "image updated at \"./210215-053843-And_dreadfully_distinct_against_the_dark_a_tall_white_fountain_played.png\"\n"
     ]
    },
    {
     "name": "stderr",
     "output_type": "stream",
     "text": [
      "\n",
      "loss: tensor([-31.6680], device='cuda:0', grad_fn=<AddBackward0>):  63%|██████▎   | 190/300 [01:44<01:03,  1.73it/s]\u001b[A\n",
      "loss: tensor([-31.6680], device='cuda:0', grad_fn=<AddBackward0>):  64%|██████▎   | 191/300 [01:44<01:01,  1.76it/s]\u001b[A"
     ]
    },
    {
     "name": "stdout",
     "output_type": "stream",
     "text": [
      "image updated at \"./210215-053843-And_dreadfully_distinct_against_the_dark_a_tall_white_fountain_played.png\"\n"
     ]
    },
    {
     "name": "stderr",
     "output_type": "stream",
     "text": [
      "\n",
      "loss: tensor([-31.8857], device='cuda:0', grad_fn=<AddBackward0>):  64%|██████▎   | 191/300 [01:45<01:01,  1.76it/s]\u001b[A\n",
      "loss: tensor([-31.8857], device='cuda:0', grad_fn=<AddBackward0>):  64%|██████▍   | 192/300 [01:45<01:00,  1.77it/s]\u001b[A"
     ]
    },
    {
     "name": "stdout",
     "output_type": "stream",
     "text": [
      "image updated at \"./210215-053843-And_dreadfully_distinct_against_the_dark_a_tall_white_fountain_played.png\"\n"
     ]
    },
    {
     "name": "stderr",
     "output_type": "stream",
     "text": [
      "\n",
      "loss: tensor([-31.8517], device='cuda:0', grad_fn=<AddBackward0>):  64%|██████▍   | 192/300 [01:45<01:00,  1.77it/s]\u001b[A\n",
      "loss: tensor([-31.8517], device='cuda:0', grad_fn=<AddBackward0>):  64%|██████▍   | 193/300 [01:45<00:59,  1.79it/s]\u001b[A"
     ]
    },
    {
     "name": "stdout",
     "output_type": "stream",
     "text": [
      "image updated at \"./210215-053843-And_dreadfully_distinct_against_the_dark_a_tall_white_fountain_played.png\"\n"
     ]
    },
    {
     "name": "stderr",
     "output_type": "stream",
     "text": [
      "\n",
      "loss: tensor([-32.0696], device='cuda:0', grad_fn=<AddBackward0>):  64%|██████▍   | 193/300 [01:46<00:59,  1.79it/s]\u001b[A\n",
      "loss: tensor([-32.0696], device='cuda:0', grad_fn=<AddBackward0>):  65%|██████▍   | 194/300 [01:46<01:01,  1.72it/s]\u001b[A"
     ]
    },
    {
     "name": "stdout",
     "output_type": "stream",
     "text": [
      "image updated at \"./210215-053843-And_dreadfully_distinct_against_the_dark_a_tall_white_fountain_played.png\"\n"
     ]
    },
    {
     "name": "stderr",
     "output_type": "stream",
     "text": [
      "\n",
      "loss: tensor([-31.8441], device='cuda:0', grad_fn=<AddBackward0>):  65%|██████▍   | 194/300 [01:47<01:01,  1.72it/s]\u001b[A\n",
      "loss: tensor([-31.8441], device='cuda:0', grad_fn=<AddBackward0>):  65%|██████▌   | 195/300 [01:47<01:01,  1.71it/s]\u001b[A"
     ]
    },
    {
     "name": "stdout",
     "output_type": "stream",
     "text": [
      "image updated at \"./210215-053843-And_dreadfully_distinct_against_the_dark_a_tall_white_fountain_played.png\"\n"
     ]
    },
    {
     "name": "stderr",
     "output_type": "stream",
     "text": [
      "\n",
      "loss: tensor([-31.9975], device='cuda:0', grad_fn=<AddBackward0>):  65%|██████▌   | 195/300 [01:47<01:01,  1.71it/s]\u001b[A\n",
      "loss: tensor([-31.9975], device='cuda:0', grad_fn=<AddBackward0>):  65%|██████▌   | 196/300 [01:47<01:00,  1.71it/s]\u001b[A"
     ]
    },
    {
     "name": "stdout",
     "output_type": "stream",
     "text": [
      "image updated at \"./210215-053843-And_dreadfully_distinct_against_the_dark_a_tall_white_fountain_played.png\"\n"
     ]
    },
    {
     "name": "stderr",
     "output_type": "stream",
     "text": [
      "\n",
      "loss: tensor([-31.8197], device='cuda:0', grad_fn=<AddBackward0>):  65%|██████▌   | 196/300 [01:48<01:00,  1.71it/s]\u001b[A\n",
      "loss: tensor([-31.8197], device='cuda:0', grad_fn=<AddBackward0>):  66%|██████▌   | 197/300 [01:48<00:59,  1.72it/s]\u001b[A"
     ]
    },
    {
     "name": "stdout",
     "output_type": "stream",
     "text": [
      "image updated at \"./210215-053843-And_dreadfully_distinct_against_the_dark_a_tall_white_fountain_played.png\"\n"
     ]
    },
    {
     "name": "stderr",
     "output_type": "stream",
     "text": [
      "\n",
      "loss: tensor([-31.9755], device='cuda:0', grad_fn=<AddBackward0>):  66%|██████▌   | 197/300 [01:48<00:59,  1.72it/s]\u001b[A\n",
      "loss: tensor([-31.9755], device='cuda:0', grad_fn=<AddBackward0>):  66%|██████▌   | 198/300 [01:48<00:58,  1.75it/s]\u001b[A"
     ]
    },
    {
     "name": "stdout",
     "output_type": "stream",
     "text": [
      "image updated at \"./210215-053843-And_dreadfully_distinct_against_the_dark_a_tall_white_fountain_played.png\"\n"
     ]
    },
    {
     "name": "stderr",
     "output_type": "stream",
     "text": [
      "\n",
      "loss: tensor([-31.7871], device='cuda:0', grad_fn=<AddBackward0>):  66%|██████▌   | 198/300 [01:49<00:58,  1.75it/s]\u001b[A\n",
      "loss: tensor([-31.7871], device='cuda:0', grad_fn=<AddBackward0>):  66%|██████▋   | 199/300 [01:49<00:56,  1.78it/s]\u001b[A"
     ]
    },
    {
     "name": "stdout",
     "output_type": "stream",
     "text": [
      "image updated at \"./210215-053843-And_dreadfully_distinct_against_the_dark_a_tall_white_fountain_played.png\"\n"
     ]
    },
    {
     "name": "stderr",
     "output_type": "stream",
     "text": [
      "\n",
      "loss: tensor([-32.1561], device='cuda:0', grad_fn=<AddBackward0>):  66%|██████▋   | 199/300 [01:49<00:56,  1.78it/s]\u001b[A\n",
      "loss: tensor([-32.1561], device='cuda:0', grad_fn=<AddBackward0>):  67%|██████▋   | 200/300 [01:49<00:57,  1.73it/s]\u001b[A"
     ]
    },
    {
     "name": "stdout",
     "output_type": "stream",
     "text": [
      "image updated at \"./210215-053843-And_dreadfully_distinct_against_the_dark_a_tall_white_fountain_played.png\"\n"
     ]
    },
    {
     "name": "stderr",
     "output_type": "stream",
     "text": [
      "\n",
      "loss: tensor([-31.8459], device='cuda:0', grad_fn=<AddBackward0>):  67%|██████▋   | 200/300 [01:50<00:57,  1.73it/s]\u001b[A\n",
      "loss: tensor([-31.8459], device='cuda:0', grad_fn=<AddBackward0>):  67%|██████▋   | 201/300 [01:50<00:54,  1.80it/s]\u001b[A"
     ]
    },
    {
     "name": "stdout",
     "output_type": "stream",
     "text": [
      "image updated at \"./210215-053843-And_dreadfully_distinct_against_the_dark_a_tall_white_fountain_played.png\"\n"
     ]
    },
    {
     "name": "stderr",
     "output_type": "stream",
     "text": [
      "\n",
      "loss: tensor([-31.7228], device='cuda:0', grad_fn=<AddBackward0>):  67%|██████▋   | 201/300 [01:51<00:54,  1.80it/s]\u001b[A\n",
      "loss: tensor([-31.7228], device='cuda:0', grad_fn=<AddBackward0>):  67%|██████▋   | 202/300 [01:51<00:55,  1.77it/s]\u001b[A"
     ]
    },
    {
     "name": "stdout",
     "output_type": "stream",
     "text": [
      "image updated at \"./210215-053843-And_dreadfully_distinct_against_the_dark_a_tall_white_fountain_played.png\"\n"
     ]
    },
    {
     "name": "stderr",
     "output_type": "stream",
     "text": [
      "\n",
      "loss: tensor([-32.0434], device='cuda:0', grad_fn=<AddBackward0>):  67%|██████▋   | 202/300 [01:51<00:55,  1.77it/s]\u001b[A\n",
      "loss: tensor([-32.0434], device='cuda:0', grad_fn=<AddBackward0>):  68%|██████▊   | 203/300 [01:51<00:57,  1.70it/s]\u001b[A"
     ]
    },
    {
     "name": "stdout",
     "output_type": "stream",
     "text": [
      "image updated at \"./210215-053843-And_dreadfully_distinct_against_the_dark_a_tall_white_fountain_played.png\"\n"
     ]
    },
    {
     "name": "stderr",
     "output_type": "stream",
     "text": [
      "\n",
      "loss: tensor([-31.8967], device='cuda:0', grad_fn=<AddBackward0>):  68%|██████▊   | 203/300 [01:52<00:57,  1.70it/s]\u001b[A\n",
      "loss: tensor([-31.8967], device='cuda:0', grad_fn=<AddBackward0>):  68%|██████▊   | 204/300 [01:52<00:58,  1.65it/s]\u001b[A"
     ]
    },
    {
     "name": "stdout",
     "output_type": "stream",
     "text": [
      "image updated at \"./210215-053843-And_dreadfully_distinct_against_the_dark_a_tall_white_fountain_played.png\"\n"
     ]
    },
    {
     "name": "stderr",
     "output_type": "stream",
     "text": [
      "\n",
      "loss: tensor([-31.8331], device='cuda:0', grad_fn=<AddBackward0>):  68%|██████▊   | 204/300 [01:52<00:58,  1.65it/s]\u001b[A\n",
      "loss: tensor([-31.8331], device='cuda:0', grad_fn=<AddBackward0>):  68%|██████▊   | 205/300 [01:52<00:58,  1.62it/s]\u001b[A"
     ]
    },
    {
     "name": "stdout",
     "output_type": "stream",
     "text": [
      "image updated at \"./210215-053843-And_dreadfully_distinct_against_the_dark_a_tall_white_fountain_played.png\"\n"
     ]
    },
    {
     "name": "stderr",
     "output_type": "stream",
     "text": [
      "\n",
      "loss: tensor([-32.0178], device='cuda:0', grad_fn=<AddBackward0>):  68%|██████▊   | 205/300 [01:53<00:58,  1.62it/s]\u001b[A\n",
      "loss: tensor([-32.0178], device='cuda:0', grad_fn=<AddBackward0>):  69%|██████▊   | 206/300 [01:53<00:58,  1.60it/s]\u001b[A"
     ]
    },
    {
     "name": "stdout",
     "output_type": "stream",
     "text": [
      "image updated at \"./210215-053843-And_dreadfully_distinct_against_the_dark_a_tall_white_fountain_played.png\"\n"
     ]
    },
    {
     "name": "stderr",
     "output_type": "stream",
     "text": [
      "\n",
      "loss: tensor([-31.9191], device='cuda:0', grad_fn=<AddBackward0>):  69%|██████▊   | 206/300 [01:54<00:58,  1.60it/s]\u001b[A\n",
      "loss: tensor([-31.9191], device='cuda:0', grad_fn=<AddBackward0>):  69%|██████▉   | 207/300 [01:54<00:56,  1.64it/s]\u001b[A"
     ]
    },
    {
     "name": "stdout",
     "output_type": "stream",
     "text": [
      "image updated at \"./210215-053843-And_dreadfully_distinct_against_the_dark_a_tall_white_fountain_played.png\"\n"
     ]
    },
    {
     "name": "stderr",
     "output_type": "stream",
     "text": [
      "\n",
      "loss: tensor([-31.8548], device='cuda:0', grad_fn=<AddBackward0>):  69%|██████▉   | 207/300 [01:54<00:56,  1.64it/s]\u001b[A\n",
      "loss: tensor([-31.8548], device='cuda:0', grad_fn=<AddBackward0>):  69%|██████▉   | 208/300 [01:54<00:55,  1.65it/s]\u001b[A"
     ]
    },
    {
     "name": "stdout",
     "output_type": "stream",
     "text": [
      "image updated at \"./210215-053843-And_dreadfully_distinct_against_the_dark_a_tall_white_fountain_played.png\"\n"
     ]
    },
    {
     "name": "stderr",
     "output_type": "stream",
     "text": [
      "\n",
      "loss: tensor([-31.8914], device='cuda:0', grad_fn=<AddBackward0>):  69%|██████▉   | 208/300 [01:55<00:55,  1.65it/s]\u001b[A\n",
      "loss: tensor([-31.8914], device='cuda:0', grad_fn=<AddBackward0>):  70%|██████▉   | 209/300 [01:55<00:54,  1.66it/s]\u001b[A"
     ]
    },
    {
     "name": "stdout",
     "output_type": "stream",
     "text": [
      "image updated at \"./210215-053843-And_dreadfully_distinct_against_the_dark_a_tall_white_fountain_played.png\"\n"
     ]
    },
    {
     "name": "stderr",
     "output_type": "stream",
     "text": [
      "\n",
      "loss: tensor([-31.8557], device='cuda:0', grad_fn=<AddBackward0>):  70%|██████▉   | 209/300 [01:55<00:54,  1.66it/s]\u001b[A\n",
      "loss: tensor([-31.8557], device='cuda:0', grad_fn=<AddBackward0>):  70%|███████   | 210/300 [01:55<00:51,  1.74it/s]\u001b[A"
     ]
    },
    {
     "name": "stdout",
     "output_type": "stream",
     "text": [
      "image updated at \"./210215-053843-And_dreadfully_distinct_against_the_dark_a_tall_white_fountain_played.png\"\n"
     ]
    },
    {
     "name": "stderr",
     "output_type": "stream",
     "text": [
      "\n",
      "loss: tensor([-32.0364], device='cuda:0', grad_fn=<AddBackward0>):  70%|███████   | 210/300 [01:56<00:51,  1.74it/s]\u001b[A\n",
      "loss: tensor([-32.0364], device='cuda:0', grad_fn=<AddBackward0>):  70%|███████   | 211/300 [01:56<00:51,  1.72it/s]\u001b[A"
     ]
    },
    {
     "name": "stdout",
     "output_type": "stream",
     "text": [
      "image updated at \"./210215-053843-And_dreadfully_distinct_against_the_dark_a_tall_white_fountain_played.png\"\n"
     ]
    },
    {
     "name": "stderr",
     "output_type": "stream",
     "text": [
      "\n",
      "loss: tensor([-31.7263], device='cuda:0', grad_fn=<AddBackward0>):  70%|███████   | 211/300 [01:57<00:51,  1.72it/s]\u001b[A\n",
      "loss: tensor([-31.7263], device='cuda:0', grad_fn=<AddBackward0>):  71%|███████   | 212/300 [01:57<00:50,  1.75it/s]\u001b[A"
     ]
    },
    {
     "name": "stdout",
     "output_type": "stream",
     "text": [
      "image updated at \"./210215-053843-And_dreadfully_distinct_against_the_dark_a_tall_white_fountain_played.png\"\n"
     ]
    },
    {
     "name": "stderr",
     "output_type": "stream",
     "text": [
      "\n",
      "loss: tensor([-31.8846], device='cuda:0', grad_fn=<AddBackward0>):  71%|███████   | 212/300 [01:57<00:50,  1.75it/s]\u001b[A\n",
      "loss: tensor([-31.8846], device='cuda:0', grad_fn=<AddBackward0>):  71%|███████   | 213/300 [01:57<00:50,  1.71it/s]\u001b[A"
     ]
    },
    {
     "name": "stdout",
     "output_type": "stream",
     "text": [
      "image updated at \"./210215-053843-And_dreadfully_distinct_against_the_dark_a_tall_white_fountain_played.png\"\n"
     ]
    },
    {
     "name": "stderr",
     "output_type": "stream",
     "text": [
      "\n",
      "loss: tensor([-32.0809], device='cuda:0', grad_fn=<AddBackward0>):  71%|███████   | 213/300 [01:58<00:50,  1.71it/s]\u001b[A\n",
      "loss: tensor([-32.0809], device='cuda:0', grad_fn=<AddBackward0>):  71%|███████▏  | 214/300 [01:58<00:51,  1.67it/s]\u001b[A"
     ]
    },
    {
     "name": "stdout",
     "output_type": "stream",
     "text": [
      "image updated at \"./210215-053843-And_dreadfully_distinct_against_the_dark_a_tall_white_fountain_played.png\"\n"
     ]
    },
    {
     "name": "stderr",
     "output_type": "stream",
     "text": [
      "\n",
      "loss: tensor([-31.9847], device='cuda:0', grad_fn=<AddBackward0>):  71%|███████▏  | 214/300 [01:58<00:51,  1.67it/s]\u001b[A\n",
      "loss: tensor([-31.9847], device='cuda:0', grad_fn=<AddBackward0>):  72%|███████▏  | 215/300 [01:58<00:51,  1.64it/s]\u001b[A"
     ]
    },
    {
     "name": "stdout",
     "output_type": "stream",
     "text": [
      "image updated at \"./210215-053843-And_dreadfully_distinct_against_the_dark_a_tall_white_fountain_played.png\"\n"
     ]
    },
    {
     "name": "stderr",
     "output_type": "stream",
     "text": [
      "\n",
      "loss: tensor([-32.1715], device='cuda:0', grad_fn=<AddBackward0>):  72%|███████▏  | 215/300 [01:59<00:51,  1.64it/s]\u001b[A\n",
      "loss: tensor([-32.1715], device='cuda:0', grad_fn=<AddBackward0>):  72%|███████▏  | 216/300 [01:59<00:51,  1.62it/s]\u001b[A"
     ]
    },
    {
     "name": "stdout",
     "output_type": "stream",
     "text": [
      "image updated at \"./210215-053843-And_dreadfully_distinct_against_the_dark_a_tall_white_fountain_played.png\"\n"
     ]
    },
    {
     "name": "stderr",
     "output_type": "stream",
     "text": [
      "\n",
      "loss: tensor([-31.9513], device='cuda:0', grad_fn=<AddBackward0>):  72%|███████▏  | 216/300 [02:00<00:51,  1.62it/s]\u001b[A\n",
      "loss: tensor([-31.9513], device='cuda:0', grad_fn=<AddBackward0>):  72%|███████▏  | 217/300 [02:00<00:51,  1.61it/s]\u001b[A"
     ]
    },
    {
     "name": "stdout",
     "output_type": "stream",
     "text": [
      "image updated at \"./210215-053843-And_dreadfully_distinct_against_the_dark_a_tall_white_fountain_played.png\"\n"
     ]
    },
    {
     "name": "stderr",
     "output_type": "stream",
     "text": [
      "\n",
      "loss: tensor([-31.9527], device='cuda:0', grad_fn=<AddBackward0>):  72%|███████▏  | 217/300 [02:00<00:51,  1.61it/s]\u001b[A\n",
      "loss: tensor([-31.9527], device='cuda:0', grad_fn=<AddBackward0>):  73%|███████▎  | 218/300 [02:00<00:51,  1.59it/s]\u001b[A"
     ]
    },
    {
     "name": "stdout",
     "output_type": "stream",
     "text": [
      "image updated at \"./210215-053843-And_dreadfully_distinct_against_the_dark_a_tall_white_fountain_played.png\"\n"
     ]
    },
    {
     "name": "stderr",
     "output_type": "stream",
     "text": [
      "\n",
      "loss: tensor([-31.8624], device='cuda:0', grad_fn=<AddBackward0>):  73%|███████▎  | 218/300 [02:01<00:51,  1.59it/s]\u001b[A\n",
      "loss: tensor([-31.8624], device='cuda:0', grad_fn=<AddBackward0>):  73%|███████▎  | 219/300 [02:01<00:49,  1.62it/s]\u001b[A"
     ]
    },
    {
     "name": "stdout",
     "output_type": "stream",
     "text": [
      "image updated at \"./210215-053843-And_dreadfully_distinct_against_the_dark_a_tall_white_fountain_played.png\"\n"
     ]
    },
    {
     "name": "stderr",
     "output_type": "stream",
     "text": [
      "\n",
      "loss: tensor([-32.1417], device='cuda:0', grad_fn=<AddBackward0>):  73%|███████▎  | 219/300 [02:01<00:49,  1.62it/s]\u001b[A\n",
      "loss: tensor([-32.1417], device='cuda:0', grad_fn=<AddBackward0>):  73%|███████▎  | 220/300 [02:01<00:48,  1.65it/s]\u001b[A"
     ]
    },
    {
     "name": "stdout",
     "output_type": "stream",
     "text": [
      "image updated at \"./210215-053843-And_dreadfully_distinct_against_the_dark_a_tall_white_fountain_played.png\"\n"
     ]
    },
    {
     "name": "stderr",
     "output_type": "stream",
     "text": [
      "\n",
      "loss: tensor([-32.0881], device='cuda:0', grad_fn=<AddBackward0>):  73%|███████▎  | 220/300 [02:02<00:48,  1.65it/s]\u001b[A\n",
      "loss: tensor([-32.0881], device='cuda:0', grad_fn=<AddBackward0>):  74%|███████▎  | 221/300 [02:02<00:46,  1.69it/s]\u001b[A"
     ]
    },
    {
     "name": "stdout",
     "output_type": "stream",
     "text": [
      "image updated at \"./210215-053843-And_dreadfully_distinct_against_the_dark_a_tall_white_fountain_played.png\"\n"
     ]
    },
    {
     "name": "stderr",
     "output_type": "stream",
     "text": [
      "\n",
      "loss: tensor([-32.0579], device='cuda:0', grad_fn=<AddBackward0>):  74%|███████▎  | 221/300 [02:03<00:46,  1.69it/s]\u001b[A\n",
      "loss: tensor([-32.0579], device='cuda:0', grad_fn=<AddBackward0>):  74%|███████▍  | 222/300 [02:03<00:45,  1.73it/s]\u001b[A"
     ]
    },
    {
     "name": "stdout",
     "output_type": "stream",
     "text": [
      "image updated at \"./210215-053843-And_dreadfully_distinct_against_the_dark_a_tall_white_fountain_played.png\"\n"
     ]
    },
    {
     "name": "stderr",
     "output_type": "stream",
     "text": [
      "\n",
      "loss: tensor([-31.7790], device='cuda:0', grad_fn=<AddBackward0>):  74%|███████▍  | 222/300 [02:03<00:45,  1.73it/s]\u001b[A\n",
      "loss: tensor([-31.7790], device='cuda:0', grad_fn=<AddBackward0>):  74%|███████▍  | 223/300 [02:03<00:42,  1.80it/s]\u001b[A"
     ]
    },
    {
     "name": "stdout",
     "output_type": "stream",
     "text": [
      "image updated at \"./210215-053843-And_dreadfully_distinct_against_the_dark_a_tall_white_fountain_played.png\"\n"
     ]
    },
    {
     "name": "stderr",
     "output_type": "stream",
     "text": [
      "\n",
      "loss: tensor([-31.9552], device='cuda:0', grad_fn=<AddBackward0>):  74%|███████▍  | 223/300 [02:04<00:42,  1.80it/s]\u001b[A\n",
      "loss: tensor([-31.9552], device='cuda:0', grad_fn=<AddBackward0>):  75%|███████▍  | 224/300 [02:04<00:42,  1.77it/s]\u001b[A"
     ]
    },
    {
     "name": "stdout",
     "output_type": "stream",
     "text": [
      "image updated at \"./210215-053843-And_dreadfully_distinct_against_the_dark_a_tall_white_fountain_played.png\"\n"
     ]
    },
    {
     "name": "stderr",
     "output_type": "stream",
     "text": [
      "\n",
      "loss: tensor([-32.1214], device='cuda:0', grad_fn=<AddBackward0>):  75%|███████▍  | 224/300 [02:04<00:42,  1.77it/s]\u001b[A\n",
      "loss: tensor([-32.1214], device='cuda:0', grad_fn=<AddBackward0>):  75%|███████▌  | 225/300 [02:04<00:42,  1.78it/s]\u001b[A"
     ]
    },
    {
     "name": "stdout",
     "output_type": "stream",
     "text": [
      "image updated at \"./210215-053843-And_dreadfully_distinct_against_the_dark_a_tall_white_fountain_played.png\"\n"
     ]
    },
    {
     "name": "stderr",
     "output_type": "stream",
     "text": [
      "\n",
      "loss: tensor([-31.9700], device='cuda:0', grad_fn=<AddBackward0>):  75%|███████▌  | 225/300 [02:05<00:42,  1.78it/s]\u001b[A\n",
      "loss: tensor([-31.9700], device='cuda:0', grad_fn=<AddBackward0>):  75%|███████▌  | 226/300 [02:05<00:41,  1.78it/s]\u001b[A"
     ]
    },
    {
     "name": "stdout",
     "output_type": "stream",
     "text": [
      "image updated at \"./210215-053843-And_dreadfully_distinct_against_the_dark_a_tall_white_fountain_played.png\"\n"
     ]
    },
    {
     "name": "stderr",
     "output_type": "stream",
     "text": [
      "\n",
      "loss: tensor([-32.0930], device='cuda:0', grad_fn=<AddBackward0>):  75%|███████▌  | 226/300 [02:05<00:41,  1.78it/s]\u001b[A\n",
      "loss: tensor([-32.0930], device='cuda:0', grad_fn=<AddBackward0>):  76%|███████▌  | 227/300 [02:05<00:40,  1.82it/s]\u001b[A"
     ]
    },
    {
     "name": "stdout",
     "output_type": "stream",
     "text": [
      "image updated at \"./210215-053843-And_dreadfully_distinct_against_the_dark_a_tall_white_fountain_played.png\"\n"
     ]
    },
    {
     "name": "stderr",
     "output_type": "stream",
     "text": [
      "\n",
      "loss: tensor([-31.9280], device='cuda:0', grad_fn=<AddBackward0>):  76%|███████▌  | 227/300 [02:06<00:40,  1.82it/s]\u001b[A\n",
      "loss: tensor([-31.9280], device='cuda:0', grad_fn=<AddBackward0>):  76%|███████▌  | 228/300 [02:06<00:40,  1.77it/s]\u001b[A"
     ]
    },
    {
     "name": "stdout",
     "output_type": "stream",
     "text": [
      "image updated at \"./210215-053843-And_dreadfully_distinct_against_the_dark_a_tall_white_fountain_played.png\"\n"
     ]
    },
    {
     "name": "stderr",
     "output_type": "stream",
     "text": [
      "\n",
      "loss: tensor([-32.1131], device='cuda:0', grad_fn=<AddBackward0>):  76%|███████▌  | 228/300 [02:06<00:40,  1.77it/s]\u001b[A\n",
      "loss: tensor([-32.1131], device='cuda:0', grad_fn=<AddBackward0>):  76%|███████▋  | 229/300 [02:06<00:39,  1.78it/s]\u001b[A"
     ]
    },
    {
     "name": "stdout",
     "output_type": "stream",
     "text": [
      "image updated at \"./210215-053843-And_dreadfully_distinct_against_the_dark_a_tall_white_fountain_played.png\"\n"
     ]
    },
    {
     "name": "stderr",
     "output_type": "stream",
     "text": [
      "\n",
      "loss: tensor([-31.7768], device='cuda:0', grad_fn=<AddBackward0>):  76%|███████▋  | 229/300 [02:07<00:39,  1.78it/s]\u001b[A\n",
      "loss: tensor([-31.7768], device='cuda:0', grad_fn=<AddBackward0>):  77%|███████▋  | 230/300 [02:07<00:38,  1.80it/s]\u001b[A"
     ]
    },
    {
     "name": "stdout",
     "output_type": "stream",
     "text": [
      "image updated at \"./210215-053843-And_dreadfully_distinct_against_the_dark_a_tall_white_fountain_played.png\"\n"
     ]
    },
    {
     "name": "stderr",
     "output_type": "stream",
     "text": [
      "\n",
      "loss: tensor([-31.8042], device='cuda:0', grad_fn=<AddBackward0>):  77%|███████▋  | 230/300 [02:08<00:38,  1.80it/s]\u001b[A\n",
      "loss: tensor([-31.8042], device='cuda:0', grad_fn=<AddBackward0>):  77%|███████▋  | 231/300 [02:08<00:39,  1.76it/s]\u001b[A"
     ]
    },
    {
     "name": "stdout",
     "output_type": "stream",
     "text": [
      "image updated at \"./210215-053843-And_dreadfully_distinct_against_the_dark_a_tall_white_fountain_played.png\"\n"
     ]
    },
    {
     "name": "stderr",
     "output_type": "stream",
     "text": [
      "\n",
      "loss: tensor([-31.9260], device='cuda:0', grad_fn=<AddBackward0>):  77%|███████▋  | 231/300 [02:08<00:39,  1.76it/s]\u001b[A\n",
      "loss: tensor([-31.9260], device='cuda:0', grad_fn=<AddBackward0>):  77%|███████▋  | 232/300 [02:08<00:38,  1.74it/s]\u001b[A"
     ]
    },
    {
     "name": "stdout",
     "output_type": "stream",
     "text": [
      "image updated at \"./210215-053843-And_dreadfully_distinct_against_the_dark_a_tall_white_fountain_played.png\"\n"
     ]
    },
    {
     "name": "stderr",
     "output_type": "stream",
     "text": [
      "\n",
      "loss: tensor([-31.8977], device='cuda:0', grad_fn=<AddBackward0>):  77%|███████▋  | 232/300 [02:09<00:38,  1.74it/s]\u001b[A\n",
      "loss: tensor([-31.8977], device='cuda:0', grad_fn=<AddBackward0>):  78%|███████▊  | 233/300 [02:09<00:39,  1.68it/s]\u001b[A"
     ]
    },
    {
     "name": "stdout",
     "output_type": "stream",
     "text": [
      "image updated at \"./210215-053843-And_dreadfully_distinct_against_the_dark_a_tall_white_fountain_played.png\"\n"
     ]
    },
    {
     "name": "stderr",
     "output_type": "stream",
     "text": [
      "\n",
      "loss: tensor([-32.0574], device='cuda:0', grad_fn=<AddBackward0>):  78%|███████▊  | 233/300 [02:09<00:39,  1.68it/s]\u001b[A\n",
      "loss: tensor([-32.0574], device='cuda:0', grad_fn=<AddBackward0>):  78%|███████▊  | 234/300 [02:09<00:40,  1.65it/s]\u001b[A"
     ]
    },
    {
     "name": "stdout",
     "output_type": "stream",
     "text": [
      "image updated at \"./210215-053843-And_dreadfully_distinct_against_the_dark_a_tall_white_fountain_played.png\"\n"
     ]
    },
    {
     "name": "stderr",
     "output_type": "stream",
     "text": [
      "\n",
      "loss: tensor([-32.1521], device='cuda:0', grad_fn=<AddBackward0>):  78%|███████▊  | 234/300 [02:10<00:40,  1.65it/s]\u001b[A\n",
      "loss: tensor([-32.1521], device='cuda:0', grad_fn=<AddBackward0>):  78%|███████▊  | 235/300 [02:10<00:40,  1.62it/s]\u001b[A"
     ]
    },
    {
     "name": "stdout",
     "output_type": "stream",
     "text": [
      "image updated at \"./210215-053843-And_dreadfully_distinct_against_the_dark_a_tall_white_fountain_played.png\"\n"
     ]
    },
    {
     "name": "stderr",
     "output_type": "stream",
     "text": [
      "\n",
      "loss: tensor([-32.1532], device='cuda:0', grad_fn=<AddBackward0>):  78%|███████▊  | 235/300 [02:11<00:40,  1.62it/s]\u001b[A\n",
      "loss: tensor([-32.1532], device='cuda:0', grad_fn=<AddBackward0>):  79%|███████▊  | 236/300 [02:11<00:39,  1.61it/s]\u001b[A"
     ]
    },
    {
     "name": "stdout",
     "output_type": "stream",
     "text": [
      "image updated at \"./210215-053843-And_dreadfully_distinct_against_the_dark_a_tall_white_fountain_played.png\"\n"
     ]
    },
    {
     "name": "stderr",
     "output_type": "stream",
     "text": [
      "\n",
      "loss: tensor([-32.2769], device='cuda:0', grad_fn=<AddBackward0>):  79%|███████▊  | 236/300 [02:11<00:39,  1.61it/s]\u001b[A\n",
      "loss: tensor([-32.2769], device='cuda:0', grad_fn=<AddBackward0>):  79%|███████▉  | 237/300 [02:11<00:40,  1.54it/s]\u001b[A"
     ]
    },
    {
     "name": "stdout",
     "output_type": "stream",
     "text": [
      "image updated at \"./210215-053843-And_dreadfully_distinct_against_the_dark_a_tall_white_fountain_played.png\"\n"
     ]
    },
    {
     "name": "stderr",
     "output_type": "stream",
     "text": [
      "\n",
      "loss: tensor([-31.9674], device='cuda:0', grad_fn=<AddBackward0>):  79%|███████▉  | 237/300 [02:12<00:40,  1.54it/s]\u001b[A\n",
      "loss: tensor([-31.9674], device='cuda:0', grad_fn=<AddBackward0>):  79%|███████▉  | 238/300 [02:12<00:37,  1.63it/s]\u001b[A"
     ]
    },
    {
     "name": "stdout",
     "output_type": "stream",
     "text": [
      "image updated at \"./210215-053843-And_dreadfully_distinct_against_the_dark_a_tall_white_fountain_played.png\"\n"
     ]
    },
    {
     "name": "stderr",
     "output_type": "stream",
     "text": [
      "\n",
      "loss: tensor([-32.3114], device='cuda:0', grad_fn=<AddBackward0>):  79%|███████▉  | 238/300 [02:13<00:37,  1.63it/s]\u001b[A\n",
      "loss: tensor([-32.3114], device='cuda:0', grad_fn=<AddBackward0>):  80%|███████▉  | 239/300 [02:13<00:37,  1.63it/s]\u001b[A"
     ]
    },
    {
     "name": "stdout",
     "output_type": "stream",
     "text": [
      "image updated at \"./210215-053843-And_dreadfully_distinct_against_the_dark_a_tall_white_fountain_played.png\"\n"
     ]
    },
    {
     "name": "stderr",
     "output_type": "stream",
     "text": [
      "\n",
      "loss: tensor([-32.1856], device='cuda:0', grad_fn=<AddBackward0>):  80%|███████▉  | 239/300 [02:13<00:37,  1.63it/s]\u001b[A\n",
      "loss: tensor([-32.1856], device='cuda:0', grad_fn=<AddBackward0>):  80%|████████  | 240/300 [02:13<00:36,  1.66it/s]\u001b[A"
     ]
    },
    {
     "name": "stdout",
     "output_type": "stream",
     "text": [
      "image updated at \"./210215-053843-And_dreadfully_distinct_against_the_dark_a_tall_white_fountain_played.png\"\n"
     ]
    },
    {
     "name": "stderr",
     "output_type": "stream",
     "text": [
      "\n",
      "loss: tensor([-32.0945], device='cuda:0', grad_fn=<AddBackward0>):  80%|████████  | 240/300 [02:14<00:36,  1.66it/s]\u001b[A\n",
      "loss: tensor([-32.0945], device='cuda:0', grad_fn=<AddBackward0>):  80%|████████  | 241/300 [02:14<00:33,  1.74it/s]\u001b[A"
     ]
    },
    {
     "name": "stdout",
     "output_type": "stream",
     "text": [
      "image updated at \"./210215-053843-And_dreadfully_distinct_against_the_dark_a_tall_white_fountain_played.png\"\n"
     ]
    },
    {
     "name": "stderr",
     "output_type": "stream",
     "text": [
      "\n",
      "loss: tensor([-32.0380], device='cuda:0', grad_fn=<AddBackward0>):  80%|████████  | 241/300 [02:14<00:33,  1.74it/s]\u001b[A\n",
      "loss: tensor([-32.0380], device='cuda:0', grad_fn=<AddBackward0>):  81%|████████  | 242/300 [02:14<00:33,  1.76it/s]\u001b[A"
     ]
    },
    {
     "name": "stdout",
     "output_type": "stream",
     "text": [
      "image updated at \"./210215-053843-And_dreadfully_distinct_against_the_dark_a_tall_white_fountain_played.png\"\n"
     ]
    },
    {
     "name": "stderr",
     "output_type": "stream",
     "text": [
      "\n",
      "loss: tensor([-32.1905], device='cuda:0', grad_fn=<AddBackward0>):  81%|████████  | 242/300 [02:15<00:33,  1.76it/s]\u001b[A\n",
      "loss: tensor([-32.1905], device='cuda:0', grad_fn=<AddBackward0>):  81%|████████  | 243/300 [02:15<00:31,  1.79it/s]\u001b[A"
     ]
    },
    {
     "name": "stdout",
     "output_type": "stream",
     "text": [
      "image updated at \"./210215-053843-And_dreadfully_distinct_against_the_dark_a_tall_white_fountain_played.png\"\n"
     ]
    },
    {
     "name": "stderr",
     "output_type": "stream",
     "text": [
      "\n",
      "loss: tensor([-32.2438], device='cuda:0', grad_fn=<AddBackward0>):  81%|████████  | 243/300 [02:15<00:31,  1.79it/s]\u001b[A\n",
      "loss: tensor([-32.2438], device='cuda:0', grad_fn=<AddBackward0>):  81%|████████▏ | 244/300 [02:15<00:31,  1.79it/s]\u001b[A"
     ]
    },
    {
     "name": "stdout",
     "output_type": "stream",
     "text": [
      "image updated at \"./210215-053843-And_dreadfully_distinct_against_the_dark_a_tall_white_fountain_played.png\"\n"
     ]
    },
    {
     "name": "stderr",
     "output_type": "stream",
     "text": [
      "\n",
      "loss: tensor([-32.3064], device='cuda:0', grad_fn=<AddBackward0>):  81%|████████▏ | 244/300 [02:16<00:31,  1.79it/s]\u001b[A\n",
      "loss: tensor([-32.3064], device='cuda:0', grad_fn=<AddBackward0>):  82%|████████▏ | 245/300 [02:16<00:30,  1.81it/s]\u001b[A"
     ]
    },
    {
     "name": "stdout",
     "output_type": "stream",
     "text": [
      "image updated at \"./210215-053843-And_dreadfully_distinct_against_the_dark_a_tall_white_fountain_played.png\"\n"
     ]
    },
    {
     "name": "stderr",
     "output_type": "stream",
     "text": [
      "\n",
      "loss: tensor([-32.1790], device='cuda:0', grad_fn=<AddBackward0>):  82%|████████▏ | 245/300 [02:16<00:30,  1.81it/s]\u001b[A\n",
      "loss: tensor([-32.1790], device='cuda:0', grad_fn=<AddBackward0>):  82%|████████▏ | 246/300 [02:16<00:29,  1.82it/s]\u001b[A"
     ]
    },
    {
     "name": "stdout",
     "output_type": "stream",
     "text": [
      "image updated at \"./210215-053843-And_dreadfully_distinct_against_the_dark_a_tall_white_fountain_played.png\"\n"
     ]
    },
    {
     "name": "stderr",
     "output_type": "stream",
     "text": [
      "\n",
      "loss: tensor([-32.3158], device='cuda:0', grad_fn=<AddBackward0>):  82%|████████▏ | 246/300 [02:17<00:29,  1.82it/s]\u001b[A\n",
      "loss: tensor([-32.3158], device='cuda:0', grad_fn=<AddBackward0>):  82%|████████▏ | 247/300 [02:17<00:29,  1.82it/s]\u001b[A"
     ]
    },
    {
     "name": "stdout",
     "output_type": "stream",
     "text": [
      "image updated at \"./210215-053843-And_dreadfully_distinct_against_the_dark_a_tall_white_fountain_played.png\"\n"
     ]
    },
    {
     "name": "stderr",
     "output_type": "stream",
     "text": [
      "\n",
      "loss: tensor([-32.2279], device='cuda:0', grad_fn=<AddBackward0>):  82%|████████▏ | 247/300 [02:18<00:29,  1.82it/s]\u001b[A\n",
      "loss: tensor([-32.2279], device='cuda:0', grad_fn=<AddBackward0>):  83%|████████▎ | 248/300 [02:18<00:28,  1.83it/s]\u001b[A"
     ]
    },
    {
     "name": "stdout",
     "output_type": "stream",
     "text": [
      "image updated at \"./210215-053843-And_dreadfully_distinct_against_the_dark_a_tall_white_fountain_played.png\"\n"
     ]
    },
    {
     "name": "stderr",
     "output_type": "stream",
     "text": [
      "\n",
      "loss: tensor([-32.2482], device='cuda:0', grad_fn=<AddBackward0>):  83%|████████▎ | 248/300 [02:18<00:28,  1.83it/s]\u001b[A\n",
      "loss: tensor([-32.2482], device='cuda:0', grad_fn=<AddBackward0>):  83%|████████▎ | 249/300 [02:18<00:27,  1.86it/s]\u001b[A"
     ]
    },
    {
     "name": "stdout",
     "output_type": "stream",
     "text": [
      "image updated at \"./210215-053843-And_dreadfully_distinct_against_the_dark_a_tall_white_fountain_played.png\"\n"
     ]
    },
    {
     "name": "stderr",
     "output_type": "stream",
     "text": [
      "\n",
      "loss: tensor([-32.2436], device='cuda:0', grad_fn=<AddBackward0>):  83%|████████▎ | 249/300 [02:19<00:27,  1.86it/s]\u001b[A\n",
      "loss: tensor([-32.2436], device='cuda:0', grad_fn=<AddBackward0>):  83%|████████▎ | 250/300 [02:19<00:27,  1.79it/s]\u001b[A"
     ]
    },
    {
     "name": "stdout",
     "output_type": "stream",
     "text": [
      "image updated at \"./210215-053843-And_dreadfully_distinct_against_the_dark_a_tall_white_fountain_played.png\"\n"
     ]
    },
    {
     "name": "stderr",
     "output_type": "stream",
     "text": [
      "\n",
      "loss: tensor([-32.1589], device='cuda:0', grad_fn=<AddBackward0>):  83%|████████▎ | 250/300 [02:19<00:27,  1.79it/s]\u001b[A\n",
      "loss: tensor([-32.1589], device='cuda:0', grad_fn=<AddBackward0>):  84%|████████▎ | 251/300 [02:19<00:27,  1.79it/s]\u001b[A"
     ]
    },
    {
     "name": "stdout",
     "output_type": "stream",
     "text": [
      "image updated at \"./210215-053843-And_dreadfully_distinct_against_the_dark_a_tall_white_fountain_played.png\"\n"
     ]
    },
    {
     "name": "stderr",
     "output_type": "stream",
     "text": [
      "\n",
      "loss: tensor([-32.4749], device='cuda:0', grad_fn=<AddBackward0>):  84%|████████▎ | 251/300 [02:20<00:27,  1.79it/s]\u001b[A\n",
      "loss: tensor([-32.4749], device='cuda:0', grad_fn=<AddBackward0>):  84%|████████▍ | 252/300 [02:20<00:27,  1.72it/s]\u001b[A"
     ]
    },
    {
     "name": "stdout",
     "output_type": "stream",
     "text": [
      "image updated at \"./210215-053843-And_dreadfully_distinct_against_the_dark_a_tall_white_fountain_played.png\"\n"
     ]
    },
    {
     "name": "stderr",
     "output_type": "stream",
     "text": [
      "\n",
      "loss: tensor([-32.3526], device='cuda:0', grad_fn=<AddBackward0>):  84%|████████▍ | 252/300 [02:20<00:27,  1.72it/s]\u001b[A\n",
      "loss: tensor([-32.3526], device='cuda:0', grad_fn=<AddBackward0>):  84%|████████▍ | 253/300 [02:20<00:27,  1.73it/s]\u001b[A"
     ]
    },
    {
     "name": "stdout",
     "output_type": "stream",
     "text": [
      "image updated at \"./210215-053843-And_dreadfully_distinct_against_the_dark_a_tall_white_fountain_played.png\"\n"
     ]
    },
    {
     "name": "stderr",
     "output_type": "stream",
     "text": [
      "\n",
      "loss: tensor([-32.2857], device='cuda:0', grad_fn=<AddBackward0>):  84%|████████▍ | 253/300 [02:21<00:27,  1.73it/s]\u001b[A\n",
      "loss: tensor([-32.2857], device='cuda:0', grad_fn=<AddBackward0>):  85%|████████▍ | 254/300 [02:21<00:26,  1.76it/s]\u001b[A"
     ]
    },
    {
     "name": "stdout",
     "output_type": "stream",
     "text": [
      "image updated at \"./210215-053843-And_dreadfully_distinct_against_the_dark_a_tall_white_fountain_played.png\"\n"
     ]
    },
    {
     "name": "stderr",
     "output_type": "stream",
     "text": [
      "\n",
      "loss: tensor([-32.1524], device='cuda:0', grad_fn=<AddBackward0>):  85%|████████▍ | 254/300 [02:21<00:26,  1.76it/s]\u001b[A\n",
      "loss: tensor([-32.1524], device='cuda:0', grad_fn=<AddBackward0>):  85%|████████▌ | 255/300 [02:21<00:25,  1.79it/s]\u001b[A"
     ]
    },
    {
     "name": "stdout",
     "output_type": "stream",
     "text": [
      "image updated at \"./210215-053843-And_dreadfully_distinct_against_the_dark_a_tall_white_fountain_played.png\"\n"
     ]
    },
    {
     "name": "stderr",
     "output_type": "stream",
     "text": [
      "\n",
      "loss: tensor([-32.3187], device='cuda:0', grad_fn=<AddBackward0>):  85%|████████▌ | 255/300 [02:22<00:25,  1.79it/s]\u001b[A\n",
      "loss: tensor([-32.3187], device='cuda:0', grad_fn=<AddBackward0>):  85%|████████▌ | 256/300 [02:22<00:24,  1.82it/s]\u001b[A"
     ]
    },
    {
     "name": "stdout",
     "output_type": "stream",
     "text": [
      "image updated at \"./210215-053843-And_dreadfully_distinct_against_the_dark_a_tall_white_fountain_played.png\"\n"
     ]
    },
    {
     "name": "stderr",
     "output_type": "stream",
     "text": [
      "\n",
      "loss: tensor([-32.2946], device='cuda:0', grad_fn=<AddBackward0>):  85%|████████▌ | 256/300 [02:23<00:24,  1.82it/s]\u001b[A\n",
      "loss: tensor([-32.2946], device='cuda:0', grad_fn=<AddBackward0>):  86%|████████▌ | 257/300 [02:23<00:23,  1.83it/s]\u001b[A"
     ]
    },
    {
     "name": "stdout",
     "output_type": "stream",
     "text": [
      "image updated at \"./210215-053843-And_dreadfully_distinct_against_the_dark_a_tall_white_fountain_played.png\"\n"
     ]
    },
    {
     "name": "stderr",
     "output_type": "stream",
     "text": [
      "\n",
      "loss: tensor([-32.2255], device='cuda:0', grad_fn=<AddBackward0>):  86%|████████▌ | 257/300 [02:23<00:23,  1.83it/s]\u001b[A\n",
      "loss: tensor([-32.2255], device='cuda:0', grad_fn=<AddBackward0>):  86%|████████▌ | 258/300 [02:23<00:22,  1.84it/s]\u001b[A"
     ]
    },
    {
     "name": "stdout",
     "output_type": "stream",
     "text": [
      "image updated at \"./210215-053843-And_dreadfully_distinct_against_the_dark_a_tall_white_fountain_played.png\"\n"
     ]
    },
    {
     "name": "stderr",
     "output_type": "stream",
     "text": [
      "\n",
      "loss: tensor([-32.3464], device='cuda:0', grad_fn=<AddBackward0>):  86%|████████▌ | 258/300 [02:24<00:22,  1.84it/s]\u001b[A\n",
      "loss: tensor([-32.3464], device='cuda:0', grad_fn=<AddBackward0>):  86%|████████▋ | 259/300 [02:24<00:22,  1.86it/s]\u001b[A"
     ]
    },
    {
     "name": "stdout",
     "output_type": "stream",
     "text": [
      "image updated at \"./210215-053843-And_dreadfully_distinct_against_the_dark_a_tall_white_fountain_played.png\"\n"
     ]
    },
    {
     "name": "stderr",
     "output_type": "stream",
     "text": [
      "\n",
      "loss: tensor([-32.3758], device='cuda:0', grad_fn=<AddBackward0>):  86%|████████▋ | 259/300 [02:24<00:22,  1.86it/s]\u001b[A\n",
      "loss: tensor([-32.3758], device='cuda:0', grad_fn=<AddBackward0>):  87%|████████▋ | 260/300 [02:24<00:22,  1.80it/s]\u001b[A"
     ]
    },
    {
     "name": "stdout",
     "output_type": "stream",
     "text": [
      "image updated at \"./210215-053843-And_dreadfully_distinct_against_the_dark_a_tall_white_fountain_played.png\"\n"
     ]
    },
    {
     "name": "stderr",
     "output_type": "stream",
     "text": [
      "\n",
      "loss: tensor([-32.3525], device='cuda:0', grad_fn=<AddBackward0>):  87%|████████▋ | 260/300 [02:25<00:22,  1.80it/s]\u001b[A\n",
      "loss: tensor([-32.3525], device='cuda:0', grad_fn=<AddBackward0>):  87%|████████▋ | 261/300 [02:25<00:21,  1.79it/s]\u001b[A"
     ]
    },
    {
     "name": "stdout",
     "output_type": "stream",
     "text": [
      "image updated at \"./210215-053843-And_dreadfully_distinct_against_the_dark_a_tall_white_fountain_played.png\"\n"
     ]
    },
    {
     "name": "stderr",
     "output_type": "stream",
     "text": [
      "\n",
      "loss: tensor([-32.2308], device='cuda:0', grad_fn=<AddBackward0>):  87%|████████▋ | 261/300 [02:25<00:21,  1.79it/s]\u001b[A\n",
      "loss: tensor([-32.2308], device='cuda:0', grad_fn=<AddBackward0>):  87%|████████▋ | 262/300 [02:25<00:20,  1.82it/s]\u001b[A"
     ]
    },
    {
     "name": "stdout",
     "output_type": "stream",
     "text": [
      "image updated at \"./210215-053843-And_dreadfully_distinct_against_the_dark_a_tall_white_fountain_played.png\"\n"
     ]
    },
    {
     "name": "stderr",
     "output_type": "stream",
     "text": [
      "\n",
      "loss: tensor([-32.4422], device='cuda:0', grad_fn=<AddBackward0>):  87%|████████▋ | 262/300 [02:26<00:20,  1.82it/s]\u001b[A\n",
      "loss: tensor([-32.4422], device='cuda:0', grad_fn=<AddBackward0>):  88%|████████▊ | 263/300 [02:26<00:20,  1.77it/s]\u001b[A"
     ]
    },
    {
     "name": "stdout",
     "output_type": "stream",
     "text": [
      "image updated at \"./210215-053843-And_dreadfully_distinct_against_the_dark_a_tall_white_fountain_played.png\"\n"
     ]
    },
    {
     "name": "stderr",
     "output_type": "stream",
     "text": [
      "\n",
      "loss: tensor([-32.1297], device='cuda:0', grad_fn=<AddBackward0>):  88%|████████▊ | 263/300 [02:27<00:20,  1.77it/s]\u001b[A\n",
      "loss: tensor([-32.1297], device='cuda:0', grad_fn=<AddBackward0>):  88%|████████▊ | 264/300 [02:27<00:20,  1.75it/s]\u001b[A"
     ]
    },
    {
     "name": "stdout",
     "output_type": "stream",
     "text": [
      "image updated at \"./210215-053843-And_dreadfully_distinct_against_the_dark_a_tall_white_fountain_played.png\"\n"
     ]
    },
    {
     "name": "stderr",
     "output_type": "stream",
     "text": [
      "\n",
      "loss: tensor([-32.4472], device='cuda:0', grad_fn=<AddBackward0>):  88%|████████▊ | 264/300 [02:27<00:20,  1.75it/s]\u001b[A\n",
      "loss: tensor([-32.4472], device='cuda:0', grad_fn=<AddBackward0>):  88%|████████▊ | 265/300 [02:27<00:19,  1.77it/s]\u001b[A"
     ]
    },
    {
     "name": "stdout",
     "output_type": "stream",
     "text": [
      "image updated at \"./210215-053843-And_dreadfully_distinct_against_the_dark_a_tall_white_fountain_played.png\"\n"
     ]
    },
    {
     "name": "stderr",
     "output_type": "stream",
     "text": [
      "\n",
      "loss: tensor([-32.2942], device='cuda:0', grad_fn=<AddBackward0>):  88%|████████▊ | 265/300 [02:28<00:19,  1.77it/s]\u001b[A\n",
      "loss: tensor([-32.2942], device='cuda:0', grad_fn=<AddBackward0>):  89%|████████▊ | 266/300 [02:28<00:19,  1.78it/s]\u001b[A"
     ]
    },
    {
     "name": "stdout",
     "output_type": "stream",
     "text": [
      "image updated at \"./210215-053843-And_dreadfully_distinct_against_the_dark_a_tall_white_fountain_played.png\"\n"
     ]
    },
    {
     "name": "stderr",
     "output_type": "stream",
     "text": [
      "\n",
      "loss: tensor([-32.2531], device='cuda:0', grad_fn=<AddBackward0>):  89%|████████▊ | 266/300 [02:28<00:19,  1.78it/s]\u001b[A\n",
      "loss: tensor([-32.2531], device='cuda:0', grad_fn=<AddBackward0>):  89%|████████▉ | 267/300 [02:28<00:18,  1.80it/s]\u001b[A"
     ]
    },
    {
     "name": "stdout",
     "output_type": "stream",
     "text": [
      "image updated at \"./210215-053843-And_dreadfully_distinct_against_the_dark_a_tall_white_fountain_played.png\"\n"
     ]
    },
    {
     "name": "stderr",
     "output_type": "stream",
     "text": [
      "\n",
      "loss: tensor([-32.4041], device='cuda:0', grad_fn=<AddBackward0>):  89%|████████▉ | 267/300 [02:29<00:18,  1.80it/s]\u001b[A\n",
      "loss: tensor([-32.4041], device='cuda:0', grad_fn=<AddBackward0>):  89%|████████▉ | 268/300 [02:29<00:17,  1.81it/s]\u001b[A"
     ]
    },
    {
     "name": "stdout",
     "output_type": "stream",
     "text": [
      "image updated at \"./210215-053843-And_dreadfully_distinct_against_the_dark_a_tall_white_fountain_played.png\"\n"
     ]
    },
    {
     "name": "stderr",
     "output_type": "stream",
     "text": [
      "\n",
      "loss: tensor([-32.4979], device='cuda:0', grad_fn=<AddBackward0>):  89%|████████▉ | 268/300 [02:29<00:17,  1.81it/s]\u001b[A\n",
      "loss: tensor([-32.4979], device='cuda:0', grad_fn=<AddBackward0>):  90%|████████▉ | 269/300 [02:29<00:17,  1.74it/s]\u001b[A"
     ]
    },
    {
     "name": "stdout",
     "output_type": "stream",
     "text": [
      "image updated at \"./210215-053843-And_dreadfully_distinct_against_the_dark_a_tall_white_fountain_played.png\"\n"
     ]
    },
    {
     "name": "stderr",
     "output_type": "stream",
     "text": [
      "\n",
      "loss: tensor([-32.2887], device='cuda:0', grad_fn=<AddBackward0>):  90%|████████▉ | 269/300 [02:30<00:17,  1.74it/s]\u001b[A\n",
      "loss: tensor([-32.2887], device='cuda:0', grad_fn=<AddBackward0>):  90%|█████████ | 270/300 [02:30<00:16,  1.79it/s]\u001b[A"
     ]
    },
    {
     "name": "stdout",
     "output_type": "stream",
     "text": [
      "image updated at \"./210215-053843-And_dreadfully_distinct_against_the_dark_a_tall_white_fountain_played.png\"\n"
     ]
    },
    {
     "name": "stderr",
     "output_type": "stream",
     "text": [
      "\n",
      "loss: tensor([-32.2933], device='cuda:0', grad_fn=<AddBackward0>):  90%|█████████ | 270/300 [02:30<00:16,  1.79it/s]\u001b[A\n",
      "loss: tensor([-32.2933], device='cuda:0', grad_fn=<AddBackward0>):  90%|█████████ | 271/300 [02:30<00:16,  1.81it/s]\u001b[A"
     ]
    },
    {
     "name": "stdout",
     "output_type": "stream",
     "text": [
      "image updated at \"./210215-053843-And_dreadfully_distinct_against_the_dark_a_tall_white_fountain_played.png\"\n"
     ]
    },
    {
     "name": "stderr",
     "output_type": "stream",
     "text": [
      "\n",
      "loss: tensor([-32.1301], device='cuda:0', grad_fn=<AddBackward0>):  90%|█████████ | 271/300 [02:31<00:16,  1.81it/s]\u001b[A\n",
      "loss: tensor([-32.1301], device='cuda:0', grad_fn=<AddBackward0>):  91%|█████████ | 272/300 [02:31<00:15,  1.82it/s]\u001b[A"
     ]
    },
    {
     "name": "stdout",
     "output_type": "stream",
     "text": [
      "image updated at \"./210215-053843-And_dreadfully_distinct_against_the_dark_a_tall_white_fountain_played.png\"\n"
     ]
    },
    {
     "name": "stderr",
     "output_type": "stream",
     "text": [
      "\n",
      "loss: tensor([-32.5341], device='cuda:0', grad_fn=<AddBackward0>):  91%|█████████ | 272/300 [02:32<00:15,  1.82it/s]\u001b[A\n",
      "loss: tensor([-32.5341], device='cuda:0', grad_fn=<AddBackward0>):  91%|█████████ | 273/300 [02:32<00:15,  1.74it/s]\u001b[A"
     ]
    },
    {
     "name": "stdout",
     "output_type": "stream",
     "text": [
      "image updated at \"./210215-053843-And_dreadfully_distinct_against_the_dark_a_tall_white_fountain_played.png\"\n"
     ]
    },
    {
     "name": "stderr",
     "output_type": "stream",
     "text": [
      "\n",
      "loss: tensor([-32.6996], device='cuda:0', grad_fn=<AddBackward0>):  91%|█████████ | 273/300 [02:32<00:15,  1.74it/s]\u001b[A\n",
      "loss: tensor([-32.6996], device='cuda:0', grad_fn=<AddBackward0>):  91%|█████████▏| 274/300 [02:32<00:15,  1.65it/s]\u001b[A"
     ]
    },
    {
     "name": "stdout",
     "output_type": "stream",
     "text": [
      "image updated at \"./210215-053843-And_dreadfully_distinct_against_the_dark_a_tall_white_fountain_played.png\"\n"
     ]
    },
    {
     "name": "stderr",
     "output_type": "stream",
     "text": [
      "\n",
      "loss: tensor([-32.3601], device='cuda:0', grad_fn=<AddBackward0>):  91%|█████████▏| 274/300 [02:33<00:15,  1.65it/s]\u001b[A\n",
      "loss: tensor([-32.3601], device='cuda:0', grad_fn=<AddBackward0>):  92%|█████████▏| 275/300 [02:33<00:15,  1.62it/s]\u001b[A"
     ]
    },
    {
     "name": "stdout",
     "output_type": "stream",
     "text": [
      "image updated at \"./210215-053843-And_dreadfully_distinct_against_the_dark_a_tall_white_fountain_played.png\"\n"
     ]
    },
    {
     "name": "stderr",
     "output_type": "stream",
     "text": [
      "\n",
      "loss: tensor([-32.4542], device='cuda:0', grad_fn=<AddBackward0>):  92%|█████████▏| 275/300 [02:34<00:15,  1.62it/s]\u001b[A\n",
      "loss: tensor([-32.4542], device='cuda:0', grad_fn=<AddBackward0>):  92%|█████████▏| 276/300 [02:34<00:15,  1.59it/s]\u001b[A"
     ]
    },
    {
     "name": "stdout",
     "output_type": "stream",
     "text": [
      "image updated at \"./210215-053843-And_dreadfully_distinct_against_the_dark_a_tall_white_fountain_played.png\"\n"
     ]
    },
    {
     "name": "stderr",
     "output_type": "stream",
     "text": [
      "\n",
      "loss: tensor([-32.4551], device='cuda:0', grad_fn=<AddBackward0>):  92%|█████████▏| 276/300 [02:34<00:15,  1.59it/s]\u001b[A\n",
      "loss: tensor([-32.4551], device='cuda:0', grad_fn=<AddBackward0>):  92%|█████████▏| 277/300 [02:34<00:14,  1.58it/s]\u001b[A"
     ]
    },
    {
     "name": "stdout",
     "output_type": "stream",
     "text": [
      "image updated at \"./210215-053843-And_dreadfully_distinct_against_the_dark_a_tall_white_fountain_played.png\"\n"
     ]
    },
    {
     "name": "stderr",
     "output_type": "stream",
     "text": [
      "\n",
      "loss: tensor([-32.3889], device='cuda:0', grad_fn=<AddBackward0>):  92%|█████████▏| 277/300 [02:35<00:14,  1.58it/s]\u001b[A\n",
      "loss: tensor([-32.3889], device='cuda:0', grad_fn=<AddBackward0>):  93%|█████████▎| 278/300 [02:35<00:13,  1.60it/s]\u001b[A"
     ]
    },
    {
     "name": "stdout",
     "output_type": "stream",
     "text": [
      "image updated at \"./210215-053843-And_dreadfully_distinct_against_the_dark_a_tall_white_fountain_played.png\"\n"
     ]
    },
    {
     "name": "stderr",
     "output_type": "stream",
     "text": [
      "\n",
      "loss: tensor([-32.2879], device='cuda:0', grad_fn=<AddBackward0>):  93%|█████████▎| 278/300 [02:35<00:13,  1.60it/s]\u001b[A\n",
      "loss: tensor([-32.2879], device='cuda:0', grad_fn=<AddBackward0>):  93%|█████████▎| 279/300 [02:35<00:12,  1.64it/s]\u001b[A"
     ]
    },
    {
     "name": "stdout",
     "output_type": "stream",
     "text": [
      "image updated at \"./210215-053843-And_dreadfully_distinct_against_the_dark_a_tall_white_fountain_played.png\"\n"
     ]
    },
    {
     "name": "stderr",
     "output_type": "stream",
     "text": [
      "\n",
      "loss: tensor([-32.4471], device='cuda:0', grad_fn=<AddBackward0>):  93%|█████████▎| 279/300 [02:36<00:12,  1.64it/s]\u001b[A\n",
      "loss: tensor([-32.4471], device='cuda:0', grad_fn=<AddBackward0>):  93%|█████████▎| 280/300 [02:36<00:12,  1.66it/s]\u001b[A"
     ]
    },
    {
     "name": "stdout",
     "output_type": "stream",
     "text": [
      "image updated at \"./210215-053843-And_dreadfully_distinct_against_the_dark_a_tall_white_fountain_played.png\"\n"
     ]
    },
    {
     "name": "stderr",
     "output_type": "stream",
     "text": [
      "\n",
      "loss: tensor([-32.0496], device='cuda:0', grad_fn=<AddBackward0>):  93%|█████████▎| 280/300 [02:37<00:12,  1.66it/s]\u001b[A\n",
      "loss: tensor([-32.0496], device='cuda:0', grad_fn=<AddBackward0>):  94%|█████████▎| 281/300 [02:37<00:11,  1.69it/s]\u001b[A"
     ]
    },
    {
     "name": "stdout",
     "output_type": "stream",
     "text": [
      "image updated at \"./210215-053843-And_dreadfully_distinct_against_the_dark_a_tall_white_fountain_played.png\"\n"
     ]
    },
    {
     "name": "stderr",
     "output_type": "stream",
     "text": [
      "\n",
      "loss: tensor([-32.1143], device='cuda:0', grad_fn=<AddBackward0>):  94%|█████████▎| 281/300 [02:37<00:11,  1.69it/s]\u001b[A\n",
      "loss: tensor([-32.1143], device='cuda:0', grad_fn=<AddBackward0>):  94%|█████████▍| 282/300 [02:37<00:10,  1.73it/s]\u001b[A"
     ]
    },
    {
     "name": "stdout",
     "output_type": "stream",
     "text": [
      "image updated at \"./210215-053843-And_dreadfully_distinct_against_the_dark_a_tall_white_fountain_played.png\"\n"
     ]
    },
    {
     "name": "stderr",
     "output_type": "stream",
     "text": [
      "\n",
      "loss: tensor([-32.1193], device='cuda:0', grad_fn=<AddBackward0>):  94%|█████████▍| 282/300 [02:38<00:10,  1.73it/s]\u001b[A\n",
      "loss: tensor([-32.1193], device='cuda:0', grad_fn=<AddBackward0>):  94%|█████████▍| 283/300 [02:38<00:09,  1.77it/s]\u001b[A"
     ]
    },
    {
     "name": "stdout",
     "output_type": "stream",
     "text": [
      "image updated at \"./210215-053843-And_dreadfully_distinct_against_the_dark_a_tall_white_fountain_played.png\"\n"
     ]
    },
    {
     "name": "stderr",
     "output_type": "stream",
     "text": [
      "\n",
      "loss: tensor([-32.5210], device='cuda:0', grad_fn=<AddBackward0>):  94%|█████████▍| 283/300 [02:38<00:09,  1.77it/s]\u001b[A\n",
      "loss: tensor([-32.5210], device='cuda:0', grad_fn=<AddBackward0>):  95%|█████████▍| 284/300 [02:38<00:08,  1.80it/s]\u001b[A"
     ]
    },
    {
     "name": "stdout",
     "output_type": "stream",
     "text": [
      "image updated at \"./210215-053843-And_dreadfully_distinct_against_the_dark_a_tall_white_fountain_played.png\"\n"
     ]
    },
    {
     "name": "stderr",
     "output_type": "stream",
     "text": [
      "\n",
      "loss: tensor([-32.2665], device='cuda:0', grad_fn=<AddBackward0>):  95%|█████████▍| 284/300 [02:39<00:08,  1.80it/s]\u001b[A\n",
      "loss: tensor([-32.2665], device='cuda:0', grad_fn=<AddBackward0>):  95%|█████████▌| 285/300 [02:39<00:08,  1.81it/s]\u001b[A"
     ]
    },
    {
     "name": "stdout",
     "output_type": "stream",
     "text": [
      "image updated at \"./210215-053843-And_dreadfully_distinct_against_the_dark_a_tall_white_fountain_played.png\"\n"
     ]
    },
    {
     "name": "stderr",
     "output_type": "stream",
     "text": [
      "\n",
      "loss: tensor([-32.2997], device='cuda:0', grad_fn=<AddBackward0>):  95%|█████████▌| 285/300 [02:39<00:08,  1.81it/s]\u001b[A\n",
      "loss: tensor([-32.2997], device='cuda:0', grad_fn=<AddBackward0>):  95%|█████████▌| 286/300 [02:39<00:07,  1.82it/s]\u001b[A"
     ]
    },
    {
     "name": "stdout",
     "output_type": "stream",
     "text": [
      "image updated at \"./210215-053843-And_dreadfully_distinct_against_the_dark_a_tall_white_fountain_played.png\"\n"
     ]
    },
    {
     "name": "stderr",
     "output_type": "stream",
     "text": [
      "\n",
      "loss: tensor([-32.3319], device='cuda:0', grad_fn=<AddBackward0>):  95%|█████████▌| 286/300 [02:40<00:07,  1.82it/s]\u001b[A\n",
      "loss: tensor([-32.3319], device='cuda:0', grad_fn=<AddBackward0>):  96%|█████████▌| 287/300 [02:40<00:07,  1.83it/s]\u001b[A"
     ]
    },
    {
     "name": "stdout",
     "output_type": "stream",
     "text": [
      "image updated at \"./210215-053843-And_dreadfully_distinct_against_the_dark_a_tall_white_fountain_played.png\"\n"
     ]
    },
    {
     "name": "stderr",
     "output_type": "stream",
     "text": [
      "\n",
      "loss: tensor([-32.2045], device='cuda:0', grad_fn=<AddBackward0>):  96%|█████████▌| 287/300 [02:40<00:07,  1.83it/s]\u001b[A\n",
      "loss: tensor([-32.2045], device='cuda:0', grad_fn=<AddBackward0>):  96%|█████████▌| 288/300 [02:40<00:06,  1.83it/s]\u001b[A"
     ]
    },
    {
     "name": "stdout",
     "output_type": "stream",
     "text": [
      "image updated at \"./210215-053843-And_dreadfully_distinct_against_the_dark_a_tall_white_fountain_played.png\"\n"
     ]
    },
    {
     "name": "stderr",
     "output_type": "stream",
     "text": [
      "\n",
      "loss: tensor([-32.3950], device='cuda:0', grad_fn=<AddBackward0>):  96%|█████████▌| 288/300 [02:41<00:06,  1.83it/s]\u001b[A\n",
      "loss: tensor([-32.3950], device='cuda:0', grad_fn=<AddBackward0>):  96%|█████████▋| 289/300 [02:41<00:05,  1.85it/s]\u001b[A"
     ]
    },
    {
     "name": "stdout",
     "output_type": "stream",
     "text": [
      "image updated at \"./210215-053843-And_dreadfully_distinct_against_the_dark_a_tall_white_fountain_played.png\"\n"
     ]
    },
    {
     "name": "stderr",
     "output_type": "stream",
     "text": [
      "\n",
      "loss: tensor([-32.5500], device='cuda:0', grad_fn=<AddBackward0>):  96%|█████████▋| 289/300 [02:41<00:05,  1.85it/s]\u001b[A\n",
      "loss: tensor([-32.5500], device='cuda:0', grad_fn=<AddBackward0>):  97%|█████████▋| 290/300 [02:41<00:05,  1.79it/s]\u001b[A"
     ]
    },
    {
     "name": "stdout",
     "output_type": "stream",
     "text": [
      "image updated at \"./210215-053843-And_dreadfully_distinct_against_the_dark_a_tall_white_fountain_played.png\"\n"
     ]
    },
    {
     "name": "stderr",
     "output_type": "stream",
     "text": [
      "\n",
      "loss: tensor([-32.4579], device='cuda:0', grad_fn=<AddBackward0>):  97%|█████████▋| 290/300 [02:42<00:05,  1.79it/s]\u001b[A\n",
      "loss: tensor([-32.4579], device='cuda:0', grad_fn=<AddBackward0>):  97%|█████████▋| 291/300 [02:42<00:05,  1.80it/s]\u001b[A"
     ]
    },
    {
     "name": "stdout",
     "output_type": "stream",
     "text": [
      "image updated at \"./210215-053843-And_dreadfully_distinct_against_the_dark_a_tall_white_fountain_played.png\"\n"
     ]
    },
    {
     "name": "stderr",
     "output_type": "stream",
     "text": [
      "\n",
      "loss: tensor([-32.1762], device='cuda:0', grad_fn=<AddBackward0>):  97%|█████████▋| 291/300 [02:43<00:05,  1.80it/s]\u001b[A\n",
      "loss: tensor([-32.1762], device='cuda:0', grad_fn=<AddBackward0>):  97%|█████████▋| 292/300 [02:43<00:04,  1.74it/s]\u001b[A"
     ]
    },
    {
     "name": "stdout",
     "output_type": "stream",
     "text": [
      "image updated at \"./210215-053843-And_dreadfully_distinct_against_the_dark_a_tall_white_fountain_played.png\"\n"
     ]
    },
    {
     "name": "stderr",
     "output_type": "stream",
     "text": [
      "\n",
      "loss: tensor([-32.5884], device='cuda:0', grad_fn=<AddBackward0>):  97%|█████████▋| 292/300 [02:43<00:04,  1.74it/s]\u001b[A\n",
      "loss: tensor([-32.5884], device='cuda:0', grad_fn=<AddBackward0>):  98%|█████████▊| 293/300 [02:43<00:04,  1.72it/s]\u001b[A"
     ]
    },
    {
     "name": "stdout",
     "output_type": "stream",
     "text": [
      "image updated at \"./210215-053843-And_dreadfully_distinct_against_the_dark_a_tall_white_fountain_played.png\"\n"
     ]
    },
    {
     "name": "stderr",
     "output_type": "stream",
     "text": [
      "\n",
      "loss: tensor([-32.4303], device='cuda:0', grad_fn=<AddBackward0>):  98%|█████████▊| 293/300 [02:44<00:04,  1.72it/s]\u001b[A\n",
      "loss: tensor([-32.4303], device='cuda:0', grad_fn=<AddBackward0>):  98%|█████████▊| 294/300 [02:44<00:03,  1.74it/s]\u001b[A"
     ]
    },
    {
     "name": "stdout",
     "output_type": "stream",
     "text": [
      "image updated at \"./210215-053843-And_dreadfully_distinct_against_the_dark_a_tall_white_fountain_played.png\"\n"
     ]
    },
    {
     "name": "stderr",
     "output_type": "stream",
     "text": [
      "\n",
      "loss: tensor([-32.5840], device='cuda:0', grad_fn=<AddBackward0>):  98%|█████████▊| 294/300 [02:44<00:03,  1.74it/s]\u001b[A\n",
      "loss: tensor([-32.5840], device='cuda:0', grad_fn=<AddBackward0>):  98%|█████████▊| 295/300 [02:44<00:02,  1.75it/s]\u001b[A"
     ]
    },
    {
     "name": "stdout",
     "output_type": "stream",
     "text": [
      "image updated at \"./210215-053843-And_dreadfully_distinct_against_the_dark_a_tall_white_fountain_played.png\"\n"
     ]
    },
    {
     "name": "stderr",
     "output_type": "stream",
     "text": [
      "\n",
      "loss: tensor([-32.5597], device='cuda:0', grad_fn=<AddBackward0>):  98%|█████████▊| 295/300 [02:45<00:02,  1.75it/s]\u001b[A\n",
      "loss: tensor([-32.5597], device='cuda:0', grad_fn=<AddBackward0>):  99%|█████████▊| 296/300 [02:45<00:02,  1.78it/s]\u001b[A"
     ]
    },
    {
     "name": "stdout",
     "output_type": "stream",
     "text": [
      "image updated at \"./210215-053843-And_dreadfully_distinct_against_the_dark_a_tall_white_fountain_played.png\"\n"
     ]
    },
    {
     "name": "stderr",
     "output_type": "stream",
     "text": [
      "\n",
      "loss: tensor([-32.5623], device='cuda:0', grad_fn=<AddBackward0>):  99%|█████████▊| 296/300 [02:45<00:02,  1.78it/s]\u001b[A\n",
      "loss: tensor([-32.5623], device='cuda:0', grad_fn=<AddBackward0>):  99%|█████████▉| 297/300 [02:45<00:01,  1.80it/s]\u001b[A"
     ]
    },
    {
     "name": "stdout",
     "output_type": "stream",
     "text": [
      "image updated at \"./210215-053843-And_dreadfully_distinct_against_the_dark_a_tall_white_fountain_played.png\"\n"
     ]
    },
    {
     "name": "stderr",
     "output_type": "stream",
     "text": [
      "\n",
      "loss: tensor([-32.4066], device='cuda:0', grad_fn=<AddBackward0>):  99%|█████████▉| 297/300 [02:46<00:01,  1.80it/s]\u001b[A\n",
      "loss: tensor([-32.4066], device='cuda:0', grad_fn=<AddBackward0>):  99%|█████████▉| 298/300 [02:46<00:01,  1.81it/s]\u001b[A"
     ]
    },
    {
     "name": "stdout",
     "output_type": "stream",
     "text": [
      "image updated at \"./210215-053843-And_dreadfully_distinct_against_the_dark_a_tall_white_fountain_played.png\"\n"
     ]
    },
    {
     "name": "stderr",
     "output_type": "stream",
     "text": [
      "\n",
      "loss: tensor([-32.7503], device='cuda:0', grad_fn=<AddBackward0>):  99%|█████████▉| 298/300 [02:47<00:01,  1.81it/s]\u001b[A\n",
      "loss: tensor([-32.7503], device='cuda:0', grad_fn=<AddBackward0>): 100%|█████████▉| 299/300 [02:47<00:00,  1.73it/s]\u001b[A"
     ]
    },
    {
     "name": "stdout",
     "output_type": "stream",
     "text": [
      "image updated at \"./210215-053843-And_dreadfully_distinct_against_the_dark_a_tall_white_fountain_played.png\"\n"
     ]
    },
    {
     "name": "stderr",
     "output_type": "stream",
     "text": [
      "\n",
      "loss: tensor([-32.4314], device='cuda:0', grad_fn=<AddBackward0>): 100%|█████████▉| 299/300 [02:47<00:00,  1.73it/s]\u001b[A\n",
      "loss: tensor([-32.4314], device='cuda:0', grad_fn=<AddBackward0>): 100%|██████████| 300/300 [02:47<00:00,  1.79it/s]\u001b[A\n",
      "epochs:  75%|███████▌  | 3/4 [07:50<02:39, 159.27s/it]\n",
      "iteration:   0%|          | 0/300 [00:00<?, ?it/s]\u001b[A"
     ]
    },
    {
     "name": "stdout",
     "output_type": "stream",
     "text": [
      "image updated at \"./210215-053843-And_dreadfully_distinct_against_the_dark_a_tall_white_fountain_played.png\"\n"
     ]
    },
    {
     "name": "stderr",
     "output_type": "stream",
     "text": [
      "\n",
      "loss: tensor([-18.0709], device='cuda:0', grad_fn=<AddBackward0>):   0%|          | 0/300 [00:00<?, ?it/s]\u001b[A\n",
      "loss: tensor([-18.0709], device='cuda:0', grad_fn=<AddBackward0>):   0%|          | 1/300 [00:00<02:56,  1.69it/s]\u001b[A"
     ]
    },
    {
     "name": "stdout",
     "output_type": "stream",
     "text": [
      "image updated at \"./210215-054130-A_system_of_cells_interlinked_within_cells_interlinked_within_cells_interlinked_within_one_stem.png\"\n"
     ]
    },
    {
     "name": "stderr",
     "output_type": "stream",
     "text": [
      "\n",
      "loss: tensor([-18.2761], device='cuda:0', grad_fn=<AddBackward0>):   0%|          | 1/300 [00:01<02:56,  1.69it/s]\u001b[A\n",
      "loss: tensor([-18.2761], device='cuda:0', grad_fn=<AddBackward0>):   1%|          | 2/300 [00:01<02:51,  1.74it/s]\u001b[A"
     ]
    },
    {
     "name": "stdout",
     "output_type": "stream",
     "text": [
      "image updated at \"./210215-054130-A_system_of_cells_interlinked_within_cells_interlinked_within_cells_interlinked_within_one_stem.png\"\n"
     ]
    },
    {
     "name": "stderr",
     "output_type": "stream",
     "text": [
      "\n",
      "loss: tensor([-18.8101], device='cuda:0', grad_fn=<AddBackward0>):   1%|          | 2/300 [00:01<02:51,  1.74it/s]\u001b[A\n",
      "loss: tensor([-18.8101], device='cuda:0', grad_fn=<AddBackward0>):   1%|          | 3/300 [00:01<02:45,  1.79it/s]\u001b[A"
     ]
    },
    {
     "name": "stdout",
     "output_type": "stream",
     "text": [
      "image updated at \"./210215-054130-A_system_of_cells_interlinked_within_cells_interlinked_within_cells_interlinked_within_one_stem.png\"\n"
     ]
    },
    {
     "name": "stderr",
     "output_type": "stream",
     "text": [
      "\n",
      "loss: tensor([-19.1946], device='cuda:0', grad_fn=<AddBackward0>):   1%|          | 3/300 [00:02<02:45,  1.79it/s]\u001b[A\n",
      "loss: tensor([-19.1946], device='cuda:0', grad_fn=<AddBackward0>):   1%|▏         | 4/300 [00:02<02:42,  1.82it/s]\u001b[A"
     ]
    },
    {
     "name": "stdout",
     "output_type": "stream",
     "text": [
      "image updated at \"./210215-054130-A_system_of_cells_interlinked_within_cells_interlinked_within_cells_interlinked_within_one_stem.png\"\n"
     ]
    },
    {
     "name": "stderr",
     "output_type": "stream",
     "text": [
      "\n",
      "loss: tensor([-19.8982], device='cuda:0', grad_fn=<AddBackward0>):   1%|▏         | 4/300 [00:02<02:42,  1.82it/s]\u001b[A\n",
      "loss: tensor([-19.8982], device='cuda:0', grad_fn=<AddBackward0>):   2%|▏         | 5/300 [00:02<02:40,  1.84it/s]\u001b[A"
     ]
    },
    {
     "name": "stdout",
     "output_type": "stream",
     "text": [
      "image updated at \"./210215-054130-A_system_of_cells_interlinked_within_cells_interlinked_within_cells_interlinked_within_one_stem.png\"\n"
     ]
    },
    {
     "name": "stderr",
     "output_type": "stream",
     "text": [
      "\n",
      "loss: tensor([-20.3528], device='cuda:0', grad_fn=<AddBackward0>):   2%|▏         | 5/300 [00:03<02:40,  1.84it/s]\u001b[A\n",
      "loss: tensor([-20.3528], device='cuda:0', grad_fn=<AddBackward0>):   2%|▏         | 6/300 [00:03<02:39,  1.85it/s]\u001b[A"
     ]
    },
    {
     "name": "stdout",
     "output_type": "stream",
     "text": [
      "image updated at \"./210215-054130-A_system_of_cells_interlinked_within_cells_interlinked_within_cells_interlinked_within_one_stem.png\"\n"
     ]
    },
    {
     "name": "stderr",
     "output_type": "stream",
     "text": [
      "\n",
      "loss: tensor([-20.6375], device='cuda:0', grad_fn=<AddBackward0>):   2%|▏         | 6/300 [00:03<02:39,  1.85it/s]\u001b[A\n",
      "loss: tensor([-20.6375], device='cuda:0', grad_fn=<AddBackward0>):   2%|▏         | 7/300 [00:03<02:37,  1.87it/s]\u001b[A"
     ]
    },
    {
     "name": "stdout",
     "output_type": "stream",
     "text": [
      "image updated at \"./210215-054130-A_system_of_cells_interlinked_within_cells_interlinked_within_cells_interlinked_within_one_stem.png\"\n"
     ]
    },
    {
     "name": "stderr",
     "output_type": "stream",
     "text": [
      "\n",
      "loss: tensor([-21.1496], device='cuda:0', grad_fn=<AddBackward0>):   2%|▏         | 7/300 [00:04<02:37,  1.87it/s]\u001b[A\n",
      "loss: tensor([-21.1496], device='cuda:0', grad_fn=<AddBackward0>):   3%|▎         | 8/300 [00:04<02:35,  1.88it/s]\u001b[A"
     ]
    },
    {
     "name": "stdout",
     "output_type": "stream",
     "text": [
      "image updated at \"./210215-054130-A_system_of_cells_interlinked_within_cells_interlinked_within_cells_interlinked_within_one_stem.png\"\n"
     ]
    },
    {
     "name": "stderr",
     "output_type": "stream",
     "text": [
      "\n",
      "loss: tensor([-21.4508], device='cuda:0', grad_fn=<AddBackward0>):   3%|▎         | 8/300 [00:04<02:35,  1.88it/s]\u001b[A\n",
      "loss: tensor([-21.4508], device='cuda:0', grad_fn=<AddBackward0>):   3%|▎         | 9/300 [00:04<02:33,  1.89it/s]\u001b[A"
     ]
    },
    {
     "name": "stdout",
     "output_type": "stream",
     "text": [
      "image updated at \"./210215-054130-A_system_of_cells_interlinked_within_cells_interlinked_within_cells_interlinked_within_one_stem.png\"\n"
     ]
    },
    {
     "name": "stderr",
     "output_type": "stream",
     "text": [
      "\n",
      "loss: tensor([-21.6721], device='cuda:0', grad_fn=<AddBackward0>):   3%|▎         | 9/300 [00:05<02:33,  1.89it/s]\u001b[A\n",
      "loss: tensor([-21.6721], device='cuda:0', grad_fn=<AddBackward0>):   3%|▎         | 10/300 [00:05<02:31,  1.91it/s]\u001b[A"
     ]
    },
    {
     "name": "stdout",
     "output_type": "stream",
     "text": [
      "image updated at \"./210215-054130-A_system_of_cells_interlinked_within_cells_interlinked_within_cells_interlinked_within_one_stem.png\"\n"
     ]
    },
    {
     "name": "stderr",
     "output_type": "stream",
     "text": [
      "\n",
      "loss: tensor([-21.8287], device='cuda:0', grad_fn=<AddBackward0>):   3%|▎         | 10/300 [00:05<02:31,  1.91it/s]\u001b[A\n",
      "loss: tensor([-21.8287], device='cuda:0', grad_fn=<AddBackward0>):   4%|▎         | 11/300 [00:05<02:30,  1.92it/s]\u001b[A"
     ]
    },
    {
     "name": "stdout",
     "output_type": "stream",
     "text": [
      "image updated at \"./210215-054130-A_system_of_cells_interlinked_within_cells_interlinked_within_cells_interlinked_within_one_stem.png\"\n"
     ]
    },
    {
     "name": "stderr",
     "output_type": "stream",
     "text": [
      "\n",
      "loss: tensor([-21.5006], device='cuda:0', grad_fn=<AddBackward0>):   4%|▎         | 11/300 [00:06<02:30,  1.92it/s]\u001b[A\n",
      "loss: tensor([-21.5006], device='cuda:0', grad_fn=<AddBackward0>):   4%|▍         | 12/300 [00:06<02:28,  1.94it/s]\u001b[A"
     ]
    },
    {
     "name": "stdout",
     "output_type": "stream",
     "text": [
      "image updated at \"./210215-054130-A_system_of_cells_interlinked_within_cells_interlinked_within_cells_interlinked_within_one_stem.png\"\n"
     ]
    },
    {
     "name": "stderr",
     "output_type": "stream",
     "text": [
      "\n",
      "loss: tensor([-21.6751], device='cuda:0', grad_fn=<AddBackward0>):   4%|▍         | 12/300 [00:06<02:28,  1.94it/s]\u001b[A\n",
      "loss: tensor([-21.6751], device='cuda:0', grad_fn=<AddBackward0>):   4%|▍         | 13/300 [00:06<02:30,  1.91it/s]\u001b[A"
     ]
    },
    {
     "name": "stdout",
     "output_type": "stream",
     "text": [
      "image updated at \"./210215-054130-A_system_of_cells_interlinked_within_cells_interlinked_within_cells_interlinked_within_one_stem.png\"\n"
     ]
    },
    {
     "name": "stderr",
     "output_type": "stream",
     "text": [
      "\n",
      "loss: tensor([-21.6626], device='cuda:0', grad_fn=<AddBackward0>):   4%|▍         | 13/300 [00:07<02:30,  1.91it/s]\u001b[A\n",
      "loss: tensor([-21.6626], device='cuda:0', grad_fn=<AddBackward0>):   5%|▍         | 14/300 [00:07<02:32,  1.88it/s]\u001b[A"
     ]
    },
    {
     "name": "stdout",
     "output_type": "stream",
     "text": [
      "image updated at \"./210215-054130-A_system_of_cells_interlinked_within_cells_interlinked_within_cells_interlinked_within_one_stem.png\"\n"
     ]
    },
    {
     "name": "stderr",
     "output_type": "stream",
     "text": [
      "\n",
      "loss: tensor([-21.7191], device='cuda:0', grad_fn=<AddBackward0>):   5%|▍         | 14/300 [00:08<02:32,  1.88it/s]\u001b[A\n",
      "loss: tensor([-21.7191], device='cuda:0', grad_fn=<AddBackward0>):   5%|▌         | 15/300 [00:08<02:33,  1.86it/s]\u001b[A"
     ]
    },
    {
     "name": "stdout",
     "output_type": "stream",
     "text": [
      "image updated at \"./210215-054130-A_system_of_cells_interlinked_within_cells_interlinked_within_cells_interlinked_within_one_stem.png\"\n"
     ]
    },
    {
     "name": "stderr",
     "output_type": "stream",
     "text": [
      "\n",
      "loss: tensor([-21.7400], device='cuda:0', grad_fn=<AddBackward0>):   5%|▌         | 15/300 [00:08<02:33,  1.86it/s]\u001b[A\n",
      "loss: tensor([-21.7400], device='cuda:0', grad_fn=<AddBackward0>):   5%|▌         | 16/300 [00:08<02:33,  1.85it/s]\u001b[A"
     ]
    },
    {
     "name": "stdout",
     "output_type": "stream",
     "text": [
      "image updated at \"./210215-054130-A_system_of_cells_interlinked_within_cells_interlinked_within_cells_interlinked_within_one_stem.png\"\n"
     ]
    },
    {
     "name": "stderr",
     "output_type": "stream",
     "text": [
      "\n",
      "loss: tensor([-22.2244], device='cuda:0', grad_fn=<AddBackward0>):   5%|▌         | 16/300 [00:09<02:33,  1.85it/s]\u001b[A\n",
      "loss: tensor([-22.2244], device='cuda:0', grad_fn=<AddBackward0>):   6%|▌         | 17/300 [00:09<02:33,  1.84it/s]\u001b[A"
     ]
    },
    {
     "name": "stdout",
     "output_type": "stream",
     "text": [
      "image updated at \"./210215-054130-A_system_of_cells_interlinked_within_cells_interlinked_within_cells_interlinked_within_one_stem.png\"\n"
     ]
    },
    {
     "name": "stderr",
     "output_type": "stream",
     "text": [
      "\n",
      "loss: tensor([-22.4158], device='cuda:0', grad_fn=<AddBackward0>):   6%|▌         | 17/300 [00:09<02:33,  1.84it/s]\u001b[A\n",
      "loss: tensor([-22.4158], device='cuda:0', grad_fn=<AddBackward0>):   6%|▌         | 18/300 [00:09<02:33,  1.84it/s]\u001b[A"
     ]
    },
    {
     "name": "stdout",
     "output_type": "stream",
     "text": [
      "image updated at \"./210215-054130-A_system_of_cells_interlinked_within_cells_interlinked_within_cells_interlinked_within_one_stem.png\"\n"
     ]
    },
    {
     "name": "stderr",
     "output_type": "stream",
     "text": [
      "\n",
      "loss: tensor([-22.3842], device='cuda:0', grad_fn=<AddBackward0>):   6%|▌         | 18/300 [00:10<02:33,  1.84it/s]\u001b[A\n",
      "loss: tensor([-22.3842], device='cuda:0', grad_fn=<AddBackward0>):   6%|▋         | 19/300 [00:10<02:33,  1.83it/s]\u001b[A"
     ]
    },
    {
     "name": "stdout",
     "output_type": "stream",
     "text": [
      "image updated at \"./210215-054130-A_system_of_cells_interlinked_within_cells_interlinked_within_cells_interlinked_within_one_stem.png\"\n"
     ]
    },
    {
     "name": "stderr",
     "output_type": "stream",
     "text": [
      "\n",
      "loss: tensor([-22.6684], device='cuda:0', grad_fn=<AddBackward0>):   6%|▋         | 19/300 [00:10<02:33,  1.83it/s]\u001b[A\n",
      "loss: tensor([-22.6684], device='cuda:0', grad_fn=<AddBackward0>):   7%|▋         | 20/300 [00:10<02:32,  1.83it/s]\u001b[A"
     ]
    },
    {
     "name": "stdout",
     "output_type": "stream",
     "text": [
      "image updated at \"./210215-054130-A_system_of_cells_interlinked_within_cells_interlinked_within_cells_interlinked_within_one_stem.png\"\n"
     ]
    },
    {
     "name": "stderr",
     "output_type": "stream",
     "text": [
      "\n",
      "loss: tensor([-22.9087], device='cuda:0', grad_fn=<AddBackward0>):   7%|▋         | 20/300 [00:11<02:32,  1.83it/s]\u001b[A\n",
      "loss: tensor([-22.9087], device='cuda:0', grad_fn=<AddBackward0>):   7%|▋         | 21/300 [00:11<02:32,  1.83it/s]\u001b[A"
     ]
    },
    {
     "name": "stdout",
     "output_type": "stream",
     "text": [
      "image updated at \"./210215-054130-A_system_of_cells_interlinked_within_cells_interlinked_within_cells_interlinked_within_one_stem.png\"\n"
     ]
    },
    {
     "name": "stderr",
     "output_type": "stream",
     "text": [
      "\n",
      "loss: tensor([-23.0441], device='cuda:0', grad_fn=<AddBackward0>):   7%|▋         | 21/300 [00:11<02:32,  1.83it/s]\u001b[A\n",
      "loss: tensor([-23.0441], device='cuda:0', grad_fn=<AddBackward0>):   7%|▋         | 22/300 [00:11<02:32,  1.82it/s]\u001b[A"
     ]
    },
    {
     "name": "stdout",
     "output_type": "stream",
     "text": [
      "image updated at \"./210215-054130-A_system_of_cells_interlinked_within_cells_interlinked_within_cells_interlinked_within_one_stem.png\"\n"
     ]
    },
    {
     "name": "stderr",
     "output_type": "stream",
     "text": [
      "\n",
      "loss: tensor([-23.3116], device='cuda:0', grad_fn=<AddBackward0>):   7%|▋         | 22/300 [00:12<02:32,  1.82it/s]\u001b[A\n",
      "loss: tensor([-23.3116], device='cuda:0', grad_fn=<AddBackward0>):   8%|▊         | 23/300 [00:12<02:32,  1.82it/s]\u001b[A"
     ]
    },
    {
     "name": "stdout",
     "output_type": "stream",
     "text": [
      "image updated at \"./210215-054130-A_system_of_cells_interlinked_within_cells_interlinked_within_cells_interlinked_within_one_stem.png\"\n"
     ]
    },
    {
     "name": "stderr",
     "output_type": "stream",
     "text": [
      "\n",
      "loss: tensor([-23.4358], device='cuda:0', grad_fn=<AddBackward0>):   8%|▊         | 23/300 [00:12<02:32,  1.82it/s]\u001b[A\n",
      "loss: tensor([-23.4358], device='cuda:0', grad_fn=<AddBackward0>):   8%|▊         | 24/300 [00:12<02:31,  1.82it/s]\u001b[A"
     ]
    },
    {
     "name": "stdout",
     "output_type": "stream",
     "text": [
      "image updated at \"./210215-054130-A_system_of_cells_interlinked_within_cells_interlinked_within_cells_interlinked_within_one_stem.png\"\n"
     ]
    },
    {
     "name": "stderr",
     "output_type": "stream",
     "text": [
      "\n",
      "loss: tensor([-23.5783], device='cuda:0', grad_fn=<AddBackward0>):   8%|▊         | 24/300 [00:13<02:31,  1.82it/s]\u001b[A\n",
      "loss: tensor([-23.5783], device='cuda:0', grad_fn=<AddBackward0>):   8%|▊         | 25/300 [00:13<02:30,  1.83it/s]\u001b[A"
     ]
    },
    {
     "name": "stdout",
     "output_type": "stream",
     "text": [
      "image updated at \"./210215-054130-A_system_of_cells_interlinked_within_cells_interlinked_within_cells_interlinked_within_one_stem.png\"\n"
     ]
    },
    {
     "name": "stderr",
     "output_type": "stream",
     "text": [
      "\n",
      "loss: tensor([-23.7034], device='cuda:0', grad_fn=<AddBackward0>):   8%|▊         | 25/300 [00:14<02:30,  1.83it/s]\u001b[A\n",
      "loss: tensor([-23.7034], device='cuda:0', grad_fn=<AddBackward0>):   9%|▊         | 26/300 [00:14<02:28,  1.84it/s]\u001b[A"
     ]
    },
    {
     "name": "stdout",
     "output_type": "stream",
     "text": [
      "image updated at \"./210215-054130-A_system_of_cells_interlinked_within_cells_interlinked_within_cells_interlinked_within_one_stem.png\"\n"
     ]
    },
    {
     "name": "stderr",
     "output_type": "stream",
     "text": [
      "\n",
      "loss: tensor([-23.8756], device='cuda:0', grad_fn=<AddBackward0>):   9%|▊         | 26/300 [00:14<02:28,  1.84it/s]\u001b[A\n",
      "loss: tensor([-23.8756], device='cuda:0', grad_fn=<AddBackward0>):   9%|▉         | 27/300 [00:14<02:28,  1.84it/s]\u001b[A"
     ]
    },
    {
     "name": "stdout",
     "output_type": "stream",
     "text": [
      "image updated at \"./210215-054130-A_system_of_cells_interlinked_within_cells_interlinked_within_cells_interlinked_within_one_stem.png\"\n"
     ]
    },
    {
     "name": "stderr",
     "output_type": "stream",
     "text": [
      "\n",
      "loss: tensor([-23.8253], device='cuda:0', grad_fn=<AddBackward0>):   9%|▉         | 27/300 [00:15<02:28,  1.84it/s]\u001b[A\n",
      "loss: tensor([-23.8253], device='cuda:0', grad_fn=<AddBackward0>):   9%|▉         | 28/300 [00:15<02:27,  1.84it/s]\u001b[A"
     ]
    },
    {
     "name": "stdout",
     "output_type": "stream",
     "text": [
      "image updated at \"./210215-054130-A_system_of_cells_interlinked_within_cells_interlinked_within_cells_interlinked_within_one_stem.png\"\n"
     ]
    },
    {
     "name": "stderr",
     "output_type": "stream",
     "text": [
      "\n",
      "loss: tensor([-23.9822], device='cuda:0', grad_fn=<AddBackward0>):   9%|▉         | 28/300 [00:15<02:27,  1.84it/s]\u001b[A\n",
      "loss: tensor([-23.9822], device='cuda:0', grad_fn=<AddBackward0>):  10%|▉         | 29/300 [00:15<02:27,  1.84it/s]\u001b[A"
     ]
    },
    {
     "name": "stdout",
     "output_type": "stream",
     "text": [
      "image updated at \"./210215-054130-A_system_of_cells_interlinked_within_cells_interlinked_within_cells_interlinked_within_one_stem.png\"\n"
     ]
    },
    {
     "name": "stderr",
     "output_type": "stream",
     "text": [
      "\n",
      "loss: tensor([-24.2136], device='cuda:0', grad_fn=<AddBackward0>):  10%|▉         | 29/300 [00:16<02:27,  1.84it/s]\u001b[A\n",
      "loss: tensor([-24.2136], device='cuda:0', grad_fn=<AddBackward0>):  10%|█         | 30/300 [00:16<02:25,  1.86it/s]\u001b[A"
     ]
    },
    {
     "name": "stdout",
     "output_type": "stream",
     "text": [
      "image updated at \"./210215-054130-A_system_of_cells_interlinked_within_cells_interlinked_within_cells_interlinked_within_one_stem.png\"\n"
     ]
    },
    {
     "name": "stderr",
     "output_type": "stream",
     "text": [
      "\n",
      "loss: tensor([-24.3098], device='cuda:0', grad_fn=<AddBackward0>):  10%|█         | 30/300 [00:16<02:25,  1.86it/s]\u001b[A\n",
      "loss: tensor([-24.3098], device='cuda:0', grad_fn=<AddBackward0>):  10%|█         | 31/300 [00:16<02:24,  1.86it/s]\u001b[A"
     ]
    },
    {
     "name": "stdout",
     "output_type": "stream",
     "text": [
      "image updated at \"./210215-054130-A_system_of_cells_interlinked_within_cells_interlinked_within_cells_interlinked_within_one_stem.png\"\n"
     ]
    },
    {
     "name": "stderr",
     "output_type": "stream",
     "text": [
      "\n",
      "loss: tensor([-24.3768], device='cuda:0', grad_fn=<AddBackward0>):  10%|█         | 31/300 [00:17<02:24,  1.86it/s]\u001b[A\n",
      "loss: tensor([-24.3768], device='cuda:0', grad_fn=<AddBackward0>):  11%|█         | 32/300 [00:17<02:25,  1.84it/s]\u001b[A"
     ]
    },
    {
     "name": "stdout",
     "output_type": "stream",
     "text": [
      "image updated at \"./210215-054130-A_system_of_cells_interlinked_within_cells_interlinked_within_cells_interlinked_within_one_stem.png\"\n"
     ]
    },
    {
     "name": "stderr",
     "output_type": "stream",
     "text": [
      "\n",
      "loss: tensor([-24.4687], device='cuda:0', grad_fn=<AddBackward0>):  11%|█         | 32/300 [00:17<02:25,  1.84it/s]\u001b[A\n",
      "loss: tensor([-24.4687], device='cuda:0', grad_fn=<AddBackward0>):  11%|█         | 33/300 [00:17<02:24,  1.84it/s]\u001b[A"
     ]
    },
    {
     "name": "stdout",
     "output_type": "stream",
     "text": [
      "image updated at \"./210215-054130-A_system_of_cells_interlinked_within_cells_interlinked_within_cells_interlinked_within_one_stem.png\"\n"
     ]
    },
    {
     "name": "stderr",
     "output_type": "stream",
     "text": [
      "\n",
      "loss: tensor([-24.3151], device='cuda:0', grad_fn=<AddBackward0>):  11%|█         | 33/300 [00:18<02:24,  1.84it/s]\u001b[A\n",
      "loss: tensor([-24.3151], device='cuda:0', grad_fn=<AddBackward0>):  11%|█▏        | 34/300 [00:18<02:23,  1.86it/s]\u001b[A"
     ]
    },
    {
     "name": "stdout",
     "output_type": "stream",
     "text": [
      "image updated at \"./210215-054130-A_system_of_cells_interlinked_within_cells_interlinked_within_cells_interlinked_within_one_stem.png\"\n"
     ]
    },
    {
     "name": "stderr",
     "output_type": "stream",
     "text": [
      "\n",
      "loss: tensor([-24.0564], device='cuda:0', grad_fn=<AddBackward0>):  11%|█▏        | 34/300 [00:18<02:23,  1.86it/s]\u001b[A\n",
      "loss: tensor([-24.0564], device='cuda:0', grad_fn=<AddBackward0>):  12%|█▏        | 35/300 [00:18<02:22,  1.86it/s]\u001b[A"
     ]
    },
    {
     "name": "stdout",
     "output_type": "stream",
     "text": [
      "image updated at \"./210215-054130-A_system_of_cells_interlinked_within_cells_interlinked_within_cells_interlinked_within_one_stem.png\"\n"
     ]
    },
    {
     "name": "stderr",
     "output_type": "stream",
     "text": [
      "\n",
      "loss: tensor([-24.5790], device='cuda:0', grad_fn=<AddBackward0>):  12%|█▏        | 35/300 [00:19<02:22,  1.86it/s]\u001b[A\n",
      "loss: tensor([-24.5790], device='cuda:0', grad_fn=<AddBackward0>):  12%|█▏        | 36/300 [00:19<02:21,  1.87it/s]\u001b[A"
     ]
    },
    {
     "name": "stdout",
     "output_type": "stream",
     "text": [
      "image updated at \"./210215-054130-A_system_of_cells_interlinked_within_cells_interlinked_within_cells_interlinked_within_one_stem.png\"\n"
     ]
    },
    {
     "name": "stderr",
     "output_type": "stream",
     "text": [
      "\n",
      "loss: tensor([-24.6702], device='cuda:0', grad_fn=<AddBackward0>):  12%|█▏        | 36/300 [00:20<02:21,  1.87it/s]\u001b[A\n",
      "loss: tensor([-24.6702], device='cuda:0', grad_fn=<AddBackward0>):  12%|█▏        | 37/300 [00:20<02:24,  1.82it/s]\u001b[A"
     ]
    },
    {
     "name": "stdout",
     "output_type": "stream",
     "text": [
      "image updated at \"./210215-054130-A_system_of_cells_interlinked_within_cells_interlinked_within_cells_interlinked_within_one_stem.png\"\n"
     ]
    },
    {
     "name": "stderr",
     "output_type": "stream",
     "text": [
      "\n",
      "loss: tensor([-24.7324], device='cuda:0', grad_fn=<AddBackward0>):  12%|█▏        | 37/300 [00:20<02:24,  1.82it/s]\u001b[A\n",
      "loss: tensor([-24.7324], device='cuda:0', grad_fn=<AddBackward0>):  13%|█▎        | 38/300 [00:20<02:23,  1.83it/s]\u001b[A"
     ]
    },
    {
     "name": "stdout",
     "output_type": "stream",
     "text": [
      "image updated at \"./210215-054130-A_system_of_cells_interlinked_within_cells_interlinked_within_cells_interlinked_within_one_stem.png\"\n"
     ]
    },
    {
     "name": "stderr",
     "output_type": "stream",
     "text": [
      "\n",
      "loss: tensor([-24.8570], device='cuda:0', grad_fn=<AddBackward0>):  13%|█▎        | 38/300 [00:21<02:23,  1.83it/s]\u001b[A\n",
      "loss: tensor([-24.8570], device='cuda:0', grad_fn=<AddBackward0>):  13%|█▎        | 39/300 [00:21<02:22,  1.83it/s]\u001b[A"
     ]
    },
    {
     "name": "stdout",
     "output_type": "stream",
     "text": [
      "image updated at \"./210215-054130-A_system_of_cells_interlinked_within_cells_interlinked_within_cells_interlinked_within_one_stem.png\"\n"
     ]
    },
    {
     "name": "stderr",
     "output_type": "stream",
     "text": [
      "\n",
      "loss: tensor([-24.8582], device='cuda:0', grad_fn=<AddBackward0>):  13%|█▎        | 39/300 [00:21<02:22,  1.83it/s]\u001b[A\n",
      "loss: tensor([-24.8582], device='cuda:0', grad_fn=<AddBackward0>):  13%|█▎        | 40/300 [00:21<02:21,  1.84it/s]\u001b[A"
     ]
    },
    {
     "name": "stdout",
     "output_type": "stream",
     "text": [
      "image updated at \"./210215-054130-A_system_of_cells_interlinked_within_cells_interlinked_within_cells_interlinked_within_one_stem.png\"\n"
     ]
    },
    {
     "name": "stderr",
     "output_type": "stream",
     "text": [
      "\n",
      "loss: tensor([-25.0188], device='cuda:0', grad_fn=<AddBackward0>):  13%|█▎        | 40/300 [00:22<02:21,  1.84it/s]\u001b[A\n",
      "loss: tensor([-25.0188], device='cuda:0', grad_fn=<AddBackward0>):  14%|█▎        | 41/300 [00:22<02:20,  1.85it/s]\u001b[A"
     ]
    },
    {
     "name": "stdout",
     "output_type": "stream",
     "text": [
      "image updated at \"./210215-054130-A_system_of_cells_interlinked_within_cells_interlinked_within_cells_interlinked_within_one_stem.png\"\n"
     ]
    },
    {
     "name": "stderr",
     "output_type": "stream",
     "text": [
      "\n",
      "loss: tensor([-25.0454], device='cuda:0', grad_fn=<AddBackward0>):  14%|█▎        | 41/300 [00:22<02:20,  1.85it/s]\u001b[A\n",
      "loss: tensor([-25.0454], device='cuda:0', grad_fn=<AddBackward0>):  14%|█▍        | 42/300 [00:22<02:19,  1.85it/s]\u001b[A"
     ]
    },
    {
     "name": "stdout",
     "output_type": "stream",
     "text": [
      "image updated at \"./210215-054130-A_system_of_cells_interlinked_within_cells_interlinked_within_cells_interlinked_within_one_stem.png\"\n"
     ]
    },
    {
     "name": "stderr",
     "output_type": "stream",
     "text": [
      "\n",
      "loss: tensor([-25.0951], device='cuda:0', grad_fn=<AddBackward0>):  14%|█▍        | 42/300 [00:23<02:19,  1.85it/s]\u001b[A\n",
      "loss: tensor([-25.0951], device='cuda:0', grad_fn=<AddBackward0>):  14%|█▍        | 43/300 [00:23<02:19,  1.85it/s]\u001b[A"
     ]
    },
    {
     "name": "stdout",
     "output_type": "stream",
     "text": [
      "image updated at \"./210215-054130-A_system_of_cells_interlinked_within_cells_interlinked_within_cells_interlinked_within_one_stem.png\"\n"
     ]
    },
    {
     "name": "stderr",
     "output_type": "stream",
     "text": [
      "\n",
      "loss: tensor([-25.1972], device='cuda:0', grad_fn=<AddBackward0>):  14%|█▍        | 43/300 [00:23<02:19,  1.85it/s]\u001b[A\n",
      "loss: tensor([-25.1972], device='cuda:0', grad_fn=<AddBackward0>):  15%|█▍        | 44/300 [00:23<02:18,  1.85it/s]\u001b[A"
     ]
    },
    {
     "name": "stdout",
     "output_type": "stream",
     "text": [
      "image updated at \"./210215-054130-A_system_of_cells_interlinked_within_cells_interlinked_within_cells_interlinked_within_one_stem.png\"\n"
     ]
    },
    {
     "name": "stderr",
     "output_type": "stream",
     "text": [
      "\n",
      "loss: tensor([-25.0942], device='cuda:0', grad_fn=<AddBackward0>):  15%|█▍        | 44/300 [00:24<02:18,  1.85it/s]\u001b[A\n",
      "loss: tensor([-25.0942], device='cuda:0', grad_fn=<AddBackward0>):  15%|█▌        | 45/300 [00:24<02:16,  1.86it/s]\u001b[A"
     ]
    },
    {
     "name": "stdout",
     "output_type": "stream",
     "text": [
      "image updated at \"./210215-054130-A_system_of_cells_interlinked_within_cells_interlinked_within_cells_interlinked_within_one_stem.png\"\n"
     ]
    },
    {
     "name": "stderr",
     "output_type": "stream",
     "text": [
      "\n",
      "loss: tensor([-25.3818], device='cuda:0', grad_fn=<AddBackward0>):  15%|█▌        | 45/300 [00:24<02:16,  1.86it/s]\u001b[A\n",
      "loss: tensor([-25.3818], device='cuda:0', grad_fn=<AddBackward0>):  15%|█▌        | 46/300 [00:24<02:16,  1.87it/s]\u001b[A"
     ]
    },
    {
     "name": "stdout",
     "output_type": "stream",
     "text": [
      "image updated at \"./210215-054130-A_system_of_cells_interlinked_within_cells_interlinked_within_cells_interlinked_within_one_stem.png\"\n"
     ]
    },
    {
     "name": "stderr",
     "output_type": "stream",
     "text": [
      "\n",
      "loss: tensor([-25.3507], device='cuda:0', grad_fn=<AddBackward0>):  15%|█▌        | 46/300 [00:25<02:16,  1.87it/s]\u001b[A\n",
      "loss: tensor([-25.3507], device='cuda:0', grad_fn=<AddBackward0>):  16%|█▌        | 47/300 [00:25<02:15,  1.87it/s]\u001b[A"
     ]
    },
    {
     "name": "stdout",
     "output_type": "stream",
     "text": [
      "image updated at \"./210215-054130-A_system_of_cells_interlinked_within_cells_interlinked_within_cells_interlinked_within_one_stem.png\"\n"
     ]
    },
    {
     "name": "stderr",
     "output_type": "stream",
     "text": [
      "\n",
      "loss: tensor([-25.2602], device='cuda:0', grad_fn=<AddBackward0>):  16%|█▌        | 47/300 [00:25<02:15,  1.87it/s]\u001b[A\n",
      "loss: tensor([-25.2602], device='cuda:0', grad_fn=<AddBackward0>):  16%|█▌        | 48/300 [00:25<02:14,  1.88it/s]\u001b[A"
     ]
    },
    {
     "name": "stdout",
     "output_type": "stream",
     "text": [
      "image updated at \"./210215-054130-A_system_of_cells_interlinked_within_cells_interlinked_within_cells_interlinked_within_one_stem.png\"\n"
     ]
    },
    {
     "name": "stderr",
     "output_type": "stream",
     "text": [
      "\n",
      "loss: tensor([-25.3680], device='cuda:0', grad_fn=<AddBackward0>):  16%|█▌        | 48/300 [00:26<02:14,  1.88it/s]\u001b[A\n",
      "loss: tensor([-25.3680], device='cuda:0', grad_fn=<AddBackward0>):  16%|█▋        | 49/300 [00:26<02:13,  1.88it/s]\u001b[A"
     ]
    },
    {
     "name": "stdout",
     "output_type": "stream",
     "text": [
      "image updated at \"./210215-054130-A_system_of_cells_interlinked_within_cells_interlinked_within_cells_interlinked_within_one_stem.png\"\n"
     ]
    },
    {
     "name": "stderr",
     "output_type": "stream",
     "text": [
      "\n",
      "loss: tensor([-25.5682], device='cuda:0', grad_fn=<AddBackward0>):  16%|█▋        | 49/300 [00:26<02:13,  1.88it/s]\u001b[A\n",
      "loss: tensor([-25.5682], device='cuda:0', grad_fn=<AddBackward0>):  17%|█▋        | 50/300 [00:26<02:12,  1.88it/s]\u001b[A"
     ]
    },
    {
     "name": "stdout",
     "output_type": "stream",
     "text": [
      "image updated at \"./210215-054130-A_system_of_cells_interlinked_within_cells_interlinked_within_cells_interlinked_within_one_stem.png\"\n"
     ]
    },
    {
     "name": "stderr",
     "output_type": "stream",
     "text": [
      "\n",
      "loss: tensor([-25.5221], device='cuda:0', grad_fn=<AddBackward0>):  17%|█▋        | 50/300 [00:27<02:12,  1.88it/s]\u001b[A\n",
      "loss: tensor([-25.5221], device='cuda:0', grad_fn=<AddBackward0>):  17%|█▋        | 51/300 [00:27<02:13,  1.86it/s]\u001b[A"
     ]
    },
    {
     "name": "stdout",
     "output_type": "stream",
     "text": [
      "image updated at \"./210215-054130-A_system_of_cells_interlinked_within_cells_interlinked_within_cells_interlinked_within_one_stem.png\"\n"
     ]
    },
    {
     "name": "stderr",
     "output_type": "stream",
     "text": [
      "\n",
      "loss: tensor([-25.5588], device='cuda:0', grad_fn=<AddBackward0>):  17%|█▋        | 51/300 [00:28<02:13,  1.86it/s]\u001b[A\n",
      "loss: tensor([-25.5588], device='cuda:0', grad_fn=<AddBackward0>):  17%|█▋        | 52/300 [00:28<02:14,  1.85it/s]\u001b[A"
     ]
    },
    {
     "name": "stdout",
     "output_type": "stream",
     "text": [
      "image updated at \"./210215-054130-A_system_of_cells_interlinked_within_cells_interlinked_within_cells_interlinked_within_one_stem.png\"\n"
     ]
    },
    {
     "name": "stderr",
     "output_type": "stream",
     "text": [
      "\n",
      "loss: tensor([-25.6560], device='cuda:0', grad_fn=<AddBackward0>):  17%|█▋        | 52/300 [00:28<02:14,  1.85it/s]\u001b[A\n",
      "loss: tensor([-25.6560], device='cuda:0', grad_fn=<AddBackward0>):  18%|█▊        | 53/300 [00:28<02:14,  1.84it/s]\u001b[A"
     ]
    },
    {
     "name": "stdout",
     "output_type": "stream",
     "text": [
      "image updated at \"./210215-054130-A_system_of_cells_interlinked_within_cells_interlinked_within_cells_interlinked_within_one_stem.png\"\n"
     ]
    },
    {
     "name": "stderr",
     "output_type": "stream",
     "text": [
      "\n",
      "loss: tensor([-25.5271], device='cuda:0', grad_fn=<AddBackward0>):  18%|█▊        | 53/300 [00:29<02:14,  1.84it/s]\u001b[A\n",
      "loss: tensor([-25.5271], device='cuda:0', grad_fn=<AddBackward0>):  18%|█▊        | 54/300 [00:29<02:12,  1.85it/s]\u001b[A"
     ]
    },
    {
     "name": "stdout",
     "output_type": "stream",
     "text": [
      "image updated at \"./210215-054130-A_system_of_cells_interlinked_within_cells_interlinked_within_cells_interlinked_within_one_stem.png\"\n"
     ]
    },
    {
     "name": "stderr",
     "output_type": "stream",
     "text": [
      "\n",
      "loss: tensor([-25.7695], device='cuda:0', grad_fn=<AddBackward0>):  18%|█▊        | 54/300 [00:29<02:12,  1.85it/s]\u001b[A\n",
      "loss: tensor([-25.7695], device='cuda:0', grad_fn=<AddBackward0>):  18%|█▊        | 55/300 [00:29<02:11,  1.86it/s]\u001b[A"
     ]
    },
    {
     "name": "stdout",
     "output_type": "stream",
     "text": [
      "image updated at \"./210215-054130-A_system_of_cells_interlinked_within_cells_interlinked_within_cells_interlinked_within_one_stem.png\"\n"
     ]
    },
    {
     "name": "stderr",
     "output_type": "stream",
     "text": [
      "\n",
      "loss: tensor([-25.6159], device='cuda:0', grad_fn=<AddBackward0>):  18%|█▊        | 55/300 [00:30<02:11,  1.86it/s]\u001b[A\n",
      "loss: tensor([-25.6159], device='cuda:0', grad_fn=<AddBackward0>):  19%|█▊        | 56/300 [00:30<02:11,  1.85it/s]\u001b[A"
     ]
    },
    {
     "name": "stdout",
     "output_type": "stream",
     "text": [
      "image updated at \"./210215-054130-A_system_of_cells_interlinked_within_cells_interlinked_within_cells_interlinked_within_one_stem.png\"\n"
     ]
    },
    {
     "name": "stderr",
     "output_type": "stream",
     "text": [
      "\n",
      "loss: tensor([-25.7787], device='cuda:0', grad_fn=<AddBackward0>):  19%|█▊        | 56/300 [00:30<02:11,  1.85it/s]\u001b[A\n",
      "loss: tensor([-25.7787], device='cuda:0', grad_fn=<AddBackward0>):  19%|█▉        | 57/300 [00:30<02:13,  1.82it/s]\u001b[A"
     ]
    },
    {
     "name": "stdout",
     "output_type": "stream",
     "text": [
      "image updated at \"./210215-054130-A_system_of_cells_interlinked_within_cells_interlinked_within_cells_interlinked_within_one_stem.png\"\n"
     ]
    },
    {
     "name": "stderr",
     "output_type": "stream",
     "text": [
      "\n",
      "loss: tensor([-25.8378], device='cuda:0', grad_fn=<AddBackward0>):  19%|█▉        | 57/300 [00:31<02:13,  1.82it/s]\u001b[A\n",
      "loss: tensor([-25.8378], device='cuda:0', grad_fn=<AddBackward0>):  19%|█▉        | 58/300 [00:31<02:11,  1.84it/s]\u001b[A"
     ]
    },
    {
     "name": "stdout",
     "output_type": "stream",
     "text": [
      "image updated at \"./210215-054130-A_system_of_cells_interlinked_within_cells_interlinked_within_cells_interlinked_within_one_stem.png\"\n"
     ]
    },
    {
     "name": "stderr",
     "output_type": "stream",
     "text": [
      "\n",
      "loss: tensor([-25.9185], device='cuda:0', grad_fn=<AddBackward0>):  19%|█▉        | 58/300 [00:31<02:11,  1.84it/s]\u001b[A\n",
      "loss: tensor([-25.9185], device='cuda:0', grad_fn=<AddBackward0>):  20%|█▉        | 59/300 [00:31<02:10,  1.84it/s]\u001b[A"
     ]
    },
    {
     "name": "stdout",
     "output_type": "stream",
     "text": [
      "image updated at \"./210215-054130-A_system_of_cells_interlinked_within_cells_interlinked_within_cells_interlinked_within_one_stem.png\"\n"
     ]
    },
    {
     "name": "stderr",
     "output_type": "stream",
     "text": [
      "\n",
      "loss: tensor([-25.8829], device='cuda:0', grad_fn=<AddBackward0>):  20%|█▉        | 59/300 [00:32<02:10,  1.84it/s]\u001b[A\n",
      "loss: tensor([-25.8829], device='cuda:0', grad_fn=<AddBackward0>):  20%|██        | 60/300 [00:32<02:09,  1.85it/s]\u001b[A"
     ]
    },
    {
     "name": "stdout",
     "output_type": "stream",
     "text": [
      "image updated at \"./210215-054130-A_system_of_cells_interlinked_within_cells_interlinked_within_cells_interlinked_within_one_stem.png\"\n"
     ]
    },
    {
     "name": "stderr",
     "output_type": "stream",
     "text": [
      "\n",
      "loss: tensor([-25.7078], device='cuda:0', grad_fn=<AddBackward0>):  20%|██        | 60/300 [00:32<02:09,  1.85it/s]\u001b[A\n",
      "loss: tensor([-25.7078], device='cuda:0', grad_fn=<AddBackward0>):  20%|██        | 61/300 [00:32<02:07,  1.87it/s]\u001b[A"
     ]
    },
    {
     "name": "stdout",
     "output_type": "stream",
     "text": [
      "image updated at \"./210215-054130-A_system_of_cells_interlinked_within_cells_interlinked_within_cells_interlinked_within_one_stem.png\"\n"
     ]
    },
    {
     "name": "stderr",
     "output_type": "stream",
     "text": [
      "\n",
      "loss: tensor([-25.6901], device='cuda:0', grad_fn=<AddBackward0>):  20%|██        | 61/300 [00:33<02:07,  1.87it/s]\u001b[A\n",
      "loss: tensor([-25.6901], device='cuda:0', grad_fn=<AddBackward0>):  21%|██        | 62/300 [00:33<02:06,  1.88it/s]\u001b[A"
     ]
    },
    {
     "name": "stdout",
     "output_type": "stream",
     "text": [
      "image updated at \"./210215-054130-A_system_of_cells_interlinked_within_cells_interlinked_within_cells_interlinked_within_one_stem.png\"\n"
     ]
    },
    {
     "name": "stderr",
     "output_type": "stream",
     "text": [
      "\n",
      "loss: tensor([-25.9217], device='cuda:0', grad_fn=<AddBackward0>):  21%|██        | 62/300 [00:34<02:06,  1.88it/s]\u001b[A\n",
      "loss: tensor([-25.9217], device='cuda:0', grad_fn=<AddBackward0>):  21%|██        | 63/300 [00:34<02:10,  1.82it/s]\u001b[A"
     ]
    },
    {
     "name": "stdout",
     "output_type": "stream",
     "text": [
      "image updated at \"./210215-054130-A_system_of_cells_interlinked_within_cells_interlinked_within_cells_interlinked_within_one_stem.png\"\n"
     ]
    },
    {
     "name": "stderr",
     "output_type": "stream",
     "text": [
      "\n",
      "loss: tensor([-25.8488], device='cuda:0', grad_fn=<AddBackward0>):  21%|██        | 63/300 [00:34<02:10,  1.82it/s]\u001b[A\n",
      "loss: tensor([-25.8488], device='cuda:0', grad_fn=<AddBackward0>):  21%|██▏       | 64/300 [00:34<02:08,  1.84it/s]\u001b[A"
     ]
    },
    {
     "name": "stdout",
     "output_type": "stream",
     "text": [
      "image updated at \"./210215-054130-A_system_of_cells_interlinked_within_cells_interlinked_within_cells_interlinked_within_one_stem.png\"\n"
     ]
    },
    {
     "name": "stderr",
     "output_type": "stream",
     "text": [
      "\n",
      "loss: tensor([-25.9941], device='cuda:0', grad_fn=<AddBackward0>):  21%|██▏       | 64/300 [00:35<02:08,  1.84it/s]\u001b[A\n",
      "loss: tensor([-25.9941], device='cuda:0', grad_fn=<AddBackward0>):  22%|██▏       | 65/300 [00:35<02:05,  1.87it/s]\u001b[A"
     ]
    },
    {
     "name": "stdout",
     "output_type": "stream",
     "text": [
      "image updated at \"./210215-054130-A_system_of_cells_interlinked_within_cells_interlinked_within_cells_interlinked_within_one_stem.png\"\n"
     ]
    },
    {
     "name": "stderr",
     "output_type": "stream",
     "text": [
      "\n",
      "loss: tensor([-26.1012], device='cuda:0', grad_fn=<AddBackward0>):  22%|██▏       | 65/300 [00:35<02:05,  1.87it/s]\u001b[A\n",
      "loss: tensor([-26.1012], device='cuda:0', grad_fn=<AddBackward0>):  22%|██▏       | 66/300 [00:35<02:04,  1.88it/s]\u001b[A"
     ]
    },
    {
     "name": "stdout",
     "output_type": "stream",
     "text": [
      "image updated at \"./210215-054130-A_system_of_cells_interlinked_within_cells_interlinked_within_cells_interlinked_within_one_stem.png\"\n"
     ]
    },
    {
     "name": "stderr",
     "output_type": "stream",
     "text": [
      "\n",
      "loss: tensor([-26.0507], device='cuda:0', grad_fn=<AddBackward0>):  22%|██▏       | 66/300 [00:36<02:04,  1.88it/s]\u001b[A\n",
      "loss: tensor([-26.0507], device='cuda:0', grad_fn=<AddBackward0>):  22%|██▏       | 67/300 [00:36<02:03,  1.89it/s]\u001b[A"
     ]
    },
    {
     "name": "stdout",
     "output_type": "stream",
     "text": [
      "image updated at \"./210215-054130-A_system_of_cells_interlinked_within_cells_interlinked_within_cells_interlinked_within_one_stem.png\"\n"
     ]
    },
    {
     "name": "stderr",
     "output_type": "stream",
     "text": [
      "\n",
      "loss: tensor([-26.0547], device='cuda:0', grad_fn=<AddBackward0>):  22%|██▏       | 67/300 [00:36<02:03,  1.89it/s]\u001b[A\n",
      "loss: tensor([-26.0547], device='cuda:0', grad_fn=<AddBackward0>):  23%|██▎       | 68/300 [00:36<02:02,  1.89it/s]\u001b[A"
     ]
    },
    {
     "name": "stdout",
     "output_type": "stream",
     "text": [
      "image updated at \"./210215-054130-A_system_of_cells_interlinked_within_cells_interlinked_within_cells_interlinked_within_one_stem.png\"\n"
     ]
    },
    {
     "name": "stderr",
     "output_type": "stream",
     "text": [
      "\n",
      "loss: tensor([-26.2206], device='cuda:0', grad_fn=<AddBackward0>):  23%|██▎       | 68/300 [00:37<02:02,  1.89it/s]\u001b[A\n",
      "loss: tensor([-26.2206], device='cuda:0', grad_fn=<AddBackward0>):  23%|██▎       | 69/300 [00:37<02:01,  1.90it/s]\u001b[A"
     ]
    },
    {
     "name": "stdout",
     "output_type": "stream",
     "text": [
      "image updated at \"./210215-054130-A_system_of_cells_interlinked_within_cells_interlinked_within_cells_interlinked_within_one_stem.png\"\n"
     ]
    },
    {
     "name": "stderr",
     "output_type": "stream",
     "text": [
      "\n",
      "loss: tensor([-26.0840], device='cuda:0', grad_fn=<AddBackward0>):  23%|██▎       | 69/300 [00:37<02:01,  1.90it/s]\u001b[A\n",
      "loss: tensor([-26.0840], device='cuda:0', grad_fn=<AddBackward0>):  23%|██▎       | 70/300 [00:37<02:02,  1.87it/s]\u001b[A"
     ]
    },
    {
     "name": "stdout",
     "output_type": "stream",
     "text": [
      "image updated at \"./210215-054130-A_system_of_cells_interlinked_within_cells_interlinked_within_cells_interlinked_within_one_stem.png\"\n"
     ]
    },
    {
     "name": "stderr",
     "output_type": "stream",
     "text": [
      "\n",
      "loss: tensor([-26.2485], device='cuda:0', grad_fn=<AddBackward0>):  23%|██▎       | 70/300 [00:38<02:02,  1.87it/s]\u001b[A\n",
      "loss: tensor([-26.2485], device='cuda:0', grad_fn=<AddBackward0>):  24%|██▎       | 71/300 [00:38<02:03,  1.85it/s]\u001b[A"
     ]
    },
    {
     "name": "stdout",
     "output_type": "stream",
     "text": [
      "image updated at \"./210215-054130-A_system_of_cells_interlinked_within_cells_interlinked_within_cells_interlinked_within_one_stem.png\"\n"
     ]
    },
    {
     "name": "stderr",
     "output_type": "stream",
     "text": [
      "\n",
      "loss: tensor([-26.1044], device='cuda:0', grad_fn=<AddBackward0>):  24%|██▎       | 71/300 [00:38<02:03,  1.85it/s]\u001b[A\n",
      "loss: tensor([-26.1044], device='cuda:0', grad_fn=<AddBackward0>):  24%|██▍       | 72/300 [00:38<02:07,  1.79it/s]\u001b[A"
     ]
    },
    {
     "name": "stdout",
     "output_type": "stream",
     "text": [
      "image updated at \"./210215-054130-A_system_of_cells_interlinked_within_cells_interlinked_within_cells_interlinked_within_one_stem.png\"\n"
     ]
    },
    {
     "name": "stderr",
     "output_type": "stream",
     "text": [
      "\n",
      "loss: tensor([-26.3492], device='cuda:0', grad_fn=<AddBackward0>):  24%|██▍       | 72/300 [00:39<02:07,  1.79it/s]\u001b[A\n",
      "loss: tensor([-26.3492], device='cuda:0', grad_fn=<AddBackward0>):  24%|██▍       | 73/300 [00:39<02:09,  1.75it/s]\u001b[A"
     ]
    },
    {
     "name": "stdout",
     "output_type": "stream",
     "text": [
      "image updated at \"./210215-054130-A_system_of_cells_interlinked_within_cells_interlinked_within_cells_interlinked_within_one_stem.png\"\n"
     ]
    },
    {
     "name": "stderr",
     "output_type": "stream",
     "text": [
      "\n",
      "loss: tensor([-26.2989], device='cuda:0', grad_fn=<AddBackward0>):  24%|██▍       | 73/300 [00:40<02:09,  1.75it/s]\u001b[A\n",
      "loss: tensor([-26.2989], device='cuda:0', grad_fn=<AddBackward0>):  25%|██▍       | 74/300 [00:40<02:09,  1.75it/s]\u001b[A"
     ]
    },
    {
     "name": "stdout",
     "output_type": "stream",
     "text": [
      "image updated at \"./210215-054130-A_system_of_cells_interlinked_within_cells_interlinked_within_cells_interlinked_within_one_stem.png\"\n"
     ]
    },
    {
     "name": "stderr",
     "output_type": "stream",
     "text": [
      "\n",
      "loss: tensor([-26.2887], device='cuda:0', grad_fn=<AddBackward0>):  25%|██▍       | 74/300 [00:40<02:09,  1.75it/s]\u001b[A\n",
      "loss: tensor([-26.2887], device='cuda:0', grad_fn=<AddBackward0>):  25%|██▌       | 75/300 [00:40<02:06,  1.78it/s]\u001b[A"
     ]
    },
    {
     "name": "stdout",
     "output_type": "stream",
     "text": [
      "image updated at \"./210215-054130-A_system_of_cells_interlinked_within_cells_interlinked_within_cells_interlinked_within_one_stem.png\"\n"
     ]
    },
    {
     "name": "stderr",
     "output_type": "stream",
     "text": [
      "\n",
      "loss: tensor([-26.2254], device='cuda:0', grad_fn=<AddBackward0>):  25%|██▌       | 75/300 [00:41<02:06,  1.78it/s]\u001b[A\n",
      "loss: tensor([-26.2254], device='cuda:0', grad_fn=<AddBackward0>):  25%|██▌       | 76/300 [00:41<02:03,  1.81it/s]\u001b[A"
     ]
    },
    {
     "name": "stdout",
     "output_type": "stream",
     "text": [
      "image updated at \"./210215-054130-A_system_of_cells_interlinked_within_cells_interlinked_within_cells_interlinked_within_one_stem.png\"\n"
     ]
    },
    {
     "name": "stderr",
     "output_type": "stream",
     "text": [
      "\n",
      "loss: tensor([-26.5321], device='cuda:0', grad_fn=<AddBackward0>):  25%|██▌       | 76/300 [00:41<02:03,  1.81it/s]\u001b[A\n",
      "loss: tensor([-26.5321], device='cuda:0', grad_fn=<AddBackward0>):  26%|██▌       | 77/300 [00:41<02:01,  1.83it/s]\u001b[A"
     ]
    },
    {
     "name": "stdout",
     "output_type": "stream",
     "text": [
      "image updated at \"./210215-054130-A_system_of_cells_interlinked_within_cells_interlinked_within_cells_interlinked_within_one_stem.png\"\n"
     ]
    },
    {
     "name": "stderr",
     "output_type": "stream",
     "text": [
      "\n",
      "loss: tensor([-26.6072], device='cuda:0', grad_fn=<AddBackward0>):  26%|██▌       | 77/300 [00:42<02:01,  1.83it/s]\u001b[A\n",
      "loss: tensor([-26.6072], device='cuda:0', grad_fn=<AddBackward0>):  26%|██▌       | 78/300 [00:42<02:00,  1.84it/s]\u001b[A"
     ]
    },
    {
     "name": "stdout",
     "output_type": "stream",
     "text": [
      "image updated at \"./210215-054130-A_system_of_cells_interlinked_within_cells_interlinked_within_cells_interlinked_within_one_stem.png\"\n"
     ]
    },
    {
     "name": "stderr",
     "output_type": "stream",
     "text": [
      "\n",
      "loss: tensor([-26.4413], device='cuda:0', grad_fn=<AddBackward0>):  26%|██▌       | 78/300 [00:42<02:00,  1.84it/s]\u001b[A\n",
      "loss: tensor([-26.4413], device='cuda:0', grad_fn=<AddBackward0>):  26%|██▋       | 79/300 [00:42<01:59,  1.86it/s]\u001b[A"
     ]
    },
    {
     "name": "stdout",
     "output_type": "stream",
     "text": [
      "image updated at \"./210215-054130-A_system_of_cells_interlinked_within_cells_interlinked_within_cells_interlinked_within_one_stem.png\"\n"
     ]
    },
    {
     "name": "stderr",
     "output_type": "stream",
     "text": [
      "\n",
      "loss: tensor([-26.4807], device='cuda:0', grad_fn=<AddBackward0>):  26%|██▋       | 79/300 [00:43<01:59,  1.86it/s]\u001b[A\n",
      "loss: tensor([-26.4807], device='cuda:0', grad_fn=<AddBackward0>):  27%|██▋       | 80/300 [00:43<01:58,  1.86it/s]\u001b[A"
     ]
    },
    {
     "name": "stdout",
     "output_type": "stream",
     "text": [
      "image updated at \"./210215-054130-A_system_of_cells_interlinked_within_cells_interlinked_within_cells_interlinked_within_one_stem.png\"\n"
     ]
    },
    {
     "name": "stderr",
     "output_type": "stream",
     "text": [
      "\n",
      "loss: tensor([-26.4891], device='cuda:0', grad_fn=<AddBackward0>):  27%|██▋       | 80/300 [00:43<01:58,  1.86it/s]\u001b[A\n",
      "loss: tensor([-26.4891], device='cuda:0', grad_fn=<AddBackward0>):  27%|██▋       | 81/300 [00:43<01:57,  1.87it/s]\u001b[A"
     ]
    },
    {
     "name": "stdout",
     "output_type": "stream",
     "text": [
      "image updated at \"./210215-054130-A_system_of_cells_interlinked_within_cells_interlinked_within_cells_interlinked_within_one_stem.png\"\n"
     ]
    },
    {
     "name": "stderr",
     "output_type": "stream",
     "text": [
      "\n",
      "loss: tensor([-26.4331], device='cuda:0', grad_fn=<AddBackward0>):  27%|██▋       | 81/300 [00:44<01:57,  1.87it/s]\u001b[A\n",
      "loss: tensor([-26.4331], device='cuda:0', grad_fn=<AddBackward0>):  27%|██▋       | 82/300 [00:44<01:57,  1.85it/s]\u001b[A"
     ]
    },
    {
     "name": "stdout",
     "output_type": "stream",
     "text": [
      "image updated at \"./210215-054130-A_system_of_cells_interlinked_within_cells_interlinked_within_cells_interlinked_within_one_stem.png\"\n"
     ]
    },
    {
     "name": "stderr",
     "output_type": "stream",
     "text": [
      "\n",
      "loss: tensor([-26.5363], device='cuda:0', grad_fn=<AddBackward0>):  27%|██▋       | 82/300 [00:44<01:57,  1.85it/s]\u001b[A\n",
      "loss: tensor([-26.5363], device='cuda:0', grad_fn=<AddBackward0>):  28%|██▊       | 83/300 [00:44<01:56,  1.86it/s]\u001b[A"
     ]
    },
    {
     "name": "stdout",
     "output_type": "stream",
     "text": [
      "image updated at \"./210215-054130-A_system_of_cells_interlinked_within_cells_interlinked_within_cells_interlinked_within_one_stem.png\"\n"
     ]
    },
    {
     "name": "stderr",
     "output_type": "stream",
     "text": [
      "\n",
      "loss: tensor([-26.2697], device='cuda:0', grad_fn=<AddBackward0>):  28%|██▊       | 83/300 [00:45<01:56,  1.86it/s]\u001b[A\n",
      "loss: tensor([-26.2697], device='cuda:0', grad_fn=<AddBackward0>):  28%|██▊       | 84/300 [00:45<01:55,  1.86it/s]\u001b[A"
     ]
    },
    {
     "name": "stdout",
     "output_type": "stream",
     "text": [
      "image updated at \"./210215-054130-A_system_of_cells_interlinked_within_cells_interlinked_within_cells_interlinked_within_one_stem.png\"\n"
     ]
    },
    {
     "name": "stderr",
     "output_type": "stream",
     "text": [
      "\n",
      "loss: tensor([-26.6236], device='cuda:0', grad_fn=<AddBackward0>):  28%|██▊       | 84/300 [00:45<01:55,  1.86it/s]\u001b[A\n",
      "loss: tensor([-26.6236], device='cuda:0', grad_fn=<AddBackward0>):  28%|██▊       | 85/300 [00:45<01:55,  1.87it/s]\u001b[A"
     ]
    },
    {
     "name": "stdout",
     "output_type": "stream",
     "text": [
      "image updated at \"./210215-054130-A_system_of_cells_interlinked_within_cells_interlinked_within_cells_interlinked_within_one_stem.png\"\n"
     ]
    },
    {
     "name": "stderr",
     "output_type": "stream",
     "text": [
      "\n",
      "loss: tensor([-26.5938], device='cuda:0', grad_fn=<AddBackward0>):  28%|██▊       | 85/300 [00:46<01:55,  1.87it/s]\u001b[A\n",
      "loss: tensor([-26.5938], device='cuda:0', grad_fn=<AddBackward0>):  29%|██▊       | 86/300 [00:46<01:54,  1.88it/s]\u001b[A"
     ]
    },
    {
     "name": "stdout",
     "output_type": "stream",
     "text": [
      "image updated at \"./210215-054130-A_system_of_cells_interlinked_within_cells_interlinked_within_cells_interlinked_within_one_stem.png\"\n"
     ]
    },
    {
     "name": "stderr",
     "output_type": "stream",
     "text": [
      "\n",
      "loss: tensor([-26.6297], device='cuda:0', grad_fn=<AddBackward0>):  29%|██▊       | 86/300 [00:47<01:54,  1.88it/s]\u001b[A\n",
      "loss: tensor([-26.6297], device='cuda:0', grad_fn=<AddBackward0>):  29%|██▉       | 87/300 [00:47<01:53,  1.87it/s]\u001b[A"
     ]
    },
    {
     "name": "stdout",
     "output_type": "stream",
     "text": [
      "image updated at \"./210215-054130-A_system_of_cells_interlinked_within_cells_interlinked_within_cells_interlinked_within_one_stem.png\"\n"
     ]
    },
    {
     "name": "stderr",
     "output_type": "stream",
     "text": [
      "\n",
      "loss: tensor([-26.7170], device='cuda:0', grad_fn=<AddBackward0>):  29%|██▉       | 87/300 [00:47<01:53,  1.87it/s]\u001b[A\n",
      "loss: tensor([-26.7170], device='cuda:0', grad_fn=<AddBackward0>):  29%|██▉       | 88/300 [00:47<01:53,  1.87it/s]\u001b[A"
     ]
    },
    {
     "name": "stdout",
     "output_type": "stream",
     "text": [
      "image updated at \"./210215-054130-A_system_of_cells_interlinked_within_cells_interlinked_within_cells_interlinked_within_one_stem.png\"\n"
     ]
    },
    {
     "name": "stderr",
     "output_type": "stream",
     "text": [
      "\n",
      "loss: tensor([-26.6910], device='cuda:0', grad_fn=<AddBackward0>):  29%|██▉       | 88/300 [00:48<01:53,  1.87it/s]\u001b[A\n",
      "loss: tensor([-26.6910], device='cuda:0', grad_fn=<AddBackward0>):  30%|██▉       | 89/300 [00:48<01:53,  1.87it/s]\u001b[A"
     ]
    },
    {
     "name": "stdout",
     "output_type": "stream",
     "text": [
      "image updated at \"./210215-054130-A_system_of_cells_interlinked_within_cells_interlinked_within_cells_interlinked_within_one_stem.png\"\n"
     ]
    },
    {
     "name": "stderr",
     "output_type": "stream",
     "text": [
      "\n",
      "loss: tensor([-26.7119], device='cuda:0', grad_fn=<AddBackward0>):  30%|██▉       | 89/300 [00:48<01:53,  1.87it/s]\u001b[A\n",
      "loss: tensor([-26.7119], device='cuda:0', grad_fn=<AddBackward0>):  30%|███       | 90/300 [00:48<01:53,  1.86it/s]\u001b[A"
     ]
    },
    {
     "name": "stdout",
     "output_type": "stream",
     "text": [
      "image updated at \"./210215-054130-A_system_of_cells_interlinked_within_cells_interlinked_within_cells_interlinked_within_one_stem.png\"\n"
     ]
    },
    {
     "name": "stderr",
     "output_type": "stream",
     "text": [
      "\n",
      "loss: tensor([-26.8960], device='cuda:0', grad_fn=<AddBackward0>):  30%|███       | 90/300 [00:49<01:53,  1.86it/s]\u001b[A\n",
      "loss: tensor([-26.8960], device='cuda:0', grad_fn=<AddBackward0>):  30%|███       | 91/300 [00:49<01:54,  1.82it/s]\u001b[A"
     ]
    },
    {
     "name": "stdout",
     "output_type": "stream",
     "text": [
      "image updated at \"./210215-054130-A_system_of_cells_interlinked_within_cells_interlinked_within_cells_interlinked_within_one_stem.png\"\n"
     ]
    },
    {
     "name": "stderr",
     "output_type": "stream",
     "text": [
      "\n",
      "loss: tensor([-26.8159], device='cuda:0', grad_fn=<AddBackward0>):  30%|███       | 91/300 [00:49<01:54,  1.82it/s]\u001b[A\n",
      "loss: tensor([-26.8159], device='cuda:0', grad_fn=<AddBackward0>):  31%|███       | 92/300 [00:49<01:55,  1.81it/s]\u001b[A"
     ]
    },
    {
     "name": "stdout",
     "output_type": "stream",
     "text": [
      "image updated at \"./210215-054130-A_system_of_cells_interlinked_within_cells_interlinked_within_cells_interlinked_within_one_stem.png\"\n"
     ]
    },
    {
     "name": "stderr",
     "output_type": "stream",
     "text": [
      "\n",
      "loss: tensor([-26.9935], device='cuda:0', grad_fn=<AddBackward0>):  31%|███       | 92/300 [00:50<01:55,  1.81it/s]\u001b[A\n",
      "loss: tensor([-26.9935], device='cuda:0', grad_fn=<AddBackward0>):  31%|███       | 93/300 [00:50<02:00,  1.72it/s]\u001b[A"
     ]
    },
    {
     "name": "stdout",
     "output_type": "stream",
     "text": [
      "image updated at \"./210215-054130-A_system_of_cells_interlinked_within_cells_interlinked_within_cells_interlinked_within_one_stem.png\"\n"
     ]
    },
    {
     "name": "stderr",
     "output_type": "stream",
     "text": [
      "\n",
      "loss: tensor([-26.8991], device='cuda:0', grad_fn=<AddBackward0>):  31%|███       | 93/300 [00:50<02:00,  1.72it/s]\u001b[A\n",
      "loss: tensor([-26.8991], device='cuda:0', grad_fn=<AddBackward0>):  31%|███▏      | 94/300 [00:50<01:56,  1.77it/s]\u001b[A"
     ]
    },
    {
     "name": "stdout",
     "output_type": "stream",
     "text": [
      "image updated at \"./210215-054130-A_system_of_cells_interlinked_within_cells_interlinked_within_cells_interlinked_within_one_stem.png\"\n"
     ]
    },
    {
     "name": "stderr",
     "output_type": "stream",
     "text": [
      "\n",
      "loss: tensor([-26.8710], device='cuda:0', grad_fn=<AddBackward0>):  31%|███▏      | 94/300 [00:51<01:56,  1.77it/s]\u001b[A\n",
      "loss: tensor([-26.8710], device='cuda:0', grad_fn=<AddBackward0>):  32%|███▏      | 95/300 [00:51<01:53,  1.80it/s]\u001b[A"
     ]
    },
    {
     "name": "stdout",
     "output_type": "stream",
     "text": [
      "image updated at \"./210215-054130-A_system_of_cells_interlinked_within_cells_interlinked_within_cells_interlinked_within_one_stem.png\"\n"
     ]
    },
    {
     "name": "stderr",
     "output_type": "stream",
     "text": [
      "\n",
      "loss: tensor([-26.7926], device='cuda:0', grad_fn=<AddBackward0>):  32%|███▏      | 95/300 [00:52<01:53,  1.80it/s]\u001b[A\n",
      "loss: tensor([-26.7926], device='cuda:0', grad_fn=<AddBackward0>):  32%|███▏      | 96/300 [00:52<01:51,  1.82it/s]\u001b[A"
     ]
    },
    {
     "name": "stdout",
     "output_type": "stream",
     "text": [
      "image updated at \"./210215-054130-A_system_of_cells_interlinked_within_cells_interlinked_within_cells_interlinked_within_one_stem.png\"\n"
     ]
    },
    {
     "name": "stderr",
     "output_type": "stream",
     "text": [
      "\n",
      "loss: tensor([-27.1030], device='cuda:0', grad_fn=<AddBackward0>):  32%|███▏      | 96/300 [00:52<01:51,  1.82it/s]\u001b[A\n",
      "loss: tensor([-27.1030], device='cuda:0', grad_fn=<AddBackward0>):  32%|███▏      | 97/300 [00:52<01:49,  1.85it/s]\u001b[A"
     ]
    },
    {
     "name": "stdout",
     "output_type": "stream",
     "text": [
      "image updated at \"./210215-054130-A_system_of_cells_interlinked_within_cells_interlinked_within_cells_interlinked_within_one_stem.png\"\n"
     ]
    },
    {
     "name": "stderr",
     "output_type": "stream",
     "text": [
      "\n",
      "loss: tensor([-26.9744], device='cuda:0', grad_fn=<AddBackward0>):  32%|███▏      | 97/300 [00:53<01:49,  1.85it/s]\u001b[A\n",
      "loss: tensor([-26.9744], device='cuda:0', grad_fn=<AddBackward0>):  33%|███▎      | 98/300 [00:53<01:48,  1.87it/s]\u001b[A"
     ]
    },
    {
     "name": "stdout",
     "output_type": "stream",
     "text": [
      "image updated at \"./210215-054130-A_system_of_cells_interlinked_within_cells_interlinked_within_cells_interlinked_within_one_stem.png\"\n"
     ]
    },
    {
     "name": "stderr",
     "output_type": "stream",
     "text": [
      "\n",
      "loss: tensor([-26.9677], device='cuda:0', grad_fn=<AddBackward0>):  33%|███▎      | 98/300 [00:53<01:48,  1.87it/s]\u001b[A\n",
      "loss: tensor([-26.9677], device='cuda:0', grad_fn=<AddBackward0>):  33%|███▎      | 99/300 [00:53<01:50,  1.82it/s]\u001b[A"
     ]
    },
    {
     "name": "stdout",
     "output_type": "stream",
     "text": [
      "image updated at \"./210215-054130-A_system_of_cells_interlinked_within_cells_interlinked_within_cells_interlinked_within_one_stem.png\"\n"
     ]
    },
    {
     "name": "stderr",
     "output_type": "stream",
     "text": [
      "\n",
      "loss: tensor([-26.8518], device='cuda:0', grad_fn=<AddBackward0>):  33%|███▎      | 99/300 [00:54<01:50,  1.82it/s]\u001b[A\n",
      "loss: tensor([-26.8518], device='cuda:0', grad_fn=<AddBackward0>):  33%|███▎      | 100/300 [00:54<01:51,  1.80it/s]\u001b[A"
     ]
    },
    {
     "name": "stdout",
     "output_type": "stream",
     "text": [
      "image updated at \"./210215-054130-A_system_of_cells_interlinked_within_cells_interlinked_within_cells_interlinked_within_one_stem.png\"\n"
     ]
    },
    {
     "name": "stderr",
     "output_type": "stream",
     "text": [
      "\n",
      "loss: tensor([-27.1431], device='cuda:0', grad_fn=<AddBackward0>):  33%|███▎      | 100/300 [00:54<01:51,  1.80it/s]\u001b[A\n",
      "loss: tensor([-27.1431], device='cuda:0', grad_fn=<AddBackward0>):  34%|███▎      | 101/300 [00:54<01:51,  1.79it/s]\u001b[A"
     ]
    },
    {
     "name": "stdout",
     "output_type": "stream",
     "text": [
      "image updated at \"./210215-054130-A_system_of_cells_interlinked_within_cells_interlinked_within_cells_interlinked_within_one_stem.png\"\n"
     ]
    },
    {
     "name": "stderr",
     "output_type": "stream",
     "text": [
      "\n",
      "loss: tensor([-27.1031], device='cuda:0', grad_fn=<AddBackward0>):  34%|███▎      | 101/300 [00:55<01:51,  1.79it/s]\u001b[A\n",
      "loss: tensor([-27.1031], device='cuda:0', grad_fn=<AddBackward0>):  34%|███▍      | 102/300 [00:55<01:50,  1.79it/s]\u001b[A"
     ]
    },
    {
     "name": "stdout",
     "output_type": "stream",
     "text": [
      "image updated at \"./210215-054130-A_system_of_cells_interlinked_within_cells_interlinked_within_cells_interlinked_within_one_stem.png\"\n"
     ]
    },
    {
     "name": "stderr",
     "output_type": "stream",
     "text": [
      "\n",
      "loss: tensor([-27.1181], device='cuda:0', grad_fn=<AddBackward0>):  34%|███▍      | 102/300 [00:55<01:50,  1.79it/s]\u001b[A\n",
      "loss: tensor([-27.1181], device='cuda:0', grad_fn=<AddBackward0>):  34%|███▍      | 103/300 [00:55<01:48,  1.81it/s]\u001b[A"
     ]
    },
    {
     "name": "stdout",
     "output_type": "stream",
     "text": [
      "image updated at \"./210215-054130-A_system_of_cells_interlinked_within_cells_interlinked_within_cells_interlinked_within_one_stem.png\"\n"
     ]
    },
    {
     "name": "stderr",
     "output_type": "stream",
     "text": [
      "\n",
      "loss: tensor([-27.2285], device='cuda:0', grad_fn=<AddBackward0>):  34%|███▍      | 103/300 [00:56<01:48,  1.81it/s]\u001b[A\n",
      "loss: tensor([-27.2285], device='cuda:0', grad_fn=<AddBackward0>):  35%|███▍      | 104/300 [00:56<01:47,  1.82it/s]\u001b[A"
     ]
    },
    {
     "name": "stdout",
     "output_type": "stream",
     "text": [
      "image updated at \"./210215-054130-A_system_of_cells_interlinked_within_cells_interlinked_within_cells_interlinked_within_one_stem.png\"\n"
     ]
    },
    {
     "name": "stderr",
     "output_type": "stream",
     "text": [
      "\n",
      "loss: tensor([-27.1614], device='cuda:0', grad_fn=<AddBackward0>):  35%|███▍      | 104/300 [00:57<01:47,  1.82it/s]\u001b[A\n",
      "loss: tensor([-27.1614], device='cuda:0', grad_fn=<AddBackward0>):  35%|███▌      | 105/300 [00:57<01:49,  1.79it/s]\u001b[A"
     ]
    },
    {
     "name": "stdout",
     "output_type": "stream",
     "text": [
      "image updated at \"./210215-054130-A_system_of_cells_interlinked_within_cells_interlinked_within_cells_interlinked_within_one_stem.png\"\n"
     ]
    },
    {
     "name": "stderr",
     "output_type": "stream",
     "text": [
      "\n",
      "loss: tensor([-27.3807], device='cuda:0', grad_fn=<AddBackward0>):  35%|███▌      | 105/300 [00:57<01:49,  1.79it/s]\u001b[A\n",
      "loss: tensor([-27.3807], device='cuda:0', grad_fn=<AddBackward0>):  35%|███▌      | 106/300 [00:57<01:49,  1.77it/s]\u001b[A"
     ]
    },
    {
     "name": "stdout",
     "output_type": "stream",
     "text": [
      "image updated at \"./210215-054130-A_system_of_cells_interlinked_within_cells_interlinked_within_cells_interlinked_within_one_stem.png\"\n"
     ]
    },
    {
     "name": "stderr",
     "output_type": "stream",
     "text": [
      "\n",
      "loss: tensor([-27.3903], device='cuda:0', grad_fn=<AddBackward0>):  35%|███▌      | 106/300 [00:58<01:49,  1.77it/s]\u001b[A\n",
      "loss: tensor([-27.3903], device='cuda:0', grad_fn=<AddBackward0>):  36%|███▌      | 107/300 [00:58<01:50,  1.75it/s]\u001b[A"
     ]
    },
    {
     "name": "stdout",
     "output_type": "stream",
     "text": [
      "image updated at \"./210215-054130-A_system_of_cells_interlinked_within_cells_interlinked_within_cells_interlinked_within_one_stem.png\"\n"
     ]
    },
    {
     "name": "stderr",
     "output_type": "stream",
     "text": [
      "\n",
      "loss: tensor([-27.3853], device='cuda:0', grad_fn=<AddBackward0>):  36%|███▌      | 107/300 [00:58<01:50,  1.75it/s]\u001b[A\n",
      "loss: tensor([-27.3853], device='cuda:0', grad_fn=<AddBackward0>):  36%|███▌      | 108/300 [00:58<01:48,  1.78it/s]\u001b[A"
     ]
    },
    {
     "name": "stdout",
     "output_type": "stream",
     "text": [
      "image updated at \"./210215-054130-A_system_of_cells_interlinked_within_cells_interlinked_within_cells_interlinked_within_one_stem.png\"\n"
     ]
    },
    {
     "name": "stderr",
     "output_type": "stream",
     "text": [
      "\n",
      "loss: tensor([-27.4539], device='cuda:0', grad_fn=<AddBackward0>):  36%|███▌      | 108/300 [00:59<01:48,  1.78it/s]\u001b[A\n",
      "loss: tensor([-27.4539], device='cuda:0', grad_fn=<AddBackward0>):  36%|███▋      | 109/300 [00:59<01:46,  1.80it/s]\u001b[A"
     ]
    },
    {
     "name": "stdout",
     "output_type": "stream",
     "text": [
      "image updated at \"./210215-054130-A_system_of_cells_interlinked_within_cells_interlinked_within_cells_interlinked_within_one_stem.png\"\n"
     ]
    },
    {
     "name": "stderr",
     "output_type": "stream",
     "text": [
      "\n",
      "loss: tensor([-27.2718], device='cuda:0', grad_fn=<AddBackward0>):  36%|███▋      | 109/300 [00:59<01:46,  1.80it/s]\u001b[A\n",
      "loss: tensor([-27.2718], device='cuda:0', grad_fn=<AddBackward0>):  37%|███▋      | 110/300 [00:59<01:44,  1.83it/s]\u001b[A"
     ]
    },
    {
     "name": "stdout",
     "output_type": "stream",
     "text": [
      "image updated at \"./210215-054130-A_system_of_cells_interlinked_within_cells_interlinked_within_cells_interlinked_within_one_stem.png\"\n"
     ]
    },
    {
     "name": "stderr",
     "output_type": "stream",
     "text": [
      "\n",
      "loss: tensor([-27.2530], device='cuda:0', grad_fn=<AddBackward0>):  37%|███▋      | 110/300 [01:00<01:44,  1.83it/s]\u001b[A\n",
      "loss: tensor([-27.2530], device='cuda:0', grad_fn=<AddBackward0>):  37%|███▋      | 111/300 [01:00<01:46,  1.78it/s]\u001b[A"
     ]
    },
    {
     "name": "stdout",
     "output_type": "stream",
     "text": [
      "image updated at \"./210215-054130-A_system_of_cells_interlinked_within_cells_interlinked_within_cells_interlinked_within_one_stem.png\"\n"
     ]
    },
    {
     "name": "stderr",
     "output_type": "stream",
     "text": [
      "\n",
      "loss: tensor([-27.4746], device='cuda:0', grad_fn=<AddBackward0>):  37%|███▋      | 111/300 [01:00<01:46,  1.78it/s]\u001b[A\n",
      "loss: tensor([-27.4746], device='cuda:0', grad_fn=<AddBackward0>):  37%|███▋      | 112/300 [01:00<01:48,  1.73it/s]\u001b[A"
     ]
    },
    {
     "name": "stdout",
     "output_type": "stream",
     "text": [
      "image updated at \"./210215-054130-A_system_of_cells_interlinked_within_cells_interlinked_within_cells_interlinked_within_one_stem.png\"\n"
     ]
    },
    {
     "name": "stderr",
     "output_type": "stream",
     "text": [
      "\n",
      "loss: tensor([-27.4482], device='cuda:0', grad_fn=<AddBackward0>):  37%|███▋      | 112/300 [01:01<01:48,  1.73it/s]\u001b[A\n",
      "loss: tensor([-27.4482], device='cuda:0', grad_fn=<AddBackward0>):  38%|███▊      | 113/300 [01:01<01:50,  1.69it/s]\u001b[A"
     ]
    },
    {
     "name": "stdout",
     "output_type": "stream",
     "text": [
      "image updated at \"./210215-054130-A_system_of_cells_interlinked_within_cells_interlinked_within_cells_interlinked_within_one_stem.png\"\n"
     ]
    },
    {
     "name": "stderr",
     "output_type": "stream",
     "text": [
      "\n",
      "loss: tensor([-27.3174], device='cuda:0', grad_fn=<AddBackward0>):  38%|███▊      | 113/300 [01:02<01:50,  1.69it/s]\u001b[A\n",
      "loss: tensor([-27.3174], device='cuda:0', grad_fn=<AddBackward0>):  38%|███▊      | 114/300 [01:02<01:51,  1.67it/s]\u001b[A"
     ]
    },
    {
     "name": "stdout",
     "output_type": "stream",
     "text": [
      "image updated at \"./210215-054130-A_system_of_cells_interlinked_within_cells_interlinked_within_cells_interlinked_within_one_stem.png\"\n"
     ]
    },
    {
     "name": "stderr",
     "output_type": "stream",
     "text": [
      "\n",
      "loss: tensor([-27.6342], device='cuda:0', grad_fn=<AddBackward0>):  38%|███▊      | 114/300 [01:02<01:51,  1.67it/s]\u001b[A\n",
      "loss: tensor([-27.6342], device='cuda:0', grad_fn=<AddBackward0>):  38%|███▊      | 115/300 [01:02<01:51,  1.66it/s]\u001b[A"
     ]
    },
    {
     "name": "stdout",
     "output_type": "stream",
     "text": [
      "image updated at \"./210215-054130-A_system_of_cells_interlinked_within_cells_interlinked_within_cells_interlinked_within_one_stem.png\"\n"
     ]
    },
    {
     "name": "stderr",
     "output_type": "stream",
     "text": [
      "\n",
      "loss: tensor([-27.5755], device='cuda:0', grad_fn=<AddBackward0>):  38%|███▊      | 115/300 [01:03<01:51,  1.66it/s]\u001b[A\n",
      "loss: tensor([-27.5755], device='cuda:0', grad_fn=<AddBackward0>):  39%|███▊      | 116/300 [01:03<01:49,  1.68it/s]\u001b[A"
     ]
    },
    {
     "name": "stdout",
     "output_type": "stream",
     "text": [
      "image updated at \"./210215-054130-A_system_of_cells_interlinked_within_cells_interlinked_within_cells_interlinked_within_one_stem.png\"\n"
     ]
    },
    {
     "name": "stderr",
     "output_type": "stream",
     "text": [
      "\n",
      "loss: tensor([-27.6031], device='cuda:0', grad_fn=<AddBackward0>):  39%|███▊      | 116/300 [01:03<01:49,  1.68it/s]\u001b[A\n",
      "loss: tensor([-27.6031], device='cuda:0', grad_fn=<AddBackward0>):  39%|███▉      | 117/300 [01:03<01:47,  1.70it/s]\u001b[A"
     ]
    },
    {
     "name": "stdout",
     "output_type": "stream",
     "text": [
      "image updated at \"./210215-054130-A_system_of_cells_interlinked_within_cells_interlinked_within_cells_interlinked_within_one_stem.png\"\n"
     ]
    },
    {
     "name": "stderr",
     "output_type": "stream",
     "text": [
      "\n",
      "loss: tensor([-27.6262], device='cuda:0', grad_fn=<AddBackward0>):  39%|███▉      | 117/300 [01:04<01:47,  1.70it/s]\u001b[A\n",
      "loss: tensor([-27.6262], device='cuda:0', grad_fn=<AddBackward0>):  39%|███▉      | 118/300 [01:04<01:45,  1.73it/s]\u001b[A"
     ]
    },
    {
     "name": "stdout",
     "output_type": "stream",
     "text": [
      "image updated at \"./210215-054130-A_system_of_cells_interlinked_within_cells_interlinked_within_cells_interlinked_within_one_stem.png\"\n"
     ]
    },
    {
     "name": "stderr",
     "output_type": "stream",
     "text": [
      "\n",
      "loss: tensor([-27.1149], device='cuda:0', grad_fn=<AddBackward0>):  39%|███▉      | 118/300 [01:05<01:45,  1.73it/s]\u001b[A\n",
      "loss: tensor([-27.1149], device='cuda:0', grad_fn=<AddBackward0>):  40%|███▉      | 119/300 [01:05<01:42,  1.77it/s]\u001b[A"
     ]
    },
    {
     "name": "stdout",
     "output_type": "stream",
     "text": [
      "image updated at \"./210215-054130-A_system_of_cells_interlinked_within_cells_interlinked_within_cells_interlinked_within_one_stem.png\"\n"
     ]
    },
    {
     "name": "stderr",
     "output_type": "stream",
     "text": [
      "\n",
      "loss: tensor([-27.4088], device='cuda:0', grad_fn=<AddBackward0>):  40%|███▉      | 119/300 [01:05<01:42,  1.77it/s]\u001b[A\n",
      "loss: tensor([-27.4088], device='cuda:0', grad_fn=<AddBackward0>):  40%|████      | 120/300 [01:05<01:39,  1.81it/s]\u001b[A"
     ]
    },
    {
     "name": "stdout",
     "output_type": "stream",
     "text": [
      "image updated at \"./210215-054130-A_system_of_cells_interlinked_within_cells_interlinked_within_cells_interlinked_within_one_stem.png\"\n"
     ]
    },
    {
     "name": "stderr",
     "output_type": "stream",
     "text": [
      "\n",
      "loss: tensor([-27.6976], device='cuda:0', grad_fn=<AddBackward0>):  40%|████      | 120/300 [01:06<01:39,  1.81it/s]\u001b[A\n",
      "loss: tensor([-27.6976], device='cuda:0', grad_fn=<AddBackward0>):  40%|████      | 121/300 [01:06<01:38,  1.82it/s]\u001b[A"
     ]
    },
    {
     "name": "stdout",
     "output_type": "stream",
     "text": [
      "image updated at \"./210215-054130-A_system_of_cells_interlinked_within_cells_interlinked_within_cells_interlinked_within_one_stem.png\"\n"
     ]
    },
    {
     "name": "stderr",
     "output_type": "stream",
     "text": [
      "\n",
      "loss: tensor([-27.6377], device='cuda:0', grad_fn=<AddBackward0>):  40%|████      | 121/300 [01:06<01:38,  1.82it/s]\u001b[A\n",
      "loss: tensor([-27.6377], device='cuda:0', grad_fn=<AddBackward0>):  41%|████      | 122/300 [01:06<01:36,  1.84it/s]\u001b[A"
     ]
    },
    {
     "name": "stdout",
     "output_type": "stream",
     "text": [
      "image updated at \"./210215-054130-A_system_of_cells_interlinked_within_cells_interlinked_within_cells_interlinked_within_one_stem.png\"\n"
     ]
    },
    {
     "name": "stderr",
     "output_type": "stream",
     "text": [
      "\n",
      "loss: tensor([-27.8809], device='cuda:0', grad_fn=<AddBackward0>):  41%|████      | 122/300 [01:07<01:36,  1.84it/s]\u001b[A\n",
      "loss: tensor([-27.8809], device='cuda:0', grad_fn=<AddBackward0>):  41%|████      | 123/300 [01:07<01:35,  1.86it/s]\u001b[A"
     ]
    },
    {
     "name": "stdout",
     "output_type": "stream",
     "text": [
      "image updated at \"./210215-054130-A_system_of_cells_interlinked_within_cells_interlinked_within_cells_interlinked_within_one_stem.png\"\n"
     ]
    },
    {
     "name": "stderr",
     "output_type": "stream",
     "text": [
      "\n",
      "loss: tensor([-27.6886], device='cuda:0', grad_fn=<AddBackward0>):  41%|████      | 123/300 [01:07<01:35,  1.86it/s]\u001b[A\n",
      "loss: tensor([-27.6886], device='cuda:0', grad_fn=<AddBackward0>):  41%|████▏     | 124/300 [01:07<01:34,  1.86it/s]\u001b[A"
     ]
    },
    {
     "name": "stdout",
     "output_type": "stream",
     "text": [
      "image updated at \"./210215-054130-A_system_of_cells_interlinked_within_cells_interlinked_within_cells_interlinked_within_one_stem.png\"\n"
     ]
    },
    {
     "name": "stderr",
     "output_type": "stream",
     "text": [
      "\n",
      "loss: tensor([-27.9334], device='cuda:0', grad_fn=<AddBackward0>):  41%|████▏     | 124/300 [01:08<01:34,  1.86it/s]\u001b[A\n",
      "loss: tensor([-27.9334], device='cuda:0', grad_fn=<AddBackward0>):  42%|████▏     | 125/300 [01:08<01:33,  1.86it/s]\u001b[A"
     ]
    },
    {
     "name": "stdout",
     "output_type": "stream",
     "text": [
      "image updated at \"./210215-054130-A_system_of_cells_interlinked_within_cells_interlinked_within_cells_interlinked_within_one_stem.png\"\n"
     ]
    },
    {
     "name": "stderr",
     "output_type": "stream",
     "text": [
      "\n",
      "loss: tensor([-27.6892], device='cuda:0', grad_fn=<AddBackward0>):  42%|████▏     | 125/300 [01:08<01:33,  1.86it/s]\u001b[A\n",
      "loss: tensor([-27.6892], device='cuda:0', grad_fn=<AddBackward0>):  42%|████▏     | 126/300 [01:08<01:33,  1.87it/s]\u001b[A"
     ]
    },
    {
     "name": "stdout",
     "output_type": "stream",
     "text": [
      "image updated at \"./210215-054130-A_system_of_cells_interlinked_within_cells_interlinked_within_cells_interlinked_within_one_stem.png\"\n"
     ]
    },
    {
     "name": "stderr",
     "output_type": "stream",
     "text": [
      "\n",
      "loss: tensor([-27.7789], device='cuda:0', grad_fn=<AddBackward0>):  42%|████▏     | 126/300 [01:09<01:33,  1.87it/s]\u001b[A\n",
      "loss: tensor([-27.7789], device='cuda:0', grad_fn=<AddBackward0>):  42%|████▏     | 127/300 [01:09<01:33,  1.85it/s]\u001b[A"
     ]
    },
    {
     "name": "stdout",
     "output_type": "stream",
     "text": [
      "image updated at \"./210215-054130-A_system_of_cells_interlinked_within_cells_interlinked_within_cells_interlinked_within_one_stem.png\"\n"
     ]
    },
    {
     "name": "stderr",
     "output_type": "stream",
     "text": [
      "\n",
      "loss: tensor([-27.8451], device='cuda:0', grad_fn=<AddBackward0>):  42%|████▏     | 127/300 [01:09<01:33,  1.85it/s]\u001b[A\n",
      "loss: tensor([-27.8451], device='cuda:0', grad_fn=<AddBackward0>):  43%|████▎     | 128/300 [01:09<01:32,  1.86it/s]\u001b[A"
     ]
    },
    {
     "name": "stdout",
     "output_type": "stream",
     "text": [
      "image updated at \"./210215-054130-A_system_of_cells_interlinked_within_cells_interlinked_within_cells_interlinked_within_one_stem.png\"\n"
     ]
    },
    {
     "name": "stderr",
     "output_type": "stream",
     "text": [
      "\n",
      "loss: tensor([-27.9427], device='cuda:0', grad_fn=<AddBackward0>):  43%|████▎     | 128/300 [01:10<01:32,  1.86it/s]\u001b[A\n",
      "loss: tensor([-27.9427], device='cuda:0', grad_fn=<AddBackward0>):  43%|████▎     | 129/300 [01:10<01:33,  1.83it/s]\u001b[A"
     ]
    },
    {
     "name": "stdout",
     "output_type": "stream",
     "text": [
      "image updated at \"./210215-054130-A_system_of_cells_interlinked_within_cells_interlinked_within_cells_interlinked_within_one_stem.png\"\n"
     ]
    },
    {
     "name": "stderr",
     "output_type": "stream",
     "text": [
      "\n",
      "loss: tensor([-27.7173], device='cuda:0', grad_fn=<AddBackward0>):  43%|████▎     | 129/300 [01:10<01:33,  1.83it/s]\u001b[A\n",
      "loss: tensor([-27.7173], device='cuda:0', grad_fn=<AddBackward0>):  43%|████▎     | 130/300 [01:10<01:31,  1.85it/s]\u001b[A"
     ]
    },
    {
     "name": "stdout",
     "output_type": "stream",
     "text": [
      "image updated at \"./210215-054130-A_system_of_cells_interlinked_within_cells_interlinked_within_cells_interlinked_within_one_stem.png\"\n"
     ]
    },
    {
     "name": "stderr",
     "output_type": "stream",
     "text": [
      "\n",
      "loss: tensor([-27.7712], device='cuda:0', grad_fn=<AddBackward0>):  43%|████▎     | 130/300 [01:11<01:31,  1.85it/s]\u001b[A\n",
      "loss: tensor([-27.7712], device='cuda:0', grad_fn=<AddBackward0>):  44%|████▎     | 131/300 [01:11<01:30,  1.86it/s]\u001b[A"
     ]
    },
    {
     "name": "stdout",
     "output_type": "stream",
     "text": [
      "image updated at \"./210215-054130-A_system_of_cells_interlinked_within_cells_interlinked_within_cells_interlinked_within_one_stem.png\"\n"
     ]
    },
    {
     "name": "stderr",
     "output_type": "stream",
     "text": [
      "\n",
      "loss: tensor([-27.6239], device='cuda:0', grad_fn=<AddBackward0>):  44%|████▎     | 131/300 [01:12<01:30,  1.86it/s]\u001b[A\n",
      "loss: tensor([-27.6239], device='cuda:0', grad_fn=<AddBackward0>):  44%|████▍     | 132/300 [01:12<01:30,  1.86it/s]\u001b[A"
     ]
    },
    {
     "name": "stdout",
     "output_type": "stream",
     "text": [
      "image updated at \"./210215-054130-A_system_of_cells_interlinked_within_cells_interlinked_within_cells_interlinked_within_one_stem.png\"\n"
     ]
    },
    {
     "name": "stderr",
     "output_type": "stream",
     "text": [
      "\n",
      "loss: tensor([-28.0553], device='cuda:0', grad_fn=<AddBackward0>):  44%|████▍     | 132/300 [01:12<01:30,  1.86it/s]\u001b[A\n",
      "loss: tensor([-28.0553], device='cuda:0', grad_fn=<AddBackward0>):  44%|████▍     | 133/300 [01:12<01:30,  1.85it/s]\u001b[A"
     ]
    },
    {
     "name": "stdout",
     "output_type": "stream",
     "text": [
      "image updated at \"./210215-054130-A_system_of_cells_interlinked_within_cells_interlinked_within_cells_interlinked_within_one_stem.png\"\n"
     ]
    },
    {
     "name": "stderr",
     "output_type": "stream",
     "text": [
      "\n",
      "loss: tensor([-27.8760], device='cuda:0', grad_fn=<AddBackward0>):  44%|████▍     | 133/300 [01:13<01:30,  1.85it/s]\u001b[A\n",
      "loss: tensor([-27.8760], device='cuda:0', grad_fn=<AddBackward0>):  45%|████▍     | 134/300 [01:13<01:30,  1.83it/s]\u001b[A"
     ]
    },
    {
     "name": "stdout",
     "output_type": "stream",
     "text": [
      "image updated at \"./210215-054130-A_system_of_cells_interlinked_within_cells_interlinked_within_cells_interlinked_within_one_stem.png\"\n"
     ]
    },
    {
     "name": "stderr",
     "output_type": "stream",
     "text": [
      "\n",
      "loss: tensor([-28.0620], device='cuda:0', grad_fn=<AddBackward0>):  45%|████▍     | 134/300 [01:13<01:30,  1.83it/s]\u001b[A\n",
      "loss: tensor([-28.0620], device='cuda:0', grad_fn=<AddBackward0>):  45%|████▌     | 135/300 [01:13<01:29,  1.84it/s]\u001b[A"
     ]
    },
    {
     "name": "stdout",
     "output_type": "stream",
     "text": [
      "image updated at \"./210215-054130-A_system_of_cells_interlinked_within_cells_interlinked_within_cells_interlinked_within_one_stem.png\"\n"
     ]
    },
    {
     "name": "stderr",
     "output_type": "stream",
     "text": [
      "\n",
      "loss: tensor([-28.2185], device='cuda:0', grad_fn=<AddBackward0>):  45%|████▌     | 135/300 [01:14<01:29,  1.84it/s]\u001b[A\n",
      "loss: tensor([-28.2185], device='cuda:0', grad_fn=<AddBackward0>):  45%|████▌     | 136/300 [01:14<01:28,  1.85it/s]\u001b[A"
     ]
    },
    {
     "name": "stdout",
     "output_type": "stream",
     "text": [
      "image updated at \"./210215-054130-A_system_of_cells_interlinked_within_cells_interlinked_within_cells_interlinked_within_one_stem.png\"\n"
     ]
    },
    {
     "name": "stderr",
     "output_type": "stream",
     "text": [
      "\n",
      "loss: tensor([-27.9924], device='cuda:0', grad_fn=<AddBackward0>):  45%|████▌     | 136/300 [01:14<01:28,  1.85it/s]\u001b[A\n",
      "loss: tensor([-27.9924], device='cuda:0', grad_fn=<AddBackward0>):  46%|████▌     | 137/300 [01:14<01:27,  1.86it/s]\u001b[A"
     ]
    },
    {
     "name": "stdout",
     "output_type": "stream",
     "text": [
      "image updated at \"./210215-054130-A_system_of_cells_interlinked_within_cells_interlinked_within_cells_interlinked_within_one_stem.png\"\n"
     ]
    },
    {
     "name": "stderr",
     "output_type": "stream",
     "text": [
      "\n",
      "loss: tensor([-27.8720], device='cuda:0', grad_fn=<AddBackward0>):  46%|████▌     | 137/300 [01:15<01:27,  1.86it/s]\u001b[A\n",
      "loss: tensor([-27.8720], device='cuda:0', grad_fn=<AddBackward0>):  46%|████▌     | 138/300 [01:15<01:27,  1.86it/s]\u001b[A"
     ]
    },
    {
     "name": "stdout",
     "output_type": "stream",
     "text": [
      "image updated at \"./210215-054130-A_system_of_cells_interlinked_within_cells_interlinked_within_cells_interlinked_within_one_stem.png\"\n"
     ]
    },
    {
     "name": "stderr",
     "output_type": "stream",
     "text": [
      "\n",
      "loss: tensor([-27.9205], device='cuda:0', grad_fn=<AddBackward0>):  46%|████▌     | 138/300 [01:15<01:27,  1.86it/s]\u001b[A\n",
      "loss: tensor([-27.9205], device='cuda:0', grad_fn=<AddBackward0>):  46%|████▋     | 139/300 [01:15<01:26,  1.87it/s]\u001b[A"
     ]
    },
    {
     "name": "stdout",
     "output_type": "stream",
     "text": [
      "image updated at \"./210215-054130-A_system_of_cells_interlinked_within_cells_interlinked_within_cells_interlinked_within_one_stem.png\"\n"
     ]
    },
    {
     "name": "stderr",
     "output_type": "stream",
     "text": [
      "\n",
      "loss: tensor([-28.0073], device='cuda:0', grad_fn=<AddBackward0>):  46%|████▋     | 139/300 [01:16<01:26,  1.87it/s]\u001b[A\n",
      "loss: tensor([-28.0073], device='cuda:0', grad_fn=<AddBackward0>):  47%|████▋     | 140/300 [01:16<01:25,  1.87it/s]\u001b[A"
     ]
    },
    {
     "name": "stdout",
     "output_type": "stream",
     "text": [
      "image updated at \"./210215-054130-A_system_of_cells_interlinked_within_cells_interlinked_within_cells_interlinked_within_one_stem.png\"\n"
     ]
    },
    {
     "name": "stderr",
     "output_type": "stream",
     "text": [
      "\n",
      "loss: tensor([-28.1813], device='cuda:0', grad_fn=<AddBackward0>):  47%|████▋     | 140/300 [01:16<01:25,  1.87it/s]\u001b[A\n",
      "loss: tensor([-28.1813], device='cuda:0', grad_fn=<AddBackward0>):  47%|████▋     | 141/300 [01:16<01:25,  1.86it/s]\u001b[A"
     ]
    },
    {
     "name": "stdout",
     "output_type": "stream",
     "text": [
      "image updated at \"./210215-054130-A_system_of_cells_interlinked_within_cells_interlinked_within_cells_interlinked_within_one_stem.png\"\n"
     ]
    },
    {
     "name": "stderr",
     "output_type": "stream",
     "text": [
      "\n",
      "loss: tensor([-28.3961], device='cuda:0', grad_fn=<AddBackward0>):  47%|████▋     | 141/300 [01:17<01:25,  1.86it/s]\u001b[A\n",
      "loss: tensor([-28.3961], device='cuda:0', grad_fn=<AddBackward0>):  47%|████▋     | 142/300 [01:17<01:25,  1.85it/s]\u001b[A"
     ]
    },
    {
     "name": "stdout",
     "output_type": "stream",
     "text": [
      "image updated at \"./210215-054130-A_system_of_cells_interlinked_within_cells_interlinked_within_cells_interlinked_within_one_stem.png\"\n"
     ]
    },
    {
     "name": "stderr",
     "output_type": "stream",
     "text": [
      "\n",
      "loss: tensor([-28.1036], device='cuda:0', grad_fn=<AddBackward0>):  47%|████▋     | 142/300 [01:18<01:25,  1.85it/s]\u001b[A\n",
      "loss: tensor([-28.1036], device='cuda:0', grad_fn=<AddBackward0>):  48%|████▊     | 143/300 [01:18<01:26,  1.83it/s]\u001b[A"
     ]
    },
    {
     "name": "stdout",
     "output_type": "stream",
     "text": [
      "image updated at \"./210215-054130-A_system_of_cells_interlinked_within_cells_interlinked_within_cells_interlinked_within_one_stem.png\"\n"
     ]
    },
    {
     "name": "stderr",
     "output_type": "stream",
     "text": [
      "\n",
      "loss: tensor([-28.2067], device='cuda:0', grad_fn=<AddBackward0>):  48%|████▊     | 143/300 [01:18<01:26,  1.83it/s]\u001b[A\n",
      "loss: tensor([-28.2067], device='cuda:0', grad_fn=<AddBackward0>):  48%|████▊     | 144/300 [01:18<01:25,  1.82it/s]\u001b[A"
     ]
    },
    {
     "name": "stdout",
     "output_type": "stream",
     "text": [
      "image updated at \"./210215-054130-A_system_of_cells_interlinked_within_cells_interlinked_within_cells_interlinked_within_one_stem.png\"\n"
     ]
    },
    {
     "name": "stderr",
     "output_type": "stream",
     "text": [
      "\n",
      "loss: tensor([-28.0434], device='cuda:0', grad_fn=<AddBackward0>):  48%|████▊     | 144/300 [01:19<01:25,  1.82it/s]\u001b[A\n",
      "loss: tensor([-28.0434], device='cuda:0', grad_fn=<AddBackward0>):  48%|████▊     | 145/300 [01:19<01:26,  1.79it/s]\u001b[A"
     ]
    },
    {
     "name": "stdout",
     "output_type": "stream",
     "text": [
      "image updated at \"./210215-054130-A_system_of_cells_interlinked_within_cells_interlinked_within_cells_interlinked_within_one_stem.png\"\n"
     ]
    },
    {
     "name": "stderr",
     "output_type": "stream",
     "text": [
      "\n",
      "loss: tensor([-28.2268], device='cuda:0', grad_fn=<AddBackward0>):  48%|████▊     | 145/300 [01:19<01:26,  1.79it/s]\u001b[A\n",
      "loss: tensor([-28.2268], device='cuda:0', grad_fn=<AddBackward0>):  49%|████▊     | 146/300 [01:19<01:27,  1.75it/s]\u001b[A"
     ]
    },
    {
     "name": "stdout",
     "output_type": "stream",
     "text": [
      "image updated at \"./210215-054130-A_system_of_cells_interlinked_within_cells_interlinked_within_cells_interlinked_within_one_stem.png\"\n"
     ]
    },
    {
     "name": "stderr",
     "output_type": "stream",
     "text": [
      "\n",
      "loss: tensor([-28.1362], device='cuda:0', grad_fn=<AddBackward0>):  49%|████▊     | 146/300 [01:20<01:27,  1.75it/s]\u001b[A\n",
      "loss: tensor([-28.1362], device='cuda:0', grad_fn=<AddBackward0>):  49%|████▉     | 147/300 [01:20<01:25,  1.80it/s]\u001b[A"
     ]
    },
    {
     "name": "stdout",
     "output_type": "stream",
     "text": [
      "image updated at \"./210215-054130-A_system_of_cells_interlinked_within_cells_interlinked_within_cells_interlinked_within_one_stem.png\"\n"
     ]
    },
    {
     "name": "stderr",
     "output_type": "stream",
     "text": [
      "\n",
      "loss: tensor([-28.2400], device='cuda:0', grad_fn=<AddBackward0>):  49%|████▉     | 147/300 [01:20<01:25,  1.80it/s]\u001b[A\n",
      "loss: tensor([-28.2400], device='cuda:0', grad_fn=<AddBackward0>):  49%|████▉     | 148/300 [01:20<01:22,  1.84it/s]\u001b[A"
     ]
    },
    {
     "name": "stdout",
     "output_type": "stream",
     "text": [
      "image updated at \"./210215-054130-A_system_of_cells_interlinked_within_cells_interlinked_within_cells_interlinked_within_one_stem.png\"\n"
     ]
    },
    {
     "name": "stderr",
     "output_type": "stream",
     "text": [
      "\n",
      "loss: tensor([-28.1205], device='cuda:0', grad_fn=<AddBackward0>):  49%|████▉     | 148/300 [01:21<01:22,  1.84it/s]\u001b[A\n",
      "loss: tensor([-28.1205], device='cuda:0', grad_fn=<AddBackward0>):  50%|████▉     | 149/300 [01:21<01:21,  1.85it/s]\u001b[A"
     ]
    },
    {
     "name": "stdout",
     "output_type": "stream",
     "text": [
      "image updated at \"./210215-054130-A_system_of_cells_interlinked_within_cells_interlinked_within_cells_interlinked_within_one_stem.png\"\n"
     ]
    },
    {
     "name": "stderr",
     "output_type": "stream",
     "text": [
      "\n",
      "loss: tensor([-28.1803], device='cuda:0', grad_fn=<AddBackward0>):  50%|████▉     | 149/300 [01:21<01:21,  1.85it/s]\u001b[A\n",
      "loss: tensor([-28.1803], device='cuda:0', grad_fn=<AddBackward0>):  50%|█████     | 150/300 [01:21<01:20,  1.86it/s]\u001b[A"
     ]
    },
    {
     "name": "stdout",
     "output_type": "stream",
     "text": [
      "image updated at \"./210215-054130-A_system_of_cells_interlinked_within_cells_interlinked_within_cells_interlinked_within_one_stem.png\"\n"
     ]
    },
    {
     "name": "stderr",
     "output_type": "stream",
     "text": [
      "\n",
      "loss: tensor([-28.1028], device='cuda:0', grad_fn=<AddBackward0>):  50%|█████     | 150/300 [01:22<01:20,  1.86it/s]\u001b[A\n",
      "loss: tensor([-28.1028], device='cuda:0', grad_fn=<AddBackward0>):  50%|█████     | 151/300 [01:22<01:19,  1.86it/s]\u001b[A"
     ]
    },
    {
     "name": "stdout",
     "output_type": "stream",
     "text": [
      "image updated at \"./210215-054130-A_system_of_cells_interlinked_within_cells_interlinked_within_cells_interlinked_within_one_stem.png\"\n"
     ]
    },
    {
     "name": "stderr",
     "output_type": "stream",
     "text": [
      "\n",
      "loss: tensor([-28.0435], device='cuda:0', grad_fn=<AddBackward0>):  50%|█████     | 151/300 [01:22<01:19,  1.86it/s]\u001b[A\n",
      "loss: tensor([-28.0435], device='cuda:0', grad_fn=<AddBackward0>):  51%|█████     | 152/300 [01:22<01:19,  1.86it/s]\u001b[A"
     ]
    },
    {
     "name": "stdout",
     "output_type": "stream",
     "text": [
      "image updated at \"./210215-054130-A_system_of_cells_interlinked_within_cells_interlinked_within_cells_interlinked_within_one_stem.png\"\n"
     ]
    },
    {
     "name": "stderr",
     "output_type": "stream",
     "text": [
      "\n",
      "loss: tensor([-27.8356], device='cuda:0', grad_fn=<AddBackward0>):  51%|█████     | 152/300 [01:23<01:19,  1.86it/s]\u001b[A\n",
      "loss: tensor([-27.8356], device='cuda:0', grad_fn=<AddBackward0>):  51%|█████     | 153/300 [01:23<01:19,  1.85it/s]\u001b[A"
     ]
    },
    {
     "name": "stdout",
     "output_type": "stream",
     "text": [
      "image updated at \"./210215-054130-A_system_of_cells_interlinked_within_cells_interlinked_within_cells_interlinked_within_one_stem.png\"\n"
     ]
    },
    {
     "name": "stderr",
     "output_type": "stream",
     "text": [
      "\n",
      "loss: tensor([-27.7932], device='cuda:0', grad_fn=<AddBackward0>):  51%|█████     | 153/300 [01:24<01:19,  1.85it/s]\u001b[A\n",
      "loss: tensor([-27.7932], device='cuda:0', grad_fn=<AddBackward0>):  51%|█████▏    | 154/300 [01:24<01:18,  1.85it/s]\u001b[A"
     ]
    },
    {
     "name": "stdout",
     "output_type": "stream",
     "text": [
      "image updated at \"./210215-054130-A_system_of_cells_interlinked_within_cells_interlinked_within_cells_interlinked_within_one_stem.png\"\n"
     ]
    },
    {
     "name": "stderr",
     "output_type": "stream",
     "text": [
      "\n",
      "loss: tensor([-27.7528], device='cuda:0', grad_fn=<AddBackward0>):  51%|█████▏    | 154/300 [01:24<01:18,  1.85it/s]\u001b[A\n",
      "loss: tensor([-27.7528], device='cuda:0', grad_fn=<AddBackward0>):  52%|█████▏    | 155/300 [01:24<01:18,  1.84it/s]\u001b[A"
     ]
    },
    {
     "name": "stdout",
     "output_type": "stream",
     "text": [
      "image updated at \"./210215-054130-A_system_of_cells_interlinked_within_cells_interlinked_within_cells_interlinked_within_one_stem.png\"\n"
     ]
    },
    {
     "name": "stderr",
     "output_type": "stream",
     "text": [
      "\n",
      "loss: tensor([-27.8517], device='cuda:0', grad_fn=<AddBackward0>):  52%|█████▏    | 155/300 [01:25<01:18,  1.84it/s]\u001b[A\n",
      "loss: tensor([-27.8517], device='cuda:0', grad_fn=<AddBackward0>):  52%|█████▏    | 156/300 [01:25<01:18,  1.84it/s]\u001b[A"
     ]
    },
    {
     "name": "stdout",
     "output_type": "stream",
     "text": [
      "image updated at \"./210215-054130-A_system_of_cells_interlinked_within_cells_interlinked_within_cells_interlinked_within_one_stem.png\"\n"
     ]
    },
    {
     "name": "stderr",
     "output_type": "stream",
     "text": [
      "\n",
      "loss: tensor([-27.7127], device='cuda:0', grad_fn=<AddBackward0>):  52%|█████▏    | 156/300 [01:25<01:18,  1.84it/s]\u001b[A\n",
      "loss: tensor([-27.7127], device='cuda:0', grad_fn=<AddBackward0>):  52%|█████▏    | 157/300 [01:25<01:18,  1.83it/s]\u001b[A"
     ]
    },
    {
     "name": "stdout",
     "output_type": "stream",
     "text": [
      "image updated at \"./210215-054130-A_system_of_cells_interlinked_within_cells_interlinked_within_cells_interlinked_within_one_stem.png\"\n"
     ]
    },
    {
     "name": "stderr",
     "output_type": "stream",
     "text": [
      "\n",
      "loss: tensor([-27.9303], device='cuda:0', grad_fn=<AddBackward0>):  52%|█████▏    | 157/300 [01:26<01:18,  1.83it/s]\u001b[A\n",
      "loss: tensor([-27.9303], device='cuda:0', grad_fn=<AddBackward0>):  53%|█████▎    | 158/300 [01:26<01:17,  1.83it/s]\u001b[A"
     ]
    },
    {
     "name": "stdout",
     "output_type": "stream",
     "text": [
      "image updated at \"./210215-054130-A_system_of_cells_interlinked_within_cells_interlinked_within_cells_interlinked_within_one_stem.png\"\n"
     ]
    },
    {
     "name": "stderr",
     "output_type": "stream",
     "text": [
      "\n",
      "loss: tensor([-28.2670], device='cuda:0', grad_fn=<AddBackward0>):  53%|█████▎    | 158/300 [01:26<01:17,  1.83it/s]\u001b[A\n",
      "loss: tensor([-28.2670], device='cuda:0', grad_fn=<AddBackward0>):  53%|█████▎    | 159/300 [01:26<01:17,  1.83it/s]\u001b[A"
     ]
    },
    {
     "name": "stdout",
     "output_type": "stream",
     "text": [
      "image updated at \"./210215-054130-A_system_of_cells_interlinked_within_cells_interlinked_within_cells_interlinked_within_one_stem.png\"\n"
     ]
    },
    {
     "name": "stderr",
     "output_type": "stream",
     "text": [
      "\n",
      "loss: tensor([-27.5770], device='cuda:0', grad_fn=<AddBackward0>):  53%|█████▎    | 159/300 [01:27<01:17,  1.83it/s]\u001b[A\n",
      "loss: tensor([-27.5770], device='cuda:0', grad_fn=<AddBackward0>):  53%|█████▎    | 160/300 [01:27<01:15,  1.84it/s]\u001b[A"
     ]
    },
    {
     "name": "stdout",
     "output_type": "stream",
     "text": [
      "image updated at \"./210215-054130-A_system_of_cells_interlinked_within_cells_interlinked_within_cells_interlinked_within_one_stem.png\"\n"
     ]
    },
    {
     "name": "stderr",
     "output_type": "stream",
     "text": [
      "\n",
      "loss: tensor([-27.9872], device='cuda:0', grad_fn=<AddBackward0>):  53%|█████▎    | 160/300 [01:27<01:15,  1.84it/s]\u001b[A\n",
      "loss: tensor([-27.9872], device='cuda:0', grad_fn=<AddBackward0>):  54%|█████▎    | 161/300 [01:27<01:15,  1.85it/s]\u001b[A"
     ]
    },
    {
     "name": "stdout",
     "output_type": "stream",
     "text": [
      "image updated at \"./210215-054130-A_system_of_cells_interlinked_within_cells_interlinked_within_cells_interlinked_within_one_stem.png\"\n"
     ]
    },
    {
     "name": "stderr",
     "output_type": "stream",
     "text": [
      "\n",
      "loss: tensor([-28.1960], device='cuda:0', grad_fn=<AddBackward0>):  54%|█████▎    | 161/300 [01:28<01:15,  1.85it/s]\u001b[A\n",
      "loss: tensor([-28.1960], device='cuda:0', grad_fn=<AddBackward0>):  54%|█████▍    | 162/300 [01:28<01:14,  1.84it/s]\u001b[A"
     ]
    },
    {
     "name": "stdout",
     "output_type": "stream",
     "text": [
      "image updated at \"./210215-054130-A_system_of_cells_interlinked_within_cells_interlinked_within_cells_interlinked_within_one_stem.png\"\n"
     ]
    },
    {
     "name": "stderr",
     "output_type": "stream",
     "text": [
      "\n",
      "loss: tensor([-28.1773], device='cuda:0', grad_fn=<AddBackward0>):  54%|█████▍    | 162/300 [01:28<01:14,  1.84it/s]\u001b[A\n",
      "loss: tensor([-28.1773], device='cuda:0', grad_fn=<AddBackward0>):  54%|█████▍    | 163/300 [01:28<01:13,  1.85it/s]\u001b[A"
     ]
    },
    {
     "name": "stdout",
     "output_type": "stream",
     "text": [
      "image updated at \"./210215-054130-A_system_of_cells_interlinked_within_cells_interlinked_within_cells_interlinked_within_one_stem.png\"\n"
     ]
    },
    {
     "name": "stderr",
     "output_type": "stream",
     "text": [
      "\n",
      "loss: tensor([-28.1520], device='cuda:0', grad_fn=<AddBackward0>):  54%|█████▍    | 163/300 [01:29<01:13,  1.85it/s]\u001b[A\n",
      "loss: tensor([-28.1520], device='cuda:0', grad_fn=<AddBackward0>):  55%|█████▍    | 164/300 [01:29<01:13,  1.85it/s]\u001b[A"
     ]
    },
    {
     "name": "stdout",
     "output_type": "stream",
     "text": [
      "image updated at \"./210215-054130-A_system_of_cells_interlinked_within_cells_interlinked_within_cells_interlinked_within_one_stem.png\"\n"
     ]
    },
    {
     "name": "stderr",
     "output_type": "stream",
     "text": [
      "\n",
      "loss: tensor([-28.0677], device='cuda:0', grad_fn=<AddBackward0>):  55%|█████▍    | 164/300 [01:29<01:13,  1.85it/s]\u001b[A\n",
      "loss: tensor([-28.0677], device='cuda:0', grad_fn=<AddBackward0>):  55%|█████▌    | 165/300 [01:29<01:13,  1.84it/s]\u001b[A"
     ]
    },
    {
     "name": "stdout",
     "output_type": "stream",
     "text": [
      "image updated at \"./210215-054130-A_system_of_cells_interlinked_within_cells_interlinked_within_cells_interlinked_within_one_stem.png\"\n"
     ]
    },
    {
     "name": "stderr",
     "output_type": "stream",
     "text": [
      "\n",
      "loss: tensor([-28.1986], device='cuda:0', grad_fn=<AddBackward0>):  55%|█████▌    | 165/300 [01:30<01:13,  1.84it/s]\u001b[A\n",
      "loss: tensor([-28.1986], device='cuda:0', grad_fn=<AddBackward0>):  55%|█████▌    | 166/300 [01:30<01:12,  1.84it/s]\u001b[A"
     ]
    },
    {
     "name": "stdout",
     "output_type": "stream",
     "text": [
      "image updated at \"./210215-054130-A_system_of_cells_interlinked_within_cells_interlinked_within_cells_interlinked_within_one_stem.png\"\n"
     ]
    },
    {
     "name": "stderr",
     "output_type": "stream",
     "text": [
      "\n",
      "loss: tensor([-28.4739], device='cuda:0', grad_fn=<AddBackward0>):  55%|█████▌    | 166/300 [01:31<01:12,  1.84it/s]\u001b[A\n",
      "loss: tensor([-28.4739], device='cuda:0', grad_fn=<AddBackward0>):  56%|█████▌    | 167/300 [01:31<01:12,  1.84it/s]\u001b[A"
     ]
    },
    {
     "name": "stdout",
     "output_type": "stream",
     "text": [
      "image updated at \"./210215-054130-A_system_of_cells_interlinked_within_cells_interlinked_within_cells_interlinked_within_one_stem.png\"\n"
     ]
    },
    {
     "name": "stderr",
     "output_type": "stream",
     "text": [
      "\n",
      "loss: tensor([-28.2162], device='cuda:0', grad_fn=<AddBackward0>):  56%|█████▌    | 167/300 [01:31<01:12,  1.84it/s]\u001b[A\n",
      "loss: tensor([-28.2162], device='cuda:0', grad_fn=<AddBackward0>):  56%|█████▌    | 168/300 [01:31<01:11,  1.85it/s]\u001b[A"
     ]
    },
    {
     "name": "stdout",
     "output_type": "stream",
     "text": [
      "image updated at \"./210215-054130-A_system_of_cells_interlinked_within_cells_interlinked_within_cells_interlinked_within_one_stem.png\"\n"
     ]
    },
    {
     "name": "stderr",
     "output_type": "stream",
     "text": [
      "\n",
      "loss: tensor([-28.4450], device='cuda:0', grad_fn=<AddBackward0>):  56%|█████▌    | 168/300 [01:32<01:11,  1.85it/s]\u001b[A\n",
      "loss: tensor([-28.4450], device='cuda:0', grad_fn=<AddBackward0>):  56%|█████▋    | 169/300 [01:32<01:10,  1.86it/s]\u001b[A"
     ]
    },
    {
     "name": "stdout",
     "output_type": "stream",
     "text": [
      "image updated at \"./210215-054130-A_system_of_cells_interlinked_within_cells_interlinked_within_cells_interlinked_within_one_stem.png\"\n"
     ]
    },
    {
     "name": "stderr",
     "output_type": "stream",
     "text": [
      "\n",
      "loss: tensor([-28.3805], device='cuda:0', grad_fn=<AddBackward0>):  56%|█████▋    | 169/300 [01:32<01:10,  1.86it/s]\u001b[A\n",
      "loss: tensor([-28.3805], device='cuda:0', grad_fn=<AddBackward0>):  57%|█████▋    | 170/300 [01:32<01:09,  1.86it/s]\u001b[A"
     ]
    },
    {
     "name": "stdout",
     "output_type": "stream",
     "text": [
      "image updated at \"./210215-054130-A_system_of_cells_interlinked_within_cells_interlinked_within_cells_interlinked_within_one_stem.png\"\n"
     ]
    },
    {
     "name": "stderr",
     "output_type": "stream",
     "text": [
      "\n",
      "loss: tensor([-28.4984], device='cuda:0', grad_fn=<AddBackward0>):  57%|█████▋    | 170/300 [01:33<01:09,  1.86it/s]\u001b[A\n",
      "loss: tensor([-28.4984], device='cuda:0', grad_fn=<AddBackward0>):  57%|█████▋    | 171/300 [01:33<01:09,  1.87it/s]\u001b[A"
     ]
    },
    {
     "name": "stdout",
     "output_type": "stream",
     "text": [
      "image updated at \"./210215-054130-A_system_of_cells_interlinked_within_cells_interlinked_within_cells_interlinked_within_one_stem.png\"\n"
     ]
    },
    {
     "name": "stderr",
     "output_type": "stream",
     "text": [
      "\n",
      "loss: tensor([-28.3081], device='cuda:0', grad_fn=<AddBackward0>):  57%|█████▋    | 171/300 [01:33<01:09,  1.87it/s]\u001b[A\n",
      "loss: tensor([-28.3081], device='cuda:0', grad_fn=<AddBackward0>):  57%|█████▋    | 172/300 [01:33<01:08,  1.87it/s]\u001b[A"
     ]
    },
    {
     "name": "stdout",
     "output_type": "stream",
     "text": [
      "image updated at \"./210215-054130-A_system_of_cells_interlinked_within_cells_interlinked_within_cells_interlinked_within_one_stem.png\"\n"
     ]
    },
    {
     "name": "stderr",
     "output_type": "stream",
     "text": [
      "\n",
      "loss: tensor([-28.4969], device='cuda:0', grad_fn=<AddBackward0>):  57%|█████▋    | 172/300 [01:34<01:08,  1.87it/s]\u001b[A\n",
      "loss: tensor([-28.4969], device='cuda:0', grad_fn=<AddBackward0>):  58%|█████▊    | 173/300 [01:34<01:08,  1.86it/s]\u001b[A"
     ]
    },
    {
     "name": "stdout",
     "output_type": "stream",
     "text": [
      "image updated at \"./210215-054130-A_system_of_cells_interlinked_within_cells_interlinked_within_cells_interlinked_within_one_stem.png\"\n"
     ]
    },
    {
     "name": "stderr",
     "output_type": "stream",
     "text": [
      "\n",
      "loss: tensor([-28.3767], device='cuda:0', grad_fn=<AddBackward0>):  58%|█████▊    | 173/300 [01:34<01:08,  1.86it/s]\u001b[A\n",
      "loss: tensor([-28.3767], device='cuda:0', grad_fn=<AddBackward0>):  58%|█████▊    | 174/300 [01:34<01:07,  1.86it/s]\u001b[A"
     ]
    },
    {
     "name": "stdout",
     "output_type": "stream",
     "text": [
      "image updated at \"./210215-054130-A_system_of_cells_interlinked_within_cells_interlinked_within_cells_interlinked_within_one_stem.png\"\n"
     ]
    },
    {
     "name": "stderr",
     "output_type": "stream",
     "text": [
      "\n",
      "loss: tensor([-28.4430], device='cuda:0', grad_fn=<AddBackward0>):  58%|█████▊    | 174/300 [01:35<01:07,  1.86it/s]\u001b[A\n",
      "loss: tensor([-28.4430], device='cuda:0', grad_fn=<AddBackward0>):  58%|█████▊    | 175/300 [01:35<01:07,  1.85it/s]\u001b[A"
     ]
    },
    {
     "name": "stdout",
     "output_type": "stream",
     "text": [
      "image updated at \"./210215-054130-A_system_of_cells_interlinked_within_cells_interlinked_within_cells_interlinked_within_one_stem.png\"\n"
     ]
    },
    {
     "name": "stderr",
     "output_type": "stream",
     "text": [
      "\n",
      "loss: tensor([-28.5085], device='cuda:0', grad_fn=<AddBackward0>):  58%|█████▊    | 175/300 [01:35<01:07,  1.85it/s]\u001b[A\n",
      "loss: tensor([-28.5085], device='cuda:0', grad_fn=<AddBackward0>):  59%|█████▊    | 176/300 [01:35<01:06,  1.86it/s]\u001b[A"
     ]
    },
    {
     "name": "stdout",
     "output_type": "stream",
     "text": [
      "image updated at \"./210215-054130-A_system_of_cells_interlinked_within_cells_interlinked_within_cells_interlinked_within_one_stem.png\"\n"
     ]
    },
    {
     "name": "stderr",
     "output_type": "stream",
     "text": [
      "\n",
      "loss: tensor([-28.6930], device='cuda:0', grad_fn=<AddBackward0>):  59%|█████▊    | 176/300 [01:36<01:06,  1.86it/s]\u001b[A\n",
      "loss: tensor([-28.6930], device='cuda:0', grad_fn=<AddBackward0>):  59%|█████▉    | 177/300 [01:36<01:06,  1.85it/s]\u001b[A"
     ]
    },
    {
     "name": "stdout",
     "output_type": "stream",
     "text": [
      "image updated at \"./210215-054130-A_system_of_cells_interlinked_within_cells_interlinked_within_cells_interlinked_within_one_stem.png\"\n"
     ]
    },
    {
     "name": "stderr",
     "output_type": "stream",
     "text": [
      "\n",
      "loss: tensor([-28.4405], device='cuda:0', grad_fn=<AddBackward0>):  59%|█████▉    | 177/300 [01:36<01:06,  1.85it/s]\u001b[A\n",
      "loss: tensor([-28.4405], device='cuda:0', grad_fn=<AddBackward0>):  59%|█████▉    | 178/300 [01:36<01:05,  1.86it/s]\u001b[A"
     ]
    },
    {
     "name": "stdout",
     "output_type": "stream",
     "text": [
      "image updated at \"./210215-054130-A_system_of_cells_interlinked_within_cells_interlinked_within_cells_interlinked_within_one_stem.png\"\n"
     ]
    },
    {
     "name": "stderr",
     "output_type": "stream",
     "text": [
      "\n",
      "loss: tensor([-28.3442], device='cuda:0', grad_fn=<AddBackward0>):  59%|█████▉    | 178/300 [01:37<01:05,  1.86it/s]\u001b[A\n",
      "loss: tensor([-28.3442], device='cuda:0', grad_fn=<AddBackward0>):  60%|█████▉    | 179/300 [01:37<01:04,  1.86it/s]\u001b[A"
     ]
    },
    {
     "name": "stdout",
     "output_type": "stream",
     "text": [
      "image updated at \"./210215-054130-A_system_of_cells_interlinked_within_cells_interlinked_within_cells_interlinked_within_one_stem.png\"\n"
     ]
    },
    {
     "name": "stderr",
     "output_type": "stream",
     "text": [
      "\n",
      "loss: tensor([-28.4747], device='cuda:0', grad_fn=<AddBackward0>):  60%|█████▉    | 179/300 [01:38<01:04,  1.86it/s]\u001b[A\n",
      "loss: tensor([-28.4747], device='cuda:0', grad_fn=<AddBackward0>):  60%|██████    | 180/300 [01:38<01:04,  1.87it/s]\u001b[A"
     ]
    },
    {
     "name": "stdout",
     "output_type": "stream",
     "text": [
      "image updated at \"./210215-054130-A_system_of_cells_interlinked_within_cells_interlinked_within_cells_interlinked_within_one_stem.png\"\n"
     ]
    },
    {
     "name": "stderr",
     "output_type": "stream",
     "text": [
      "\n",
      "loss: tensor([-28.5340], device='cuda:0', grad_fn=<AddBackward0>):  60%|██████    | 180/300 [01:38<01:04,  1.87it/s]\u001b[A\n",
      "loss: tensor([-28.5340], device='cuda:0', grad_fn=<AddBackward0>):  60%|██████    | 181/300 [01:38<01:03,  1.87it/s]\u001b[A"
     ]
    },
    {
     "name": "stdout",
     "output_type": "stream",
     "text": [
      "image updated at \"./210215-054130-A_system_of_cells_interlinked_within_cells_interlinked_within_cells_interlinked_within_one_stem.png\"\n"
     ]
    },
    {
     "name": "stderr",
     "output_type": "stream",
     "text": [
      "\n",
      "loss: tensor([-28.7764], device='cuda:0', grad_fn=<AddBackward0>):  60%|██████    | 181/300 [01:39<01:03,  1.87it/s]\u001b[A\n",
      "loss: tensor([-28.7764], device='cuda:0', grad_fn=<AddBackward0>):  61%|██████    | 182/300 [01:39<01:04,  1.82it/s]\u001b[A"
     ]
    },
    {
     "name": "stdout",
     "output_type": "stream",
     "text": [
      "image updated at \"./210215-054130-A_system_of_cells_interlinked_within_cells_interlinked_within_cells_interlinked_within_one_stem.png\"\n"
     ]
    },
    {
     "name": "stderr",
     "output_type": "stream",
     "text": [
      "\n",
      "loss: tensor([-28.4268], device='cuda:0', grad_fn=<AddBackward0>):  61%|██████    | 182/300 [01:39<01:04,  1.82it/s]\u001b[A\n",
      "loss: tensor([-28.4268], device='cuda:0', grad_fn=<AddBackward0>):  61%|██████    | 183/300 [01:39<01:03,  1.84it/s]\u001b[A"
     ]
    },
    {
     "name": "stdout",
     "output_type": "stream",
     "text": [
      "image updated at \"./210215-054130-A_system_of_cells_interlinked_within_cells_interlinked_within_cells_interlinked_within_one_stem.png\"\n"
     ]
    },
    {
     "name": "stderr",
     "output_type": "stream",
     "text": [
      "\n",
      "loss: tensor([-28.7906], device='cuda:0', grad_fn=<AddBackward0>):  61%|██████    | 183/300 [01:40<01:03,  1.84it/s]\u001b[A\n",
      "loss: tensor([-28.7906], device='cuda:0', grad_fn=<AddBackward0>):  61%|██████▏   | 184/300 [01:40<01:02,  1.85it/s]\u001b[A"
     ]
    },
    {
     "name": "stdout",
     "output_type": "stream",
     "text": [
      "image updated at \"./210215-054130-A_system_of_cells_interlinked_within_cells_interlinked_within_cells_interlinked_within_one_stem.png\"\n"
     ]
    },
    {
     "name": "stderr",
     "output_type": "stream",
     "text": [
      "\n",
      "loss: tensor([-28.7915], device='cuda:0', grad_fn=<AddBackward0>):  61%|██████▏   | 184/300 [01:40<01:02,  1.85it/s]\u001b[A\n",
      "loss: tensor([-28.7915], device='cuda:0', grad_fn=<AddBackward0>):  62%|██████▏   | 185/300 [01:40<01:02,  1.84it/s]\u001b[A"
     ]
    },
    {
     "name": "stdout",
     "output_type": "stream",
     "text": [
      "image updated at \"./210215-054130-A_system_of_cells_interlinked_within_cells_interlinked_within_cells_interlinked_within_one_stem.png\"\n"
     ]
    },
    {
     "name": "stderr",
     "output_type": "stream",
     "text": [
      "\n",
      "loss: tensor([-28.5541], device='cuda:0', grad_fn=<AddBackward0>):  62%|██████▏   | 185/300 [01:41<01:02,  1.84it/s]\u001b[A\n",
      "loss: tensor([-28.5541], device='cuda:0', grad_fn=<AddBackward0>):  62%|██████▏   | 186/300 [01:41<01:01,  1.84it/s]\u001b[A"
     ]
    },
    {
     "name": "stdout",
     "output_type": "stream",
     "text": [
      "image updated at \"./210215-054130-A_system_of_cells_interlinked_within_cells_interlinked_within_cells_interlinked_within_one_stem.png\"\n"
     ]
    },
    {
     "name": "stderr",
     "output_type": "stream",
     "text": [
      "\n",
      "loss: tensor([-28.3277], device='cuda:0', grad_fn=<AddBackward0>):  62%|██████▏   | 186/300 [01:41<01:01,  1.84it/s]\u001b[A\n",
      "loss: tensor([-28.3277], device='cuda:0', grad_fn=<AddBackward0>):  62%|██████▏   | 187/300 [01:41<01:01,  1.84it/s]\u001b[A"
     ]
    },
    {
     "name": "stdout",
     "output_type": "stream",
     "text": [
      "image updated at \"./210215-054130-A_system_of_cells_interlinked_within_cells_interlinked_within_cells_interlinked_within_one_stem.png\"\n"
     ]
    },
    {
     "name": "stderr",
     "output_type": "stream",
     "text": [
      "\n",
      "loss: tensor([-28.8129], device='cuda:0', grad_fn=<AddBackward0>):  62%|██████▏   | 187/300 [01:42<01:01,  1.84it/s]\u001b[A\n",
      "loss: tensor([-28.8129], device='cuda:0', grad_fn=<AddBackward0>):  63%|██████▎   | 188/300 [01:42<01:00,  1.85it/s]\u001b[A"
     ]
    },
    {
     "name": "stdout",
     "output_type": "stream",
     "text": [
      "image updated at \"./210215-054130-A_system_of_cells_interlinked_within_cells_interlinked_within_cells_interlinked_within_one_stem.png\"\n"
     ]
    },
    {
     "name": "stderr",
     "output_type": "stream",
     "text": [
      "\n",
      "loss: tensor([-28.6277], device='cuda:0', grad_fn=<AddBackward0>):  63%|██████▎   | 188/300 [01:42<01:00,  1.85it/s]\u001b[A\n",
      "loss: tensor([-28.6277], device='cuda:0', grad_fn=<AddBackward0>):  63%|██████▎   | 189/300 [01:42<00:59,  1.86it/s]\u001b[A"
     ]
    },
    {
     "name": "stdout",
     "output_type": "stream",
     "text": [
      "image updated at \"./210215-054130-A_system_of_cells_interlinked_within_cells_interlinked_within_cells_interlinked_within_one_stem.png\"\n"
     ]
    },
    {
     "name": "stderr",
     "output_type": "stream",
     "text": [
      "\n",
      "loss: tensor([-28.9670], device='cuda:0', grad_fn=<AddBackward0>):  63%|██████▎   | 189/300 [01:43<00:59,  1.86it/s]\u001b[A\n",
      "loss: tensor([-28.9670], device='cuda:0', grad_fn=<AddBackward0>):  63%|██████▎   | 190/300 [01:43<00:59,  1.85it/s]\u001b[A"
     ]
    },
    {
     "name": "stdout",
     "output_type": "stream",
     "text": [
      "image updated at \"./210215-054130-A_system_of_cells_interlinked_within_cells_interlinked_within_cells_interlinked_within_one_stem.png\"\n"
     ]
    },
    {
     "name": "stderr",
     "output_type": "stream",
     "text": [
      "\n",
      "loss: tensor([-28.4379], device='cuda:0', grad_fn=<AddBackward0>):  63%|██████▎   | 190/300 [01:44<00:59,  1.85it/s]\u001b[A\n",
      "loss: tensor([-28.4379], device='cuda:0', grad_fn=<AddBackward0>):  64%|██████▎   | 191/300 [01:44<00:58,  1.85it/s]\u001b[A"
     ]
    },
    {
     "name": "stdout",
     "output_type": "stream",
     "text": [
      "image updated at \"./210215-054130-A_system_of_cells_interlinked_within_cells_interlinked_within_cells_interlinked_within_one_stem.png\"\n"
     ]
    },
    {
     "name": "stderr",
     "output_type": "stream",
     "text": [
      "\n",
      "loss: tensor([-29.1463], device='cuda:0', grad_fn=<AddBackward0>):  64%|██████▎   | 191/300 [01:44<00:58,  1.85it/s]\u001b[A\n",
      "loss: tensor([-29.1463], device='cuda:0', grad_fn=<AddBackward0>):  64%|██████▍   | 192/300 [01:44<00:58,  1.84it/s]\u001b[A"
     ]
    },
    {
     "name": "stdout",
     "output_type": "stream",
     "text": [
      "image updated at \"./210215-054130-A_system_of_cells_interlinked_within_cells_interlinked_within_cells_interlinked_within_one_stem.png\"\n"
     ]
    },
    {
     "name": "stderr",
     "output_type": "stream",
     "text": [
      "\n",
      "loss: tensor([-28.7576], device='cuda:0', grad_fn=<AddBackward0>):  64%|██████▍   | 192/300 [01:45<00:58,  1.84it/s]\u001b[A\n",
      "loss: tensor([-28.7576], device='cuda:0', grad_fn=<AddBackward0>):  64%|██████▍   | 193/300 [01:45<00:58,  1.83it/s]\u001b[A"
     ]
    },
    {
     "name": "stdout",
     "output_type": "stream",
     "text": [
      "image updated at \"./210215-054130-A_system_of_cells_interlinked_within_cells_interlinked_within_cells_interlinked_within_one_stem.png\"\n"
     ]
    },
    {
     "name": "stderr",
     "output_type": "stream",
     "text": [
      "\n",
      "loss: tensor([-28.5443], device='cuda:0', grad_fn=<AddBackward0>):  64%|██████▍   | 193/300 [01:45<00:58,  1.83it/s]\u001b[A\n",
      "loss: tensor([-28.5443], device='cuda:0', grad_fn=<AddBackward0>):  65%|██████▍   | 194/300 [01:45<00:58,  1.81it/s]\u001b[A"
     ]
    },
    {
     "name": "stdout",
     "output_type": "stream",
     "text": [
      "image updated at \"./210215-054130-A_system_of_cells_interlinked_within_cells_interlinked_within_cells_interlinked_within_one_stem.png\"\n"
     ]
    },
    {
     "name": "stderr",
     "output_type": "stream",
     "text": [
      "\n",
      "loss: tensor([-28.7376], device='cuda:0', grad_fn=<AddBackward0>):  65%|██████▍   | 194/300 [01:46<00:58,  1.81it/s]\u001b[A\n",
      "loss: tensor([-28.7376], device='cuda:0', grad_fn=<AddBackward0>):  65%|██████▌   | 195/300 [01:46<00:57,  1.83it/s]\u001b[A"
     ]
    },
    {
     "name": "stdout",
     "output_type": "stream",
     "text": [
      "image updated at \"./210215-054130-A_system_of_cells_interlinked_within_cells_interlinked_within_cells_interlinked_within_one_stem.png\"\n"
     ]
    },
    {
     "name": "stderr",
     "output_type": "stream",
     "text": [
      "\n",
      "loss: tensor([-29.1019], device='cuda:0', grad_fn=<AddBackward0>):  65%|██████▌   | 195/300 [01:46<00:57,  1.83it/s]\u001b[A\n",
      "loss: tensor([-29.1019], device='cuda:0', grad_fn=<AddBackward0>):  65%|██████▌   | 196/300 [01:46<00:56,  1.83it/s]\u001b[A"
     ]
    },
    {
     "name": "stdout",
     "output_type": "stream",
     "text": [
      "image updated at \"./210215-054130-A_system_of_cells_interlinked_within_cells_interlinked_within_cells_interlinked_within_one_stem.png\"\n"
     ]
    },
    {
     "name": "stderr",
     "output_type": "stream",
     "text": [
      "\n",
      "loss: tensor([-28.6494], device='cuda:0', grad_fn=<AddBackward0>):  65%|██████▌   | 196/300 [01:47<00:56,  1.83it/s]\u001b[A\n",
      "loss: tensor([-28.6494], device='cuda:0', grad_fn=<AddBackward0>):  66%|██████▌   | 197/300 [01:47<00:56,  1.83it/s]\u001b[A"
     ]
    },
    {
     "name": "stdout",
     "output_type": "stream",
     "text": [
      "image updated at \"./210215-054130-A_system_of_cells_interlinked_within_cells_interlinked_within_cells_interlinked_within_one_stem.png\"\n"
     ]
    },
    {
     "name": "stderr",
     "output_type": "stream",
     "text": [
      "\n",
      "loss: tensor([-29.1296], device='cuda:0', grad_fn=<AddBackward0>):  66%|██████▌   | 197/300 [01:47<00:56,  1.83it/s]\u001b[A\n",
      "loss: tensor([-29.1296], device='cuda:0', grad_fn=<AddBackward0>):  66%|██████▌   | 198/300 [01:47<00:55,  1.84it/s]\u001b[A"
     ]
    },
    {
     "name": "stdout",
     "output_type": "stream",
     "text": [
      "image updated at \"./210215-054130-A_system_of_cells_interlinked_within_cells_interlinked_within_cells_interlinked_within_one_stem.png\"\n"
     ]
    },
    {
     "name": "stderr",
     "output_type": "stream",
     "text": [
      "\n",
      "loss: tensor([-28.9605], device='cuda:0', grad_fn=<AddBackward0>):  66%|██████▌   | 198/300 [01:48<00:55,  1.84it/s]\u001b[A\n",
      "loss: tensor([-28.9605], device='cuda:0', grad_fn=<AddBackward0>):  66%|██████▋   | 199/300 [01:48<00:54,  1.84it/s]\u001b[A"
     ]
    },
    {
     "name": "stdout",
     "output_type": "stream",
     "text": [
      "image updated at \"./210215-054130-A_system_of_cells_interlinked_within_cells_interlinked_within_cells_interlinked_within_one_stem.png\"\n"
     ]
    },
    {
     "name": "stderr",
     "output_type": "stream",
     "text": [
      "\n",
      "loss: tensor([-28.9367], device='cuda:0', grad_fn=<AddBackward0>):  66%|██████▋   | 199/300 [01:48<00:54,  1.84it/s]\u001b[A\n",
      "loss: tensor([-28.9367], device='cuda:0', grad_fn=<AddBackward0>):  67%|██████▋   | 200/300 [01:48<00:54,  1.84it/s]\u001b[A"
     ]
    },
    {
     "name": "stdout",
     "output_type": "stream",
     "text": [
      "image updated at \"./210215-054130-A_system_of_cells_interlinked_within_cells_interlinked_within_cells_interlinked_within_one_stem.png\"\n"
     ]
    },
    {
     "name": "stderr",
     "output_type": "stream",
     "text": [
      "\n",
      "loss: tensor([-29.2822], device='cuda:0', grad_fn=<AddBackward0>):  67%|██████▋   | 200/300 [01:49<00:54,  1.84it/s]\u001b[A\n",
      "loss: tensor([-29.2822], device='cuda:0', grad_fn=<AddBackward0>):  67%|██████▋   | 201/300 [01:49<00:54,  1.83it/s]\u001b[A"
     ]
    },
    {
     "name": "stdout",
     "output_type": "stream",
     "text": [
      "image updated at \"./210215-054130-A_system_of_cells_interlinked_within_cells_interlinked_within_cells_interlinked_within_one_stem.png\"\n"
     ]
    },
    {
     "name": "stderr",
     "output_type": "stream",
     "text": [
      "\n",
      "loss: tensor([-28.9748], device='cuda:0', grad_fn=<AddBackward0>):  67%|██████▋   | 201/300 [01:50<00:54,  1.83it/s]\u001b[A\n",
      "loss: tensor([-28.9748], device='cuda:0', grad_fn=<AddBackward0>):  67%|██████▋   | 202/300 [01:50<00:53,  1.83it/s]\u001b[A"
     ]
    },
    {
     "name": "stdout",
     "output_type": "stream",
     "text": [
      "image updated at \"./210215-054130-A_system_of_cells_interlinked_within_cells_interlinked_within_cells_interlinked_within_one_stem.png\"\n"
     ]
    },
    {
     "name": "stderr",
     "output_type": "stream",
     "text": [
      "\n",
      "loss: tensor([-29.0072], device='cuda:0', grad_fn=<AddBackward0>):  67%|██████▋   | 202/300 [01:50<00:53,  1.83it/s]\u001b[A\n",
      "loss: tensor([-29.0072], device='cuda:0', grad_fn=<AddBackward0>):  68%|██████▊   | 203/300 [01:50<00:53,  1.83it/s]\u001b[A"
     ]
    },
    {
     "name": "stdout",
     "output_type": "stream",
     "text": [
      "image updated at \"./210215-054130-A_system_of_cells_interlinked_within_cells_interlinked_within_cells_interlinked_within_one_stem.png\"\n"
     ]
    },
    {
     "name": "stderr",
     "output_type": "stream",
     "text": [
      "\n",
      "loss: tensor([-28.9124], device='cuda:0', grad_fn=<AddBackward0>):  68%|██████▊   | 203/300 [01:51<00:53,  1.83it/s]\u001b[A\n",
      "loss: tensor([-28.9124], device='cuda:0', grad_fn=<AddBackward0>):  68%|██████▊   | 204/300 [01:51<00:52,  1.82it/s]\u001b[A"
     ]
    },
    {
     "name": "stdout",
     "output_type": "stream",
     "text": [
      "image updated at \"./210215-054130-A_system_of_cells_interlinked_within_cells_interlinked_within_cells_interlinked_within_one_stem.png\"\n"
     ]
    },
    {
     "name": "stderr",
     "output_type": "stream",
     "text": [
      "\n",
      "loss: tensor([-29.1893], device='cuda:0', grad_fn=<AddBackward0>):  68%|██████▊   | 204/300 [01:51<00:52,  1.82it/s]\u001b[A\n",
      "loss: tensor([-29.1893], device='cuda:0', grad_fn=<AddBackward0>):  68%|██████▊   | 205/300 [01:51<00:52,  1.82it/s]\u001b[A"
     ]
    },
    {
     "name": "stdout",
     "output_type": "stream",
     "text": [
      "image updated at \"./210215-054130-A_system_of_cells_interlinked_within_cells_interlinked_within_cells_interlinked_within_one_stem.png\"\n"
     ]
    },
    {
     "name": "stderr",
     "output_type": "stream",
     "text": [
      "\n",
      "loss: tensor([-29.2155], device='cuda:0', grad_fn=<AddBackward0>):  68%|██████▊   | 205/300 [01:52<00:52,  1.82it/s]\u001b[A\n",
      "loss: tensor([-29.2155], device='cuda:0', grad_fn=<AddBackward0>):  69%|██████▊   | 206/300 [01:52<00:51,  1.82it/s]\u001b[A"
     ]
    },
    {
     "name": "stdout",
     "output_type": "stream",
     "text": [
      "image updated at \"./210215-054130-A_system_of_cells_interlinked_within_cells_interlinked_within_cells_interlinked_within_one_stem.png\"\n"
     ]
    },
    {
     "name": "stderr",
     "output_type": "stream",
     "text": [
      "\n",
      "loss: tensor([-29.0372], device='cuda:0', grad_fn=<AddBackward0>):  69%|██████▊   | 206/300 [01:52<00:51,  1.82it/s]\u001b[A\n",
      "loss: tensor([-29.0372], device='cuda:0', grad_fn=<AddBackward0>):  69%|██████▉   | 207/300 [01:52<00:50,  1.82it/s]\u001b[A"
     ]
    },
    {
     "name": "stdout",
     "output_type": "stream",
     "text": [
      "image updated at \"./210215-054130-A_system_of_cells_interlinked_within_cells_interlinked_within_cells_interlinked_within_one_stem.png\"\n"
     ]
    },
    {
     "name": "stderr",
     "output_type": "stream",
     "text": [
      "\n",
      "loss: tensor([-29.1985], device='cuda:0', grad_fn=<AddBackward0>):  69%|██████▉   | 207/300 [01:53<00:50,  1.82it/s]\u001b[A\n",
      "loss: tensor([-29.1985], device='cuda:0', grad_fn=<AddBackward0>):  69%|██████▉   | 208/300 [01:53<00:50,  1.83it/s]\u001b[A"
     ]
    },
    {
     "name": "stdout",
     "output_type": "stream",
     "text": [
      "image updated at \"./210215-054130-A_system_of_cells_interlinked_within_cells_interlinked_within_cells_interlinked_within_one_stem.png\"\n"
     ]
    },
    {
     "name": "stderr",
     "output_type": "stream",
     "text": [
      "\n",
      "loss: tensor([-28.9487], device='cuda:0', grad_fn=<AddBackward0>):  69%|██████▉   | 208/300 [01:53<00:50,  1.83it/s]\u001b[A\n",
      "loss: tensor([-28.9487], device='cuda:0', grad_fn=<AddBackward0>):  70%|██████▉   | 209/300 [01:53<00:49,  1.84it/s]\u001b[A"
     ]
    },
    {
     "name": "stdout",
     "output_type": "stream",
     "text": [
      "image updated at \"./210215-054130-A_system_of_cells_interlinked_within_cells_interlinked_within_cells_interlinked_within_one_stem.png\"\n"
     ]
    },
    {
     "name": "stderr",
     "output_type": "stream",
     "text": [
      "\n",
      "loss: tensor([-28.4790], device='cuda:0', grad_fn=<AddBackward0>):  70%|██████▉   | 209/300 [01:54<00:49,  1.84it/s]\u001b[A\n",
      "loss: tensor([-28.4790], device='cuda:0', grad_fn=<AddBackward0>):  70%|███████   | 210/300 [01:54<00:49,  1.84it/s]\u001b[A"
     ]
    },
    {
     "name": "stdout",
     "output_type": "stream",
     "text": [
      "image updated at \"./210215-054130-A_system_of_cells_interlinked_within_cells_interlinked_within_cells_interlinked_within_one_stem.png\"\n"
     ]
    },
    {
     "name": "stderr",
     "output_type": "stream",
     "text": [
      "\n",
      "loss: tensor([-29.2434], device='cuda:0', grad_fn=<AddBackward0>):  70%|███████   | 210/300 [01:54<00:49,  1.84it/s]\u001b[A\n",
      "loss: tensor([-29.2434], device='cuda:0', grad_fn=<AddBackward0>):  70%|███████   | 211/300 [01:54<00:48,  1.84it/s]\u001b[A"
     ]
    },
    {
     "name": "stdout",
     "output_type": "stream",
     "text": [
      "image updated at \"./210215-054130-A_system_of_cells_interlinked_within_cells_interlinked_within_cells_interlinked_within_one_stem.png\"\n"
     ]
    },
    {
     "name": "stderr",
     "output_type": "stream",
     "text": [
      "\n",
      "loss: tensor([-28.3401], device='cuda:0', grad_fn=<AddBackward0>):  70%|███████   | 211/300 [01:55<00:48,  1.84it/s]\u001b[A\n",
      "loss: tensor([-28.3401], device='cuda:0', grad_fn=<AddBackward0>):  71%|███████   | 212/300 [01:55<00:48,  1.82it/s]\u001b[A"
     ]
    },
    {
     "name": "stdout",
     "output_type": "stream",
     "text": [
      "image updated at \"./210215-054130-A_system_of_cells_interlinked_within_cells_interlinked_within_cells_interlinked_within_one_stem.png\"\n"
     ]
    },
    {
     "name": "stderr",
     "output_type": "stream",
     "text": [
      "\n",
      "loss: tensor([-29.4460], device='cuda:0', grad_fn=<AddBackward0>):  71%|███████   | 212/300 [01:56<00:48,  1.82it/s]\u001b[A\n",
      "loss: tensor([-29.4460], device='cuda:0', grad_fn=<AddBackward0>):  71%|███████   | 213/300 [01:56<00:47,  1.83it/s]\u001b[A"
     ]
    },
    {
     "name": "stdout",
     "output_type": "stream",
     "text": [
      "image updated at \"./210215-054130-A_system_of_cells_interlinked_within_cells_interlinked_within_cells_interlinked_within_one_stem.png\"\n"
     ]
    },
    {
     "name": "stderr",
     "output_type": "stream",
     "text": [
      "\n",
      "loss: tensor([-28.9467], device='cuda:0', grad_fn=<AddBackward0>):  71%|███████   | 213/300 [01:56<00:47,  1.83it/s]\u001b[A\n",
      "loss: tensor([-28.9467], device='cuda:0', grad_fn=<AddBackward0>):  71%|███████▏  | 214/300 [01:56<00:47,  1.83it/s]\u001b[A"
     ]
    },
    {
     "name": "stdout",
     "output_type": "stream",
     "text": [
      "image updated at \"./210215-054130-A_system_of_cells_interlinked_within_cells_interlinked_within_cells_interlinked_within_one_stem.png\"\n"
     ]
    },
    {
     "name": "stderr",
     "output_type": "stream",
     "text": [
      "\n",
      "loss: tensor([-28.8799], device='cuda:0', grad_fn=<AddBackward0>):  71%|███████▏  | 214/300 [01:57<00:47,  1.83it/s]\u001b[A\n",
      "loss: tensor([-28.8799], device='cuda:0', grad_fn=<AddBackward0>):  72%|███████▏  | 215/300 [01:57<00:46,  1.84it/s]\u001b[A"
     ]
    },
    {
     "name": "stdout",
     "output_type": "stream",
     "text": [
      "image updated at \"./210215-054130-A_system_of_cells_interlinked_within_cells_interlinked_within_cells_interlinked_within_one_stem.png\"\n"
     ]
    },
    {
     "name": "stderr",
     "output_type": "stream",
     "text": [
      "\n",
      "loss: tensor([-28.7516], device='cuda:0', grad_fn=<AddBackward0>):  72%|███████▏  | 215/300 [01:57<00:46,  1.84it/s]\u001b[A\n",
      "loss: tensor([-28.7516], device='cuda:0', grad_fn=<AddBackward0>):  72%|███████▏  | 216/300 [01:57<00:45,  1.84it/s]\u001b[A"
     ]
    },
    {
     "name": "stdout",
     "output_type": "stream",
     "text": [
      "image updated at \"./210215-054130-A_system_of_cells_interlinked_within_cells_interlinked_within_cells_interlinked_within_one_stem.png\"\n"
     ]
    },
    {
     "name": "stderr",
     "output_type": "stream",
     "text": [
      "\n",
      "loss: tensor([-29.0950], device='cuda:0', grad_fn=<AddBackward0>):  72%|███████▏  | 216/300 [01:58<00:45,  1.84it/s]\u001b[A\n",
      "loss: tensor([-29.0950], device='cuda:0', grad_fn=<AddBackward0>):  72%|███████▏  | 217/300 [01:58<00:45,  1.84it/s]\u001b[A"
     ]
    },
    {
     "name": "stdout",
     "output_type": "stream",
     "text": [
      "image updated at \"./210215-054130-A_system_of_cells_interlinked_within_cells_interlinked_within_cells_interlinked_within_one_stem.png\"\n"
     ]
    },
    {
     "name": "stderr",
     "output_type": "stream",
     "text": [
      "\n",
      "loss: tensor([-28.8838], device='cuda:0', grad_fn=<AddBackward0>):  72%|███████▏  | 217/300 [01:58<00:45,  1.84it/s]\u001b[A\n",
      "loss: tensor([-28.8838], device='cuda:0', grad_fn=<AddBackward0>):  73%|███████▎  | 218/300 [01:58<00:44,  1.84it/s]\u001b[A"
     ]
    },
    {
     "name": "stdout",
     "output_type": "stream",
     "text": [
      "image updated at \"./210215-054130-A_system_of_cells_interlinked_within_cells_interlinked_within_cells_interlinked_within_one_stem.png\"\n"
     ]
    },
    {
     "name": "stderr",
     "output_type": "stream",
     "text": [
      "\n",
      "loss: tensor([-29.0394], device='cuda:0', grad_fn=<AddBackward0>):  73%|███████▎  | 218/300 [01:59<00:44,  1.84it/s]\u001b[A\n",
      "loss: tensor([-29.0394], device='cuda:0', grad_fn=<AddBackward0>):  73%|███████▎  | 219/300 [01:59<00:44,  1.83it/s]\u001b[A"
     ]
    },
    {
     "name": "stdout",
     "output_type": "stream",
     "text": [
      "image updated at \"./210215-054130-A_system_of_cells_interlinked_within_cells_interlinked_within_cells_interlinked_within_one_stem.png\"\n"
     ]
    },
    {
     "name": "stderr",
     "output_type": "stream",
     "text": [
      "\n",
      "loss: tensor([-28.7797], device='cuda:0', grad_fn=<AddBackward0>):  73%|███████▎  | 219/300 [01:59<00:44,  1.83it/s]\u001b[A\n",
      "loss: tensor([-28.7797], device='cuda:0', grad_fn=<AddBackward0>):  73%|███████▎  | 220/300 [01:59<00:44,  1.82it/s]\u001b[A"
     ]
    },
    {
     "name": "stdout",
     "output_type": "stream",
     "text": [
      "image updated at \"./210215-054130-A_system_of_cells_interlinked_within_cells_interlinked_within_cells_interlinked_within_one_stem.png\"\n"
     ]
    },
    {
     "name": "stderr",
     "output_type": "stream",
     "text": [
      "\n",
      "loss: tensor([-28.8705], device='cuda:0', grad_fn=<AddBackward0>):  73%|███████▎  | 220/300 [02:00<00:44,  1.82it/s]\u001b[A\n",
      "loss: tensor([-28.8705], device='cuda:0', grad_fn=<AddBackward0>):  74%|███████▎  | 221/300 [02:00<00:43,  1.82it/s]\u001b[A"
     ]
    },
    {
     "name": "stdout",
     "output_type": "stream",
     "text": [
      "image updated at \"./210215-054130-A_system_of_cells_interlinked_within_cells_interlinked_within_cells_interlinked_within_one_stem.png\"\n"
     ]
    },
    {
     "name": "stderr",
     "output_type": "stream",
     "text": [
      "\n",
      "loss: tensor([-28.8176], device='cuda:0', grad_fn=<AddBackward0>):  74%|███████▎  | 221/300 [02:00<00:43,  1.82it/s]\u001b[A\n",
      "loss: tensor([-28.8176], device='cuda:0', grad_fn=<AddBackward0>):  74%|███████▍  | 222/300 [02:00<00:42,  1.82it/s]\u001b[A"
     ]
    },
    {
     "name": "stdout",
     "output_type": "stream",
     "text": [
      "image updated at \"./210215-054130-A_system_of_cells_interlinked_within_cells_interlinked_within_cells_interlinked_within_one_stem.png\"\n"
     ]
    },
    {
     "name": "stderr",
     "output_type": "stream",
     "text": [
      "\n",
      "loss: tensor([-29.0957], device='cuda:0', grad_fn=<AddBackward0>):  74%|███████▍  | 222/300 [02:01<00:42,  1.82it/s]\u001b[A\n",
      "loss: tensor([-29.0957], device='cuda:0', grad_fn=<AddBackward0>):  74%|███████▍  | 223/300 [02:01<00:41,  1.84it/s]\u001b[A"
     ]
    },
    {
     "name": "stdout",
     "output_type": "stream",
     "text": [
      "image updated at \"./210215-054130-A_system_of_cells_interlinked_within_cells_interlinked_within_cells_interlinked_within_one_stem.png\"\n"
     ]
    },
    {
     "name": "stderr",
     "output_type": "stream",
     "text": [
      "\n",
      "loss: tensor([-28.5685], device='cuda:0', grad_fn=<AddBackward0>):  74%|███████▍  | 223/300 [02:02<00:41,  1.84it/s]\u001b[A\n",
      "loss: tensor([-28.5685], device='cuda:0', grad_fn=<AddBackward0>):  75%|███████▍  | 224/300 [02:02<00:41,  1.84it/s]\u001b[A"
     ]
    },
    {
     "name": "stdout",
     "output_type": "stream",
     "text": [
      "image updated at \"./210215-054130-A_system_of_cells_interlinked_within_cells_interlinked_within_cells_interlinked_within_one_stem.png\"\n"
     ]
    },
    {
     "name": "stderr",
     "output_type": "stream",
     "text": [
      "\n",
      "loss: tensor([-29.3802], device='cuda:0', grad_fn=<AddBackward0>):  75%|███████▍  | 224/300 [02:02<00:41,  1.84it/s]\u001b[A\n",
      "loss: tensor([-29.3802], device='cuda:0', grad_fn=<AddBackward0>):  75%|███████▌  | 225/300 [02:02<00:40,  1.84it/s]\u001b[A"
     ]
    },
    {
     "name": "stdout",
     "output_type": "stream",
     "text": [
      "image updated at \"./210215-054130-A_system_of_cells_interlinked_within_cells_interlinked_within_cells_interlinked_within_one_stem.png\"\n"
     ]
    },
    {
     "name": "stderr",
     "output_type": "stream",
     "text": [
      "\n",
      "loss: tensor([-29.1224], device='cuda:0', grad_fn=<AddBackward0>):  75%|███████▌  | 225/300 [02:03<00:40,  1.84it/s]\u001b[A\n",
      "loss: tensor([-29.1224], device='cuda:0', grad_fn=<AddBackward0>):  75%|███████▌  | 226/300 [02:03<00:40,  1.84it/s]\u001b[A"
     ]
    },
    {
     "name": "stdout",
     "output_type": "stream",
     "text": [
      "image updated at \"./210215-054130-A_system_of_cells_interlinked_within_cells_interlinked_within_cells_interlinked_within_one_stem.png\"\n"
     ]
    },
    {
     "name": "stderr",
     "output_type": "stream",
     "text": [
      "\n",
      "loss: tensor([-29.3778], device='cuda:0', grad_fn=<AddBackward0>):  75%|███████▌  | 226/300 [02:03<00:40,  1.84it/s]\u001b[A\n",
      "loss: tensor([-29.3778], device='cuda:0', grad_fn=<AddBackward0>):  76%|███████▌  | 227/300 [02:03<00:39,  1.84it/s]\u001b[A"
     ]
    },
    {
     "name": "stdout",
     "output_type": "stream",
     "text": [
      "image updated at \"./210215-054130-A_system_of_cells_interlinked_within_cells_interlinked_within_cells_interlinked_within_one_stem.png\"\n"
     ]
    },
    {
     "name": "stderr",
     "output_type": "stream",
     "text": [
      "\n",
      "loss: tensor([-28.9513], device='cuda:0', grad_fn=<AddBackward0>):  76%|███████▌  | 227/300 [02:04<00:39,  1.84it/s]\u001b[A\n",
      "loss: tensor([-28.9513], device='cuda:0', grad_fn=<AddBackward0>):  76%|███████▌  | 228/300 [02:04<00:39,  1.84it/s]\u001b[A"
     ]
    },
    {
     "name": "stdout",
     "output_type": "stream",
     "text": [
      "image updated at \"./210215-054130-A_system_of_cells_interlinked_within_cells_interlinked_within_cells_interlinked_within_one_stem.png\"\n"
     ]
    },
    {
     "name": "stderr",
     "output_type": "stream",
     "text": [
      "\n",
      "loss: tensor([-29.2467], device='cuda:0', grad_fn=<AddBackward0>):  76%|███████▌  | 228/300 [02:04<00:39,  1.84it/s]\u001b[A\n",
      "loss: tensor([-29.2467], device='cuda:0', grad_fn=<AddBackward0>):  76%|███████▋  | 229/300 [02:04<00:39,  1.80it/s]\u001b[A"
     ]
    },
    {
     "name": "stdout",
     "output_type": "stream",
     "text": [
      "image updated at \"./210215-054130-A_system_of_cells_interlinked_within_cells_interlinked_within_cells_interlinked_within_one_stem.png\"\n"
     ]
    },
    {
     "name": "stderr",
     "output_type": "stream",
     "text": [
      "\n",
      "loss: tensor([-29.1719], device='cuda:0', grad_fn=<AddBackward0>):  76%|███████▋  | 229/300 [02:05<00:39,  1.80it/s]\u001b[A\n",
      "loss: tensor([-29.1719], device='cuda:0', grad_fn=<AddBackward0>):  77%|███████▋  | 230/300 [02:05<00:39,  1.77it/s]\u001b[A"
     ]
    },
    {
     "name": "stdout",
     "output_type": "stream",
     "text": [
      "image updated at \"./210215-054130-A_system_of_cells_interlinked_within_cells_interlinked_within_cells_interlinked_within_one_stem.png\"\n"
     ]
    },
    {
     "name": "stderr",
     "output_type": "stream",
     "text": [
      "\n",
      "loss: tensor([-29.2097], device='cuda:0', grad_fn=<AddBackward0>):  77%|███████▋  | 230/300 [02:05<00:39,  1.77it/s]\u001b[A\n",
      "loss: tensor([-29.2097], device='cuda:0', grad_fn=<AddBackward0>):  77%|███████▋  | 231/300 [02:06<00:39,  1.74it/s]\u001b[A"
     ]
    },
    {
     "name": "stdout",
     "output_type": "stream",
     "text": [
      "image updated at \"./210215-054130-A_system_of_cells_interlinked_within_cells_interlinked_within_cells_interlinked_within_one_stem.png\"\n"
     ]
    },
    {
     "name": "stderr",
     "output_type": "stream",
     "text": [
      "\n",
      "loss: tensor([-29.3465], device='cuda:0', grad_fn=<AddBackward0>):  77%|███████▋  | 231/300 [02:06<00:39,  1.74it/s]\u001b[A\n",
      "loss: tensor([-29.3465], device='cuda:0', grad_fn=<AddBackward0>):  77%|███████▋  | 232/300 [02:06<00:39,  1.71it/s]\u001b[A"
     ]
    },
    {
     "name": "stdout",
     "output_type": "stream",
     "text": [
      "image updated at \"./210215-054130-A_system_of_cells_interlinked_within_cells_interlinked_within_cells_interlinked_within_one_stem.png\"\n"
     ]
    },
    {
     "name": "stderr",
     "output_type": "stream",
     "text": [
      "\n",
      "loss: tensor([-29.1346], device='cuda:0', grad_fn=<AddBackward0>):  77%|███████▋  | 232/300 [02:07<00:39,  1.71it/s]\u001b[A\n",
      "loss: tensor([-29.1346], device='cuda:0', grad_fn=<AddBackward0>):  78%|███████▊  | 233/300 [02:07<00:39,  1.70it/s]\u001b[A"
     ]
    },
    {
     "name": "stdout",
     "output_type": "stream",
     "text": [
      "image updated at \"./210215-054130-A_system_of_cells_interlinked_within_cells_interlinked_within_cells_interlinked_within_one_stem.png\"\n"
     ]
    },
    {
     "name": "stderr",
     "output_type": "stream",
     "text": [
      "\n",
      "loss: tensor([-29.2833], device='cuda:0', grad_fn=<AddBackward0>):  78%|███████▊  | 233/300 [02:07<00:39,  1.70it/s]\u001b[A\n",
      "loss: tensor([-29.2833], device='cuda:0', grad_fn=<AddBackward0>):  78%|███████▊  | 234/300 [02:07<00:38,  1.70it/s]\u001b[A"
     ]
    },
    {
     "name": "stdout",
     "output_type": "stream",
     "text": [
      "image updated at \"./210215-054130-A_system_of_cells_interlinked_within_cells_interlinked_within_cells_interlinked_within_one_stem.png\"\n"
     ]
    },
    {
     "name": "stderr",
     "output_type": "stream",
     "text": [
      "\n",
      "loss: tensor([-29.3546], device='cuda:0', grad_fn=<AddBackward0>):  78%|███████▊  | 234/300 [02:08<00:38,  1.70it/s]\u001b[A\n",
      "loss: tensor([-29.3546], device='cuda:0', grad_fn=<AddBackward0>):  78%|███████▊  | 235/300 [02:08<00:38,  1.69it/s]\u001b[A"
     ]
    },
    {
     "name": "stdout",
     "output_type": "stream",
     "text": [
      "image updated at \"./210215-054130-A_system_of_cells_interlinked_within_cells_interlinked_within_cells_interlinked_within_one_stem.png\"\n"
     ]
    },
    {
     "name": "stderr",
     "output_type": "stream",
     "text": [
      "\n",
      "loss: tensor([-29.6277], device='cuda:0', grad_fn=<AddBackward0>):  78%|███████▊  | 235/300 [02:08<00:38,  1.69it/s]\u001b[A\n",
      "loss: tensor([-29.6277], device='cuda:0', grad_fn=<AddBackward0>):  79%|███████▊  | 236/300 [02:08<00:37,  1.69it/s]\u001b[A"
     ]
    },
    {
     "name": "stdout",
     "output_type": "stream",
     "text": [
      "image updated at \"./210215-054130-A_system_of_cells_interlinked_within_cells_interlinked_within_cells_interlinked_within_one_stem.png\"\n"
     ]
    },
    {
     "name": "stderr",
     "output_type": "stream",
     "text": [
      "\n",
      "loss: tensor([-29.5636], device='cuda:0', grad_fn=<AddBackward0>):  79%|███████▊  | 236/300 [02:09<00:37,  1.69it/s]\u001b[A\n",
      "loss: tensor([-29.5636], device='cuda:0', grad_fn=<AddBackward0>):  79%|███████▉  | 237/300 [02:09<00:37,  1.68it/s]\u001b[A"
     ]
    },
    {
     "name": "stdout",
     "output_type": "stream",
     "text": [
      "image updated at \"./210215-054130-A_system_of_cells_interlinked_within_cells_interlinked_within_cells_interlinked_within_one_stem.png\"\n"
     ]
    },
    {
     "name": "stderr",
     "output_type": "stream",
     "text": [
      "\n",
      "loss: tensor([-29.5988], device='cuda:0', grad_fn=<AddBackward0>):  79%|███████▉  | 237/300 [02:10<00:37,  1.68it/s]\u001b[A\n",
      "loss: tensor([-29.5988], device='cuda:0', grad_fn=<AddBackward0>):  79%|███████▉  | 238/300 [02:10<00:37,  1.67it/s]\u001b[A"
     ]
    },
    {
     "name": "stdout",
     "output_type": "stream",
     "text": [
      "image updated at \"./210215-054130-A_system_of_cells_interlinked_within_cells_interlinked_within_cells_interlinked_within_one_stem.png\"\n"
     ]
    },
    {
     "name": "stderr",
     "output_type": "stream",
     "text": [
      "\n",
      "loss: tensor([-29.5061], device='cuda:0', grad_fn=<AddBackward0>):  79%|███████▉  | 238/300 [02:10<00:37,  1.67it/s]\u001b[A\n",
      "loss: tensor([-29.5061], device='cuda:0', grad_fn=<AddBackward0>):  80%|███████▉  | 239/300 [02:10<00:36,  1.67it/s]\u001b[A"
     ]
    },
    {
     "name": "stdout",
     "output_type": "stream",
     "text": [
      "image updated at \"./210215-054130-A_system_of_cells_interlinked_within_cells_interlinked_within_cells_interlinked_within_one_stem.png\"\n"
     ]
    },
    {
     "name": "stderr",
     "output_type": "stream",
     "text": [
      "\n",
      "loss: tensor([-29.5665], device='cuda:0', grad_fn=<AddBackward0>):  80%|███████▉  | 239/300 [02:11<00:36,  1.67it/s]\u001b[A\n",
      "loss: tensor([-29.5665], device='cuda:0', grad_fn=<AddBackward0>):  80%|████████  | 240/300 [02:11<00:35,  1.67it/s]\u001b[A"
     ]
    },
    {
     "name": "stdout",
     "output_type": "stream",
     "text": [
      "image updated at \"./210215-054130-A_system_of_cells_interlinked_within_cells_interlinked_within_cells_interlinked_within_one_stem.png\"\n"
     ]
    },
    {
     "name": "stderr",
     "output_type": "stream",
     "text": [
      "\n",
      "loss: tensor([-29.4083], device='cuda:0', grad_fn=<AddBackward0>):  80%|████████  | 240/300 [02:12<00:35,  1.67it/s]\u001b[A\n",
      "loss: tensor([-29.4083], device='cuda:0', grad_fn=<AddBackward0>):  80%|████████  | 241/300 [02:12<00:35,  1.67it/s]\u001b[A"
     ]
    },
    {
     "name": "stdout",
     "output_type": "stream",
     "text": [
      "image updated at \"./210215-054130-A_system_of_cells_interlinked_within_cells_interlinked_within_cells_interlinked_within_one_stem.png\"\n"
     ]
    },
    {
     "name": "stderr",
     "output_type": "stream",
     "text": [
      "\n",
      "loss: tensor([-29.2487], device='cuda:0', grad_fn=<AddBackward0>):  80%|████████  | 241/300 [02:12<00:35,  1.67it/s]\u001b[A\n",
      "loss: tensor([-29.2487], device='cuda:0', grad_fn=<AddBackward0>):  81%|████████  | 242/300 [02:12<00:34,  1.67it/s]\u001b[A"
     ]
    },
    {
     "name": "stdout",
     "output_type": "stream",
     "text": [
      "image updated at \"./210215-054130-A_system_of_cells_interlinked_within_cells_interlinked_within_cells_interlinked_within_one_stem.png\"\n"
     ]
    },
    {
     "name": "stderr",
     "output_type": "stream",
     "text": [
      "\n",
      "loss: tensor([-29.5353], device='cuda:0', grad_fn=<AddBackward0>):  81%|████████  | 242/300 [02:13<00:34,  1.67it/s]\u001b[A\n",
      "loss: tensor([-29.5353], device='cuda:0', grad_fn=<AddBackward0>):  81%|████████  | 243/300 [02:13<00:34,  1.67it/s]\u001b[A"
     ]
    },
    {
     "name": "stdout",
     "output_type": "stream",
     "text": [
      "image updated at \"./210215-054130-A_system_of_cells_interlinked_within_cells_interlinked_within_cells_interlinked_within_one_stem.png\"\n"
     ]
    },
    {
     "name": "stderr",
     "output_type": "stream",
     "text": [
      "\n",
      "loss: tensor([-29.3856], device='cuda:0', grad_fn=<AddBackward0>):  81%|████████  | 243/300 [02:13<00:34,  1.67it/s]\u001b[A\n",
      "loss: tensor([-29.3856], device='cuda:0', grad_fn=<AddBackward0>):  81%|████████▏ | 244/300 [02:13<00:32,  1.70it/s]\u001b[A"
     ]
    },
    {
     "name": "stdout",
     "output_type": "stream",
     "text": [
      "image updated at \"./210215-054130-A_system_of_cells_interlinked_within_cells_interlinked_within_cells_interlinked_within_one_stem.png\"\n"
     ]
    },
    {
     "name": "stderr",
     "output_type": "stream",
     "text": [
      "\n",
      "loss: tensor([-29.6233], device='cuda:0', grad_fn=<AddBackward0>):  81%|████████▏ | 244/300 [02:14<00:32,  1.70it/s]\u001b[A\n",
      "loss: tensor([-29.6233], device='cuda:0', grad_fn=<AddBackward0>):  82%|████████▏ | 245/300 [02:14<00:32,  1.72it/s]\u001b[A"
     ]
    },
    {
     "name": "stdout",
     "output_type": "stream",
     "text": [
      "image updated at \"./210215-054130-A_system_of_cells_interlinked_within_cells_interlinked_within_cells_interlinked_within_one_stem.png\"\n"
     ]
    },
    {
     "name": "stderr",
     "output_type": "stream",
     "text": [
      "\n",
      "loss: tensor([-29.3664], device='cuda:0', grad_fn=<AddBackward0>):  82%|████████▏ | 245/300 [02:14<00:32,  1.72it/s]\u001b[A\n",
      "loss: tensor([-29.3664], device='cuda:0', grad_fn=<AddBackward0>):  82%|████████▏ | 246/300 [02:14<00:31,  1.74it/s]\u001b[A"
     ]
    },
    {
     "name": "stdout",
     "output_type": "stream",
     "text": [
      "image updated at \"./210215-054130-A_system_of_cells_interlinked_within_cells_interlinked_within_cells_interlinked_within_one_stem.png\"\n"
     ]
    },
    {
     "name": "stderr",
     "output_type": "stream",
     "text": [
      "\n",
      "loss: tensor([-29.3481], device='cuda:0', grad_fn=<AddBackward0>):  82%|████████▏ | 246/300 [02:15<00:31,  1.74it/s]\u001b[A\n",
      "loss: tensor([-29.3481], device='cuda:0', grad_fn=<AddBackward0>):  82%|████████▏ | 247/300 [02:15<00:30,  1.75it/s]\u001b[A"
     ]
    },
    {
     "name": "stdout",
     "output_type": "stream",
     "text": [
      "image updated at \"./210215-054130-A_system_of_cells_interlinked_within_cells_interlinked_within_cells_interlinked_within_one_stem.png\"\n"
     ]
    },
    {
     "name": "stderr",
     "output_type": "stream",
     "text": [
      "\n",
      "loss: tensor([-29.0132], device='cuda:0', grad_fn=<AddBackward0>):  82%|████████▏ | 247/300 [02:15<00:30,  1.75it/s]\u001b[A\n",
      "loss: tensor([-29.0132], device='cuda:0', grad_fn=<AddBackward0>):  83%|████████▎ | 248/300 [02:16<00:29,  1.77it/s]\u001b[A"
     ]
    },
    {
     "name": "stdout",
     "output_type": "stream",
     "text": [
      "image updated at \"./210215-054130-A_system_of_cells_interlinked_within_cells_interlinked_within_cells_interlinked_within_one_stem.png\"\n"
     ]
    },
    {
     "name": "stderr",
     "output_type": "stream",
     "text": [
      "\n",
      "loss: tensor([-29.2549], device='cuda:0', grad_fn=<AddBackward0>):  83%|████████▎ | 248/300 [02:16<00:29,  1.77it/s]\u001b[A\n",
      "loss: tensor([-29.2549], device='cuda:0', grad_fn=<AddBackward0>):  83%|████████▎ | 249/300 [02:16<00:28,  1.78it/s]\u001b[A"
     ]
    },
    {
     "name": "stdout",
     "output_type": "stream",
     "text": [
      "image updated at \"./210215-054130-A_system_of_cells_interlinked_within_cells_interlinked_within_cells_interlinked_within_one_stem.png\"\n"
     ]
    },
    {
     "name": "stderr",
     "output_type": "stream",
     "text": [
      "\n",
      "loss: tensor([-29.4416], device='cuda:0', grad_fn=<AddBackward0>):  83%|████████▎ | 249/300 [02:17<00:28,  1.78it/s]\u001b[A\n",
      "loss: tensor([-29.4416], device='cuda:0', grad_fn=<AddBackward0>):  83%|████████▎ | 250/300 [02:17<00:27,  1.79it/s]\u001b[A"
     ]
    },
    {
     "name": "stdout",
     "output_type": "stream",
     "text": [
      "image updated at \"./210215-054130-A_system_of_cells_interlinked_within_cells_interlinked_within_cells_interlinked_within_one_stem.png\"\n"
     ]
    },
    {
     "name": "stderr",
     "output_type": "stream",
     "text": [
      "\n",
      "loss: tensor([-29.5667], device='cuda:0', grad_fn=<AddBackward0>):  83%|████████▎ | 250/300 [02:17<00:27,  1.79it/s]\u001b[A\n",
      "loss: tensor([-29.5667], device='cuda:0', grad_fn=<AddBackward0>):  84%|████████▎ | 251/300 [02:17<00:27,  1.80it/s]\u001b[A"
     ]
    },
    {
     "name": "stdout",
     "output_type": "stream",
     "text": [
      "image updated at \"./210215-054130-A_system_of_cells_interlinked_within_cells_interlinked_within_cells_interlinked_within_one_stem.png\"\n"
     ]
    },
    {
     "name": "stderr",
     "output_type": "stream",
     "text": [
      "\n",
      "loss: tensor([-29.3821], device='cuda:0', grad_fn=<AddBackward0>):  84%|████████▎ | 251/300 [02:18<00:27,  1.80it/s]\u001b[A\n",
      "loss: tensor([-29.3821], device='cuda:0', grad_fn=<AddBackward0>):  84%|████████▍ | 252/300 [02:18<00:26,  1.80it/s]\u001b[A"
     ]
    },
    {
     "name": "stdout",
     "output_type": "stream",
     "text": [
      "image updated at \"./210215-054130-A_system_of_cells_interlinked_within_cells_interlinked_within_cells_interlinked_within_one_stem.png\"\n"
     ]
    },
    {
     "name": "stderr",
     "output_type": "stream",
     "text": [
      "\n",
      "loss: tensor([-29.6941], device='cuda:0', grad_fn=<AddBackward0>):  84%|████████▍ | 252/300 [02:18<00:26,  1.80it/s]\u001b[A\n",
      "loss: tensor([-29.6941], device='cuda:0', grad_fn=<AddBackward0>):  84%|████████▍ | 253/300 [02:18<00:25,  1.81it/s]\u001b[A"
     ]
    },
    {
     "name": "stdout",
     "output_type": "stream",
     "text": [
      "image updated at \"./210215-054130-A_system_of_cells_interlinked_within_cells_interlinked_within_cells_interlinked_within_one_stem.png\"\n"
     ]
    },
    {
     "name": "stderr",
     "output_type": "stream",
     "text": [
      "\n",
      "loss: tensor([-29.9831], device='cuda:0', grad_fn=<AddBackward0>):  84%|████████▍ | 253/300 [02:19<00:25,  1.81it/s]\u001b[A\n",
      "loss: tensor([-29.9831], device='cuda:0', grad_fn=<AddBackward0>):  85%|████████▍ | 254/300 [02:19<00:25,  1.82it/s]\u001b[A"
     ]
    },
    {
     "name": "stdout",
     "output_type": "stream",
     "text": [
      "image updated at \"./210215-054130-A_system_of_cells_interlinked_within_cells_interlinked_within_cells_interlinked_within_one_stem.png\"\n"
     ]
    },
    {
     "name": "stderr",
     "output_type": "stream",
     "text": [
      "\n",
      "loss: tensor([-29.7938], device='cuda:0', grad_fn=<AddBackward0>):  85%|████████▍ | 254/300 [02:19<00:25,  1.82it/s]\u001b[A\n",
      "loss: tensor([-29.7938], device='cuda:0', grad_fn=<AddBackward0>):  85%|████████▌ | 255/300 [02:19<00:24,  1.82it/s]\u001b[A"
     ]
    },
    {
     "name": "stdout",
     "output_type": "stream",
     "text": [
      "image updated at \"./210215-054130-A_system_of_cells_interlinked_within_cells_interlinked_within_cells_interlinked_within_one_stem.png\"\n"
     ]
    },
    {
     "name": "stderr",
     "output_type": "stream",
     "text": [
      "\n",
      "loss: tensor([-29.5991], device='cuda:0', grad_fn=<AddBackward0>):  85%|████████▌ | 255/300 [02:20<00:24,  1.82it/s]\u001b[A\n",
      "loss: tensor([-29.5991], device='cuda:0', grad_fn=<AddBackward0>):  85%|████████▌ | 256/300 [02:20<00:24,  1.81it/s]\u001b[A"
     ]
    },
    {
     "name": "stdout",
     "output_type": "stream",
     "text": [
      "image updated at \"./210215-054130-A_system_of_cells_interlinked_within_cells_interlinked_within_cells_interlinked_within_one_stem.png\"\n"
     ]
    },
    {
     "name": "stderr",
     "output_type": "stream",
     "text": [
      "\n",
      "loss: tensor([-29.7191], device='cuda:0', grad_fn=<AddBackward0>):  85%|████████▌ | 256/300 [02:20<00:24,  1.81it/s]\u001b[A\n",
      "loss: tensor([-29.7191], device='cuda:0', grad_fn=<AddBackward0>):  86%|████████▌ | 257/300 [02:20<00:23,  1.81it/s]\u001b[A"
     ]
    },
    {
     "name": "stdout",
     "output_type": "stream",
     "text": [
      "image updated at \"./210215-054130-A_system_of_cells_interlinked_within_cells_interlinked_within_cells_interlinked_within_one_stem.png\"\n"
     ]
    },
    {
     "name": "stderr",
     "output_type": "stream",
     "text": [
      "\n",
      "loss: tensor([-29.6886], device='cuda:0', grad_fn=<AddBackward0>):  86%|████████▌ | 257/300 [02:21<00:23,  1.81it/s]\u001b[A\n",
      "loss: tensor([-29.6886], device='cuda:0', grad_fn=<AddBackward0>):  86%|████████▌ | 258/300 [02:21<00:23,  1.82it/s]\u001b[A"
     ]
    },
    {
     "name": "stdout",
     "output_type": "stream",
     "text": [
      "image updated at \"./210215-054130-A_system_of_cells_interlinked_within_cells_interlinked_within_cells_interlinked_within_one_stem.png\"\n"
     ]
    },
    {
     "name": "stderr",
     "output_type": "stream",
     "text": [
      "\n",
      "loss: tensor([-29.6672], device='cuda:0', grad_fn=<AddBackward0>):  86%|████████▌ | 258/300 [02:22<00:23,  1.82it/s]\u001b[A\n",
      "loss: tensor([-29.6672], device='cuda:0', grad_fn=<AddBackward0>):  86%|████████▋ | 259/300 [02:22<00:22,  1.82it/s]\u001b[A"
     ]
    },
    {
     "name": "stdout",
     "output_type": "stream",
     "text": [
      "image updated at \"./210215-054130-A_system_of_cells_interlinked_within_cells_interlinked_within_cells_interlinked_within_one_stem.png\"\n"
     ]
    },
    {
     "name": "stderr",
     "output_type": "stream",
     "text": [
      "\n",
      "loss: tensor([-29.8033], device='cuda:0', grad_fn=<AddBackward0>):  86%|████████▋ | 259/300 [02:22<00:22,  1.82it/s]\u001b[A\n",
      "loss: tensor([-29.8033], device='cuda:0', grad_fn=<AddBackward0>):  87%|████████▋ | 260/300 [02:22<00:21,  1.82it/s]\u001b[A"
     ]
    },
    {
     "name": "stdout",
     "output_type": "stream",
     "text": [
      "image updated at \"./210215-054130-A_system_of_cells_interlinked_within_cells_interlinked_within_cells_interlinked_within_one_stem.png\"\n"
     ]
    },
    {
     "name": "stderr",
     "output_type": "stream",
     "text": [
      "\n",
      "loss: tensor([-29.8647], device='cuda:0', grad_fn=<AddBackward0>):  87%|████████▋ | 260/300 [02:23<00:21,  1.82it/s]\u001b[A\n",
      "loss: tensor([-29.8647], device='cuda:0', grad_fn=<AddBackward0>):  87%|████████▋ | 261/300 [02:23<00:21,  1.82it/s]\u001b[A"
     ]
    },
    {
     "name": "stdout",
     "output_type": "stream",
     "text": [
      "image updated at \"./210215-054130-A_system_of_cells_interlinked_within_cells_interlinked_within_cells_interlinked_within_one_stem.png\"\n"
     ]
    },
    {
     "name": "stderr",
     "output_type": "stream",
     "text": [
      "\n",
      "loss: tensor([-29.2968], device='cuda:0', grad_fn=<AddBackward0>):  87%|████████▋ | 261/300 [02:23<00:21,  1.82it/s]\u001b[A\n",
      "loss: tensor([-29.2968], device='cuda:0', grad_fn=<AddBackward0>):  87%|████████▋ | 262/300 [02:23<00:20,  1.82it/s]\u001b[A"
     ]
    },
    {
     "name": "stdout",
     "output_type": "stream",
     "text": [
      "image updated at \"./210215-054130-A_system_of_cells_interlinked_within_cells_interlinked_within_cells_interlinked_within_one_stem.png\"\n"
     ]
    },
    {
     "name": "stderr",
     "output_type": "stream",
     "text": [
      "\n",
      "loss: tensor([-29.4225], device='cuda:0', grad_fn=<AddBackward0>):  87%|████████▋ | 262/300 [02:24<00:20,  1.82it/s]\u001b[A\n",
      "loss: tensor([-29.4225], device='cuda:0', grad_fn=<AddBackward0>):  88%|████████▊ | 263/300 [02:24<00:20,  1.83it/s]\u001b[A"
     ]
    },
    {
     "name": "stdout",
     "output_type": "stream",
     "text": [
      "image updated at \"./210215-054130-A_system_of_cells_interlinked_within_cells_interlinked_within_cells_interlinked_within_one_stem.png\"\n"
     ]
    },
    {
     "name": "stderr",
     "output_type": "stream",
     "text": [
      "\n",
      "loss: tensor([-29.6463], device='cuda:0', grad_fn=<AddBackward0>):  88%|████████▊ | 263/300 [02:24<00:20,  1.83it/s]\u001b[A\n",
      "loss: tensor([-29.6463], device='cuda:0', grad_fn=<AddBackward0>):  88%|████████▊ | 264/300 [02:24<00:19,  1.83it/s]\u001b[A"
     ]
    },
    {
     "name": "stdout",
     "output_type": "stream",
     "text": [
      "image updated at \"./210215-054130-A_system_of_cells_interlinked_within_cells_interlinked_within_cells_interlinked_within_one_stem.png\"\n"
     ]
    },
    {
     "name": "stderr",
     "output_type": "stream",
     "text": [
      "\n",
      "loss: tensor([-29.6812], device='cuda:0', grad_fn=<AddBackward0>):  88%|████████▊ | 264/300 [02:25<00:19,  1.83it/s]\u001b[A\n",
      "loss: tensor([-29.6812], device='cuda:0', grad_fn=<AddBackward0>):  88%|████████▊ | 265/300 [02:25<00:19,  1.82it/s]\u001b[A"
     ]
    },
    {
     "name": "stdout",
     "output_type": "stream",
     "text": [
      "image updated at \"./210215-054130-A_system_of_cells_interlinked_within_cells_interlinked_within_cells_interlinked_within_one_stem.png\"\n"
     ]
    },
    {
     "name": "stderr",
     "output_type": "stream",
     "text": [
      "\n",
      "loss: tensor([-29.9022], device='cuda:0', grad_fn=<AddBackward0>):  88%|████████▊ | 265/300 [02:25<00:19,  1.82it/s]\u001b[A\n",
      "loss: tensor([-29.9022], device='cuda:0', grad_fn=<AddBackward0>):  89%|████████▊ | 266/300 [02:25<00:18,  1.82it/s]\u001b[A"
     ]
    },
    {
     "name": "stdout",
     "output_type": "stream",
     "text": [
      "image updated at \"./210215-054130-A_system_of_cells_interlinked_within_cells_interlinked_within_cells_interlinked_within_one_stem.png\"\n"
     ]
    },
    {
     "name": "stderr",
     "output_type": "stream",
     "text": [
      "\n",
      "loss: tensor([-29.6323], device='cuda:0', grad_fn=<AddBackward0>):  89%|████████▊ | 266/300 [02:26<00:18,  1.82it/s]\u001b[A\n",
      "loss: tensor([-29.6323], device='cuda:0', grad_fn=<AddBackward0>):  89%|████████▉ | 267/300 [02:26<00:18,  1.82it/s]\u001b[A"
     ]
    },
    {
     "name": "stdout",
     "output_type": "stream",
     "text": [
      "image updated at \"./210215-054130-A_system_of_cells_interlinked_within_cells_interlinked_within_cells_interlinked_within_one_stem.png\"\n"
     ]
    },
    {
     "name": "stderr",
     "output_type": "stream",
     "text": [
      "\n",
      "loss: tensor([-29.9127], device='cuda:0', grad_fn=<AddBackward0>):  89%|████████▉ | 267/300 [02:26<00:18,  1.82it/s]\u001b[A\n",
      "loss: tensor([-29.9127], device='cuda:0', grad_fn=<AddBackward0>):  89%|████████▉ | 268/300 [02:26<00:17,  1.83it/s]\u001b[A"
     ]
    },
    {
     "name": "stdout",
     "output_type": "stream",
     "text": [
      "image updated at \"./210215-054130-A_system_of_cells_interlinked_within_cells_interlinked_within_cells_interlinked_within_one_stem.png\"\n"
     ]
    },
    {
     "name": "stderr",
     "output_type": "stream",
     "text": [
      "\n",
      "loss: tensor([-29.8966], device='cuda:0', grad_fn=<AddBackward0>):  89%|████████▉ | 268/300 [02:27<00:17,  1.83it/s]\u001b[A\n",
      "loss: tensor([-29.8966], device='cuda:0', grad_fn=<AddBackward0>):  90%|████████▉ | 269/300 [02:27<00:17,  1.82it/s]\u001b[A"
     ]
    },
    {
     "name": "stdout",
     "output_type": "stream",
     "text": [
      "image updated at \"./210215-054130-A_system_of_cells_interlinked_within_cells_interlinked_within_cells_interlinked_within_one_stem.png\"\n"
     ]
    },
    {
     "name": "stderr",
     "output_type": "stream",
     "text": [
      "\n",
      "loss: tensor([-29.9044], device='cuda:0', grad_fn=<AddBackward0>):  90%|████████▉ | 269/300 [02:28<00:17,  1.82it/s]\u001b[A\n",
      "loss: tensor([-29.9044], device='cuda:0', grad_fn=<AddBackward0>):  90%|█████████ | 270/300 [02:28<00:16,  1.82it/s]\u001b[A"
     ]
    },
    {
     "name": "stdout",
     "output_type": "stream",
     "text": [
      "image updated at \"./210215-054130-A_system_of_cells_interlinked_within_cells_interlinked_within_cells_interlinked_within_one_stem.png\"\n"
     ]
    },
    {
     "name": "stderr",
     "output_type": "stream",
     "text": [
      "\n",
      "loss: tensor([-30.3040], device='cuda:0', grad_fn=<AddBackward0>):  90%|█████████ | 270/300 [02:28<00:16,  1.82it/s]\u001b[A\n",
      "loss: tensor([-30.3040], device='cuda:0', grad_fn=<AddBackward0>):  90%|█████████ | 271/300 [02:28<00:15,  1.81it/s]\u001b[A"
     ]
    },
    {
     "name": "stdout",
     "output_type": "stream",
     "text": [
      "image updated at \"./210215-054130-A_system_of_cells_interlinked_within_cells_interlinked_within_cells_interlinked_within_one_stem.png\"\n"
     ]
    },
    {
     "name": "stderr",
     "output_type": "stream",
     "text": [
      "\n",
      "loss: tensor([-30.1793], device='cuda:0', grad_fn=<AddBackward0>):  90%|█████████ | 271/300 [02:29<00:15,  1.81it/s]\u001b[A\n",
      "loss: tensor([-30.1793], device='cuda:0', grad_fn=<AddBackward0>):  91%|█████████ | 272/300 [02:29<00:15,  1.80it/s]\u001b[A"
     ]
    },
    {
     "name": "stdout",
     "output_type": "stream",
     "text": [
      "image updated at \"./210215-054130-A_system_of_cells_interlinked_within_cells_interlinked_within_cells_interlinked_within_one_stem.png\"\n"
     ]
    },
    {
     "name": "stderr",
     "output_type": "stream",
     "text": [
      "\n",
      "loss: tensor([-30.1882], device='cuda:0', grad_fn=<AddBackward0>):  91%|█████████ | 272/300 [02:29<00:15,  1.80it/s]\u001b[A\n",
      "loss: tensor([-30.1882], device='cuda:0', grad_fn=<AddBackward0>):  91%|█████████ | 273/300 [02:29<00:15,  1.78it/s]\u001b[A"
     ]
    },
    {
     "name": "stdout",
     "output_type": "stream",
     "text": [
      "image updated at \"./210215-054130-A_system_of_cells_interlinked_within_cells_interlinked_within_cells_interlinked_within_one_stem.png\"\n"
     ]
    },
    {
     "name": "stderr",
     "output_type": "stream",
     "text": [
      "\n",
      "loss: tensor([-29.5648], device='cuda:0', grad_fn=<AddBackward0>):  91%|█████████ | 273/300 [02:30<00:15,  1.78it/s]\u001b[A\n",
      "loss: tensor([-29.5648], device='cuda:0', grad_fn=<AddBackward0>):  91%|█████████▏| 274/300 [02:30<00:14,  1.78it/s]\u001b[A"
     ]
    },
    {
     "name": "stdout",
     "output_type": "stream",
     "text": [
      "image updated at \"./210215-054130-A_system_of_cells_interlinked_within_cells_interlinked_within_cells_interlinked_within_one_stem.png\"\n"
     ]
    },
    {
     "name": "stderr",
     "output_type": "stream",
     "text": [
      "\n",
      "loss: tensor([-29.7397], device='cuda:0', grad_fn=<AddBackward0>):  91%|█████████▏| 274/300 [02:30<00:14,  1.78it/s]\u001b[A\n",
      "loss: tensor([-29.7397], device='cuda:0', grad_fn=<AddBackward0>):  92%|█████████▏| 275/300 [02:30<00:14,  1.77it/s]\u001b[A"
     ]
    },
    {
     "name": "stdout",
     "output_type": "stream",
     "text": [
      "image updated at \"./210215-054130-A_system_of_cells_interlinked_within_cells_interlinked_within_cells_interlinked_within_one_stem.png\"\n"
     ]
    },
    {
     "name": "stderr",
     "output_type": "stream",
     "text": [
      "\n",
      "loss: tensor([-30.3584], device='cuda:0', grad_fn=<AddBackward0>):  92%|█████████▏| 275/300 [02:31<00:14,  1.77it/s]\u001b[A\n",
      "loss: tensor([-30.3584], device='cuda:0', grad_fn=<AddBackward0>):  92%|█████████▏| 276/300 [02:31<00:13,  1.79it/s]\u001b[A"
     ]
    },
    {
     "name": "stdout",
     "output_type": "stream",
     "text": [
      "image updated at \"./210215-054130-A_system_of_cells_interlinked_within_cells_interlinked_within_cells_interlinked_within_one_stem.png\"\n"
     ]
    },
    {
     "name": "stderr",
     "output_type": "stream",
     "text": [
      "\n",
      "loss: tensor([-29.0514], device='cuda:0', grad_fn=<AddBackward0>):  92%|█████████▏| 276/300 [02:31<00:13,  1.79it/s]\u001b[A\n",
      "loss: tensor([-29.0514], device='cuda:0', grad_fn=<AddBackward0>):  92%|█████████▏| 277/300 [02:32<00:12,  1.80it/s]\u001b[A"
     ]
    },
    {
     "name": "stdout",
     "output_type": "stream",
     "text": [
      "image updated at \"./210215-054130-A_system_of_cells_interlinked_within_cells_interlinked_within_cells_interlinked_within_one_stem.png\"\n"
     ]
    },
    {
     "name": "stderr",
     "output_type": "stream",
     "text": [
      "\n",
      "loss: tensor([-29.7123], device='cuda:0', grad_fn=<AddBackward0>):  92%|█████████▏| 277/300 [02:32<00:12,  1.80it/s]\u001b[A\n",
      "loss: tensor([-29.7123], device='cuda:0', grad_fn=<AddBackward0>):  93%|█████████▎| 278/300 [02:32<00:12,  1.80it/s]\u001b[A"
     ]
    },
    {
     "name": "stdout",
     "output_type": "stream",
     "text": [
      "image updated at \"./210215-054130-A_system_of_cells_interlinked_within_cells_interlinked_within_cells_interlinked_within_one_stem.png\"\n"
     ]
    },
    {
     "name": "stderr",
     "output_type": "stream",
     "text": [
      "\n",
      "loss: tensor([-29.9304], device='cuda:0', grad_fn=<AddBackward0>):  93%|█████████▎| 278/300 [02:33<00:12,  1.80it/s]\u001b[A\n",
      "loss: tensor([-29.9304], device='cuda:0', grad_fn=<AddBackward0>):  93%|█████████▎| 279/300 [02:33<00:11,  1.81it/s]\u001b[A"
     ]
    },
    {
     "name": "stdout",
     "output_type": "stream",
     "text": [
      "image updated at \"./210215-054130-A_system_of_cells_interlinked_within_cells_interlinked_within_cells_interlinked_within_one_stem.png\"\n"
     ]
    },
    {
     "name": "stderr",
     "output_type": "stream",
     "text": [
      "\n",
      "loss: tensor([-29.7125], device='cuda:0', grad_fn=<AddBackward0>):  93%|█████████▎| 279/300 [02:33<00:11,  1.81it/s]\u001b[A\n",
      "loss: tensor([-29.7125], device='cuda:0', grad_fn=<AddBackward0>):  93%|█████████▎| 280/300 [02:33<00:11,  1.81it/s]\u001b[A"
     ]
    },
    {
     "name": "stdout",
     "output_type": "stream",
     "text": [
      "image updated at \"./210215-054130-A_system_of_cells_interlinked_within_cells_interlinked_within_cells_interlinked_within_one_stem.png\"\n"
     ]
    },
    {
     "name": "stderr",
     "output_type": "stream",
     "text": [
      "\n",
      "loss: tensor([-29.4982], device='cuda:0', grad_fn=<AddBackward0>):  93%|█████████▎| 280/300 [02:34<00:11,  1.81it/s]\u001b[A\n",
      "loss: tensor([-29.4982], device='cuda:0', grad_fn=<AddBackward0>):  94%|█████████▎| 281/300 [02:34<00:10,  1.82it/s]\u001b[A"
     ]
    },
    {
     "name": "stdout",
     "output_type": "stream",
     "text": [
      "image updated at \"./210215-054130-A_system_of_cells_interlinked_within_cells_interlinked_within_cells_interlinked_within_one_stem.png\"\n"
     ]
    },
    {
     "name": "stderr",
     "output_type": "stream",
     "text": [
      "\n",
      "loss: tensor([-29.7110], device='cuda:0', grad_fn=<AddBackward0>):  94%|█████████▎| 281/300 [02:34<00:10,  1.82it/s]\u001b[A\n",
      "loss: tensor([-29.7110], device='cuda:0', grad_fn=<AddBackward0>):  94%|█████████▍| 282/300 [02:34<00:09,  1.81it/s]\u001b[A"
     ]
    },
    {
     "name": "stdout",
     "output_type": "stream",
     "text": [
      "image updated at \"./210215-054130-A_system_of_cells_interlinked_within_cells_interlinked_within_cells_interlinked_within_one_stem.png\"\n"
     ]
    },
    {
     "name": "stderr",
     "output_type": "stream",
     "text": [
      "\n",
      "loss: tensor([-29.5817], device='cuda:0', grad_fn=<AddBackward0>):  94%|█████████▍| 282/300 [02:35<00:09,  1.81it/s]\u001b[A\n",
      "loss: tensor([-29.5817], device='cuda:0', grad_fn=<AddBackward0>):  94%|█████████▍| 283/300 [02:35<00:09,  1.82it/s]\u001b[A"
     ]
    },
    {
     "name": "stdout",
     "output_type": "stream",
     "text": [
      "image updated at \"./210215-054130-A_system_of_cells_interlinked_within_cells_interlinked_within_cells_interlinked_within_one_stem.png\"\n"
     ]
    },
    {
     "name": "stderr",
     "output_type": "stream",
     "text": [
      "\n",
      "loss: tensor([-29.3646], device='cuda:0', grad_fn=<AddBackward0>):  94%|█████████▍| 283/300 [02:35<00:09,  1.82it/s]\u001b[A\n",
      "loss: tensor([-29.3646], device='cuda:0', grad_fn=<AddBackward0>):  95%|█████████▍| 284/300 [02:35<00:08,  1.82it/s]\u001b[A"
     ]
    },
    {
     "name": "stdout",
     "output_type": "stream",
     "text": [
      "image updated at \"./210215-054130-A_system_of_cells_interlinked_within_cells_interlinked_within_cells_interlinked_within_one_stem.png\"\n"
     ]
    },
    {
     "name": "stderr",
     "output_type": "stream",
     "text": [
      "\n",
      "loss: tensor([-29.5243], device='cuda:0', grad_fn=<AddBackward0>):  95%|█████████▍| 284/300 [02:36<00:08,  1.82it/s]\u001b[A\n",
      "loss: tensor([-29.5243], device='cuda:0', grad_fn=<AddBackward0>):  95%|█████████▌| 285/300 [02:36<00:08,  1.82it/s]\u001b[A"
     ]
    },
    {
     "name": "stdout",
     "output_type": "stream",
     "text": [
      "image updated at \"./210215-054130-A_system_of_cells_interlinked_within_cells_interlinked_within_cells_interlinked_within_one_stem.png\"\n"
     ]
    },
    {
     "name": "stderr",
     "output_type": "stream",
     "text": [
      "\n",
      "loss: tensor([-29.3660], device='cuda:0', grad_fn=<AddBackward0>):  95%|█████████▌| 285/300 [02:36<00:08,  1.82it/s]\u001b[A\n",
      "loss: tensor([-29.3660], device='cuda:0', grad_fn=<AddBackward0>):  95%|█████████▌| 286/300 [02:36<00:07,  1.82it/s]\u001b[A"
     ]
    },
    {
     "name": "stdout",
     "output_type": "stream",
     "text": [
      "image updated at \"./210215-054130-A_system_of_cells_interlinked_within_cells_interlinked_within_cells_interlinked_within_one_stem.png\"\n"
     ]
    },
    {
     "name": "stderr",
     "output_type": "stream",
     "text": [
      "\n",
      "loss: tensor([-29.2386], device='cuda:0', grad_fn=<AddBackward0>):  95%|█████████▌| 286/300 [02:37<00:07,  1.82it/s]\u001b[A\n",
      "loss: tensor([-29.2386], device='cuda:0', grad_fn=<AddBackward0>):  96%|█████████▌| 287/300 [02:37<00:07,  1.83it/s]\u001b[A"
     ]
    },
    {
     "name": "stdout",
     "output_type": "stream",
     "text": [
      "image updated at \"./210215-054130-A_system_of_cells_interlinked_within_cells_interlinked_within_cells_interlinked_within_one_stem.png\"\n"
     ]
    },
    {
     "name": "stderr",
     "output_type": "stream",
     "text": [
      "\n",
      "loss: tensor([-29.2053], device='cuda:0', grad_fn=<AddBackward0>):  96%|█████████▌| 287/300 [02:38<00:07,  1.83it/s]\u001b[A\n",
      "loss: tensor([-29.2053], device='cuda:0', grad_fn=<AddBackward0>):  96%|█████████▌| 288/300 [02:38<00:06,  1.82it/s]\u001b[A"
     ]
    },
    {
     "name": "stdout",
     "output_type": "stream",
     "text": [
      "image updated at \"./210215-054130-A_system_of_cells_interlinked_within_cells_interlinked_within_cells_interlinked_within_one_stem.png\"\n"
     ]
    },
    {
     "name": "stderr",
     "output_type": "stream",
     "text": [
      "\n",
      "loss: tensor([-29.3607], device='cuda:0', grad_fn=<AddBackward0>):  96%|█████████▌| 288/300 [02:38<00:06,  1.82it/s]\u001b[A\n",
      "loss: tensor([-29.3607], device='cuda:0', grad_fn=<AddBackward0>):  96%|█████████▋| 289/300 [02:38<00:06,  1.83it/s]\u001b[A"
     ]
    },
    {
     "name": "stdout",
     "output_type": "stream",
     "text": [
      "image updated at \"./210215-054130-A_system_of_cells_interlinked_within_cells_interlinked_within_cells_interlinked_within_one_stem.png\"\n"
     ]
    },
    {
     "name": "stderr",
     "output_type": "stream",
     "text": [
      "\n",
      "loss: tensor([-29.5835], device='cuda:0', grad_fn=<AddBackward0>):  96%|█████████▋| 289/300 [02:39<00:06,  1.83it/s]\u001b[A\n",
      "loss: tensor([-29.5835], device='cuda:0', grad_fn=<AddBackward0>):  97%|█████████▋| 290/300 [02:39<00:05,  1.81it/s]\u001b[A"
     ]
    },
    {
     "name": "stdout",
     "output_type": "stream",
     "text": [
      "image updated at \"./210215-054130-A_system_of_cells_interlinked_within_cells_interlinked_within_cells_interlinked_within_one_stem.png\"\n"
     ]
    },
    {
     "name": "stderr",
     "output_type": "stream",
     "text": [
      "\n",
      "loss: tensor([-29.7958], device='cuda:0', grad_fn=<AddBackward0>):  97%|█████████▋| 290/300 [02:39<00:05,  1.81it/s]\u001b[A\n",
      "loss: tensor([-29.7958], device='cuda:0', grad_fn=<AddBackward0>):  97%|█████████▋| 291/300 [02:39<00:04,  1.82it/s]\u001b[A"
     ]
    },
    {
     "name": "stdout",
     "output_type": "stream",
     "text": [
      "image updated at \"./210215-054130-A_system_of_cells_interlinked_within_cells_interlinked_within_cells_interlinked_within_one_stem.png\"\n"
     ]
    },
    {
     "name": "stderr",
     "output_type": "stream",
     "text": [
      "\n",
      "loss: tensor([-29.4544], device='cuda:0', grad_fn=<AddBackward0>):  97%|█████████▋| 291/300 [02:40<00:04,  1.82it/s]\u001b[A\n",
      "loss: tensor([-29.4544], device='cuda:0', grad_fn=<AddBackward0>):  97%|█████████▋| 292/300 [02:40<00:04,  1.82it/s]\u001b[A"
     ]
    },
    {
     "name": "stdout",
     "output_type": "stream",
     "text": [
      "image updated at \"./210215-054130-A_system_of_cells_interlinked_within_cells_interlinked_within_cells_interlinked_within_one_stem.png\"\n"
     ]
    },
    {
     "name": "stderr",
     "output_type": "stream",
     "text": [
      "\n",
      "loss: tensor([-29.8001], device='cuda:0', grad_fn=<AddBackward0>):  97%|█████████▋| 292/300 [02:40<00:04,  1.82it/s]\u001b[A\n",
      "loss: tensor([-29.8001], device='cuda:0', grad_fn=<AddBackward0>):  98%|█████████▊| 293/300 [02:40<00:03,  1.80it/s]\u001b[A"
     ]
    },
    {
     "name": "stdout",
     "output_type": "stream",
     "text": [
      "image updated at \"./210215-054130-A_system_of_cells_interlinked_within_cells_interlinked_within_cells_interlinked_within_one_stem.png\"\n"
     ]
    },
    {
     "name": "stderr",
     "output_type": "stream",
     "text": [
      "\n",
      "loss: tensor([-29.7069], device='cuda:0', grad_fn=<AddBackward0>):  98%|█████████▊| 293/300 [02:41<00:03,  1.80it/s]\u001b[A\n",
      "loss: tensor([-29.7069], device='cuda:0', grad_fn=<AddBackward0>):  98%|█████████▊| 294/300 [02:41<00:03,  1.82it/s]\u001b[A"
     ]
    },
    {
     "name": "stdout",
     "output_type": "stream",
     "text": [
      "image updated at \"./210215-054130-A_system_of_cells_interlinked_within_cells_interlinked_within_cells_interlinked_within_one_stem.png\"\n"
     ]
    },
    {
     "name": "stderr",
     "output_type": "stream",
     "text": [
      "\n",
      "loss: tensor([-30.0741], device='cuda:0', grad_fn=<AddBackward0>):  98%|█████████▊| 294/300 [02:41<00:03,  1.82it/s]\u001b[A\n",
      "loss: tensor([-30.0741], device='cuda:0', grad_fn=<AddBackward0>):  98%|█████████▊| 295/300 [02:41<00:02,  1.82it/s]\u001b[A"
     ]
    },
    {
     "name": "stdout",
     "output_type": "stream",
     "text": [
      "image updated at \"./210215-054130-A_system_of_cells_interlinked_within_cells_interlinked_within_cells_interlinked_within_one_stem.png\"\n"
     ]
    },
    {
     "name": "stderr",
     "output_type": "stream",
     "text": [
      "\n",
      "loss: tensor([-29.7012], device='cuda:0', grad_fn=<AddBackward0>):  98%|█████████▊| 295/300 [02:42<00:02,  1.82it/s]\u001b[A\n",
      "loss: tensor([-29.7012], device='cuda:0', grad_fn=<AddBackward0>):  99%|█████████▊| 296/300 [02:42<00:02,  1.82it/s]\u001b[A"
     ]
    },
    {
     "name": "stdout",
     "output_type": "stream",
     "text": [
      "image updated at \"./210215-054130-A_system_of_cells_interlinked_within_cells_interlinked_within_cells_interlinked_within_one_stem.png\"\n"
     ]
    },
    {
     "name": "stderr",
     "output_type": "stream",
     "text": [
      "\n",
      "loss: tensor([-29.8572], device='cuda:0', grad_fn=<AddBackward0>):  99%|█████████▊| 296/300 [02:42<00:02,  1.82it/s]\u001b[A\n",
      "loss: tensor([-29.8572], device='cuda:0', grad_fn=<AddBackward0>):  99%|█████████▉| 297/300 [02:42<00:01,  1.83it/s]\u001b[A"
     ]
    },
    {
     "name": "stdout",
     "output_type": "stream",
     "text": [
      "image updated at \"./210215-054130-A_system_of_cells_interlinked_within_cells_interlinked_within_cells_interlinked_within_one_stem.png\"\n"
     ]
    },
    {
     "name": "stderr",
     "output_type": "stream",
     "text": [
      "\n",
      "loss: tensor([-29.7060], device='cuda:0', grad_fn=<AddBackward0>):  99%|█████████▉| 297/300 [02:43<00:01,  1.83it/s]\u001b[A\n",
      "loss: tensor([-29.7060], device='cuda:0', grad_fn=<AddBackward0>):  99%|█████████▉| 298/300 [02:43<00:01,  1.84it/s]\u001b[A"
     ]
    },
    {
     "name": "stdout",
     "output_type": "stream",
     "text": [
      "image updated at \"./210215-054130-A_system_of_cells_interlinked_within_cells_interlinked_within_cells_interlinked_within_one_stem.png\"\n"
     ]
    },
    {
     "name": "stderr",
     "output_type": "stream",
     "text": [
      "\n",
      "loss: tensor([-29.6099], device='cuda:0', grad_fn=<AddBackward0>):  99%|█████████▉| 298/300 [02:44<00:01,  1.84it/s]\u001b[A\n",
      "loss: tensor([-29.6099], device='cuda:0', grad_fn=<AddBackward0>): 100%|█████████▉| 299/300 [02:44<00:00,  1.84it/s]\u001b[A"
     ]
    },
    {
     "name": "stdout",
     "output_type": "stream",
     "text": [
      "image updated at \"./210215-054130-A_system_of_cells_interlinked_within_cells_interlinked_within_cells_interlinked_within_one_stem.png\"\n"
     ]
    },
    {
     "name": "stderr",
     "output_type": "stream",
     "text": [
      "\n",
      "loss: tensor([-29.7328], device='cuda:0', grad_fn=<AddBackward0>): 100%|█████████▉| 299/300 [02:44<00:00,  1.84it/s]\u001b[A\n",
      "loss: tensor([-29.7328], device='cuda:0', grad_fn=<AddBackward0>): 100%|██████████| 300/300 [02:44<00:00,  1.82it/s]\u001b[A\n",
      "epochs: 100%|██████████| 4/4 [10:34<00:00, 158.66s/it]"
     ]
    },
    {
     "name": "stdout",
     "output_type": "stream",
     "text": [
      "image updated at \"./210215-054130-A_system_of_cells_interlinked_within_cells_interlinked_within_cells_interlinked_within_one_stem.png\"\n"
     ]
    },
    {
     "name": "stderr",
     "output_type": "stream",
     "text": [
      "\n"
     ]
    }
   ],
   "source": [
    "\n",
    "\n",
    "phrase_one = \"And blood-black nothingness began to spin a system of cells interlinked\" #@param {type:\"string\"}\n",
    "phrase_two = \"A system of cells interlinked within cells interlinked within cells interlinked within one stem\" #@param {type:\"string\"}\n",
    "phrase_three = \"And dreadfully distinct against the dark a tall white fountain played\" #@param {type:\"string\"}\n",
    "phrase_four = \"A system of cells interlinked within cells interlinked within cells interlinked within one stem\" #@param {type:\"string\"}\n",
    "phrase_five = \"\" #@param {type:\"string\"}\n",
    "phrase_six = \"\" #@param {type:\"string\"}\n",
    "user_provided_phrases = [phrase_one, phrase_two, phrase_three, phrase_four, phrase_five, phrase_six]\n",
    "\n",
    "texts = [non_empty_phrase for non_empty_phrase in user_provided_phrases if non_empty_phrase is not \"\"]\n",
    "\n",
    "from tqdm import trange\n",
    "\n",
    "import os\n",
    "import signal\n",
    "from random import randrange\n",
    "import random as rnd\n",
    "from big_sleep import Dream\n",
    "import torch\n",
    "from torch import nn\n",
    "\n",
    "tmp_path = \"/root/big-sleep-pycharm/output\"\n",
    "\n",
    "try:\n",
    "    os.mkdir(tmp_path)\n",
    "except OSError:\n",
    "    print(\"Creation of the directory %s failed\" % tmp_path)\n",
    "else:\n",
    "    print(\"Successfully created the directory %s \" % tmp_path)\n",
    "\n",
    "try:\n",
    "    os.chdir(tmp_path)\n",
    "except OSError:\n",
    "    print(\"Changing into directory %s failed\" % tmp_path)\n",
    "else:\n",
    "    print(\"Successfully changed into directory %s\" % tmp_path)\n",
    "\n",
    "terminate = False\n",
    "\n",
    "\n",
    "def signal_handling(signum, frame):\n",
    "    global terminate\n",
    "    terminate = True\n",
    "\n",
    "\n",
    "signal.signal(signal.SIGINT, signal_handling)\n",
    "\n",
    "lr = .07 #@param {type:\"number\"}\n",
    "image_size = 512 #@param {type:\"integer\"}\n",
    "iterations = 300 #@param {type:\"integer\"}\n",
    "save_every = 1 #@param {type:\"integer\"}\n",
    "overwrite = True #@param {type:\"boolean\"}\n",
    "save_progress = False #@param {type:\"boolean\"}\n",
    "save_date_time = True #@param {type:\"boolean\"}\n",
    "bilinear = False #@param {type:\"boolean\"}\n",
    "open_folder = True #@param {type:\"boolean\"}\n",
    "seed = 0 #@param {type:\"integer\"}\n",
    "random = True #@param {type:\"boolean\"}\n",
    "torch_deterministic = False #@param {type:\"boolean\"}\n",
    "max_classes = None #@param {type:\"raw\"}\n",
    "class_temperature = 2. #@param {type:\"number\"}\n",
    "save_best = True #@param {type:\"boolean\"}\n",
    "experimental_resample = False #@param {type:\"boolean\"}\n",
    "\n",
    "epochs = len(texts)\n",
    "gradient_accumulate_every = 1\n",
    "text = texts[0]\n",
    "\n",
    "if random:\n",
    "    seed = randrange(int(1e6))\n",
    "\n",
    "model = Dream(\n",
    "    text,\n",
    "    lr=lr,\n",
    "    image_size=image_size,\n",
    "    gradient_accumulate_every=gradient_accumulate_every,\n",
    "    epochs=epochs,\n",
    "    iterations=iterations,\n",
    "    save_every=save_every,\n",
    "    save_progress=save_progress,\n",
    "    bilinear=bilinear,\n",
    "    seed=seed,\n",
    "    torch_deterministic=torch_deterministic,\n",
    "    open_folder=open_folder,\n",
    "    max_classes=max_classes,\n",
    "    class_temperature=class_temperature,\n",
    "    save_date_time=save_date_time,\n",
    "    save_best=save_best,\n",
    "    experimental_resample=experimental_resample,\n",
    ").cuda(0)\n",
    "model = nn.DataParallel(model)\n",
    "\n",
    "# In order per epoch phrase training\n",
    "for epoch in trange(epochs, desc='epochs'):\n",
    "    iter_pbar = trange(iterations, desc='iteration')\n",
    "    text = texts[epoch]\n",
    "    model.module.set_text(text)\n",
    "    for i in iter_pbar:\n",
    "        loss = model.module.train_step(epoch, i)\n",
    "        iter_pbar.set_description(f\"loss: {loss}\")\n",
    "        if terminate:\n",
    "            print('detecting keyboard interrupt, gracefully exiting')\n",
    "            os.sys.exit()"
   ]
  },
  {
   "cell_type": "code",
   "execution_count": null,
   "metadata": {},
   "outputs": [],
   "source": []
  }
 ],
 "metadata": {
  "kernelspec": {
   "display_name": "Python 3",
   "language": "python",
   "name": "python3"
  },
  "language_info": {
   "codemirror_mode": {
    "name": "ipython",
    "version": 3
   },
   "file_extension": ".py",
   "mimetype": "text/x-python",
   "name": "python",
   "nbconvert_exporter": "python",
   "pygments_lexer": "ipython3",
   "version": "3.8.5"
  },
  "pycharm": {
   "stem_cell": {
    "cell_type": "raw",
    "metadata": {
     "collapsed": false
    },
    "source": [
     "from big_sleep import Imagine as Dream\n",
     "import torch\n",
     "\n",
     "lr = .07 #@param {type:\"number\"}\n",
     "image_size = 512 #@param {type:\"integer\"}\n",
     "iterations = 300 #@param {type:\"integer\"}\n",
     "save_every = 1 #@param {type:\"integer\"}\n",
     "overwrite = True #@param {type:\"boolean\"}\n",
     "save_progress = False #@param {type:\"boolean\"}\n",
     "save_date_time = True #@param {type:\"boolean\"}\n",
     "bilinear = False #@param {type:\"boolean\"}\n",
     "open_folder = True #@param {type:\"boolean\"}\n",
     "seed = 0 #@param {type:\"integer\"}\n",
     "random = True #@param {type:\"boolean\"}\n",
     "torch_deterministic = False #@param {type:\"boolean\"}\n",
     "max_classes = None #@param {type:\"raw\"}\n",
     "class_temperature = 2. #@param {type:\"number\"}\n",
     "save_best = True #@param {type:\"boolean\"}\n",
     "experimental_resample = False #@param {type:\"boolean\"}\n",
     "gradient_accumulate_every = 1\n",
     "text = texts[0]\n",
     "\n",
     "if random:\n",
     "    seed = randrange(int(1e6))\n",
     "\n",
     "model = Dream(\n",
     "    text,\n",
     "    lr=lr,\n",
     "    image_size=image_size,\n",
     "    gradient_accumulate_every=gradient_accumulate_every,\n",
     "    epochs=epochs,\n",
     "    iterations=iterations,\n",
     "    save_every=save_every,\n",
     "    save_progress=save_progress,\n",
     "    bilinear=bilinear,\n",
     "    seed=seed,\n",
     "    torch_deterministic=torch_deterministic,\n",
     "    open_folder=open_folder,\n",
     "    max_classes=max_classes,\n",
     "    class_temperature=class_temperature,\n",
     "    save_date_time=save_date_time,\n",
     "    save_best=save_best,\n",
     "    experimental_resample=experimental_resample,\n",
     ").cuda(0)\n",
     "dream = torch.nn.DataParallel(model)\n",
     "\n",
     "# In order per epoch phrase training\n",
     "for epoch in trange(epochs, desc='epochs'):\n",
     "    iter_pbar = trange(iterations, desc='iteration')\n",
     "    for i in iter_pbar:\n",
     "        loss = model.train_step(epoch, i)\n",
     "        iter_pbar.set_description(f\"loss: {loss}\")\n",
     "        if terminate:\n",
     "            print('detecting keyboard interrupt, gracefully exiting')\n",
     "            os.sys.exit()"
    ]
   }
  }
 },
 "nbformat": 4,
 "nbformat_minor": 1
}
