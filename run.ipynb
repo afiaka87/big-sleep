{
 "cells": [],
 "metadata": {
  "kernelspec": {
   "display_name": "Python 3",
   "language": "python",
   "name": "python3"
  },
  "language_info": {
   "codemirror_mode": {
    "name": "ipython",
    "version": 2
   },
   "file_extension": ".py",
   "mimetype": "text/x-python",
   "name": "python",
   "nbconvert_exporter": "python",
   "pygments_lexer": "ipython2",
   "version": "2.7.6"
  },
  "pycharm": {
   "stem_cell": {
    "cell_type": "raw",
    "source": [
     "from big_sleep import Imagine as Dream\n",
     "import torch\n",
     "\n",
     "lr = .07 #@param {type:\"number\"}\n",
     "image_size = 512 #@param {type:\"integer\"}\n",
     "iterations = 300 #@param {type:\"integer\"}\n",
     "save_every = 1 #@param {type:\"integer\"}\n",
     "overwrite = True #@param {type:\"boolean\"}\n",
     "save_progress = False #@param {type:\"boolean\"}\n",
     "save_date_time = True #@param {type:\"boolean\"}\n",
     "bilinear = False #@param {type:\"boolean\"}\n",
     "open_folder = True #@param {type:\"boolean\"}\n",
     "seed = 0 #@param {type:\"integer\"}\n",
     "random = True #@param {type:\"boolean\"}\n",
     "torch_deterministic = False #@param {type:\"boolean\"}\n",
     "max_classes = None #@param {type:\"raw\"}\n",
     "class_temperature = 2. #@param {type:\"number\"}\n",
     "save_best = True #@param {type:\"boolean\"}\n",
     "experimental_resample = False #@param {type:\"boolean\"}\n",
     "gradient_accumulate_every = 1\n",
     "text = texts[0]\n",
     "\n",
     "if random:\n",
     "    seed = randrange(int(1e6))\n",
     "\n",
     "model = Dream(\n",
     "    text,\n",
     "    lr=lr,\n",
     "    image_size=image_size,\n",
     "    gradient_accumulate_every=gradient_accumulate_every,\n",
     "    epochs=epochs,\n",
     "    iterations=iterations,\n",
     "    save_every=save_every,\n",
     "    save_progress=save_progress,\n",
     "    bilinear=bilinear,\n",
     "    seed=seed,\n",
     "    torch_deterministic=torch_deterministic,\n",
     "    open_folder=open_folder,\n",
     "    max_classes=max_classes,\n",
     "    class_temperature=class_temperature,\n",
     "    save_date_time=save_date_time,\n",
     "    save_best=save_best,\n",
     "    experimental_resample=experimental_resample,\n",
     ").cuda(0)\n",
     "dream = torch.nn.DataParallel(model)\n",
     "\n",
     "# In order per epoch phrase training\n",
     "for epoch in trange(epochs, desc='epochs'):\n",
     "    iter_pbar = trange(iterations, desc='iteration')\n",
     "    for i in iter_pbar:\n",
     "        loss = model.train_step(epoch, i)\n",
     "        iter_pbar.set_description(f\"loss: {loss}\")\n",
     "        if terminate:\n",
     "            print('detecting keyboard interrupt, gracefully exiting')\n",
     "            os.sys.exit()"
    ],
    "metadata": {
     "collapsed": false
    }
   }
  }
 },
 "nbformat": 4,
 "nbformat_minor": 0
}